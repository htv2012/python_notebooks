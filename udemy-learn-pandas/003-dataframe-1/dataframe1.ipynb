{
 "cells": [
  {
   "cell_type": "markdown",
   "id": "7531175a-f652-4627-a80a-b6ad1f0af9a3",
   "metadata": {},
   "source": [
    "# Dataframe\n",
    "\n",
    "- Axis 0 is the index\n",
    "- Axis 1 is the columns"
   ]
  },
  {
   "cell_type": "markdown",
   "id": "daa1d0aa-8e56-4293-abfe-1b0bd18e191a",
   "metadata": {},
   "source": [
    "## Chapter 17 - Introduction"
   ]
  },
  {
   "cell_type": "code",
   "execution_count": 1,
   "id": "bcd6b004-d4f0-4785-a848-cb9fd0cb0460",
   "metadata": {},
   "outputs": [],
   "source": [
    "import pandas as pd"
   ]
  },
  {
   "cell_type": "code",
   "execution_count": 2,
   "id": "e0246750-88c9-4f35-8f8c-0a9457542e02",
   "metadata": {},
   "outputs": [
    {
     "data": {
      "text/html": [
       "<div>\n",
       "<style scoped>\n",
       "    .dataframe tbody tr th:only-of-type {\n",
       "        vertical-align: middle;\n",
       "    }\n",
       "\n",
       "    .dataframe tbody tr th {\n",
       "        vertical-align: top;\n",
       "    }\n",
       "\n",
       "    .dataframe thead th {\n",
       "        text-align: right;\n",
       "    }\n",
       "</style>\n",
       "<table border=\"1\" class=\"dataframe\">\n",
       "  <thead>\n",
       "    <tr style=\"text-align: right;\">\n",
       "      <th></th>\n",
       "      <th>a</th>\n",
       "      <th>b</th>\n",
       "      <th>c</th>\n",
       "    </tr>\n",
       "  </thead>\n",
       "  <tbody>\n",
       "    <tr>\n",
       "      <th>0</th>\n",
       "      <td>100</td>\n",
       "      <td>400</td>\n",
       "      <td>700</td>\n",
       "    </tr>\n",
       "    <tr>\n",
       "      <th>1</th>\n",
       "      <td>200</td>\n",
       "      <td>500</td>\n",
       "      <td>800</td>\n",
       "    </tr>\n",
       "    <tr>\n",
       "      <th>2</th>\n",
       "      <td>300</td>\n",
       "      <td>600</td>\n",
       "      <td>900</td>\n",
       "    </tr>\n",
       "  </tbody>\n",
       "</table>\n",
       "</div>"
      ],
      "text/plain": [
       "     a    b    c\n",
       "0  100  400  700\n",
       "1  200  500  800\n",
       "2  300  600  900"
      ]
     },
     "execution_count": 2,
     "metadata": {},
     "output_type": "execute_result"
    }
   ],
   "source": [
    "#\n",
    "# Create a dataframe\n",
    "#\n",
    "df = pd.DataFrame(\n",
    "    {\n",
    "        \"a\": [100, 200, 300],\n",
    "        \"b\": [400, 500, 600],\n",
    "        \"c\": [700, 800, 900],\n",
    "    }\n",
    ")\n",
    "df"
   ]
  },
  {
   "cell_type": "code",
   "execution_count": 3,
   "id": "bb0b4290-37a7-4111-94cd-d024f798a89c",
   "metadata": {},
   "outputs": [
    {
     "data": {
      "text/plain": [
       "0    400\n",
       "1    500\n",
       "2    600\n",
       "Name: b, dtype: int64"
      ]
     },
     "execution_count": 3,
     "metadata": {},
     "output_type": "execute_result"
    }
   ],
   "source": [
    "#\n",
    "# Access a column, which is a series\n",
    "#\n",
    "df[\"b\"]"
   ]
  },
  {
   "cell_type": "code",
   "execution_count": 4,
   "id": "bccb9a64-9347-456c-9cfa-141bdb1fb432",
   "metadata": {},
   "outputs": [
    {
     "data": {
      "text/plain": [
       "pandas.core.series.Series"
      ]
     },
     "execution_count": 4,
     "metadata": {},
     "output_type": "execute_result"
    }
   ],
   "source": [
    "type(df[\"b\"])"
   ]
  },
  {
   "cell_type": "code",
   "execution_count": 5,
   "id": "3e4dee5d-229e-45ec-9097-8cd179e657c4",
   "metadata": {},
   "outputs": [
    {
     "data": {
      "text/html": [
       "<div>\n",
       "<style scoped>\n",
       "    .dataframe tbody tr th:only-of-type {\n",
       "        vertical-align: middle;\n",
       "    }\n",
       "\n",
       "    .dataframe tbody tr th {\n",
       "        vertical-align: top;\n",
       "    }\n",
       "\n",
       "    .dataframe thead th {\n",
       "        text-align: right;\n",
       "    }\n",
       "</style>\n",
       "<table border=\"1\" class=\"dataframe\">\n",
       "  <thead>\n",
       "    <tr style=\"text-align: right;\">\n",
       "      <th></th>\n",
       "      <th>a</th>\n",
       "      <th>b</th>\n",
       "      <th>c</th>\n",
       "    </tr>\n",
       "  </thead>\n",
       "  <tbody>\n",
       "    <tr>\n",
       "      <th>first</th>\n",
       "      <td>100</td>\n",
       "      <td>200</td>\n",
       "      <td>300</td>\n",
       "    </tr>\n",
       "    <tr>\n",
       "      <th>second</th>\n",
       "      <td>400</td>\n",
       "      <td>500</td>\n",
       "      <td>600</td>\n",
       "    </tr>\n",
       "    <tr>\n",
       "      <th>third</th>\n",
       "      <td>700</td>\n",
       "      <td>800</td>\n",
       "      <td>900</td>\n",
       "    </tr>\n",
       "  </tbody>\n",
       "</table>\n",
       "</div>"
      ],
      "text/plain": [
       "          a    b    c\n",
       "first   100  200  300\n",
       "second  400  500  600\n",
       "third   700  800  900"
      ]
     },
     "execution_count": 5,
     "metadata": {},
     "output_type": "execute_result"
    }
   ],
   "source": [
    "#\n",
    "# Alternative way to create a dataframe\n",
    "#\n",
    "df = pd.DataFrame(\n",
    "    data=[[100, 200, 300], [400, 500, 600], [700, 800, 900]],\n",
    "    index=[\"first\", \"second\", \"third\"],\n",
    "    columns=[\"a\", \"b\", \"c\"],\n",
    ")\n",
    "df"
   ]
  },
  {
   "cell_type": "markdown",
   "id": "2cb31dd9-7e01-439b-aad5-dc228ec3d44a",
   "metadata": {},
   "source": [
    "## Attributes"
   ]
  },
  {
   "cell_type": "code",
   "execution_count": 6,
   "id": "5bbc9962-ad78-48fe-ae4e-f17f090d4c82",
   "metadata": {},
   "outputs": [],
   "source": [
    "richest = pd.read_csv(\"TopRichestInWorld.csv\")"
   ]
  },
  {
   "cell_type": "code",
   "execution_count": 7,
   "id": "43c904d2-72b1-4dc4-be07-683678c855ac",
   "metadata": {},
   "outputs": [
    {
     "data": {
      "text/html": [
       "<div>\n",
       "<style scoped>\n",
       "    .dataframe tbody tr th:only-of-type {\n",
       "        vertical-align: middle;\n",
       "    }\n",
       "\n",
       "    .dataframe tbody tr th {\n",
       "        vertical-align: top;\n",
       "    }\n",
       "\n",
       "    .dataframe thead th {\n",
       "        text-align: right;\n",
       "    }\n",
       "</style>\n",
       "<table border=\"1\" class=\"dataframe\">\n",
       "  <thead>\n",
       "    <tr style=\"text-align: right;\">\n",
       "      <th></th>\n",
       "      <th>Name</th>\n",
       "      <th>NetWorth</th>\n",
       "      <th>Age</th>\n",
       "      <th>Country/Territory</th>\n",
       "      <th>Source</th>\n",
       "      <th>Industry</th>\n",
       "    </tr>\n",
       "  </thead>\n",
       "  <tbody>\n",
       "    <tr>\n",
       "      <th>0</th>\n",
       "      <td>Elon Musk</td>\n",
       "      <td>$219,000,000,000</td>\n",
       "      <td>50</td>\n",
       "      <td>United States</td>\n",
       "      <td>Tesla, SpaceX</td>\n",
       "      <td>Automotive</td>\n",
       "    </tr>\n",
       "    <tr>\n",
       "      <th>1</th>\n",
       "      <td>Jeff Bezos</td>\n",
       "      <td>$171,000,000,000</td>\n",
       "      <td>58</td>\n",
       "      <td>United States</td>\n",
       "      <td>Amazon</td>\n",
       "      <td>Technology</td>\n",
       "    </tr>\n",
       "    <tr>\n",
       "      <th>2</th>\n",
       "      <td>Bernard Arnault &amp; family</td>\n",
       "      <td>$158,000,000,000</td>\n",
       "      <td>73</td>\n",
       "      <td>France</td>\n",
       "      <td>LVMH</td>\n",
       "      <td>Fashion &amp; Retail</td>\n",
       "    </tr>\n",
       "    <tr>\n",
       "      <th>3</th>\n",
       "      <td>Bill Gates</td>\n",
       "      <td>$129,000,000,000</td>\n",
       "      <td>66</td>\n",
       "      <td>United States</td>\n",
       "      <td>Microsoft</td>\n",
       "      <td>Technology</td>\n",
       "    </tr>\n",
       "    <tr>\n",
       "      <th>4</th>\n",
       "      <td>Warren Buffett</td>\n",
       "      <td>$118,000,000,000</td>\n",
       "      <td>91</td>\n",
       "      <td>United States</td>\n",
       "      <td>Berkshire Hathaway</td>\n",
       "      <td>Finance &amp; Investments</td>\n",
       "    </tr>\n",
       "    <tr>\n",
       "      <th>...</th>\n",
       "      <td>...</td>\n",
       "      <td>...</td>\n",
       "      <td>...</td>\n",
       "      <td>...</td>\n",
       "      <td>...</td>\n",
       "      <td>...</td>\n",
       "    </tr>\n",
       "    <tr>\n",
       "      <th>96</th>\n",
       "      <td>Vladimir Potanin</td>\n",
       "      <td>$17,300,000,000</td>\n",
       "      <td>61</td>\n",
       "      <td>Russia</td>\n",
       "      <td>metals</td>\n",
       "      <td>Metals &amp; Mining</td>\n",
       "    </tr>\n",
       "    <tr>\n",
       "      <th>97</th>\n",
       "      <td>Harold Hamm &amp; family</td>\n",
       "      <td>$17,200,000,000</td>\n",
       "      <td>76</td>\n",
       "      <td>United States</td>\n",
       "      <td>oil &amp; gas</td>\n",
       "      <td>Energy</td>\n",
       "    </tr>\n",
       "    <tr>\n",
       "      <th>98</th>\n",
       "      <td>Sun Piaoyang</td>\n",
       "      <td>$17,100,000,000</td>\n",
       "      <td>63</td>\n",
       "      <td>China</td>\n",
       "      <td>pharmaceuticals</td>\n",
       "      <td>Healthcare</td>\n",
       "    </tr>\n",
       "    <tr>\n",
       "      <th>99</th>\n",
       "      <td>Luo Liguo &amp; family</td>\n",
       "      <td>$17,000,000,000</td>\n",
       "      <td>66</td>\n",
       "      <td>China</td>\n",
       "      <td>chemicals</td>\n",
       "      <td>Manufacturing</td>\n",
       "    </tr>\n",
       "    <tr>\n",
       "      <th>100</th>\n",
       "      <td>Peter Woo</td>\n",
       "      <td>$17,000,000,000</td>\n",
       "      <td>75</td>\n",
       "      <td>Hong Kong</td>\n",
       "      <td>real estate</td>\n",
       "      <td>Real Estate</td>\n",
       "    </tr>\n",
       "  </tbody>\n",
       "</table>\n",
       "<p>101 rows × 6 columns</p>\n",
       "</div>"
      ],
      "text/plain": [
       "                         Name          NetWorth  Age Country/Territory  \\\n",
       "0                   Elon Musk  $219,000,000,000   50     United States   \n",
       "1                  Jeff Bezos  $171,000,000,000   58     United States   \n",
       "2    Bernard Arnault & family  $158,000,000,000   73            France   \n",
       "3                  Bill Gates  $129,000,000,000   66     United States   \n",
       "4              Warren Buffett  $118,000,000,000   91     United States   \n",
       "..                        ...               ...  ...               ...   \n",
       "96           Vladimir Potanin   $17,300,000,000   61            Russia   \n",
       "97       Harold Hamm & family   $17,200,000,000   76     United States   \n",
       "98               Sun Piaoyang   $17,100,000,000   63             China   \n",
       "99         Luo Liguo & family   $17,000,000,000   66             China   \n",
       "100                 Peter Woo   $17,000,000,000   75         Hong Kong   \n",
       "\n",
       "                 Source               Industry  \n",
       "0         Tesla, SpaceX             Automotive  \n",
       "1                Amazon             Technology  \n",
       "2                  LVMH       Fashion & Retail  \n",
       "3             Microsoft             Technology  \n",
       "4    Berkshire Hathaway  Finance & Investments  \n",
       "..                  ...                    ...  \n",
       "96               metals        Metals & Mining  \n",
       "97            oil & gas                 Energy  \n",
       "98      pharmaceuticals             Healthcare  \n",
       "99            chemicals          Manufacturing  \n",
       "100         real estate            Real Estate  \n",
       "\n",
       "[101 rows x 6 columns]"
      ]
     },
     "execution_count": 7,
     "metadata": {},
     "output_type": "execute_result"
    }
   ],
   "source": [
    "richest"
   ]
  },
  {
   "cell_type": "code",
   "execution_count": 8,
   "id": "9e93d5dc-7a78-4e5b-9f87-ad505893fd5c",
   "metadata": {},
   "outputs": [
    {
     "data": {
      "text/plain": [
       "(101, 6)"
      ]
     },
     "execution_count": 8,
     "metadata": {},
     "output_type": "execute_result"
    }
   ],
   "source": [
    "richest.shape  # Tuple (number of rows, number of columns)"
   ]
  },
  {
   "cell_type": "code",
   "execution_count": 9,
   "id": "5c05367c-2f8a-42d0-820c-9a2f3faef8f9",
   "metadata": {},
   "outputs": [
    {
     "data": {
      "text/plain": [
       "606"
      ]
     },
     "execution_count": 9,
     "metadata": {},
     "output_type": "execute_result"
    }
   ],
   "source": [
    "richest.size  # number of rows * number of columns"
   ]
  },
  {
   "cell_type": "code",
   "execution_count": 10,
   "id": "141ea7ed-76d4-4c05-bd79-065f5023ff81",
   "metadata": {},
   "outputs": [
    {
     "data": {
      "text/plain": [
       "RangeIndex(start=0, stop=101, step=1)"
      ]
     },
     "execution_count": 10,
     "metadata": {},
     "output_type": "execute_result"
    }
   ],
   "source": [
    "richest.index  # Show the index"
   ]
  },
  {
   "cell_type": "code",
   "execution_count": 11,
   "id": "c603cc95-5f4b-43ab-a695-b0401ddf131c",
   "metadata": {},
   "outputs": [
    {
     "data": {
      "text/plain": [
       "Index(['Name', 'NetWorth', 'Age', 'Country/Territory', 'Source', 'Industry'], dtype='object')"
      ]
     },
     "execution_count": 11,
     "metadata": {},
     "output_type": "execute_result"
    }
   ],
   "source": [
    "richest.columns"
   ]
  },
  {
   "cell_type": "code",
   "execution_count": 12,
   "id": "8d5d469d-d3cd-415e-952f-4b2871f33902",
   "metadata": {},
   "outputs": [
    {
     "data": {
      "text/plain": [
       "[RangeIndex(start=0, stop=101, step=1),\n",
       " Index(['Name', 'NetWorth', 'Age', 'Country/Territory', 'Source', 'Industry'], dtype='object')]"
      ]
     },
     "execution_count": 12,
     "metadata": {},
     "output_type": "execute_result"
    }
   ],
   "source": [
    "richest.axes  # Info on both index and columns"
   ]
  },
  {
   "cell_type": "code",
   "execution_count": 13,
   "id": "c1b5a2a8-9bce-4f50-ba3f-53fcc6516ea0",
   "metadata": {},
   "outputs": [
    {
     "data": {
      "text/plain": [
       "Name                 object\n",
       "NetWorth             object\n",
       "Age                   int64\n",
       "Country/Territory    object\n",
       "Source               object\n",
       "Industry             object\n",
       "dtype: object"
      ]
     },
     "execution_count": 13,
     "metadata": {},
     "output_type": "execute_result"
    }
   ],
   "source": [
    "richest.dtypes"
   ]
  },
  {
   "cell_type": "code",
   "execution_count": 14,
   "id": "e88fe6b1-3d0e-4dba-b957-4a513892da1d",
   "metadata": {},
   "outputs": [
    {
     "data": {
      "text/plain": [
       "array([['Elon Musk', '$219,000,000,000', 50, 'United States',\n",
       "        'Tesla, SpaceX', 'Automotive'],\n",
       "       ['Jeff Bezos', '$171,000,000,000', 58, 'United States', 'Amazon',\n",
       "        'Technology'],\n",
       "       ['Bernard Arnault & family', '$158,000,000,000', 73, 'France',\n",
       "        'LVMH', 'Fashion & Retail'],\n",
       "       ['Bill Gates', '$129,000,000,000', 66, 'United States',\n",
       "        'Microsoft', 'Technology'],\n",
       "       ['Warren Buffett', '$118,000,000,000', 91, 'United States',\n",
       "        'Berkshire Hathaway', 'Finance & Investments']], dtype=object)"
      ]
     },
     "execution_count": 14,
     "metadata": {},
     "output_type": "execute_result"
    }
   ],
   "source": [
    "richest.head(5).values"
   ]
  },
  {
   "cell_type": "markdown",
   "id": "95d0e85f-08cd-4e6e-b9ea-bd347c05d826",
   "metadata": {},
   "source": [
    "## Chapter 18 - Methods"
   ]
  },
  {
   "cell_type": "code",
   "execution_count": 15,
   "id": "3aad3ed4-d651-4306-8501-79a0e6002baf",
   "metadata": {},
   "outputs": [],
   "source": [
    "series = pd.Series([100, 200, 300])"
   ]
  },
  {
   "cell_type": "code",
   "execution_count": 16,
   "id": "85f11b41-8cb9-44e9-9140-67bab4373a6f",
   "metadata": {},
   "outputs": [
    {
     "data": {
      "text/plain": [
       "0    100\n",
       "1    200\n",
       "2    300\n",
       "dtype: int64"
      ]
     },
     "execution_count": 16,
     "metadata": {},
     "output_type": "execute_result"
    }
   ],
   "source": [
    "series"
   ]
  },
  {
   "cell_type": "code",
   "execution_count": 17,
   "id": "22efbe85-e5dd-4b5a-be2c-0d214eb11139",
   "metadata": {},
   "outputs": [],
   "source": [
    "df = pd.DataFrame(\n",
    "    {\n",
    "        \"a\": [100, 200, 300],\n",
    "        \"b\": [400, 500, 600],\n",
    "        \"c\": [700, 800, 900],\n",
    "    }\n",
    ")"
   ]
  },
  {
   "cell_type": "code",
   "execution_count": 18,
   "id": "eac1cfa6-9e06-427b-a912-baffbc890227",
   "metadata": {},
   "outputs": [
    {
     "data": {
      "text/html": [
       "<div>\n",
       "<style scoped>\n",
       "    .dataframe tbody tr th:only-of-type {\n",
       "        vertical-align: middle;\n",
       "    }\n",
       "\n",
       "    .dataframe tbody tr th {\n",
       "        vertical-align: top;\n",
       "    }\n",
       "\n",
       "    .dataframe thead th {\n",
       "        text-align: right;\n",
       "    }\n",
       "</style>\n",
       "<table border=\"1\" class=\"dataframe\">\n",
       "  <thead>\n",
       "    <tr style=\"text-align: right;\">\n",
       "      <th></th>\n",
       "      <th>a</th>\n",
       "      <th>b</th>\n",
       "      <th>c</th>\n",
       "    </tr>\n",
       "  </thead>\n",
       "  <tbody>\n",
       "    <tr>\n",
       "      <th>0</th>\n",
       "      <td>100</td>\n",
       "      <td>400</td>\n",
       "      <td>700</td>\n",
       "    </tr>\n",
       "    <tr>\n",
       "      <th>1</th>\n",
       "      <td>200</td>\n",
       "      <td>500</td>\n",
       "      <td>800</td>\n",
       "    </tr>\n",
       "    <tr>\n",
       "      <th>2</th>\n",
       "      <td>300</td>\n",
       "      <td>600</td>\n",
       "      <td>900</td>\n",
       "    </tr>\n",
       "  </tbody>\n",
       "</table>\n",
       "</div>"
      ],
      "text/plain": [
       "     a    b    c\n",
       "0  100  400  700\n",
       "1  200  500  800\n",
       "2  300  600  900"
      ]
     },
     "execution_count": 18,
     "metadata": {},
     "output_type": "execute_result"
    }
   ],
   "source": [
    "df"
   ]
  },
  {
   "cell_type": "code",
   "execution_count": 19,
   "id": "54d93b1c-816a-4787-b698-932d4eae956e",
   "metadata": {},
   "outputs": [
    {
     "data": {
      "text/plain": [
       "np.int64(600)"
      ]
     },
     "execution_count": 19,
     "metadata": {},
     "output_type": "execute_result"
    }
   ],
   "source": [
    "# sum of series\n",
    "series.sum()"
   ]
  },
  {
   "cell_type": "code",
   "execution_count": 20,
   "id": "ec0e05ad-3a2e-4cab-ba73-7930ab1fe68a",
   "metadata": {},
   "outputs": [
    {
     "data": {
      "text/plain": [
       "a     600\n",
       "b    1500\n",
       "c    2400\n",
       "dtype: int64"
      ]
     },
     "execution_count": 20,
     "metadata": {},
     "output_type": "execute_result"
    }
   ],
   "source": [
    "# sum of dataframe\n",
    "df.sum()"
   ]
  },
  {
   "cell_type": "code",
   "execution_count": 21,
   "id": "fbb8f947-e7fb-4a82-a799-5dd5e63a29ee",
   "metadata": {},
   "outputs": [
    {
     "data": {
      "text/plain": [
       "a     600\n",
       "b    1500\n",
       "c    2400\n",
       "dtype: int64"
      ]
     },
     "execution_count": 21,
     "metadata": {},
     "output_type": "execute_result"
    }
   ],
   "source": [
    "# By default, df.sum() will sum the columns\n",
    "# This is the same as the above\n",
    "df.sum(axis=0)"
   ]
  },
  {
   "cell_type": "code",
   "execution_count": null,
   "id": "79e93f37-1e56-4341-a1d9-2473ee093818",
   "metadata": {},
   "outputs": [],
   "source": [
    "# Also same\n",
    "df.sum(a"
   ]
  },
  {
   "cell_type": "code",
   "execution_count": 22,
   "id": "e7c69895-97a2-4429-880d-9c32732636e2",
   "metadata": {},
   "outputs": [
    {
     "data": {
      "text/plain": [
       "0    1200\n",
       "1    1500\n",
       "2    1800\n",
       "dtype: int64"
      ]
     },
     "execution_count": 22,
     "metadata": {},
     "output_type": "execute_result"
    }
   ],
   "source": [
    "# To sum along the index\n",
    "df.sum(axis=1)"
   ]
  },
  {
   "cell_type": "code",
   "execution_count": 24,
   "id": "f46b73be-393b-4587-9389-dfe83deaa8fd",
   "metadata": {},
   "outputs": [
    {
     "data": {
      "text/plain": [
       "0    1200\n",
       "1    1500\n",
       "2    1800\n",
       "dtype: int64"
      ]
     },
     "execution_count": 24,
     "metadata": {},
     "output_type": "execute_result"
    }
   ],
   "source": [
    "# Same as the above\n",
    "df.sum(axis=\"columns\")"
   ]
  },
  {
   "cell_type": "code",
   "execution_count": null,
   "id": "4f8da75a-2938-4b25-8f6a-e89fba571208",
   "metadata": {},
   "outputs": [],
   "source": []
  }
 ],
 "metadata": {
  "kernelspec": {
   "display_name": "Python 3 (ipykernel)",
   "language": "python",
   "name": "python3"
  },
  "language_info": {
   "codemirror_mode": {
    "name": "ipython",
    "version": 3
   },
   "file_extension": ".py",
   "mimetype": "text/x-python",
   "name": "python",
   "nbconvert_exporter": "python",
   "pygments_lexer": "ipython3",
   "version": "3.13.7"
  }
 },
 "nbformat": 4,
 "nbformat_minor": 5
}
