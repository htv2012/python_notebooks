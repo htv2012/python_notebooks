{
 "cells": [
  {
   "cell_type": "code",
   "execution_count": 50,
   "id": "772c43bc-5486-4178-8856-0a96b9b0389e",
   "metadata": {},
   "outputs": [],
   "source": [
    "from anytree import Node, RenderTree, ContStyle, AsciiStyle"
   ]
  },
  {
   "cell_type": "code",
   "execution_count": 27,
   "id": "02f82372-6a0d-41e4-bf2f-50fefa62245d",
   "metadata": {},
   "outputs": [],
   "source": [
    "root = Node(\"Root\")\n",
    "c1 = Node(\"C1\", parent=root)\n",
    "c2 = Node(\"C2\", parent=root)\n",
    "c3 = Node(\"C3\", parent=root)\n",
    "c1d1 = Node(\"C1-D1\", parent=c1)\n",
    "c1d2 = Node(\"C1-D2\", parent=c1)\n",
    "c1d3 = Node(\"C1-D3\", parent=c1)"
   ]
  },
  {
   "cell_type": "code",
   "execution_count": 28,
   "id": "aad78aff-a734-4f5a-a7dc-79c544456913",
   "metadata": {},
   "outputs": [
    {
     "name": "stdout",
     "output_type": "stream",
     "text": [
      "Node('/Root')\n",
      "├── Node('/Root/C1')\n",
      "│   ├── Node('/Root/C1/C1-D1')\n",
      "│   ├── Node('/Root/C1/C1-D2')\n",
      "│   └── Node('/Root/C1/C1-D3')\n",
      "├── Node('/Root/C2')\n",
      "└── Node('/Root/C3')\n"
     ]
    }
   ],
   "source": [
    "print(RenderTree(root))"
   ]
  },
  {
   "cell_type": "code",
   "execution_count": 29,
   "id": "fbf38518-0f0c-44c5-af82-d86b2cfcec45",
   "metadata": {},
   "outputs": [
    {
     "data": {
      "text/plain": [
       "(Node('/Root/C1'), Node('/Root/C2'), Node('/Root/C3'))"
      ]
     },
     "execution_count": 29,
     "metadata": {},
     "output_type": "execute_result"
    }
   ],
   "source": [
    "root.children"
   ]
  },
  {
   "cell_type": "code",
   "execution_count": 30,
   "id": "d7261b06-9c54-4bc1-941f-ddbf03e193d8",
   "metadata": {},
   "outputs": [
    {
     "data": {
      "text/plain": [
       "(Node('/Root/C1/C1-D1'),\n",
       " Node('/Root/C1/C1-D2'),\n",
       " Node('/Root/C1/C1-D3'),\n",
       " Node('/Root/C2'),\n",
       " Node('/Root/C3'))"
      ]
     },
     "execution_count": 30,
     "metadata": {},
     "output_type": "execute_result"
    }
   ],
   "source": [
    "root.leaves"
   ]
  },
  {
   "cell_type": "code",
   "execution_count": 31,
   "id": "1108b636-1875-4b5c-9998-3e754c9d3b7c",
   "metadata": {},
   "outputs": [
    {
     "data": {
      "text/plain": [
       "(Node('/Root/C1/C1-D1'),\n",
       " Node('/Root/C1/C1-D2'),\n",
       " Node('/Root/C1/C1-D3'),\n",
       " Node('/Root/C2'),\n",
       " Node('/Root/C3'))"
      ]
     },
     "execution_count": 31,
     "metadata": {},
     "output_type": "execute_result"
    }
   ],
   "source": [
    "root.leaves"
   ]
  },
  {
   "cell_type": "code",
   "execution_count": 32,
   "id": "ae92c39d-7419-4f25-b618-f2b1f3b4ee1e",
   "metadata": {},
   "outputs": [
    {
     "data": {
      "text/plain": [
       "(Node('/Root'), Node('/Root/C1'))"
      ]
     },
     "execution_count": 32,
     "metadata": {},
     "output_type": "execute_result"
    }
   ],
   "source": [
    "c1d1.ancestors"
   ]
  },
  {
   "cell_type": "code",
   "execution_count": 33,
   "id": "affd4514-eff3-4c72-b264-8cb90da8f868",
   "metadata": {},
   "outputs": [
    {
     "data": {
      "text/plain": [
       "(Node('/Root'), Node('/Root/C1'))"
      ]
     },
     "execution_count": 33,
     "metadata": {},
     "output_type": "execute_result"
    }
   ],
   "source": [
    "c1d1.anchestors"
   ]
  },
  {
   "cell_type": "code",
   "execution_count": 34,
   "id": "24d1671a-b5c8-4b17-b8b1-b2e5eaf3c1e8",
   "metadata": {},
   "outputs": [
    {
     "data": {
      "text/plain": [
       "(Node('/Root/C1'),\n",
       " Node('/Root/C1/C1-D1'),\n",
       " Node('/Root/C1/C1-D2'),\n",
       " Node('/Root/C1/C1-D3'),\n",
       " Node('/Root/C2'),\n",
       " Node('/Root/C3'))"
      ]
     },
     "execution_count": 34,
     "metadata": {},
     "output_type": "execute_result"
    }
   ],
   "source": [
    "root.descendants"
   ]
  },
  {
   "cell_type": "code",
   "execution_count": 35,
   "id": "2d94d22a-17f1-4cec-8999-44ae9ef7e169",
   "metadata": {},
   "outputs": [
    {
     "data": {
      "text/plain": [
       "Node('/Root')"
      ]
     },
     "execution_count": 35,
     "metadata": {},
     "output_type": "execute_result"
    }
   ],
   "source": [
    "c1d1.root"
   ]
  },
  {
   "cell_type": "code",
   "execution_count": 36,
   "id": "aa172a20-5612-4b37-a735-5650e6106bf3",
   "metadata": {},
   "outputs": [
    {
     "data": {
      "text/plain": [
       "(Node('/Root/C1/C1-D2'), Node('/Root/C1/C1-D3'))"
      ]
     },
     "execution_count": 36,
     "metadata": {},
     "output_type": "execute_result"
    }
   ],
   "source": [
    "c1d1.siblings"
   ]
  },
  {
   "cell_type": "code",
   "execution_count": 38,
   "id": "4f1216f6-c82e-44fa-a672-b599facdc0a3",
   "metadata": {},
   "outputs": [
    {
     "data": {
      "text/plain": [
       "[Node('/Root/C1/C1-D1'), Node('/Root/C1'), Node('/Root')]"
      ]
     },
     "execution_count": 38,
     "metadata": {},
     "output_type": "execute_result"
    }
   ],
   "source": [
    "# Go up the tree, to the root\n",
    "list(c1d1.iter_path_reverse())"
   ]
  },
  {
   "cell_type": "markdown",
   "id": "5817be61-a2a6-489e-9550-c8bf421aba56",
   "metadata": {},
   "source": [
    "# Using non-string as name\n",
    "\n",
    "As long as the object has a `__str__` implementation"
   ]
  },
  {
   "cell_type": "code",
   "execution_count": 24,
   "id": "e490f211-f554-4d7c-9d6c-1dbff0b931ab",
   "metadata": {},
   "outputs": [],
   "source": [
    "class Id:\n",
    "    def __init__(self, name):\n",
    "        self.name = name\n",
    "    def __str__(self):\n",
    "        return self.name\n",
    "    def __repr__(self):\n",
    "        return f\"{self.__class__.__name__}(name={self.name!r})\""
   ]
  },
  {
   "cell_type": "code",
   "execution_count": 25,
   "id": "118bc03b-c54a-4c84-807a-c9d1f04e3006",
   "metadata": {},
   "outputs": [],
   "source": [
    "n = Node(Id(\"Anna\"))"
   ]
  },
  {
   "cell_type": "code",
   "execution_count": 26,
   "id": "99ffd196-c995-4947-811e-8d00a9cb6159",
   "metadata": {},
   "outputs": [
    {
     "data": {
      "text/plain": [
       "Node('/Anna')"
      ]
     },
     "execution_count": 26,
     "metadata": {},
     "output_type": "execute_result"
    }
   ],
   "source": [
    "n"
   ]
  },
  {
   "cell_type": "markdown",
   "id": "b3d13a02-a153-4284-ad26-677855524809",
   "metadata": {},
   "source": [
    "# Render Tree"
   ]
  },
  {
   "cell_type": "code",
   "execution_count": 39,
   "id": "f74fbe73-0095-411e-b74b-b0ffd74605be",
   "metadata": {},
   "outputs": [
    {
     "name": "stdout",
     "output_type": "stream",
     "text": [
      "Node('/Root')\n",
      "├── Node('/Root/C1')\n",
      "│   ├── Node('/Root/C1/C1-D1')\n",
      "│   ├── Node('/Root/C1/C1-D2')\n",
      "│   └── Node('/Root/C1/C1-D3')\n",
      "├── Node('/Root/C2')\n",
      "└── Node('/Root/C3')\n"
     ]
    }
   ],
   "source": [
    "# Default render\n",
    "print(RenderTree(root))"
   ]
  },
  {
   "cell_type": "code",
   "execution_count": 41,
   "id": "5179ec40-d39c-4d85-82e6-0e4a412fa918",
   "metadata": {},
   "outputs": [
    {
     "data": {
      "text/plain": [
       "[Row(pre='', fill='', node=Node('/Root')),\n",
       " Row(pre='├── ', fill='│   ', node=Node('/Root/C1')),\n",
       " Row(pre='│   ├── ', fill='│   │   ', node=Node('/Root/C1/C1-D1')),\n",
       " Row(pre='│   ├── ', fill='│   │   ', node=Node('/Root/C1/C1-D2')),\n",
       " Row(pre='│   └── ', fill='│       ', node=Node('/Root/C1/C1-D3')),\n",
       " Row(pre='├── ', fill='│   ', node=Node('/Root/C2')),\n",
       " Row(pre='└── ', fill='    ', node=Node('/Root/C3'))]"
      ]
     },
     "execution_count": 41,
     "metadata": {},
     "output_type": "execute_result"
    }
   ],
   "source": [
    "rt = RenderTree(root)\n",
    "list(rt)"
   ]
  },
  {
   "cell_type": "code",
   "execution_count": 47,
   "id": "b45c7ecc-1d32-47b2-b9f7-03ae731e84fe",
   "metadata": {},
   "outputs": [
    {
     "name": "stdout",
     "output_type": "stream",
     "text": [
      "Root\n",
      "├── C1\n",
      "│   ├── C1-D1\n",
      "│   ├── C1-D2\n",
      "│   └── C1-D3\n",
      "├── C2\n",
      "└── C3\n"
     ]
    }
   ],
   "source": [
    "# Nicer, with name only\n",
    "for row in RenderTree(root):\n",
    "    print(\"%s%s\" % (row.pre, row.node.name))"
   ]
  },
  {
   "cell_type": "code",
   "execution_count": 43,
   "id": "a8977b73-5dc1-4a85-8694-02bac58ff2de",
   "metadata": {},
   "outputs": [
    {
     "data": {
      "text/plain": [
       "\"Node('/Root')\""
      ]
     },
     "execution_count": 43,
     "metadata": {},
     "output_type": "execute_result"
    }
   ],
   "source": [
    "str(root)"
   ]
  },
  {
   "cell_type": "code",
   "execution_count": 53,
   "id": "bc6aadaf-206e-48b2-b4c9-fe2873b0e8b5",
   "metadata": {},
   "outputs": [
    {
     "name": "stdout",
     "output_type": "stream",
     "text": [
      "Root\n",
      "├── C1\n",
      "│   ├── C1-D1\n",
      "│   ├── C1-D2\n",
      "│   └── C1-D3\n",
      "├── C2\n",
      "└── C3\n"
     ]
    }
   ],
   "source": [
    "# Different way to display name only\n",
    "print(RenderTree(root, style=ContStyle()).by_attr())"
   ]
  },
  {
   "cell_type": "code",
   "execution_count": null,
   "id": "81cfc518-00ad-45e2-86ed-b56488a25967",
   "metadata": {},
   "outputs": [],
   "source": []
  }
 ],
 "metadata": {
  "kernelspec": {
   "display_name": "Python 3 (ipykernel)",
   "language": "python",
   "name": "python3"
  },
  "language_info": {
   "codemirror_mode": {
    "name": "ipython",
    "version": 3
   },
   "file_extension": ".py",
   "mimetype": "text/x-python",
   "name": "python",
   "nbconvert_exporter": "python",
   "pygments_lexer": "ipython3",
   "version": "3.11.3"
  }
 },
 "nbformat": 4,
 "nbformat_minor": 5
}
