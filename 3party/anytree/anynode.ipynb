{
 "cells": [
  {
   "cell_type": "code",
   "execution_count": 1,
   "id": "2ff17491-c09c-486d-ab91-4c142e609595",
   "metadata": {},
   "outputs": [],
   "source": [
    "from anytree import AnyNode, RenderTree"
   ]
  },
  {
   "cell_type": "code",
   "execution_count": 2,
   "id": "dcd159da-5193-4cbc-88da-fa6f95b92761",
   "metadata": {},
   "outputs": [],
   "source": [
    "root = AnyNode(id=\"root\")\n",
    "children = [\n",
    "    AnyNode(id=f\"Child #{i}\", parent=root)\n",
    "    for i in range(1, 4)\n",
    "]"
   ]
  },
  {
   "cell_type": "code",
   "execution_count": 3,
   "id": "a40df5bc-6ec4-4473-bfcd-0059163915d8",
   "metadata": {},
   "outputs": [
    {
     "data": {
      "text/plain": [
       "AnyNode(id='root')"
      ]
     },
     "execution_count": 3,
     "metadata": {},
     "output_type": "execute_result"
    }
   ],
   "source": [
    "root"
   ]
  },
  {
   "cell_type": "code",
   "execution_count": 4,
   "id": "98d88528-18de-4067-8011-26316836d3f3",
   "metadata": {},
   "outputs": [
    {
     "data": {
      "text/plain": [
       "[AnyNode(id='Child #1'), AnyNode(id='Child #2'), AnyNode(id='Child #3')]"
      ]
     },
     "execution_count": 4,
     "metadata": {},
     "output_type": "execute_result"
    }
   ],
   "source": [
    "children"
   ]
  },
  {
   "cell_type": "code",
   "execution_count": 6,
   "id": "30336162-56ff-4c80-b0e8-100cee282036",
   "metadata": {},
   "outputs": [],
   "source": [
    "grand_children = [\n",
    "    AnyNode(id=f\"Child #{i} of Child#1\", parent=children[0])\n",
    "    for i in range(1, 4)\n",
    "]"
   ]
  },
  {
   "cell_type": "code",
   "execution_count": 7,
   "id": "ef6008b1-f8a5-49ce-8fb7-d6ee739b7630",
   "metadata": {},
   "outputs": [
    {
     "data": {
      "text/plain": [
       "[AnyNode(id='Child #1 of Child#1'),\n",
       " AnyNode(id='Child #2 of Child#1'),\n",
       " AnyNode(id='Child #3 of Child#1')]"
      ]
     },
     "execution_count": 7,
     "metadata": {},
     "output_type": "execute_result"
    }
   ],
   "source": [
    "grand_children"
   ]
  },
  {
   "cell_type": "code",
   "execution_count": 12,
   "id": "bd1df170-55cd-4698-8e48-c3e8e410574d",
   "metadata": {},
   "outputs": [
    {
     "name": "stdout",
     "output_type": "stream",
     "text": [
      "AnyNode(id='root')\n",
      "├── AnyNode(id='Child #1')\n",
      "│   ├── AnyNode(id='Grand child 1-1')\n",
      "│   ├── AnyNode(id='Child #2 of Child#1')\n",
      "│   └── AnyNode(id='Child #3 of Child#1')\n",
      "├── AnyNode(id='Child #2')\n",
      "└── AnyNode(id='Child #3')\n"
     ]
    }
   ],
   "source": [
    "print(RenderTree(root))"
   ]
  },
  {
   "cell_type": "code",
   "execution_count": 11,
   "id": "4fcd31b9-11c6-4515-964b-b99b8bfb08d7",
   "metadata": {},
   "outputs": [],
   "source": [
    "grand_children[0].id = \"Grand child 1-1\""
   ]
  },
  {
   "cell_type": "code",
   "execution_count": null,
   "id": "90d8dbad-6e8d-4bfe-a865-f493cfce0efa",
   "metadata": {},
   "outputs": [],
   "source": []
  }
 ],
 "metadata": {
  "kernelspec": {
   "display_name": "Python 3 (ipykernel)",
   "language": "python",
   "name": "python3"
  },
  "language_info": {
   "codemirror_mode": {
    "name": "ipython",
    "version": 3
   },
   "file_extension": ".py",
   "mimetype": "text/x-python",
   "name": "python",
   "nbconvert_exporter": "python",
   "pygments_lexer": "ipython3",
   "version": "3.11.3"
  }
 },
 "nbformat": 4,
 "nbformat_minor": 5
}
