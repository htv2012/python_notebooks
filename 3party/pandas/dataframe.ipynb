{
 "cells": [
  {
   "cell_type": "markdown",
   "id": "1cc62f77-b1bb-4e50-ad1a-9397ed717d31",
   "metadata": {},
   "source": [
    "# Pandas Dataframe"
   ]
  },
  {
   "cell_type": "code",
   "execution_count": 1,
   "id": "0d4666c1-2bf6-4d6c-87b8-7cdf732353ea",
   "metadata": {},
   "outputs": [],
   "source": [
    "import pandas as pd"
   ]
  },
  {
   "cell_type": "code",
   "execution_count": 2,
   "id": "66916b6d-cbed-4d5a-97f4-64ad798f2f78",
   "metadata": {},
   "outputs": [
    {
     "data": {
      "text/html": [
       "<div>\n",
       "<style scoped>\n",
       "    .dataframe tbody tr th:only-of-type {\n",
       "        vertical-align: middle;\n",
       "    }\n",
       "\n",
       "    .dataframe tbody tr th {\n",
       "        vertical-align: top;\n",
       "    }\n",
       "\n",
       "    .dataframe thead th {\n",
       "        text-align: right;\n",
       "    }\n",
       "</style>\n",
       "<table border=\"1\" class=\"dataframe\">\n",
       "  <thead>\n",
       "    <tr style=\"text-align: right;\">\n",
       "      <th></th>\n",
       "      <th>name</th>\n",
       "      <th>height</th>\n",
       "      <th>weight</th>\n",
       "    </tr>\n",
       "  </thead>\n",
       "  <tbody>\n",
       "    <tr>\n",
       "      <th>0</th>\n",
       "      <td>Mariya</td>\n",
       "      <td>1.67</td>\n",
       "      <td>54</td>\n",
       "    </tr>\n",
       "    <tr>\n",
       "      <th>1</th>\n",
       "      <td>Batman</td>\n",
       "      <td>1.90</td>\n",
       "      <td>100</td>\n",
       "    </tr>\n",
       "    <tr>\n",
       "      <th>2</th>\n",
       "      <td>Spongebob</td>\n",
       "      <td>0.25</td>\n",
       "      <td>1</td>\n",
       "    </tr>\n",
       "  </tbody>\n",
       "</table>\n",
       "</div>"
      ],
      "text/plain": [
       "        name  height  weight\n",
       "0     Mariya    1.67      54\n",
       "1     Batman    1.90     100\n",
       "2  Spongebob    0.25       1"
      ]
     },
     "execution_count": 2,
     "metadata": {},
     "output_type": "execute_result"
    }
   ],
   "source": [
    "df = pd.DataFrame(\n",
    "    {\n",
    "        \"name\": [\"Mariya\", \"Batman\", \"Spongebob\"],\n",
    "        \"height\": [1.67, 1.9, 0.25],\n",
    "        \"weight\": [54, 100, 1],\n",
    "    }\n",
    ")\n",
    "df"
   ]
  },
  {
   "cell_type": "code",
   "execution_count": 3,
   "id": "76ac11a3-5ed9-4839-92c5-e2f93efdb7d3",
   "metadata": {},
   "outputs": [],
   "source": [
    "w = df[\"weight\"]"
   ]
  },
  {
   "cell_type": "code",
   "execution_count": 4,
   "id": "53b575fc-bb44-4ce4-9e6c-c38108d1a58c",
   "metadata": {},
   "outputs": [
    {
     "data": {
      "text/plain": [
       "0     54\n",
       "1    100\n",
       "2      1\n",
       "Name: weight, dtype: int64"
      ]
     },
     "execution_count": 4,
     "metadata": {},
     "output_type": "execute_result"
    }
   ],
   "source": [
    "w"
   ]
  },
  {
   "cell_type": "code",
   "execution_count": 5,
   "id": "0780386c-8618-4dac-9808-13aeed105d5e",
   "metadata": {},
   "outputs": [
    {
     "data": {
      "text/plain": [
       "'weight'"
      ]
     },
     "execution_count": 5,
     "metadata": {},
     "output_type": "execute_result"
    }
   ],
   "source": [
    "w.name"
   ]
  },
  {
   "cell_type": "code",
   "execution_count": 6,
   "id": "752bb2b6-81fc-4569-bbc3-57da822f7c05",
   "metadata": {},
   "outputs": [
    {
     "data": {
      "text/plain": [
       "np.int64(100)"
      ]
     },
     "execution_count": 6,
     "metadata": {},
     "output_type": "execute_result"
    }
   ],
   "source": [
    "# Batman's weigh, he is at index 1\n",
    "df[\"weight\"][1]"
   ]
  },
  {
   "cell_type": "code",
   "execution_count": 7,
   "id": "147c0b50-a455-4b46-92e8-cdd913770c87",
   "metadata": {},
   "outputs": [],
   "source": [
    "# Calculate Body Mass Index, BMI = weight / (height ** 2)\n",
    "df[\"bmi\"] = df[\"weight\"] / (df[\"height\"] ** 2)"
   ]
  },
  {
   "cell_type": "code",
   "execution_count": 8,
   "id": "48c838f3-a70b-407e-8cce-96cab7d61814",
   "metadata": {},
   "outputs": [
    {
     "data": {
      "text/html": [
       "<div>\n",
       "<style scoped>\n",
       "    .dataframe tbody tr th:only-of-type {\n",
       "        vertical-align: middle;\n",
       "    }\n",
       "\n",
       "    .dataframe tbody tr th {\n",
       "        vertical-align: top;\n",
       "    }\n",
       "\n",
       "    .dataframe thead th {\n",
       "        text-align: right;\n",
       "    }\n",
       "</style>\n",
       "<table border=\"1\" class=\"dataframe\">\n",
       "  <thead>\n",
       "    <tr style=\"text-align: right;\">\n",
       "      <th></th>\n",
       "      <th>name</th>\n",
       "      <th>height</th>\n",
       "      <th>weight</th>\n",
       "      <th>bmi</th>\n",
       "    </tr>\n",
       "  </thead>\n",
       "  <tbody>\n",
       "    <tr>\n",
       "      <th>0</th>\n",
       "      <td>Mariya</td>\n",
       "      <td>1.67</td>\n",
       "      <td>54</td>\n",
       "      <td>19.362473</td>\n",
       "    </tr>\n",
       "    <tr>\n",
       "      <th>1</th>\n",
       "      <td>Batman</td>\n",
       "      <td>1.90</td>\n",
       "      <td>100</td>\n",
       "      <td>27.700831</td>\n",
       "    </tr>\n",
       "    <tr>\n",
       "      <th>2</th>\n",
       "      <td>Spongebob</td>\n",
       "      <td>0.25</td>\n",
       "      <td>1</td>\n",
       "      <td>16.000000</td>\n",
       "    </tr>\n",
       "  </tbody>\n",
       "</table>\n",
       "</div>"
      ],
      "text/plain": [
       "        name  height  weight        bmi\n",
       "0     Mariya    1.67      54  19.362473\n",
       "1     Batman    1.90     100  27.700831\n",
       "2  Spongebob    0.25       1  16.000000"
      ]
     },
     "execution_count": 8,
     "metadata": {},
     "output_type": "execute_result"
    }
   ],
   "source": [
    "df"
   ]
  },
  {
   "cell_type": "code",
   "execution_count": null,
   "id": "490bca25-3e7b-40a5-903d-629dac27c982",
   "metadata": {},
   "outputs": [],
   "source": []
  }
 ],
 "metadata": {
  "kernelspec": {
   "display_name": "Python 3 (ipykernel)",
   "language": "python",
   "name": "python3"
  },
  "language_info": {
   "codemirror_mode": {
    "name": "ipython",
    "version": 3
   },
   "file_extension": ".py",
   "mimetype": "text/x-python",
   "name": "python",
   "nbconvert_exporter": "python",
   "pygments_lexer": "ipython3",
   "version": "3.13.5"
  }
 },
 "nbformat": 4,
 "nbformat_minor": 5
}
