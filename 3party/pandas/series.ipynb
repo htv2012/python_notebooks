{
 "cells": [
  {
   "cell_type": "markdown",
   "id": "349c9c5d-1a07-415a-bd9f-f0384aa95883",
   "metadata": {},
   "source": [
    "# Pandas Series"
   ]
  },
  {
   "cell_type": "code",
   "execution_count": 1,
   "id": "12d44938-4b23-4344-a89c-cc7ccea3089d",
   "metadata": {},
   "outputs": [],
   "source": [
    "import pandas as pd"
   ]
  },
  {
   "cell_type": "code",
   "execution_count": 2,
   "id": "9a235680-2c4e-4ed7-b66d-b5aeb76df7d9",
   "metadata": {},
   "outputs": [
    {
     "data": {
      "text/plain": [
       "0    1\n",
       "1    7\n",
       "2    2\n",
       "dtype: int64"
      ]
     },
     "execution_count": 2,
     "metadata": {},
     "output_type": "execute_result"
    }
   ],
   "source": [
    "s = pd.Series([1,7, 2])\n",
    "s"
   ]
  },
  {
   "cell_type": "code",
   "execution_count": 3,
   "id": "08dd14a2-7c50-437e-8683-70544d427c56",
   "metadata": {},
   "outputs": [
    {
     "data": {
      "text/plain": [
       "np.int64(1)"
      ]
     },
     "execution_count": 3,
     "metadata": {},
     "output_type": "execute_result"
    }
   ],
   "source": [
    "s[0]"
   ]
  },
  {
   "cell_type": "code",
   "execution_count": 4,
   "id": "9620d0f5-bd81-46d8-9ab6-e421cc306b79",
   "metadata": {},
   "outputs": [
    {
     "data": {
      "text/plain": [
       "Math       87\n",
       "History    73\n",
       "English    89\n",
       "dtype: int64"
      ]
     },
     "execution_count": 4,
     "metadata": {},
     "output_type": "execute_result"
    }
   ],
   "source": [
    "grade = pd.Series({\"Math\": 87, \"History\": 73, \"English\": 89})\n",
    "grade"
   ]
  },
  {
   "cell_type": "code",
   "execution_count": 7,
   "id": "bdd94056-9893-47f8-9682-bdb8b5e40234",
   "metadata": {},
   "outputs": [
    {
     "data": {
      "text/plain": [
       "[('Math', 87), ('History', 73), ('English', 89)]"
      ]
     },
     "execution_count": 7,
     "metadata": {},
     "output_type": "execute_result"
    }
   ],
   "source": [
    "list(grade.items())"
   ]
  },
  {
   "cell_type": "code",
   "execution_count": 8,
   "id": "0f83093d-6532-435a-8f2a-7a7b6f35f1c2",
   "metadata": {},
   "outputs": [
    {
     "data": {
      "text/plain": [
       "Index(['Math', 'History', 'English'], dtype='object')"
      ]
     },
     "execution_count": 8,
     "metadata": {},
     "output_type": "execute_result"
    }
   ],
   "source": [
    "grade.index"
   ]
  },
  {
   "cell_type": "code",
   "execution_count": 9,
   "id": "f0539b22-5174-42f5-9a57-d46ef9a972c0",
   "metadata": {},
   "outputs": [
    {
     "data": {
      "text/plain": [
       "{'Math': np.int64(87), 'History': np.int64(73), 'English': np.int64(89)}"
      ]
     },
     "execution_count": 9,
     "metadata": {},
     "output_type": "execute_result"
    }
   ],
   "source": [
    "dict(grade)"
   ]
  },
  {
   "cell_type": "code",
   "execution_count": null,
   "id": "f5058cd2-1476-42c1-b3d3-8dc27b8158b4",
   "metadata": {},
   "outputs": [],
   "source": []
  }
 ],
 "metadata": {
  "kernelspec": {
   "display_name": "Python 3 (ipykernel)",
   "language": "python",
   "name": "python3"
  },
  "language_info": {
   "codemirror_mode": {
    "name": "ipython",
    "version": 3
   },
   "file_extension": ".py",
   "mimetype": "text/x-python",
   "name": "python",
   "nbconvert_exporter": "python",
   "pygments_lexer": "ipython3",
   "version": "3.13.2"
  }
 },
 "nbformat": 4,
 "nbformat_minor": 5
}
