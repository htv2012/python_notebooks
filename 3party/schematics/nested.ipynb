{
 "cells": [
  {
   "cell_type": "markdown",
   "metadata": {},
   "source": [
    "# Nested Structure\n",
    "\n",
    "We use `schematics.types.ModelType()` to specify nested objects:"
   ]
  },
  {
   "cell_type": "code",
   "execution_count": 1,
   "metadata": {},
   "outputs": [],
   "source": [
    "import schematics\n",
    "\n",
    "class UnixUser(schematics.Model):\n",
    "    alias = schematics.types.StringType(required=True)\n",
    "    is_admin = schematics.types.BooleanType(default=False)\n",
    "    \n",
    "class Phone(schematics.Model):\n",
    "    number = schematics.types.StringType(regex=r\"\\d{3}-\\d{3}-\\d{4}\", required=True)\n",
    "    kind = schematics.types.StringType(choices=[\"mobile\", \"work\", \"home\", \"other\"])\n",
    "    \n",
    "class Contact(schematics.Model):\n",
    "    name = schematics.types.StringType(required=True)\n",
    "    \n",
    "    # Nested: A single object\n",
    "    unix_user = schematics.types.ModelType(UnixUser, serialized_name=\"unixUser\")\n",
    "    \n",
    "    # Nested: Many objects\n",
    "    phones = schematics.types.ListType(schematics.types.ModelType(Phone))"
   ]
  },
  {
   "cell_type": "code",
   "execution_count": 2,
   "metadata": {},
   "outputs": [],
   "source": [
    "contact = Contact({\n",
    "    \"name\": \"Johan Strauss\",\n",
    "    \"unixUser\": {\n",
    "        \"alias\": \"johan\",\n",
    "        \"is_admin\": False\n",
    "    },\n",
    "    \"phones\": [\n",
    "        {\n",
    "            \"number\": \"555-346-7171\",\n",
    "            \"kind\": \"mobile\"\n",
    "        },\n",
    "        {\n",
    "            \"number\": \"423-324-3434\",\n",
    "            \"kind\": \"work\"\n",
    "        }\n",
    "    ]\n",
    "})"
   ]
  },
  {
   "cell_type": "code",
   "execution_count": 3,
   "metadata": {},
   "outputs": [],
   "source": [
    "contact.validate()"
   ]
  }
 ],
 "metadata": {
  "kernelspec": {
   "display_name": "Python 3",
   "language": "python",
   "name": "python3"
  },
  "language_info": {
   "codemirror_mode": {
    "name": "ipython",
    "version": 3
   },
   "file_extension": ".py",
   "mimetype": "text/x-python",
   "name": "python",
   "nbconvert_exporter": "python",
   "pygments_lexer": "ipython3",
   "version": "3.7.3"
  }
 },
 "nbformat": 4,
 "nbformat_minor": 4
}
