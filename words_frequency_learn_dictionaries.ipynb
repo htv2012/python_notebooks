{
 "cells": [
  {
   "cell_type": "markdown",
   "metadata": {},
   "source": [
    "In this article, we will take a journey and learn how to count words frequency using dictionary, defaultdict, and Counter. At the end of this journey, I hope that you will come to appreciate the power of various kinds of dictionaries and their applications."
   ]
  },
  {
   "cell_type": "markdown",
   "metadata": {},
   "source": [
    "# The Problem\n",
    "\n",
    "One of the problem we often deal with when processing text is to calculate word frequencies from a block of text. For example, given the following block:\n",
    "\n",
    "> Watch your thoughts; they become words.  \n",
    "> Watch your words; they become actions.  \n",
    "> Watch your actions; they become habits.  \n",
    "> Watch your habits; they become character.  \n",
    "> Watch your character; it becomes your destiny.  \n",
    "\n",
    "How can we come up with word frequencies?"
   ]
  },
  {
   "cell_type": "markdown",
   "metadata": {},
   "source": [
    "# How to Split the Words\n",
    "\n",
    "Before we can construct such a dictionary, we need a way to parse the block of text and gets a list of words. There are many ways to do this, but the easiest is to use regular expression to split the block of text at non-word boundaries:"
   ]
  },
  {
   "cell_type": "code",
   "execution_count": 1,
   "metadata": {
    "collapsed": false
   },
   "outputs": [
    {
     "name": "stdout",
     "output_type": "stream",
     "text": [
      "['watch', 'your', 'thoughts', 'they', 'become', 'words', 'watch', 'your', 'words', 'they', 'become', 'actions', 'watch', 'your', 'actions', 'they', 'become', 'habits', 'watch', 'your', 'habits', 'they', 'become', 'character', 'watch', 'your', 'character', 'it', 'becomes', 'your', 'destiny']\n"
     ]
    }
   ],
   "source": [
    "import re\n",
    "\n",
    "text = \"\"\"Watch your thoughts; they become words\n",
    "Watch your words; they become actions\n",
    "Watch your actions; they become habits\n",
    "Watch your habits; they become character\n",
    "Watch your character; it becomes your destiny\"\"\"\n",
    "\n",
    "words = re.split(r'\\W+', text.lower())\n",
    "print(words)"
   ]
  },
  {
   "cell_type": "markdown",
   "metadata": {},
   "source": [
    "Notes:\n",
    "\n",
    "* In the example above, we split the block of text using the regular expression `r'\\W+'`. The `r''` notation tells the Python interpreter to treat this string as a *raw* string and do not interpret special characters such as the backslash. The expression `\\W` means non-word and the plus sign means at least one (non word).\n",
    "* In order to normalize the text, we turn the block into lower case with `text.lower()`\n",
    "* The `re.split()` function then returns a list of words\n",
    "\n",
    "Now that we have a list of words in hand, we can go ahead and count them using a couple different approaches, but they all employ some form of dictionaries."
   ]
  },
  {
   "cell_type": "markdown",
   "metadata": {},
   "source": [
    "# First Solution: Using Dictionary\n",
    "\n",
    "A dictionary is a natural solution in this case. We can have a dictionary whose keys represent the words and whose values represent the count:"
   ]
  },
  {
   "cell_type": "code",
   "execution_count": 2,
   "metadata": {
    "collapsed": false
   },
   "outputs": [
    {
     "data": {
      "text/plain": [
       "{'actions': 2,\n",
       " 'become': 4,\n",
       " 'becomes': 1,\n",
       " 'character': 2,\n",
       " 'destiny': 1,\n",
       " 'habits': 2,\n",
       " 'it': 1,\n",
       " 'they': 4,\n",
       " 'thoughts': 1,\n",
       " 'watch': 5,\n",
       " 'words': 2,\n",
       " 'your': 6}"
      ]
     },
     "execution_count": 2,
     "metadata": {},
     "output_type": "execute_result"
    }
   ],
   "source": [
    "frequency = {}\n",
    "for word in words:\n",
    "    if word not in frequency:\n",
    "        frequency[word] = 0\n",
    "    frequency[word] += 1\n",
    "\n",
    "frequency"
   ]
  },
  {
   "cell_type": "markdown",
   "metadata": {},
   "source": [
    "Notes\n",
    "\n",
    "* In the loop, if the word is not yet found in the `frequency` dictionary, then we initialize it with zero\n",
    "* Next, we increase the count for that word\n",
    "\n",
    "This solution is simple, easy for newbie to understand, but we can still improve it. Let's take a detour and learn a bout a dictionary feature which will make our lives simpler and more efficient."
   ]
  },
  {
   "cell_type": "markdown",
   "metadata": {},
   "source": [
    "# Detour: A Useful Dictionary Feature: setdefault\n",
    "\n",
    "A Python dictionary object has many useful methods, one if which is `.setdefault()`. Let's see how it works:"
   ]
  },
  {
   "cell_type": "code",
   "execution_count": 3,
   "metadata": {
    "collapsed": false
   },
   "outputs": [
    {
     "data": {
      "text/plain": [
       "9"
      ]
     },
     "execution_count": 3,
     "metadata": {},
     "output_type": "execute_result"
    }
   ],
   "source": [
    "d = {'a': 1, 'b': 2}\n",
    "d.setdefault('c', 9)"
   ]
  },
  {
   "cell_type": "code",
   "execution_count": 4,
   "metadata": {
    "collapsed": false
   },
   "outputs": [
    {
     "data": {
      "text/plain": [
       "{'a': 1, 'b': 2, 'c': 9}"
      ]
     },
     "execution_count": 4,
     "metadata": {},
     "output_type": "execute_result"
    }
   ],
   "source": [
    "d"
   ]
  },
  {
   "cell_type": "markdown",
   "metadata": {},
   "source": [
    "The English translation for the above would be: if the key **c** is not yet in the dictionary, add it with value **9**. Note that `setdefault()` also returns this value, **9**. Let's take another example:"
   ]
  },
  {
   "cell_type": "code",
   "execution_count": 5,
   "metadata": {
    "collapsed": false
   },
   "outputs": [
    {
     "data": {
      "text/plain": [
       "1"
      ]
     },
     "execution_count": 5,
     "metadata": {},
     "output_type": "execute_result"
    }
   ],
   "source": [
    "d = {'a': 1, 'b': 2}\n",
    "d.setdefault('a', 100)"
   ]
  },
  {
   "cell_type": "code",
   "execution_count": 6,
   "metadata": {
    "collapsed": false
   },
   "outputs": [
    {
     "data": {
      "text/plain": [
       "{'a': 1, 'b': 2}"
      ]
     },
     "execution_count": 6,
     "metadata": {},
     "output_type": "execute_result"
    }
   ],
   "source": [
    "d"
   ]
  },
  {
   "cell_type": "markdown",
   "metadata": {},
   "source": [
    "In this case, the key **a** is already in the dictionary, `setdefault()` does not do anything. Instead, it returns the current value of `d[a]`."
   ]
  },
  {
   "cell_type": "markdown",
   "metadata": {},
   "source": [
    "# Second Solution: Using Dictionary and setdefault\n",
    "\n",
    "With this feature, we can improve the solution above:"
   ]
  },
  {
   "cell_type": "code",
   "execution_count": 7,
   "metadata": {
    "collapsed": false
   },
   "outputs": [
    {
     "data": {
      "text/plain": [
       "{'actions': 2,\n",
       " 'become': 4,\n",
       " 'becomes': 1,\n",
       " 'character': 2,\n",
       " 'destiny': 1,\n",
       " 'habits': 2,\n",
       " 'it': 1,\n",
       " 'they': 4,\n",
       " 'thoughts': 1,\n",
       " 'watch': 5,\n",
       " 'words': 2,\n",
       " 'your': 6}"
      ]
     },
     "execution_count": 7,
     "metadata": {},
     "output_type": "execute_result"
    }
   ],
   "source": [
    "frequency = {}\n",
    "for word in words:\n",
    "    frequency.setdefault(word, 0)\n",
    "    frequency[word] += 1\n",
    "\n",
    "frequency"
   ]
  },
  {
   "cell_type": "markdown",
   "metadata": {},
   "source": [
    "This time around, we call `setdefault()` to initialize the count of the *word* to 0. If the word is already in the dictionary, the call does not do anything, a no-op. Knowing that `setdefault()` also return the current value, we can shorten our code further:"
   ]
  },
  {
   "cell_type": "code",
   "execution_count": 8,
   "metadata": {
    "collapsed": false
   },
   "outputs": [
    {
     "data": {
      "text/plain": [
       "{'actions': 2,\n",
       " 'become': 4,\n",
       " 'becomes': 1,\n",
       " 'character': 2,\n",
       " 'destiny': 1,\n",
       " 'habits': 2,\n",
       " 'it': 1,\n",
       " 'they': 4,\n",
       " 'thoughts': 1,\n",
       " 'watch': 5,\n",
       " 'words': 2,\n",
       " 'your': 6}"
      ]
     },
     "execution_count": 8,
     "metadata": {},
     "output_type": "execute_result"
    }
   ],
   "source": [
    "frequency = {}\n",
    "for word in words:\n",
    "    frequency[word] = frequency.setdefault(word, 0) + 1\n",
    "\n",
    "frequency"
   ]
  },
  {
   "cell_type": "markdown",
   "metadata": {},
   "source": [
    "While this solution is even shorter than before, I still like the former one for being easier to understand."
   ]
  },
  {
   "cell_type": "markdown",
   "metadata": {},
   "source": [
    "# Detour: defaultdict\n",
    "\n",
    "Let us take another detour and look at a specialized dictionary: `defaultdict`. This dictionary behaves almost identical to the normal dictionary except when dealing with key-not-found situation:"
   ]
  },
  {
   "cell_type": "code",
   "execution_count": 9,
   "metadata": {
    "collapsed": false
   },
   "outputs": [
    {
     "ename": "KeyError",
     "evalue": "'c'",
     "output_type": "error",
     "traceback": [
      "\u001b[0;31m---------------------------------------------------------------------------\u001b[0m",
      "\u001b[0;31mKeyError\u001b[0m                                  Traceback (most recent call last)",
      "\u001b[0;32m<ipython-input-9-654122f65e4b>\u001b[0m in \u001b[0;36m<module>\u001b[0;34m()\u001b[0m\n\u001b[1;32m      2\u001b[0m \u001b[0;34m\u001b[0m\u001b[0m\n\u001b[1;32m      3\u001b[0m \u001b[0;31m# Access the non-existing key\u001b[0m\u001b[0;34m\u001b[0m\u001b[0;34m\u001b[0m\u001b[0m\n\u001b[0;32m----> 4\u001b[0;31m \u001b[0mnormal_dict\u001b[0m\u001b[0;34m[\u001b[0m\u001b[0;34m'c'\u001b[0m\u001b[0;34m]\u001b[0m\u001b[0;34m\u001b[0m\u001b[0m\n\u001b[0m",
      "\u001b[0;31mKeyError\u001b[0m: 'c'"
     ]
    }
   ],
   "source": [
    "normal_dict = dict(a=1, b=2)\n",
    "\n",
    "# Access the non-existing key\n",
    "normal_dict['c'] "
   ]
  },
  {
   "cell_type": "code",
   "execution_count": 10,
   "metadata": {
    "collapsed": false
   },
   "outputs": [
    {
     "data": {
      "text/plain": [
       "0"
      ]
     },
     "execution_count": 10,
     "metadata": {},
     "output_type": "execute_result"
    }
   ],
   "source": [
    "from collections import defaultdict\n",
    "\n",
    "int_dict = defaultdict(int, a=1, b=2)\n",
    "\n",
    "# Access the non-existing key\n",
    "int_dict['c']"
   ]
  },
  {
   "cell_type": "code",
   "execution_count": 11,
   "metadata": {
    "collapsed": false
   },
   "outputs": [
    {
     "data": {
      "text/plain": [
       "defaultdict(int, {'a': 1, 'b': 2, 'c': 0})"
      ]
     },
     "execution_count": 11,
     "metadata": {},
     "output_type": "execute_result"
    }
   ],
   "source": [
    "int_dict"
   ]
  },
  {
   "cell_type": "markdown",
   "metadata": {},
   "source": [
    "The first argument to `defaultdict` is called a factory, which is any callable (function, method, or class) which can be called without any parameter. In this case we passed `int` as a factory and `int() ==> 0`.\n",
    "\n",
    "As you can see, the first time we access the key **c**, the normal dictionary will raise a `KeyError` exception whereas the `defaultdict` simply create a new key with value `int()`, or 0."
   ]
  },
  {
   "cell_type": "markdown",
   "metadata": {},
   "source": [
    "# Third Solution: Using defaultdict\n",
    "\n",
    "Now that we learned about `defaultdict`, we can see it fits naturally to our solution. Instead of using a normal dictionary and call `setdefault()`, we can use `defaultdict` to simplify the code:"
   ]
  },
  {
   "cell_type": "code",
   "execution_count": 12,
   "metadata": {
    "collapsed": false
   },
   "outputs": [
    {
     "data": {
      "text/plain": [
       "defaultdict(int,\n",
       "            {'actions': 2,\n",
       "             'become': 4,\n",
       "             'becomes': 1,\n",
       "             'character': 2,\n",
       "             'destiny': 1,\n",
       "             'habits': 2,\n",
       "             'it': 1,\n",
       "             'they': 4,\n",
       "             'thoughts': 1,\n",
       "             'watch': 5,\n",
       "             'words': 2,\n",
       "             'your': 6})"
      ]
     },
     "execution_count": 12,
     "metadata": {},
     "output_type": "execute_result"
    }
   ],
   "source": [
    "from collections import defaultdict\n",
    "\n",
    "frequency = defaultdict(int)\n",
    "\n",
    "for word in words:\n",
    "    frequency[word] += 1\n",
    "\n",
    "frequency"
   ]
  },
  {
   "cell_type": "markdown",
   "metadata": {},
   "source": [
    "This solution so far is the shortest and easiest to understand (provide that we know how `defaultdict` works. \n",
    "\n",
    "* The first time we refer to `frequency[word]`, it will be initialized with value of `int()` or zero\n",
    "* Then, the expression `frequency[word] += 1` increments it\n",
    "\n",
    "This solution is as short as it gets, can we do better? It turns out that we can. Let's take another detour and learn about the `Counter` class."
   ]
  },
  {
   "cell_type": "markdown",
   "metadata": {},
   "source": [
    "# Detour: The Counter Class\n",
    "\n",
    "When it comes to counting things, Python standard library `collections` has a wonderful gift for you: the `Counter` class. Let's take a look at some example:"
   ]
  },
  {
   "cell_type": "code",
   "execution_count": 13,
   "metadata": {
    "collapsed": false
   },
   "outputs": [
    {
     "data": {
      "text/plain": [
       "Counter({'a': 3, 'b': 1, 'c': 1})"
      ]
     },
     "execution_count": 13,
     "metadata": {},
     "output_type": "execute_result"
    }
   ],
   "source": [
    "from collections import Counter\n",
    "\n",
    "counter = Counter()\n",
    "counter.update(['a', 'b', 'c', 'a', 'a'])\n",
    "counter"
   ]
  },
  {
   "cell_type": "code",
   "execution_count": 14,
   "metadata": {
    "collapsed": false
   },
   "outputs": [
    {
     "data": {
      "text/plain": [
       "3"
      ]
     },
     "execution_count": 14,
     "metadata": {},
     "output_type": "execute_result"
    }
   ],
   "source": [
    "counter['a']"
   ]
  },
  {
   "cell_type": "markdown",
   "metadata": {},
   "source": [
    "In the example above, we create a new counter object, update it with a list of string objects and it will automatically count the frequency of those string objects.\n",
    "\n",
    "Also note that the counter behaves just like a dictionary with `counter['a']` returns the frequency for `'a'`.\n",
    "\n",
    "It turns out that we can create a new counter object and initialize it at the same time."
   ]
  },
  {
   "cell_type": "code",
   "execution_count": 15,
   "metadata": {
    "collapsed": false
   },
   "outputs": [
    {
     "data": {
      "text/plain": [
       "Counter({'a': 3, 'b': 2, 'c': 1})"
      ]
     },
     "execution_count": 15,
     "metadata": {},
     "output_type": "execute_result"
    }
   ],
   "source": [
    "counter = Counter(['a', 'b', 'c', 'a', 'a', 'b'])\n",
    "counter"
   ]
  },
  {
   "cell_type": "markdown",
   "metadata": {},
   "source": [
    "A `Counter` object has other methods that you might find useful. For example:"
   ]
  },
  {
   "cell_type": "code",
   "execution_count": 16,
   "metadata": {
    "collapsed": false
   },
   "outputs": [
    {
     "data": {
      "text/plain": [
       "[('a', 3), ('b', 2)]"
      ]
     },
     "execution_count": 16,
     "metadata": {},
     "output_type": "execute_result"
    }
   ],
   "source": [
    "counter.most_common(2)"
   ]
  },
  {
   "cell_type": "markdown",
   "metadata": {},
   "source": [
    "# Fourth Solution: Using Counter\n",
    "\n",
    "Once we learned about the `Counter` class, the solution becomes a one-liner:"
   ]
  },
  {
   "cell_type": "code",
   "execution_count": 17,
   "metadata": {
    "collapsed": false
   },
   "outputs": [
    {
     "data": {
      "text/plain": [
       "Counter({'actions': 2,\n",
       "         'become': 4,\n",
       "         'becomes': 1,\n",
       "         'character': 2,\n",
       "         'destiny': 1,\n",
       "         'habits': 2,\n",
       "         'it': 1,\n",
       "         'they': 4,\n",
       "         'thoughts': 1,\n",
       "         'watch': 5,\n",
       "         'words': 2,\n",
       "         'your': 6})"
      ]
     },
     "execution_count": 17,
     "metadata": {},
     "output_type": "execute_result"
    }
   ],
   "source": [
    "from collections import Counter\n",
    "\n",
    "frequency = Counter(words)\n",
    "frequency"
   ]
  },
  {
   "cell_type": "markdown",
   "metadata": {},
   "source": [
    "# Conclusion\n",
    "\n",
    "Counting word frequency is a great way to learn about various kinds of dictionaries and their capabilities. After reading through this article, many newbies will undoubtedly ask:\n",
    "\n",
    "> Why didn't you show me the Counter solution and be over with? Why take the long road with many detours and finally ended with Counter?\n",
    "\n",
    "There are many reasons which I decided to take the long road:\n",
    "\n",
    "* This is an opportunity to learn about different kinds dictionaries\n",
    "* In order to learn how to run (Counter), we first need to learn how to walk (dict)\n",
    "* By learning how to do it with a normal dictionary, we learn the mechanics of how things work. The knowlege you learn here will be with you for a long time\n"
   ]
  }
 ],
 "metadata": {
  "anaconda-cloud": {},
  "kernelspec": {
   "display_name": "Python [default]",
   "language": "python",
   "name": "python3"
  },
  "language_info": {
   "codemirror_mode": {
    "name": "ipython",
    "version": 3
   },
   "file_extension": ".py",
   "mimetype": "text/x-python",
   "name": "python",
   "nbconvert_exporter": "python",
   "pygments_lexer": "ipython3",
   "version": "3.5.2"
  }
 },
 "nbformat": 4,
 "nbformat_minor": 1
}
