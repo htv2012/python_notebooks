{
 "cells": [
  {
   "cell_type": "markdown",
   "metadata": {
    "nbpresent": {
     "id": "6fee1ff0-6f74-448a-95a9-3c5afc35f93c"
    }
   },
   "source": [
    "# Problem\n",
    "\n",
    "I want to create a logger object which I have total control over its many aspects (log level, format, destination...)\n",
    "\n",
    "# Architecture\n",
    "\n",
    "A logger object contains one or more handlers, each is capable of outputing to a specific destination (console, file, socket, ...) Each handler can have its own formatting, specified by a a formatter object. For example, a logger object might have two handlers, one to console and one to a file.\n",
    "\n",
    "# Solution\n",
    "\n",
    "The following code snippet will create a logger object with simple formatting"
   ]
  },
  {
   "cell_type": "code",
   "execution_count": 1,
   "metadata": {
    "collapsed": false,
    "nbpresent": {
     "id": "34b7e0eb-329e-4c3c-842f-077f483ca572"
    }
   },
   "outputs": [
    {
     "name": "stdout",
     "output_type": "stream",
     "text": [
      "INFO: Hello, world\n",
      "DEBUG: x = 5\n"
     ]
    }
   ],
   "source": [
    "import logging\n",
    "import sys\n",
    "\n",
    "logging.basicConfig(level=logging.DEBUG, format='%(levelname)s: %(message)s', stream=sys.stdout)\n",
    "logger = logging.getLogger(__name__)\n",
    "\n",
    "x = 5\n",
    "logger.info('Hello, world')\n",
    "logger.debug('x = %r', x)\n"
   ]
  },
  {
   "cell_type": "markdown",
   "metadata": {
    "nbpresent": {
     "id": "d2efa605-6e40-4d70-ab3f-d2e75a854062"
    }
   },
   "source": [
    "# Discussion\n",
    "\n",
    "The `basicConfig` function provides a convenient way to configure many aspects of a logger object. The user should call this function prior to calling `getLogger`. The `getLogger` object takes an optional name parameter, usually the name of the module, hence the `__name__` parameter.\n",
    "\n",
    "In `basicConfig`, if we don't specify `stream=sys.stdout`, the output will go to `sys.stderr` by default."
   ]
  },
  {
   "cell_type": "code",
   "execution_count": null,
   "metadata": {
    "collapsed": true,
    "nbpresent": {
     "id": "f22164e6-a1f5-4210-9810-78c33f51991a"
    }
   },
   "outputs": [],
   "source": []
  }
 ],
 "metadata": {
  "anaconda-cloud": {},
  "kernelspec": {
   "display_name": "Python [conda env:python3]",
   "language": "python",
   "name": "conda-env-python3-py"
  },
  "language_info": {
   "codemirror_mode": {
    "name": "ipython",
    "version": 3
   },
   "file_extension": ".py",
   "mimetype": "text/x-python",
   "name": "python",
   "nbconvert_exporter": "python",
   "pygments_lexer": "ipython3",
   "version": "3.5.2"
  }
 },
 "nbformat": 4,
 "nbformat_minor": 1
}
