{
 "cells": [
  {
   "cell_type": "code",
   "execution_count": 6,
   "metadata": {
    "collapsed": false
   },
   "outputs": [
    {
     "name": "stdout",
     "output_type": "stream",
     "text": [
      "[['Gender', 'Age', 'Weight', 'Height'], ['Male', ' 55', ' 82', ' 180'], ['Female', ' 34', '55', '167'], ['Female', '44', '67', '182'], ['Male', '81', '73', '175'], ['Male', '44', '34', '87', '185']]\n"
     ]
    }
   ],
   "source": [
    "import csv\n",
    "from io import StringIO\n",
    "\n",
    "my_string = \"\"\"Gender,Age,Weight,Height\n",
    "Male, 55, 82, 180\n",
    "Female, 34,55,167\n",
    "Female,44,67,182\n",
    "Male,81,73,175\n",
    "Male,44,34,87,185\n",
    "\"\"\"\n",
    "\n",
    "buffer = StringIO(my_string)\n",
    "\n",
    "reader = csv.reader(buffer)\n",
    "# for line in reader:\n",
    "#     print(line)\n",
    "\n",
    "rows = list(reader)\n",
    "print(rows)\n"
   ]
  },
  {
   "cell_type": "code",
   "execution_count": null,
   "metadata": {
    "collapsed": true
   },
   "outputs": [],
   "source": []
  }
 ],
 "metadata": {
  "kernelspec": {
   "display_name": "Python 3",
   "language": "python",
   "name": "python3"
  },
  "language_info": {
   "codemirror_mode": {
    "name": "ipython",
    "version": 3
   },
   "file_extension": ".py",
   "mimetype": "text/x-python",
   "name": "python",
   "nbconvert_exporter": "python",
   "pygments_lexer": "ipython3",
   "version": "3.6.0"
  }
 },
 "nbformat": 4,
 "nbformat_minor": 2
}
