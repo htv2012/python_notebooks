{
 "cells": [
  {
   "cell_type": "markdown",
   "metadata": {},
   "source": [
    "Python interpreter u"
   ]
  },
  {
   "cell_type": "code",
   "execution_count": 21,
   "metadata": {
    "collapsed": false
   },
   "outputs": [
    {
     "name": "stdout",
     "output_type": "stream",
     "text": [
      "A dog name Rover is born\n",
      "dog1: a dog name Rover\n",
      "Name + woof: Roverwoof\n",
      "A dog name Lassie is born\n",
      "A dog name rover is born\n",
      "---\n",
      "Rover and lassie are equal: False\n",
      "Rover and rover are equal: True\n"
     ]
    }
   ],
   "source": [
    "class Dog:\n",
    "    def __init__(self, name):\n",
    "        print('A dog name {} is born'.format(name))\n",
    "        self.name = name\n",
    "        \n",
    "    def __str__(self):\n",
    "        return 'a dog name {}'.format(self.name)\n",
    "    \n",
    "    def __eq__(self, other):\n",
    "        return self.name == other.name\n",
    "\n",
    "# 3 dog nights\n",
    "dog1 = Dog('Rover')\n",
    "dog2 = Dog('Lassie')\n",
    "dog3 = Dog('rover')\n",
    "\n",
    "print('dog1:', dog1)\n",
    "print('Name + woof:', dog1.name + 'woof')\n",
    "\n",
    "# Compare dogs\n",
    "\n",
    "print('---')\n",
    "print('Rover and lassie are equal:', dog1 == dog2)\n",
    "print('Rover and rover are equal:', dog1 == dog3)\n",
    "# print('Rover and rover are equal:', dog1.__eq__(dog3))\n"
   ]
  },
  {
   "cell_type": "markdown",
   "metadata": {},
   "source": [
    "Learn, talk:\n",
    " \n",
    "- case insentive comparison\n",
    "- yield"
   ]
  }
 ],
 "metadata": {
  "anaconda-cloud": {},
  "kernelspec": {
   "display_name": "Python [conda root]",
   "language": "python",
   "name": "conda-root-py"
  },
  "language_info": {
   "codemirror_mode": {
    "name": "ipython",
    "version": 3
   },
   "file_extension": ".py",
   "mimetype": "text/x-python",
   "name": "python",
   "nbconvert_exporter": "python",
   "pygments_lexer": "ipython3",
   "version": "3.5.2"
  }
 },
 "nbformat": 4,
 "nbformat_minor": 1
}
