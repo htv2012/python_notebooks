{
 "cells": [
  {
   "cell_type": "markdown",
   "metadata": {},
   "source": [
    "# Introduction\n",
    "\n",
    "Most of us work with CSV data taken from a file, but the CSV data can come from any source such as string, socket, or generators to name a few. In a previous notebook, I have discussed the use of strings as a source to CSV data so I will not mention it again this notebook.\n"
   ]
  },
  {
   "cell_type": "markdown",
   "metadata": {},
   "source": [
    "## Using Generator Source\n"
   ]
  },
  {
   "cell_type": "code",
   "execution_count": 2,
   "metadata": {},
   "outputs": [
    {
     "name": "stdout",
     "output_type": "stream",
     "text": [
      "['alias', 'uid', 'shell']\n",
      "['john', '501', 'bash']\n",
      "['karen', '502', 'tcsh']\n"
     ]
    }
   ],
   "source": [
    "import csv\n",
    "\n",
    "def read_records():\n",
    "    \"\"\"\n",
    "    In real life, this generator will read the records elsewhere\n",
    "    \"\"\"\n",
    "    yield \"alias,uid,shell\"\n",
    "    yield \"john,501,bash\"\n",
    "    yield \"karen,502,tcsh\"\n",
    "    \n",
    "reader = csv.reader(read_records())\n",
    "for record in reader:\n",
    "    print(record)"
   ]
  }
 ],
 "metadata": {
  "kernelspec": {
   "display_name": "Python 3",
   "language": "python",
   "name": "python3"
  },
  "language_info": {
   "codemirror_mode": {
    "name": "ipython",
    "version": 3
   },
   "file_extension": ".py",
   "mimetype": "text/x-python",
   "name": "python",
   "nbconvert_exporter": "python",
   "pygments_lexer": "ipython3",
   "version": "3.7.0"
  }
 },
 "nbformat": 4,
 "nbformat_minor": 2
}
