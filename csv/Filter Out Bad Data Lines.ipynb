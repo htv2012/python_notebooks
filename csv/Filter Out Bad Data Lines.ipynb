{
 "cells": [
  {
   "cell_type": "markdown",
   "metadata": {},
   "source": [
    "# Introduction\n",
    "\n",
    "We often need to deal with a CSV source that contains both \"meat\" (the usuable, good lines) and \"fat\" (the lines we want to discard). Here are a couple of techniques which we can use to filter out unwanted lines."
   ]
  },
  {
   "cell_type": "markdown",
   "metadata": {},
   "source": [
    "## Good-Line Predicate\n",
    "\n",
    "In this approach, we create a simple function which takes as input a data line and return `True` if it is a good line (\"meat\") or `False` otherwise."
   ]
  },
  {
   "cell_type": "code",
   "execution_count": 1,
   "metadata": {},
   "outputs": [
    {
     "name": "stdout",
     "output_type": "stream",
     "text": [
      "['501', 'karen', 'bash']\n",
      "['502', 'john', 'tcsh']\n",
      "['601', 'peter', 'bash']\n",
      "['602', 'paul', 'tclsh']\n",
      "['603', 'mary', 'zsh']\n"
     ]
    }
   ],
   "source": [
    "import csv\n",
    "from io import StringIO\n",
    "\n",
    "# Here is a buffer which contains \"fat\" such as\n",
    "# blank lines or comments\n",
    "buffer = StringIO(\"\"\"\n",
    "# The Carpenters\n",
    "501,karen,bash\n",
    "502,john,tcsh\n",
    "\n",
    "# Peter, Paul and Mary\n",
    "601,peter,bash\n",
    "602,paul,tclsh\n",
    "603,mary,zsh\n",
    "\"\"\")\n",
    "\n",
    "def is_good_line(line):\n",
    "    \"\"\"\n",
    "    Definition of a good line: not blank and \n",
    "    does not start with a comment\n",
    "    \"\"\"\n",
    "    line = line.strip()\n",
    "    return line != '' and not line.startswith('#')\n",
    "\n",
    "#\n",
    "# Main: filter out the \"fat\" from the buffer\n",
    "# and feed the good lines to a CSV reader\n",
    "#\n",
    "meat = filter(is_good_line, buffer)\n",
    "for record in csv.reader(meat):\n",
    "    print(record)"
   ]
  },
  {
   "cell_type": "markdown",
   "metadata": {},
   "source": [
    "## Filter Generator\n",
    "\n",
    "In this approach, we create a generator which takes in a sequence of input lines and only return those that are good. The advantage of this approach is we can optionally alter the input lines such as removing leading spaces."
   ]
  },
  {
   "cell_type": "code",
   "execution_count": 2,
   "metadata": {},
   "outputs": [
    {
     "name": "stdout",
     "output_type": "stream",
     "text": [
      "['501', 'karen', 'bash']\n",
      "['502', 'john', 'tcsh']\n",
      "['601', 'peter', 'bash']\n",
      "['602', 'paul', 'tclsh']\n",
      "['603', 'mary', 'zsh']\n"
     ]
    }
   ],
   "source": [
    "import csv\n",
    "from io import StringIO\n",
    "\n",
    "# Here is a buffer which contains \"fat\" such as\n",
    "# blank lines, comments, or leading spaces\n",
    "buffer = StringIO(\"\"\"\n",
    "# The Carpenters\n",
    "  501,karen,bash\n",
    "  502,john,tcsh\n",
    "\n",
    "# Peter, Paul and Mary\n",
    "  601,peter,bash\n",
    "  602,paul,tclsh\n",
    "  603,mary,zsh\n",
    "\"\"\")\n",
    "\n",
    "def clean_lines(lines):\n",
    "    \"\"\"\n",
    "    Filter out blank or comment lines, also remove leading spaces\n",
    "    \"\"\"\n",
    "    for line in lines:\n",
    "        line = line.strip()\n",
    "        if line and not line.startswith('#'):\n",
    "            yield line\n",
    "\n",
    "#\n",
    "# Main: filter out the \"fat\" from the buffer\n",
    "# and feed the good lines to a CSV reader\n",
    "#\n",
    "meat = clean_lines(buffer)\n",
    "for record in csv.reader(meat):\n",
    "    print(record)"
   ]
  }
 ],
 "metadata": {
  "kernelspec": {
   "display_name": "Python 3",
   "language": "python",
   "name": "python3"
  },
  "language_info": {
   "codemirror_mode": {
    "name": "ipython",
    "version": 3
   },
   "file_extension": ".py",
   "mimetype": "text/x-python",
   "name": "python",
   "nbconvert_exporter": "python",
   "pygments_lexer": "ipython3",
   "version": "3.7.3"
  }
 },
 "nbformat": 4,
 "nbformat_minor": 2
}
