{
 "cells": [
  {
   "cell_type": "markdown",
   "metadata": {},
   "source": [
    "# Introduction\n",
    "\n",
    "When dealing with CSV, we often need to reference to each individual cells. For a `csv.reader`, each row is represented as a tuple; and for a `csv.DictReader`, a dictionary. Neither of these choices are as convenient as named tuple. In this article, we will look into ways which convert rows into named tuple for easy access."
   ]
  },
  {
   "cell_type": "markdown",
   "metadata": {},
   "source": [
    "# Named Tuple from csv.reader\n",
    "\n",
    "For `csv.reader`, the default row is a tuple, which we can easily map to a named tuple:"
   ]
  },
  {
   "cell_type": "code",
   "execution_count": 1,
   "metadata": {},
   "outputs": [
    {
     "name": "stdout",
     "output_type": "stream",
     "text": [
      "User(uid='501', alias='karen', shell='bash')\n",
      "User(uid='502', alias='john', shell='tcsh')\n"
     ]
    }
   ],
   "source": [
    "import csv\n",
    "import collections\n",
    "from io import StringIO\n",
    "\n",
    "\n",
    "User = collections.namedtuple('User', 'uid,alias,shell')\n",
    "buffer = StringIO(\"\"\"501,karen,bash\n",
    "502,john,tcsh\"\"\")\n",
    "\n",
    "for row in map(User._make, csv.reader(buffer)):\n",
    "    print(row)"
   ]
  },
  {
   "cell_type": "code",
   "execution_count": 2,
   "metadata": {},
   "outputs": [
    {
     "name": "stdout",
     "output_type": "stream",
     "text": [
      "OrderedDict([('uid', '501'), ('alias', 'karen'), ('shell', 'bash')])\n"
     ]
    },
    {
     "data": {
      "text/plain": [
       "User(uid='501', alias='karen', shell='bash')"
      ]
     },
     "execution_count": 2,
     "metadata": {},
     "output_type": "execute_result"
    }
   ],
   "source": [
    "from collections import OrderedDict\n",
    "d = OrderedDict(uid='501', alias='karen', shell='bash')\n",
    "print(d)\n",
    "User(**d)"
   ]
  },
  {
   "cell_type": "markdown",
   "metadata": {},
   "source": [
    "Given a named tuple `User`, we can use `User._make` to map each row from a tuple to a named tuple."
   ]
  },
  {
   "cell_type": "markdown",
   "metadata": {},
   "source": [
    "# Named Tuple from csv.DictReader\n",
    "\n",
    "It turns out that `User._make` can also take in a dictionary, which makes the code identical to that of `csv.reader`:"
   ]
  },
  {
   "cell_type": "code",
   "execution_count": 3,
   "metadata": {},
   "outputs": [
    {
     "name": "stdout",
     "output_type": "stream",
     "text": [
      "User(uid='uid', alias='alias', shell='shell')\n",
      "User(uid='uid', alias='alias', shell='shell')\n"
     ]
    }
   ],
   "source": [
    "import csv\n",
    "import collections\n",
    "import io\n",
    "\n",
    "User = collections.namedtuple('User', 'uid,alias,shell')\n",
    "buffer = io.StringIO(\"\"\"uid,alias,shell\n",
    "501,karen,bash\n",
    "502,john,tcsh\"\"\")\n",
    "\n",
    "for row in map(User._make, csv.DictReader(buffer)):\n",
    "    print(row)"
   ]
  },
  {
   "cell_type": "markdown",
   "metadata": {},
   "source": [
    "# Named Tuple to csv.writer\n",
    "\n",
    "Since a named tuple is a tuple, we should be able to use them directly with a `csv.writer`"
   ]
  },
  {
   "cell_type": "markdown",
   "metadata": {},
   "source": [
    "# Named Tuple to csv.DictWriter\n",
    "\n",
    "Writing to a `csv.DictWriter` requires converting each named tuple into a dictionary using the `_asdict` method:"
   ]
  },
  {
   "cell_type": "code",
   "execution_count": 4,
   "metadata": {},
   "outputs": [
    {
     "name": "stdout",
     "output_type": "stream",
     "text": [
      "501,karen,bash\r\n",
      "502,john,tcsh\r\n",
      "\n"
     ]
    }
   ],
   "source": [
    "import csv\n",
    "import io\n",
    "\n",
    "User = collections.namedtuple('User', 'uid,alias,shell')\n",
    "user1 = User('501', 'karen', 'bash')\n",
    "user2 = User('502', 'john', 'tcsh')\n",
    "\n",
    "buffer = io.StringIO()\n",
    "writer = csv.DictWriter(buffer, User._fields)\n",
    "writer.writerow(user1._asdict())\n",
    "writer.writerow(user2._asdict())\n",
    "\n",
    "print(buffer.getvalue())"
   ]
  }
 ],
 "metadata": {
  "kernelspec": {
   "display_name": "Python 3",
   "language": "python",
   "name": "python3"
  },
  "language_info": {
   "codemirror_mode": {
    "name": "ipython",
    "version": 3
   },
   "file_extension": ".py",
   "mimetype": "text/x-python",
   "name": "python",
   "nbconvert_exporter": "python",
   "pygments_lexer": "ipython3",
   "version": "3.7.0"
  }
 },
 "nbformat": 4,
 "nbformat_minor": 2
}
