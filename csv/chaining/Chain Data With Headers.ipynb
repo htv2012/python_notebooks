{
 "cells": [
  {
   "cell_type": "markdown",
   "metadata": {},
   "source": [
    "# Introduction\n",
    "\n",
    "In our applications, we often need to chain multiple CSV data sources into a single one. If the data has headers, it complicates matter a little. Here are suggestions on how to deal with this situation."
   ]
  },
  {
   "cell_type": "code",
   "execution_count": 1,
   "metadata": {},
   "outputs": [
    {
     "name": "stdout",
     "output_type": "stream",
     "text": [
      "uid,alias,shell\n",
      "501,karen,bash\n",
      "502,john,tcsh\n",
      "\n"
     ]
    }
   ],
   "source": [
    "# Contents of the first data file\n",
    "with open('header1.csv') as f:\n",
    "    print(f.read())"
   ]
  },
  {
   "cell_type": "code",
   "execution_count": 2,
   "metadata": {},
   "outputs": [
    {
     "name": "stdout",
     "output_type": "stream",
     "text": [
      "uid,alias,shell\n",
      "601,peter,bash\n",
      "602,paul,tcsh\n",
      "603,mary,zsh\n",
      "\n"
     ]
    }
   ],
   "source": [
    "# Contents of the second data file\n",
    "with open('header2.csv') as f:\n",
    "    print(f.read())"
   ]
  },
  {
   "cell_type": "markdown",
   "metadata": {},
   "source": [
    "## Using Homemade Solution\n",
    "\n",
    "In this solution, we open one file after another and skip the header line for all but the first file."
   ]
  },
  {
   "cell_type": "code",
   "execution_count": 4,
   "metadata": {},
   "outputs": [
    {
     "name": "stdout",
     "output_type": "stream",
     "text": [
      "OrderedDict([('uid', '501'), ('alias', 'karen'), ('shell', 'bash')])\n",
      "OrderedDict([('uid', '502'), ('alias', 'john'), ('shell', 'tcsh')])\n",
      "OrderedDict([('uid', '601'), ('alias', 'peter'), ('shell', 'bash')])\n",
      "OrderedDict([('uid', '602'), ('alias', 'paul'), ('shell', 'tcsh')])\n",
      "OrderedDict([('uid', '603'), ('alias', 'mary'), ('shell', 'zsh')])\n"
     ]
    }
   ],
   "source": [
    "import csv\n",
    "\n",
    "def open_files(*filenames):\n",
    "    for counter, filename in enumerate(filenames, 1):\n",
    "        with open(filename) as f:\n",
    "            if counter > 1:\n",
    "                next(f)  # Skip the header\n",
    "            yield from f\n",
    "            \n",
    "for record in csv.DictReader((open_files('header1.csv', 'header2.csv'))):\n",
    "    print(record)"
   ]
  },
  {
   "cell_type": "markdown",
   "metadata": {},
   "source": [
    "## Using Multiple Readers\n",
    "\n",
    "A different approach is to use multiple readers:"
   ]
  },
  {
   "cell_type": "code",
   "execution_count": 9,
   "metadata": {},
   "outputs": [
    {
     "name": "stdout",
     "output_type": "stream",
     "text": [
      "OrderedDict([('uid', '501'), ('alias', 'karen'), ('shell', 'bash')])\n",
      "OrderedDict([('uid', '502'), ('alias', 'john'), ('shell', 'tcsh')])\n",
      "OrderedDict([('uid', '601'), ('alias', 'peter'), ('shell', 'bash')])\n",
      "OrderedDict([('uid', '602'), ('alias', 'paul'), ('shell', 'tcsh')])\n",
      "OrderedDict([('uid', '603'), ('alias', 'mary'), ('shell', 'zsh')])\n"
     ]
    }
   ],
   "source": [
    "import csv\n",
    "\n",
    "def open_readers(*filenames):\n",
    "    for filename in filenames:\n",
    "        with open(filename) as f:\n",
    "            reader = csv.DictReader(f)\n",
    "            yield from reader\n",
    "            \n",
    "for record in open_readers('header1.csv', 'header2.csv'):\n",
    "    print(record)"
   ]
  }
 ],
 "metadata": {
  "kernelspec": {
   "display_name": "Python 3",
   "language": "python",
   "name": "python3"
  },
  "language_info": {
   "codemirror_mode": {
    "name": "ipython",
    "version": 3
   },
   "file_extension": ".py",
   "mimetype": "text/x-python",
   "name": "python",
   "nbconvert_exporter": "python",
   "pygments_lexer": "ipython3",
   "version": "3.7.0"
  }
 },
 "nbformat": 4,
 "nbformat_minor": 2
}
