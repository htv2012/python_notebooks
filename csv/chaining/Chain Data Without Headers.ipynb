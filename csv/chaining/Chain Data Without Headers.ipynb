{
 "cells": [
  {
   "cell_type": "markdown",
   "metadata": {},
   "source": [
    "# Introduction\n",
    "\n",
    "Sometimes, we need to deal with a list of CSV files as a single CSV source. There are a couple of ways to go about this task."
   ]
  },
  {
   "cell_type": "code",
   "execution_count": 4,
   "metadata": {},
   "outputs": [
    {
     "name": "stdout",
     "output_type": "stream",
     "text": [
      "501,karen,bash\n",
      "502,john,tcsh\n"
     ]
    }
   ],
   "source": [
    "# Contents of no_header1.csv\n",
    "with open('no_header1.csv') as f:\n",
    "    print(f.read())"
   ]
  },
  {
   "cell_type": "code",
   "execution_count": 5,
   "metadata": {},
   "outputs": [
    {
     "name": "stdout",
     "output_type": "stream",
     "text": [
      "601,peter,bash\n",
      "602,paul,tcsh\n",
      "603,mary,zsh\n"
     ]
    }
   ],
   "source": [
    "# Contents of no_header2.csv\n",
    "with open('no_header2.csv') as f:\n",
    "    print(f.read())"
   ]
  },
  {
   "cell_type": "markdown",
   "metadata": {},
   "source": [
    "## Homemade Solution\n",
    "\n",
    "The first and obvious way is to open each file and return the lines within."
   ]
  },
  {
   "cell_type": "code",
   "execution_count": 3,
   "metadata": {},
   "outputs": [
    {
     "name": "stdout",
     "output_type": "stream",
     "text": [
      "['501', 'karen', 'bash']\n",
      "['502', 'john', 'tcsh']\n",
      "['601', 'peter', 'bash']\n",
      "['602', 'paul', 'tcsh']\n",
      "['603', 'mary', 'zsh']\n"
     ]
    }
   ],
   "source": [
    "import csv\n",
    "\n",
    "def open_multiple_files(*filenames):\n",
    "    for filename in filenames:\n",
    "        with open(filename) as f:\n",
    "            yield from f\n",
    "\n",
    "reader = csv.reader(open_multiple_files('no_header1.csv', 'no_header2.csv'))\n",
    "for record in reader:\n",
    "    print(record)"
   ]
  },
  {
   "cell_type": "markdown",
   "metadata": {},
   "source": [
    "## Using fileinput\n",
    "\n",
    "We can use the Python standard library `fileinput` to chain many files at once."
   ]
  },
  {
   "cell_type": "code",
   "execution_count": 6,
   "metadata": {},
   "outputs": [
    {
     "name": "stdout",
     "output_type": "stream",
     "text": [
      "['501', 'karen', 'bash']\n",
      "['502', 'john', 'tcsh']\n",
      "['601', 'peter', 'bash']\n",
      "['602', 'paul', 'tcsh']\n",
      "['603', 'mary', 'zsh']\n"
     ]
    }
   ],
   "source": [
    "import csv\n",
    "import fileinput\n",
    "\n",
    "reader = csv.reader(fileinput.input(['no_header1.csv', 'no_header2.csv']))\n",
    "for record in reader:\n",
    "    print(record)"
   ]
  },
  {
   "cell_type": "markdown",
   "metadata": {},
   "source": [
    "## Using itertools.chain\n",
    "\n",
    "This method use the `itertools.chain` function to chain together a list of file objects. The disadvantage of this method is it opens many files at once, bad if the number of files is large."
   ]
  },
  {
   "cell_type": "code",
   "execution_count": 9,
   "metadata": {},
   "outputs": [
    {
     "ename": "AttributeError",
     "evalue": "module 'itertools' has no attribute 'chain_from_iterables'",
     "output_type": "error",
     "traceback": [
      "\u001b[0;31m---------------------------------------------------------------------------\u001b[0m",
      "\u001b[0;31mAttributeError\u001b[0m                            Traceback (most recent call last)",
      "\u001b[0;32m<ipython-input-9-a679718d2a8c>\u001b[0m in \u001b[0;36m<module>\u001b[0;34m\u001b[0m\n\u001b[1;32m      4\u001b[0m \u001b[0mfilenames\u001b[0m \u001b[0;34m=\u001b[0m \u001b[0;34m[\u001b[0m\u001b[0;34m'no_header1.csv'\u001b[0m\u001b[0;34m,\u001b[0m \u001b[0;34m'no_header2.csv'\u001b[0m\u001b[0;34m]\u001b[0m\u001b[0;34m\u001b[0m\u001b[0;34m\u001b[0m\u001b[0m\n\u001b[1;32m      5\u001b[0m \u001b[0mhandles\u001b[0m \u001b[0;34m=\u001b[0m \u001b[0mmap\u001b[0m\u001b[0;34m(\u001b[0m\u001b[0mopen\u001b[0m\u001b[0;34m,\u001b[0m \u001b[0mfilenames\u001b[0m\u001b[0;34m)\u001b[0m\u001b[0;34m\u001b[0m\u001b[0;34m\u001b[0m\u001b[0m\n\u001b[0;32m----> 6\u001b[0;31m \u001b[0mcontents\u001b[0m \u001b[0;34m=\u001b[0m \u001b[0mitertools\u001b[0m\u001b[0;34m.\u001b[0m\u001b[0mchain_from_iterables\u001b[0m\u001b[0;34m(\u001b[0m\u001b[0mhandles\u001b[0m\u001b[0;34m)\u001b[0m\u001b[0;34m\u001b[0m\u001b[0;34m\u001b[0m\u001b[0m\n\u001b[0m\u001b[1;32m      7\u001b[0m \u001b[0mreader\u001b[0m \u001b[0;34m=\u001b[0m \u001b[0mcsv\u001b[0m\u001b[0;34m.\u001b[0m\u001b[0mreader\u001b[0m\u001b[0;34m(\u001b[0m\u001b[0mcontents\u001b[0m\u001b[0;34m)\u001b[0m\u001b[0;34m\u001b[0m\u001b[0;34m\u001b[0m\u001b[0m\n\u001b[1;32m      8\u001b[0m \u001b[0;32mfor\u001b[0m \u001b[0mrecord\u001b[0m \u001b[0;32min\u001b[0m \u001b[0mreader\u001b[0m\u001b[0;34m:\u001b[0m\u001b[0;34m\u001b[0m\u001b[0;34m\u001b[0m\u001b[0m\n",
      "\u001b[0;31mAttributeError\u001b[0m: module 'itertools' has no attribute 'chain_from_iterables'"
     ]
    }
   ],
   "source": [
    "import csv\n",
    "import itertools\n",
    "\n",
    "filenames = ['no_header1.csv', 'no_header2.csv']\n",
    "handles = map(open, filenames)\n",
    "contents = itertools.chain_from_iterables(handles)\n",
    "reader = csv.reader(contents)\n",
    "for record in reader:\n",
    "    print(record)"
   ]
  }
 ],
 "metadata": {
  "kernelspec": {
   "display_name": "Python 3",
   "language": "python",
   "name": "python3"
  },
  "language_info": {
   "codemirror_mode": {
    "name": "ipython",
    "version": 3
   },
   "file_extension": ".py",
   "mimetype": "text/x-python",
   "name": "python",
   "nbconvert_exporter": "python",
   "pygments_lexer": "ipython3",
   "version": "3.7.3"
  }
 },
 "nbformat": 4,
 "nbformat_minor": 2
}
