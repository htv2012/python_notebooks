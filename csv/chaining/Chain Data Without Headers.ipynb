{
 "cells": [
  {
   "cell_type": "markdown",
   "metadata": {},
   "source": [
    "# Introduction\n",
    "\n",
    "Sometimes, we need to deal with a list of CSV files as a single CSV source. There are a couple of ways to go about this task."
   ]
  },
  {
   "cell_type": "code",
   "execution_count": 4,
   "metadata": {},
   "outputs": [
    {
     "name": "stdout",
     "output_type": "stream",
     "text": [
      "501,karen,bash\n",
      "502,john,tcsh\n"
     ]
    }
   ],
   "source": [
    "# Contents of no_header1.csv\n",
    "with open('no_header1.csv') as f:\n",
    "    print(f.read())"
   ]
  },
  {
   "cell_type": "code",
   "execution_count": 5,
   "metadata": {},
   "outputs": [
    {
     "name": "stdout",
     "output_type": "stream",
     "text": [
      "601,peter,bash\n",
      "602,paul,tcsh\n",
      "603,mary,zsh\n"
     ]
    }
   ],
   "source": [
    "# Contents of no_header2.csv\n",
    "with open('no_header2.csv') as f:\n",
    "    print(f.read())"
   ]
  },
  {
   "cell_type": "markdown",
   "metadata": {},
   "source": [
    "## Homemade Solution\n",
    "\n",
    "The first and obvious way is to open each file and return the lines within."
   ]
  },
  {
   "cell_type": "code",
   "execution_count": 3,
   "metadata": {},
   "outputs": [
    {
     "name": "stdout",
     "output_type": "stream",
     "text": [
      "['501', 'karen', 'bash']\n",
      "['502', 'john', 'tcsh']\n",
      "['601', 'peter', 'bash']\n",
      "['602', 'paul', 'tcsh']\n",
      "['603', 'mary', 'zsh']\n"
     ]
    }
   ],
   "source": [
    "import csv\n",
    "\n",
    "def open_multiple_files(*filenames):\n",
    "    for filename in filenames:\n",
    "        with open(filename) as f:\n",
    "            yield from f\n",
    "\n",
    "reader = csv.reader(open_multiple_files('no_header1.csv', 'no_header2.csv'))\n",
    "for record in reader:\n",
    "    print(record)"
   ]
  },
  {
   "cell_type": "markdown",
   "metadata": {},
   "source": [
    "## Using fileinput\n",
    "\n",
    "We can use the Python standard library `fileinput` to chain many files at once."
   ]
  },
  {
   "cell_type": "code",
   "execution_count": 6,
   "metadata": {},
   "outputs": [
    {
     "name": "stdout",
     "output_type": "stream",
     "text": [
      "['501', 'karen', 'bash']\n",
      "['502', 'john', 'tcsh']\n",
      "['601', 'peter', 'bash']\n",
      "['602', 'paul', 'tcsh']\n",
      "['603', 'mary', 'zsh']\n"
     ]
    }
   ],
   "source": [
    "import csv\n",
    "import fileinput\n",
    "\n",
    "reader = csv.reader(fileinput.input(['no_header1.csv', 'no_header2.csv']))\n",
    "for record in reader:\n",
    "    print(record)"
   ]
  },
  {
   "cell_type": "markdown",
   "metadata": {},
   "source": [
    "## Using itertools.chain\n",
    "\n",
    "This method use the `itertools.chain` function to chain together a list of file objects. The disadvantage of this method is it opens many files at once, bad if the number of files is large."
   ]
  },
  {
   "cell_type": "code",
   "execution_count": 3,
   "metadata": {},
   "outputs": [
    {
     "name": "stdout",
     "output_type": "stream",
     "text": [
      "['501', 'karen', 'bash']\n",
      "['502', 'john', 'tcsh']\n",
      "['601', 'peter', 'bash']\n",
      "['602', 'paul', 'tcsh']\n",
      "['603', 'mary', 'zsh']\n"
     ]
    }
   ],
   "source": [
    "import csv\n",
    "import itertools\n",
    "\n",
    "filenames = ['no_header1.csv', 'no_header2.csv']\n",
    "contents = itertools.chain(*[open(f) for f in filenames])\n",
    "for record in csv.reader(contents):\n",
    "    print(record)"
   ]
  },
  {
   "cell_type": "markdown",
   "metadata": {},
   "source": [
    "We can also use `itertools.chain.from_iterable` to accomplish the same:"
   ]
  },
  {
   "cell_type": "code",
   "execution_count": 6,
   "metadata": {},
   "outputs": [
    {
     "name": "stdout",
     "output_type": "stream",
     "text": [
      "['501', 'karen', 'bash']\n",
      "['502', 'john', 'tcsh']\n",
      "['601', 'peter', 'bash']\n",
      "['602', 'paul', 'tcsh']\n",
      "['603', 'mary', 'zsh']\n"
     ]
    }
   ],
   "source": [
    "import csv\n",
    "import itertools\n",
    "\n",
    "filenames = ['no_header1.csv', 'no_header2.csv']\n",
    "contents = itertools.chain.from_iterable([open(f) for f in filenames])\n",
    "for record in csv.reader(contents):\n",
    "    print(record)"
   ]
  }
 ],
 "metadata": {
  "kernelspec": {
   "display_name": "Python 3",
   "language": "python",
   "name": "python3"
  },
  "language_info": {
   "codemirror_mode": {
    "name": "ipython",
    "version": 3
   },
   "file_extension": ".py",
   "mimetype": "text/x-python",
   "name": "python",
   "nbconvert_exporter": "python",
   "pygments_lexer": "ipython3",
   "version": "3.7.0"
  }
 },
 "nbformat": 4,
 "nbformat_minor": 2
}
