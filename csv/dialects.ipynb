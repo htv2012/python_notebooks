{
 "cells": [
  {
   "cell_type": "markdown",
   "metadata": {},
   "source": [
    "# Introduction\n",
    "\n",
    "The `csv` module can deal with delimiters other than a comma, such as tab. It can also deal with other aspects of parsing such as quoting, line separators, or treatment of initial spaces. We can alter any or all of these aspects when creating a CSV reader or writer. "
   ]
  },
  {
   "cell_type": "markdown",
   "metadata": {},
   "source": [
    "# Built-in Dialects\n",
    "\n",
    "`csv` comes with a couple of built-in dialects:"
   ]
  },
  {
   "cell_type": "code",
   "execution_count": 1,
   "metadata": {},
   "outputs": [
    {
     "data": {
      "text/plain": [
       "['excel', 'excel-tab', 'unix']"
      ]
     },
     "execution_count": 1,
     "metadata": {},
     "output_type": "execute_result"
    }
   ],
   "source": [
    "import csv\n",
    "csv.list_dialects()"
   ]
  },
  {
   "cell_type": "code",
   "execution_count": 2,
   "metadata": {},
   "outputs": [
    {
     "name": "stdout",
     "output_type": "stream",
     "text": [
      "Help on class excel in module csv:\n",
      "\n",
      "class excel(Dialect)\n",
      " |  Describe the usual properties of Excel-generated CSV files.\n",
      " |  \n",
      " |  Method resolution order:\n",
      " |      excel\n",
      " |      Dialect\n",
      " |      builtins.object\n",
      " |  \n",
      " |  Data and other attributes defined here:\n",
      " |  \n",
      " |  delimiter = ','\n",
      " |  \n",
      " |  doublequote = True\n",
      " |  \n",
      " |  lineterminator = '\\r\\n'\n",
      " |  \n",
      " |  quotechar = '\"'\n",
      " |  \n",
      " |  quoting = 0\n",
      " |  \n",
      " |  skipinitialspace = False\n",
      " |  \n",
      " |  ----------------------------------------------------------------------\n",
      " |  Methods inherited from Dialect:\n",
      " |  \n",
      " |  __init__(self)\n",
      " |      Initialize self.  See help(type(self)) for accurate signature.\n",
      " |  \n",
      " |  ----------------------------------------------------------------------\n",
      " |  Data descriptors inherited from Dialect:\n",
      " |  \n",
      " |  __dict__\n",
      " |      dictionary for instance variables (if defined)\n",
      " |  \n",
      " |  __weakref__\n",
      " |      list of weak references to the object (if defined)\n",
      " |  \n",
      " |  ----------------------------------------------------------------------\n",
      " |  Data and other attributes inherited from Dialect:\n",
      " |  \n",
      " |  escapechar = None\n",
      "\n"
     ]
    }
   ],
   "source": [
    "help(csv.excel)"
   ]
  },
  {
   "cell_type": "markdown",
   "metadata": {},
   "source": [
    "In the help text above for `csv.excel` dialect, take notice of the delimiter, quoting, line terminator, and initial space settings. All of these make up a dialect."
   ]
  },
  {
   "cell_type": "markdown",
   "metadata": {},
   "source": [
    "# Using a Built-in Dialect\n",
    "\n",
    "Let say we are dealing with a tab-delimited text file, we can deal with them using two different methods."
   ]
  },
  {
   "cell_type": "markdown",
   "metadata": {},
   "source": [
    "## Specifying the Delimiter when Creating a Reader or Writer\n",
    "\n",
    "In this method, we specify the delimiter as part of creating a reader or writer:"
   ]
  },
  {
   "cell_type": "code",
   "execution_count": 3,
   "metadata": {},
   "outputs": [
    {
     "name": "stdout",
     "output_type": "stream",
     "text": [
      "['501', 'karen', 'bash']\n",
      "['502', 'john', 'tcsh']\n"
     ]
    }
   ],
   "source": [
    "import csv\n",
    "\n",
    "buffer = \"\"\"\n",
    "501\\tkaren\\tbash\n",
    "502\\tjohn\\ttcsh\n",
    "\"\"\".strip().splitlines()\n",
    "\n",
    "for row in csv.reader(buffer, delimiter='\\t'):\n",
    "    print(row)"
   ]
  },
  {
   "cell_type": "markdown",
   "metadata": {},
   "source": [
    "## Specifying a Dialect when Creating a Reader or Writer\n",
    "\n",
    "Lucky for us, the built-in `csv.excel_tab` dialect can handle tab-delimited data, so we can use that by supplying the `dialect=`:"
   ]
  },
  {
   "cell_type": "code",
   "execution_count": 4,
   "metadata": {},
   "outputs": [
    {
     "name": "stdout",
     "output_type": "stream",
     "text": [
      "['501', 'karen', 'bash']\n",
      "['502', 'john', 'tcsh']\n"
     ]
    }
   ],
   "source": [
    "import csv\n",
    "\n",
    "buffer = \"\"\"\n",
    "501\\tkaren\\tbash\n",
    "502\\tjohn\\ttcsh\n",
    "\"\"\".strip().splitlines()\n",
    "\n",
    "for row in csv.reader(buffer, dialect=csv.excel_tab):\n",
    "    print(row)"
   ]
  },
  {
   "cell_type": "markdown",
   "metadata": {},
   "source": [
    "# Using Custom Dialect\n",
    "\n",
    "In a project where we found ourselves having to deal with a particular dialect, we can define and register a custom dialect which promotes reusability and consistency. For example, if we need to deal with semicolon-delimited data and also would like to skip initial spaces, we can create a custom module where we define and register this dialect:"
   ]
  },
  {
   "cell_type": "code",
   "execution_count": 24,
   "metadata": {},
   "outputs": [
    {
     "name": "stdout",
     "output_type": "stream",
     "text": [
      "# csv_dialect.py\n",
      "import csv\n",
      "\n",
      "SEMICOLON = 'semicolon'\n",
      "SPACE = 'space'\n",
      "\n",
      "csv.register_dialect(SEMICOLON, delimiter=';', skipinitialspace=True)\n",
      "csv.register_dialect(SPACE, delimiter=' ', skipinitialspace=True)\n",
      "\n"
     ]
    }
   ],
   "source": [
    "# Contents of csv_dialects.py:\n",
    "print(open('csv_dialects.py').read())"
   ]
  },
  {
   "cell_type": "markdown",
   "metadata": {},
   "source": [
    "After registering that dialog, we can use it:"
   ]
  },
  {
   "cell_type": "code",
   "execution_count": 25,
   "metadata": {},
   "outputs": [
    {
     "name": "stdout",
     "output_type": "stream",
     "text": [
      "['501', 'karen', 'bash']\n",
      "['502', 'john', 'tcsh']\n"
     ]
    }
   ],
   "source": [
    "import csv\n",
    "import csv_dialects\n",
    "\n",
    "buffer = \"\"\"\n",
    "501; karen; bash\n",
    "502; john; tcsh\n",
    "\"\"\".strip().splitlines()\n",
    "\n",
    "for row in csv.reader(buffer, dialect=csv_dialects.SEMICOLON):\n",
    "    print(row)"
   ]
  },
  {
   "cell_type": "markdown",
   "metadata": {},
   "source": [
    "In the output above, notice how the reader skips (ignores) the intial spaces."
   ]
  },
  {
   "cell_type": "code",
   "execution_count": 27,
   "metadata": {},
   "outputs": [
    {
     "name": "stdout",
     "output_type": "stream",
     "text": [
      "['501', 'karen', 'bash']\n",
      "['502', 'john', 'tcsh']\n"
     ]
    }
   ],
   "source": [
    "import csv\n",
    "import csv_dialects\n",
    "\n",
    "buffer = \"\"\"\n",
    "501  karen  bash\n",
    "502  john   tcsh\n",
    "\"\"\".strip().splitlines()\n",
    "\n",
    "for row in csv.reader(buffer, dialect=csv_dialects.SPACE):\n",
    "    print(row)"
   ]
  }
 ],
 "metadata": {
  "kernelspec": {
   "display_name": "Python 3",
   "language": "python",
   "name": "python3"
  },
  "language_info": {
   "codemirror_mode": {
    "name": "ipython",
    "version": 3
   },
   "file_extension": ".py",
   "mimetype": "text/x-python",
   "name": "python",
   "nbconvert_exporter": "python",
   "pygments_lexer": "ipython3",
   "version": "3.7.3"
  }
 },
 "nbformat": 4,
 "nbformat_minor": 2
}
