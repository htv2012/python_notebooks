{
 "cells": [
  {
   "cell_type": "markdown",
   "metadata": {},
   "source": [
    "### Avoid Import All\n",
    "\n",
    "In general, avoid import all items from a module:\n",
    "\n",
    "    from module import *\n",
    "    \n",
    "The reaons for this advice are:\n",
    "\n",
    "1. We don't know where a function or variable comes from\n",
    "2. Functions or variables with the same name might get overwritten\n"
   ]
  },
  {
   "cell_type": "code",
   "execution_count": 15,
   "metadata": {
    "collapsed": false
   },
   "outputs": [
    {
     "ename": "ValueError",
     "evalue": "bad marshal data (unknown type code)",
     "output_type": "error",
     "traceback": [
      "\u001b[0;31m---------------------------------------------------------------------------\u001b[0m",
      "\u001b[0;31mValueError\u001b[0m                                Traceback (most recent call last)",
      "\u001b[0;32m<ipython-input-15-f3f2bf3ce1fa>\u001b[0m in \u001b[0;36m<module>\u001b[0;34m()\u001b[0m\n\u001b[1;32m      8\u001b[0m }\n\u001b[1;32m      9\u001b[0m \"\"\"\n\u001b[0;32m---> 10\u001b[0;31m \u001b[0mjson_object\u001b[0m \u001b[0;34m=\u001b[0m \u001b[0mloads\u001b[0m\u001b[0;34m(\u001b[0m\u001b[0mraw_data\u001b[0m\u001b[0;34m)\u001b[0m\u001b[0;34m\u001b[0m\u001b[0m\n\u001b[0m\u001b[1;32m     11\u001b[0m \u001b[0;32mprint\u001b[0m \u001b[0mjson_object\u001b[0m\u001b[0;34m\u001b[0m\u001b[0m\n",
      "\u001b[0;31mValueError\u001b[0m: bad marshal data (unknown type code)"
     ]
    }
   ],
   "source": [
    "from json import loads\n",
    "from marshal import *\n",
    "\n",
    "raw_data = \"\"\"\n",
    "{\n",
    "    \"worksheet\": \"Sheet 1\",\n",
    "    \"dashboard\": \"Dashboard 1\"\n",
    "}\n",
    "\"\"\"\n",
    "json_object = loads(raw_data)\n",
    "print json_object"
   ]
  },
  {
   "cell_type": "markdown",
   "metadata": {},
   "source": [
    "In general, the preferred approach is to import the whole module, or import just what you need:    "
   ]
  },
  {
   "cell_type": "code",
   "execution_count": 17,
   "metadata": {
    "collapsed": false
   },
   "outputs": [
    {
     "name": "stdout",
     "output_type": "stream",
     "text": [
      "{u'worksheet': u'Sheet 1', u'dashboard': u'Dashboard 1'}\n"
     ]
    }
   ],
   "source": [
    "import json\n",
    "from marshal import *\n",
    "\n",
    "raw_data = \"\"\"\n",
    "{\n",
    "    \"worksheet\": \"Sheet 1\",\n",
    "    \"dashboard\": \"Dashboard 1\"\n",
    "}\n",
    "\"\"\"\n",
    "json_object = json.loads(raw_data)\n",
    "print json_object"
   ]
  },
  {
   "cell_type": "code",
   "execution_count": null,
   "metadata": {
    "collapsed": true
   },
   "outputs": [],
   "source": []
  }
 ],
 "metadata": {
  "anaconda-cloud": {},
  "kernelspec": {
   "display_name": "Python [Root]",
   "language": "python",
   "name": "Python [Root]"
  },
  "language_info": {
   "codemirror_mode": {
    "name": "ipython",
    "version": 2
   },
   "file_extension": ".py",
   "mimetype": "text/x-python",
   "name": "python",
   "nbconvert_exporter": "python",
   "pygments_lexer": "ipython2",
   "version": "2.7.12"
  }
 },
 "nbformat": 4,
 "nbformat_minor": 0
}
