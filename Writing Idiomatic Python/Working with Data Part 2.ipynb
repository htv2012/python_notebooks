{
 "cells": [
  {
   "cell_type": "markdown",
   "metadata": {},
   "source": [
    "# Working with Data (Part 2)\n",
    "\n",
    "## Classes\n",
    "\n",
    "### Use property to future proof\n",
    "\n",
    "- Initially, use use an attribue don't implement a property unless you have to\n",
    "- When the need arise, then implement the getter\n",
    "- Only implement the setter when absolutely needed\n",
    "\n",
    "### Additional Thoughts\n",
    "\n",
    "- Use property to implement read-only attributes: just omit the setter\n",
    "- If not absolutely needed, do not alter the object's state (attributes)\n",
    "- Instead of changing the attributes, consider create a method to duplicate the object with a new set of attributes\n",
    "- For example, it is better for the object to provide a `get_refreshed_state` method which return a new object instead of providing a `refresh` method which update the current object with new attributes (I am guilty of this).\n",
    "- A class `__init__` is an initializer, not constructor. That means inside `__init__`, the object has been created. The real constructor is `__new__`"
   ]
  },
  {
   "cell_type": "markdown",
   "metadata": {},
   "source": [
    "###  `__str__` vs. `__repr__`\n",
    "\n",
    "In general, `__repr__` (pronounce repper) shows the object in its raw state, where as `__str__` shows a more polished output, good for UI. PyCharm uses `__repr__` to display variables in its debugging window. Here are a few tips:\n",
    "\n",
    "* Use `__str__` for UI display\n",
    "* Use `__repr__` for internal works such as debugging\n",
    "  * Identifiable: It should show an object's type\n",
    "  * Distinguishable: If an object has many attributes, `__repr__` should display just enough attributes to distinguish one object from the next. \n",
    "  * Debugging Note: Because one of its use is in debugging, it should return a single line instead of multiple lines of text. At the same time, the output should not be too long where it loses its significance"
   ]
  },
  {
   "cell_type": "code",
   "execution_count": 1,
   "metadata": {
    "collapsed": false
   },
   "outputs": [
    {
     "name": "stdout",
     "output_type": "stream",
     "text": [
      "str: Sylvie Vartan\n",
      "repr: Person('Sylvie', 'Vartan')\n"
     ]
    }
   ],
   "source": [
    "class Person(object):\n",
    "    def __init__(self, first, last):\n",
    "        self.first = first\n",
    "        self.last = last\n",
    "        \n",
    "    def __str__(self):\n",
    "        return '{person.first} {person.last}'.format(person=self)\n",
    "    \n",
    "    def __repr__(self):\n",
    "        return 'Person({0!r}, {1!r})'.format(self.first, self.last)\n",
    "    \n",
    "singer = Person('Sylvie', 'Vartan')\n",
    "print 'str:', singer         # <<< __str__ used\n",
    "print 'repr:', repr(singer)  # <<< __repr__"
   ]
  },
  {
   "cell_type": "markdown",
   "metadata": {
    "collapsed": true
   },
   "source": [
    "## Context Manager\n",
    "\n",
    "Context manager is an object or function which provides a context for code within a `with` block. Note that context is not the same as scope. We can divide the execution flow of a context manager into three parts:\n",
    "\n",
    "1. Prepare the context (optional)\n",
    "2. Provide the context to the caller (by means of the `yield` statement)\n",
    "3. Remove the context (optional)\n",
    "\n",
    "### Common Context Managers\n",
    "\n",
    "The most popular context manager is `open` which is in the book. Other include the temporary files in the `tempfile` module."
   ]
  },
  {
   "cell_type": "code",
   "execution_count": 2,
   "metadata": {
    "collapsed": false
   },
   "outputs": [
    {
     "name": "stdout",
     "output_type": "stream",
     "text": [
      "Hello, world\n"
     ]
    }
   ],
   "source": [
    "from tempfile import TemporaryFile\n",
    "with TemporaryFile() as f:\n",
    "    f.write('Hello, world')\n",
    "    f.seek(0)\n",
    "    print f.read()\n",
    "# After we exit the with block, the temp file will be deleted automatically"
   ]
  },
  {
   "cell_type": "markdown",
   "metadata": {},
   "source": [
    "#### Example: HTML tag\n",
    "\n",
    "A simple example which surround a block of output with HTML tag. First, we are implementing the context manager using a class:"
   ]
  },
  {
   "cell_type": "code",
   "execution_count": 3,
   "metadata": {
    "collapsed": false
   },
   "outputs": [
    {
     "name": "stdout",
     "output_type": "stream",
     "text": [
      "<p>\n",
      "Lorem ipsum dolor sit amet,\n",
      "consectetur adipiscing elit.\n",
      "</p>\n"
     ]
    }
   ],
   "source": [
    "class Tag:\n",
    "    def __init__(self, name):\n",
    "        self.name = name\n",
    "    \n",
    "    def __enter__(self):\n",
    "        print '<%s>' % self.name\n",
    "        \n",
    "    def __exit__(self, exc_type, exc_value, traceback):\n",
    "        print '</%s>' % self.name\n",
    "        \n",
    "with Tag('p'):\n",
    "    print 'Lorem ipsum dolor sit amet,'\n",
    "    print 'consectetur adipiscing elit.'\n"
   ]
  },
  {
   "cell_type": "markdown",
   "metadata": {},
   "source": [
    "Next, we implement the same context manager as a function:"
   ]
  },
  {
   "cell_type": "code",
   "execution_count": 4,
   "metadata": {
    "collapsed": false
   },
   "outputs": [
    {
     "name": "stdout",
     "output_type": "stream",
     "text": [
      "<p>\n",
      "Lorem ipsum dolor sit amet,\n",
      "consectetur adipiscing elit.\n",
      "</p>\n"
     ]
    }
   ],
   "source": [
    "from contextlib import contextmanager\n",
    "\n",
    "@contextmanager\n",
    "def tag(name):\n",
    "    print '<%s>' % name\n",
    "    yield\n",
    "    print '</%s>' % name\n",
    "\n",
    "with tag('p'):\n",
    "    print 'Lorem ipsum dolor sit amet,'\n",
    "    print 'consectetur adipiscing elit.'\n"
   ]
  },
  {
   "cell_type": "markdown",
   "metadata": {},
   "source": [
    "#### Example: Redirect stdout\n",
    "\n",
    "How do I test a function which writes output to stdout? The answer is to temporarily redirect the output to a file/buffer, run the function, restore the redirection and verify the output."
   ]
  },
  {
   "cell_type": "code",
   "execution_count": 5,
   "metadata": {
    "collapsed": false
   },
   "outputs": [
    {
     "name": "stdout",
     "output_type": "stream",
     "text": [
      "Redirect stdout example\n",
      "Captured: 'Yabadabado\\n'\n"
     ]
    }
   ],
   "source": [
    "from contextlib import contextmanager\n",
    "from StringIO import StringIO\n",
    "import sys\n",
    "\n",
    "@contextmanager\n",
    "def redirect_stdout():\n",
    "    old_stdout = sys.stdout\n",
    "    sys.stdout = StringIO()\n",
    "    try:\n",
    "        yield sys.stdout\n",
    "    finally:\n",
    "        sys.stdout = old_stdout\n",
    "\n",
    "# ==============================================================================\n",
    "\n",
    "print 'Redirect stdout example'                   # Output to stdout\n",
    "\n",
    "with redirect_stdout() as buffer:\n",
    "    print('Yabadabado')                           # Output redirected\n",
    "\n",
    "print 'Captured: {!r}'.format(buffer.getvalue())  # Output restored to stdout\n"
   ]
  },
  {
   "cell_type": "markdown",
   "metadata": {},
   "source": [
    "#### Example: pushd\n",
    "\n",
    "Similar to the terminal's `pushd` command, the `pushd` context manager temporarily change the working directory, then back."
   ]
  },
  {
   "cell_type": "code",
   "execution_count": 6,
   "metadata": {
    "collapsed": false
   },
   "outputs": [
    {
     "name": "stdout",
     "output_type": "stream",
     "text": [
      "Before pushd: /Users/hvu/projects/idiomatic\n",
      "In the with block: /\n",
      "After pushd:  /Users/hvu/projects/idiomatic\n"
     ]
    }
   ],
   "source": [
    "import os\n",
    "import contextlib\n",
    "\n",
    "\n",
    "@contextlib.contextmanager\n",
    "def pushd(new_dir):\n",
    "    original_dir = os.getcwd()\n",
    "    os.chdir(new_dir)\n",
    "    yield\n",
    "    os.chdir(original_dir)\n",
    "    \n",
    "\n",
    "print 'Before pushd:', os.getcwd()\n",
    "\n",
    "with pushd('/'):\n",
    "    print 'In the with block:', os.getcwd()\n",
    "\n",
    "print 'After pushd: ', os.getcwd()"
   ]
  },
  {
   "cell_type": "markdown",
   "metadata": {},
   "source": [
    "### Context Manager Usages\n",
    "\n",
    "Context managers are useful in many cases, including:\n",
    "\n",
    "- Set up, do action, clean up\n",
    "- Acquire resource, do action, release resource\n",
    "- Go to a tab, do action, return to previous tab (See `temporarily_goto_sheet()` in our code tree)\n",
    "- Set up, do action, verify\n",
    "- Set up, do action, handle exceptions\n",
    "- pushd, do action, popd\n",
    "- Redirect output to a file, do action, restore redirection\n"
   ]
  },
  {
   "cell_type": "markdown",
   "metadata": {
    "collapsed": true
   },
   "source": [
    "## Generators and Generator Expression\n",
    "\n",
    "* A function which returns a generator object\n",
    "* A generator expression syntax is similar to list comprehension, but with parentheses instead of square brackets\n",
    "* A generator object gives one item at a time\n",
    "* Code won't get execute until a `next(generator_object)` is called\n",
    "* The most popular generator object: the file object returned by `open()`"
   ]
  },
  {
   "cell_type": "markdown",
   "metadata": {},
   "source": [
    "#### Demo: generators are lazy\n",
    "\n",
    "The code for generator will not get executed until `next()` is called:"
   ]
  },
  {
   "cell_type": "code",
   "execution_count": 7,
   "metadata": {
    "collapsed": false
   },
   "outputs": [
    {
     "name": "stdout",
     "output_type": "stream",
     "text": [
      "<generator object make_bread at 0x10636b9b0>\n"
     ]
    }
   ],
   "source": [
    "def make_bread():\n",
    "    \"\"\" This kitchen prepares only two loaves a day \"\"\"\n",
    "    print '>>> Prepare kitchen'\n",
    "    for loaf in ['Sour dough', 'Cinnamon raisin']:\n",
    "        yield loaf\n",
    "        print '>>> Clean up'\n",
    "    print '>>> Close kitchen'\n",
    "    \n",
    "breads = make_bread()  # This function returns a generator object\n",
    "print breads"
   ]
  },
  {
   "cell_type": "markdown",
   "metadata": {},
   "source": [
    "The first `next()` will get the generator cranking"
   ]
  },
  {
   "cell_type": "code",
   "execution_count": 8,
   "metadata": {
    "collapsed": false
   },
   "outputs": [
    {
     "name": "stdout",
     "output_type": "stream",
     "text": [
      ">>> Prepare kitchen\n",
      "Sour dough\n"
     ]
    }
   ],
   "source": [
    "print next(breads)"
   ]
  },
  {
   "cell_type": "markdown",
   "metadata": {},
   "source": [
    "Notice in the call above, the code after the `yield` statement is not yet executed. Another call to the `next()` function will get it cranking again:"
   ]
  },
  {
   "cell_type": "code",
   "execution_count": 9,
   "metadata": {
    "collapsed": false
   },
   "outputs": [
    {
     "name": "stdout",
     "output_type": "stream",
     "text": [
      ">>> Clean up\n",
      "Cinnamon raisin\n"
     ]
    }
   ],
   "source": [
    "print next(breads)"
   ]
  },
  {
   "cell_type": "markdown",
   "metadata": {},
   "source": [
    "Since the generator only return two loaves, if we call `next()` again, we will get a `StopIteration` error:"
   ]
  },
  {
   "cell_type": "code",
   "execution_count": 10,
   "metadata": {
    "collapsed": false
   },
   "outputs": [
    {
     "name": "stdout",
     "output_type": "stream",
     "text": [
      ">>> Clean up\n",
      ">>> Close kitchen\n"
     ]
    },
    {
     "ename": "StopIteration",
     "evalue": "",
     "output_type": "error",
     "traceback": [
      "\u001b[0;31m---------------------------------------------------------------------------\u001b[0m",
      "\u001b[0;31mStopIteration\u001b[0m                             Traceback (most recent call last)",
      "\u001b[0;32m<ipython-input-10-dce9d299af5e>\u001b[0m in \u001b[0;36m<module>\u001b[0;34m()\u001b[0m\n\u001b[0;32m----> 1\u001b[0;31m \u001b[0;32mprint\u001b[0m \u001b[0mnext\u001b[0m\u001b[0;34m(\u001b[0m\u001b[0mbreads\u001b[0m\u001b[0;34m)\u001b[0m\u001b[0;34m\u001b[0m\u001b[0m\n\u001b[0m",
      "\u001b[0;31mStopIteration\u001b[0m: "
     ]
    }
   ],
   "source": [
    "print next(breads)"
   ]
  },
  {
   "cell_type": "markdown",
   "metadata": {},
   "source": [
    "This is how for loop works: it keeps calling `next()` until a `StopIteration` error is raised:"
   ]
  },
  {
   "cell_type": "code",
   "execution_count": 11,
   "metadata": {
    "collapsed": false
   },
   "outputs": [
    {
     "name": "stdout",
     "output_type": "stream",
     "text": [
      ">>> Prepare kitchen\n",
      "Sour dough\n",
      ">>> Clean up\n",
      "Cinnamon raisin\n",
      ">>> Clean up\n",
      ">>> Close kitchen\n"
     ]
    }
   ],
   "source": [
    "for loaf in make_bread():\n",
    "    print loaf"
   ]
  },
  {
   "cell_type": "markdown",
   "metadata": {},
   "source": [
    "#### Generators and Generator Expression Are More Efficient and Use Less Memory\n",
    "\n",
    "Consider a \"find first\" problem using list comprehension and generator expression. The list comprehension will have to traverse the whole list, even after locating the target. The generator expression, which looks similar to list comprehension, will stop after the target is found."
   ]
  },
  {
   "cell_type": "code",
   "execution_count": 12,
   "metadata": {
    "collapsed": false
   },
   "outputs": [
    {
     "name": "stdout",
     "output_type": "stream",
     "text": [
      "Timing for list comprehension:   0.018306\n",
      "Timing for generator expression: 0.000053\n",
      "List comprehension is about 344 times slower\n"
     ]
    }
   ],
   "source": [
    "import timeit\n",
    "\n",
    "sheets = ['Sheet {}'.format(i) for i in range(10000)]\n",
    "target = 'Sheet 5'\n",
    "\n",
    "list_comp_timing = timeit.timeit(\n",
    "    setup=\"from __main__ import sheets, target\",\n",
    "    stmt=\"[sheet for sheet in sheets if sheet == target][0]\",\n",
    "    number=10,\n",
    ")\n",
    "print 'Timing for list comprehension:   {:.6f}'.format(list_comp_timing)\n",
    "\n",
    "generator_expr_timing = timeit.timeit(\n",
    "    setup=\"from __main__ import sheets, target\",\n",
    "    stmt=\"next((sheet for sheet in sheets if sheet == target))\",\n",
    "    number=10,\n",
    ")\n",
    "print 'Timing for generator expression: {:.6f}'.format(generator_expr_timing)\n",
    "\n",
    "print 'List comprehension is about {:.0f} times slower'.format(list_comp_timing / generator_expr_timing)\n"
   ]
  },
  {
   "cell_type": "code",
   "execution_count": null,
   "metadata": {
    "collapsed": true
   },
   "outputs": [],
   "source": []
  }
 ],
 "metadata": {
  "anaconda-cloud": {},
  "kernelspec": {
   "display_name": "Python [Root]",
   "language": "python",
   "name": "Python [Root]"
  },
  "language_info": {
   "codemirror_mode": {
    "name": "ipython",
    "version": 2
   },
   "file_extension": ".py",
   "mimetype": "text/x-python",
   "name": "python",
   "nbconvert_exporter": "python",
   "pygments_lexer": "ipython2",
   "version": "2.7.12"
  }
 },
 "nbformat": 4,
 "nbformat_minor": 0
}
