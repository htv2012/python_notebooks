{
 "cells": [
  {
   "cell_type": "markdown",
   "metadata": {
    "collapsed": true,
    "nbpresent": {
     "id": "43bbcacd-79e5-4efc-a63f-ff2ab71a724b"
    }
   },
   "source": [
    "## 2.1 Variables\n",
    "### 2.1.1 Avoid Temporary Variable\n",
    "There is no need for parentheses:"
   ]
  },
  {
   "cell_type": "code",
   "execution_count": 1,
   "metadata": {
    "collapsed": false,
    "nbpresent": {
     "id": "b6ba1b40-ad28-4535-b358-97c8ee473de2"
    }
   },
   "outputs": [
    {
     "name": "stdout",
     "output_type": "stream",
     "text": [
      "Bar Foo\n"
     ]
    }
   ],
   "source": [
    "foo = 'Foo'\n",
    "bar = 'Bar'\n",
    "foo, bar = bar, foo  # <<< No parentheses\n",
    "print foo, bar"
   ]
  },
  {
   "cell_type": "markdown",
   "metadata": {
    "nbpresent": {
     "id": "fb53b13b-b2ca-40e4-8652-5bfa9a04b24c"
    }
   },
   "source": [
    "## 2.2 Strings\n",
    "### 2.2.2 Use `join`\n",
    "#### We can use any separator, not just empty string:"
   ]
  },
  {
   "cell_type": "code",
   "execution_count": 2,
   "metadata": {
    "collapsed": false,
    "nbpresent": {
     "id": "8b909f3e-870a-4478-898f-f5f3abb0651c"
    }
   },
   "outputs": [
    {
     "name": "stdout",
     "output_type": "stream",
     "text": [
      "Moe, Larry, Curly\n"
     ]
    }
   ],
   "source": [
    "stooges = ['Moe', 'Larry', 'Curly']\n",
    "print ', '.join(stooges)"
   ]
  },
  {
   "cell_type": "markdown",
   "metadata": {
    "collapsed": true,
    "nbpresent": {
     "id": "3b64df53-e8e6-4e20-abd8-eae0b3c87f00"
    }
   },
   "source": [
    "#### We can join tuples, sets, dictionaries, not just lists:"
   ]
  },
  {
   "cell_type": "code",
   "execution_count": 3,
   "metadata": {
    "collapsed": false,
    "nbpresent": {
     "id": "66dd5b96-f9eb-4e66-b2bf-7d37372f54ef"
    }
   },
   "outputs": [
    {
     "name": "stdout",
     "output_type": "stream",
     "text": [
      "Robert Downey jr.\n"
     ]
    }
   ],
   "source": [
    "person = ('Robert', 'Downey', 'jr.')  # tuple\n",
    "print ' '.join(person)"
   ]
  },
  {
   "cell_type": "code",
   "execution_count": 4,
   "metadata": {
    "collapsed": false,
    "nbpresent": {
     "id": "d7ab010f-93ae-43c8-b652-1325e46b4aac"
    }
   },
   "outputs": [
    {
     "name": "stdout",
     "output_type": "stream",
     "text": [
      "Blue\n",
      "Green\n",
      "Red\n"
     ]
    }
   ],
   "source": [
    "colors = {'Red', 'Green', 'Blue'}  # set, undetermined order\n",
    "print '\\n'.join(colors)"
   ]
  },
  {
   "cell_type": "code",
   "execution_count": 5,
   "metadata": {
    "collapsed": false,
    "nbpresent": {
     "id": "34a6498e-1c07-460e-91d2-268afac2c05c"
    }
   },
   "outputs": [
    {
     "name": "stdout",
     "output_type": "stream",
     "text": [
      "Monkees: Mickey, Mike, Peter, Davy\n"
     ]
    }
   ],
   "source": [
    "grade = dict(Mickey=97, Mike=89, Peter=77, Davy=81)  # dict, what get join? Key? Value? Or both?\n",
    "print 'Monkees:', ', '.join(grade)"
   ]
  },
  {
   "cell_type": "markdown",
   "metadata": {
    "nbpresent": {
     "id": "f825e24c-e13f-4ded-83a8-2d1fd7925deb"
    }
   },
   "source": [
    "#### We can even join list, dict, and set comprehension:"
   ]
  },
  {
   "cell_type": "code",
   "execution_count": 6,
   "metadata": {
    "collapsed": false,
    "nbpresent": {
     "id": "55bc80bc-f7c5-4e2b-8a78-048edae6408c"
    }
   },
   "outputs": [
    {
     "name": "stdout",
     "output_type": "stream",
     "text": [
      "63, 54\n",
      "78,63,54,98\n"
     ]
    }
   ],
   "source": [
    "grades = [78, 63, 54, 98]\n",
    "print ', '.join([str(grade) for grade in grades if grade < 70])\n",
    "\n",
    "print ','.join(str(x) for x in grades)"
   ]
  },
  {
   "cell_type": "markdown",
   "metadata": {
    "nbpresent": {
     "id": "f2eaff86-7928-406f-82d2-f40d90e69ffa"
    }
   },
   "source": [
    "#### For the list comprehension within join, we can skip the square brackets:"
   ]
  },
  {
   "cell_type": "code",
   "execution_count": 7,
   "metadata": {
    "collapsed": false,
    "nbpresent": {
     "id": "b4bfbe02-00ea-4d43-bfcb-e7b446a57a67"
    }
   },
   "outputs": [
    {
     "name": "stdout",
     "output_type": "stream",
     "text": [
      "63, 54\n"
     ]
    }
   ],
   "source": [
    "grades = [78, 63, 54, 98]\n",
    "print ', '.join(str(grade) for grade in grades if grade < 70)"
   ]
  },
  {
   "cell_type": "markdown",
   "metadata": {
    "collapsed": true,
    "nbpresent": {
     "id": "4bef20df-39fa-4321-b79d-9f22fa46060b"
    }
   },
   "source": [
    "## 2.3 Lists\n",
    "### 2.3.1 List Comprehension"
   ]
  },
  {
   "cell_type": "markdown",
   "metadata": {
    "nbpresent": {
     "id": "79eaeca4-7d76-4950-a1f2-b5c1fd1cdb21"
    }
   },
   "source": [
    "#### We can use it to apply conversion to each element in the list"
   ]
  },
  {
   "cell_type": "code",
   "execution_count": 8,
   "metadata": {
    "collapsed": false,
    "nbpresent": {
     "id": "7db44cdb-f12f-47f1-878a-060e94e04475"
    }
   },
   "outputs": [
    {
     "name": "stdout",
     "output_type": "stream",
     "text": [
      "[5, 3, 2]\n"
     ]
    }
   ],
   "source": [
    "user_input = ['5', '3', '2']\n",
    "ints = [int(element) for element in user_input]\n",
    "print ints"
   ]
  },
  {
   "cell_type": "markdown",
   "metadata": {
    "nbpresent": {
     "id": "84d28715-97c6-4aa7-96da-a6ca97dd5d44"
    }
   },
   "source": [
    "### 2.3.2 Use `*` for rest\n",
    "Note that this is a Python 3 feature that is not available in Python 2, which is what we widely use at Tableau"
   ]
  },
  {
   "cell_type": "markdown",
   "metadata": {
    "nbpresent": {
     "id": "1e041a6e-22e7-4bb1-94cf-e3e60004a62e"
    }
   },
   "source": [
    "## 2.4 Dictionaries\n",
    "### 2.4.1 Use `dict` to substitute for the `case` statement\n",
    "One problem with this approach is what happens when we are handling an unknown operator:"
   ]
  },
  {
   "cell_type": "code",
   "execution_count": 9,
   "metadata": {
    "collapsed": false,
    "nbpresent": {
     "id": "78dc6792-0fdb-49be-a06e-0cea55001a6f"
    }
   },
   "outputs": [
    {
     "ename": "KeyError",
     "evalue": "'sin'",
     "output_type": "error",
     "traceback": [
      "\u001b[0;31m---------------------------------------------------------------------------\u001b[0m",
      "\u001b[0;31mKeyError\u001b[0m                                  Traceback (most recent call last)",
      "\u001b[0;32m<ipython-input-9-a3dc2eddddf3>\u001b[0m in \u001b[0;36m<module>\u001b[0;34m()\u001b[0m\n\u001b[1;32m      7\u001b[0m     \u001b[0;32mreturn\u001b[0m \u001b[0moperator_mapper\u001b[0m\u001b[0;34m[\u001b[0m\u001b[0moperator\u001b[0m\u001b[0;34m]\u001b[0m\u001b[0;34m(\u001b[0m\u001b[0mleft_operand\u001b[0m\u001b[0;34m,\u001b[0m \u001b[0mright_operand\u001b[0m\u001b[0;34m)\u001b[0m\u001b[0;34m\u001b[0m\u001b[0m\n\u001b[1;32m      8\u001b[0m \u001b[0;34m\u001b[0m\u001b[0m\n\u001b[0;32m----> 9\u001b[0;31m \u001b[0;32mprint\u001b[0m \u001b[0mapply_operation\u001b[0m\u001b[0;34m(\u001b[0m\u001b[0;36m2\u001b[0m\u001b[0;34m,\u001b[0m \u001b[0;36m7\u001b[0m\u001b[0;34m,\u001b[0m \u001b[0;34m'sin'\u001b[0m\u001b[0;34m)\u001b[0m\u001b[0;34m\u001b[0m\u001b[0m\n\u001b[0m",
      "\u001b[0;32m<ipython-input-9-a3dc2eddddf3>\u001b[0m in \u001b[0;36mapply_operation\u001b[0;34m(left_operand, right_operand, operator)\u001b[0m\n\u001b[1;32m      5\u001b[0m         \u001b[0;34m'-'\u001b[0m\u001b[0;34m:\u001b[0m \u001b[0mop\u001b[0m\u001b[0;34m.\u001b[0m\u001b[0msub\u001b[0m\u001b[0;34m,\u001b[0m\u001b[0;34m\u001b[0m\u001b[0m\n\u001b[1;32m      6\u001b[0m     }\n\u001b[0;32m----> 7\u001b[0;31m     \u001b[0;32mreturn\u001b[0m \u001b[0moperator_mapper\u001b[0m\u001b[0;34m[\u001b[0m\u001b[0moperator\u001b[0m\u001b[0;34m]\u001b[0m\u001b[0;34m(\u001b[0m\u001b[0mleft_operand\u001b[0m\u001b[0;34m,\u001b[0m \u001b[0mright_operand\u001b[0m\u001b[0;34m)\u001b[0m\u001b[0;34m\u001b[0m\u001b[0m\n\u001b[0m\u001b[1;32m      8\u001b[0m \u001b[0;34m\u001b[0m\u001b[0m\n\u001b[1;32m      9\u001b[0m \u001b[0;32mprint\u001b[0m \u001b[0mapply_operation\u001b[0m\u001b[0;34m(\u001b[0m\u001b[0;36m2\u001b[0m\u001b[0;34m,\u001b[0m \u001b[0;36m7\u001b[0m\u001b[0;34m,\u001b[0m \u001b[0;34m'sin'\u001b[0m\u001b[0;34m)\u001b[0m\u001b[0;34m\u001b[0m\u001b[0m\n",
      "\u001b[0;31mKeyError\u001b[0m: 'sin'"
     ]
    }
   ],
   "source": [
    "def apply_operation(left_operand, right_operand, operator):\n",
    "    import operator as op\n",
    "    operator_mapper = {\n",
    "        '+': op.add,\n",
    "        '-': op.sub,\n",
    "    }\n",
    "    return operator_mapper[operator](left_operand, right_operand)\n",
    "\n",
    "print apply_operation(2, 7, 'sin')"
   ]
  },
  {
   "cell_type": "markdown",
   "metadata": {
    "nbpresent": {
     "id": "34450097-169b-450b-94c3-b6d1863b8f54"
    }
   },
   "source": [
    "The example above:\n",
    "\n",
    "- Demonstrate the dispatch\n",
    "- Please do not shadow the standard libraries (in this case, `operator`) or built-in's. Many people use `list` as a variable\n",
    "- In order to handle the `KeyError`, we have two choices:\n",
    "    1. Use `try` ... `catch` block\n",
    "    1. Use `dict.get`, which we will see in the next section"
   ]
  },
  {
   "cell_type": "markdown",
   "metadata": {
    "nbpresent": {
     "id": "da3b5a2d-d25d-4866-b190-b632adeedcd3"
    }
   },
   "source": [
    "### 2.4.2 Use `default` parameter of `dict.get`\n",
    "#### Back to the previous example, we can supply a default handler for operators that are not yet defined:"
   ]
  },
  {
   "cell_type": "code",
   "execution_count": 10,
   "metadata": {
    "collapsed": false,
    "nbpresent": {
     "id": "b12115db-7267-43a4-a983-44edc0caffe0"
    }
   },
   "outputs": [
    {
     "name": "stdout",
     "output_type": "stream",
     "text": [
      "2 + 7 = 9\n",
      "abs(-92) = 92\n",
      "3 * 9 ="
     ]
    },
    {
     "ename": "NotImplementedError",
     "evalue": "Please implement this operator",
     "output_type": "error",
     "traceback": [
      "\u001b[0;31m---------------------------------------------------------------------------\u001b[0m",
      "\u001b[0;31mNotImplementedError\u001b[0m                       Traceback (most recent call last)",
      "\u001b[0;32m<ipython-input-10-316f71337d40>\u001b[0m in \u001b[0;36m<module>\u001b[0;34m()\u001b[0m\n\u001b[1;32m     14\u001b[0m \u001b[0;32mprint\u001b[0m \u001b[0;34m'2 + 7 ='\u001b[0m\u001b[0;34m,\u001b[0m \u001b[0mcalculate\u001b[0m\u001b[0;34m(\u001b[0m\u001b[0;34m'+'\u001b[0m\u001b[0;34m,\u001b[0m \u001b[0;36m2\u001b[0m\u001b[0;34m,\u001b[0m \u001b[0;36m7\u001b[0m\u001b[0;34m)\u001b[0m\u001b[0;34m\u001b[0m\u001b[0m\n\u001b[1;32m     15\u001b[0m \u001b[0;32mprint\u001b[0m \u001b[0;34m'abs(-92) ='\u001b[0m\u001b[0;34m,\u001b[0m \u001b[0mcalculate\u001b[0m\u001b[0;34m(\u001b[0m\u001b[0;34m'abs'\u001b[0m\u001b[0;34m,\u001b[0m \u001b[0;34m-\u001b[0m\u001b[0;36m92\u001b[0m\u001b[0;34m)\u001b[0m\u001b[0;34m\u001b[0m\u001b[0m\n\u001b[0;32m---> 16\u001b[0;31m \u001b[0;32mprint\u001b[0m \u001b[0;34m'3 * 9 ='\u001b[0m\u001b[0;34m,\u001b[0m \u001b[0mcalculate\u001b[0m\u001b[0;34m(\u001b[0m\u001b[0;34m'*'\u001b[0m\u001b[0;34m,\u001b[0m \u001b[0;36m3\u001b[0m\u001b[0;34m,\u001b[0m \u001b[0;36m9\u001b[0m\u001b[0;34m)\u001b[0m\u001b[0;34m\u001b[0m\u001b[0m\n\u001b[0m",
      "\u001b[0;32m<ipython-input-10-316f71337d40>\u001b[0m in \u001b[0;36mcalculate\u001b[0;34m(op, *args, **kwargs)\u001b[0m\n\u001b[1;32m     10\u001b[0m     }\n\u001b[1;32m     11\u001b[0m     \u001b[0mcalculation\u001b[0m \u001b[0;34m=\u001b[0m \u001b[0mcalculations\u001b[0m\u001b[0;34m.\u001b[0m\u001b[0mget\u001b[0m\u001b[0;34m(\u001b[0m\u001b[0mop\u001b[0m\u001b[0;34m,\u001b[0m \u001b[0munknown_operator\u001b[0m\u001b[0;34m)\u001b[0m\u001b[0;34m\u001b[0m\u001b[0m\n\u001b[0;32m---> 12\u001b[0;31m     \u001b[0;32mreturn\u001b[0m \u001b[0mcalculation\u001b[0m\u001b[0;34m(\u001b[0m\u001b[0;34m*\u001b[0m\u001b[0margs\u001b[0m\u001b[0;34m,\u001b[0m \u001b[0;34m**\u001b[0m\u001b[0mkwargs\u001b[0m\u001b[0;34m)\u001b[0m\u001b[0;34m\u001b[0m\u001b[0m\n\u001b[0m\u001b[1;32m     13\u001b[0m \u001b[0;34m\u001b[0m\u001b[0m\n\u001b[1;32m     14\u001b[0m \u001b[0;32mprint\u001b[0m \u001b[0;34m'2 + 7 ='\u001b[0m\u001b[0;34m,\u001b[0m \u001b[0mcalculate\u001b[0m\u001b[0;34m(\u001b[0m\u001b[0;34m'+'\u001b[0m\u001b[0;34m,\u001b[0m \u001b[0;36m2\u001b[0m\u001b[0;34m,\u001b[0m \u001b[0;36m7\u001b[0m\u001b[0;34m)\u001b[0m\u001b[0;34m\u001b[0m\u001b[0m\n",
      "\u001b[0;32m<ipython-input-10-316f71337d40>\u001b[0m in \u001b[0;36munknown_operator\u001b[0;34m(*args, **kwargs)\u001b[0m\n\u001b[1;32m      2\u001b[0m \u001b[0;34m\u001b[0m\u001b[0m\n\u001b[1;32m      3\u001b[0m \u001b[0;32mdef\u001b[0m \u001b[0munknown_operator\u001b[0m\u001b[0;34m(\u001b[0m\u001b[0;34m*\u001b[0m\u001b[0margs\u001b[0m\u001b[0;34m,\u001b[0m \u001b[0;34m**\u001b[0m\u001b[0mkwargs\u001b[0m\u001b[0;34m)\u001b[0m\u001b[0;34m:\u001b[0m\u001b[0;34m\u001b[0m\u001b[0m\n\u001b[0;32m----> 4\u001b[0;31m     \u001b[0;32mraise\u001b[0m \u001b[0mNotImplementedError\u001b[0m\u001b[0;34m(\u001b[0m\u001b[0;34m'Please implement this operator'\u001b[0m\u001b[0;34m)\u001b[0m\u001b[0;34m\u001b[0m\u001b[0m\n\u001b[0m\u001b[1;32m      5\u001b[0m \u001b[0;34m\u001b[0m\u001b[0m\n\u001b[1;32m      6\u001b[0m \u001b[0;32mdef\u001b[0m \u001b[0mcalculate\u001b[0m\u001b[0;34m(\u001b[0m\u001b[0mop\u001b[0m\u001b[0;34m,\u001b[0m \u001b[0;34m*\u001b[0m\u001b[0margs\u001b[0m\u001b[0;34m,\u001b[0m \u001b[0;34m**\u001b[0m\u001b[0mkwargs\u001b[0m\u001b[0;34m)\u001b[0m\u001b[0;34m:\u001b[0m\u001b[0;34m\u001b[0m\u001b[0m\n",
      "\u001b[0;31mNotImplementedError\u001b[0m: Please implement this operator"
     ]
    }
   ],
   "source": [
    "import operator\n",
    "\n",
    "def unknown_operator(*args, **kwargs):\n",
    "    raise NotImplementedError('Please implement this operator')\n",
    "\n",
    "def calculate(op, *args, **kwargs):\n",
    "    calculations = {\n",
    "        '+': operator.add,\n",
    "        'abs': operator.abs,\n",
    "    }\n",
    "    calculation = calculations.get(op, unknown_operator)\n",
    "    return calculation(*args, **kwargs)\n",
    "\n",
    "print '2 + 7 =', calculate('+', 2, 7)\n",
    "print 'abs(-92) =', calculate('abs', -92)\n",
    "print '3 * 9 =', calculate('*', 3, 9)"
   ]
  },
  {
   "cell_type": "markdown",
   "metadata": {
    "nbpresent": {
     "id": "507aa720-5311-4f95-b865-0f88cd922d3b"
    }
   },
   "source": [
    "The example above demonstrates:\n",
    "\n",
    "- Using `*args, **kwargs` to accept and pass on any number of parameters, including named argument. Note that the `add` operator takes two parameters while the `abs` operator takes only one.\n",
    "- Using a default in `dict.get` to simplify the logic by eliminating the `try` ... `catch` block\n",
    "- How to read the stack trace"
   ]
  },
  {
   "cell_type": "markdown",
   "metadata": {
    "nbpresent": {
     "id": "9a422c60-e95e-4626-ab6b-e4ec34a89090"
    }
   },
   "source": [
    "### 2.4.3 Use dict comprehension\n",
    "#### Reverse a dictionary:"
   ]
  },
  {
   "cell_type": "code",
   "execution_count": 11,
   "metadata": {
    "collapsed": false,
    "nbpresent": {
     "id": "0d6ebf54-d070-483f-a241-23241cb0ec42"
    }
   },
   "outputs": [
    {
     "name": "stdout",
     "output_type": "stream",
     "text": [
      " name2id: {'Ringo': 504, 'Paul': 502, 'John': 501, 'George': 503}\n",
      "name2id.items(): [('Ringo', 504), ('Paul', 502), ('John', 501), ('George', 503)]\n",
      "id2name: {504: 'Ringo', 501: 'John', 502: 'Paul', 503: 'George'}\n"
     ]
    }
   ],
   "source": [
    "name2id = dict(John=501, Paul=502, George=503, Ringo=504)\n",
    "print 'name2id:', name2id\n",
    "\n",
    "# Reverse the dictionary\n",
    "print 'name2id.items():', name2id.items()\n",
    "id2name = {v: k for k, v in name2id.items()}\n",
    "\n",
    "print 'id2name:', id2name"
   ]
  },
  {
   "cell_type": "markdown",
   "metadata": {
    "nbpresent": {
     "id": "3cd54fdd-dedf-4862-95cc-ad57b2f42b61"
    }
   },
   "source": [
    "#### Update a dictionary:"
   ]
  },
  {
   "cell_type": "code",
   "execution_count": 12,
   "metadata": {
    "collapsed": false,
    "nbpresent": {
     "id": "44dc280d-28d3-4cc2-a932-4b8be12ce5d7"
    }
   },
   "outputs": [
    {
     "name": "stdout",
     "output_type": "stream",
     "text": [
      "Old salary: {'Sally': 18.0, 'Harry': 17.0}\n",
      "New salary: {'Sally': 18.900000000000002, 'Harry': 17.85}\n"
     ]
    }
   ],
   "source": [
    "salary = dict(Sally=18.0, Harry=17.0)\n",
    "print 'Old salary:', salary\n",
    "\n",
    "# Give everyone a 5-percent raise\n",
    "salary = {person: hourly * 1.05 for person, hourly in salary.items()}\n",
    "print 'New salary:', salary"
   ]
  },
  {
   "cell_type": "markdown",
   "metadata": {
    "nbpresent": {
     "id": "3ecc36b2-1b19-4a57-9aa6-de369673c624"
    }
   },
   "source": [
    "#### Filter:"
   ]
  },
  {
   "cell_type": "code",
   "execution_count": 13,
   "metadata": {
    "collapsed": false,
    "nbpresent": {
     "id": "11aacb7b-eb2b-43fd-a68e-494299062324"
    }
   },
   "outputs": [
    {
     "name": "stdout",
     "output_type": "stream",
     "text": [
      "All grades: {'Harry Dunne': 43, 'Mary Swanson': 89, 'Lloyd Christmas': 51}\n",
      "Dumb and Dumber: {'Lloyd Christmas': 51, 'Harry Dunne': 43}\n"
     ]
    }
   ],
   "source": [
    "grade = {\n",
    "    'Lloyd Christmas': 51,\n",
    "    'Harry Dunne': 43,\n",
    "    'Mary Swanson': 89,\n",
    "}\n",
    "print 'All grades:', grade\n",
    "\n",
    "dumb_and_dumber = {person: score for person, score in grade.items() if score < 70}\n",
    "print 'Dumb and Dumber:', dumb_and_dumber"
   ]
  },
  {
   "cell_type": "markdown",
   "metadata": {
    "nbpresent": {
     "id": "9ebcaf95-8fdb-40b0-84b9-8460115caf87"
    }
   },
   "source": [
    "### Other Dictionaries\n",
    "\n",
    "* `defaultdict`: If a value is not in the dictionary, it will be created\n",
    "* `OrderedDict`: Keys are in order of creation\n",
    "* `shelve`: Persistent dictionary, good for configuration files, among other things"
   ]
  },
  {
   "cell_type": "code",
   "execution_count": 14,
   "metadata": {
    "collapsed": false
   },
   "outputs": [
    {
     "name": "stdout",
     "output_type": "stream",
     "text": [
      "OrderedDict([('Harry', 10), ('James', 1), ('Sally', 9)])\n"
     ]
    }
   ],
   "source": [
    "import collections\n",
    "d = collections.OrderedDict()\n",
    "d['Harry'] = 10\n",
    "d['James'] = 1\n",
    "d['Sally'] = 9\n",
    "print d"
   ]
  },
  {
   "cell_type": "code",
   "execution_count": 15,
   "metadata": {
    "collapsed": false
   },
   "outputs": [
    {
     "name": "stdout",
     "output_type": "stream",
     "text": [
      "{'a': 1, 'c': 3, 'b': 2}\n",
      "a 1\n",
      "b 2\n",
      "c 3\n",
      "[('a', 1), ('b', 2), ('c', 3)]\n"
     ]
    }
   ],
   "source": [
    "d = dict(a=1, b=2, c=3)\n",
    "print d\n",
    "for key in sorted(d):\n",
    "    print key, d[key]\n",
    "print sorted((k, v) for k, v in d.items())"
   ]
  },
  {
   "cell_type": "markdown",
   "metadata": {
    "nbpresent": {
     "id": "08fb8f25-4267-4bda-a47a-106985ae1e1f"
    }
   },
   "source": [
    "## 2.5 Sets\n",
    "### 2.5.1 Use set\n",
    "#### The original idiomatic example:"
   ]
  },
  {
   "cell_type": "code",
   "execution_count": 16,
   "metadata": {
    "collapsed": false,
    "nbpresent": {
     "id": "adc90a66-fcba-4380-b0b6-fc32b6bcd01a"
    }
   },
   "outputs": [
    {
     "name": "stdout",
     "output_type": "stream",
     "text": [
      "set(['Ringo', 'Prince'])\n"
     ]
    }
   ],
   "source": [
    "popular = ['Ringo', 'Prince', 'Pink']\n",
    "active = ['Ringo', 'Alex', 'Samantha', 'Prince']\n",
    "\n",
    "def get_both_popular_and_active_users():\n",
    "    return set(active) & set(popular)\n",
    "\n",
    "print get_both_popular_and_active_users()"
   ]
  },
  {
   "cell_type": "markdown",
   "metadata": {
    "nbpresent": {
     "id": "42ef2727-ab90-418d-b167-b2754ae26e21"
    }
   },
   "source": [
    "In practice, converting from list to set (e.g. `set(active)`) could be a performance bottle neck. The example above converts two lists into sets, then perform an intersection operation. We can eliminate one conversion:"
   ]
  },
  {
   "cell_type": "code",
   "execution_count": 17,
   "metadata": {
    "collapsed": false,
    "nbpresent": {
     "id": "86051ab5-f928-4613-8a50-ddf4dce73077"
    }
   },
   "outputs": [
    {
     "name": "stdout",
     "output_type": "stream",
     "text": [
      "set(['Ringo', 'Prince'])\n"
     ]
    }
   ],
   "source": [
    "popular = ['Ringo', 'Prince', 'Pink']\n",
    "active = ['Ringo', 'Alex', 'Samantha', 'Prince']\n",
    "\n",
    "def get_both_popular_and_active_users():\n",
    "    return set(active).intersection(popular)  # <<< Only one set conversion\n",
    "\n",
    "print get_both_popular_and_active_users()"
   ]
  },
  {
   "cell_type": "markdown",
   "metadata": {
    "collapsed": true,
    "nbpresent": {
     "id": "0e810a63-0be3-4740-bd22-927b023dd95b"
    }
   },
   "source": [
    "## 2.6 Tuples\n",
    "\n",
    "### Semantically Differences\n",
    "\n",
    "#### Lists\n",
    "\n",
    "* Tends to hold homogeneous objects\n",
    "* Mutable: can add, modify, delete elements\n",
    "* Examples\n",
    "  * Book list\n",
    "  * Class roster\n",
    "\n",
    "#### Tuples\n",
    "\n",
    "* Tend to hold heterogeneous object\n",
    "* Immutable (exception: if element is mutable such as set, dict, list)\n",
    "* Think of tuple as a record (row) of data\n",
    "\n",
    "### Semantic Implications\n",
    "\n",
    "* If the elements are semantically the same kind (e.g. email addresses), put them in a list\n",
    "* If they are semantically related (e.g. name, phone, address), put them in a tuple\n",
    "* Same for deciding to return a list or a tuple\n",
    "\n",
    "### Why Are Tuples Better than Lists?\n",
    "\n",
    "* They are immutable, so it is safe to pass them around without fear of being altered\n",
    "* When passing lists into a function, it can be thought of in/out parameter--a double-edge sword, so unless you know what you are doing, don't use list\n",
    "* Many database queries return tuples, not lists\n",
    "* Tuples can be keys in dictionaries, or elements in set because they are immutable. The opposite is true for lists\n",
    "* Tuples are lighter weight than list, thus faster and smaller\n",
    "\n",
    "### Why Are Lists Better than Tuples\n",
    "\n",
    "* Elements can be added, modified, or deleted\n",
    "* It's more efficient to add an element to list: just add. For tuple, we have to create a new tuple with the additional element. The same is true for modification or deletion of elements\n",
    "\n"
   ]
  },
  {
   "cell_type": "markdown",
   "metadata": {
    "nbpresent": {
     "id": "eb3391cc-b690-42b7-9e9f-96dc34b3632f"
    }
   },
   "source": [
    "### Tuples Caveats\n",
    "In general, tuple is immutable, but if its element is mutable (dict, list, or set), we can still change it:"
   ]
  },
  {
   "cell_type": "code",
   "execution_count": 18,
   "metadata": {
    "collapsed": false,
    "nbpresent": {
     "id": "0cdcd47d-dd45-4b1b-803c-87a099019e46"
    }
   },
   "outputs": [
    {
     "name": "stdout",
     "output_type": "stream",
     "text": [
      "Attempt to modify singer[2]: 'tuple' object does not support item assignment\n",
      "('Andy', 'Williams', ['Moon River', 'Speak Softly Love'])\n"
     ]
    }
   ],
   "source": [
    "# First, last, popular songs\n",
    "singer = ('Andy', 'Williams', ['Moon River'])\n",
    "\n",
    "try:\n",
    "    singer[2] = ['I Love Rock and Roll']\n",
    "except TypeError as exception_info:\n",
    "    print 'Attempt to modify singer[2]:', exception_info\n",
    "    \n",
    "singer[2].append('Speak Softly Love')  # OK\n",
    "print singer"
   ]
  },
  {
   "cell_type": "markdown",
   "metadata": {
    "collapsed": true,
    "nbpresent": {
     "id": "cd1fdcb1-2bed-49df-ae23-38d75a371a57"
    }
   },
   "source": [
    "### A Simpler namedtuple demo"
   ]
  },
  {
   "cell_type": "code",
   "execution_count": 19,
   "metadata": {
    "collapsed": false,
    "nbpresent": {
     "id": "6b9f27ed-0754-44ba-a13c-c8062162a05a"
    }
   },
   "outputs": [
    {
     "name": "stdout",
     "output_type": "stream",
     "text": [
      "singer_record: Singer(first='Andy', last='Williams', songs=['Moon River'])\n",
      "Full name: Andy Williams\n"
     ]
    }
   ],
   "source": [
    "from collections import namedtuple\n",
    "\n",
    "Singer = namedtuple('Singer', ['first', 'last', 'songs'])\n",
    "singer_record = Singer('Andy', 'Williams', ['Moon River'])\n",
    "\n",
    "print 'singer_record:', singer_record\n",
    "print 'Full name: {s.first} {s.last}'.format(s=singer_record)"
   ]
  },
  {
   "cell_type": "markdown",
   "metadata": {
    "nbpresent": {
     "id": "bf43710b-662f-42ad-ab5e-1898a61ac09f"
    }
   },
   "source": [
    "### Alternative to namedtuple: Unpacking\n",
    "\n",
    "If you don't want to mess with named tuple, unpacking provides an alternative:"
   ]
  },
  {
   "cell_type": "code",
   "execution_count": 20,
   "metadata": {
    "collapsed": false,
    "nbpresent": {
     "id": "ecd61a5f-8508-45d3-9008-1f741edf321e"
    }
   },
   "outputs": [
    {
     "name": "stdout",
     "output_type": "stream",
     "text": [
      "Andy Williams's songs:\n",
      "Moon River\n",
      "Love Story\n"
     ]
    }
   ],
   "source": [
    "singer_tuple = ('Andy', 'Williams', ['Moon River', 'Love Story'])\n",
    "first, last, songs = singer_tuple  # <<< Unpacking\n",
    "\n",
    "print \"{} {}'s songs:\".format(first, last)\n",
    "print '\\n'.join(songs)"
   ]
  }
 ],
 "metadata": {
  "anaconda-cloud": {
   "environment": null,
   "summary": "Working with Data Part 1",
   "url": "https://anaconda.org/haivu/working-with-data-part-1"
  },
  "kernelspec": {
   "display_name": "Python [Root]",
   "language": "python",
   "name": "Python [Root]"
  },
  "language_info": {
   "codemirror_mode": {
    "name": "ipython",
    "version": 2
   },
   "file_extension": ".py",
   "mimetype": "text/x-python",
   "name": "python",
   "nbconvert_exporter": "python",
   "pygments_lexer": "ipython2",
   "version": "2.7.12"
  },
  "nbpresent": {
   "slides": {
    "0432e1cf-f1a4-4ef8-8020-7798348e9c4e": {
     "id": "0432e1cf-f1a4-4ef8-8020-7798348e9c4e",
     "prev": "70216c35-9d7d-47d0-903e-0cb2dbc3861c",
     "regions": {
      "142ef678-f478-42ef-aa7c-bf1e7481905b": {
       "attrs": {
        "height": 0.8,
        "width": 0.8,
        "x": 0.1,
        "y": 0.1
       },
       "content": {
        "cell": "8b909f3e-870a-4478-898f-f5f3abb0651c",
        "part": "whole"
       },
       "id": "142ef678-f478-42ef-aa7c-bf1e7481905b"
      }
     }
    },
    "0809c8ab-7661-4a1d-a8d6-0da2186a88a7": {
     "id": "0809c8ab-7661-4a1d-a8d6-0da2186a88a7",
     "prev": "3b6bc9d7-a4af-46c9-9620-9bbf47abf1fd",
     "regions": {
      "f507d5f2-431e-44ec-ae17-5237c6eaef1a": {
       "attrs": {
        "height": 0.8,
        "width": 0.8,
        "x": 0.1,
        "y": 0.1
       },
       "content": {
        "cell": "b12115db-7267-43a4-a983-44edc0caffe0",
        "part": "whole"
       },
       "id": "f507d5f2-431e-44ec-ae17-5237c6eaef1a"
      }
     }
    },
    "0a26101a-8659-4674-8ccb-28d076566fa9": {
     "id": "0a26101a-8659-4674-8ccb-28d076566fa9",
     "prev": "8b52d312-ebe4-4183-8a92-51628dcd802c",
     "regions": {
      "bb997796-cb1f-459f-8d8a-3e4e189566cf": {
       "attrs": {
        "height": 0.8,
        "width": 0.8,
        "x": 0.1,
        "y": 0.1
       },
       "content": {
        "cell": "f2eaff86-7928-406f-82d2-f40d90e69ffa",
        "part": "whole"
       },
       "id": "bb997796-cb1f-459f-8d8a-3e4e189566cf"
      }
     }
    },
    "0afa7717-9fa2-4192-9ded-a74b72f310b0": {
     "id": "0afa7717-9fa2-4192-9ded-a74b72f310b0",
     "prev": "3da7fba6-824b-4c79-8bb3-608f2215e01f",
     "regions": {
      "01cd5a4b-66e5-4873-9b57-1eb7c3cad961": {
       "attrs": {
        "height": 0.8,
        "width": 0.8,
        "x": 0.1,
        "y": 0.1
       },
       "content": {
        "cell": "5457c820-cf04-4699-9769-48cbb978f54a",
        "part": "whole"
       },
       "id": "01cd5a4b-66e5-4873-9b57-1eb7c3cad961"
      }
     }
    },
    "1bbfbf2c-e624-4862-849a-333361f7b9be": {
     "id": "1bbfbf2c-e624-4862-849a-333361f7b9be",
     "prev": "be44bcf6-2945-410f-91a7-3876d3eb916e",
     "regions": {
      "6abcc409-fed3-4bf3-9b72-b5cdd46eb46f": {
       "attrs": {
        "height": 0.8,
        "width": 0.8,
        "x": 0.1,
        "y": 0.1
       },
       "content": {
        "cell": "86051ab5-f928-4613-8a50-ddf4dce73077",
        "part": "whole"
       },
       "id": "6abcc409-fed3-4bf3-9b72-b5cdd46eb46f"
      }
     }
    },
    "1c7b8ffa-b37a-4708-8b0e-14aab2978559": {
     "id": "1c7b8ffa-b37a-4708-8b0e-14aab2978559",
     "prev": "98db4621-a5e8-464a-b475-763af329378a",
     "regions": {
      "f04a0627-1b01-4011-9e74-eb02ecbe18b4": {
       "attrs": {
        "height": 0.8,
        "width": 0.8,
        "x": 0.1,
        "y": 0.1
       },
       "content": {
        "cell": "eb3391cc-b690-42b7-9e9f-96dc34b3632f",
        "part": "whole"
       },
       "id": "f04a0627-1b01-4011-9e74-eb02ecbe18b4"
      }
     }
    },
    "234ccaa6-7a31-4f7f-8dcc-3a5fd7df5abc": {
     "id": "234ccaa6-7a31-4f7f-8dcc-3a5fd7df5abc",
     "prev": "8225a1a4-03f5-48f1-9569-e590c32d0615",
     "regions": {
      "f439825c-068b-4704-bde7-3df9a71fbf10": {
       "attrs": {
        "height": 0.8,
        "width": 0.8,
        "x": 0.1,
        "y": 0.1
       },
       "content": {
        "cell": "78dc6792-0fdb-49be-a06e-0cea55001a6f",
        "part": "whole"
       },
       "id": "f439825c-068b-4704-bde7-3df9a71fbf10"
      }
     }
    },
    "29eb3386-e6e1-4b8c-a9b5-b6975e0fd247": {
     "id": "29eb3386-e6e1-4b8c-a9b5-b6975e0fd247",
     "prev": "ec169490-8264-46dd-8275-22a0b9dd1e18",
     "regions": {
      "25dc8b16-a1d6-413c-9b65-6b40ceb8ded3": {
       "attrs": {
        "height": 0.8,
        "width": 0.8,
        "x": 0.1,
        "y": 0.1
       },
       "content": {
        "cell": "b6ba1b40-ad28-4535-b358-97c8ee473de2",
        "part": "whole"
       },
       "id": "25dc8b16-a1d6-413c-9b65-6b40ceb8ded3"
      }
     }
    },
    "38eadd16-91ed-4686-a119-4c98d1fdbfa3": {
     "id": "38eadd16-91ed-4686-a119-4c98d1fdbfa3",
     "prev": "b9c75477-10a3-49c3-a74d-a4f28d8282c9",
     "regions": {
      "0bbaf53e-5262-4e6f-9195-77dadf6856e5": {
       "attrs": {
        "height": 0.8,
        "width": 0.8,
        "x": 0.1,
        "y": 0.1
       },
       "content": {
        "cell": "66dd5b96-f9eb-4e66-b2bf-7d37372f54ef",
        "part": "whole"
       },
       "id": "0bbaf53e-5262-4e6f-9195-77dadf6856e5"
      }
     }
    },
    "3b6bc9d7-a4af-46c9-9620-9bbf47abf1fd": {
     "id": "3b6bc9d7-a4af-46c9-9620-9bbf47abf1fd",
     "prev": "96c06e80-2193-409c-a5cc-b4780e4fbb8c",
     "regions": {
      "fa776f80-4132-4d02-aeb2-14e59ac3db7c": {
       "attrs": {
        "height": 0.8,
        "width": 0.8,
        "x": 0.1,
        "y": 0.1
       },
       "content": {
        "cell": "da3b5a2d-d25d-4866-b190-b632adeedcd3",
        "part": "whole"
       },
       "id": "fa776f80-4132-4d02-aeb2-14e59ac3db7c"
      }
     }
    },
    "3b6c83a1-293d-4d6f-8740-43a944e59792": {
     "id": "3b6c83a1-293d-4d6f-8740-43a944e59792",
     "prev": "f51e35a8-0b61-4a05-bd0b-572998cb8f32",
     "regions": {
      "ddaec6d0-000a-470b-b73b-29ecd408df07": {
       "attrs": {
        "height": 0.8,
        "width": 0.8,
        "x": 0.1,
        "y": 0.1
       },
       "content": {
        "cell": "11aacb7b-eb2b-43fd-a68e-494299062324",
        "part": "whole"
       },
       "id": "ddaec6d0-000a-470b-b73b-29ecd408df07"
      }
     }
    },
    "3da7fba6-824b-4c79-8bb3-608f2215e01f": {
     "id": "3da7fba6-824b-4c79-8bb3-608f2215e01f",
     "prev": "8fe8e120-3754-46de-878f-de663603a455",
     "regions": {
      "09a58e4f-2724-49b5-a0e9-3e16e248e359": {
       "attrs": {
        "height": 0.8,
        "width": 0.8,
        "x": 0.1,
        "y": 0.1
       },
       "content": {
        "cell": "ecd61a5f-8508-45d3-9008-1f741edf321e",
        "part": "whole"
       },
       "id": "09a58e4f-2724-49b5-a0e9-3e16e248e359"
      }
     }
    },
    "3db7b799-9887-415c-a139-790dd39d4d94": {
     "id": "3db7b799-9887-415c-a139-790dd39d4d94",
     "prev": "c57542d1-29c6-454a-a5f9-d630b7ae92fb",
     "regions": {
      "9ed84fe7-76df-4c89-a235-c456f576b47a": {
       "attrs": {
        "height": 0.8,
        "width": 0.8,
        "x": 0.1,
        "y": 0.1
       },
       "content": {
        "cell": "44dc280d-28d3-4cc2-a932-4b8be12ce5d7",
        "part": "whole"
       },
       "id": "9ed84fe7-76df-4c89-a235-c456f576b47a"
      }
     }
    },
    "48957b68-0cdb-4b78-8b3c-6fb2a27798f2": {
     "id": "48957b68-0cdb-4b78-8b3c-6fb2a27798f2",
     "prev": "de5a3050-5296-4266-920a-f30071fd1513",
     "regions": {
      "98becc99-e0cd-46d9-af74-3c7d37761e9c": {
       "attrs": {
        "height": 0.8,
        "width": 0.8,
        "x": 0.1,
        "y": 0.1
       },
       "content": {
        "cell": "0d6ebf54-d070-483f-a241-23241cb0ec42",
        "part": "whole"
       },
       "id": "98becc99-e0cd-46d9-af74-3c7d37761e9c"
      }
     }
    },
    "503db896-e2c2-4e76-a9db-e93c20d5b2dc": {
     "id": "503db896-e2c2-4e76-a9db-e93c20d5b2dc",
     "prev": "c0dfd264-dec3-4591-bb6e-0951479d8d96",
     "regions": {
      "40ad833e-f915-41c9-954c-9174a14ae893": {
       "attrs": {
        "height": 0.8,
        "width": 0.8,
        "x": 0.1,
        "y": 0.1
       },
       "content": {
        "cell": "f825e24c-e13f-4ded-83a8-2d1fd7925deb",
        "part": "whole"
       },
       "id": "40ad833e-f915-41c9-954c-9174a14ae893"
      }
     }
    },
    "59575604-2215-4a17-850f-5ddc1c02bc36": {
     "id": "59575604-2215-4a17-850f-5ddc1c02bc36",
     "prev": "c86e83fa-bee3-4df5-8c7e-95e46b61e39a",
     "regions": {
      "74c189ad-503a-42f6-84ca-d31d782774fd": {
       "attrs": {
        "height": 0.8,
        "width": 0.8,
        "x": 0.1,
        "y": 0.1
       },
       "content": {
        "cell": "08fb8f25-4267-4bda-a47a-106985ae1e1f",
        "part": "whole"
       },
       "id": "74c189ad-503a-42f6-84ca-d31d782774fd"
      }
     }
    },
    "6f2f0d34-981d-49d1-899b-46402985e2b7": {
     "id": "6f2f0d34-981d-49d1-899b-46402985e2b7",
     "prev": "9cfc55bc-3d33-4f41-bf20-2e1c493ef360",
     "regions": {
      "82926024-746f-4588-aacb-eef65e78fe3d": {
       "attrs": {
        "height": 0.8,
        "width": 0.8,
        "x": 0.1,
        "y": 0.1
       },
       "content": {
        "cell": "84d28715-97c6-4aa7-96da-a6ca97dd5d44",
        "part": "whole"
       },
       "id": "82926024-746f-4588-aacb-eef65e78fe3d"
      }
     }
    },
    "70216c35-9d7d-47d0-903e-0cb2dbc3861c": {
     "id": "70216c35-9d7d-47d0-903e-0cb2dbc3861c",
     "prev": "29eb3386-e6e1-4b8c-a9b5-b6975e0fd247",
     "regions": {
      "58a905c7-16df-412b-b6e8-6b718f9407f5": {
       "attrs": {
        "height": 0.8,
        "width": 0.8,
        "x": 0.1,
        "y": 0.1
       },
       "content": {
        "cell": "fb53b13b-b2ca-40e4-8652-5bfa9a04b24c",
        "part": "whole"
       },
       "id": "58a905c7-16df-412b-b6e8-6b718f9407f5"
      }
     }
    },
    "718d903b-e54e-4a6e-8ae5-5f61d3812222": {
     "id": "718d903b-e54e-4a6e-8ae5-5f61d3812222",
     "prev": "59575604-2215-4a17-850f-5ddc1c02bc36",
     "regions": {
      "537bab1d-45c9-4b3d-8ab9-56d8f569c399": {
       "attrs": {
        "height": 0.8,
        "width": 0.8,
        "x": 0.1,
        "y": 0.1
       },
       "content": {
        "cell": "adc90a66-fcba-4380-b0b6-fc32b6bcd01a",
        "part": "whole"
       },
       "id": "537bab1d-45c9-4b3d-8ab9-56d8f569c399"
      }
     }
    },
    "8110ff93-3b0f-4379-97d4-43fb0748da1c": {
     "id": "8110ff93-3b0f-4379-97d4-43fb0748da1c",
     "prev": "ab919602-97a1-4eac-b21d-6d8040a9b4ee",
     "regions": {
      "e05e8cca-0355-4e1a-a06a-c7ea73b9a01b": {
       "attrs": {
        "height": 0.8,
        "width": 0.8,
        "x": 0.1,
        "y": 0.1
       },
       "content": {
        "cell": "4bef20df-39fa-4321-b79d-9f22fa46060b",
        "part": "whole"
       },
       "id": "e05e8cca-0355-4e1a-a06a-c7ea73b9a01b"
      }
     }
    },
    "8225a1a4-03f5-48f1-9569-e590c32d0615": {
     "id": "8225a1a4-03f5-48f1-9569-e590c32d0615",
     "prev": "6f2f0d34-981d-49d1-899b-46402985e2b7",
     "regions": {
      "f8c715ea-d133-4c69-8c9a-50a475f06708": {
       "attrs": {
        "height": 0.8,
        "width": 0.8,
        "x": 0.1,
        "y": 0.1
       },
       "content": {
        "cell": "1e041a6e-22e7-4bb1-94cf-e3e60004a62e",
        "part": "whole"
       },
       "id": "f8c715ea-d133-4c69-8c9a-50a475f06708"
      }
     }
    },
    "8b52d312-ebe4-4183-8a92-51628dcd802c": {
     "id": "8b52d312-ebe4-4183-8a92-51628dcd802c",
     "prev": "503db896-e2c2-4e76-a9db-e93c20d5b2dc",
     "regions": {
      "18e646d9-60af-4c63-a7b8-c105a2af4a6f": {
       "attrs": {
        "height": 0.8,
        "width": 0.8,
        "x": 0.1,
        "y": 0.1
       },
       "content": {
        "cell": "55bc80bc-f7c5-4e2b-8a78-048edae6408c",
        "part": "whole"
       },
       "id": "18e646d9-60af-4c63-a7b8-c105a2af4a6f"
      }
     }
    },
    "8be9c9cf-6750-46a3-a8cf-6d5daa5c75e6": {
     "id": "8be9c9cf-6750-46a3-a8cf-6d5daa5c75e6",
     "prev": "8110ff93-3b0f-4379-97d4-43fb0748da1c",
     "regions": {
      "6d448245-42ef-4bf3-9d62-d9a0046f5392": {
       "attrs": {
        "height": 0.8,
        "width": 0.8,
        "x": 0.1,
        "y": 0.1
       },
       "content": {
        "cell": "79eaeca4-7d76-4950-a1f2-b5c1fd1cdb21",
        "part": "whole"
       },
       "id": "6d448245-42ef-4bf3-9d62-d9a0046f5392"
      }
     }
    },
    "8fe8e120-3754-46de-878f-de663603a455": {
     "id": "8fe8e120-3754-46de-878f-de663603a455",
     "prev": "968b2987-8d50-432a-a531-013b0b993545",
     "regions": {
      "ea2bae78-1a54-491e-bb74-bad6d358027d": {
       "attrs": {
        "height": 0.8,
        "width": 0.8,
        "x": 0.1,
        "y": 0.1
       },
       "content": {
        "cell": "bf43710b-662f-42ad-ab5e-1898a61ac09f",
        "part": "whole"
       },
       "id": "ea2bae78-1a54-491e-bb74-bad6d358027d"
      }
     }
    },
    "968b2987-8d50-432a-a531-013b0b993545": {
     "id": "968b2987-8d50-432a-a531-013b0b993545",
     "prev": "f4f63d07-2f32-4143-818b-1bf3b893516c",
     "regions": {
      "f48e087b-28f7-4140-8c73-23b6bcf2be42": {
       "attrs": {
        "height": 0.8,
        "width": 0.8,
        "x": 0.1,
        "y": 0.1
       },
       "content": {
        "cell": "6b9f27ed-0754-44ba-a13c-c8062162a05a",
        "part": "whole"
       },
       "id": "f48e087b-28f7-4140-8c73-23b6bcf2be42"
      }
     }
    },
    "96c06e80-2193-409c-a5cc-b4780e4fbb8c": {
     "id": "96c06e80-2193-409c-a5cc-b4780e4fbb8c",
     "prev": "234ccaa6-7a31-4f7f-8dcc-3a5fd7df5abc",
     "regions": {
      "18e0afee-cf41-4e65-b820-d317713bbe89": {
       "attrs": {
        "height": 0.8,
        "width": 0.8,
        "x": 0.1,
        "y": 0.1
       },
       "content": {
        "cell": "34450097-169b-450b-94c3-b6d1863b8f54",
        "part": "whole"
       },
       "id": "18e0afee-cf41-4e65-b820-d317713bbe89"
      }
     }
    },
    "98db4621-a5e8-464a-b475-763af329378a": {
     "id": "98db4621-a5e8-464a-b475-763af329378a",
     "prev": "1bbfbf2c-e624-4862-849a-333361f7b9be",
     "regions": {
      "4fbe2e15-da1a-44a5-b032-cfbb20632a7b": {
       "attrs": {
        "height": 0.8,
        "width": 0.8,
        "x": 0.1,
        "y": 0.1
       },
       "content": {
        "cell": "0e810a63-0be3-4740-bd22-927b023dd95b",
        "part": "whole"
       },
       "id": "4fbe2e15-da1a-44a5-b032-cfbb20632a7b"
      }
     }
    },
    "9cfc55bc-3d33-4f41-bf20-2e1c493ef360": {
     "id": "9cfc55bc-3d33-4f41-bf20-2e1c493ef360",
     "prev": "8be9c9cf-6750-46a3-a8cf-6d5daa5c75e6",
     "regions": {
      "5f48cf47-4a76-4d87-90e1-671244871487": {
       "attrs": {
        "height": 0.8,
        "width": 0.8,
        "x": 0.1,
        "y": 0.1
       },
       "content": {
        "cell": "7db44cdb-f12f-47f1-878a-060e94e04475",
        "part": "whole"
       },
       "id": "5f48cf47-4a76-4d87-90e1-671244871487"
      }
     }
    },
    "a27e9d5a-b272-4ad7-b29a-7bb09891af71": {
     "id": "a27e9d5a-b272-4ad7-b29a-7bb09891af71",
     "prev": "0809c8ab-7661-4a1d-a8d6-0da2186a88a7",
     "regions": {
      "8d31187b-2680-4d21-b0fe-8c61d3dacee9": {
       "attrs": {
        "height": 0.8,
        "width": 0.8,
        "x": 0.1,
        "y": 0.1
       },
       "content": {
        "cell": "507aa720-5311-4f95-b865-0f88cd922d3b",
        "part": "whole"
       },
       "id": "8d31187b-2680-4d21-b0fe-8c61d3dacee9"
      }
     }
    },
    "a6b6c475-ce4d-4eb0-923b-c219501d4a18": {
     "id": "a6b6c475-ce4d-4eb0-923b-c219501d4a18",
     "prev": "1c7b8ffa-b37a-4708-8b0e-14aab2978559",
     "regions": {
      "197eba71-e379-40fd-8bdb-46ee7fe24636": {
       "attrs": {
        "height": 0.8,
        "width": 0.8,
        "x": 0.1,
        "y": 0.1
       },
       "content": {
        "cell": "0cdcd47d-dd45-4b1b-803c-87a099019e46",
        "part": "whole"
       },
       "id": "197eba71-e379-40fd-8bdb-46ee7fe24636"
      }
     }
    },
    "ab919602-97a1-4eac-b21d-6d8040a9b4ee": {
     "id": "ab919602-97a1-4eac-b21d-6d8040a9b4ee",
     "prev": "0a26101a-8659-4674-8ccb-28d076566fa9",
     "regions": {
      "5ed64f1c-b1b0-4292-912f-0f5126073261": {
       "attrs": {
        "height": 0.8,
        "width": 0.8,
        "x": 0.1,
        "y": 0.1
       },
       "content": {
        "cell": "b4bfbe02-00ea-4d43-bfcb-e7b446a57a67",
        "part": "whole"
       },
       "id": "5ed64f1c-b1b0-4292-912f-0f5126073261"
      }
     }
    },
    "b9c75477-10a3-49c3-a74d-a4f28d8282c9": {
     "id": "b9c75477-10a3-49c3-a74d-a4f28d8282c9",
     "prev": "0432e1cf-f1a4-4ef8-8020-7798348e9c4e",
     "regions": {
      "aea56287-bc3a-4c08-8dbb-6d5c62feae93": {
       "attrs": {
        "height": 0.8,
        "width": 0.8,
        "x": 0.1,
        "y": 0.1
       },
       "content": {
        "cell": "3b64df53-e8e6-4e20-abd8-eae0b3c87f00",
        "part": "whole"
       },
       "id": "aea56287-bc3a-4c08-8dbb-6d5c62feae93"
      }
     }
    },
    "be44bcf6-2945-410f-91a7-3876d3eb916e": {
     "id": "be44bcf6-2945-410f-91a7-3876d3eb916e",
     "prev": "718d903b-e54e-4a6e-8ae5-5f61d3812222",
     "regions": {
      "c677313e-f62c-4501-be27-b2179493bf15": {
       "attrs": {
        "height": 0.8,
        "width": 0.8,
        "x": 0.1,
        "y": 0.1
       },
       "content": {
        "cell": "42ef2727-ab90-418d-b167-b2754ae26e21",
        "part": "whole"
       },
       "id": "c677313e-f62c-4501-be27-b2179493bf15"
      }
     }
    },
    "c0dfd264-dec3-4591-bb6e-0951479d8d96": {
     "id": "c0dfd264-dec3-4591-bb6e-0951479d8d96",
     "prev": "ccf89351-dc20-4de1-85e4-2d63cc662861",
     "regions": {
      "3224c7ed-4946-4c89-b24e-5958db96537c": {
       "attrs": {
        "height": 0.8,
        "width": 0.8,
        "x": 0.1,
        "y": 0.1
       },
       "content": {
        "cell": "34a6498e-1c07-460e-91d2-268afac2c05c",
        "part": "whole"
       },
       "id": "3224c7ed-4946-4c89-b24e-5958db96537c"
      }
     }
    },
    "c57542d1-29c6-454a-a5f9-d630b7ae92fb": {
     "id": "c57542d1-29c6-454a-a5f9-d630b7ae92fb",
     "prev": "48957b68-0cdb-4b78-8b3c-6fb2a27798f2",
     "regions": {
      "7661224b-f332-4407-82ed-643661752588": {
       "attrs": {
        "height": 0.8,
        "width": 0.8,
        "x": 0.1,
        "y": 0.1
       },
       "content": {
        "cell": "3cd54fdd-dedf-4862-95cc-ad57b2f42b61",
        "part": "whole"
       },
       "id": "7661224b-f332-4407-82ed-643661752588"
      }
     }
    },
    "c86e83fa-bee3-4df5-8c7e-95e46b61e39a": {
     "id": "c86e83fa-bee3-4df5-8c7e-95e46b61e39a",
     "prev": "3b6c83a1-293d-4d6f-8740-43a944e59792",
     "regions": {
      "aebb525c-6f4b-4da5-a9e8-d447f858aa08": {
       "attrs": {
        "height": 0.8,
        "width": 0.8,
        "x": 0.1,
        "y": 0.1
       },
       "content": {
        "cell": "9ebcaf95-8fdb-40b0-84b9-8460115caf87",
        "part": "whole"
       },
       "id": "aebb525c-6f4b-4da5-a9e8-d447f858aa08"
      }
     }
    },
    "ccf89351-dc20-4de1-85e4-2d63cc662861": {
     "id": "ccf89351-dc20-4de1-85e4-2d63cc662861",
     "prev": "38eadd16-91ed-4686-a119-4c98d1fdbfa3",
     "regions": {
      "76865c73-289a-4afb-b40f-e7a9a91d73cf": {
       "attrs": {
        "height": 0.8,
        "width": 0.8,
        "x": 0.1,
        "y": 0.1
       },
       "content": {
        "cell": "d7ab010f-93ae-43c8-b652-1325e46b4aac",
        "part": "whole"
       },
       "id": "76865c73-289a-4afb-b40f-e7a9a91d73cf"
      }
     }
    },
    "de5a3050-5296-4266-920a-f30071fd1513": {
     "id": "de5a3050-5296-4266-920a-f30071fd1513",
     "prev": "a27e9d5a-b272-4ad7-b29a-7bb09891af71",
     "regions": {
      "62826135-0985-4501-8712-1874cf8aa73c": {
       "attrs": {
        "height": 0.8,
        "width": 0.8,
        "x": 0.1,
        "y": 0.1
       },
       "content": {
        "cell": "9a422c60-e95e-4626-ab6b-e4ec34a89090",
        "part": "whole"
       },
       "id": "62826135-0985-4501-8712-1874cf8aa73c"
      }
     }
    },
    "ec169490-8264-46dd-8275-22a0b9dd1e18": {
     "id": "ec169490-8264-46dd-8275-22a0b9dd1e18",
     "prev": null,
     "regions": {
      "4630e9af-f8e1-4932-954b-02555797136e": {
       "attrs": {
        "height": 0.8,
        "width": 0.8,
        "x": 0.1,
        "y": 0.1
       },
       "content": {
        "cell": "43bbcacd-79e5-4efc-a63f-ff2ab71a724b",
        "part": "whole"
       },
       "id": "4630e9af-f8e1-4932-954b-02555797136e"
      }
     }
    },
    "f4f63d07-2f32-4143-818b-1bf3b893516c": {
     "id": "f4f63d07-2f32-4143-818b-1bf3b893516c",
     "prev": "a6b6c475-ce4d-4eb0-923b-c219501d4a18",
     "regions": {
      "2bb03dc8-a31b-4481-802a-7ed09cb8bd97": {
       "attrs": {
        "height": 0.8,
        "width": 0.8,
        "x": 0.1,
        "y": 0.1
       },
       "content": {
        "cell": "cd1fdcb1-2bed-49df-ae23-38d75a371a57",
        "part": "whole"
       },
       "id": "2bb03dc8-a31b-4481-802a-7ed09cb8bd97"
      }
     }
    },
    "f51e35a8-0b61-4a05-bd0b-572998cb8f32": {
     "id": "f51e35a8-0b61-4a05-bd0b-572998cb8f32",
     "prev": "3db7b799-9887-415c-a139-790dd39d4d94",
     "regions": {
      "62563c62-8d63-49ea-9c21-d63663bec905": {
       "attrs": {
        "height": 0.8,
        "width": 0.8,
        "x": 0.1,
        "y": 0.1
       },
       "content": {
        "cell": "3ecc36b2-1b19-4a57-9aa6-de369673c624",
        "part": "whole"
       },
       "id": "62563c62-8d63-49ea-9c21-d63663bec905"
      }
     }
    }
   },
   "themes": {}
  }
 },
 "nbformat": 4,
 "nbformat_minor": 0
}
