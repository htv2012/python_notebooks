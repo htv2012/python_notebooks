{
 "cells": [
  {
   "cell_type": "code",
   "execution_count": 32,
   "id": "dc5f7bac-3c8d-4233-ac5d-f946382316c3",
   "metadata": {},
   "outputs": [],
   "source": [
    "#!/bin/python3\n",
    "\n",
    "import math\n",
    "import os\n",
    "import random\n",
    "import re\n",
    "import sys\n",
    "import requests\n",
    "import bisect\n",
    "    \n",
    "\n",
    "def finestFoodOutlet(city, votes):\n",
    "    page_no = 1\n",
    "    url = f\"thttps://jsonmock.hackerrank.com/api/food_outlets?city={city}&page={page_no}\"\n",
    "    resp = requests.get(url)\n",
    "    result: Result = resp.json()\n",
    "\n",
    "    out = []\n",
    "    for page_no in range(1, result['total_pages'] + 1):\n",
    "        url = f\"https://jsonmock.hackerrank.com/api/food_outlets?city={city}&page={page_no}\"\n",
    "        resp = requests.get(url)\n",
    "        result = resp.json()\n",
    "        for datum in result['data']:\n",
    "            if datum['user_rating']['votes'] >= votes:\n",
    "                rec = (\n",
    "                    datum['user_rating']['average_rating'],\n",
    "                    datum['user_rating']['votes'],\n",
    "                    datum['name'],\n",
    "                )\n",
    "                bisect.insort(out, rec)\n",
    "    return out[-1][-1]"
   ]
  },
  {
   "cell_type": "code",
   "execution_count": 33,
   "id": "3139f74a-ebee-4dfd-8d6e-1e9fe990d2f4",
   "metadata": {},
   "outputs": [
    {
     "data": {
      "text/plain": [
       "'Cafe Juanita'"
      ]
     },
     "execution_count": 33,
     "metadata": {},
     "output_type": "execute_result"
    }
   ],
   "source": [
    "finestFoodOutlet('Seattle', 500)"
   ]
  },
  {
   "cell_type": "code",
   "execution_count": 39,
   "id": "2e156f12-b1dc-4a79-8309-5b0b12f4ea80",
   "metadata": {},
   "outputs": [],
   "source": [
    "def iter_outlet(city: str):\n",
    "    page_number = 1\n",
    "    total_pages = 1\n",
    "    while page_number <= total_pages:\n",
    "        url = f\"https://jsonmock.hackerrank.com/api/food_outlets?city={city}&page={page_number}\"\n",
    "        resp = requests.get(url)\n",
    "        payload = resp.json()\n",
    "        total_pages = payload['total_pages']\n",
    "        yield from payload['data']\n",
    "        page_number += 1"
   ]
  },
  {
   "cell_type": "code",
   "execution_count": 41,
   "id": "ecfaa292-25d3-44d7-9420-fe7fd8a7380f",
   "metadata": {},
   "outputs": [
    {
     "name": "stdout",
     "output_type": "stream",
     "text": [
      "{'city': 'Seattle', 'name': 'Cafe Juanita', 'estimated_cost': 160, 'user_rating': {'average_rating': 4.9, 'votes': 16203}, 'id': 41}\n",
      "{'city': 'Seattle', 'name': 'Cafe Munir', 'estimated_cost': 160, 'user_rating': {'average_rating': 4.9, 'votes': 4699}, 'id': 42}\n",
      "{'city': 'Seattle', 'name': 'Flechazo', 'estimated_cost': 140, 'user_rating': {'average_rating': 4.8, 'votes': 2663}, 'id': 43}\n",
      "{'city': 'Seattle', 'name': 'Vanilla Sky', 'estimated_cost': 120, 'user_rating': {'average_rating': 4.6, 'votes': 645}, 'id': 44}\n",
      "{'city': 'Seattle', 'name': 'The Shambles', 'estimated_cost': 110, 'user_rating': {'average_rating': 4.4, 'votes': 2116}, 'id': 45}\n",
      "{'city': 'Seattle', 'name': 'Stories', 'estimated_cost': 150, 'user_rating': {'average_rating': 4.5, 'votes': 2087}, 'id': 46}\n",
      "{'city': 'Seattle', 'name': 'Big Pitcher', 'estimated_cost': 180, 'user_rating': {'average_rating': 4.7, 'votes': 9011}, 'id': 47}\n",
      "{'city': 'Seattle', 'name': 'The Black Pearl', 'estimated_cost': 150, 'user_rating': {'average_rating': 4.8, 'votes': 6976}, 'id': 48}\n",
      "{'city': 'Seattle', 'name': 'Truffles', 'estimated_cost': 90, 'user_rating': {'average_rating': 4.7, 'votes': 14611}, 'id': 49}\n",
      "{'city': 'Seattle', 'name': 'Biergarten', 'estimated_cost': 240, 'user_rating': {'average_rating': 4.7, 'votes': 299}, 'id': 410}\n",
      "{'city': 'Seattle', 'name': 'TBC Sky Lounge', 'estimated_cost': 10, 'user_rating': {'average_rating': 4.7, 'votes': 6577}, 'id': 411}\n",
      "{'city': 'Seattle', 'name': 'The Pump House', 'estimated_cost': 150, 'user_rating': {'average_rating': 4.3, 'votes': 588}, 'id': 412}\n",
      "{'city': 'Seattle', 'name': 'JuneBaby', 'estimated_cost': 80, 'user_rating': {'average_rating': 4.4, 'votes': 1880}, 'id': 413}\n",
      "{'city': 'Seattle', 'name': 'Brew and Barbeque - A Microbrewery Pub', 'estimated_cost': 140, 'user_rating': {'average_rating': 4.7, 'votes': 5695}, 'id': 414}\n",
      "{'city': 'Seattle', 'name': 'Simon Says Brew Works', 'estimated_cost': 140, 'user_rating': {'average_rating': 4.5, 'votes': 1855}, 'id': 415}\n",
      "{'city': 'Seattle', 'name': 'Communiti', 'estimated_cost': 150, 'user_rating': {'average_rating': 4.6, 'votes': 3837}, 'id': 416}\n",
      "{'city': 'Seattle', 'name': 'Asia Kitchen By Mainland China', 'estimated_cost': 150, 'user_rating': {'average_rating': 4.9, 'votes': 2133}, 'id': 417}\n",
      "{'city': 'Seattle', 'name': 'Addo', 'estimated_cost': 140, 'user_rating': {'average_rating': 4.7, 'votes': 6860}, 'id': 418}\n",
      "{'city': 'Seattle', 'name': 'The Pallet', 'estimated_cost': 160, 'user_rating': {'average_rating': 4.4, 'votes': 2390}, 'id': 419}\n",
      "{'city': 'Seattle', 'name': 'Hammered', 'estimated_cost': 130, 'user_rating': {'average_rating': 4.6, 'votes': 4562}, 'id': 420}\n",
      "{'city': 'Seattle', 'name': 'Sidewalk - The Garden Bar', 'estimated_cost': 130, 'user_rating': {'average_rating': 4.5, 'votes': 2877}, 'id': 421}\n",
      "{'city': 'Seattle', 'name': 'Brooks and Bonds Brewery', 'estimated_cost': 160, 'user_rating': {'average_rating': 4.5, 'votes': 3825}, 'id': 422}\n",
      "{'city': 'Seattle', 'name': 'Toit', 'estimated_cost': 150, 'user_rating': {'average_rating': 4.7, 'votes': 14938}, 'id': 423}\n",
      "{'city': 'Seattle', 'name': \"AB's - Absolute Barbecues\", 'estimated_cost': 160, 'user_rating': {'average_rating': 4.8, 'votes': 11871}, 'id': 424}\n",
      "{'city': 'Seattle', 'name': 'Frelard Tamales', 'estimated_cost': 150, 'user_rating': {'average_rating': 4.6, 'votes': 4604}, 'id': 425}\n",
      "{'city': 'Seattle', 'name': \"Xi'an Noodles\", 'estimated_cost': 140, 'user_rating': {'average_rating': 4.8, 'votes': 10330}, 'id': 426}\n",
      "{'city': 'Seattle', 'name': 'Levitate Brewery and Kitchen', 'estimated_cost': 150, 'user_rating': {'average_rating': 4.4, 'votes': 329}, 'id': 427}\n",
      "{'city': 'Seattle', 'name': 'Baar Union', 'estimated_cost': 850, 'user_rating': {'average_rating': 4.7, 'votes': 558}, 'id': 428}\n",
      "{'city': 'Seattle', 'name': 'La Carta de Oaxaca', 'estimated_cost': 240, 'user_rating': {'average_rating': 4.7, 'votes': 6829}, 'id': 429}\n",
      "{'city': 'Seattle', 'name': 'XOOX Brewmill', 'estimated_cost': 200, 'user_rating': {'average_rating': 4.4, 'votes': 1483}, 'id': 430}\n",
      "{'city': 'Seattle', 'name': 'The Globe Grub', 'estimated_cost': 130, 'user_rating': {'average_rating': 4.8, 'votes': 3790}, 'id': 431}\n",
      "{'city': 'Seattle', 'name': 'The Bier Library', 'estimated_cost': 200, 'user_rating': {'average_rating': 4.3, 'votes': 476}, 'id': 432}\n",
      "{'city': 'Seattle', 'name': 'Vapour Brewpub and Diner', 'estimated_cost': 140, 'user_rating': {'average_rating': 4.6, 'votes': 2703}, 'id': 433}\n",
      "{'city': 'Seattle', 'name': \"AB's - Absolute Barbecues\", 'estimated_cost': 160, 'user_rating': {'average_rating': 4.9, 'votes': 6309}, 'id': 434}\n",
      "{'city': 'Seattle', 'name': 'Off The Rez Cafe', 'estimated_cost': 140, 'user_rating': {'average_rating': 4.4, 'votes': 2960}, 'id': 435}\n",
      "{'city': 'Seattle', 'name': 'Jetlag', 'estimated_cost': 1650, 'user_rating': {'average_rating': 4.1, 'votes': 704}, 'id': 436}\n",
      "{'city': 'Seattle', 'name': 'Barbeque Nation', 'estimated_cost': 160, 'user_rating': {'average_rating': 4.7, 'votes': 7148}, 'id': 437}\n",
      "{'city': 'Seattle', 'name': 'The Boozy Griffin', 'estimated_cost': 180, 'user_rating': {'average_rating': 4.8, 'votes': 4459}, 'id': 438}\n",
      "{'city': 'Seattle', 'name': 'The Reservoire', 'estimated_cost': 130, 'user_rating': {'average_rating': 4.5, 'votes': 2495}, 'id': 439}\n",
      "{'city': 'Seattle', 'name': 'The Big Barbeque', 'estimated_cost': 150, 'user_rating': {'average_rating': 4.5, 'votes': 455}, 'id': 440}\n"
     ]
    }
   ],
   "source": [
    "for i, datum in enumerate(iter_outlet(\"seattle\")):\n",
    "    print(datum)\n",
    "    # if i == 5:\n",
    "    #     break    "
   ]
  },
  {
   "cell_type": "code",
   "execution_count": 53,
   "id": "0a31a4bb-4e55-431e-8d66-57586d31b01a",
   "metadata": {},
   "outputs": [],
   "source": [
    "import operator\n",
    "from pprint import pp\n",
    "\n",
    "import requests\n",
    "\n",
    "\n",
    "def iter_page(\n",
    "    url_template: str,\n",
    "    get_total,\n",
    "    get_data,\n",
    "):\n",
    "    page = 1\n",
    "    total = 1\n",
    "    while page <= total:\n",
    "        resp = requests.get(url)\n",
    "        payload = resp.json()\n",
    "        total = get_total(payload)\n",
    "        yield from get_data(payload)\n",
    "        page += 1"
   ]
  },
  {
   "cell_type": "code",
   "execution_count": 54,
   "id": "1f8b7424-c7fb-43e6-82c7-f039bc7d3525",
   "metadata": {},
   "outputs": [
    {
     "name": "stdout",
     "output_type": "stream",
     "text": [
      "=== 0 ===\n",
      "{'city': 'Seattle',\n",
      " 'name': 'Cafe Juanita',\n",
      " 'estimated_cost': 160,\n",
      " 'user_rating': {'average_rating': 4.9, 'votes': 16203},\n",
      " 'id': 41}\n",
      "=== 1 ===\n",
      "{'city': 'Seattle',\n",
      " 'name': 'Cafe Munir',\n",
      " 'estimated_cost': 160,\n",
      " 'user_rating': {'average_rating': 4.9, 'votes': 4699},\n",
      " 'id': 42}\n",
      "=== 2 ===\n",
      "{'city': 'Seattle',\n",
      " 'name': 'Flechazo',\n",
      " 'estimated_cost': 140,\n",
      " 'user_rating': {'average_rating': 4.8, 'votes': 2663},\n",
      " 'id': 43}\n",
      "=== 3 ===\n",
      "{'city': 'Seattle',\n",
      " 'name': 'Vanilla Sky',\n",
      " 'estimated_cost': 120,\n",
      " 'user_rating': {'average_rating': 4.6, 'votes': 645},\n",
      " 'id': 44}\n",
      "=== 4 ===\n",
      "{'city': 'Seattle',\n",
      " 'name': 'The Shambles',\n",
      " 'estimated_cost': 110,\n",
      " 'user_rating': {'average_rating': 4.4, 'votes': 2116},\n",
      " 'id': 45}\n"
     ]
    }
   ],
   "source": [
    "pages = iter_page(\n",
    "    url_template=\"thttps://jsonmock.hackerrank.com/api/food_outlets?city=seattle&page={page}\",\n",
    "    get_total=operator.itemgetter('total_pages'),\n",
    "    get_data=operator.itemgetter('data'),\n",
    ")\n",
    "for i, datum in zip(range(5), pages):\n",
    "    print(f\"=== {i} ===\")\n",
    "    pp(datum)"
   ]
  },
  {
   "cell_type": "code",
   "execution_count": 45,
   "id": "72e24a1e-8875-4c57-97fc-6c91c45bd0f2",
   "metadata": {},
   "outputs": [
    {
     "data": {
      "text/plain": [
       "'Page: {page}'"
      ]
     },
     "execution_count": 45,
     "metadata": {},
     "output_type": "execute_result"
    }
   ],
   "source": [
    "template = \"Page: {page}\"\n",
    "template"
   ]
  },
  {
   "cell_type": "code",
   "execution_count": 46,
   "id": "4fc586d7-2d30-4a2f-a344-82fa871b93e5",
   "metadata": {},
   "outputs": [
    {
     "data": {
      "text/plain": [
       "'Page: 15'"
      ]
     },
     "execution_count": 46,
     "metadata": {},
     "output_type": "execute_result"
    }
   ],
   "source": [
    "template.format(page=15)"
   ]
  },
  {
   "cell_type": "code",
   "execution_count": null,
   "id": "e2174d5c-4af4-4c04-bc27-eae8cb428076",
   "metadata": {},
   "outputs": [],
   "source": []
  }
 ],
 "metadata": {
  "kernelspec": {
   "display_name": "Python 3 (ipykernel)",
   "language": "python",
   "name": "python3"
  },
  "language_info": {
   "codemirror_mode": {
    "name": "ipython",
    "version": 3
   },
   "file_extension": ".py",
   "mimetype": "text/x-python",
   "name": "python",
   "nbconvert_exporter": "python",
   "pygments_lexer": "ipython3",
   "version": "3.13.2"
  }
 },
 "nbformat": 4,
 "nbformat_minor": 5
}
