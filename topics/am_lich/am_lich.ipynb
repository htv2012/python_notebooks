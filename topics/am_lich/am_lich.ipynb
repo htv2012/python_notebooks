{
 "cells": [
  {
   "cell_type": "markdown",
   "id": "f0be2b0e-1dfe-4110-9086-855a92f6f1c9",
   "metadata": {},
   "source": [
    "# Lịch tây, lịch ta"
   ]
  },
  {
   "cell_type": "code",
   "execution_count": 1,
   "id": "68ca333f-a8b0-451b-b0c3-b9cd29f3201d",
   "metadata": {},
   "outputs": [],
   "source": [
    "import itertools"
   ]
  },
  {
   "cell_type": "code",
   "execution_count": 2,
   "id": "d4414146-26ff-41bf-92d4-4a6b285463e3",
   "metadata": {},
   "outputs": [
    {
     "data": {
      "text/plain": [
       "['Giáp', 'Ất', 'Bính', 'Đinh', 'Mậu', 'Kỷ', 'Canh', 'Tân', 'Nhâm', 'Quý']"
      ]
     },
     "execution_count": 2,
     "metadata": {},
     "output_type": "execute_result"
    }
   ],
   "source": [
    "can = \"Giáp Ất Bính Đinh Mậu Kỷ Canh Tân Nhâm Quý\".split()\n",
    "can"
   ]
  },
  {
   "cell_type": "code",
   "execution_count": 3,
   "id": "aa0b9eb1-8208-479c-8276-3d9a93d84d95",
   "metadata": {},
   "outputs": [
    {
     "data": {
      "text/plain": [
       "['Tý',\n",
       " 'Sửu',\n",
       " 'Dần',\n",
       " 'Mão',\n",
       " 'Thìn',\n",
       " 'Tỵ',\n",
       " 'Ngọ',\n",
       " 'Mùi',\n",
       " 'Thân',\n",
       " 'Dậu',\n",
       " 'Tuất',\n",
       " 'Hợi']"
      ]
     },
     "execution_count": 3,
     "metadata": {},
     "output_type": "execute_result"
    }
   ],
   "source": [
    "chi = \"Tý Sửu Dần Mão Thìn Tỵ Ngọ Mùi Thân Dậu Tuất Hợi\".split()\n",
    "chi"
   ]
  },
  {
   "cell_type": "code",
   "execution_count": 4,
   "id": "087243a2-d8f6-446b-bc43-b4f20a20f087",
   "metadata": {},
   "outputs": [
    {
     "data": {
      "text/plain": [
       "2697"
      ]
     },
     "execution_count": 4,
     "metadata": {},
     "output_type": "execute_result"
    }
   ],
   "source": [
    "# At ty\n",
    "(4722 - 2025)"
   ]
  },
  {
   "cell_type": "code",
   "execution_count": 5,
   "id": "5c75ee41-be27-4634-9a72-a5d8285dae29",
   "metadata": {},
   "outputs": [
    {
     "data": {
      "text/plain": [
       "['Giáp Tý',\n",
       " 'Ất Sửu',\n",
       " 'Bính Dần',\n",
       " 'Đinh Mão',\n",
       " 'Mậu Thìn',\n",
       " 'Kỷ Tỵ',\n",
       " 'Canh Ngọ',\n",
       " 'Tân Mùi',\n",
       " 'Nhâm Thân',\n",
       " 'Quý Dậu',\n",
       " 'Giáp Tuất',\n",
       " 'Ất Hợi',\n",
       " 'Bính Tý',\n",
       " 'Đinh Sửu',\n",
       " 'Mậu Dần',\n",
       " 'Kỷ Mão',\n",
       " 'Canh Thìn',\n",
       " 'Tân Tỵ',\n",
       " 'Nhâm Ngọ',\n",
       " 'Quý Mùi',\n",
       " 'Giáp Thân',\n",
       " 'Ất Dậu',\n",
       " 'Bính Tuất',\n",
       " 'Đinh Hợi',\n",
       " 'Mậu Tý',\n",
       " 'Kỷ Sửu',\n",
       " 'Canh Dần',\n",
       " 'Tân Mão',\n",
       " 'Nhâm Thìn',\n",
       " 'Quý Tỵ',\n",
       " 'Giáp Ngọ',\n",
       " 'Ất Mùi',\n",
       " 'Bính Thân',\n",
       " 'Đinh Dậu',\n",
       " 'Mậu Tuất',\n",
       " 'Kỷ Hợi',\n",
       " 'Canh Tý',\n",
       " 'Tân Sửu',\n",
       " 'Nhâm Dần',\n",
       " 'Quý Mão',\n",
       " 'Giáp Thìn',\n",
       " 'Ất Tỵ',\n",
       " 'Bính Ngọ',\n",
       " 'Đinh Mùi',\n",
       " 'Mậu Thân',\n",
       " 'Kỷ Dậu',\n",
       " 'Canh Tuất',\n",
       " 'Tân Hợi',\n",
       " 'Nhâm Tý',\n",
       " 'Quý Sửu',\n",
       " 'Giáp Dần',\n",
       " 'Ất Mão',\n",
       " 'Bính Thìn',\n",
       " 'Đinh Tỵ',\n",
       " 'Mậu Ngọ',\n",
       " 'Kỷ Mùi',\n",
       " 'Canh Thân',\n",
       " 'Tân Dậu',\n",
       " 'Nhâm Tuất',\n",
       " 'Quý Hợi']"
      ]
     },
     "execution_count": 5,
     "metadata": {},
     "output_type": "execute_result"
    }
   ],
   "source": [
    "a = itertools.cycle(can)\n",
    "b = itertools.cycle(chi)\n",
    "y = [f\"{next(a)} {next(b)}\" for _ in range(60)]\n",
    "y"
   ]
  },
  {
   "cell_type": "code",
   "execution_count": 6,
   "id": "ceb15900-be7e-4901-90e6-22858cbd5a1b",
   "metadata": {},
   "outputs": [
    {
     "data": {
      "text/plain": [
       "False"
      ]
     },
     "execution_count": 6,
     "metadata": {},
     "output_type": "execute_result"
    }
   ],
   "source": [
    "y[:60] == y[60:]"
   ]
  },
  {
   "cell_type": "code",
   "execution_count": null,
   "id": "9824d123-d061-4eaa-8c89-566259f0cdde",
   "metadata": {},
   "outputs": [],
   "source": []
  }
 ],
 "metadata": {
  "kernelspec": {
   "display_name": "Python 3 (ipykernel)",
   "language": "python",
   "name": "python3"
  },
  "language_info": {
   "codemirror_mode": {
    "name": "ipython",
    "version": 3
   },
   "file_extension": ".py",
   "mimetype": "text/x-python",
   "name": "python",
   "nbconvert_exporter": "python",
   "pygments_lexer": "ipython3",
   "version": "3.13.1"
  }
 },
 "nbformat": 4,
 "nbformat_minor": 5
}
