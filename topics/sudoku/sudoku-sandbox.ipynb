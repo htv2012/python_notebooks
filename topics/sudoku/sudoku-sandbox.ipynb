{
 "cells": [
  {
   "cell_type": "markdown",
   "id": "8e6b5c99-ece4-4d25-988e-b600ebc16862",
   "metadata": {},
   "source": [
    "# Sudoku Class"
   ]
  },
  {
   "cell_type": "code",
   "execution_count": 26,
   "id": "f0e8dcf2-98d0-4c62-aa6d-b1e5dc30b5b3",
   "metadata": {},
   "outputs": [],
   "source": [
    "# Store as dict where (row, col) are keys\n",
    "\n",
    "import collections\n",
    "import io\n",
    "import pathlib\n",
    "import itertools"
   ]
  },
  {
   "cell_type": "code",
   "execution_count": 38,
   "id": "fa0056c6-9f1c-4032-bca8-124b47d31a68",
   "metadata": {},
   "outputs": [],
   "source": [
    "EMPTY = '∙'\n",
    "EMPTY = '.'\n",
    "EMPTY = \"·\"\n",
    "\n",
    "class Sudoku:\n",
    "    def __init__(self):\n",
    "        self.board = collections.defaultdict(lambda: EMPTY)\n",
    "        \n",
    "    def __str__(self):\n",
    "        buf = io.StringIO()\n",
    "        buf.write(\"┌───────┬───────┬───────┐\\n\")\n",
    "        for row in range(9):\n",
    "            buf.write(\"│\")\n",
    "            for col in range(9):\n",
    "                buf.write(f\" {self.board[row, col]}\")\n",
    "                if col == 2 or col == 5 or col == 8:\n",
    "                    buf.write(\" │\")\n",
    "            buf.write(\"\\n\")\n",
    "            if row == 2 or row == 5:\n",
    "                buf.write(\"│───────┼───────┼───────│\\n\")\n",
    "        buf.write(\"└───────┴───────┴───────┘\")\n",
    "        return buf.getvalue()\n",
    "\n",
    "    @classmethod\n",
    "    def from_grid(cls, grid):\n",
    "        me = cls()\n",
    "        for row_number, column in enumerate(grid):\n",
    "            for col_number, cell in enumerate(column):\n",
    "                me.board[row_number, col_number] = cell\n",
    "        return me"
   ]
  },
  {
   "cell_type": "code",
   "execution_count": 40,
   "id": "bc011fc7-a75b-4735-a95f-d8c0284be1ba",
   "metadata": {},
   "outputs": [],
   "source": [
    "def load(path: str | pathlib.Path):\n",
    "    path = pathlib.Path(path)\n",
    "    assert path.exists()\n",
    "\n",
    "    if path.suffix == '.ss':\n",
    "        return load_ss(path)\n",
    "\n",
    "def load_ss(path: str|pathlib.Path):\n",
    "    path = pathlib.Path(path)\n",
    "    assert path.exists()\n",
    "\n",
    "    lines = []\n",
    "    with open(path) as stream:\n",
    "        for line in stream:\n",
    "            line = line.strip().replace(\"|\", \"\")\n",
    "            if not line:\n",
    "                continue\n",
    "            if \"-\" in line:\n",
    "                continue\n",
    "            if line.startswith('#'):\n",
    "                continue\n",
    "            lines.append([EMPTY if cell == \".\" else cell for cell in line.split()])\n",
    "            \n",
    "    return Sudoku.from_grid(lines)"
   ]
  },
  {
   "cell_type": "code",
   "execution_count": 41,
   "id": "01d56fb5-b648-4498-95ed-5a4bf507c66e",
   "metadata": {},
   "outputs": [
    {
     "name": "stdout",
     "output_type": "stream",
     "text": [
      "┌───────┬───────┬───────┐\n",
      "│ · 3 · │ 4 · · │ · · · │\n",
      "│ 9 · 2 │ 8 · 6 │ 3 · 1 │\n",
      "│ · · · │ · · · │ · 2 · │\n",
      "│───────┼───────┼───────│\n",
      "│ 8 · · │ · 6 · │ 7 · · │\n",
      "│ · 6 · │ 2 · 5 │ · 9 · │\n",
      "│ · · 3 │ · 4 · │ · · 8 │\n",
      "│───────┼───────┼───────│\n",
      "│ · 7 · │ · · · │ · · · │\n",
      "│ 4 · 8 │ 9 · 2 │ 5 · 6 │\n",
      "│ · · · │ · · 8 │ · 3 · │\n",
      "└───────┴───────┴───────┘\n"
     ]
    }
   ],
   "source": [
    "s = load('puzzle1.ss')\n",
    "print(s)"
   ]
  },
  {
   "cell_type": "code",
   "execution_count": 2,
   "id": "37d66cf3-84ac-4fa4-bbfd-43cb33bbc31d",
   "metadata": {},
   "outputs": [
    {
     "data": {
      "text/plain": [
       "81"
      ]
     },
     "execution_count": 2,
     "metadata": {},
     "output_type": "execute_result"
    }
   ],
   "source": [
    "def cross(A, B):\n",
    "    \"Cross product of elements in A and elements in B.\"\n",
    "    return [a+b for a in A for b in B]\n",
    "\n",
    "digits   = '123456789'\n",
    "rows     = 'ABCDEFGHI'\n",
    "cols     = digits\n",
    "squares  = cross(rows, cols)\n",
    "len(squares)"
   ]
  },
  {
   "cell_type": "code",
   "execution_count": 3,
   "id": "f2576bd7-5d68-430c-8351-bd88b92532ea",
   "metadata": {},
   "outputs": [],
   "source": [
    "unitlist = ([cross(rows, c) for c in cols] +\n",
    "            [cross(r, cols) for r in rows] +\n",
    "            [cross(rs, cs) for rs in ('ABC','DEF','GHI') for cs in ('123','456','789')])"
   ]
  },
  {
   "cell_type": "code",
   "execution_count": 4,
   "id": "821501f5-a87c-4473-8242-c2cca77b77a6",
   "metadata": {},
   "outputs": [
    {
     "data": {
      "text/plain": [
       "[['A1', 'B1', 'C1', 'D1', 'E1', 'F1', 'G1', 'H1', 'I1'],\n",
       " ['A2', 'B2', 'C2', 'D2', 'E2', 'F2', 'G2', 'H2', 'I2'],\n",
       " ['A3', 'B3', 'C3', 'D3', 'E3', 'F3', 'G3', 'H3', 'I3'],\n",
       " ['A4', 'B4', 'C4', 'D4', 'E4', 'F4', 'G4', 'H4', 'I4'],\n",
       " ['A5', 'B5', 'C5', 'D5', 'E5', 'F5', 'G5', 'H5', 'I5'],\n",
       " ['A6', 'B6', 'C6', 'D6', 'E6', 'F6', 'G6', 'H6', 'I6'],\n",
       " ['A7', 'B7', 'C7', 'D7', 'E7', 'F7', 'G7', 'H7', 'I7'],\n",
       " ['A8', 'B8', 'C8', 'D8', 'E8', 'F8', 'G8', 'H8', 'I8'],\n",
       " ['A9', 'B9', 'C9', 'D9', 'E9', 'F9', 'G9', 'H9', 'I9'],\n",
       " ['A1', 'A2', 'A3', 'A4', 'A5', 'A6', 'A7', 'A8', 'A9'],\n",
       " ['B1', 'B2', 'B3', 'B4', 'B5', 'B6', 'B7', 'B8', 'B9'],\n",
       " ['C1', 'C2', 'C3', 'C4', 'C5', 'C6', 'C7', 'C8', 'C9'],\n",
       " ['D1', 'D2', 'D3', 'D4', 'D5', 'D6', 'D7', 'D8', 'D9'],\n",
       " ['E1', 'E2', 'E3', 'E4', 'E5', 'E6', 'E7', 'E8', 'E9'],\n",
       " ['F1', 'F2', 'F3', 'F4', 'F5', 'F6', 'F7', 'F8', 'F9'],\n",
       " ['G1', 'G2', 'G3', 'G4', 'G5', 'G6', 'G7', 'G8', 'G9'],\n",
       " ['H1', 'H2', 'H3', 'H4', 'H5', 'H6', 'H7', 'H8', 'H9'],\n",
       " ['I1', 'I2', 'I3', 'I4', 'I5', 'I6', 'I7', 'I8', 'I9'],\n",
       " ['A1', 'A2', 'A3', 'B1', 'B2', 'B3', 'C1', 'C2', 'C3'],\n",
       " ['A4', 'A5', 'A6', 'B4', 'B5', 'B6', 'C4', 'C5', 'C6'],\n",
       " ['A7', 'A8', 'A9', 'B7', 'B8', 'B9', 'C7', 'C8', 'C9'],\n",
       " ['D1', 'D2', 'D3', 'E1', 'E2', 'E3', 'F1', 'F2', 'F3'],\n",
       " ['D4', 'D5', 'D6', 'E4', 'E5', 'E6', 'F4', 'F5', 'F6'],\n",
       " ['D7', 'D8', 'D9', 'E7', 'E8', 'E9', 'F7', 'F8', 'F9'],\n",
       " ['G1', 'G2', 'G3', 'H1', 'H2', 'H3', 'I1', 'I2', 'I3'],\n",
       " ['G4', 'G5', 'G6', 'H4', 'H5', 'H6', 'I4', 'I5', 'I6'],\n",
       " ['G7', 'G8', 'G9', 'H7', 'H8', 'H9', 'I7', 'I8', 'I9']]"
      ]
     },
     "execution_count": 4,
     "metadata": {},
     "output_type": "execute_result"
    }
   ],
   "source": [
    "unitlist"
   ]
  },
  {
   "cell_type": "code",
   "execution_count": null,
   "id": "10e6e621-d588-42d5-9096-5f7a5540034a",
   "metadata": {},
   "outputs": [],
   "source": []
  }
 ],
 "metadata": {
  "kernelspec": {
   "display_name": "Python 3 (ipykernel)",
   "language": "python",
   "name": "python3"
  },
  "language_info": {
   "codemirror_mode": {
    "name": "ipython",
    "version": 3
   },
   "file_extension": ".py",
   "mimetype": "text/x-python",
   "name": "python",
   "nbconvert_exporter": "python",
   "pygments_lexer": "ipython3",
   "version": "3.13.2"
  }
 },
 "nbformat": 4,
 "nbformat_minor": 5
}
