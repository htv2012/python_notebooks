{
 "cells": [
  {
   "cell_type": "markdown",
   "id": "8e6b5c99-ece4-4d25-988e-b600ebc16862",
   "metadata": {},
   "source": [
    "# Sudoku Class"
   ]
  },
  {
   "cell_type": "code",
   "execution_count": 26,
   "id": "f0e8dcf2-98d0-4c62-aa6d-b1e5dc30b5b3",
   "metadata": {},
   "outputs": [],
   "source": [
    "# Store as dict where (row, col) are keys\n",
    "\n",
    "import collections\n",
    "import io\n",
    "import pathlib\n",
    "import itertools"
   ]
  },
  {
   "cell_type": "code",
   "execution_count": 38,
   "id": "fa0056c6-9f1c-4032-bca8-124b47d31a68",
   "metadata": {},
   "outputs": [],
   "source": [
    "EMPTY = '∙'\n",
    "EMPTY = '.'\n",
    "EMPTY = \"·\"\n",
    "\n",
    "class Sudoku:\n",
    "    def __init__(self):\n",
    "        self.board = collections.defaultdict(lambda: EMPTY)\n",
    "        \n",
    "    def __str__(self):\n",
    "        buf = io.StringIO()\n",
    "        buf.write(\"┌───────┬───────┬───────┐\\n\")\n",
    "        for row in range(9):\n",
    "            buf.write(\"│\")\n",
    "            for col in range(9):\n",
    "                buf.write(f\" {self.board[row, col]}\")\n",
    "                if col == 2 or col == 5 or col == 8:\n",
    "                    buf.write(\" │\")\n",
    "            buf.write(\"\\n\")\n",
    "            if row == 2 or row == 5:\n",
    "                buf.write(\"│───────┼───────┼───────│\\n\")\n",
    "        buf.write(\"└───────┴───────┴───────┘\")\n",
    "        return buf.getvalue()\n",
    "\n",
    "    @classmethod\n",
    "    def from_grid(cls, grid):\n",
    "        me = cls()\n",
    "        for row_number, column in enumerate(grid):\n",
    "            for col_number, cell in enumerate(column):\n",
    "                me.board[row_number, col_number] = cell\n",
    "        return me"
   ]
  },
  {
   "cell_type": "code",
   "execution_count": 40,
   "id": "bc011fc7-a75b-4735-a95f-d8c0284be1ba",
   "metadata": {},
   "outputs": [],
   "source": [
    "def load(path: str | pathlib.Path):\n",
    "    path = pathlib.Path(path)\n",
    "    assert path.exists()\n",
    "\n",
    "    if path.suffix == '.ss':\n",
    "        return load_ss(path)\n",
    "\n",
    "def load_ss(path: str|pathlib.Path):\n",
    "    path = pathlib.Path(path)\n",
    "    assert path.exists()\n",
    "\n",
    "    lines = []\n",
    "    with open(path) as stream:\n",
    "        for line in stream:\n",
    "            line = line.strip().replace(\"|\", \"\")\n",
    "            if not line:\n",
    "                continue\n",
    "            if \"-\" in line:\n",
    "                continue\n",
    "            if line.startswith('#'):\n",
    "                continue\n",
    "            lines.append([EMPTY if cell == \".\" else cell for cell in line.split()])\n",
    "            \n",
    "    return Sudoku.from_grid(lines)"
   ]
  },
  {
   "cell_type": "code",
   "execution_count": 41,
   "id": "01d56fb5-b648-4498-95ed-5a4bf507c66e",
   "metadata": {},
   "outputs": [
    {
     "name": "stdout",
     "output_type": "stream",
     "text": [
      "┌───────┬───────┬───────┐\n",
      "│ · 3 · │ 4 · · │ · · · │\n",
      "│ 9 · 2 │ 8 · 6 │ 3 · 1 │\n",
      "│ · · · │ · · · │ · 2 · │\n",
      "│───────┼───────┼───────│\n",
      "│ 8 · · │ · 6 · │ 7 · · │\n",
      "│ · 6 · │ 2 · 5 │ · 9 · │\n",
      "│ · · 3 │ · 4 · │ · · 8 │\n",
      "│───────┼───────┼───────│\n",
      "│ · 7 · │ · · · │ · · · │\n",
      "│ 4 · 8 │ 9 · 2 │ 5 · 6 │\n",
      "│ · · · │ · · 8 │ · 3 · │\n",
      "└───────┴───────┴───────┘\n"
     ]
    }
   ],
   "source": [
    "s = load('puzzle1.ss')\n",
    "print(s)"
   ]
  },
  {
   "cell_type": "code",
   "execution_count": null,
   "id": "37d66cf3-84ac-4fa4-bbfd-43cb33bbc31d",
   "metadata": {},
   "outputs": [],
   "source": []
  }
 ],
 "metadata": {
  "kernelspec": {
   "display_name": "Python 3 (ipykernel)",
   "language": "python",
   "name": "python3"
  },
  "language_info": {
   "codemirror_mode": {
    "name": "ipython",
    "version": 3
   },
   "file_extension": ".py",
   "mimetype": "text/x-python",
   "name": "python",
   "nbconvert_exporter": "python",
   "pygments_lexer": "ipython3",
   "version": "3.13.2"
  }
 },
 "nbformat": 4,
 "nbformat_minor": 5
}
