{
 "cells": [
  {
   "cell_type": "markdown",
   "metadata": {},
   "source": [
    "# Parse nginx.conf"
   ]
  },
  {
   "cell_type": "code",
   "execution_count": 1,
   "metadata": {},
   "outputs": [],
   "source": [
    "import shlex"
   ]
  },
  {
   "cell_type": "code",
   "execution_count": 11,
   "metadata": {},
   "outputs": [
    {
     "name": "stdout",
     "output_type": "stream",
     "text": [
      "user       www www;  ## Default: nobody\n",
      "['user', 'www', 'www']\n",
      "\n",
      "worker_processes  5;  ## Default: 1\n",
      "['worker_processes', '5']\n",
      "\n",
      "error_log  logs/error.log;\n",
      "['error_log', 'logs/error.log']\n",
      "\n",
      "pid        logs/nginx.pid;\n",
      "['pid', 'logs/nginx.pid']\n",
      "\n",
      "worker_rlimit_nofile 8192;\n",
      "['worker_rlimit_nofile', '8192']\n",
      "\n",
      "\n",
      "events {\n",
      "['events', '{']\n",
      "\n",
      "  worker_connections  4096;  ## Default: 1024\n",
      "['worker_connections', '4096']\n",
      "\n",
      "}\n",
      "['}']\n",
      "\n",
      "\n",
      "http {\n",
      "['http', '{']\n",
      "\n",
      "  include    conf/mime.types;\n",
      "['include', 'conf/mime.types']\n",
      "\n",
      "  include    /etc/nginx/proxy.conf;\n",
      "['include', '/etc/nginx/proxy.conf']\n",
      "\n",
      "  include    /etc/nginx/fastcgi.conf;\n",
      "['include', '/etc/nginx/fastcgi.conf']\n",
      "\n",
      "  index    index.html index.htm index.php;\n",
      "['index', 'index.html', 'index.htm', 'index.php']\n",
      "\n",
      "\n",
      "  default_type application/octet-stream;\n",
      "['default_type', 'application/octet-stream']\n",
      "\n",
      "  log_format   main '$remote_addr - $remote_user [$time_local]  $status '\n",
      "['log_format', 'main', '$remote_addr - $remote_user [$time_local]  $status ']\n",
      "\n",
      "    '\"$request\" $body_bytes_sent \"$http_referer\" '\n",
      "['\"$request\" $body_bytes_sent \"$http_referer\" ']\n",
      "\n",
      "    '\"$http_user_agent\" \"$http_x_forwarded_for\"';\n",
      "['\"$http_user_agent\" \"$http_x_forwarded_for\"']\n",
      "\n",
      "  access_log   logs/access.log  main;\n",
      "['access_log', 'logs/access.log', 'main']\n",
      "\n",
      "  sendfile     on;\n",
      "['sendfile', 'on']\n",
      "\n",
      "  tcp_nopush   on;\n",
      "['tcp_nopush', 'on']\n",
      "\n",
      "  server_names_hash_bucket_size 128; # this seems to be required for some vhosts\n",
      "['server_names_hash_bucket_size', '128']\n",
      "\n",
      "\n",
      "  server { # php/fastcgi\n",
      "['server', '{']\n",
      "\n",
      "    listen       80;\n",
      "['listen', '80']\n",
      "\n",
      "    server_name  domain1.com www.domain1.com;\n",
      "['server_name', 'domain1.com', 'www.domain1.com']\n",
      "\n",
      "    access_log   logs/domain1.access.log  main;\n",
      "['access_log', 'logs/domain1.access.log', 'main']\n",
      "\n",
      "    root         html;\n",
      "['root', 'html']\n",
      "\n",
      "\n",
      "    location ~ \\.php$ {\n",
      "['location', '~', '.php$', '{']\n",
      "\n",
      "      fastcgi_pass   127.0.0.1:1025;\n",
      "['fastcgi_pass', '127.0.0.1:1025']\n",
      "\n",
      "    }\n",
      "['}']\n",
      "\n",
      "  }\n",
      "['}']\n",
      "\n",
      "\n",
      "  server { # simple reverse-proxy\n",
      "['server', '{']\n",
      "\n",
      "    listen       80;\n",
      "['listen', '80']\n",
      "\n",
      "    server_name  domain2.com www.domain2.com;\n",
      "['server_name', 'domain2.com', 'www.domain2.com']\n",
      "\n",
      "    access_log   logs/domain2.access.log  main;\n",
      "['access_log', 'logs/domain2.access.log', 'main']\n",
      "\n",
      "\n",
      "    # serve static files\n",
      "    location ~ ^/(images|javascript|js|css|flash|media|static)/  {\n",
      "['location', '~', '^/(images|javascript|js|css|flash|media|static)/', '{']\n",
      "\n",
      "      root    /var/www/virtual/big.server.com/htdocs;\n",
      "['root', '/var/www/virtual/big.server.com/htdocs']\n",
      "\n",
      "      expires 30d;\n",
      "['expires', '30d']\n",
      "\n",
      "    }\n",
      "['}']\n",
      "\n",
      "\n",
      "    # pass requests for dynamic content to rails/turbogears/zope, et al\n",
      "    location / {\n",
      "['location', '/', '{']\n",
      "\n",
      "      proxy_pass      http://127.0.0.1:8080;\n",
      "['proxy_pass', 'http://127.0.0.1:8080']\n",
      "\n",
      "    }\n",
      "['}']\n",
      "\n",
      "  }\n",
      "['}']\n",
      "\n",
      "\n",
      "  upstream big_server_com {\n",
      "['upstream', 'big_server_com', '{']\n",
      "\n",
      "    server 127.0.0.3:8000 weight=5;\n",
      "['server', '127.0.0.3:8000', 'weight=5']\n",
      "\n",
      "    server 127.0.0.3:8001 weight=5;\n",
      "['server', '127.0.0.3:8001', 'weight=5']\n",
      "\n",
      "    server 192.168.0.1:8000;\n",
      "['server', '192.168.0.1:8000']\n",
      "\n",
      "    server 192.168.0.1:8001;\n",
      "['server', '192.168.0.1:8001']\n",
      "\n",
      "  }\n",
      "['}']\n",
      "\n",
      "\n",
      "  server { # simple load balancing\n",
      "['server', '{']\n",
      "\n",
      "    listen          80;\n",
      "['listen', '80']\n",
      "\n",
      "    server_name     big.server.com;\n",
      "['server_name', 'big.server.com']\n",
      "\n",
      "    access_log      logs/big.server.access.log main;\n",
      "['access_log', 'logs/big.server.access.log', 'main']\n",
      "\n",
      "\n",
      "    location / {\n",
      "['location', '/', '{']\n",
      "\n",
      "      proxy_pass      http://big_server_com;\n",
      "['proxy_pass', 'http://big_server_com']\n",
      "\n",
      "    }\n",
      "['}']\n",
      "\n",
      "  }\n",
      "['}']\n",
      "\n",
      "}\n",
      "['}']\n",
      "\n"
     ]
    }
   ],
   "source": [
    "with open(\"nginx.conf\") as stream:\n",
    "    for line in stream:\n",
    "        print(line.rstrip())\n",
    "        tokens = shlex.split(line, comments=True)\n",
    "        if not tokens:\n",
    "            continue\n",
    "        tokens[-1] = tokens[-1].rstrip(\";\")\n",
    "        print(tokens)\n",
    "        print()"
   ]
  },
  {
   "cell_type": "code",
   "execution_count": 12,
   "metadata": {},
   "outputs": [
    {
     "data": {
      "text/plain": [
       "'foo'"
      ]
     },
     "execution_count": 12,
     "metadata": {},
     "output_type": "execute_result"
    }
   ],
   "source": [
    "\"foo;\".rstrip(\";\")"
   ]
  },
  {
   "cell_type": "code",
   "execution_count": 23,
   "metadata": {},
   "outputs": [],
   "source": [
    "stream = shlex.shlex(infile=\"nginx.conf\")"
   ]
  },
  {
   "cell_type": "code",
   "execution_count": 24,
   "metadata": {},
   "outputs": [
    {
     "name": "stdout",
     "output_type": "stream",
     "text": [
      "\n",
      "\n",
      "\n",
      "\n",
      "\n",
      "\n",
      "\n",
      "\n",
      "\n",
      "\n",
      "\n",
      "\n",
      "\n",
      "\n",
      "\n",
      "\n",
      "\n",
      "\n",
      "\n",
      "\n"
     ]
    }
   ],
   "source": [
    "for _ in range(20):\n",
    "    print(stream.get_token())"
   ]
  },
  {
   "cell_type": "code",
   "execution_count": 15,
   "metadata": {},
   "outputs": [
    {
     "data": {
      "text/plain": [
       "['__class__',\n",
       " '__delattr__',\n",
       " '__dict__',\n",
       " '__dir__',\n",
       " '__doc__',\n",
       " '__eq__',\n",
       " '__format__',\n",
       " '__ge__',\n",
       " '__getattribute__',\n",
       " '__gt__',\n",
       " '__hash__',\n",
       " '__init__',\n",
       " '__init_subclass__',\n",
       " '__iter__',\n",
       " '__le__',\n",
       " '__lt__',\n",
       " '__module__',\n",
       " '__ne__',\n",
       " '__new__',\n",
       " '__next__',\n",
       " '__reduce__',\n",
       " '__reduce_ex__',\n",
       " '__repr__',\n",
       " '__setattr__',\n",
       " '__sizeof__',\n",
       " '__str__',\n",
       " '__subclasshook__',\n",
       " '__weakref__',\n",
       " 'commenters',\n",
       " 'debug',\n",
       " 'eof',\n",
       " 'error_leader',\n",
       " 'escape',\n",
       " 'escapedquotes',\n",
       " 'filestack',\n",
       " 'get_token',\n",
       " 'infile',\n",
       " 'instream',\n",
       " 'lineno',\n",
       " 'pop_source',\n",
       " 'posix',\n",
       " 'punctuation_chars',\n",
       " 'push_source',\n",
       " 'push_token',\n",
       " 'pushback',\n",
       " 'quotes',\n",
       " 'read_token',\n",
       " 'source',\n",
       " 'sourcehook',\n",
       " 'state',\n",
       " 'token',\n",
       " 'whitespace',\n",
       " 'whitespace_split',\n",
       " 'wordchars']"
      ]
     },
     "execution_count": 15,
     "metadata": {},
     "output_type": "execute_result"
    }
   ],
   "source": [
    "dir(stream)"
   ]
  },
  {
   "cell_type": "code",
   "execution_count": 17,
   "metadata": {},
   "outputs": [
    {
     "data": {
      "text/plain": [
       "{'instream': <_io.TextIOWrapper name='<stdin>' mode='r' encoding='UTF-8'>,\n",
       " 'infile': None,\n",
       " 'posix': False,\n",
       " 'eof': '',\n",
       " 'commenters': '#',\n",
       " 'wordchars': 'abcdfeghijklmnopqrstuvwxyzABCDEFGHIJKLMNOPQRSTUVWXYZ0123456789_',\n",
       " 'whitespace': ' \\t\\r\\n',\n",
       " 'whitespace_split': False,\n",
       " 'quotes': '\\'\"',\n",
       " 'escape': '\\\\',\n",
       " 'escapedquotes': '\"',\n",
       " 'state': ' ',\n",
       " 'pushback': deque([]),\n",
       " 'lineno': 1,\n",
       " 'debug': 0,\n",
       " 'token': '',\n",
       " 'filestack': deque([]),\n",
       " 'source': None,\n",
       " 'punctuation_chars': ''}"
      ]
     },
     "execution_count": 17,
     "metadata": {},
     "output_type": "execute_result"
    }
   ],
   "source": [
    "vars(stream)"
   ]
  },
  {
   "cell_type": "code",
   "execution_count": 18,
   "metadata": {},
   "outputs": [
    {
     "data": {
      "text/plain": [
       "[]"
      ]
     },
     "execution_count": 18,
     "metadata": {},
     "output_type": "execute_result"
    }
   ],
   "source": [
    "list(stream)"
   ]
  },
  {
   "cell_type": "code",
   "execution_count": 21,
   "metadata": {},
   "outputs": [
    {
     "data": {
      "text/plain": [
       "''"
      ]
     },
     "execution_count": 21,
     "metadata": {},
     "output_type": "execute_result"
    }
   ],
   "source": [
    "stream.read_token()"
   ]
  },
  {
   "cell_type": "code",
   "execution_count": 22,
   "metadata": {},
   "outputs": [
    {
     "data": {
      "text/plain": [
       "''"
      ]
     },
     "execution_count": 22,
     "metadata": {},
     "output_type": "execute_result"
    }
   ],
   "source": [
    "stream.get_token()"
   ]
  },
  {
   "cell_type": "code",
   "execution_count": 25,
   "metadata": {},
   "outputs": [],
   "source": [
    "import io"
   ]
  },
  {
   "cell_type": "code",
   "execution_count": 26,
   "metadata": {},
   "outputs": [],
   "source": [
    "s = io.StringIO(\"\"\"\n",
    "One \"number two\" 'three 3' four\n",
    "\"\"\")"
   ]
  },
  {
   "cell_type": "code",
   "execution_count": 27,
   "metadata": {},
   "outputs": [],
   "source": [
    "stream = shlex.shlex(s)"
   ]
  },
  {
   "cell_type": "code",
   "execution_count": 28,
   "metadata": {},
   "outputs": [
    {
     "name": "stdout",
     "output_type": "stream",
     "text": [
      "One\n",
      "\"number two\"\n",
      "'three 3'\n",
      "four\n"
     ]
    }
   ],
   "source": [
    "for token in stream:\n",
    "    print(token)"
   ]
  },
  {
   "cell_type": "code",
   "execution_count": 29,
   "metadata": {},
   "outputs": [
    {
     "name": "stdout",
     "output_type": "stream",
     "text": [
      "'user'\n",
      "'www'\n",
      "'www'\n",
      "';'\n",
      "'worker_processes'\n",
      "'5'\n",
      "';'\n",
      "'error_log'\n",
      "'logs'\n",
      "'/'\n",
      "'error'\n",
      "'.'\n",
      "'log'\n",
      "';'\n",
      "'pid'\n",
      "'logs'\n",
      "'/'\n",
      "'nginx'\n",
      "'.'\n",
      "'pid'\n",
      "';'\n",
      "'worker_rlimit_nofile'\n",
      "'8192'\n",
      "';'\n",
      "'events'\n",
      "'{'\n",
      "'worker_connections'\n",
      "'4096'\n",
      "';'\n",
      "'}'\n",
      "'http'\n",
      "'{'\n",
      "'include'\n",
      "'conf'\n",
      "'/'\n",
      "'mime'\n",
      "'.'\n",
      "'types'\n",
      "';'\n",
      "'include'\n",
      "'/'\n",
      "'etc'\n",
      "'/'\n",
      "'nginx'\n",
      "'/'\n",
      "'proxy'\n",
      "'.'\n",
      "'conf'\n",
      "';'\n",
      "'include'\n",
      "'/'\n",
      "'etc'\n",
      "'/'\n",
      "'nginx'\n",
      "'/'\n",
      "'fastcgi'\n",
      "'.'\n",
      "'conf'\n",
      "';'\n",
      "'index'\n",
      "'index'\n",
      "'.'\n",
      "'html'\n",
      "'index'\n",
      "'.'\n",
      "'htm'\n",
      "'index'\n",
      "'.'\n",
      "'php'\n",
      "';'\n",
      "'default_type'\n",
      "'application'\n",
      "'/'\n",
      "'octet'\n",
      "'-'\n",
      "'stream'\n",
      "';'\n",
      "'log_format'\n",
      "'main'\n",
      "\"'$remote_addr - $remote_user [$time_local]  $status '\"\n",
      "'\\'\"$request\" $body_bytes_sent \"$http_referer\" \\''\n",
      "'\\'\"$http_user_agent\" \"$http_x_forwarded_for\"\\''\n",
      "';'\n",
      "'access_log'\n",
      "'logs'\n",
      "'/'\n",
      "'access'\n",
      "'.'\n",
      "'log'\n",
      "'main'\n",
      "';'\n",
      "'sendfile'\n",
      "'on'\n",
      "';'\n",
      "'tcp_nopush'\n",
      "'on'\n",
      "';'\n",
      "'server_names_hash_bucket_size'\n",
      "'128'\n",
      "';'\n",
      "'server'\n",
      "'{'\n",
      "'listen'\n",
      "'80'\n",
      "';'\n",
      "'server_name'\n",
      "'domain1'\n",
      "'.'\n",
      "'com'\n",
      "'www'\n",
      "'.'\n",
      "'domain1'\n",
      "'.'\n",
      "'com'\n",
      "';'\n",
      "'access_log'\n",
      "'logs'\n",
      "'/'\n",
      "'domain1'\n",
      "'.'\n",
      "'access'\n",
      "'.'\n",
      "'log'\n",
      "'main'\n",
      "';'\n",
      "'root'\n",
      "'html'\n",
      "';'\n",
      "'location'\n",
      "'~'\n",
      "'\\\\'\n",
      "'.'\n",
      "'php'\n",
      "'$'\n",
      "'{'\n",
      "'fastcgi_pass'\n",
      "'127'\n",
      "'.'\n",
      "'0'\n",
      "'.'\n",
      "'0'\n",
      "'.'\n",
      "'1'\n",
      "':'\n",
      "'1025'\n",
      "';'\n",
      "'}'\n",
      "'}'\n",
      "'server'\n",
      "'{'\n",
      "'listen'\n",
      "'80'\n",
      "';'\n",
      "'server_name'\n",
      "'domain2'\n",
      "'.'\n",
      "'com'\n",
      "'www'\n",
      "'.'\n",
      "'domain2'\n",
      "'.'\n",
      "'com'\n",
      "';'\n",
      "'access_log'\n",
      "'logs'\n",
      "'/'\n",
      "'domain2'\n",
      "'.'\n",
      "'access'\n",
      "'.'\n",
      "'log'\n",
      "'main'\n",
      "';'\n",
      "'location'\n",
      "'~'\n",
      "'^'\n",
      "'/'\n",
      "'('\n",
      "'images'\n",
      "'|'\n",
      "'javascript'\n",
      "'|'\n",
      "'js'\n",
      "'|'\n",
      "'css'\n",
      "'|'\n",
      "'flash'\n",
      "'|'\n",
      "'media'\n",
      "'|'\n",
      "'static'\n",
      "')'\n",
      "'/'\n",
      "'{'\n",
      "'root'\n",
      "'/'\n",
      "'var'\n",
      "'/'\n",
      "'www'\n",
      "'/'\n",
      "'virtual'\n",
      "'/'\n",
      "'big'\n",
      "'.'\n",
      "'server'\n",
      "'.'\n",
      "'com'\n",
      "'/'\n",
      "'htdocs'\n",
      "';'\n",
      "'expires'\n",
      "'30d'\n",
      "';'\n",
      "'}'\n",
      "'location'\n",
      "'/'\n",
      "'{'\n",
      "'proxy_pass'\n",
      "'http'\n",
      "':'\n",
      "'/'\n",
      "'/'\n",
      "'127'\n",
      "'.'\n",
      "'0'\n",
      "'.'\n",
      "'0'\n",
      "'.'\n",
      "'1'\n",
      "':'\n",
      "'8080'\n",
      "';'\n",
      "'}'\n",
      "'}'\n",
      "'upstream'\n",
      "'big_server_com'\n",
      "'{'\n",
      "'server'\n",
      "'127'\n",
      "'.'\n",
      "'0'\n",
      "'.'\n",
      "'0'\n",
      "'.'\n",
      "'3'\n",
      "':'\n",
      "'8000'\n",
      "'weight'\n",
      "'='\n",
      "'5'\n",
      "';'\n",
      "'server'\n",
      "'127'\n",
      "'.'\n",
      "'0'\n",
      "'.'\n",
      "'0'\n",
      "'.'\n",
      "'3'\n",
      "':'\n",
      "'8001'\n",
      "'weight'\n",
      "'='\n",
      "'5'\n",
      "';'\n",
      "'server'\n",
      "'192'\n",
      "'.'\n",
      "'168'\n",
      "'.'\n",
      "'0'\n",
      "'.'\n",
      "'1'\n",
      "':'\n",
      "'8000'\n",
      "';'\n",
      "'server'\n",
      "'192'\n",
      "'.'\n",
      "'168'\n",
      "'.'\n",
      "'0'\n",
      "'.'\n",
      "'1'\n",
      "':'\n",
      "'8001'\n",
      "';'\n",
      "'}'\n",
      "'server'\n",
      "'{'\n",
      "'listen'\n",
      "'80'\n",
      "';'\n",
      "'server_name'\n",
      "'big'\n",
      "'.'\n",
      "'server'\n",
      "'.'\n",
      "'com'\n",
      "';'\n",
      "'access_log'\n",
      "'logs'\n",
      "'/'\n",
      "'big'\n",
      "'.'\n",
      "'server'\n",
      "'.'\n",
      "'access'\n",
      "'.'\n",
      "'log'\n",
      "'main'\n",
      "';'\n",
      "'location'\n",
      "'/'\n",
      "'{'\n",
      "'proxy_pass'\n",
      "'http'\n",
      "':'\n",
      "'/'\n",
      "'/'\n",
      "'big_server_com'\n",
      "';'\n",
      "'}'\n",
      "'}'\n",
      "'}'\n"
     ]
    }
   ],
   "source": [
    "with open('nginx.conf') as stream:\n",
    "    for token in shlex.shlex(stream):\n",
    "        print(repr(token))"
   ]
  },
  {
   "cell_type": "code",
   "execution_count": 32,
   "metadata": {},
   "outputs": [],
   "source": [
    "stack = [1,2,3]"
   ]
  },
  {
   "cell_type": "code",
   "execution_count": 31,
   "metadata": {},
   "outputs": [
    {
     "data": {
      "text/plain": [
       "3"
      ]
     },
     "execution_count": 31,
     "metadata": {},
     "output_type": "execute_result"
    }
   ],
   "source": [
    "stack.pop()"
   ]
  },
  {
   "cell_type": "code",
   "execution_count": 33,
   "metadata": {},
   "outputs": [
    {
     "data": {
      "text/plain": [
       "3"
      ]
     },
     "execution_count": 33,
     "metadata": {},
     "output_type": "execute_result"
    }
   ],
   "source": [
    "stack.pop(-1)"
   ]
  },
  {
   "cell_type": "code",
   "execution_count": 34,
   "metadata": {},
   "outputs": [],
   "source": [
    "li = [\"hello\", \"my world\"]"
   ]
  },
  {
   "cell_type": "code",
   "execution_count": 35,
   "metadata": {},
   "outputs": [
    {
     "data": {
      "text/plain": [
       "'hello my world'"
      ]
     },
     "execution_count": 35,
     "metadata": {},
     "output_type": "execute_result"
    }
   ],
   "source": [
    "\" \".join(li)"
   ]
  },
  {
   "cell_type": "code",
   "execution_count": 36,
   "metadata": {},
   "outputs": [],
   "source": [
    "li = [\"log\", \"$mydir\", \"~\"]"
   ]
  },
  {
   "cell_type": "code",
   "execution_count": 37,
   "metadata": {},
   "outputs": [],
   "source": [
    "import shlex"
   ]
  },
  {
   "cell_type": "code",
   "execution_count": 38,
   "metadata": {},
   "outputs": [
    {
     "ename": "AttributeError",
     "evalue": "module 'shlex' has no attribute 'join'",
     "output_type": "error",
     "traceback": [
      "\u001b[0;31m---------------------------------------------------------------------------\u001b[0m",
      "\u001b[0;31mAttributeError\u001b[0m                            Traceback (most recent call last)",
      "\u001b[0;32m<ipython-input-38-3ec033fa7dab>\u001b[0m in \u001b[0;36m<module>\u001b[0;34m\u001b[0m\n\u001b[0;32m----> 1\u001b[0;31m \u001b[0mshlex\u001b[0m\u001b[0;34m.\u001b[0m\u001b[0mjoin\u001b[0m\u001b[0;34m(\u001b[0m\u001b[0mli\u001b[0m\u001b[0;34m)\u001b[0m\u001b[0;34m\u001b[0m\u001b[0;34m\u001b[0m\u001b[0m\n\u001b[0m",
      "\u001b[0;31mAttributeError\u001b[0m: module 'shlex' has no attribute 'join'"
     ]
    }
   ],
   "source": [
    "shlex.join(li)"
   ]
  },
  {
   "cell_type": "code",
   "execution_count": 39,
   "metadata": {},
   "outputs": [],
   "source": [
    "import sys"
   ]
  },
  {
   "cell_type": "code",
   "execution_count": 40,
   "metadata": {},
   "outputs": [
    {
     "data": {
      "text/plain": [
       "'3.7.3 (default, Jan 22 2021, 20:04:44) \\n[GCC 8.3.0]'"
      ]
     },
     "execution_count": 40,
     "metadata": {},
     "output_type": "execute_result"
    }
   ],
   "source": [
    "sys.version"
   ]
  },
  {
   "cell_type": "code",
   "execution_count": 41,
   "metadata": {},
   "outputs": [
    {
     "data": {
      "text/plain": [
       "\"log '$mydir' '~'\""
      ]
     },
     "execution_count": 41,
     "metadata": {},
     "output_type": "execute_result"
    }
   ],
   "source": [
    "\" \".join(shlex.quote(t) for t in li)"
   ]
  },
  {
   "cell_type": "code",
   "execution_count": null,
   "metadata": {},
   "outputs": [],
   "source": []
  }
 ],
 "metadata": {
  "kernelspec": {
   "display_name": "Python 3",
   "language": "python",
   "name": "python3"
  },
  "language_info": {
   "codemirror_mode": {
    "name": "ipython",
    "version": 3
   },
   "file_extension": ".py",
   "mimetype": "text/x-python",
   "name": "python",
   "nbconvert_exporter": "python",
   "pygments_lexer": "ipython3",
   "version": "3.7.3"
  }
 },
 "nbformat": 4,
 "nbformat_minor": 4
}
