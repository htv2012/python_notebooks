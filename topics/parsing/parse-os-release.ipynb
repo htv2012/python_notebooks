{
 "cells": [
  {
   "cell_type": "markdown",
   "id": "20b2131b-697e-4fed-9a66-945d968b8ef7",
   "metadata": {},
   "source": [
    "# Parse /etc/os-release using the `csv` library"
   ]
  },
  {
   "cell_type": "code",
   "execution_count": 1,
   "id": "b55a83fb-21bc-4086-9418-66675f2832c9",
   "metadata": {},
   "outputs": [],
   "source": [
    "import csv\n",
    "import pprint"
   ]
  },
  {
   "cell_type": "code",
   "execution_count": 13,
   "id": "535ccb5d-d552-43ec-9769-aaa66f61209a",
   "metadata": {},
   "outputs": [
    {
     "name": "stdout",
     "output_type": "stream",
     "text": [
      "{'BUG_REPORT_URL': 'https://github.com/pop-os/pop/issues',\n",
      " 'HOME_URL': 'https://pop.system76.com',\n",
      " 'ID': 'pop',\n",
      " 'ID_LIKE': 'ubuntu debian',\n",
      " 'LOGO': 'distributor-logo-pop-os',\n",
      " 'NAME': 'Pop!_OS',\n",
      " 'PRETTY_NAME': 'Pop!_OS 22.04 LTS',\n",
      " 'PRIVACY_POLICY_URL': 'https://system76.com/privacy',\n",
      " 'SUPPORT_URL': 'https://support.system76.com',\n",
      " 'UBUNTU_CODENAME': 'jammy',\n",
      " 'VERSION': '22.04 LTS',\n",
      " 'VERSION_CODENAME': 'jammy',\n",
      " 'VERSION_ID': '22.04'}\n"
     ]
    }
   ],
   "source": [
    "with open(\"/etc/os-release\") as stream:\n",
    "    dialect = csv.Sniffer().sniff(stream.read(1024))\n",
    "    stream.seek(0)\n",
    "    parsed = dict(csv.reader(stream, dialect=dialect))\n",
    "pprint.pprint(parsed)"
   ]
  },
  {
   "cell_type": "code",
   "execution_count": null,
   "id": "0cef93cd-8e79-4c1a-bdb9-7d06a19b8dc9",
   "metadata": {},
   "outputs": [],
   "source": []
  }
 ],
 "metadata": {
  "kernelspec": {
   "display_name": "Python 3 (ipykernel)",
   "language": "python",
   "name": "python3"
  },
  "language_info": {
   "codemirror_mode": {
    "name": "ipython",
    "version": 3
   },
   "file_extension": ".py",
   "mimetype": "text/x-python",
   "name": "python",
   "nbconvert_exporter": "python",
   "pygments_lexer": "ipython3",
   "version": "3.10.12"
  }
 },
 "nbformat": 4,
 "nbformat_minor": 5
}
