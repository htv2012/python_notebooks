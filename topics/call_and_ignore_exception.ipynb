{
 "cells": [
  {
   "cell_type": "markdown",
   "metadata": {},
   "source": [
    "# Pattern: Get a Value While Ignoring One or More Exceptions"
   ]
  },
  {
   "cell_type": "markdown",
   "metadata": {},
   "source": [
    "We often see situations like this one. Given a function `get_something()` which we have no permission to modify:"
   ]
  },
  {
   "cell_type": "code",
   "execution_count": 1,
   "metadata": {},
   "outputs": [],
   "source": [
    "def do_something(n):\n",
    "    if n < 10:\n",
    "        raise ValueError(f\"Invalid input: {n}\")\n",
    "    return n * 2"
   ]
  },
  {
   "cell_type": "markdown",
   "metadata": {},
   "source": [
    "The pattern we see is this: call the function, if exception, return a different value:"
   ]
  },
  {
   "cell_type": "code",
   "execution_count": 2,
   "metadata": {},
   "outputs": [
    {
     "name": "stdout",
     "output_type": "stream",
     "text": [
      "Value: 0\n"
     ]
    }
   ],
   "source": [
    "value = 0\n",
    "try:\n",
    "    value = do_something(5)\n",
    "except ValueError:\n",
    "    pass\n",
    "print(f\"Value: {value}\")"
   ]
  },
  {
   "cell_type": "markdown",
   "metadata": {},
   "source": [
    "How about creating some function to deal with this?"
   ]
  },
  {
   "cell_type": "code",
   "execution_count": 4,
   "metadata": {},
   "outputs": [
    {
     "name": "stdout",
     "output_type": "stream",
     "text": [
      "For input 15, value=30\n",
      "For input 5, value='unable to calculate'\n"
     ]
    }
   ],
   "source": [
    "import contextlib\n",
    "\n",
    "\n",
    "def call_except(action, exceptions=Exception, default_return=None):\n",
    "    with contextlib.suppress(exceptions):\n",
    "        return action()\n",
    "    return default_return\n",
    "\n",
    "# Usage:\n",
    "value = call_except(lambda: do_something(15))\n",
    "print(f\"For input 15, value={value}\")\n",
    "\n",
    "value = call_except(lambda: do_something(5), exceptions=ValueError, default_return=\"unable to calculate\")\n",
    "print(f\"For input 5, value={value!r}\")"
   ]
  },
  {
   "cell_type": "markdown",
   "metadata": {},
   "source": [
    "Alternatively"
   ]
  },
  {
   "cell_type": "code",
   "execution_count": 5,
   "metadata": {},
   "outputs": [
    {
     "name": "stdout",
     "output_type": "stream",
     "text": [
      "For input 15, value=30\n",
      "For input 5, value=None\n"
     ]
    }
   ],
   "source": [
    "def call_except2(function, *args, exceptions=Exception, default_return=None, **kwargs):\n",
    "    with contextlib.suppress(exceptions):\n",
    "        return function(*args, **kwargs)\n",
    "    return default_return\n",
    "\n",
    "# Usage:\n",
    "value = call_except2(do_something, 15)\n",
    "print(f\"For input 15, value={value}\")\n",
    "\n",
    "value = call_except2(do_something, 5)\n",
    "print(f\"For input 5, value={value!r}\")"
   ]
  },
  {
   "cell_type": "markdown",
   "metadata": {},
   "source": [
    "## Ignore Using Context Manager\n"
   ]
  },
  {
   "cell_type": "code",
   "execution_count": 7,
   "metadata": {},
   "outputs": [],
   "source": [
    "import contextlib\n",
    "\n",
    "class IgnoreException:\n",
    "    def __init__(self, exceptions, default=None):\n",
    "        if not isinstance(exceptions, tuple):\n",
    "            exceptions = (exceptions,)\n",
    "        self.exceptions = exceptions\n",
    "        self.default = default\n",
    "    \n",
    "    def __enter__(self):\n",
    "        return self\n",
    "    \n",
    "    def __exit__(self, exc_type, exc_value, traceback):\n",
    "        pass\n",
    "    \n",
    "    def call(self, function, *args, **kwargs):\n",
    "        with contextlib.suppress(self.exceptions):\n",
    "            return function(*args, **kwargs)\n",
    "        return self.default"
   ]
  },
  {
   "cell_type": "code",
   "execution_count": 8,
   "metadata": {},
   "outputs": [
    {
     "name": "stdout",
     "output_type": "stream",
     "text": [
      "value='error found'\n"
     ]
    }
   ],
   "source": [
    "with IgnoreException(ValueError, default=\"error found\") as context:\n",
    "    value = context.call(do_something, 5)\n",
    "    print(f\"value={value!r}\")"
   ]
  }
 ],
 "metadata": {
  "kernelspec": {
   "display_name": "Python 3",
   "language": "python",
   "name": "python3"
  },
  "language_info": {
   "codemirror_mode": {
    "name": "ipython",
    "version": 3
   },
   "file_extension": ".py",
   "mimetype": "text/x-python",
   "name": "python",
   "nbconvert_exporter": "python",
   "pygments_lexer": "ipython3",
   "version": "3.7.3"
  }
 },
 "nbformat": 4,
 "nbformat_minor": 4
}
