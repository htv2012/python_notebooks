{
 "cells": [
  {
   "cell_type": "markdown",
   "id": "682ef09f-b4e4-462b-8481-249cb73b98b4",
   "metadata": {},
   "source": [
    "# Increase serial string"
   ]
  },
  {
   "cell_type": "code",
   "execution_count": 9,
   "id": "7c7de9f9-4635-426e-9aed-931926c1044c",
   "metadata": {},
   "outputs": [],
   "source": [
    "import re"
   ]
  },
  {
   "cell_type": "code",
   "execution_count": 2,
   "id": "90c3166b-12da-4175-bb0c-56eb449d0633",
   "metadata": {},
   "outputs": [],
   "source": [
    "s = \"batch edit 131\""
   ]
  },
  {
   "cell_type": "code",
   "execution_count": 5,
   "id": "d952047c-43ef-40bc-9e70-6b0a91b74712",
   "metadata": {},
   "outputs": [
    {
     "data": {
      "text/plain": [
       "['batch edit', '131']"
      ]
     },
     "execution_count": 5,
     "metadata": {},
     "output_type": "execute_result"
    }
   ],
   "source": [
    "s.rsplit(None, 1)"
   ]
  },
  {
   "cell_type": "code",
   "execution_count": 6,
   "id": "549e23f1-5951-41cc-80e4-c891df8524cd",
   "metadata": {},
   "outputs": [
    {
     "data": {
      "text/plain": [
       "['foo']"
      ]
     },
     "execution_count": 6,
     "metadata": {},
     "output_type": "execute_result"
    }
   ],
   "source": [
    "'foo'.rsplit(None, 1)"
   ]
  },
  {
   "cell_type": "code",
   "execution_count": null,
   "id": "38d3bd82-75e6-45b9-9d0e-c6616d29e544",
   "metadata": {},
   "outputs": [],
   "source": [
    "'foo'.partition"
   ]
  },
  {
   "cell_type": "code",
   "execution_count": null,
   "id": "cbdc1268-2b58-4a78-9a54-ff0215e9f22c",
   "metadata": {},
   "outputs": [],
   "source": []
  },
  {
   "cell_type": "code",
   "execution_count": 7,
   "id": "94cac3f1-af59-4a8a-951a-9257ef441e16",
   "metadata": {},
   "outputs": [],
   "source": [
    "def next_element(text: str):\n",
    "    prefix, number = text.rsplit(None, 1)\n",
    "    number = int(number) + 1\n",
    "    return f\"{prefix} {number}\""
   ]
  },
  {
   "cell_type": "code",
   "execution_count": 8,
   "id": "0f3c7f5a-f1e4-40be-a614-d78108e787d0",
   "metadata": {},
   "outputs": [
    {
     "data": {
      "text/plain": [
       "'batch edit 132'"
      ]
     },
     "execution_count": 8,
     "metadata": {},
     "output_type": "execute_result"
    }
   ],
   "source": [
    "next_element(s)"
   ]
  },
  {
   "cell_type": "markdown",
   "id": "b1459fac-a9bf-4902-bd6c-43ac914ae2cf",
   "metadata": {},
   "source": [
    "# Different approach: user-specified pattern"
   ]
  },
  {
   "cell_type": "code",
   "execution_count": 38,
   "id": "4c2bc153-e802-45e2-a6f9-daaf4cbda6e2",
   "metadata": {},
   "outputs": [],
   "source": [
    "def bump(text: str, delta: int = 1, pattern: str = r'\\d+'):\n",
    "    def _replace(match: re.Match):\n",
    "        nonlocal delta\n",
    "        number = int(match[0]) + delta\n",
    "        return str(number)\n",
    "        \n",
    "    return re.sub(pattern, _replace, text)"
   ]
  },
  {
   "cell_type": "code",
   "execution_count": 40,
   "id": "857f53cb-e83b-48be-9009-7c22e7318e75",
   "metadata": {},
   "outputs": [
    {
     "data": {
      "text/plain": [
       "'batch edit 126'"
      ]
     },
     "execution_count": 40,
     "metadata": {},
     "output_type": "execute_result"
    }
   ],
   "source": [
    "bump(\"batch edit 125\")"
   ]
  },
  {
   "cell_type": "code",
   "execution_count": 41,
   "id": "556c4281-2695-4ba6-8e3f-619ddb66f697",
   "metadata": {},
   "outputs": [
    {
     "name": "stdout",
     "output_type": "stream",
     "text": [
      "batch edit 2\n",
      "batch edit 3\n",
      "batch edit 4\n",
      "batch edit 5\n",
      "batch edit 6\n",
      "batch edit 7\n",
      "batch edit 8\n",
      "batch edit 9\n",
      "batch edit 10\n",
      "batch edit 11\n"
     ]
    }
   ],
   "source": [
    "s = 'batch edit 1'\n",
    "for _ in range(10):\n",
    "    s = bump(s)\n",
    "    print(s)"
   ]
  },
  {
   "cell_type": "code",
   "execution_count": 42,
   "id": "de78b445-49a2-4017-97bb-4a3e41acee73",
   "metadata": {},
   "outputs": [
    {
     "name": "stdout",
     "output_type": "stream",
     "text": [
      "Count down 10\n",
      "Count down 9\n",
      "Count down 8\n",
      "Count down 7\n",
      "Count down 6\n",
      "Count down 5\n",
      "Count down 4\n",
      "Count down 3\n",
      "Count down 2\n",
      "Count down 1\n",
      "Iginition\n"
     ]
    }
   ],
   "source": [
    "s = 'Count down 11'\n",
    "for _ in range(10):\n",
    "    s = bump(s, delta=-1)\n",
    "    print(s)\n",
    "print('Iginition')"
   ]
  },
  {
   "cell_type": "code",
   "execution_count": null,
   "id": "9d165392-1aed-4019-9762-9d540ae69d80",
   "metadata": {},
   "outputs": [],
   "source": []
  }
 ],
 "metadata": {
  "kernelspec": {
   "display_name": "Python 3 (ipykernel)",
   "language": "python",
   "name": "python3"
  },
  "language_info": {
   "codemirror_mode": {
    "name": "ipython",
    "version": 3
   },
   "file_extension": ".py",
   "mimetype": "text/x-python",
   "name": "python",
   "nbconvert_exporter": "python",
   "pygments_lexer": "ipython3",
   "version": "3.13.2"
  }
 },
 "nbformat": 4,
 "nbformat_minor": 5
}
