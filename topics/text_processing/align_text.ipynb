{
 "cells": [
  {
   "cell_type": "markdown",
   "id": "6a6f7eb1-38a9-467d-ab9a-f357ee06abfa",
   "metadata": {},
   "source": [
    "# Text Alignment Playground"
   ]
  },
  {
   "cell_type": "code",
   "execution_count": 11,
   "id": "f53431ce-365d-4090-a61b-0b39c1b303d7",
   "metadata": {},
   "outputs": [],
   "source": [
    "def align(text: str) -> str:\n",
    "    lines = [\n",
    "        line.strip().split(None, 1)\n",
    "        for line in text.strip().splitlines()\n",
    "    ]\n",
    "    longest = max(len(keyword) for keyword, _ in lines)\n",
    "    lines = [\n",
    "        f\"{keyword:>{longest}} {rest}\"\n",
    "        for keyword, rest in lines\n",
    "    ]\n",
    "    return \"\\n\".join(lines)"
   ]
  },
  {
   "cell_type": "code",
   "execution_count": 17,
   "id": "e3c4a97a-af1c-475c-94e6-a2b84264de99",
   "metadata": {},
   "outputs": [
    {
     "name": "stdout",
     "output_type": "stream",
     "text": [
      "Scenario: some scenario\n",
      "Given some condition\n",
      "When some action is taken\n",
      "Then some result is expected.\n",
      "--------------------------------------------------------------------------------\n",
      "Scenario: some scenario\n",
      "    Given some condition\n",
      "     When some action is taken\n",
      "     Then some result is expected.\n"
     ]
    }
   ],
   "source": [
    "sc = \"\"\"\n",
    "Scenario: some scenario\n",
    "Given some condition\n",
    "When some action is taken\n",
    "Then some result is expected.\n",
    "\"\"\".strip()\n",
    "\n",
    "print(sc)\n",
    "print(\"-\" * 80)\n",
    "print(align(sc))"
   ]
  },
  {
   "cell_type": "code",
   "execution_count": 28,
   "id": "8a0ce2e5-9bb0-4654-8c57-82df7631ae0d",
   "metadata": {},
   "outputs": [],
   "source": [
    "def align2(text: str) -> str:\n",
    "    return \"\\n\".join(\n",
    "        f\"{'    ' if index > 0 else ''}{line}\"\n",
    "        for index, line in enumerate(text.strip().splitlines())\n",
    "    )"
   ]
  },
  {
   "cell_type": "code",
   "execution_count": 29,
   "id": "d9308a72-b500-428a-a5a0-5b94631c83a0",
   "metadata": {},
   "outputs": [
    {
     "name": "stdout",
     "output_type": "stream",
     "text": [
      "Scenario: some scenario\n",
      "    Given some condition\n",
      "    When some action is taken\n",
      "    Then some result is expected.\n"
     ]
    }
   ],
   "source": [
    "print(align2(\"\"\"\n",
    "Scenario: some scenario\n",
    "Given some condition\n",
    "When some action is taken\n",
    "Then some result is expected.\n",
    "\"\"\"))"
   ]
  },
  {
   "cell_type": "code",
   "execution_count": 1,
   "id": "dcfe08cf-d565-4400-8c73-fddd26d4019f",
   "metadata": {},
   "outputs": [],
   "source": [
    "import textwrap"
   ]
  },
  {
   "cell_type": "code",
   "execution_count": 2,
   "id": "30d82453-46cd-4cb2-8309-12d535e0e149",
   "metadata": {},
   "outputs": [
    {
     "name": "stdout",
     "output_type": "stream",
     "text": [
      "Scenario: some scenario\n",
      "Given some condition\n",
      "When some action is taken\n",
      "Then some result is expected.\n"
     ]
    }
   ],
   "source": [
    "sc = \"\"\"\n",
    "Scenario: some scenario\n",
    "Given some condition\n",
    "When some action is taken\n",
    "Then some result is expected.\n",
    "\"\"\".strip()\n",
    "print(sc)"
   ]
  },
  {
   "cell_type": "code",
   "execution_count": 6,
   "id": "2a527ee9-ec09-4ecc-86ac-3cd74b9702ea",
   "metadata": {},
   "outputs": [
    {
     "name": "stdout",
     "output_type": "stream",
     "text": [
      "Scenario: some scenario\n",
      "    Given some condition\n",
      "    When some action is taken\n",
      "    Then some result is expected.\n"
     ]
    }
   ],
   "source": [
    "print(textwrap.indent(sc, prefix=\"    \", predicate=lambda line: ':' not in line))"
   ]
  },
  {
   "cell_type": "markdown",
   "id": "4164e465-dbf3-4f3f-b7b3-9c88f1e14c57",
   "metadata": {},
   "source": [
    "# Hanging indent"
   ]
  },
  {
   "cell_type": "code",
   "execution_count": 4,
   "id": "cc1f4790-a63c-4d77-966d-00714fb6b63a",
   "metadata": {},
   "outputs": [],
   "source": [
    "import itertools\n",
    "import textwrap\n",
    "\n",
    "def hanging_indent(text: str, indent: int = 4):\n",
    "    predicate = itertools.chain([False], itertools.repeat([True]))\n",
    "    return textwrap.indent(text, prefix=indent * \" \", predicate=lambda _: next(predicate))"
   ]
  },
  {
   "cell_type": "code",
   "execution_count": 6,
   "id": "47818914-7ea8-4576-bbae-eb0854a4b85c",
   "metadata": {},
   "outputs": [
    {
     "name": "stdout",
     "output_type": "stream",
     "text": [
      "Scenario some scenario\n",
      "    Given some condition\n",
      "    When some action is taken\n",
      "    Then some result is expected.\n"
     ]
    }
   ],
   "source": [
    "print(hanging_indent(\"\"\"Scenario some scenario\n",
    "Given some condition\n",
    "When some action is taken\n",
    "Then some result is expected.\"\"\"))"
   ]
  },
  {
   "cell_type": "code",
   "execution_count": 7,
   "id": "1a5f1dc3-e5e0-40d0-ae7c-7711bbb33764",
   "metadata": {},
   "outputs": [],
   "source": [
    "def hanging_indent2(text: str, prefix: str = \"    \"):\n",
    "    def format_line(index: int, line: str):\n",
    "        if index == 0:\n",
    "            return line\n",
    "        return f\"{prefix}{line}\"\n",
    "    return \"\\n\".join(format_line(index, line) for index, line in enumerate(text.splitlines()))"
   ]
  },
  {
   "cell_type": "code",
   "execution_count": 9,
   "id": "2a202aa3-f957-4c1a-8f76-44b0cf3b46b5",
   "metadata": {},
   "outputs": [
    {
     "name": "stdout",
     "output_type": "stream",
     "text": [
      "Hello world\n",
      "    This line will be indented\n",
      "    So is this one\n",
      "    And this, too.\n"
     ]
    }
   ],
   "source": [
    "text = \"\"\"Hello world\n",
    "This line will be indented\n",
    "So is this one\n",
    "And this, too.\"\"\"\n",
    "print(hanging_indent2(text))"
   ]
  }
 ],
 "metadata": {
  "kernelspec": {
   "display_name": "Python 3 (ipykernel)",
   "language": "python",
   "name": "python3"
  },
  "language_info": {
   "codemirror_mode": {
    "name": "ipython",
    "version": 3
   },
   "file_extension": ".py",
   "mimetype": "text/x-python",
   "name": "python",
   "nbconvert_exporter": "python",
   "pygments_lexer": "ipython3",
   "version": "3.10.12"
  }
 },
 "nbformat": 4,
 "nbformat_minor": 5
}
