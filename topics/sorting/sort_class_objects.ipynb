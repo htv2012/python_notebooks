{
 "cells": [
  {
   "cell_type": "markdown",
   "metadata": {},
   "source": [
    "# Class that Provides Keys for Sorting\n",
    "\n",
    "When creating a class that might need to be sorted, the coder should provide different \"keys\" to help sorting."
   ]
  },
  {
   "cell_type": "code",
   "execution_count": 1,
   "metadata": {},
   "outputs": [],
   "source": [
    "import operator\n",
    "\n",
    "class Book:\n",
    "    SORT_BY_AUTHOR = operator.attrgetter(\"author\")\n",
    "    SORT_BY_TITLE = operator.attrgetter(\"title\")\n",
    "    \n",
    "    def __init__(self, isbn, author, title):\n",
    "        self.isbn = isbn\n",
    "        self.author = author\n",
    "        self.title = title\n",
    "        \n",
    "    def __repr__(self):\n",
    "        return f\"Book(isbn={self.isbn!r}, author={self.author!r}, title={self.title!r})\""
   ]
  },
  {
   "cell_type": "code",
   "execution_count": 2,
   "metadata": {},
   "outputs": [],
   "source": [
    "books = [\n",
    "    Book(\"978-0545586177\", \"Suzanne Collins\", \"Catching Fire\"),\n",
    "    Book(\"978-0439023528\", \"Suzanne Collins\", \"The Hunger Games\"),\n",
    "    Book(\"978-0545663267\", \"Suzanne Collins\", \"Mocking Jay\"),\n",
    "    Book(\"978-1447477235\", \"Hector Malot\", \"Nobody's Boy\"),\n",
    "    Book(\"978-1539977124\", \"Hector Malot\", \"Nobody's Girl\"),\n",
    "]"
   ]
  },
  {
   "cell_type": "code",
   "execution_count": 3,
   "metadata": {},
   "outputs": [
    {
     "data": {
      "text/plain": [
       "[Book(isbn='978-0545586177', author='Suzanne Collins', title='Catching Fire'),\n",
       " Book(isbn='978-0439023528', author='Suzanne Collins', title='The Hunger Games'),\n",
       " Book(isbn='978-0545663267', author='Suzanne Collins', title='Mocking Jay'),\n",
       " Book(isbn='978-1447477235', author='Hector Malot', title=\"Nobody's Boy\"),\n",
       " Book(isbn='978-1539977124', author='Hector Malot', title=\"Nobody's Girl\")]"
      ]
     },
     "execution_count": 3,
     "metadata": {},
     "output_type": "execute_result"
    }
   ],
   "source": [
    "books"
   ]
  },
  {
   "cell_type": "code",
   "execution_count": 4,
   "metadata": {},
   "outputs": [
    {
     "data": {
      "text/plain": [
       "[Book(isbn='978-1447477235', author='Hector Malot', title=\"Nobody's Boy\"),\n",
       " Book(isbn='978-1539977124', author='Hector Malot', title=\"Nobody's Girl\"),\n",
       " Book(isbn='978-0545586177', author='Suzanne Collins', title='Catching Fire'),\n",
       " Book(isbn='978-0439023528', author='Suzanne Collins', title='The Hunger Games'),\n",
       " Book(isbn='978-0545663267', author='Suzanne Collins', title='Mocking Jay')]"
      ]
     },
     "execution_count": 4,
     "metadata": {},
     "output_type": "execute_result"
    }
   ],
   "source": [
    "# Sort by Author\n",
    "sorted(books, key=Book.SORT_BY_AUTHOR)"
   ]
  },
  {
   "cell_type": "code",
   "execution_count": 5,
   "metadata": {},
   "outputs": [
    {
     "data": {
      "text/plain": [
       "[Book(isbn='978-0545586177', author='Suzanne Collins', title='Catching Fire'),\n",
       " Book(isbn='978-0545663267', author='Suzanne Collins', title='Mocking Jay'),\n",
       " Book(isbn='978-1447477235', author='Hector Malot', title=\"Nobody's Boy\"),\n",
       " Book(isbn='978-1539977124', author='Hector Malot', title=\"Nobody's Girl\"),\n",
       " Book(isbn='978-0439023528', author='Suzanne Collins', title='The Hunger Games')]"
      ]
     },
     "execution_count": 5,
     "metadata": {},
     "output_type": "execute_result"
    }
   ],
   "source": [
    "# Sort by Title\n",
    "sorted(books, key=Book.SORT_BY_TITLE)"
   ]
  }
 ],
 "metadata": {
  "kernelspec": {
   "display_name": "Python 3",
   "language": "python",
   "name": "python3"
  },
  "language_info": {
   "codemirror_mode": {
    "name": "ipython",
    "version": 3
   },
   "file_extension": ".py",
   "mimetype": "text/x-python",
   "name": "python",
   "nbconvert_exporter": "python",
   "pygments_lexer": "ipython3",
   "version": "3.7.3"
  }
 },
 "nbformat": 4,
 "nbformat_minor": 4
}
