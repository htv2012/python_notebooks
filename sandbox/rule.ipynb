{
 "cells": [
  {
   "cell_type": "code",
   "execution_count": 1,
   "metadata": {},
   "outputs": [],
   "source": [
    "import operator\n",
    "import re"
   ]
  },
  {
   "cell_type": "code",
   "execution_count": 54,
   "metadata": {},
   "outputs": [],
   "source": [
    "RULES = {}\n",
    "\n",
    "def rule(cls):\n",
    "    RULES[cls.__name__] = cls\n",
    "    return cls\n",
    "\n",
    "@rule\n",
    "class LastModified:\n",
    "    @classmethod\n",
    "    def parse(cls, text):\n",
    "        pass\n",
    "    \n",
    "@rule\n",
    "class FileExtension:\n",
    "    def __init__(self, op, *values):\n",
    "        self.op = op\n",
    "        self.value = values[0]\n",
    "        print(f'Value: {self.value}')\n",
    "        \n",
    "    def matched(self, filename):\n",
    "        path = pathlib.Path(filename)\n",
    "        extension = path.suffix\n",
    "        return self.op(extension, self.value)\n",
    "    \n",
    "    @classmethod\n",
    "    def parse(cls, op, value):\n",
    "        return cls(op, value)\n",
    "\n",
    "\n",
    "def get_comparison(op):\n",
    "    translation = {\n",
    "        '>=': 'ge',\n",
    "        '>': 'gt',\n",
    "        '<=': 'le',\n",
    "        '<': 'lt',\n",
    "        '=': 'eq',\n",
    "        '==': 'eq',\n",
    "        'is': 'eq',\n",
    "    }\n",
    "    op = translation.get(op, op)\n",
    "    return getattr(operator, op)\n",
    "\n",
    "\n",
    "def parse(text):\n",
    "    \"\"\"\n",
    "    Parses texts such as 'LastModified > 60', 'FileExtension = .txt'\n",
    "    Format: <class> <op> <value> [ <value> ... ]\n",
    "    \"\"\"\n",
    "    class_name, op_str, *values = text.split()\n",
    "    print(f'{class_name!r} {op_str!r} {values}')\n",
    "    \n",
    "    # Fix up the op\n",
    "    op = get_comparison(op_str)\n",
    "    return RULES[class_name](op, *values)\n"
   ]
  },
  {
   "cell_type": "code",
   "execution_count": 58,
   "metadata": {},
   "outputs": [
    {
     "name": "stdout",
     "output_type": "stream",
     "text": [
      "'FileExtension' 'is' ['.txt']\n",
      "Value: .txt\n"
     ]
    }
   ],
   "source": [
    "fe = parse(\"FileExtension is .txt\")"
   ]
  },
  {
   "cell_type": "code",
   "execution_count": 59,
   "metadata": {},
   "outputs": [
    {
     "data": {
      "text/plain": [
       "False"
      ]
     },
     "execution_count": 59,
     "metadata": {},
     "output_type": "execute_result"
    }
   ],
   "source": [
    "fe.matched(\"foo.ttf\")"
   ]
  },
  {
   "cell_type": "code",
   "execution_count": 60,
   "metadata": {},
   "outputs": [
    {
     "data": {
      "text/plain": [
       "True"
      ]
     },
     "execution_count": 60,
     "metadata": {},
     "output_type": "execute_result"
    }
   ],
   "source": [
    "fe.matched('foo.txt')"
   ]
  },
  {
   "cell_type": "code",
   "execution_count": 51,
   "metadata": {},
   "outputs": [
    {
     "data": {
      "text/plain": [
       "{'op': <function _operator.eq(a, b, /)>, 'value': ['.txt']}"
      ]
     },
     "execution_count": 51,
     "metadata": {},
     "output_type": "execute_result"
    }
   ],
   "source": [
    "vars(fe)"
   ]
  },
  {
   "cell_type": "code",
   "execution_count": 19,
   "metadata": {},
   "outputs": [
    {
     "data": {
      "text/plain": [
       "'.txt'"
      ]
     },
     "execution_count": 19,
     "metadata": {},
     "output_type": "execute_result"
    }
   ],
   "source": [
    "f"
   ]
  },
  {
   "cell_type": "code",
   "execution_count": 31,
   "metadata": {},
   "outputs": [],
   "source": [
    "a, b, *c = 'foo bar moo'.split()"
   ]
  },
  {
   "cell_type": "code",
   "execution_count": 32,
   "metadata": {},
   "outputs": [
    {
     "data": {
      "text/plain": [
       "['moo']"
      ]
     },
     "execution_count": 32,
     "metadata": {},
     "output_type": "execute_result"
    }
   ],
   "source": [
    "c"
   ]
  },
  {
   "cell_type": "code",
   "execution_count": 36,
   "metadata": {},
   "outputs": [
    {
     "ename": "AttributeError",
     "evalue": "'FileExtension' object has no attribute 'foo'",
     "output_type": "error",
     "traceback": [
      "\u001b[0;31m---------------------------------------------------------------------------\u001b[0m",
      "\u001b[0;31mAttributeError\u001b[0m                            Traceback (most recent call last)",
      "\u001b[0;32m<ipython-input-36-c91fb3ec59e9>\u001b[0m in \u001b[0;36m<module>\u001b[0;34m\u001b[0m\n\u001b[0;32m----> 1\u001b[0;31m \u001b[0mgetattr\u001b[0m\u001b[0;34m(\u001b[0m\u001b[0mfe\u001b[0m\u001b[0;34m,\u001b[0m \u001b[0;34m\"foo\"\u001b[0m\u001b[0;34m)\u001b[0m\u001b[0;34m\u001b[0m\u001b[0;34m\u001b[0m\u001b[0m\n\u001b[0m",
      "\u001b[0;31mAttributeError\u001b[0m: 'FileExtension' object has no attribute 'foo'"
     ]
    }
   ],
   "source": [
    "getattr(fe, \"foo\")"
   ]
  },
  {
   "cell_type": "code",
   "execution_count": null,
   "metadata": {},
   "outputs": [],
   "source": []
  }
 ],
 "metadata": {
  "kernelspec": {
   "display_name": "Python 3",
   "language": "python",
   "name": "python3"
  },
  "language_info": {
   "codemirror_mode": {
    "name": "ipython",
    "version": 3
   },
   "file_extension": ".py",
   "mimetype": "text/x-python",
   "name": "python",
   "nbconvert_exporter": "python",
   "pygments_lexer": "ipython3",
   "version": "3.7.3"
  }
 },
 "nbformat": 4,
 "nbformat_minor": 4
}
