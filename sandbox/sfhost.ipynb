{
 "cells": [
  {
   "cell_type": "code",
   "execution_count": 86,
   "metadata": {},
   "outputs": [],
   "source": [
    "import collections\n",
    "import csv\n",
    "\n",
    "SFHost = collections.namedtuple('SFHost', 'name,environment,datacenter,vendors')\n",
    "\n",
    "def make_sfhost(name, environment, datacenter, vendors=None):\n",
    "    if vendors is None or vendors == '':\n",
    "        vendors = []\n",
    "    else:\n",
    "        vendors = [vendor.casefold() for vendor in (vendors or '').split(',')]\n",
    "\n",
    "    host = SFHost(name, environment, datacenter, vendors)\n",
    "    return host"
   ]
  },
  {
   "cell_type": "code",
   "execution_count": 87,
   "metadata": {},
   "outputs": [
    {
     "data": {
      "text/plain": [
       "SFHost(name='foo', environment='env1', datacenter='dc1', vendors=[])"
      ]
     },
     "execution_count": 87,
     "metadata": {},
     "output_type": "execute_result"
    }
   ],
   "source": [
    "make_sfhost('foo', 'env1', 'dc1')"
   ]
  },
  {
   "cell_type": "code",
   "execution_count": 88,
   "metadata": {},
   "outputs": [
    {
     "data": {
      "text/plain": [
       "[SFHost(name='foo', environment='env1', datacenter='dc1', vendors=[]),\n",
       " SFHost(name='foo', environment='env1', datacenter='dc1', vendors=['hulu']),\n",
       " SFHost(name='foo', environment='env1', datacenter='dc1', vendors=['hulu', 'sync']),\n",
       " SFHost(name='foo', environment='env1', datacenter='dc1', vendors=['afc', 'vpc']),\n",
       " SFHost(name='foo', environment='env1', datacenter='dc2', vendors=[])]"
      ]
     },
     "execution_count": 88,
     "metadata": {},
     "output_type": "execute_result"
    }
   ],
   "source": [
    "with open('hosts.csv') as f:\n",
    "    reader = csv.DictReader(f)\n",
    "    HOSTS = [make_sfhost(**row) for row in reader]\n",
    "HOSTS"
   ]
  },
  {
   "cell_type": "code",
   "execution_count": 89,
   "metadata": {},
   "outputs": [],
   "source": [
    "def match(host, name, environment, datacenter, vendor=None):\n",
    "    if host.name != name:\n",
    "        return None\n",
    "    if host.environment != environment:\n",
    "        return None\n",
    "    if host.datacenter != datacenter:\n",
    "        return None\n",
    "    if vendor is None:\n",
    "        return host\n",
    "    if vendor.lower() in host.vendors:\n",
    "        return host\n",
    "    return None\n",
    "    \n",
    "def find_all(name, environment, datacenter, vendor=None):\n",
    "    for host in HOSTS:\n",
    "        if match(host, name, environment, datacenter, vendor):\n",
    "            yield host\n",
    "\n",
    "def find(name, environment, datacenter, vendor=None):\n",
    "    return next(find_all(name, environment, datacenter, vendor), None)"
   ]
  },
  {
   "cell_type": "code",
   "execution_count": 90,
   "metadata": {},
   "outputs": [
    {
     "data": {
      "text/plain": [
       "SFHost(name='foo', environment='env1', datacenter='dc1', vendors=['hulu'])"
      ]
     },
     "execution_count": 90,
     "metadata": {},
     "output_type": "execute_result"
    }
   ],
   "source": [
    "find('foo', 'env1', 'dc1', 'HULU')"
   ]
  },
  {
   "cell_type": "code",
   "execution_count": 91,
   "metadata": {},
   "outputs": [
    {
     "data": {
      "text/plain": [
       "[SFHost(name='foo', environment='env1', datacenter='dc1', vendors=['hulu', 'sync'])]"
      ]
     },
     "execution_count": 91,
     "metadata": {},
     "output_type": "execute_result"
    }
   ],
   "source": [
    "list(find_all('foo', 'env1', 'dc1', 'SYNC'))"
   ]
  },
  {
   "cell_type": "code",
   "execution_count": null,
   "metadata": {},
   "outputs": [],
   "source": []
  }
 ],
 "metadata": {
  "kernelspec": {
   "display_name": "Python 3",
   "language": "python",
   "name": "python3"
  },
  "language_info": {
   "codemirror_mode": {
    "name": "ipython",
    "version": 3
   },
   "file_extension": ".py",
   "mimetype": "text/x-python",
   "name": "python",
   "nbconvert_exporter": "python",
   "pygments_lexer": "ipython3",
   "version": "3.7.3"
  }
 },
 "nbformat": 4,
 "nbformat_minor": 4
}
