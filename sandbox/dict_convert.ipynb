{
 "cells": [
  {
   "cell_type": "markdown",
   "metadata": {},
   "source": [
    "# Dict Convert\n",
    "\n",
    "https://stackoverflow.com/q/71682367/459745"
   ]
  },
  {
   "cell_type": "code",
   "execution_count": 1,
   "metadata": {},
   "outputs": [],
   "source": [
    "data = {\n",
    "  \"key1\": [\"text\"],\n",
    "  \"key2\": [\"text\", \"text\"],\n",
    "  \"key3\": [{\"key0\": 0}],\n",
    "  \"key4\": [{\"key0\": 0, \"key1\": 1}],\n",
    "  \"key5\": [],\n",
    "  \"key6\": [[]],\n",
    "  \"key7\": [[\"text\"]],\n",
    "  \"key8\": [[{\"key0\": 0}]]\n",
    "}"
   ]
  },
  {
   "cell_type": "code",
   "execution_count": 2,
   "metadata": {},
   "outputs": [
    {
     "data": {
      "text/plain": [
       "{'key1': ['text'],\n",
       " 'key2': ['text', 'text'],\n",
       " 'key3': [{'key0': 0}],\n",
       " 'key4': [{'key0': 0, 'key1': 1}],\n",
       " 'key5': [],\n",
       " 'key6': [[]],\n",
       " 'key7': [['text']],\n",
       " 'key8': [[{'key0': 0}]]}"
      ]
     },
     "execution_count": 2,
     "metadata": {},
     "output_type": "execute_result"
    }
   ],
   "source": [
    "data"
   ]
  },
  {
   "cell_type": "code",
   "execution_count": 21,
   "metadata": {},
   "outputs": [],
   "source": [
    "def delist(value):\n",
    "    while isinstance(value, list) and len(value) == 1:\n",
    "        value = value[0]\n",
    "    if value == []:\n",
    "        value = \"\"\n",
    "    return value"
   ]
  },
  {
   "cell_type": "code",
   "execution_count": 22,
   "metadata": {},
   "outputs": [
    {
     "data": {
      "text/plain": [
       "{'key1': 'text',\n",
       " 'key2': ['text', 'text'],\n",
       " 'key3': {'key0': 0},\n",
       " 'key4': {'key0': 0, 'key1': 1},\n",
       " 'key5': '',\n",
       " 'key6': '',\n",
       " 'key7': 'text',\n",
       " 'key8': {'key0': 0}}"
      ]
     },
     "execution_count": 22,
     "metadata": {},
     "output_type": "execute_result"
    }
   ],
   "source": [
    "{k: delist(v) for k, v in data.items()}"
   ]
  },
  {
   "cell_type": "code",
   "execution_count": null,
   "metadata": {},
   "outputs": [],
   "source": []
  }
 ],
 "metadata": {
  "kernelspec": {
   "display_name": "Python 3",
   "language": "python",
   "name": "python3"
  },
  "language_info": {
   "codemirror_mode": {
    "name": "ipython",
    "version": 3
   },
   "file_extension": ".py",
   "mimetype": "text/x-python",
   "name": "python",
   "nbconvert_exporter": "python",
   "pygments_lexer": "ipython3",
   "version": "3.7.3"
  }
 },
 "nbformat": 4,
 "nbformat_minor": 4
}
