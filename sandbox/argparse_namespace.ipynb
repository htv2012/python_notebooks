{
 "cells": [
  {
   "cell_type": "code",
   "execution_count": 4,
   "metadata": {},
   "outputs": [],
   "source": [
    "import argparse\n",
    "parser = argparse.ArgumentParser()\n",
    "sa = parser.add_argument(\"-s\", \"--server\")"
   ]
  },
  {
   "cell_type": "code",
   "execution_count": 3,
   "metadata": {},
   "outputs": [
    {
     "data": {
      "text/plain": [
       "_StoreAction(option_strings=['-s', '--server'], dest='server', nargs=None, const=None, default=None, type=None, choices=None, help=None, metavar=None)"
      ]
     },
     "execution_count": 3,
     "metadata": {},
     "output_type": "execute_result"
    }
   ],
   "source": [
    "sa"
   ]
  },
  {
   "cell_type": "code",
   "execution_count": 5,
   "metadata": {},
   "outputs": [
    {
     "name": "stdout",
     "output_type": "stream",
     "text": [
      "Help on _StoreAction in module argparse object:\n",
      "\n",
      "class _StoreAction(Action)\n",
      " |  _StoreAction(option_strings, dest, nargs=None, const=None, default=None, type=None, choices=None, required=False, help=None, metavar=None)\n",
      " |  \n",
      " |  Information about how to convert command line strings to Python objects.\n",
      " |  \n",
      " |  Action objects are used by an ArgumentParser to represent the information\n",
      " |  needed to parse a single argument from one or more strings from the\n",
      " |  command line. The keyword arguments to the Action constructor are also\n",
      " |  all attributes of Action instances.\n",
      " |  \n",
      " |  Keyword Arguments:\n",
      " |  \n",
      " |      - option_strings -- A list of command-line option strings which\n",
      " |          should be associated with this action.\n",
      " |  \n",
      " |      - dest -- The name of the attribute to hold the created object(s)\n",
      " |  \n",
      " |      - nargs -- The number of command-line arguments that should be\n",
      " |          consumed. By default, one argument will be consumed and a single\n",
      " |          value will be produced.  Other values include:\n",
      " |              - N (an integer) consumes N arguments (and produces a list)\n",
      " |              - '?' consumes zero or one arguments\n",
      " |              - '*' consumes zero or more arguments (and produces a list)\n",
      " |              - '+' consumes one or more arguments (and produces a list)\n",
      " |          Note that the difference between the default and nargs=1 is that\n",
      " |          with the default, a single value will be produced, while with\n",
      " |          nargs=1, a list containing a single value will be produced.\n",
      " |  \n",
      " |      - const -- The value to be produced if the option is specified and the\n",
      " |          option uses an action that takes no values.\n",
      " |  \n",
      " |      - default -- The value to be produced if the option is not specified.\n",
      " |  \n",
      " |      - type -- A callable that accepts a single string argument, and\n",
      " |          returns the converted value.  The standard Python types str, int,\n",
      " |          float, and complex are useful examples of such callables.  If None,\n",
      " |          str is used.\n",
      " |  \n",
      " |      - choices -- A container of values that should be allowed. If not None,\n",
      " |          after a command-line argument has been converted to the appropriate\n",
      " |          type, an exception will be raised if it is not a member of this\n",
      " |          collection.\n",
      " |  \n",
      " |      - required -- True if the action must always be specified at the\n",
      " |          command line. This is only meaningful for optional command-line\n",
      " |          arguments.\n",
      " |  \n",
      " |      - help -- The help string describing the argument.\n",
      " |  \n",
      " |      - metavar -- The name to be used for the option's argument with the\n",
      " |          help string. If None, the 'dest' value will be used as the name.\n",
      " |  \n",
      " |  Method resolution order:\n",
      " |      _StoreAction\n",
      " |      Action\n",
      " |      _AttributeHolder\n",
      " |      builtins.object\n",
      " |  \n",
      " |  Methods defined here:\n",
      " |  \n",
      " |  __call__(self, parser, namespace, values, option_string=None)\n",
      " |      Call self as a function.\n",
      " |  \n",
      " |  __init__(self, option_strings, dest, nargs=None, const=None, default=None, type=None, choices=None, required=False, help=None, metavar=None)\n",
      " |      Initialize self.  See help(type(self)) for accurate signature.\n",
      " |  \n",
      " |  ----------------------------------------------------------------------\n",
      " |  Methods inherited from _AttributeHolder:\n",
      " |  \n",
      " |  __repr__(self)\n",
      " |      Return repr(self).\n",
      " |  \n",
      " |  ----------------------------------------------------------------------\n",
      " |  Data descriptors inherited from _AttributeHolder:\n",
      " |  \n",
      " |  __dict__\n",
      " |      dictionary for instance variables (if defined)\n",
      " |  \n",
      " |  __weakref__\n",
      " |      list of weak references to the object (if defined)\n",
      "\n"
     ]
    }
   ],
   "source": [
    "help(sa)"
   ]
  },
  {
   "cell_type": "code",
   "execution_count": 6,
   "metadata": {},
   "outputs": [
    {
     "data": {
      "text/plain": [
       "ArgumentParser(prog='ipykernel_launcher.py', usage=None, description=None, formatter_class=<class 'argparse.HelpFormatter'>, conflict_handler='error', add_help=True)"
      ]
     },
     "execution_count": 6,
     "metadata": {},
     "output_type": "execute_result"
    }
   ],
   "source": [
    "parser"
   ]
  },
  {
   "cell_type": "code",
   "execution_count": 7,
   "metadata": {},
   "outputs": [
    {
     "name": "stdout",
     "output_type": "stream",
     "text": [
      "Help on ArgumentParser in module argparse object:\n",
      "\n",
      "class ArgumentParser(_AttributeHolder, _ActionsContainer)\n",
      " |  ArgumentParser(prog=None, usage=None, description=None, epilog=None, parents=[], formatter_class=<class 'argparse.HelpFormatter'>, prefix_chars='-', fromfile_prefix_chars=None, argument_default=None, conflict_handler='error', add_help=True, allow_abbrev=True)\n",
      " |  \n",
      " |  Object for parsing command line strings into Python objects.\n",
      " |  \n",
      " |  Keyword Arguments:\n",
      " |      - prog -- The name of the program (default: sys.argv[0])\n",
      " |      - usage -- A usage message (default: auto-generated from arguments)\n",
      " |      - description -- A description of what the program does\n",
      " |      - epilog -- Text following the argument descriptions\n",
      " |      - parents -- Parsers whose arguments should be copied into this one\n",
      " |      - formatter_class -- HelpFormatter class for printing help messages\n",
      " |      - prefix_chars -- Characters that prefix optional arguments\n",
      " |      - fromfile_prefix_chars -- Characters that prefix files containing\n",
      " |          additional arguments\n",
      " |      - argument_default -- The default value for all arguments\n",
      " |      - conflict_handler -- String indicating how to handle conflicts\n",
      " |      - add_help -- Add a -h/-help option\n",
      " |      - allow_abbrev -- Allow long options to be abbreviated unambiguously\n",
      " |  \n",
      " |  Method resolution order:\n",
      " |      ArgumentParser\n",
      " |      _AttributeHolder\n",
      " |      _ActionsContainer\n",
      " |      builtins.object\n",
      " |  \n",
      " |  Methods defined here:\n",
      " |  \n",
      " |  __init__(self, prog=None, usage=None, description=None, epilog=None, parents=[], formatter_class=<class 'argparse.HelpFormatter'>, prefix_chars='-', fromfile_prefix_chars=None, argument_default=None, conflict_handler='error', add_help=True, allow_abbrev=True)\n",
      " |      Initialize self.  See help(type(self)) for accurate signature.\n",
      " |  \n",
      " |  add_subparsers(self, **kwargs)\n",
      " |      # ==================================\n",
      " |      # Optional/Positional adding methods\n",
      " |      # ==================================\n",
      " |  \n",
      " |  convert_arg_line_to_args(self, arg_line)\n",
      " |  \n",
      " |  error(self, message)\n",
      " |      error(message: string)\n",
      " |      \n",
      " |      Prints a usage message incorporating the message to stderr and\n",
      " |      exits.\n",
      " |      \n",
      " |      If you override this in a subclass, it should not return -- it\n",
      " |      should either exit or raise an exception.\n",
      " |  \n",
      " |  exit(self, status=0, message=None)\n",
      " |      # ===============\n",
      " |      # Exiting methods\n",
      " |      # ===============\n",
      " |  \n",
      " |  format_help(self)\n",
      " |  \n",
      " |  format_usage(self)\n",
      " |      # =======================\n",
      " |      # Help-formatting methods\n",
      " |      # =======================\n",
      " |  \n",
      " |  parse_args(self, args=None, namespace=None)\n",
      " |      # =====================================\n",
      " |      # Command line argument parsing methods\n",
      " |      # =====================================\n",
      " |  \n",
      " |  parse_intermixed_args(self, args=None, namespace=None)\n",
      " |  \n",
      " |  parse_known_args(self, args=None, namespace=None)\n",
      " |  \n",
      " |  parse_known_intermixed_args(self, args=None, namespace=None)\n",
      " |  \n",
      " |  print_help(self, file=None)\n",
      " |  \n",
      " |  print_usage(self, file=None)\n",
      " |      # =====================\n",
      " |      # Help-printing methods\n",
      " |      # =====================\n",
      " |  \n",
      " |  ----------------------------------------------------------------------\n",
      " |  Methods inherited from _AttributeHolder:\n",
      " |  \n",
      " |  __repr__(self)\n",
      " |      Return repr(self).\n",
      " |  \n",
      " |  ----------------------------------------------------------------------\n",
      " |  Data descriptors inherited from _AttributeHolder:\n",
      " |  \n",
      " |  __dict__\n",
      " |      dictionary for instance variables (if defined)\n",
      " |  \n",
      " |  __weakref__\n",
      " |      list of weak references to the object (if defined)\n",
      " |  \n",
      " |  ----------------------------------------------------------------------\n",
      " |  Methods inherited from _ActionsContainer:\n",
      " |  \n",
      " |  add_argument(self, *args, **kwargs)\n",
      " |      add_argument(dest, ..., name=value, ...)\n",
      " |      add_argument(option_string, option_string, ..., name=value, ...)\n",
      " |  \n",
      " |  add_argument_group(self, *args, **kwargs)\n",
      " |  \n",
      " |  add_mutually_exclusive_group(self, **kwargs)\n",
      " |  \n",
      " |  get_default(self, dest)\n",
      " |  \n",
      " |  register(self, registry_name, value, object)\n",
      " |      # ====================\n",
      " |      # Registration methods\n",
      " |      # ====================\n",
      " |  \n",
      " |  set_defaults(self, **kwargs)\n",
      " |      # ==================================\n",
      " |      # Namespace default accessor methods\n",
      " |      # ==================================\n",
      "\n"
     ]
    }
   ],
   "source": [
    "help(parser)"
   ]
  },
  {
   "cell_type": "markdown",
   "metadata": {},
   "source": [
    "# Parse known args"
   ]
  },
  {
   "cell_type": "code",
   "execution_count": 19,
   "metadata": {},
   "outputs": [
    {
     "data": {
      "text/plain": [
       "_StoreAction(option_strings=['-d', '--duration'], dest='duration', nargs=None, const=None, default=90, type=<class 'int'>, choices=None, help=None, metavar=None)"
      ]
     },
     "execution_count": 19,
     "metadata": {},
     "output_type": "execute_result"
    }
   ],
   "source": [
    "parser = argparse.ArgumentParser()\n",
    "\n",
    "actions = parser.add_subparsers(dest=\"plugin\")\n",
    "actions.required = True\n",
    "\n",
    "subparser = actions.add_parser(\"chrome\")\n",
    "subparser.add_argument(\"-u\", \"--user\", required=True)\n",
    "subparser.add_argument(\"-d\", \"--duration\", type=int, default=90)"
   ]
  },
  {
   "cell_type": "code",
   "execution_count": 22,
   "metadata": {},
   "outputs": [
    {
     "data": {
      "text/plain": [
       "Namespace(duration=120, plugin='chrome', remainder=['-I', 'info', '--x=true'], user='fox')"
      ]
     },
     "execution_count": 22,
     "metadata": {},
     "output_type": "execute_result"
    }
   ],
   "source": [
    "options, remainder = parser.parse_known_args([\"chrome\", \"-u\", \"fox\", \"--duration=120\", \"-I\", \"info\", \"--x=true\"])\n",
    "options.remainder = remainder\n",
    "options"
   ]
  },
  {
   "cell_type": "code",
   "execution_count": 23,
   "metadata": {},
   "outputs": [
    {
     "data": {
      "text/plain": [
       "Namespace(duration=120, plugin='chrome', user='fox')"
      ]
     },
     "execution_count": 23,
     "metadata": {},
     "output_type": "execute_result"
    }
   ],
   "source": [
    "args = \"chrome -u fox -d 120\".split()\n",
    "parser.parse_args(args)"
   ]
  },
  {
   "cell_type": "code",
   "execution_count": 16,
   "metadata": {},
   "outputs": [
    {
     "ename": "TypeError",
     "evalue": "parse_intermixed_args: positional arg with nargs=A...",
     "output_type": "error",
     "traceback": [
      "\u001b[0;31m---------------------------------------------------------------------------\u001b[0m",
      "\u001b[0;31mTypeError\u001b[0m                                 Traceback (most recent call last)",
      "\u001b[0;32m<ipython-input-16-f00ed44751f1>\u001b[0m in \u001b[0;36m<module>\u001b[0;34m\u001b[0m\n\u001b[1;32m      1\u001b[0m \u001b[0margs\u001b[0m \u001b[0;34m=\u001b[0m \u001b[0;34m\"chrome -u fox -d 120\"\u001b[0m\u001b[0;34m.\u001b[0m\u001b[0msplit\u001b[0m\u001b[0;34m(\u001b[0m\u001b[0;34m)\u001b[0m\u001b[0;34m\u001b[0m\u001b[0;34m\u001b[0m\u001b[0m\n\u001b[0;32m----> 2\u001b[0;31m \u001b[0mparser\u001b[0m\u001b[0;34m.\u001b[0m\u001b[0mparse_known_intermixed_args\u001b[0m\u001b[0;34m(\u001b[0m\u001b[0margs\u001b[0m\u001b[0;34m)\u001b[0m\u001b[0;34m\u001b[0m\u001b[0;34m\u001b[0m\u001b[0m\n\u001b[0m",
      "\u001b[0;32m/usr/lib/python3.7/argparse.py\u001b[0m in \u001b[0;36mparse_known_intermixed_args\u001b[0;34m(self, args, namespace)\u001b[0m\n\u001b[1;32m   2286\u001b[0m         \u001b[0;32mif\u001b[0m \u001b[0ma\u001b[0m\u001b[0;34m:\u001b[0m\u001b[0;34m\u001b[0m\u001b[0;34m\u001b[0m\u001b[0m\n\u001b[1;32m   2287\u001b[0m             raise TypeError('parse_intermixed_args: positional arg'\n\u001b[0;32m-> 2288\u001b[0;31m                             ' with nargs=%s'%a[0].nargs)\n\u001b[0m\u001b[1;32m   2289\u001b[0m \u001b[0;34m\u001b[0m\u001b[0m\n\u001b[1;32m   2290\u001b[0m         if [action.dest for group in self._mutually_exclusive_groups\n",
      "\u001b[0;31mTypeError\u001b[0m: parse_intermixed_args: positional arg with nargs=A..."
     ]
    }
   ],
   "source": [
    "args = \"chrome -u fox -d 120\".split()\n",
    "parser.parse_known_intermixed_args(args)"
   ]
  },
  {
   "cell_type": "code",
   "execution_count": 17,
   "metadata": {},
   "outputs": [
    {
     "data": {
      "text/plain": [
       "ArgumentParser(prog='ipykernel_launcher.py', usage=None, description=None, formatter_class=<class 'argparse.HelpFormatter'>, conflict_handler='error', add_help=True)"
      ]
     },
     "execution_count": 17,
     "metadata": {},
     "output_type": "execute_result"
    }
   ],
   "source": [
    "parser"
   ]
  },
  {
   "cell_type": "code",
   "execution_count": null,
   "metadata": {},
   "outputs": [],
   "source": [
    "options, remainder = parser.parse_known_args([\"chrome\"])"
   ]
  }
 ],
 "metadata": {
  "kernelspec": {
   "display_name": "Python 3",
   "language": "python",
   "name": "python3"
  },
  "language_info": {
   "codemirror_mode": {
    "name": "ipython",
    "version": 3
   },
   "file_extension": ".py",
   "mimetype": "text/x-python",
   "name": "python",
   "nbconvert_exporter": "python",
   "pygments_lexer": "ipython3",
   "version": "3.7.3"
  }
 },
 "nbformat": 4,
 "nbformat_minor": 4
}
