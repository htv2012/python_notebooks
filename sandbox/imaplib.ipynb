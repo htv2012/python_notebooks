{
 "cells": [
  {
   "cell_type": "markdown",
   "metadata": {},
   "source": [
    "# imap"
   ]
  },
  {
   "cell_type": "code",
   "execution_count": 1,
   "metadata": {},
   "outputs": [],
   "source": [
    "import imaplib"
   ]
  },
  {
   "cell_type": "code",
   "execution_count": 2,
   "metadata": {},
   "outputs": [],
   "source": [
    "conn = imaplib.IMAP4_SSL(\"imap.gmail.com\")"
   ]
  },
  {
   "cell_type": "code",
   "execution_count": 5,
   "metadata": {},
   "outputs": [
    {
     "data": {
      "text/plain": [
       "('OK', [b'haivu2004@gmail.com authenticated (Success)'])"
      ]
     },
     "execution_count": 5,
     "metadata": {},
     "output_type": "execute_result"
    }
   ],
   "source": [
    "conn.login(\"haivu2004@gmail.com\", \"dorbrkxvszykmrhn\")"
   ]
  },
  {
   "cell_type": "code",
   "execution_count": 6,
   "metadata": {},
   "outputs": [
    {
     "data": {
      "text/plain": [
       "('OK', [b'511'])"
      ]
     },
     "execution_count": 6,
     "metadata": {},
     "output_type": "execute_result"
    }
   ],
   "source": [
    "conn.select()"
   ]
  },
  {
   "cell_type": "code",
   "execution_count": 7,
   "metadata": {},
   "outputs": [
    {
     "data": {
      "text/plain": [
       "('OK',\n",
       " [(b'1 (RFC822 {8889}',\n",
       "   b'Delivered-To: haivu2004@gmail.com\\r\\nReceived: by 2002:a67:ee0c:0:0:0:0:0 with SMTP id f12csp4401774vsp;\\r\\n        Tue, 20 Oct 2020 09:53:14 -0700 (PDT)\\r\\nX-Received: by 2002:a25:bbc4:: with SMTP id c4mr5492908ybk.178.1603212794828;\\r\\n        Tue, 20 Oct 2020 09:53:14 -0700 (PDT)\\r\\nARC-Seal: i=1; a=rsa-sha256; t=1603212794; cv=none;\\r\\n        d=google.com; s=arc-20160816;\\r\\n        b=rS350EuCgULxrhj5yP7+Z7SSqreLcNzWlxpOluHCYqWGvvnrH41Lfz4Mf6iCBp8xM+\\r\\n         R0+21ULo6s1E849Bq5AD5i9guwWLTdVpTJzGPFSVyTgpCAOjjz5R0yaxqj6um8hb0yJ3\\r\\n         X6eBGbTAB2y9tlMOU798exc/LwTmuc5eF69Z1F+9aFpbkGFSWOqxLDrrNdFhCnmI7Jm4\\r\\n         AXoPeu7agmn0ZLDjO0S2sW/BFFwyoFAQiQWhlX4sCPDsUKvvd+3c81XGC4T3qsuA4L4l\\r\\n         fWVVzA3dkEU4hryFY3AMfCdS2tEPTdS7PmlyTrAV46KmUohuv6sFqjldaBK3l09eW/Na\\r\\n         MrXQ==\\r\\nARC-Message-Signature: i=1; a=rsa-sha256; c=relaxed/relaxed; d=google.com; s=arc-20160816;\\r\\n        h=to:subject:message-id:date:from:in-reply-to:references:mime-version\\r\\n         :dkim-signature;\\r\\n        bh=/zxelRclu9+HJylCJ7uNQ5ZHKN3QAB37mB32dWvvBhw=;\\r\\n        b=FF9Vemds4Jay2faNCEFofHM2h0V1XwmSvZrtTSUiO1DFZeoQeOBUExtS8uOV10yWTq\\r\\n         YDGcaAgoKjLBDpWzaBdkpmN9GOk4Pl7dNBZrmByeItm//p6Gg9giVoUkhfaq6VrVTcX8\\r\\n         olZFl7gO4BYLegw9qXeKaDNfpZ0uTNzZErKMPFc9AcAVD0dlbdG/WH/qF4xJb4p1QNX6\\r\\n         QyIgcBjD/Lnab6PJDDGkxc6u3G+4qc35sMRxE+psfZZ5ydYThtRtExCuH02qjkpT3HHE\\r\\n         NAXOJK53yUNBHMeItLwM9OwKMfEN4MTXaEolPWMo+yNlnHcV23rzjgpAlkuhoukjhewd\\r\\n         Eg3g==\\r\\nARC-Authentication-Results: i=1; mx.google.com;\\r\\n       dkim=pass header.i=@gmail.com header.s=20161025 header.b=KEqCOJMA;\\r\\n       spf=pass (google.com: domain of brittany.vu1003@gmail.com designates 209.85.220.41 as permitted sender) smtp.mailfrom=brittany.vu1003@gmail.com;\\r\\n       dmarc=pass (p=NONE sp=QUARANTINE dis=NONE) header.from=gmail.com\\r\\nReturn-Path: <brittany.vu1003@gmail.com>\\r\\nReceived: from mail-sor-f41.google.com (mail-sor-f41.google.com. [209.85.220.41])\\r\\n        by mx.google.com with SMTPS id c17sor598313ybs.207.2020.10.20.09.53.14\\r\\n        for <haivu2004@gmail.com>\\r\\n        (Google Transport Security);\\r\\n        Tue, 20 Oct 2020 09:53:14 -0700 (PDT)\\r\\nReceived-SPF: pass (google.com: domain of brittany.vu1003@gmail.com designates 209.85.220.41 as permitted sender) client-ip=209.85.220.41;\\r\\nAuthentication-Results: mx.google.com;\\r\\n       dkim=pass header.i=@gmail.com header.s=20161025 header.b=KEqCOJMA;\\r\\n       spf=pass (google.com: domain of brittany.vu1003@gmail.com designates 209.85.220.41 as permitted sender) smtp.mailfrom=brittany.vu1003@gmail.com;\\r\\n       dmarc=pass (p=NONE sp=QUARANTINE dis=NONE) header.from=gmail.com\\r\\nDKIM-Signature: v=1; a=rsa-sha256; c=relaxed/relaxed;\\r\\n        d=gmail.com; s=20161025;\\r\\n        h=mime-version:references:in-reply-to:from:date:message-id:subject:to;\\r\\n        bh=/zxelRclu9+HJylCJ7uNQ5ZHKN3QAB37mB32dWvvBhw=;\\r\\n        b=KEqCOJMAhmzsEIdGy+rYzbr2W9Var7qa0LxXBaVHJl7dPKtU7mACx0/AYijXJWtQq3\\r\\n         PRmWX7fh3fyW/NeS94DmVoH429No56rKL/bNC4GXTv/pzPUU7VgKWItori+YKFvh7rnz\\r\\n         zr8Tjyfd6YOEo1ilLpzOmE8plBJdAKK4lbRpDMfGmXGTB8yHrMojnMCHUwjL4FKzUKrd\\r\\n         WsIh8c42/LE1Sy/7S1ia3m2TSgD5+HAnTZT0MFZSuLOE+NCccIj7d4RjgpvWIijxGwNK\\r\\n         l6JapQxWD1xNNR1JmKYfM7KV2Bp0BYFFkvtiTkPNVKZbC+BlnRlxmKcPGtAyvfIH2yw4\\r\\n         DDMA==\\r\\nX-Google-DKIM-Signature: v=1; a=rsa-sha256; c=relaxed/relaxed;\\r\\n        d=1e100.net; s=20161025;\\r\\n        h=x-gm-message-state:mime-version:references:in-reply-to:from:date\\r\\n         :message-id:subject:to;\\r\\n        bh=/zxelRclu9+HJylCJ7uNQ5ZHKN3QAB37mB32dWvvBhw=;\\r\\n        b=reazuV7AAFMGGwmlr3NcJniAms32yVJ8EobuKGiCPL+oHRR5UhS6ma10RWL7YfVJNK\\r\\n         3Me5RBXPO9iSelbPaDEmODqqaUknC+oa85eo/jjC9XPlhhrNvncuNIXmdq8irvR9F3Ma\\r\\n         RvWIxoz/THhGLZXJDGYcN+V14AltSB6W0oITkG8AZ142HgIDdcS74HhwXYsC8YCYq2ZM\\r\\n         wd9OXlChvJe/yIyB84x6Tm/mnvijWez6Nr1NAD20hcREJoFxEWfW3nDE11kPRZVdAFwX\\r\\n         oTJ+TYKCSWS6py2d8AfdUK1RrKKjOsL9/GqaQM1Ft68qBINMHsnndl9FXpzz54qRc2R8\\r\\n         WXxQ==\\r\\nX-Gm-Message-State: AOAM530uIQfEiSIkILIXr6YpMWIQ+CQ5bEH2JW0qnLK7mUSlpoUSb8rN\\r\\n\\tF9VpJjHOS1L40G1KNq2f3/d9w8nAEADHxCBbfB1LtCtuQ4s=\\r\\nX-Google-Smtp-Source: ABdhPJy91i4RQ+sfvHEskSQjsoRv7wNh9y/FF2uTFGZsDdAYF0Duyb0aP++mKjOjijtwCxY1tcC/pimBQIZhdbOsxIc=\\r\\nX-Received: by 2002:a25:2155:: with SMTP id h82mr5353400ybh.321.1603212794066;\\r\\n Tue, 20 Oct 2020 09:53:14 -0700 (PDT)\\r\\nMIME-Version: 1.0\\r\\nReferences: <CAF3BhgwZseFYc5UwDC4as2jq5Q8eoqt7LB8sWvj67jjkZU45tg@mail.gmail.com>\\r\\n <CANp67L-vKkHFwDoL7m754amt+ek1XNL9UK+BJqOQG5tisDBTBA@mail.gmail.com>\\r\\nIn-Reply-To: <CANp67L-vKkHFwDoL7m754amt+ek1XNL9UK+BJqOQG5tisDBTBA@mail.gmail.com>\\r\\nFrom: Brittany Neidhardt <brittany.vu1003@gmail.com>\\r\\nDate: Tue, 20 Oct 2020 12:53:02 -0400\\r\\nMessage-ID: <CANp67L8UvyNHRip7RiGdMxLj3_9z97kv4dn5tWFVMHyck3XDnQ@mail.gmail.com>\\r\\nSubject: Fwd: Advance directive\\r\\nTo: Hai Vu <haiv@icloud.com>, haivu2004@gmail.com\\r\\nContent-Type: multipart/alternative; boundary=\"00000000000016f9f905b21d11aa\"\\r\\n\\r\\n--00000000000016f9f905b21d11aa\\r\\nContent-Type: text/plain; charset=\"UTF-8\"\\r\\n\\r\\nHi anh Hai,\\r\\n\\r\\nI hope the email finds you well.\\r\\n\\r\\nSorry it\\'s faster for me to write in English.  Mom has been on my neck to\\r\\nget me to find her Advance Directive which was filled by Wanye years ago.\\r\\nThe form is basically lost or not found.  Can you fill out the new form\\r\\n(attached, page 9 - 12)  for her as she needs to be aware of her medical\\r\\nwishes in case she is hospitalized in serious condition where she may not\\r\\nbe able to express herself...then, this form will be handy for medical\\r\\nstaff and family members as well.  I wish I could do this given my living\\r\\nstatus is out of state and away from her so better if one of you can manage\\r\\nit.  Please call and ask her how she wants things done...she also needs to\\r\\nsign.  No notary needed.  Upon completion, can you make several copies for\\r\\nus as well as her doctor\\'s office.\\r\\n\\r\\nThank you,\\r\\nB\\r\\n\\r\\n\\r\\n---------- Forwarded message ---------\\r\\nFrom: Brittany Neidhardt <brittany.vu1003@gmail.com>\\r\\nDate: Mon, Oct 19, 2020 at 7:47 AM\\r\\nSubject: Re: Advance directive\\r\\nTo: Wayne Neidhardt <wlneidhardt@gmail.com>\\r\\n\\r\\n\\r\\nThank you!\\r\\n\\r\\nOn Sun, Oct 18, 2020 at 5:51 PM Wayne Neidhardt <wlneidhardt@gmail.com>\\r\\nwrote:\\r\\n\\r\\n> Pages 9 and 10 of the attached document are a very simple advance\\r\\n> directive form.  One of your siblings can easily help your mom fill it out\\r\\n> and witness it.\\r\\n>\\r\\n> Page 11 and 12 are a durable power of attorney, in case she wants that too.\\r\\n>\\r\\n\\r\\n--00000000000016f9f905b21d11aa\\r\\nContent-Type: text/html; charset=\"UTF-8\"\\r\\nContent-Transfer-Encoding: quoted-printable\\r\\n\\r\\n<div dir=3D\"ltr\">Hi anh Hai,<div><br></div><div>I hope the email finds you =\\r\\nwell.<br><div><br></div><div>Sorry it&#39;s faster for me to write in Engli=\\r\\nsh.=C2=A0 Mom has been on my neck to get me to find her Advance Directive w=\\r\\nhich was filled by Wanye years ago.=C2=A0 The form is basically lost or not=\\r\\n found.=C2=A0 Can you fill out the new form (attached, page 9 - 12)=C2=A0 f=\\r\\nor her as she needs to be aware of her medical wishes in case she is hospit=\\r\\nalized in serious condition where she may not be able to express herself...=\\r\\nthen, this form will be handy for medical staff and family members as well.=\\r\\n=C2=A0 I wish I could do this given my living status is out of state and aw=\\r\\nay from her so better if one of you can manage it.=C2=A0 Please call and as=\\r\\nk her how she wants things done...she also needs to sign.=C2=A0 No notary n=\\r\\needed.=C2=A0 Upon completion, can you make several copies for us as well as=\\r\\n her doctor&#39;s office.=C2=A0=C2=A0</div><div><br></div><div>Thank you,</=\\r\\ndiv><div>B</div><div><br></div><div><br><div class=3D\"gmail_quote\"><div dir=\\r\\n=3D\"ltr\" class=3D\"gmail_attr\">---------- Forwarded message ---------<br>Fro=\\r\\nm: <strong class=3D\"gmail_sendername\" dir=3D\"auto\">Brittany Neidhardt</stro=\\r\\nng> <span dir=3D\"auto\">&lt;<a href=3D\"mailto:brittany.vu1003@gmail.com\">bri=\\r\\nttany.vu1003@gmail.com</a>&gt;</span><br>Date: Mon, Oct 19, 2020 at 7:47 AM=\\r\\n<br>Subject: Re: Advance directive<br>To: Wayne Neidhardt &lt;<a href=3D\"ma=\\r\\nilto:wlneidhardt@gmail.com\">wlneidhardt@gmail.com</a>&gt;<br></div><br><br>=\\r\\n<div>Thank you!</div><div><br><div class=3D\"gmail_quote\"><div dir=3D\"ltr\" c=\\r\\nlass=3D\"gmail_attr\">On Sun, Oct 18, 2020 at 5:51 PM Wayne Neidhardt &lt;<a =\\r\\nhref=3D\"mailto:wlneidhardt@gmail.com\" target=3D\"_blank\">wlneidhardt@gmail.c=\\r\\nom</a>&gt; wrote:<br></div><blockquote class=3D\"gmail_quote\" style=3D\"margi=\\r\\nn:0px 0px 0px 0.8ex;border-left-width:1px;border-left-style:solid;padding-l=\\r\\neft:1ex;border-left-color:rgb(204,204,204)\"><div dir=3D\"ltr\"><div>Pages 9 a=\\r\\nnd 10 of the attached document are a very simple advance directive form.=C2=\\r\\n=A0 One of your siblings can easily help your mom fill it out and witness i=\\r\\nt.</div><div><br></div><div>Page 11 and 12 are a durable power of attorney,=\\r\\n in case she wants that too.<br></div></div>\\r\\n</blockquote></div></div>\\r\\n</div></div></div></div>\\r\\n\\r\\n--00000000000016f9f905b21d11aa--\\r\\n'),\n",
       "  b')'])"
      ]
     },
     "execution_count": 7,
     "metadata": {},
     "output_type": "execute_result"
    }
   ],
   "source": [
    "conn.fetch(b'1', 'rfc822')"
   ]
  },
  {
   "cell_type": "code",
   "execution_count": 15,
   "metadata": {},
   "outputs": [
    {
     "name": "stdout",
     "output_type": "stream",
     "text": [
      "Status: OK\n",
      "Response: [b'395', b'396', b'397', b'399', b'424', b'425']\n"
     ]
    }
   ],
   "source": [
    "status, resp = conn.search(\"UTF-8\", '(FROM \"Nick\")')\n",
    "print(f\"Status: {status}\")\n",
    "response = resp[0].split()\n",
    "print(f\"Response: {response}\")"
   ]
  },
  {
   "cell_type": "code",
   "execution_count": 18,
   "metadata": {},
   "outputs": [],
   "source": [
    "mail_id = response[0]\n",
    "status, resp = conn.fetch(mail_id, \"RFC822\")"
   ]
  },
  {
   "cell_type": "code",
   "execution_count": 19,
   "metadata": {},
   "outputs": [
    {
     "data": {
      "text/plain": [
       "'OK'"
      ]
     },
     "execution_count": 19,
     "metadata": {},
     "output_type": "execute_result"
    }
   ],
   "source": [
    "status"
   ]
  },
  {
   "cell_type": "code",
   "execution_count": 20,
   "metadata": {},
   "outputs": [
    {
     "data": {
      "text/plain": [
       "2"
      ]
     },
     "execution_count": 20,
     "metadata": {},
     "output_type": "execute_result"
    }
   ],
   "source": [
    "len(resp)"
   ]
  },
  {
   "cell_type": "code",
   "execution_count": 21,
   "metadata": {},
   "outputs": [
    {
     "data": {
      "text/plain": [
       "(b'395 (RFC822 {7911}',\n",
       " b'Delivered-To: haivu2004@gmail.com\\r\\nReceived: by 2002:a67:df13:0:0:0:0:0 with SMTP id s19csp6084285vsk;\\r\\n        Thu, 29 Jul 2021 12:38:41 -0700 (PDT)\\r\\nX-Received: by 2002:a05:6402:17c4:: with SMTP id s4mr7734638edy.101.1627587521777;\\r\\n        Thu, 29 Jul 2021 12:38:41 -0700 (PDT)\\r\\nARC-Seal: i=1; a=rsa-sha256; t=1627587521; cv=none;\\r\\n        d=google.com; s=arc-20160816;\\r\\n        b=Afhw3Fb3ZJboC+4I0Ch9SjsQx6N/DbUon5EbjS7dr+6q406DjtQySQtdgv8PQceb1u\\r\\n         JLsJogq0cuCIVoEF8FEvWLxbF/KK8uq3sF/eaDk8frx6p61EONeu4hDkrWIKhEOnTgVp\\r\\n         cfwMfys4bZNLYfYgwq1YxCt5bWoJAn4iaTssgNlqoCX0byNz5KcgOe69/lnt4nA5sqRu\\r\\n         wyN9J7zmjBO6O8QlUzwi2rEbzEXyLITE41IEhpQR1MUO+QAwVzxowp/e7fHnDy6NXhPr\\r\\n         V2Df/MfPr66x2aJ5ScJKvCN86ggYWt/PaDVDYy8ORDTbcZrEWEqHN1FhZacAhmbzDiJo\\r\\n         tYJw==\\r\\nARC-Message-Signature: i=1; a=rsa-sha256; c=relaxed/relaxed; d=google.com; s=arc-20160816;\\r\\n        h=to:subject:message-id:date:from:mime-version:dkim-signature;\\r\\n        bh=/VlVQXiQyUuQdW0z7IngQhKhtImIIieGIyNqJY/qwVE=;\\r\\n        b=mBHxGPXesXacIQcrn8zFt1wZLwoWI3ACQUuP4CMo5GT7RQzu3RlxhRKfWey5RrLJw3\\r\\n         YF/oZgxHwUEGrZeFaCRkDth7P8I6FX9jLJ8REZ1M110UI245jee/2z8+HhkpeGnR0Cyr\\r\\n         ckC+ucZYM8lU/XYhGfmXasZSOo11doKLZWQV1V0uXFd0g/+xPH4IppPpVQ/VhP1Rxnkk\\r\\n         5qnB9PjJ3pP24HQRbKGRLujY01SVeC2Y9s43aGY/nnnT0rGstbVZ4hYyRO9SI9LNTUMR\\r\\n         MSvQfDRFpl32kDGw1WVIuF8Wgle6swah+fl8g/Gs4L8BO5OZvwW+oc9b0u98y9ff0+lf\\r\\n         xcQQ==\\r\\nARC-Authentication-Results: i=1; mx.google.com;\\r\\n       dkim=pass header.i=@gmail.com header.s=20161025 header.b=\"pBMYcW/z\";\\r\\n       spf=pass (google.com: domain of nerotondo@gmail.com designates 209.85.220.41 as permitted sender) smtp.mailfrom=nerotondo@gmail.com;\\r\\n       dmarc=pass (p=NONE sp=QUARANTINE dis=NONE) header.from=gmail.com\\r\\nReturn-Path: <nerotondo@gmail.com>\\r\\nReceived: from mail-sor-f41.google.com (mail-sor-f41.google.com. [209.85.220.41])\\r\\n        by mx.google.com with SMTPS id jz3sor2698724ejb.39.2021.07.29.12.38.41\\r\\n        for <haivu2004@gmail.com>\\r\\n        (Google Transport Security);\\r\\n        Thu, 29 Jul 2021 12:38:41 -0700 (PDT)\\r\\nReceived-SPF: pass (google.com: domain of nerotondo@gmail.com designates 209.85.220.41 as permitted sender) client-ip=209.85.220.41;\\r\\nAuthentication-Results: mx.google.com;\\r\\n       dkim=pass header.i=@gmail.com header.s=20161025 header.b=\"pBMYcW/z\";\\r\\n       spf=pass (google.com: domain of nerotondo@gmail.com designates 209.85.220.41 as permitted sender) smtp.mailfrom=nerotondo@gmail.com;\\r\\n       dmarc=pass (p=NONE sp=QUARANTINE dis=NONE) header.from=gmail.com\\r\\nDKIM-Signature: v=1; a=rsa-sha256; c=relaxed/relaxed;\\r\\n        d=gmail.com; s=20161025;\\r\\n        h=mime-version:from:date:message-id:subject:to;\\r\\n        bh=/VlVQXiQyUuQdW0z7IngQhKhtImIIieGIyNqJY/qwVE=;\\r\\n        b=pBMYcW/zoFMoZ9CxYMYzc1LflDlpPAEpRpHIsmUBFT9sBEpJBeNDI1LipIiX80RNP3\\r\\n         Aw3BizJp3vVMm03omrTBIfPAQRQAHUAtz607mXV0XmHQK5GtOXmKBNaLG4MRVgDml1VT\\r\\n         mvivxhcBlZYCdwgYu5MSakgDXps2xLMWIT8XpTVPb3jrI6Bsi9bGzU0UbSWd4MLuRyfU\\r\\n         4N+ESHNBdcDf4zHfZAZu53hlNyKV/p1Xbw7ug0OfRcGWZVJ178xcUDycexxAnI68Fhby\\r\\n         3gZTtDASbBGTORPKSFA2vxcwHeOqRPhU4Ul4I6kzljHDAKJpXJIrsUWtEyNkTheW6E7K\\r\\n         DzuQ==\\r\\nX-Google-DKIM-Signature: v=1; a=rsa-sha256; c=relaxed/relaxed;\\r\\n        d=1e100.net; s=20161025;\\r\\n        h=x-gm-message-state:mime-version:from:date:message-id:subject:to;\\r\\n        bh=/VlVQXiQyUuQdW0z7IngQhKhtImIIieGIyNqJY/qwVE=;\\r\\n        b=prHBG06nQgaUCXTdhUVIh8D6hSv6V6E6oVMBH4B3BXqm8IOjYxomFG6w4L+SMTcL88\\r\\n         QzrihgdCxdsfWVRRHqrrJPS5eCU7r1klLv9zGXJngeUt5HH2SOhzaC541kXSworY6htH\\r\\n         FQ/iBMBVpjkoP1ulqKoVs5WCRcfoQWcCpQP8lN8tq2Qm4S/XlwHJogf2HMX+7oZ4EwSW\\r\\n         BAvpFjt6tVqzKUYG+VntnPzt6ef3HN3t556HPgAOG7yOJxi/ol+3TsEEvJipAjFfQ4PE\\r\\n         zKNYQoLqoPOKLpafxrRoOaj3Rx+axu84LRCuDjMPlIvGZSTK+a7R6DYodhmui0C8TSBy\\r\\n         LcIg==\\r\\nX-Gm-Message-State: AOAM533J8U7ubDih1AcX5B5spVnYzu9XyUQOkE5NM+tkaDlFflq8gB/t\\r\\n\\tkamzfF4qFhHXyakyuuio4exuZAVotiOkwRiSRCV2hP0gXKb/8Q==\\r\\nX-Google-Smtp-Source: ABdhPJwNxWtxanLHUs38RbX8nxJUQWWj+oAJf7ltlrL48mvrl2RsTuR8fIRjMyFc+rP7XSo1SAQmsOJLQ285KTyqFkQ=\\r\\nX-Received: by 2002:a17:906:4ad9:: with SMTP id u25mr6242252ejt.106.1627587521259;\\r\\n Thu, 29 Jul 2021 12:38:41 -0700 (PDT)\\r\\nMIME-Version: 1.0\\r\\nFrom: Nick Rotondo <nerotondo@gmail.com>\\r\\nDate: Thu, 29 Jul 2021 12:38:05 -0700\\r\\nMessage-ID: <CAHE2fUn2xj7B9PvMEfsJWr3KK8bonZc_1ytraVNZs1Myyo7ucA@mail.gmail.com>\\r\\nSubject: Hello!\\r\\nTo: haivu2004@gmail.com\\r\\nContent-Type: multipart/alternative; boundary=\"0000000000000bacdb05c8484061\"\\r\\n\\r\\n--0000000000000bacdb05c8484061\\r\\nContent-Type: text/plain; charset=\"UTF-8\"\\r\\n\\r\\nHi Hai,\\r\\n\\r\\nHow have you been?\\r\\n\\r\\nI joined Snap just about a month ago now, and even though I just got here I\\r\\nam seriously blown away. It\\'s such an awesome engineering culture! As well,\\r\\nthe people really seem to live their \"Kind, Smart, and Creative\" values;\\r\\neveryone is so nice and optimistic and helpful, but also intimidatingly\\r\\nintelligent. And the documentation?! Oooooh the beautiful documentation.\\r\\nHonestly it\\'s kind of jarring just how much they have it together. Which\\r\\nisn\\'t to say they have everything figured out, but I\\'m loving it!\\r\\n\\r\\nAnd that\\'s where you come in haha. Snap is growing like crazy, and we\\'re in\\r\\nneed of strong Software Engineers like yourself that are passionate about\\r\\nquality. I remember the good work you did on Live Pipeline, and I need that\\r\\nsort of technical approach to quality on my team here at Snap. Awesome\\r\\nthings are in the pipeline here; not sure if you saw, but last Thursday\\r\\nSnap announced this quarter we reached our highest YOY revenue growth and\\r\\ndaily active user growth rates in four years hitting 293 million DAU (way\\r\\nmore than Twitter!) and revenue increased 116%. If you\\'re even\\r\\nsemi-interested, I\\'d love to hop on a call and tell you more/answer\\r\\nquestions. Base pay, stock, benefits, and perks are all really *REALLY*\\r\\ncompelling. Alright alright I\\'ll stop selling haha. But seriously, let me\\r\\nknow if you\\'d like to know more.\\r\\n\\r\\nI hope you\\'re doing well and having a lovely summer.\\r\\n\\r\\nBest,\\r\\n\\r\\nNick Rotondo\\r\\n\\r\\n--0000000000000bacdb05c8484061\\r\\nContent-Type: text/html; charset=\"UTF-8\"\\r\\nContent-Transfer-Encoding: quoted-printable\\r\\n\\r\\n<div dir=3D\"ltr\">Hi Hai,<br><br>How have you been?<div><br></div><div>I joi=\\r\\nned Snap just about a month ago now, and even though I just got here I am s=\\r\\neriously blown away. It&#39;s such an awesome engineering culture! As well,=\\r\\n the people really seem to live their &quot;Kind, Smart, and Creative&quot;=\\r\\n values; everyone is so nice and optimistic and helpful, but also intimidat=\\r\\ningly intelligent. And the documentation?! Oooooh the beautiful documentati=\\r\\non. Honestly it&#39;s kind of jarring just how much they have it together. =\\r\\nWhich isn&#39;t to say they have everything figured out, but I&#39;m loving=\\r\\n it!</div><div><br></div><div>And that&#39;s where you come in haha. Snap i=\\r\\ns growing like crazy, and we&#39;re in need of strong Software Engineers li=\\r\\nke yourself that are passionate about quality. I remember the good work you=\\r\\n did on Live Pipeline, and I need that sort of technical approach to qualit=\\r\\ny on my team here at Snap. Awesome things are in the pipeline here; not sur=\\r\\ne if you saw, but last Thursday Snap announced this quarter we reached our =\\r\\nhighest YOY revenue growth and daily active user growth rates in four years=\\r\\n hitting 293 million DAU (way more than Twitter!) and revenue increased 116=\\r\\n%. If you&#39;re even semi-interested, I&#39;d love to hop on a call and te=\\r\\nll you more/answer questions. Base pay, stock, benefits, and perks are all =\\r\\nreally <b><i>REALLY</i></b> compelling. Alright alright I&#39;ll stop selli=\\r\\nng haha. But seriously, let me know if you&#39;d like to know more.</div><d=\\r\\niv><br></div><div>I hope you&#39;re doing well and having a lovely summer.<=\\r\\n/div><div><br></div><div>Best,</div><div><br></div><div>Nick Rotondo<br></d=\\r\\niv></div>\\r\\n\\r\\n--0000000000000bacdb05c8484061--\\r\\n')"
      ]
     },
     "execution_count": 21,
     "metadata": {},
     "output_type": "execute_result"
    }
   ],
   "source": [
    "resp[0]"
   ]
  },
  {
   "cell_type": "code",
   "execution_count": 22,
   "metadata": {},
   "outputs": [
    {
     "data": {
      "text/plain": [
       "b')'"
      ]
     },
     "execution_count": 22,
     "metadata": {},
     "output_type": "execute_result"
    }
   ],
   "source": [
    "resp[1]"
   ]
  },
  {
   "cell_type": "code",
   "execution_count": 26,
   "metadata": {},
   "outputs": [],
   "source": [
    "buf = b''.join(resp[0])"
   ]
  },
  {
   "cell_type": "code",
   "execution_count": 27,
   "metadata": {},
   "outputs": [
    {
     "name": "stdout",
     "output_type": "stream",
     "text": [
      "395 (RFC822 {7911}Delivered-To: haivu2004@gmail.com\n",
      "Received: by 2002:a67:df13:0:0:0:0:0 with SMTP id s19csp6084285vsk;\n",
      "        Thu, 29 Jul 2021 12:38:41 -0700 (PDT)\n",
      "X-Received: by 2002:a05:6402:17c4:: with SMTP id s4mr7734638edy.101.1627587521777;\n",
      "        Thu, 29 Jul 2021 12:38:41 -0700 (PDT)\n",
      "ARC-Seal: i=1; a=rsa-sha256; t=1627587521; cv=none;\n",
      "        d=google.com; s=arc-20160816;\n",
      "        b=Afhw3Fb3ZJboC+4I0Ch9SjsQx6N/DbUon5EbjS7dr+6q406DjtQySQtdgv8PQceb1u\n",
      "         JLsJogq0cuCIVoEF8FEvWLxbF/KK8uq3sF/eaDk8frx6p61EONeu4hDkrWIKhEOnTgVp\n",
      "         cfwMfys4bZNLYfYgwq1YxCt5bWoJAn4iaTssgNlqoCX0byNz5KcgOe69/lnt4nA5sqRu\n",
      "         wyN9J7zmjBO6O8QlUzwi2rEbzEXyLITE41IEhpQR1MUO+QAwVzxowp/e7fHnDy6NXhPr\n",
      "         V2Df/MfPr66x2aJ5ScJKvCN86ggYWt/PaDVDYy8ORDTbcZrEWEqHN1FhZacAhmbzDiJo\n",
      "         tYJw==\n",
      "ARC-Message-Signature: i=1; a=rsa-sha256; c=relaxed/relaxed; d=google.com; s=arc-20160816;\n",
      "        h=to:subject:message-id:date:from:mime-version:dkim-signature;\n",
      "        bh=/VlVQXiQyUuQdW0z7IngQhKhtImIIieGIyNqJY/qwVE=;\n",
      "        b=mBHxGPXesXacIQcrn8zFt1wZLwoWI3ACQUuP4CMo5GT7RQzu3RlxhRKfWey5RrLJw3\n",
      "         YF/oZgxHwUEGrZeFaCRkDth7P8I6FX9jLJ8REZ1M110UI245jee/2z8+HhkpeGnR0Cyr\n",
      "         ckC+ucZYM8lU/XYhGfmXasZSOo11doKLZWQV1V0uXFd0g/+xPH4IppPpVQ/VhP1Rxnkk\n",
      "         5qnB9PjJ3pP24HQRbKGRLujY01SVeC2Y9s43aGY/nnnT0rGstbVZ4hYyRO9SI9LNTUMR\n",
      "         MSvQfDRFpl32kDGw1WVIuF8Wgle6swah+fl8g/Gs4L8BO5OZvwW+oc9b0u98y9ff0+lf\n",
      "         xcQQ==\n",
      "ARC-Authentication-Results: i=1; mx.google.com;\n",
      "       dkim=pass header.i=@gmail.com header.s=20161025 header.b=\"pBMYcW/z\";\n",
      "       spf=pass (google.com: domain of nerotondo@gmail.com designates 209.85.220.41 as permitted sender) smtp.mailfrom=nerotondo@gmail.com;\n",
      "       dmarc=pass (p=NONE sp=QUARANTINE dis=NONE) header.from=gmail.com\n",
      "Return-Path: <nerotondo@gmail.com>\n",
      "Received: from mail-sor-f41.google.com (mail-sor-f41.google.com. [209.85.220.41])\n",
      "        by mx.google.com with SMTPS id jz3sor2698724ejb.39.2021.07.29.12.38.41\n",
      "        for <haivu2004@gmail.com>\n",
      "        (Google Transport Security);\n",
      "        Thu, 29 Jul 2021 12:38:41 -0700 (PDT)\n",
      "Received-SPF: pass (google.com: domain of nerotondo@gmail.com designates 209.85.220.41 as permitted sender) client-ip=209.85.220.41;\n",
      "Authentication-Results: mx.google.com;\n",
      "       dkim=pass header.i=@gmail.com header.s=20161025 header.b=\"pBMYcW/z\";\n",
      "       spf=pass (google.com: domain of nerotondo@gmail.com designates 209.85.220.41 as permitted sender) smtp.mailfrom=nerotondo@gmail.com;\n",
      "       dmarc=pass (p=NONE sp=QUARANTINE dis=NONE) header.from=gmail.com\n",
      "DKIM-Signature: v=1; a=rsa-sha256; c=relaxed/relaxed;\n",
      "        d=gmail.com; s=20161025;\n",
      "        h=mime-version:from:date:message-id:subject:to;\n",
      "        bh=/VlVQXiQyUuQdW0z7IngQhKhtImIIieGIyNqJY/qwVE=;\n",
      "        b=pBMYcW/zoFMoZ9CxYMYzc1LflDlpPAEpRpHIsmUBFT9sBEpJBeNDI1LipIiX80RNP3\n",
      "         Aw3BizJp3vVMm03omrTBIfPAQRQAHUAtz607mXV0XmHQK5GtOXmKBNaLG4MRVgDml1VT\n",
      "         mvivxhcBlZYCdwgYu5MSakgDXps2xLMWIT8XpTVPb3jrI6Bsi9bGzU0UbSWd4MLuRyfU\n",
      "         4N+ESHNBdcDf4zHfZAZu53hlNyKV/p1Xbw7ug0OfRcGWZVJ178xcUDycexxAnI68Fhby\n",
      "         3gZTtDASbBGTORPKSFA2vxcwHeOqRPhU4Ul4I6kzljHDAKJpXJIrsUWtEyNkTheW6E7K\n",
      "         DzuQ==\n",
      "X-Google-DKIM-Signature: v=1; a=rsa-sha256; c=relaxed/relaxed;\n",
      "        d=1e100.net; s=20161025;\n",
      "        h=x-gm-message-state:mime-version:from:date:message-id:subject:to;\n",
      "        bh=/VlVQXiQyUuQdW0z7IngQhKhtImIIieGIyNqJY/qwVE=;\n",
      "        b=prHBG06nQgaUCXTdhUVIh8D6hSv6V6E6oVMBH4B3BXqm8IOjYxomFG6w4L+SMTcL88\n",
      "         QzrihgdCxdsfWVRRHqrrJPS5eCU7r1klLv9zGXJngeUt5HH2SOhzaC541kXSworY6htH\n",
      "         FQ/iBMBVpjkoP1ulqKoVs5WCRcfoQWcCpQP8lN8tq2Qm4S/XlwHJogf2HMX+7oZ4EwSW\n",
      "         BAvpFjt6tVqzKUYG+VntnPzt6ef3HN3t556HPgAOG7yOJxi/ol+3TsEEvJipAjFfQ4PE\n",
      "         zKNYQoLqoPOKLpafxrRoOaj3Rx+axu84LRCuDjMPlIvGZSTK+a7R6DYodhmui0C8TSBy\n",
      "         LcIg==\n",
      "X-Gm-Message-State: AOAM533J8U7ubDih1AcX5B5spVnYzu9XyUQOkE5NM+tkaDlFflq8gB/t\n",
      "\tkamzfF4qFhHXyakyuuio4exuZAVotiOkwRiSRCV2hP0gXKb/8Q==\n",
      "X-Google-Smtp-Source: ABdhPJwNxWtxanLHUs38RbX8nxJUQWWj+oAJf7ltlrL48mvrl2RsTuR8fIRjMyFc+rP7XSo1SAQmsOJLQ285KTyqFkQ=\n",
      "X-Received: by 2002:a17:906:4ad9:: with SMTP id u25mr6242252ejt.106.1627587521259;\n",
      " Thu, 29 Jul 2021 12:38:41 -0700 (PDT)\n",
      "MIME-Version: 1.0\n",
      "From: Nick Rotondo <nerotondo@gmail.com>\n",
      "Date: Thu, 29 Jul 2021 12:38:05 -0700\n",
      "Message-ID: <CAHE2fUn2xj7B9PvMEfsJWr3KK8bonZc_1ytraVNZs1Myyo7ucA@mail.gmail.com>\n",
      "Subject: Hello!\n",
      "To: haivu2004@gmail.com\n",
      "Content-Type: multipart/alternative; boundary=\"0000000000000bacdb05c8484061\"\n",
      "\n",
      "--0000000000000bacdb05c8484061\n",
      "Content-Type: text/plain; charset=\"UTF-8\"\n",
      "\n",
      "Hi Hai,\n",
      "\n",
      "How have you been?\n",
      "\n",
      "I joined Snap just about a month ago now, and even though I just got here I\n",
      "am seriously blown away. It's such an awesome engineering culture! As well,\n",
      "the people really seem to live their \"Kind, Smart, and Creative\" values;\n",
      "everyone is so nice and optimistic and helpful, but also intimidatingly\n",
      "intelligent. And the documentation?! Oooooh the beautiful documentation.\n",
      "Honestly it's kind of jarring just how much they have it together. Which\n",
      "isn't to say they have everything figured out, but I'm loving it!\n",
      "\n",
      "And that's where you come in haha. Snap is growing like crazy, and we're in\n",
      "need of strong Software Engineers like yourself that are passionate about\n",
      "quality. I remember the good work you did on Live Pipeline, and I need that\n",
      "sort of technical approach to quality on my team here at Snap. Awesome\n",
      "things are in the pipeline here; not sure if you saw, but last Thursday\n",
      "Snap announced this quarter we reached our highest YOY revenue growth and\n",
      "daily active user growth rates in four years hitting 293 million DAU (way\n",
      "more than Twitter!) and revenue increased 116%. If you're even\n",
      "semi-interested, I'd love to hop on a call and tell you more/answer\n",
      "questions. Base pay, stock, benefits, and perks are all really *REALLY*\n",
      "compelling. Alright alright I'll stop selling haha. But seriously, let me\n",
      "know if you'd like to know more.\n",
      "\n",
      "I hope you're doing well and having a lovely summer.\n",
      "\n",
      "Best,\n",
      "\n",
      "Nick Rotondo\n",
      "\n",
      "--0000000000000bacdb05c8484061\n",
      "Content-Type: text/html; charset=\"UTF-8\"\n",
      "Content-Transfer-Encoding: quoted-printable\n",
      "\n",
      "<div dir=3D\"ltr\">Hi Hai,<br><br>How have you been?<div><br></div><div>I joi=\n",
      "ned Snap just about a month ago now, and even though I just got here I am s=\n",
      "eriously blown away. It&#39;s such an awesome engineering culture! As well,=\n",
      " the people really seem to live their &quot;Kind, Smart, and Creative&quot;=\n",
      " values; everyone is so nice and optimistic and helpful, but also intimidat=\n",
      "ingly intelligent. And the documentation?! Oooooh the beautiful documentati=\n",
      "on. Honestly it&#39;s kind of jarring just how much they have it together. =\n",
      "Which isn&#39;t to say they have everything figured out, but I&#39;m loving=\n",
      " it!</div><div><br></div><div>And that&#39;s where you come in haha. Snap i=\n",
      "s growing like crazy, and we&#39;re in need of strong Software Engineers li=\n",
      "ke yourself that are passionate about quality. I remember the good work you=\n",
      " did on Live Pipeline, and I need that sort of technical approach to qualit=\n",
      "y on my team here at Snap. Awesome things are in the pipeline here; not sur=\n",
      "e if you saw, but last Thursday Snap announced this quarter we reached our =\n",
      "highest YOY revenue growth and daily active user growth rates in four years=\n",
      " hitting 293 million DAU (way more than Twitter!) and revenue increased 116=\n",
      "%. If you&#39;re even semi-interested, I&#39;d love to hop on a call and te=\n",
      "ll you more/answer questions. Base pay, stock, benefits, and perks are all =\n",
      "really <b><i>REALLY</i></b> compelling. Alright alright I&#39;ll stop selli=\n",
      "ng haha. But seriously, let me know if you&#39;d like to know more.</div><d=\n",
      "iv><br></div><div>I hope you&#39;re doing well and having a lovely summer.<=\n",
      "/div><div><br></div><div>Best,</div><div><br></div><div>Nick Rotondo<br></d=\n",
      "iv></div>\n",
      "\n",
      "--0000000000000bacdb05c8484061--\n",
      "\n"
     ]
    }
   ],
   "source": [
    "print(buf.decode(\"utf-8\"))"
   ]
  },
  {
   "cell_type": "code",
   "execution_count": 28,
   "metadata": {},
   "outputs": [
    {
     "data": {
      "text/plain": [
       "<imaplib.IMAP4_SSL at 0xb34ee030>"
      ]
     },
     "execution_count": 28,
     "metadata": {},
     "output_type": "execute_result"
    }
   ],
   "source": [
    "conn"
   ]
  },
  {
   "cell_type": "code",
   "execution_count": 41,
   "metadata": {},
   "outputs": [],
   "source": [
    "def fetch(imap, msgid: bytes):\n",
    "    status, resp = imap.fetch(msgid, \"rfc822\")\n",
    "    print(f\">>> status: {status}\")\n",
    "    print(f\">>> resp:\\n{resp}\")"
   ]
  },
  {
   "cell_type": "code",
   "execution_count": 43,
   "metadata": {},
   "outputs": [
    {
     "name": "stdout",
     "output_type": "stream",
     "text": [
      ">>> status: OK\n",
      ">>> resp:\n",
      "[(b'425 (RFC822 {18516}', b'Delivered-To: haivu2004@gmail.com\\r\\nReceived: by 2002:a67:df13:0:0:0:0:0 with SMTP id s19csp35485vsk;\\r\\n        Wed, 11 Aug 2021 19:08:23 -0700 (PDT)\\r\\nX-Received: by 2002:a05:6402:230d:: with SMTP id l13mr2573157eda.10.1628734102958;\\r\\n        Wed, 11 Aug 2021 19:08:22 -0700 (PDT)\\r\\nARC-Seal: i=1; a=rsa-sha256; t=1628734102; cv=none;\\r\\n        d=google.com; s=arc-20160816;\\r\\n        b=CusuZNykN6S3Fai7ZZhqjfWuge+4e1lu7k8R2VaX4/rEtH8Njw3HEASUEB9XaOVAJY\\r\\n         tYJU14opG4d8F3YIdHnnTV0VHgbL0QGtxKLbF/F4CThiTNG1GQw6diQusKbvoLpNe7oS\\r\\n         KflcvLyaD4x4B4v0HtsEJNft8eG+XLibAnIbEkovscHLdz+tADtUhWWA7q/vzpi23sqL\\r\\n         fxrQ7aZ5XBvaOLG8QeYgRDUoRMrr3DjCEcm4Z4aAUEATODwIax/q/TlX2CxVcFOtzHXi\\r\\n         66UnYk1jSP0jXH0TSDjQMP1aNMh/4EibLpcT5iVym8rYS+M23nlU/CdBRR56afKNaZJl\\r\\n         Od9Q==\\r\\nARC-Message-Signature: i=1; a=rsa-sha256; c=relaxed/relaxed; d=google.com; s=arc-20160816;\\r\\n        h=to:subject:message-id:date:from:in-reply-to:references:mime-version\\r\\n         :dkim-signature;\\r\\n        bh=adyYG9vX1ftMjQnITUuXy3aoLmps19r450P28P/Rjfo=;\\r\\n        b=nCJLVSZQpcLgZE5b7COEeK/co/3FBeiCYh6QUNj9TXlIGksd/QC2FhO8e5WJzEFch6\\r\\n         K6DPcRJlJhf7iNwKwaoQh6ltgVZwDX6B/5+d974RkVj85rO5lEXHcP2xptRgn0ri08C7\\r\\n         4yvMNUvB/WNVxz9+3nskih3LHukYq9ZlYwVY963tjOkSiE20pp2OoZYtGAAGe6/HbQKN\\r\\n         +mo7An5N270/RDJJIL3s29VcWi406RFIXml6X69gI5AyE38rW0bO7cSaHn/O+XMuEqc6\\r\\n         J7kK/N3iKMSW1HLK233V7AJx19yaWJqB3rIO0kTudQ/vlaPjQloABaUvRCxQPxOZoLjq\\r\\n         IawA==\\r\\nARC-Authentication-Results: i=1; mx.google.com;\\r\\n       dkim=pass header.i=@gmail.com header.s=20161025 header.b=VQotdYaf;\\r\\n       spf=pass (google.com: domain of nerotondo@gmail.com designates 209.85.220.41 as permitted sender) smtp.mailfrom=nerotondo@gmail.com;\\r\\n       dmarc=pass (p=NONE sp=QUARANTINE dis=NONE) header.from=gmail.com\\r\\nReturn-Path: <nerotondo@gmail.com>\\r\\nReceived: from mail-sor-f41.google.com (mail-sor-f41.google.com. [209.85.220.41])\\r\\n        by mx.google.com with SMTPS id l13sor651743ejz.54.2021.08.11.19.08.22\\r\\n        for <haivu2004@gmail.com>\\r\\n        (Google Transport Security);\\r\\n        Wed, 11 Aug 2021 19:08:22 -0700 (PDT)\\r\\nReceived-SPF: pass (google.com: domain of nerotondo@gmail.com designates 209.85.220.41 as permitted sender) client-ip=209.85.220.41;\\r\\nAuthentication-Results: mx.google.com;\\r\\n       dkim=pass header.i=@gmail.com header.s=20161025 header.b=VQotdYaf;\\r\\n       spf=pass (google.com: domain of nerotondo@gmail.com designates 209.85.220.41 as permitted sender) smtp.mailfrom=nerotondo@gmail.com;\\r\\n       dmarc=pass (p=NONE sp=QUARANTINE dis=NONE) header.from=gmail.com\\r\\nDKIM-Signature: v=1; a=rsa-sha256; c=relaxed/relaxed;\\r\\n        d=gmail.com; s=20161025;\\r\\n        h=mime-version:references:in-reply-to:from:date:message-id:subject:to;\\r\\n        bh=adyYG9vX1ftMjQnITUuXy3aoLmps19r450P28P/Rjfo=;\\r\\n        b=VQotdYafmuCBXzxD1ZkT2ICYmqncRNWQN44HzP6tFt9hnh+7Gxgdl6d99uPe1BHF1x\\r\\n         sjo3LdKRhem4A+aT1V58a91uzhnhg4AtPaKoLXZkD/64wgyx8+Zu9SA8gHAxNkr82/VK\\r\\n         VhQejeTxNKVZGnEksWYhBuRaocQ/kO/FpGcRUxJr7i1bQCNRbcsPulSfQZvOfX0s/Z0s\\r\\n         jF20Avfwv8c3nL9uFkwZcrXzELQFoTo4cA7Hzxw/Tlu66um9uYapzumgvV+XOX9iJBtS\\r\\n         +OnUTz5Ctnqe32Ew0Fhu5JR/RxHeNYbKlKf0iEU2FWQPVJTF5kuQ/uemWsEcakwtGaJF\\r\\n         1fxQ==\\r\\nX-Google-DKIM-Signature: v=1; a=rsa-sha256; c=relaxed/relaxed;\\r\\n        d=1e100.net; s=20161025;\\r\\n        h=x-gm-message-state:mime-version:references:in-reply-to:from:date\\r\\n         :message-id:subject:to;\\r\\n        bh=adyYG9vX1ftMjQnITUuXy3aoLmps19r450P28P/Rjfo=;\\r\\n        b=Ha3YJcf3TpY3kRHGOI8FsKUk/NWqsdKLmBVLqnhSC4tbXfkC2/3XEAmuGT6ejb8hWE\\r\\n         0d/H82FGcByLqx/4qINk9Owncr/8XiHEbvjoarr/zZWqGY6b8E2VHihGgZiE/GsixjaQ\\r\\n         SHgMIYARFSC9DatU/45pMfSaPhdu7dD3rTgpmxvF5Rr2VtWUf5mAJ+2gLBoQmOVWxqgg\\r\\n         62SdvIrbW1Wn8hT9f34w9w78hSwRWwmi+Nn+I8DrldMHnumcoVODJbeN6xUMjoW4okNk\\r\\n         8k76mq3FQaZwtgtx5cv4zIj5p0sJZUObwJkgSUKUTeTFTuhyb3L04pU1/pOc6ooAR9AT\\r\\n         ogDQ==\\r\\nX-Gm-Message-State: AOAM532Q96aeln38rx/ydfswy2W0azbJ7FJNvfrBMPQKFDQxNT1I9gyj\\r\\n\\tbAjcY7kHMG8oHlSAJZr0E3XJQAXonbD4XKkEElak0qQ5\\r\\nX-Google-Smtp-Source: ABdhPJwgmCsQnNtouHm40fkzATlb99SZEdwEQK1CjEMivyrH40dO9VA3O46tLt9pGY3b874NCSAfT3MCZhl/7pqahek=\\r\\nX-Received: by 2002:a17:906:140e:: with SMTP id p14mr1473768ejc.235.1628734102520;\\r\\n Wed, 11 Aug 2021 19:08:22 -0700 (PDT)\\r\\nMIME-Version: 1.0\\r\\nReferences: <CAHE2fUn2xj7B9PvMEfsJWr3KK8bonZc_1ytraVNZs1Myyo7ucA@mail.gmail.com>\\r\\n <CANc4OX62K1jke_OxCZKsgCpniJOO-+5LEAG_HAWTbscnJLcwHA@mail.gmail.com>\\r\\n <CANc4OX68Um3Jp1zmn6xZNv=UcLH2yKQv9avNZZcHX1xeNujajQ@mail.gmail.com>\\r\\n <CAHE2fU=ax_U185xjrUjQo-PYVjU4ujDA3uJkpfexKP0dVd5RXw@mail.gmail.com>\\r\\n <CANc4OX5iTAQpUjnhZ4ZGXKyM02m20cqWJCVuZCVysguqd+L8LQ@mail.gmail.com>\\r\\n <CAHE2fUkfj30NJ2ZDAzpWCBDgKy-ms1k7gUOPmYq-qNYpGrD3hA@mail.gmail.com>\\r\\n <CANc4OX4x+H6nkf3OAB0099XxXMS12bPauaBt+Di7ibpBBPUdyQ@mail.gmail.com>\\r\\n <CAHE2fUmgXBbD7DGgE1WCbH7nNt86HOk-2F+QkLa58W3yVFq+Yw@mail.gmail.com>\\r\\n <CANc4OX6qdh-CxNPqVtG-jT4jgf8Yw9zWZ6Zh3p0HemxfC9DWBA@mail.gmail.com>\\r\\n <CAHE2fUmk=HTWCLxJvzNM-vqmTQO3pD_vpiS5zOu9zSzhDEUjHQ@mail.gmail.com> <CANc4OX5mPdsDn3T4gwmyJhftgVieZBJRAFEWFB0f8NuHwL1R6w@mail.gmail.com>\\r\\nIn-Reply-To: <CANc4OX5mPdsDn3T4gwmyJhftgVieZBJRAFEWFB0f8NuHwL1R6w@mail.gmail.com>\\r\\nFrom: Nick Rotondo <nerotondo@gmail.com>\\r\\nDate: Wed, 11 Aug 2021 19:08:11 -0700\\r\\nMessage-ID: <CAHE2fUk2NUWdHjFcWbqGL-Qgb=E0qZFHdz6c7okEUQC_RbbuCQ@mail.gmail.com>\\r\\nSubject: Re: Hello!\\r\\nTo: Hai Vu <haivu2004@gmail.com>\\r\\nContent-Type: multipart/alternative; boundary=\"0000000000009d468f05c953358d\"\\r\\n\\r\\n--0000000000009d468f05c953358d\\r\\nContent-Type: text/plain; charset=\"UTF-8\"\\r\\n\\r\\nOh no! Haha\\r\\n\\r\\nWell sounds like you have it handled. Let me know if I can help.\\r\\n\\r\\nBest,\\r\\n\\r\\nNick\\r\\n\\r\\nOn Wed, Aug 11, 2021 at 7:06 PM Hai Vu <haivu2004@gmail.com> wrote:\\r\\n\\r\\n> Hello Nick, I made a mistake and missed my interview with Sydney on Monday\\r\\n> 8-2. We scheduled another one for 8-16. I will keep you in the loop.\\r\\n> Hai\\r\\n>\\r\\n>\\r\\n> On Wed, Aug 11, 2021 at 6:51 PM Nick Rotondo <nerotondo@gmail.com> wrote:\\r\\n>\\r\\n>> Good evening, Hai!\\r\\n>>\\r\\n>> I haven\\'t heard any updates from my end. Everything moving along OK? Keep\\r\\n>> me posted.\\r\\n>>\\r\\n>> Nick\\r\\n>>\\r\\n>> On Thu, Jul 29, 2021 at 5:31 PM Hai Vu <haivu2004@gmail.com> wrote:\\r\\n>>\\r\\n>>> I\\'m here!\\r\\n>>>\\r\\n>>> On Thu, Jul 29, 2021 at 4:11 PM Nick Rotondo <nerotondo@gmail.com>\\r\\n>>> wrote:\\r\\n>>>\\r\\n>>>> Ok great. See you on the hangout soon!\\r\\n>>>>\\r\\n>>>> On Thu, Jul 29, 2021 at 4:08 PM Hai Vu <haivu2004@gmail.com> wrote:\\r\\n>>>>\\r\\n>>>>> Hangouts works for me.\\r\\n>>>>>\\r\\n>>>>>\\r\\n>>>>> On Thu, Jul 29, 2021 at 3:04 PM Nick Rotondo <nerotondo@gmail.com>\\r\\n>>>>> wrote:\\r\\n>>>>>\\r\\n>>>>>> Excellent! Would you prefer chatting on the phone or a video call via\\r\\n>>>>>> Google Hangouts?\\r\\n>>>>>>\\r\\n>>>>>> Looking forward to it!\\r\\n>>>>>>\\r\\n>>>>>> On Thu, Jul 29, 2021 at 3:01 PM Hai Vu <haivu2004@gmail.com> wrote:\\r\\n>>>>>>\\r\\n>>>>>>> 5:30 works fine. Thank you, Nick.\\r\\n>>>>>>>\\r\\n>>>>>>>\\r\\n>>>>>>> On Thu, Jul 29, 2021 at 3:00 PM Nick Rotondo <nerotondo@gmail.com>\\r\\n>>>>>>> wrote:\\r\\n>>>>>>>\\r\\n>>>>>>>> Thanks so much for the response! Excited that I piqued your\\r\\n>>>>>>>> curiosity!\\r\\n>>>>>>>>\\r\\n>>>>>>>> I\\'m in meetings until 5:30pm today. Would 5:30pm or some time after\\r\\n>>>>>>>> work for you today? Otherwise I have some availability tomorrow if you\\'d\\r\\n>>>>>>>> prefer to chat then.\\r\\n>>>>>>>>\\r\\n>>>>>>>> My cell is (425) 577-9428.\\r\\n>>>>>>>>\\r\\n>>>>>>>> Looking forward to reconnecting!\\r\\n>>>>>>>>\\r\\n>>>>>>>> Nick\\r\\n>>>>>>>>\\r\\n>>>>>>>> On Thu, Jul 29, 2021 at 2:27 PM Hai Vu <haivu2004@gmail.com> wrote:\\r\\n>>>>>>>>\\r\\n>>>>>>>>> By the way, please provide your number so I can white list it: too\\r\\n>>>>>>>>> many people wants to sell me things, or want to give me money (tons of them\\r\\n>>>>>>>>> in Nigeria, waiting for me).\\r\\n>>>>>>>>>\\r\\n>>>>>>>>> On Thu, Jul 29, 2021 at 2:24 PM Hai Vu <haivu2004@gmail.com>\\r\\n>>>>>>>>> wrote:\\r\\n>>>>>>>>>\\r\\n>>>>>>>>>> Hello Nick,\\r\\n>>>>>>>>>> It is nice to reconnect. I am interested and would like to learn\\r\\n>>>>>>>>>> more. My number is 425-770-0690. Today, I am free and hope to hear from you.\\r\\n>>>>>>>>>> Hai\\r\\n>>>>>>>>>>\\r\\n>>>>>>>>>> On Thu, Jul 29, 2021 at 12:38 PM Nick Rotondo <\\r\\n>>>>>>>>>> nerotondo@gmail.com> wrote:\\r\\n>>>>>>>>>>\\r\\n>>>>>>>>>>> Hi Hai,\\r\\n>>>>>>>>>>>\\r\\n>>>>>>>>>>> How have you been?\\r\\n>>>>>>>>>>>\\r\\n>>>>>>>>>>> I joined Snap just about a month ago now, and even though I just\\r\\n>>>>>>>>>>> got here I am seriously blown away. It\\'s such an awesome engineering\\r\\n>>>>>>>>>>> culture! As well, the people really seem to live their \"Kind, Smart, and\\r\\n>>>>>>>>>>> Creative\" values; everyone is so nice and optimistic and helpful, but also\\r\\n>>>>>>>>>>> intimidatingly intelligent. And the documentation?! Oooooh the beautiful\\r\\n>>>>>>>>>>> documentation. Honestly it\\'s kind of jarring just how much they have it\\r\\n>>>>>>>>>>> together. Which isn\\'t to say they have everything figured out, but I\\'m\\r\\n>>>>>>>>>>> loving it!\\r\\n>>>>>>>>>>>\\r\\n>>>>>>>>>>> And that\\'s where you come in haha. Snap is growing like crazy,\\r\\n>>>>>>>>>>> and we\\'re in need of strong Software Engineers like yourself that are\\r\\n>>>>>>>>>>> passionate about quality. I remember the good work you did on Live\\r\\n>>>>>>>>>>> Pipeline, and I need that sort of technical approach to quality on my team\\r\\n>>>>>>>>>>> here at Snap. Awesome things are in the pipeline here; not sure if you saw,\\r\\n>>>>>>>>>>> but last Thursday Snap announced this quarter we reached our highest YOY\\r\\n>>>>>>>>>>> revenue growth and daily active user growth rates in four years hitting 293\\r\\n>>>>>>>>>>> million DAU (way more than Twitter!) and revenue increased 116%. If you\\'re\\r\\n>>>>>>>>>>> even semi-interested, I\\'d love to hop on a call and tell you more/answer\\r\\n>>>>>>>>>>> questions. Base pay, stock, benefits, and perks are all really\\r\\n>>>>>>>>>>> *REALLY* compelling. Alright alright I\\'ll stop selling haha.\\r\\n>>>>>>>>>>> But seriously, let me know if you\\'d like to know more.\\r\\n>>>>>>>>>>>\\r\\n>>>>>>>>>>> I hope you\\'re doing well and having a lovely summer.\\r\\n>>>>>>>>>>>\\r\\n>>>>>>>>>>> Best,\\r\\n>>>>>>>>>>>\\r\\n>>>>>>>>>>> Nick Rotondo\\r\\n>>>>>>>>>>>\\r\\n>>>>>>>>>>\\r\\n\\r\\n--0000000000009d468f05c953358d\\r\\nContent-Type: text/html; charset=\"UTF-8\"\\r\\nContent-Transfer-Encoding: quoted-printable\\r\\n\\r\\n<div dir=3D\"auto\">Oh no! Haha</div><div dir=3D\"auto\"><br></div><div dir=3D\"=\\r\\nauto\">Well sounds like you have it handled. Let me know if I can help.=C2=\\r\\n=A0</div><div dir=3D\"auto\"><br></div><div dir=3D\"auto\">Best,</div><div dir=\\r\\n=3D\"auto\"><br></div><div dir=3D\"auto\">Nick=C2=A0</div><div><br><div class=\\r\\n=3D\"gmail_quote\"><div dir=3D\"ltr\" class=3D\"gmail_attr\">On Wed, Aug 11, 2021=\\r\\n at 7:06 PM Hai Vu &lt;<a href=3D\"mailto:haivu2004@gmail.com\">haivu2004@gma=\\r\\nil.com</a>&gt; wrote:<br></div><blockquote class=3D\"gmail_quote\" style=3D\"m=\\r\\nargin:0px 0px 0px 0.8ex;border-left-width:1px;border-left-style:solid;paddi=\\r\\nng-left:1ex;border-left-color:rgb(204,204,204)\"><div dir=3D\"auto\">Hello Nic=\\r\\nk, I made a mistake and missed my interview with Sydney on Monday 8-2. We s=\\r\\ncheduled another one for 8-16. I will keep you in the loop.=C2=A0</div><div=\\r\\n dir=3D\"auto\">Hai</div><div dir=3D\"auto\"><br></div><div><br><div class=3D\"g=\\r\\nmail_quote\"><div dir=3D\"ltr\" class=3D\"gmail_attr\">On Wed, Aug 11, 2021 at 6=\\r\\n:51 PM Nick Rotondo &lt;<a href=3D\"mailto:nerotondo@gmail.com\" target=3D\"_b=\\r\\nlank\">nerotondo@gmail.com</a>&gt; wrote:<br></div><blockquote class=3D\"gmai=\\r\\nl_quote\" style=3D\"margin:0px 0px 0px 0.8ex;border-left-width:1px;border-lef=\\r\\nt-style:solid;padding-left:1ex;border-left-color:rgb(204,204,204)\"><div dir=\\r\\n=3D\"ltr\">Good evening, Hai!<div><br></div><div>I haven&#39;t heard any upda=\\r\\ntes from my end. Everything moving along OK? Keep me posted.</div></div><di=\\r\\nv dir=3D\"ltr\"><div><br></div><div>Nick</div></div><br><div class=3D\"gmail_q=\\r\\nuote\"><div dir=3D\"ltr\" class=3D\"gmail_attr\">On Thu, Jul 29, 2021 at 5:31 PM=\\r\\n Hai Vu &lt;<a href=3D\"mailto:haivu2004@gmail.com\" target=3D\"_blank\">haivu2=\\r\\n004@gmail.com</a>&gt; wrote:<br></div><blockquote class=3D\"gmail_quote\" sty=\\r\\nle=3D\"margin:0px 0px 0px 0.8ex;border-left-width:1px;border-left-style:soli=\\r\\nd;padding-left:1ex;border-left-color:rgb(204,204,204)\"><div dir=3D\"ltr\">I&#=\\r\\n39;m here!=C2=A0<br></div><br><div class=3D\"gmail_quote\"><div dir=3D\"ltr\" c=\\r\\nlass=3D\"gmail_attr\">On Thu, Jul 29, 2021 at 4:11 PM Nick Rotondo &lt;<a hre=\\r\\nf=3D\"mailto:nerotondo@gmail.com\" target=3D\"_blank\">nerotondo@gmail.com</a>&=\\r\\ngt; wrote:<br></div><blockquote class=3D\"gmail_quote\" style=3D\"margin:0px 0=\\r\\npx 0px 0.8ex;border-left-width:1px;border-left-style:solid;padding-left:1ex=\\r\\n;border-left-color:rgb(204,204,204)\"><div dir=3D\"ltr\"><div dir=3D\"auto\">Ok =\\r\\ngreat. See you on the hangout soon!</div></div><div><br><div class=3D\"gmail=\\r\\n_quote\"><div dir=3D\"ltr\" class=3D\"gmail_attr\">On Thu, Jul 29, 2021 at 4:08 =\\r\\nPM Hai Vu &lt;<a href=3D\"mailto:haivu2004@gmail.com\" target=3D\"_blank\">haiv=\\r\\nu2004@gmail.com</a>&gt; wrote:<br></div><blockquote class=3D\"gmail_quote\" s=\\r\\ntyle=3D\"margin:0px 0px 0px 0.8ex;border-left-width:1px;border-left-style:so=\\r\\nlid;padding-left:1ex;border-left-color:rgb(204,204,204)\"><div dir=3D\"auto\">=\\r\\nHangouts works for me.</div><div dir=3D\"auto\"><br></div><div><br><div class=\\r\\n=3D\"gmail_quote\"><div dir=3D\"ltr\" class=3D\"gmail_attr\">On Thu, Jul 29, 2021=\\r\\n at 3:04 PM Nick Rotondo &lt;<a href=3D\"mailto:nerotondo@gmail.com\" target=\\r\\n=3D\"_blank\">nerotondo@gmail.com</a>&gt; wrote:<br></div><blockquote class=\\r\\n=3D\"gmail_quote\" style=3D\"margin:0px 0px 0px 0.8ex;border-left-width:1px;bo=\\r\\nrder-left-style:solid;padding-left:1ex;border-left-color:rgb(204,204,204)\">=\\r\\n<div dir=3D\"ltr\">Excellent! Would you prefer chatting on the phone or a vid=\\r\\neo call via Google Hangouts?<div><br></div><div>Looking forward to it!</div=\\r\\n></div><br><div class=3D\"gmail_quote\"><div dir=3D\"ltr\" class=3D\"gmail_attr\"=\\r\\n>On Thu, Jul 29, 2021 at 3:01 PM Hai Vu &lt;<a href=3D\"mailto:haivu2004@gma=\\r\\nil.com\" target=3D\"_blank\">haivu2004@gmail.com</a>&gt; wrote:<br></div><bloc=\\r\\nkquote class=3D\"gmail_quote\" style=3D\"margin:0px 0px 0px 0.8ex;border-left-=\\r\\nwidth:1px;border-left-style:solid;padding-left:1ex;border-left-color:rgb(20=\\r\\n4,204,204)\"><div dir=3D\"ltr\">5:30 works fine. Thank you, Nick.<div><br></di=\\r\\nv></div><br><div class=3D\"gmail_quote\"><div dir=3D\"ltr\" class=3D\"gmail_attr=\\r\\n\">On Thu, Jul 29, 2021 at 3:00 PM Nick Rotondo &lt;<a href=3D\"mailto:neroto=\\r\\nndo@gmail.com\" target=3D\"_blank\">nerotondo@gmail.com</a>&gt; wrote:<br></di=\\r\\nv><blockquote class=3D\"gmail_quote\" style=3D\"margin:0px 0px 0px 0.8ex;borde=\\r\\nr-left-width:1px;border-left-style:solid;padding-left:1ex;border-left-color=\\r\\n:rgb(204,204,204)\"><div dir=3D\"ltr\">Thanks so much for the response! Excite=\\r\\nd that I piqued your curiosity!<div><br></div><div>I&#39;m in meetings unti=\\r\\nl 5:30pm today. Would 5:30pm or some time after work for you today? Otherwi=\\r\\nse=C2=A0I have some availability tomorrow if you&#39;d prefer to chat then.=\\r\\n</div><div><br></div><div>My cell is (425) 577-9428.</div><div><br></div><d=\\r\\niv>Looking forward to reconnecting!</div><div><br></div><div>Nick</div></di=\\r\\nv><br><div class=3D\"gmail_quote\"><div dir=3D\"ltr\" class=3D\"gmail_attr\">On T=\\r\\nhu, Jul 29, 2021 at 2:27 PM Hai Vu &lt;<a href=3D\"mailto:haivu2004@gmail.co=\\r\\nm\" target=3D\"_blank\">haivu2004@gmail.com</a>&gt; wrote:<br></div><blockquot=\\r\\ne class=3D\"gmail_quote\" style=3D\"margin:0px 0px 0px 0.8ex;border-left-width=\\r\\n:1px;border-left-style:solid;padding-left:1ex;border-left-color:rgb(204,204=\\r\\n,204)\"><div dir=3D\"ltr\">By the way, please provide your number so I can whi=\\r\\nte list it: too many people wants to sell me things, or want to give me mon=\\r\\ney (tons of them in Nigeria, waiting for me).</div><br><div class=3D\"gmail_=\\r\\nquote\"><div dir=3D\"ltr\" class=3D\"gmail_attr\">On Thu, Jul 29, 2021 at 2:24 P=\\r\\nM Hai Vu &lt;<a href=3D\"mailto:haivu2004@gmail.com\" target=3D\"_blank\">haivu=\\r\\n2004@gmail.com</a>&gt; wrote:<br></div><blockquote class=3D\"gmail_quote\" st=\\r\\nyle=3D\"margin:0px 0px 0px 0.8ex;border-left-width:1px;border-left-style:sol=\\r\\nid;padding-left:1ex;border-left-color:rgb(204,204,204)\"><div dir=3D\"ltr\">He=\\r\\nllo Nick,<div>It is nice to reconnect. I am interested and would like to le=\\r\\narn more. My number is 425-770-0690. Today, I am free and hope to hear from=\\r\\n you.</div><div>Hai</div></div><br><div class=3D\"gmail_quote\"><div dir=3D\"l=\\r\\ntr\" class=3D\"gmail_attr\">On Thu, Jul 29, 2021 at 12:38 PM Nick Rotondo &lt;=\\r\\n<a href=3D\"mailto:nerotondo@gmail.com\" target=3D\"_blank\">nerotondo@gmail.co=\\r\\nm</a>&gt; wrote:<br></div><blockquote class=3D\"gmail_quote\" style=3D\"margin=\\r\\n:0px 0px 0px 0.8ex;border-left-width:1px;border-left-style:solid;padding-le=\\r\\nft:1ex;border-left-color:rgb(204,204,204)\"><div dir=3D\"ltr\">Hi Hai,<br><br>=\\r\\nHow have you been?<div><br></div><div>I joined Snap just about a month ago =\\r\\nnow, and even though I just got here I am seriously blown away. It&#39;s su=\\r\\nch an awesome engineering culture! As well, the people really seem to live =\\r\\ntheir &quot;Kind, Smart, and Creative&quot; values; everyone is so nice and=\\r\\n optimistic and helpful, but also intimidatingly intelligent. And the docum=\\r\\nentation?! Oooooh the beautiful documentation. Honestly it&#39;s kind of ja=\\r\\nrring just how much they have it together. Which isn&#39;t to say they have=\\r\\n everything figured out, but I&#39;m loving it!</div><div><br></div><div>An=\\r\\nd that&#39;s where you come in haha. Snap is growing like crazy, and we&#39=\\r\\n;re in need of strong Software Engineers like yourself that are passionate =\\r\\nabout quality. I remember the good work you did on Live Pipeline, and I nee=\\r\\nd that sort of technical approach to quality on my team here at Snap. Aweso=\\r\\nme things are in the pipeline here; not sure if you saw, but last Thursday =\\r\\nSnap announced this quarter we reached our highest YOY revenue growth and d=\\r\\naily active user growth rates in four years hitting 293 million DAU (way mo=\\r\\nre than Twitter!) and revenue increased 116%. If you&#39;re even semi-inter=\\r\\nested, I&#39;d love to hop on a call and tell you more/answer questions. Ba=\\r\\nse pay, stock, benefits, and perks are all really <b><i>REALLY</i></b> comp=\\r\\nelling. Alright alright I&#39;ll stop selling haha. But seriously, let me k=\\r\\nnow if you&#39;d like to know more.</div><div><br></div><div>I hope you&#39=\\r\\n;re doing well and having a lovely summer.</div><div><br></div><div>Best,</=\\r\\ndiv><div><br></div><div>Nick Rotondo<br></div></div>\\r\\n</blockquote></div>\\r\\n</blockquote></div>\\r\\n</blockquote></div>\\r\\n</blockquote></div>\\r\\n</blockquote></div>\\r\\n</blockquote></div></div>\\r\\n</blockquote></div></div>\\r\\n</blockquote></div>\\r\\n</blockquote></div>\\r\\n</blockquote></div></div>\\r\\n</blockquote></div></div>\\r\\n\\r\\n--0000000000009d468f05c953358d--\\r\\n'), b')']\n"
     ]
    }
   ],
   "source": [
    "fetch(conn, b'425')"
   ]
  },
  {
   "cell_type": "code",
   "execution_count": null,
   "metadata": {},
   "outputs": [],
   "source": []
  }
 ],
 "metadata": {
  "kernelspec": {
   "display_name": "Python 3",
   "language": "python",
   "name": "python3"
  },
  "language_info": {
   "codemirror_mode": {
    "name": "ipython",
    "version": 3
   },
   "file_extension": ".py",
   "mimetype": "text/x-python",
   "name": "python",
   "nbconvert_exporter": "python",
   "pygments_lexer": "ipython3",
   "version": "3.7.3"
  }
 },
 "nbformat": 4,
 "nbformat_minor": 4
}
