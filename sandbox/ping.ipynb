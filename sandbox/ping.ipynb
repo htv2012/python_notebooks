{
 "cells": [
  {
   "cell_type": "code",
   "execution_count": 22,
   "id": "50f581d0-759a-4b31-9d05-760c91cbaebd",
   "metadata": {},
   "outputs": [
    {
     "name": "stderr",
     "output_type": "stream",
     "text": [
      "2024-02-07 14:22:22,102 | DEBUG | ThreadPoolExecutor-14_0 | ping               | ping 192.168.1.1\n",
      "2024-02-07 14:22:22,103 | DEBUG | ThreadPoolExecutor-14_1 | ping               | ping 192.168.1.2\n",
      "2024-02-07 14:22:22,103 | DEBUG | ThreadPoolExecutor-14_2 | ping               | ping 192.168.1.3\n",
      "2024-02-07 14:22:22,104 | DEBUG | ThreadPoolExecutor-14_3 | ping               | ping 192.168.1.10\n",
      "2024-02-07 14:22:22,104 | DEBUG | ThreadPoolExecutor-14_4 | ping               | ping 192.168.1.20\n",
      "2024-02-07 14:22:22,105 | DEBUG | ThreadPoolExecutor-14_5 | ping               | ping 192.168.64.1\n",
      "2024-02-07 14:22:24,139 | DEBUG | ThreadPoolExecutor-14_5 | ping               | return ('192.168.64.1', True)\n",
      "2024-02-07 14:22:36,121 | DEBUG | ThreadPoolExecutor-14_0 | ping               | return ('192.168.1.1', False)\n",
      "2024-02-07 14:22:36,132 | DEBUG | ThreadPoolExecutor-14_1 | ping               | return ('192.168.1.2', False)\n",
      "2024-02-07 14:22:36,133 | DEBUG | ThreadPoolExecutor-14_2 | ping               | return ('192.168.1.3', False)\n",
      "2024-02-07 14:22:36,136 | DEBUG | ThreadPoolExecutor-14_3 | ping               | return ('192.168.1.10', False)\n",
      "2024-02-07 14:22:36,143 | DEBUG | ThreadPoolExecutor-14_4 | ping               | return ('192.168.1.20', False)\n"
     ]
    },
    {
     "name": "stdout",
     "output_type": "stream",
     "text": [
      "192.168.1.1: offline\n",
      "192.168.1.2: offline\n",
      "192.168.1.3: offline\n",
      "192.168.1.10: offline\n",
      "192.168.1.20: offline\n",
      "192.168.64.1: online\n"
     ]
    }
   ],
   "source": [
    "import concurrent.futures\n",
    "import random\n",
    "import time\n",
    "import logging\n",
    "import subprocess\n",
    "\n",
    "logging.basicConfig(\n",
    "    level=logging.DEBUG,\n",
    "    format=\"%(asctime)s | %(levelname)s | %(threadName)-15s | %(funcName)-18s | %(message)s\",\n",
    ")\n",
    "\n",
    "\n",
    "def slackoff(slack_time=0):\n",
    "    if slack_time == 0:\n",
    "        slack_time = random.randint(2, 10)\n",
    "    time.sleep(slack_time)\n",
    "    \n",
    "\n",
    "def ping(ip):\n",
    "    logging.debug(\"ping %s\", ip)\n",
    "    completed_process = subprocess.run(\n",
    "        [\"ping\", \"-c2\", \"-i\", \"2\", ip],\n",
    "        text=True,\n",
    "        capture_output=True,\n",
    "        check=False,\n",
    "    )\n",
    "    result = ip, completed_process.returncode == 0\n",
    "    logging.debug(\"return %r\", result)\n",
    "    return result\n",
    "\n",
    "\n",
    "IPS = [\n",
    "    \"192.168.1.1\",\n",
    "    \"192.168.1.2\",\n",
    "    \"192.168.1.3\",\n",
    "    \"192.168.1.10\",\n",
    "    \"192.168.1.20\",\n",
    "    \"192.168.64.1\",\n",
    "]\n",
    "with concurrent.futures.ThreadPoolExecutor() as executor:\n",
    "    out = executor.map(ping, IPS)\n",
    "\n",
    "for ip, is_online in out:\n",
    "    print(f\"{ip}: {'online' if is_online else 'offline'}\")"
   ]
  },
  {
   "cell_type": "code",
   "execution_count": null,
   "id": "4a920548-efd1-4032-b745-fd575f961990",
   "metadata": {},
   "outputs": [],
   "source": []
  }
 ],
 "metadata": {
  "kernelspec": {
   "display_name": "Python 3 (ipykernel)",
   "language": "python",
   "name": "python3"
  },
  "language_info": {
   "codemirror_mode": {
    "name": "ipython",
    "version": 3
   },
   "file_extension": ".py",
   "mimetype": "text/x-python",
   "name": "python",
   "nbconvert_exporter": "python",
   "pygments_lexer": "ipython3",
   "version": "3.11.3"
  }
 },
 "nbformat": 4,
 "nbformat_minor": 5
}
