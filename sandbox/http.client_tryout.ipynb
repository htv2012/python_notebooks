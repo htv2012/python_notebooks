{
 "cells": [
  {
   "cell_type": "markdown",
   "metadata": {},
   "source": [
    "# http.client"
   ]
  },
  {
   "cell_type": "code",
   "execution_count": 9,
   "metadata": {},
   "outputs": [],
   "source": [
    "import http.client\n",
    "import http.cookiejar"
   ]
  },
  {
   "cell_type": "code",
   "execution_count": 2,
   "metadata": {},
   "outputs": [],
   "source": [
    "conn = http.client.HTTPSConnection(\"www.google.com\")"
   ]
  },
  {
   "cell_type": "code",
   "execution_count": 3,
   "metadata": {},
   "outputs": [],
   "source": [
    "conn.request(\"GET\", \"/\")"
   ]
  },
  {
   "cell_type": "code",
   "execution_count": 4,
   "metadata": {},
   "outputs": [],
   "source": [
    "resp = conn.getresponse()"
   ]
  },
  {
   "cell_type": "markdown",
   "metadata": {},
   "source": [
    "## Explore: Cookie"
   ]
  },
  {
   "cell_type": "code",
   "execution_count": 5,
   "metadata": {},
   "outputs": [
    {
     "data": {
      "text/plain": [
       "[('Date', 'Fri, 01 Apr 2022 06:09:42 GMT'),\n",
       " ('Expires', '-1'),\n",
       " ('Cache-Control', 'private, max-age=0'),\n",
       " ('Content-Type', 'text/html; charset=ISO-8859-1'),\n",
       " ('P3P', 'CP=\"This is not a P3P policy! See g.co/p3phelp for more info.\"'),\n",
       " ('Server', 'gws'),\n",
       " ('X-XSS-Protection', '0'),\n",
       " ('X-Frame-Options', 'SAMEORIGIN'),\n",
       " ('Set-Cookie',\n",
       "  '1P_JAR=2022-04-01-06; expires=Sun, 01-May-2022 06:09:42 GMT; path=/; domain=.google.com; Secure'),\n",
       " ('Set-Cookie',\n",
       "  'NID=511=YAWLndN_tlaMLgB75S9Qh3GH_DJ76je7UFMSbPBrq79IoggWrlDweI25lzIVL9MdTrs1dj5JGc9c9qvlYU_Qo3ifm-ZK6tyY8PBqzkZi1UQ_mLyHyblRdXBu9rX_FurrfsPNA_QizU1uxQdgR91J9zeiDqZx1tAR3h_NWc51bXE; expires=Sat, 01-Oct-2022 06:09:42 GMT; path=/; domain=.google.com; HttpOnly'),\n",
       " ('Alt-Svc',\n",
       "  'h3=\":443\"; ma=2592000,h3-29=\":443\"; ma=2592000,h3-Q050=\":443\"; ma=2592000,h3-Q046=\":443\"; ma=2592000,h3-Q043=\":443\"; ma=2592000,quic=\":443\"; ma=2592000; v=\"46,43\"'),\n",
       " ('Accept-Ranges', 'none'),\n",
       " ('Vary', 'Accept-Encoding'),\n",
       " ('Transfer-Encoding', 'chunked')]"
      ]
     },
     "execution_count": 5,
     "metadata": {},
     "output_type": "execute_result"
    }
   ],
   "source": [
    "resp.getheaders()"
   ]
  },
  {
   "cell_type": "code",
   "execution_count": 6,
   "metadata": {},
   "outputs": [],
   "source": [
    "cookies = resp.getheader(\"Set-Cookie\")"
   ]
  },
  {
   "cell_type": "code",
   "execution_count": 7,
   "metadata": {},
   "outputs": [
    {
     "name": "stdout",
     "output_type": "stream",
     "text": [
      "1P_JAR=2022-04-01-06; expires=Sun, 01-May-2022 06:09:42 GMT; path=/; domain=.google.com; Secure, NID=511=YAWLndN_tlaMLgB75S9Qh3GH_DJ76je7UFMSbPBrq79IoggWrlDweI25lzIVL9MdTrs1dj5JGc9c9qvlYU_Qo3ifm-ZK6tyY8PBqzkZi1UQ_mLyHyblRdXBu9rX_FurrfsPNA_QizU1uxQdgR91J9zeiDqZx1tAR3h_NWc51bXE; expires=Sat, 01-Oct-2022 06:09:42 GMT; path=/; domain=.google.com; HttpOnly\n"
     ]
    }
   ],
   "source": [
    "print(cookies)"
   ]
  },
  {
   "cell_type": "code",
   "execution_count": 8,
   "metadata": {},
   "outputs": [
    {
     "name": "stdout",
     "output_type": "stream",
     "text": [
      "1P_JAR=2022-04-01-06\n",
      "expires=Sun, 01-May-2022 06:09:42 GMT\n",
      "path=/\n",
      "domain=.google.com\n",
      "Secure, NID=511=YAWLndN_tlaMLgB75S9Qh3GH_DJ76je7UFMSbPBrq79IoggWrlDweI25lzIVL9MdTrs1dj5JGc9c9qvlYU_Qo3ifm-ZK6tyY8PBqzkZi1UQ_mLyHyblRdXBu9rX_FurrfsPNA_QizU1uxQdgR91J9zeiDqZx1tAR3h_NWc51bXE\n",
      "expires=Sat, 01-Oct-2022 06:09:42 GMT\n",
      "path=/\n",
      "domain=.google.com\n",
      "HttpOnly\n"
     ]
    }
   ],
   "source": [
    "print(cookies.replace(\"; \", \"\\n\"))"
   ]
  },
  {
   "cell_type": "code",
   "execution_count": 10,
   "metadata": {},
   "outputs": [
    {
     "ename": "AttributeError",
     "evalue": "module 'http.cookiejar' has no attribute 'extract_cookies'",
     "output_type": "error",
     "traceback": [
      "\u001b[0;31m---------------------------------------------------------------------------\u001b[0m",
      "\u001b[0;31mAttributeError\u001b[0m                            Traceback (most recent call last)",
      "\u001b[0;32m<ipython-input-10-56fc8f6bfddc>\u001b[0m in \u001b[0;36m<module>\u001b[0;34m\u001b[0m\n\u001b[0;32m----> 1\u001b[0;31m \u001b[0mhttp\u001b[0m\u001b[0;34m.\u001b[0m\u001b[0mcookiejar\u001b[0m\u001b[0;34m.\u001b[0m\u001b[0mextract_cookies\u001b[0m\u001b[0;34m(\u001b[0m\u001b[0mresp\u001b[0m\u001b[0;34m,\u001b[0m \u001b[0mconn\u001b[0m\u001b[0;34m.\u001b[0m\u001b[0mrequest\u001b[0m\u001b[0;34m)\u001b[0m\u001b[0;34m\u001b[0m\u001b[0;34m\u001b[0m\u001b[0m\n\u001b[0m",
      "\u001b[0;31mAttributeError\u001b[0m: module 'http.cookiejar' has no attribute 'extract_cookies'"
     ]
    }
   ],
   "source": [
    "http.cookiejar.extract_cookies(resp, conn.request)"
   ]
  },
  {
   "cell_type": "code",
   "execution_count": null,
   "metadata": {},
   "outputs": [],
   "source": []
  }
 ],
 "metadata": {
  "kernelspec": {
   "display_name": "Python 3",
   "language": "python",
   "name": "python3"
  },
  "language_info": {
   "codemirror_mode": {
    "name": "ipython",
    "version": 3
   },
   "file_extension": ".py",
   "mimetype": "text/x-python",
   "name": "python",
   "nbconvert_exporter": "python",
   "pygments_lexer": "ipython3",
   "version": "3.7.3"
  }
 },
 "nbformat": 4,
 "nbformat_minor": 4
}
