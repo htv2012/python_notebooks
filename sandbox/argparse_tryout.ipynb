{
 "cells": [
  {
   "cell_type": "code",
   "execution_count": 1,
   "metadata": {},
   "outputs": [
    {
     "data": {
      "text/plain": [
       "_StoreTrueAction(option_strings=['-v', '--verbose'], dest='verbose', nargs=0, const=True, default=False, type=None, choices=None, help=None, metavar=None)"
      ]
     },
     "execution_count": 1,
     "metadata": {},
     "output_type": "execute_result"
    }
   ],
   "source": [
    "import argparse\n",
    "parser = argparse.ArgumentParser()\n",
    "arg = parser.add_argument(\"-v\", \"--verbose\", default=False, action=\"store_true\")\n",
    "arg"
   ]
  },
  {
   "cell_type": "code",
   "execution_count": 2,
   "metadata": {},
   "outputs": [
    {
     "data": {
      "text/plain": [
       "{'option_strings': ['-v', '--verbose'],\n",
       " 'dest': 'verbose',\n",
       " 'nargs': 0,\n",
       " 'const': True,\n",
       " 'default': False,\n",
       " 'type': None,\n",
       " 'choices': None,\n",
       " 'required': False,\n",
       " 'help': None,\n",
       " 'metavar': None,\n",
       " 'container': <argparse._ArgumentGroup at 0xb3d7ba50>}"
      ]
     },
     "execution_count": 2,
     "metadata": {},
     "output_type": "execute_result"
    }
   ],
   "source": [
    "vars(arg)"
   ]
  },
  {
   "cell_type": "code",
   "execution_count": 3,
   "metadata": {},
   "outputs": [
    {
     "data": {
      "text/plain": [
       "Namespace(verbose=True)"
      ]
     },
     "execution_count": 3,
     "metadata": {},
     "output_type": "execute_result"
    }
   ],
   "source": [
    "opt = parser.parse_args(['-v'])\n",
    "opt"
   ]
  },
  {
   "cell_type": "code",
   "execution_count": 4,
   "metadata": {},
   "outputs": [
    {
     "name": "stdout",
     "output_type": "stream",
     "text": [
      "Help on Namespace in module argparse object:\n",
      "\n",
      "class Namespace(_AttributeHolder)\n",
      " |  Namespace(**kwargs)\n",
      " |  \n",
      " |  Simple object for storing attributes.\n",
      " |  \n",
      " |  Implements equality by attribute names and values, and provides a simple\n",
      " |  string representation.\n",
      " |  \n",
      " |  Method resolution order:\n",
      " |      Namespace\n",
      " |      _AttributeHolder\n",
      " |      builtins.object\n",
      " |  \n",
      " |  Methods defined here:\n",
      " |  \n",
      " |  __contains__(self, key)\n",
      " |  \n",
      " |  __eq__(self, other)\n",
      " |      Return self==value.\n",
      " |  \n",
      " |  __init__(self, **kwargs)\n",
      " |      Initialize self.  See help(type(self)) for accurate signature.\n",
      " |  \n",
      " |  ----------------------------------------------------------------------\n",
      " |  Data and other attributes defined here:\n",
      " |  \n",
      " |  __hash__ = None\n",
      " |  \n",
      " |  ----------------------------------------------------------------------\n",
      " |  Methods inherited from _AttributeHolder:\n",
      " |  \n",
      " |  __repr__(self)\n",
      " |      Return repr(self).\n",
      " |  \n",
      " |  ----------------------------------------------------------------------\n",
      " |  Data descriptors inherited from _AttributeHolder:\n",
      " |  \n",
      " |  __dict__\n",
      " |      dictionary for instance variables (if defined)\n",
      " |  \n",
      " |  __weakref__\n",
      " |      list of weak references to the object (if defined)\n",
      "\n"
     ]
    }
   ],
   "source": [
    "help(opt)"
   ]
  },
  {
   "cell_type": "code",
   "execution_count": 5,
   "metadata": {},
   "outputs": [
    {
     "data": {
      "text/plain": [
       "{'verbose': True}"
      ]
     },
     "execution_count": 5,
     "metadata": {},
     "output_type": "execute_result"
    }
   ],
   "source": [
    "vars(opt)"
   ]
  },
  {
   "cell_type": "code",
   "execution_count": 6,
   "metadata": {},
   "outputs": [
    {
     "data": {
      "text/plain": [
       "True"
      ]
     },
     "execution_count": 6,
     "metadata": {},
     "output_type": "execute_result"
    }
   ],
   "source": [
    "\"verbose\" in opt"
   ]
  },
  {
   "cell_type": "code",
   "execution_count": 7,
   "metadata": {},
   "outputs": [
    {
     "data": {
      "text/plain": [
       "True"
      ]
     },
     "execution_count": 7,
     "metadata": {},
     "output_type": "execute_result"
    }
   ],
   "source": [
    "hasattr(opt, \"verbose\")"
   ]
  },
  {
   "cell_type": "code",
   "execution_count": 8,
   "metadata": {},
   "outputs": [],
   "source": [
    "def iterattr(namespace):\n",
    "    return vars(namespace).items()"
   ]
  },
  {
   "cell_type": "code",
   "execution_count": 9,
   "metadata": {},
   "outputs": [
    {
     "name": "stdout",
     "output_type": "stream",
     "text": [
      "verbose: True\n"
     ]
    }
   ],
   "source": [
    "for k, v in iterattr(opt):\n",
    "    print(f\"{k}: {v}\")"
   ]
  },
  {
   "cell_type": "code",
   "execution_count": 10,
   "metadata": {},
   "outputs": [
    {
     "data": {
      "text/plain": [
       "(Namespace(verbose=True), ['-f', 'out.txt', 'filename'])"
      ]
     },
     "execution_count": 10,
     "metadata": {},
     "output_type": "execute_result"
    }
   ],
   "source": [
    "parser.parse_known_args(['-v', '-f', 'out.txt', 'filename'])"
   ]
  },
  {
   "cell_type": "markdown",
   "metadata": {},
   "source": [
    "# Sub Parsers"
   ]
  },
  {
   "cell_type": "code",
   "execution_count": 12,
   "metadata": {},
   "outputs": [],
   "source": [
    "parser = argparse.ArgumentParser()"
   ]
  },
  {
   "cell_type": "code",
   "execution_count": 13,
   "metadata": {},
   "outputs": [],
   "source": [
    "actions = parser.add_subparsers(dest=\"plugins\")"
   ]
  },
  {
   "cell_type": "code",
   "execution_count": 14,
   "metadata": {},
   "outputs": [
    {
     "data": {
      "text/plain": [
       "_SubParsersAction(option_strings=[], dest='plugins', nargs='A...', const=None, default=None, type=None, choices={}, help=None, metavar=None)"
      ]
     },
     "execution_count": 14,
     "metadata": {},
     "output_type": "execute_result"
    }
   ],
   "source": [
    "actions"
   ]
  },
  {
   "cell_type": "code",
   "execution_count": 15,
   "metadata": {},
   "outputs": [
    {
     "name": "stdout",
     "output_type": "stream",
     "text": [
      "Help on _SubParsersAction in module argparse object:\n",
      "\n",
      "class _SubParsersAction(Action)\n",
      " |  _SubParsersAction(option_strings, prog, parser_class, dest='==SUPPRESS==', required=False, help=None, metavar=None)\n",
      " |  \n",
      " |  Information about how to convert command line strings to Python objects.\n",
      " |  \n",
      " |  Action objects are used by an ArgumentParser to represent the information\n",
      " |  needed to parse a single argument from one or more strings from the\n",
      " |  command line. The keyword arguments to the Action constructor are also\n",
      " |  all attributes of Action instances.\n",
      " |  \n",
      " |  Keyword Arguments:\n",
      " |  \n",
      " |      - option_strings -- A list of command-line option strings which\n",
      " |          should be associated with this action.\n",
      " |  \n",
      " |      - dest -- The name of the attribute to hold the created object(s)\n",
      " |  \n",
      " |      - nargs -- The number of command-line arguments that should be\n",
      " |          consumed. By default, one argument will be consumed and a single\n",
      " |          value will be produced.  Other values include:\n",
      " |              - N (an integer) consumes N arguments (and produces a list)\n",
      " |              - '?' consumes zero or one arguments\n",
      " |              - '*' consumes zero or more arguments (and produces a list)\n",
      " |              - '+' consumes one or more arguments (and produces a list)\n",
      " |          Note that the difference between the default and nargs=1 is that\n",
      " |          with the default, a single value will be produced, while with\n",
      " |          nargs=1, a list containing a single value will be produced.\n",
      " |  \n",
      " |      - const -- The value to be produced if the option is specified and the\n",
      " |          option uses an action that takes no values.\n",
      " |  \n",
      " |      - default -- The value to be produced if the option is not specified.\n",
      " |  \n",
      " |      - type -- A callable that accepts a single string argument, and\n",
      " |          returns the converted value.  The standard Python types str, int,\n",
      " |          float, and complex are useful examples of such callables.  If None,\n",
      " |          str is used.\n",
      " |  \n",
      " |      - choices -- A container of values that should be allowed. If not None,\n",
      " |          after a command-line argument has been converted to the appropriate\n",
      " |          type, an exception will be raised if it is not a member of this\n",
      " |          collection.\n",
      " |  \n",
      " |      - required -- True if the action must always be specified at the\n",
      " |          command line. This is only meaningful for optional command-line\n",
      " |          arguments.\n",
      " |  \n",
      " |      - help -- The help string describing the argument.\n",
      " |  \n",
      " |      - metavar -- The name to be used for the option's argument with the\n",
      " |          help string. If None, the 'dest' value will be used as the name.\n",
      " |  \n",
      " |  Method resolution order:\n",
      " |      _SubParsersAction\n",
      " |      Action\n",
      " |      _AttributeHolder\n",
      " |      builtins.object\n",
      " |  \n",
      " |  Methods defined here:\n",
      " |  \n",
      " |  __call__(self, parser, namespace, values, option_string=None)\n",
      " |      Call self as a function.\n",
      " |  \n",
      " |  __init__(self, option_strings, prog, parser_class, dest='==SUPPRESS==', required=False, help=None, metavar=None)\n",
      " |      Initialize self.  See help(type(self)) for accurate signature.\n",
      " |  \n",
      " |  add_parser(self, name, **kwargs)\n",
      " |  \n",
      " |  ----------------------------------------------------------------------\n",
      " |  Methods inherited from _AttributeHolder:\n",
      " |  \n",
      " |  __repr__(self)\n",
      " |      Return repr(self).\n",
      " |  \n",
      " |  ----------------------------------------------------------------------\n",
      " |  Data descriptors inherited from _AttributeHolder:\n",
      " |  \n",
      " |  __dict__\n",
      " |      dictionary for instance variables (if defined)\n",
      " |  \n",
      " |  __weakref__\n",
      " |      list of weak references to the object (if defined)\n",
      "\n"
     ]
    }
   ],
   "source": [
    "help(actions)"
   ]
  },
  {
   "cell_type": "code",
   "execution_count": 16,
   "metadata": {},
   "outputs": [
    {
     "name": "stdout",
     "output_type": "stream",
     "text": [
      "Help on method add_parser in module argparse:\n",
      "\n",
      "add_parser(name, **kwargs) method of argparse._SubParsersAction instance\n",
      "\n"
     ]
    }
   ],
   "source": [
    "help(actions.add_parser)"
   ]
  },
  {
   "cell_type": "code",
   "execution_count": null,
   "metadata": {},
   "outputs": [],
   "source": []
  }
 ],
 "metadata": {
  "kernelspec": {
   "display_name": "Python 3",
   "language": "python",
   "name": "python3"
  },
  "language_info": {
   "codemirror_mode": {
    "name": "ipython",
    "version": 3
   },
   "file_extension": ".py",
   "mimetype": "text/x-python",
   "name": "python",
   "nbconvert_exporter": "python",
   "pygments_lexer": "ipython3",
   "version": "3.7.3"
  }
 },
 "nbformat": 4,
 "nbformat_minor": 4
}
