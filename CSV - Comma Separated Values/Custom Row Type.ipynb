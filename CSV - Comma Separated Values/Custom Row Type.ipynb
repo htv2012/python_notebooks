{
 "cells": [
  {
   "cell_type": "markdown",
   "metadata": {},
   "source": [
    "# Introduction\n",
    "\n",
    "Sometimes when working with CSV data, the users might want to convert each row into a custom type. This article discuss some aspect of this procedure. In the next sections, we will be working with the following custom type:"
   ]
  },
  {
   "cell_type": "code",
   "execution_count": 1,
   "metadata": {},
   "outputs": [],
   "source": [
    "import csv\n",
    "import io\n",
    "\n",
    "class User:\n",
    "    def __init__(self, uid, alias, shell):\n",
    "        self.uid = int(uid)\n",
    "        self.alias = alias\n",
    "        self.shell = shell\n",
    "    \n",
    "    @classmethod\n",
    "    def from_tuple(cls, tup):\n",
    "        return cls(*tup)\n",
    "    \n",
    "    @classmethod\n",
    "    def from_dict(cls, dic):\n",
    "        return cls(**dic)\n",
    "    \n",
    "    def as_tuple(self):\n",
    "        return (self.uid, self.alias, self.shell)\n",
    "    \n",
    "    def as_dict(self):\n",
    "        return dict(uid=self.uid, alias=self.alias, shell=self.shell)\n",
    "    \n",
    "    def __repr__(self):\n",
    "        return f'User(uid={self.uid!r}, alias={self.alias!r}, shell={self.shell!r})'\n",
    "\n",
    "#\n",
    "# CSV data sources\n",
    "#\n",
    "with_header = \"\"\"\n",
    "uid,alias,shell\n",
    "501,karen,bash\n",
    "502,john,tcsh\"\"\".strip().splitlines()\n",
    "\n",
    "without_header = \"\"\"\n",
    "501,karen,bash\n",
    "502,john,tcsh\"\"\".strip().splitlines()"
   ]
  },
  {
   "cell_type": "markdown",
   "metadata": {},
   "source": [
    "# Map csv.reader to Custom Type"
   ]
  },
  {
   "cell_type": "code",
   "execution_count": 2,
   "metadata": {},
   "outputs": [
    {
     "name": "stdout",
     "output_type": "stream",
     "text": [
      "User(uid=501, alias='karen', shell='bash')\n",
      "User(uid=502, alias='john', shell='tcsh')\n"
     ]
    }
   ],
   "source": [
    "for row in map(User.from_tuple, csv.reader(without_header)):\n",
    "    print(row)"
   ]
  },
  {
   "cell_type": "markdown",
   "metadata": {},
   "source": [
    "# Map csv.DictReader to Custom Type"
   ]
  },
  {
   "cell_type": "code",
   "execution_count": 3,
   "metadata": {},
   "outputs": [
    {
     "name": "stdout",
     "output_type": "stream",
     "text": [
      "User(uid=501, alias='karen', shell='bash')\n",
      "User(uid=502, alias='john', shell='tcsh')\n"
     ]
    }
   ],
   "source": [
    "for row in map(User.from_dict, csv.DictReader(with_header)):\n",
    "    print(row)"
   ]
  },
  {
   "cell_type": "markdown",
   "metadata": {},
   "source": [
    "# Writing to csv.writer"
   ]
  },
  {
   "cell_type": "code",
   "execution_count": 4,
   "metadata": {},
   "outputs": [
    {
     "name": "stdout",
     "output_type": "stream",
     "text": [
      "501,karen,bash\r\n",
      "502,john,tcsh\r\n",
      "\n"
     ]
    }
   ],
   "source": [
    "user1 = User(501, 'karen', 'bash')\n",
    "user2 = User(502, 'john', 'tcsh')\n",
    "\n",
    "buffer = io.StringIO()\n",
    "writer = csv.writer(buffer)\n",
    "\n",
    "writer.writerow(user1.as_tuple())\n",
    "writer.writerow(user2.as_tuple())\n",
    "\n",
    "print(buffer.getvalue())"
   ]
  },
  {
   "cell_type": "markdown",
   "metadata": {},
   "source": [
    "# Writing to csv.DictWriter\n"
   ]
  },
  {
   "cell_type": "code",
   "execution_count": 5,
   "metadata": {},
   "outputs": [
    {
     "name": "stdout",
     "output_type": "stream",
     "text": [
      "501,karen,bash\r\n",
      "502,john,tcsh\r\n",
      "\n"
     ]
    }
   ],
   "source": [
    "user1 = User(501, 'karen', 'bash')\n",
    "user2 = User(502, 'john', 'tcsh')\n",
    "\n",
    "buffer = io.StringIO()\n",
    "writer = csv.DictWriter(buffer, ['uid', 'alias', 'shell'])\n",
    "\n",
    "writer.writerow(user1.as_dict())\n",
    "writer.writerow(user2.as_dict())\n",
    "\n",
    "print(buffer.getvalue())"
   ]
  }
 ],
 "metadata": {
  "kernelspec": {
   "display_name": "Python 3",
   "language": "python",
   "name": "python3"
  },
  "language_info": {
   "codemirror_mode": {
    "name": "ipython",
    "version": 3
   },
   "file_extension": ".py",
   "mimetype": "text/x-python",
   "name": "python",
   "nbconvert_exporter": "python",
   "pygments_lexer": "ipython3",
   "version": "3.7.3"
  }
 },
 "nbformat": 4,
 "nbformat_minor": 2
}
