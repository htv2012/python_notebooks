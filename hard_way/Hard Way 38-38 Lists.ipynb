{
 "cells": [
  {
   "cell_type": "markdown",
   "metadata": {},
   "source": [
    "A list is a collection of data groupped together, each data object is called an *element* and we can access them sequentially or randomly (using index). Here is an interactive session to demonstrate some characteristics of a list:"
   ]
  },
  {
   "cell_type": "code",
   "execution_count": 1,
   "metadata": {
    "collapsed": false
   },
   "outputs": [
    {
     "name": "stdout",
     "output_type": "stream",
     "text": [
      "Band: ['Mickey', 'Michael', 'Peter', 'Davy']\n"
     ]
    }
   ],
   "source": [
    "band = ['Mickey', 'Michael', 'Peter', 'Davy']\n",
    "print('Band:', band)"
   ]
  },
  {
   "cell_type": "code",
   "execution_count": 2,
   "metadata": {
    "collapsed": false
   },
   "outputs": [
    {
     "name": "stdout",
     "output_type": "stream",
     "text": [
      "Mickey\n",
      "Michael\n",
      "Peter\n",
      "Davy\n"
     ]
    }
   ],
   "source": [
    "# Access sequentially via a loop\n",
    "for member in band:\n",
    "    print(member)"
   ]
  },
  {
   "cell_type": "code",
   "execution_count": 3,
   "metadata": {
    "collapsed": false
   },
   "outputs": [
    {
     "name": "stdout",
     "output_type": "stream",
     "text": [
      "First: member Mickey\n",
      "Second member: Michael\n",
      "Last member: Davy\n",
      "Next-to-last member: Peter\n"
     ]
    }
   ],
   "source": [
    "# Access randomly\n",
    "print('First: member', band[0])          # 0-base\n",
    "print('Second member:', band[1])\n",
    "print('Last member:', band[-1])          # -1 == last\n",
    "print('Next-to-last member:', band[-2])  # -2 == next to last"
   ]
  },
  {
   "cell_type": "code",
   "execution_count": 4,
   "metadata": {
    "collapsed": false
   },
   "outputs": [
    {
     "name": "stdout",
     "output_type": "stream",
     "text": [
      "['Chimpanzee', 'Mickey', 'Michael', 'Peter', 'Davy', 'Orangutan']\n"
     ]
    }
   ],
   "source": [
    "# Adding members\n",
    "band.append('Orangutan')      # Append to the end (right)\n",
    "band.insert(0, 'Chimpanzee')  # Insert before index 0 (left)\n",
    "print(band)"
   ]
  },
  {
   "cell_type": "code",
   "execution_count": 5,
   "metadata": {
    "collapsed": false
   },
   "outputs": [
    {
     "name": "stdout",
     "output_type": "stream",
     "text": [
      "Before: ['Chimpanzee', 'Mickey', 'Michael', 'Peter', 'Davy', 'Orangutan']\n",
      "After: ['Chimpanzee', 'Mickey', 'Peter', 'Davy']\n"
     ]
    }
   ],
   "source": [
    "# Delete members\n",
    "print('Before:', band)\n",
    "del band[-1]\n",
    "del band[2]\n",
    "print('After:', band)"
   ]
  },
  {
   "cell_type": "code",
   "execution_count": 6,
   "metadata": {
    "collapsed": false
   },
   "outputs": [
    {
     "name": "stdout",
     "output_type": "stream",
     "text": [
      "list1: [1, 2, 3]\n",
      "list2: [4, 5, 6]\n",
      "list1 + list2: [1, 2, 3, 4, 5, 6]\n",
      "list1 after extending [9, 10]: [1, 2, 3, 9, 10]\n"
     ]
    }
   ],
   "source": [
    "# Concatenate two lists together\n",
    "list1 = [1, 2, 3]\n",
    "list2 = [4, 5, 6]\n",
    "\n",
    "print('list1:', list1)\n",
    "print('list2:', list2)\n",
    "print('list1 + list2:', list1 + list2)\n",
    "\n",
    "list1.extend([9, 10])\n",
    "print('list1 after extending [9, 10]:', list1)"
   ]
  },
  {
   "cell_type": "markdown",
   "metadata": {},
   "source": [
    "# Indexing and Slicing\n",
    "\n",
    "### Index\n",
    "\n",
    "We can address a single element in a list using an integer index. Python understands both positive- and negative indices:"
   ]
  },
  {
   "cell_type": "code",
   "execution_count": 7,
   "metadata": {
    "collapsed": false
   },
   "outputs": [
    {
     "name": "stdout",
     "output_type": "stream",
     "text": [
      "First: Mickey\n",
      "Last: Davy\n"
     ]
    }
   ],
   "source": [
    "band = ['Mickey', 'Michael', 'Peter', 'Davy']\n",
    "print('First:', band[0])\n",
    "print('Last:', band[-1])"
   ]
  },
  {
   "cell_type": "markdown",
   "metadata": {},
   "source": [
    "### Slices\n",
    "\n",
    "We can also address multiple elements using a slice:"
   ]
  },
  {
   "cell_type": "code",
   "execution_count": 10,
   "metadata": {
    "collapsed": false
   },
   "outputs": [
    {
     "name": "stdout",
     "output_type": "stream",
     "text": [
      "list1: [0, 1, 2, 3, 4, 5, 6, 7, 8, 9, 10, 11, 12, 13, 14]\n",
      "\n",
      "First 5: [0, 1, 2, 3, 4]\n",
      "After the first 5: [5, 6, 7, 8, 9, 10, 11, 12, 13, 14]\n",
      "\n",
      "Before the last 5: [0, 1, 2, 3, 4, 5, 6, 7, 8, 9]\n",
      "Last 5: [10, 11, 12, 13, 14]\n",
      "\n",
      "Index 2 up to, but not including 8: [2, 3, 4, 5, 6, 7]\n",
      "\n",
      "Even indices: [0, 2, 4, 6, 8]\n"
     ]
    }
   ],
   "source": [
    "list1 = list(range(15))\n",
    "print('list1:', list1)\n",
    "\n",
    "print()\n",
    "print('First 5:', list1[:5])\n",
    "print('After the first 5:', list1[5:])\n",
    "\n",
    "print()\n",
    "print('Before the last 5:', list1[:-5])\n",
    "print('Last 5:', list1[-5:])\n",
    "\n",
    "print()\n",
    "print('Index 2 up to, but not including 8:', list1[2:8])\n",
    "\n",
    "print()\n",
    "print('Even indices:', list1[0:-6:2])\n"
   ]
  },
  {
   "cell_type": "markdown",
   "metadata": {},
   "source": [
    "### Named Slices\n",
    "\n",
    "We can give slices names to make accessing lists/tuples more meaningful:"
   ]
  },
  {
   "cell_type": "code",
   "execution_count": 11,
   "metadata": {
    "collapsed": false
   },
   "outputs": [
    {
     "name": "stdout",
     "output_type": "stream",
     "text": [
      "Record: ['John', 'Wayne', '234-567-8901', '345-678-9012', 'macho@bigboys.com', 'toughguy@wayne.org', 'dude@guy.net']\n",
      "Name: ['John', 'Wayne']\n",
      "Phones: ['234-567-8901', '345-678-9012']\n",
      "Emails: ['macho@bigboys.com', 'toughguy@wayne.org', 'dude@guy.net']\n"
     ]
    }
   ],
   "source": [
    "record = ['John', 'Wayne', '234-567-8901', '345-678-9012', 'macho@bigboys.com', 'toughguy@wayne.org', 'dude@guy.net']\n",
    "NAME = slice(0, 2)       # Indices 0 to 1, inclusive\n",
    "PHONES = slice(2, 4)     # Indices 2 to 3, inclusive\n",
    "EMAILS = slice(4, None)  # Index 4 to the end\n",
    "\n",
    "print('Record:', record)\n",
    "print('Name:', record[NAME])\n",
    "print('Phones:', record[PHONES])\n",
    "print('Emails:', record[EMAILS])"
   ]
  },
  {
   "cell_type": "markdown",
   "metadata": {},
   "source": [
    "### Edit Slices\n",
    "\n",
    "We can delete a slice, or replace it with another list\n"
   ]
  },
  {
   "cell_type": "code",
   "execution_count": 12,
   "metadata": {
    "collapsed": false
   },
   "outputs": [
    {
     "name": "stdout",
     "output_type": "stream",
     "text": [
      "list1: [0, 1, 2, 3, 4, 5, 6, 7, 8, 9, 10, 11, 12, 13, 14]\n",
      "list1: [0, 1, 5, 6, 7, 8, 9, 10, 11, 12, 13, 14]\n"
     ]
    }
   ],
   "source": [
    "list1 = list(range(15))\n",
    "print('list1:', list1)\n",
    "\n",
    "del list1[2:5]\n",
    "print('list1:', list1)"
   ]
  },
  {
   "cell_type": "code",
   "execution_count": 13,
   "metadata": {
    "collapsed": false
   },
   "outputs": [
    {
     "name": "stdout",
     "output_type": "stream",
     "text": [
      "list1: [0, 1, 2, 3, 4, 5, 6, 7, 8, 9, 10, 11, 12, 13, 14]\n",
      "list1: [0, 1, -2, -3, 5, 6, 7, 8, 9, 10, 11, 12, 13, 14]\n"
     ]
    }
   ],
   "source": [
    "list1 = list(range(15))\n",
    "print('list1:', list1)\n",
    "\n",
    "list1[2:5] = [-2, -3]\n",
    "print('list1:', list1)"
   ]
  },
  {
   "cell_type": "markdown",
   "metadata": {},
   "source": [
    "# Other Operations\n",
    "\n",
    "A list in Python comes with many methods such as sort, reverse, index:\n"
   ]
  },
  {
   "cell_type": "code",
   "execution_count": 14,
   "metadata": {
    "collapsed": false
   },
   "outputs": [
    {
     "data": {
      "text/plain": [
       "['__add__',\n",
       " '__class__',\n",
       " '__contains__',\n",
       " '__delattr__',\n",
       " '__delitem__',\n",
       " '__dir__',\n",
       " '__doc__',\n",
       " '__eq__',\n",
       " '__format__',\n",
       " '__ge__',\n",
       " '__getattribute__',\n",
       " '__getitem__',\n",
       " '__gt__',\n",
       " '__hash__',\n",
       " '__iadd__',\n",
       " '__imul__',\n",
       " '__init__',\n",
       " '__iter__',\n",
       " '__le__',\n",
       " '__len__',\n",
       " '__lt__',\n",
       " '__mul__',\n",
       " '__ne__',\n",
       " '__new__',\n",
       " '__reduce__',\n",
       " '__reduce_ex__',\n",
       " '__repr__',\n",
       " '__reversed__',\n",
       " '__rmul__',\n",
       " '__setattr__',\n",
       " '__setitem__',\n",
       " '__sizeof__',\n",
       " '__str__',\n",
       " '__subclasshook__',\n",
       " 'append',\n",
       " 'clear',\n",
       " 'copy',\n",
       " 'count',\n",
       " 'extend',\n",
       " 'index',\n",
       " 'insert',\n",
       " 'pop',\n",
       " 'remove',\n",
       " 'reverse',\n",
       " 'sort']"
      ]
     },
     "execution_count": 14,
     "metadata": {},
     "output_type": "execute_result"
    }
   ],
   "source": [
    "dir(list)"
   ]
  },
  {
   "cell_type": "markdown",
   "metadata": {},
   "source": [
    "There are many builtin functions which work nicely with list: all, any, enumerate, iter, len, max, min, reversed, sorted, sum, ..."
   ]
  },
  {
   "cell_type": "markdown",
   "metadata": {},
   "source": [
    "# I'm Confused: sort vs sorted, reverse vs reversed\n",
    "\n",
    "Many newbie often are confused between these two sets of functions. sort and reverse are methods that are part of a list object. They operate on the list in place. On the contrary sorted and reversed are built-in functions which take in a list and create a new one:"
   ]
  },
  {
   "cell_type": "code",
   "execution_count": 15,
   "metadata": {
    "collapsed": false
   },
   "outputs": [
    {
     "name": "stdout",
     "output_type": "stream",
     "text": [
      "list1: [1, 9, 3]\n",
      "\n",
      "sorted(list1): [1, 3, 9]\n",
      "list1: [1, 9, 3]\n",
      "\n",
      "Calling list1.sort()\n",
      "list1: [1, 3, 9]\n"
     ]
    }
   ],
   "source": [
    "# sort vs sorted\n",
    "\n",
    "list1 = [1, 9, 3]\n",
    "print('list1:', list1)\n",
    "\n",
    "print('\\nsorted(list1):', sorted(list1))\n",
    "print('list1:', list1)\n",
    "\n",
    "print('\\nCalling list1.sort()')\n",
    "list1.sort()\n",
    "print('list1:', list1)"
   ]
  },
  {
   "cell_type": "code",
   "execution_count": 16,
   "metadata": {
    "collapsed": false
   },
   "outputs": [
    {
     "name": "stdout",
     "output_type": "stream",
     "text": [
      "list1: [1, 2, 3]\n",
      "\n",
      "reversed(list1) [3, 2, 1]\n",
      "list1: [1, 2, 3]\n",
      "\n",
      "Calling list1.reverse()\n",
      "list1: [3, 2, 1]\n"
     ]
    }
   ],
   "source": [
    "# reverse vs reversed\n",
    "\n",
    "list1 = [1, 2, 3]\n",
    "print('list1:', list1)\n",
    "\n",
    "print('\\nreversed(list1)', list(reversed(list1)))\n",
    "print('list1:', list1)\n",
    "\n",
    "print('\\nCalling list1.reverse()')\n",
    "list1.reverse()\n",
    "print('list1:', list1)"
   ]
  },
  {
   "cell_type": "markdown",
   "metadata": {},
   "source": [
    "# Related Data Structures\n",
    "\n",
    "|                     | list                                         | tuple                                 | deque           |\n",
    "|---------------------|----------------------------------------------|---------------------------------------|-----------------|\n",
    "| Mutable?            | Yes                                          | No                                    | Yes             |\n",
    "| Hashable?           | No                                           | Yes                                   | No              |\n",
    "| Insert/remove left  | O(n)                                         | N/A                                   | O(1)            |\n",
    "| Insert/remove right | O(1)                                         | N/A                                   | O(1)            |\n",
    "| Sample Usages       | * List of names * List of tabs in a workbook | * Person's record * Row in a database | * Queue * Stack |"
   ]
  },
  {
   "cell_type": "markdown",
   "metadata": {},
   "source": [
    "# Poor-Man Stack\n",
    "\n",
    "We can use the list to implement a simple stack:\n"
   ]
  },
  {
   "cell_type": "code",
   "execution_count": 17,
   "metadata": {
    "collapsed": false
   },
   "outputs": [
    {
     "name": "stdout",
     "output_type": "stream",
     "text": [
      "3\n",
      "2\n",
      "1\n"
     ]
    }
   ],
   "source": [
    "stack = []  # Empty stack\n",
    "\n",
    "stack.append(1)\n",
    "stack.append(2)\n",
    "stack.append(3)\n",
    "\n",
    "print(stack.pop())\n",
    "print(stack.pop())\n",
    "print(stack.pop())\n"
   ]
  },
  {
   "cell_type": "markdown",
   "metadata": {},
   "source": [
    "# Recipe: Loop through a List\n",
    "\n",
    "Python's for loop is really for-each in other languages which is the workhorse to loop through data structures including list:"
   ]
  },
  {
   "cell_type": "code",
   "execution_count": 18,
   "metadata": {
    "collapsed": false
   },
   "outputs": [
    {
     "name": "stdout",
     "output_type": "stream",
     "text": [
      "Mickey\n",
      "Michael\n",
      "Peter\n",
      "Davy\n"
     ]
    }
   ],
   "source": [
    "# Don't do this:\n",
    "band = ['Mickey', 'Michael', 'Peter', 'Davy']\n",
    "for i in range(len(band)):\n",
    "    print(band[i])"
   ]
  },
  {
   "cell_type": "code",
   "execution_count": 19,
   "metadata": {
    "collapsed": false
   },
   "outputs": [
    {
     "name": "stdout",
     "output_type": "stream",
     "text": [
      "Mickey\n",
      "Michael\n",
      "Peter\n",
      "Davy\n"
     ]
    }
   ],
   "source": [
    "# Do this\n",
    "band = ['Mickey', 'Michael', 'Peter', 'Davy']\n",
    "for member in band:\n",
    "    print(member)"
   ]
  },
  {
   "cell_type": "code",
   "execution_count": 20,
   "metadata": {
    "collapsed": false
   },
   "outputs": [
    {
     "name": "stdout",
     "output_type": "stream",
     "text": [
      "0: Mickey\n",
      "1: Michael\n",
      "2: Peter\n",
      "3: Davy\n"
     ]
    }
   ],
   "source": [
    "# Loop with index\n",
    "band = ['Mickey', 'Michael', 'Peter', 'Davy']\n",
    "for index, member in enumerate(band):\n",
    "    print('{}: {}'.format(index, member))"
   ]
  },
  {
   "cell_type": "code",
   "execution_count": 21,
   "metadata": {
    "collapsed": false
   },
   "outputs": [
    {
     "name": "stdout",
     "output_type": "stream",
     "text": [
      "100: Mickey\n",
      "101: Michael\n",
      "102: Peter\n",
      "103: Davy\n"
     ]
    }
   ],
   "source": [
    "# What if I want the \"index\" to start with 1? With 100?\n",
    "# enumerate() can take the starting index as the second argument\n",
    "band = ['Mickey', 'Michael', 'Peter', 'Davy']\n",
    "for index, member in enumerate(band, 100):\n",
    "    print('{}: {}'.format(index, member))"
   ]
  },
  {
   "cell_type": "markdown",
   "metadata": {},
   "source": [
    "# Recipe: Loop through Multiple Lists\n"
   ]
  },
  {
   "cell_type": "code",
   "execution_count": 22,
   "metadata": {
    "collapsed": false
   },
   "outputs": [
    {
     "name": "stdout",
     "output_type": "stream",
     "text": [
      "Roses are red\n",
      "Violets are blue\n"
     ]
    }
   ],
   "source": [
    "# Don't do this\n",
    "\n",
    "flowers = ['Roses', 'Violets']\n",
    "colors = ['red', 'blue']\n",
    "\n",
    "for i in range(len(flowers)):\n",
    "    print('{} are {}'.format(flowers[i], colors[i]))"
   ]
  },
  {
   "cell_type": "code",
   "execution_count": 23,
   "metadata": {
    "collapsed": false
   },
   "outputs": [
    {
     "name": "stdout",
     "output_type": "stream",
     "text": [
      "Roses are red\n",
      "Violets are blue\n"
     ]
    }
   ],
   "source": [
    "# Do this\n",
    "\n",
    "flowers = ['Roses', 'Violets']\n",
    "colors = ['red', 'blue']\n",
    "\n",
    "for flower, color in zip(flowers, colors):\n",
    "    print('{} are {}'.format(flower, color))"
   ]
  },
  {
   "cell_type": "markdown",
   "metadata": {},
   "source": [
    "### What if the lists are of different lengths?\n",
    "\n",
    "In this case, the zipped lists are truncated at the shortest list, the rest are discarded."
   ]
  },
  {
   "cell_type": "code",
   "execution_count": 24,
   "metadata": {
    "collapsed": false
   },
   "outputs": [
    {
     "name": "stdout",
     "output_type": "stream",
     "text": [
      "Roses are red\n",
      "Violets are blue\n"
     ]
    }
   ],
   "source": [
    "flowers = ['Roses', 'Violets', 'Tuplips']\n",
    "colors = ['red', 'blue']\n",
    "\n",
    "for flower, color in zip(flowers, colors):\n",
    "    print('{} are {}'.format(flower, color))"
   ]
  },
  {
   "cell_type": "markdown",
   "metadata": {},
   "source": [
    "# What if I Want Zip with Padding?\n"
   ]
  },
  {
   "cell_type": "code",
   "execution_count": 26,
   "metadata": {
    "collapsed": false
   },
   "outputs": [
    {
     "name": "stdout",
     "output_type": "stream",
     "text": [
      "Roses are red\n",
      "Violets are blue\n",
      "multi-color are purple\n"
     ]
    }
   ],
   "source": [
    "import itertools\n",
    "\n",
    "flowers = ['Roses', 'Violets']\n",
    "colors = ['red', 'blue', 'purple']\n",
    "\n",
    "for flower, color in itertools.zip_longest(flowers, colors, fillvalue='multi-color'):\n",
    "    print('{} are {}'.format(flower, color))"
   ]
  },
  {
   "cell_type": "code",
   "execution_count": 27,
   "metadata": {
    "collapsed": false
   },
   "outputs": [
    {
     "name": "stdout",
     "output_type": "stream",
     "text": [
      "[999, 2, 3]\n"
     ]
    }
   ],
   "source": [
    "list1 = [1, 2, 3]\n",
    "list2 = list1\n",
    "list2[0] = 999\n",
    "print(list1)"
   ]
  },
  {
   "cell_type": "code",
   "execution_count": 29,
   "metadata": {
    "collapsed": false
   },
   "outputs": [
    {
     "name": "stdout",
     "output_type": "stream",
     "text": [
      "[1, 2, 3]\n"
     ]
    }
   ],
   "source": [
    "list1 = [1, 2, 3]\n",
    "list2 = list1.copy()  # or list1[:]\n",
    "list2[0] = 999\n",
    "print(list1)"
   ]
  },
  {
   "cell_type": "code",
   "execution_count": 30,
   "metadata": {
    "collapsed": false
   },
   "outputs": [
    {
     "name": "stdout",
     "output_type": "stream",
     "text": [
      "[1, 2, 3]\n"
     ]
    }
   ],
   "source": [
    "import copy\n",
    "\n",
    "list1 = [1, 2, 3]\n",
    "list2 = copy.copy(list1)\n",
    "list2[0] = 999\n",
    "print(list1)"
   ]
  },
  {
   "cell_type": "code",
   "execution_count": null,
   "metadata": {
    "collapsed": true
   },
   "outputs": [],
   "source": []
  }
 ],
 "metadata": {
  "kernelspec": {
   "display_name": "Python [conda root]",
   "language": "python",
   "name": "conda-root-py"
  },
  "language_info": {
   "codemirror_mode": {
    "name": "ipython",
    "version": 3
   },
   "file_extension": ".py",
   "mimetype": "text/x-python",
   "name": "python",
   "nbconvert_exporter": "python",
   "pygments_lexer": "ipython3",
   "version": "3.5.2"
  }
 },
 "nbformat": 4,
 "nbformat_minor": 1
}
