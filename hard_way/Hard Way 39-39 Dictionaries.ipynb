{
 "cells": [
  {
   "cell_type": "markdown",
   "metadata": {
    "nbpresent": {
     "id": "da38f821-aaf4-4e47-92eb-5f69678a9714"
    }
   },
   "source": [
    "# About Dictionary Keys\n",
    "\n",
    "A dictionary is a collection of keys and corresponding values. Many do not know that the key can be any immutable objects, not just strings."
   ]
  },
  {
   "cell_type": "code",
   "execution_count": null,
   "metadata": {
    "collapsed": true,
    "nbpresent": {
     "id": "20cef7b2-7cf8-48f4-ab49-a8071901b907"
    }
   },
   "outputs": [],
   "source": [
    "grades = {'Peter': 98, 'Paul': 89, 'Mary': 90}  # String as key\n",
    "ship = {('A', 1): 'Anna', ('B', 1): 'Jack'}     # A tuple as key"
   ]
  },
  {
   "cell_type": "markdown",
   "metadata": {
    "nbpresent": {
     "id": "56986e04-c1ca-4db2-928e-2d8790f58b34"
    }
   },
   "source": [
    "In fact, the keys do not have to be homogeneous:"
   ]
  },
  {
   "cell_type": "code",
   "execution_count": null,
   "metadata": {
    "collapsed": true,
    "nbpresent": {
     "id": "7d97bde0-9ca4-4081-9dc9-8974eaf0f6eb"
    }
   },
   "outputs": [],
   "source": [
    "mythings = {('phone', 'watch'): 'bedroom', 'ipad': 'study room'}"
   ]
  },
  {
   "cell_type": "markdown",
   "metadata": {
    "nbpresent": {
     "id": "177ab574-b977-4a90-b056-19e39341019f"
    }
   },
   "source": [
    "One requirement is the object representing the keys must be immutable, that excludes set, list and objects based user-defined classes (there is an exception)"
   ]
  },
  {
   "cell_type": "code",
   "execution_count": null,
   "metadata": {
    "collapsed": false,
    "nbpresent": {
     "id": "4802a924-6d72-4e81-a7bc-67319d795da4"
    }
   },
   "outputs": [],
   "source": [
    "notvalid = {[1,2,3]: 'not good', [4,5,6]: 'not OK'}"
   ]
  },
  {
   "cell_type": "markdown",
   "metadata": {
    "nbpresent": {
     "id": "d7b29e42-1ec6-4c28-b4de-ce25dcd488d1"
    }
   },
   "source": [
    "# Recipe: Create Dictionary with Strings for Keys the Easy Way\n",
    "\n",
    "Typing out a dictionary literal is not favorite past time due to symbols such as the curly braces, the quotes characters:"
   ]
  },
  {
   "cell_type": "code",
   "execution_count": null,
   "metadata": {
    "collapsed": false,
    "nbpresent": {
     "id": "6d650127-dce8-4776-a9ed-65aba99ef253"
    }
   },
   "outputs": [],
   "source": [
    "grades = {'Peter': 98, 'Paul': 89, 'Mary': 90}\n",
    "print(grades)"
   ]
  },
  {
   "cell_type": "markdown",
   "metadata": {
    "nbpresent": {
     "id": "e4f35a9f-d8dc-441f-9a01-cc7a1bf04b5c"
    }
   },
   "source": [
    "Fortunately, there is an alternative which I prefer. This method works for keys that are strings:"
   ]
  },
  {
   "cell_type": "code",
   "execution_count": null,
   "metadata": {
    "collapsed": false,
    "nbpresent": {
     "id": "cdde348d-d811-485e-9c00-ac65ca7b9904"
    }
   },
   "outputs": [],
   "source": [
    "grades = dict(Peter=98, Paul=89, Mary=90)\n",
    "print(grades)"
   ]
  },
  {
   "cell_type": "markdown",
   "metadata": {
    "nbpresent": {
     "id": "8745dbd6-393a-4f6c-a653-c2a39e21d327"
    }
   },
   "source": [
    "# Recipe: Create a Dictionary from a List of Keys/Values\n",
    "\n",
    "Say we have a list of 2-element key/value, the easiest way to turn it into a dictionary is to use the `dict` constructor:"
   ]
  },
  {
   "cell_type": "code",
   "execution_count": null,
   "metadata": {
    "collapsed": false,
    "nbpresent": {
     "id": "16f146d1-bd4e-4c15-920b-885848770a05"
    }
   },
   "outputs": [],
   "source": [
    "key_value = [('rose', 'red'), ('violet', 'blue'), ('sugar', 'sweet'), ('you', 'also sweet')]\n",
    "poem = dict(key_value)\n",
    "print(poem)"
   ]
  },
  {
   "cell_type": "markdown",
   "metadata": {
    "nbpresent": {
     "id": "2c1af424-ae21-4099-a20d-963821ac5c07"
    }
   },
   "source": [
    "# Recipe: Create a Dictionary from Two Lists\n",
    "\n",
    "If we have two lists, one for keys and the other for values, the easiest way to turn them into a dictionary is first to zip them into pairs of keys/values, then we can use the previous recipe to turn this list into a dictionary. Consider the following two lists, zipping them up will product the same `key_value` list as before:"
   ]
  },
  {
   "cell_type": "code",
   "execution_count": null,
   "metadata": {
    "collapsed": false,
    "nbpresent": {
     "id": "45e69c21-4827-469e-b285-854e587e4de5"
    }
   },
   "outputs": [],
   "source": [
    "keys = ['rose', 'violet', 'sugar', 'you']\n",
    "values = ['red', 'blue', 'sweet', 'also sweet']\n",
    "print(list(zip(keys, values)))"
   ]
  },
  {
   "cell_type": "markdown",
   "metadata": {
    "nbpresent": {
     "id": "79de85f5-e5ae-44e5-934b-b50f2b3d80ca"
    }
   },
   "source": [
    "Note that in Python 3, `zip` is a generator function as opposed to a function returning a list in Python 2. That means in the previous example, we have to turn that zip generator into a list. Back to our recipe, once we have a list of keys/values, we can use the previous recipe:"
   ]
  },
  {
   "cell_type": "code",
   "execution_count": null,
   "metadata": {
    "collapsed": false,
    "nbpresent": {
     "id": "d4f84a04-9c69-4403-a4fd-4f2503b2dc1c"
    }
   },
   "outputs": [],
   "source": [
    "keys = ['rose', 'violet', 'sugar', 'you']\n",
    "values = ['red', 'blue', 'sweet', 'also sweet']\n",
    "poem = dict(zip(keys, values))\n",
    "print(poem)"
   ]
  },
  {
   "cell_type": "markdown",
   "metadata": {
    "nbpresent": {
     "id": "3d21773b-0cdf-4eea-8a0b-7f6595116d46"
    }
   },
   "source": [
    "# Recipe: Adding and Updating a Single Key/Value"
   ]
  },
  {
   "cell_type": "code",
   "execution_count": null,
   "metadata": {
    "collapsed": false,
    "nbpresent": {
     "id": "2b54401d-35bc-4399-85ae-1b423b19310a"
    }
   },
   "outputs": [],
   "source": [
    "grades = dict(Peter=98, Paul=89, Mary=90)\n",
    "print('Original:', grades)\n",
    "grades['Melissa'] = 95  # Add a new value/key pair\n",
    "grades['Peter'] = 97    # Update a single value\n",
    "print('After modification:', grades)"
   ]
  },
  {
   "cell_type": "markdown",
   "metadata": {
    "nbpresent": {
     "id": "dce9a49f-7dd6-45f7-87e7-9646f1635d48"
    }
   },
   "source": [
    "# Recipe: Deleting a Single Key/Value"
   ]
  },
  {
   "cell_type": "code",
   "execution_count": null,
   "metadata": {
    "collapsed": false,
    "nbpresent": {
     "id": "416dcbb0-b4fe-4704-aff2-3a3b89ffda8f"
    }
   },
   "outputs": [],
   "source": [
    "grades = dict(Peter=98, Paul=89, Mary=90)\n",
    "del grades['Paul']\n",
    "print(grades)"
   ]
  },
  {
   "cell_type": "markdown",
   "metadata": {
    "nbpresent": {
     "id": "9e90d1e5-38c4-44f7-bd24-ebcd9b47a634"
    }
   },
   "source": [
    "# Pitfall: Copying a Dictionary\n",
    "\n",
    "Since dictionary is a mutable type, we cannot make copy by simply assinging the value:"
   ]
  },
  {
   "cell_type": "code",
   "execution_count": null,
   "metadata": {
    "collapsed": false,
    "nbpresent": {
     "id": "76ebd85a-9d14-4c20-a5eb-f33277b3356b"
    }
   },
   "outputs": [],
   "source": [
    "dict1 = dict(a=1, b=2, c=3)\n",
    "print('dict1:', dict1)\n",
    "\n",
    "dict2 = dict1     # Attempt to make copy\n",
    "dict2['a'] = 100  # Now update a single key/value\n",
    "\n",
    "print('---')\n",
    "print('dict1:', dict1)\n",
    "print('dict2:', dict2)\n",
    "print('Are they identical?', dict1 is dict2)"
   ]
  },
  {
   "cell_type": "markdown",
   "metadata": {
    "nbpresent": {
     "id": "d93bf7e1-6bb5-44e9-8a9c-022e28802f79"
    }
   },
   "source": [
    "The correct way to make a copy of a dictionary is to use the `.copy` method, or if the dictionary values are complex, use the `deepcopy` function in the `copy` module:"
   ]
  },
  {
   "cell_type": "code",
   "execution_count": null,
   "metadata": {
    "collapsed": false,
    "nbpresent": {
     "id": "ac637979-0512-45a3-b4ea-23b73061736f"
    }
   },
   "outputs": [],
   "source": [
    "dict1 = dict(a=1, b=2, c=3)\n",
    "print('dict1:', dict1)\n",
    "\n",
    "dict2 = dict1.copy()  # The correct way to make a copy\n",
    "dict2['a'] = 100      # Now update a single key/value\n",
    "\n",
    "print('---')\n",
    "print('dict1:', dict1)\n",
    "print('dict2:', dict2)\n",
    "print('Are they identical?', dict1 is dict2)"
   ]
  },
  {
   "cell_type": "markdown",
   "metadata": {
    "nbpresent": {
     "id": "6d423da8-02ce-419f-8f30-f30f913d9bf5"
    }
   },
   "source": [
    "If the values of a dictionary are mutable, we should use `deepcopy`. Consider the following example:"
   ]
  },
  {
   "cell_type": "code",
   "execution_count": null,
   "metadata": {
    "collapsed": false,
    "nbpresent": {
     "id": "2355dc3b-a8fa-425e-bab7-f24584d9f9b2"
    }
   },
   "outputs": [],
   "source": [
    "dict1 = dict(a=[1 ,11, 111], b=2, c=3)\n",
    "print('dict1:', dict1)\n",
    "\n",
    "dict2 = dict1.copy()  # The correct way to make a copy\n",
    "dict2['a'].append(1111)\n",
    "\n",
    "print('---')\n",
    "print('dict1:', dict1)\n",
    "print('dict2:', dict2)\n",
    "print('Are they identical?', dict1 is dict2)"
   ]
  },
  {
   "cell_type": "markdown",
   "metadata": {
    "nbpresent": {
     "id": "9e777fd3-9e25-459b-80fc-88a91b234422"
    }
   },
   "source": [
    "What is going on here is the `dict.copy()` method only performed a shallow copy. To be throughout, we need to use the `deepcopy` function:"
   ]
  },
  {
   "cell_type": "code",
   "execution_count": null,
   "metadata": {
    "collapsed": false,
    "nbpresent": {
     "id": "a4335137-c385-4326-8691-9aa2887c1179"
    }
   },
   "outputs": [],
   "source": [
    "import copy\n",
    "\n",
    "dict1 = dict(a=[1 ,11, 111], b=2, c=3)\n",
    "print('dict1:', dict1)\n",
    "\n",
    "dict2 = copy.deepcopy(dict1)\n",
    "dict2['a'].append(1111)\n",
    "\n",
    "print('---')\n",
    "print('dict1:', dict1)\n",
    "print('dict2:', dict2)\n",
    "print('Are they identical?', dict1 is dict2)"
   ]
  },
  {
   "cell_type": "markdown",
   "metadata": {
    "nbpresent": {
     "id": "f61bfe49-e89e-47fc-bf1f-96cef7b6c7f0"
    }
   },
   "source": [
    "# Recipe: Update all Values\n",
    "\n",
    "Given a dictionary, we can update all the values in-place:"
   ]
  },
  {
   "cell_type": "code",
   "execution_count": null,
   "metadata": {
    "collapsed": false,
    "nbpresent": {
     "id": "e0583bdc-b56e-4a6d-bf80-bd19f86ffff6"
    }
   },
   "outputs": [],
   "source": [
    "grades = dict(John=79, Karen=83, Alex=89)\n",
    "for name, grade in grades.items():\n",
    "    grades[name] = grade + 5  # Everyone gets a bonus\n",
    "print(grades)"
   ]
  },
  {
   "cell_type": "markdown",
   "metadata": {
    "nbpresent": {
     "id": "f6e04685-536b-4b17-8049-79eddb87d445"
    }
   },
   "source": [
    "If the dictionary is small, we can use dictionary comprehension (similar to list comprehension) to create a new copy with new values:"
   ]
  },
  {
   "cell_type": "code",
   "execution_count": null,
   "metadata": {
    "collapsed": false,
    "nbpresent": {
     "id": "0ec6f82e-9103-404e-a6ba-2b64e80a2c8a"
    }
   },
   "outputs": [],
   "source": [
    "grades = dict(John=79, Karen=83, Alex=89)\n",
    "grades = {name: grade + 5 for name, grade in grades.items()}\n",
    "print(grades)"
   ]
  },
  {
   "cell_type": "markdown",
   "metadata": {
    "nbpresent": {
     "id": "43d4c8bd-b427-4094-9a51-a0bb7a43af22"
    }
   },
   "source": [
    "# Recipe: Check for a Key Existence\n",
    "\n",
    "If you want to see if a key is in the dictionary:"
   ]
  },
  {
   "cell_type": "code",
   "execution_count": null,
   "metadata": {
    "collapsed": false,
    "nbpresent": {
     "id": "b3062c68-cc8d-4f88-b363-533cdda6a0bc"
    }
   },
   "outputs": [],
   "source": [
    "band = {'Peter': 'guitarist', 'Paul': 'guitarist', 'Mary': 'vocalist'}\n",
    "key = 'Mary'\n",
    "\n",
    "if key in band.keys():\n",
    "    print('Found', key)\n",
    "else:\n",
    "    print('Not found', key)"
   ]
  },
  {
   "cell_type": "markdown",
   "metadata": {
    "nbpresent": {
     "id": "5c6b124f-5555-443f-836e-4519bca276c8"
    }
   },
   "source": [
    "That works, but is clumsy. A better way is to drop the `.keys()` part:"
   ]
  },
  {
   "cell_type": "code",
   "execution_count": null,
   "metadata": {
    "collapsed": false,
    "nbpresent": {
     "id": "7f77fadb-568d-4d96-940f-554fc1f151e9"
    }
   },
   "outputs": [],
   "source": [
    "band = {'Peter': 'guitarist', 'Paul': 'guitarist', 'Mary': 'vocalist'}\n",
    "key = 'Mary'\n",
    "\n",
    "if key in band:\n",
    "    print('Found', key)\n",
    "else:\n",
    "    print('Not found', key)"
   ]
  },
  {
   "cell_type": "markdown",
   "metadata": {
    "nbpresent": {
     "id": "0637d25b-72f7-4e5c-849a-e33152a288da"
    }
   },
   "source": [
    "# Recipe: Look up a Key and Return Value\n",
    "\n",
    "Consider the following code:"
   ]
  },
  {
   "cell_type": "code",
   "execution_count": null,
   "metadata": {
    "collapsed": false,
    "nbpresent": {
     "id": "6bdfeb39-d3a4-42d5-8cd7-9437169a6243"
    }
   },
   "outputs": [],
   "source": [
    "band = {'Peter': 'guitarist', 'Paul': 'guitarist', 'Mary': 'vocalist'}\n",
    "member = 'John'\n",
    "print(band[member])"
   ]
  },
  {
   "cell_type": "markdown",
   "metadata": {
    "nbpresent": {
     "id": "edd714bb-ba17-46a4-a021-36e6c8dfed4d"
    }
   },
   "source": [
    "In order to avoid the KeyError, we might structure our code like this:"
   ]
  },
  {
   "cell_type": "code",
   "execution_count": null,
   "metadata": {
    "collapsed": false,
    "nbpresent": {
     "id": "fa6c421c-81a6-4c16-91b5-fb8101a9646d"
    }
   },
   "outputs": [],
   "source": [
    "band = {'Peter': 'guitarist', 'Paul': 'guitarist', 'Mary': 'vocalist'}\n",
    "member = 'Mary'\n",
    "\n",
    "if member in band:\n",
    "    role = band[member]\n",
    "else:\n",
    "    role = 'not a member'\n",
    "\n",
    "print('{} is a {}'.format(member, role))"
   ]
  },
  {
   "cell_type": "markdown",
   "metadata": {
    "nbpresent": {
     "id": "17b61108-c853-403f-b571-8bfd6b38f25f"
    }
   },
   "source": [
    "We can rewrite the the if block above as:"
   ]
  },
  {
   "cell_type": "code",
   "execution_count": null,
   "metadata": {
    "collapsed": false,
    "nbpresent": {
     "id": "cb741b56-ba70-491e-93ad-e072329e861a"
    }
   },
   "outputs": [],
   "source": [
    "role = band.get(member, 'not a member')\n",
    "print('{} is a {}'.format(member, role))"
   ]
  },
  {
   "cell_type": "markdown",
   "metadata": {
    "nbpresent": {
     "id": "054cd77e-88c4-4d9c-aade-368452231615"
    }
   },
   "source": [
    "# Recipe: Add a Key/Value If not Exist\n",
    "\n",
    "Say we want to add a key/value if not already exist in the dictionary, the most straight-forward approach is to test for the key's presence before adding:"
   ]
  },
  {
   "cell_type": "code",
   "execution_count": null,
   "metadata": {
    "collapsed": false,
    "nbpresent": {
     "id": "96428603-e40b-4e76-85cb-abaf45a654be"
    }
   },
   "outputs": [],
   "source": [
    "grades = dict(John=79, Karen=83, Alex=89)\n",
    "new_name, new_grade = 'Alex', 92\n",
    "\n",
    "if new_name not in grades:\n",
    "    grades[new_name] = new_grade\n",
    "\n",
    "print(grades)"
   ]
  },
  {
   "cell_type": "markdown",
   "metadata": {
    "nbpresent": {
     "id": "6c2d1eb5-a845-464c-a5ee-e3f3afa9253b"
    }
   },
   "source": [
    "Python dictionaries come with a method `setdefault` which accomplish the same goal for less code and more elegantly:"
   ]
  },
  {
   "cell_type": "code",
   "execution_count": null,
   "metadata": {
    "collapsed": false,
    "nbpresent": {
     "id": "c6769ec4-eaf5-4451-8f39-2b2f4c1a7cc3"
    }
   },
   "outputs": [],
   "source": [
    "grades = dict(John=79, Karen=83, Alex=89)\n",
    "new_name, new_grade = 'Alex', 92\n",
    "\n",
    "grades.setdefault(new_name, new_grade)\n",
    "print(grades)"
   ]
  },
  {
   "cell_type": "markdown",
   "metadata": {
    "collapsed": true
   },
   "source": [
    "# Specialized Dictionaries\n",
    "\n",
    "* collections.defaultdict\n",
    "* collections.OrderedDict\n",
    "* collections.Counter\n"
   ]
  },
  {
   "cell_type": "markdown",
   "metadata": {},
   "source": [
    "## defaultdict\n",
    "\n",
    "A dictionary whose key/value will be created if they do not exist. Consider the following application: Create a word frequency counter using a normal dictionary:"
   ]
  },
  {
   "cell_type": "code",
   "execution_count": null,
   "metadata": {
    "collapsed": false
   },
   "outputs": [],
   "source": [
    "counter = {}\n",
    "for word in ['a', 'penny', 'saved', 'is', 'a', 'penny', 'earned']:\n",
    "    if word not in counter:\n",
    "        counter[word] = 0\n",
    "    counter[word] += 1\n",
    "\n",
    "print(counter)"
   ]
  },
  {
   "cell_type": "markdown",
   "metadata": {},
   "source": [
    "Using defaultdict, the task becomes easier:"
   ]
  },
  {
   "cell_type": "code",
   "execution_count": null,
   "metadata": {
    "collapsed": false
   },
   "outputs": [],
   "source": [
    "import collections\n",
    "\n",
    "counter = collections.defaultdict(int)  # The values will be created by calling int()\n",
    "for word in ['a', 'penny', 'saved', 'is', 'a', 'penny', 'earned']:\n",
    "    counter[word] += 1\n",
    "\n",
    "print(counter)"
   ]
  },
  {
   "cell_type": "markdown",
   "metadata": {},
   "source": [
    "How it works: the first time we reference `counter[word]` and word is not already in the dictionary, Python will implicitly execute a `counter[word] = int()` where `int` is what we specified when creating our counter. In fact, we can specify any function which takes in zero parameter and return a value:"
   ]
  },
  {
   "cell_type": "code",
   "execution_count": null,
   "metadata": {
    "collapsed": false
   },
   "outputs": [],
   "source": [
    "import collections\n",
    "import time\n",
    "\n",
    "def current_time():\n",
    "    return time.strftime('%Y-%m-%d at %H:%M:%S')\n",
    "\n",
    "birth_time = collections.defaultdict(current_time)\n",
    "print('John was born on', birth_time['John'])"
   ]
  },
  {
   "cell_type": "code",
   "execution_count": null,
   "metadata": {
    "collapsed": false
   },
   "outputs": [],
   "source": [
    "print('Anna was born on', birth_time['Anna'])"
   ]
  },
  {
   "cell_type": "code",
   "execution_count": null,
   "metadata": {
    "collapsed": false
   },
   "outputs": [],
   "source": [
    "from pprint import pprint\n",
    "pprint(birth_time)"
   ]
  },
  {
   "cell_type": "markdown",
   "metadata": {},
   "source": [
    "## Counter\n",
    "\n",
    "We can implement the word frequency above using the Counter class:"
   ]
  },
  {
   "cell_type": "code",
   "execution_count": null,
   "metadata": {
    "collapsed": false
   },
   "outputs": [],
   "source": [
    "import collections\n",
    "\n",
    "counter = collections.Counter(['a', 'penny', 'saved', 'is', 'a', 'penny', 'earned'])\n",
    "print(counter)"
   ]
  },
  {
   "cell_type": "markdown",
   "metadata": {},
   "source": [
    "## OrderedDict\n",
    "\n",
    "In a normal dictionary, the keys does not follow any apparent order. If we want them ordered by creation time, use `OrderedDict` from the `collections` module:"
   ]
  },
  {
   "cell_type": "code",
   "execution_count": null,
   "metadata": {
    "collapsed": false
   },
   "outputs": [],
   "source": [
    "import collections\n",
    "\n",
    "pairs = [('Peter', 1), ('Paul', 2), ('Mary', 3)]\n",
    "normal_dict = dict(pairs)\n",
    "ordered_dict = collections.OrderedDict(pairs)\n",
    "\n",
    "pprint(normal_dict)\n",
    "pprint(ordered_dict)"
   ]
  },
  {
   "cell_type": "code",
   "execution_count": null,
   "metadata": {
    "collapsed": true
   },
   "outputs": [],
   "source": []
  }
 ],
 "metadata": {
  "anaconda-cloud": {},
  "kernelspec": {
   "display_name": "Python [conda root]",
   "language": "python",
   "name": "conda-root-py"
  },
  "language_info": {
   "codemirror_mode": {
    "name": "ipython",
    "version": 3
   },
   "file_extension": ".py",
   "mimetype": "text/x-python",
   "name": "python",
   "nbconvert_exporter": "python",
   "pygments_lexer": "ipython3",
   "version": "3.5.2"
  }
 },
 "nbformat": 4,
 "nbformat_minor": 1
}
