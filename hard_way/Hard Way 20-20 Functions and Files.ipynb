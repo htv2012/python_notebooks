{
 "cells": [
  {
   "cell_type": "markdown",
   "metadata": {},
   "source": [
    "# Two Ways to Read File, Line by Line\n",
    "\n",
    "The first method of reading a file, line by line should be familiar for those who come from other languages:"
   ]
  },
  {
   "cell_type": "code",
   "execution_count": 1,
   "metadata": {
    "collapsed": false
   },
   "outputs": [
    {
     "name": "stdout",
     "output_type": "stream",
     "text": [
      "'# Comment line\\n'\n",
      "'line one\\n'\n",
      "'line two\\n'\n",
      "'\\n'\n",
      "'# Another comment\\n'\n",
      "'line four\\n'\n",
      "'last line\\n'\n"
     ]
    }
   ],
   "source": [
    "with open('data20.txt') as fileobj:\n",
    "    while True:\n",
    "        line = fileobj.readline()\n",
    "        if line == '':\n",
    "            # EOF, bail out\n",
    "            break\n",
    "        print(repr(line))"
   ]
  },
  {
   "cell_type": "markdown",
   "metadata": {},
   "source": [
    "Notes:\n",
    "\n",
    "* Each line ends with a line ending marker (CRLF or LF, depend on the OS and the file)\n",
    "* Empty line is represented as `'\\n'`\n",
    "* There is no `eof` method or function\n",
    "\n",
    "The problem with this method is there is no way to test for end of file condition, therefore we must rely on the return value from the `readline` method. If we know in advance that the file is not too large, we can apply a slightly different variation:"
   ]
  },
  {
   "cell_type": "code",
   "execution_count": 2,
   "metadata": {
    "collapsed": false
   },
   "outputs": [
    {
     "name": "stdout",
     "output_type": "stream",
     "text": [
      "'# Comment line\\n'\n",
      "'line one\\n'\n",
      "'line two\\n'\n",
      "'\\n'\n",
      "'# Another comment\\n'\n",
      "'line four\\n'\n",
      "'last line\\n'\n"
     ]
    }
   ],
   "source": [
    "with open('data20.txt') as fileobj:\n",
    "    for line in fileobj.readlines():\n",
    "        print(repr(line))"
   ]
  },
  {
   "cell_type": "markdown",
   "metadata": {},
   "source": [
    "The problem with the above is if the file is large, we might run into performance issues."
   ]
  },
  {
   "cell_type": "markdown",
   "metadata": {},
   "source": [
    "The second method is more Pythonic and somewhat strange at first:"
   ]
  },
  {
   "cell_type": "code",
   "execution_count": 3,
   "metadata": {
    "collapsed": false
   },
   "outputs": [
    {
     "name": "stdout",
     "output_type": "stream",
     "text": [
      "'# Comment line\\n'\n",
      "'line one\\n'\n",
      "'line two\\n'\n",
      "'\\n'\n",
      "'# Another comment\\n'\n",
      "'line four\\n'\n",
      "'last line\\n'\n"
     ]
    }
   ],
   "source": [
    "with open('data20.txt') as fileobj:\n",
    "    for line in fileobj:\n",
    "        print(repr(line))"
   ]
  },
  {
   "cell_type": "markdown",
   "metadata": {},
   "source": [
    "This method is short, sweet and is the recommended way to read a file, line by line. It also does not carry a performance penalty because it only read the next line on demand."
   ]
  },
  {
   "cell_type": "markdown",
   "metadata": {},
   "source": [
    "# Tip: Open Multiple Files\n",
    "\n",
    "A common scenario is to open a file for reading and another for writing, I often see code like this:"
   ]
  },
  {
   "cell_type": "code",
   "execution_count": 4,
   "metadata": {
    "collapsed": true
   },
   "outputs": [],
   "source": [
    "with open('data20.txt') as input_file:\n",
    "    with open('out20.txt', 'w') as output_file:\n",
    "        for line in input_file:\n",
    "            # Do some processing the line here\n",
    "            output_file.write(line)"
   ]
  },
  {
   "cell_type": "markdown",
   "metadata": {},
   "source": [
    "Instead of nesting the context managers (the with statements), we can achieve the same without nesting:"
   ]
  },
  {
   "cell_type": "code",
   "execution_count": 5,
   "metadata": {
    "collapsed": true
   },
   "outputs": [],
   "source": [
    "with open('data20.txt') as input_file, open('out20.txt', 'w') as output_file:\n",
    "    for line in input_file:\n",
    "        # Do some processing the line here\n",
    "        output_file.write(line)"
   ]
  },
  {
   "cell_type": "markdown",
   "metadata": {},
   "source": [
    "# Recipe: Filter out Unwanted Lines\n",
    "\n",
    "There are times when we want to filter out unwanted lines (such as comment). The obvious approach is:"
   ]
  },
  {
   "cell_type": "code",
   "execution_count": 6,
   "metadata": {
    "collapsed": false
   },
   "outputs": [
    {
     "name": "stdout",
     "output_type": "stream",
     "text": [
      "'# Comment line\\n'\n",
      "'line one\\n'\n",
      "'line two\\n'\n",
      "'# Another comment\\n'\n",
      "'line four\\n'\n",
      "'last line\\n'\n"
     ]
    }
   ],
   "source": [
    "with open('data20.txt') as input_file:\n",
    "    for line in input_file:\n",
    "        # Filter out empty lines\n",
    "        if line == '\\n':\n",
    "            continue\n",
    "        print(repr(line))"
   ]
  },
  {
   "cell_type": "markdown",
   "metadata": {},
   "source": [
    "Another approach is apply one or more filters:"
   ]
  },
  {
   "cell_type": "code",
   "execution_count": 7,
   "metadata": {
    "collapsed": false
   },
   "outputs": [
    {
     "name": "stdout",
     "output_type": "stream",
     "text": [
      "'# Comment line\\n'\n",
      "'line one\\n'\n",
      "'line two\\n'\n",
      "'# Another comment\\n'\n",
      "'line four\\n'\n",
      "'last line\\n'\n"
     ]
    }
   ],
   "source": [
    "import itertools\n",
    "with open('data20.txt') as input_file:\n",
    "    good_lines = itertools.filterfalse(lambda line: line == '\\n', input_file)\n",
    "    for line in good_lines:\n",
    "        print(repr(line))"
   ]
  },
  {
   "cell_type": "markdown",
   "metadata": {},
   "source": [
    "The above works for Python 3, in Python 2, replace `filterfalse` with `ifilterfalse`\n",
    "\n",
    "Using the second approach, we can create a number of reusable, stackable filters:"
   ]
  },
  {
   "cell_type": "code",
   "execution_count": 8,
   "metadata": {
    "collapsed": false
   },
   "outputs": [
    {
     "name": "stdout",
     "output_type": "stream",
     "text": [
      "'line one\\n'\n",
      "'line two\\n'\n",
      "'line four\\n'\n",
      "'last line\\n'\n"
     ]
    }
   ],
   "source": [
    "import itertools\n",
    "\n",
    "def is_empty(line):\n",
    "    \"\"\" Predicate which returns True if a line is empty \"\"\"\n",
    "    return line == '\\n'\n",
    "\n",
    "def is_comment(line):\n",
    "    \"\"\" Predicate which returns True if a line is a comment line \"\"\"\n",
    "    return line.strip().startswith('#')\n",
    "\n",
    "with open('data20.txt') as input_file:\n",
    "    # Stacking the filters\n",
    "    good_lines = itertools.filterfalse(is_empty, input_file)\n",
    "    good_lines = itertools.filterfalse(is_comment, good_lines)\n",
    "    \n",
    "    for line in good_lines:\n",
    "        print(repr(line))"
   ]
  },
  {
   "cell_type": "markdown",
   "metadata": {},
   "source": [
    "Notes:\n",
    "\n",
    "* In the above example, `is_empty` and `is_comment` are the reusable filters which we can stack them up.\n",
    "* One advantage this approach offer is it moves all the filtering outside of the loop, helping us concentrating better in the processing steps"
   ]
  },
  {
   "cell_type": "markdown",
   "metadata": {},
   "source": [
    "# Recipe: Filter in Wanted Lines\n",
    "\n",
    "In this recipe, we will process only comment lines by reusing the `is_comment` filter created earlier."
   ]
  },
  {
   "cell_type": "code",
   "execution_count": 9,
   "metadata": {
    "collapsed": false
   },
   "outputs": [
    {
     "name": "stdout",
     "output_type": "stream",
     "text": [
      "'# Comment line\\n'\n",
      "'# Another comment\\n'\n"
     ]
    }
   ],
   "source": [
    "with open('data20.txt') as input_file:\n",
    "    good_lines = filter(is_comment, input_file)\n",
    "    \n",
    "    for line in good_lines:\n",
    "        print(repr(line))"
   ]
  },
  {
   "cell_type": "markdown",
   "metadata": {},
   "source": [
    "Notes\n",
    "\n",
    "* In the above example, `is_empty` and `is_comment` are the reusable filters which we can stack them up\n",
    "* Use `itertools.ifilter` (Python 2) or `filter` (Python 3) to filter *in* the lines that we want"
   ]
  },
  {
   "cell_type": "markdown",
   "metadata": {},
   "source": [
    "# Recipe: Read File with Line Number\n",
    "\n",
    "Instead of creating a line counter and manually increment it, we can make use of `enumerate`. Note that by default, this function returns a zero-based count while line numbers are one-based."
   ]
  },
  {
   "cell_type": "code",
   "execution_count": 10,
   "metadata": {
    "collapsed": false
   },
   "outputs": [
    {
     "name": "stdout",
     "output_type": "stream",
     "text": [
      "   1: # Comment line\n",
      "   2: line one\n",
      "   3: line two\n",
      "   4: \n",
      "   5: # Another comment\n",
      "   6: line four\n",
      "   7: last line\n"
     ]
    }
   ],
   "source": [
    "with open('data20.txt') as input_file:\n",
    "    for line_number, line in enumerate(input_file, start=1):\n",
    "        print('{:>4}: {}'.format(line_number, line), end='')"
   ]
  },
  {
   "cell_type": "markdown",
   "metadata": {},
   "source": [
    "Notes\n",
    "\n",
    "* By supplying a named argument `start` to the `enumerate` function, we can control the start number\n",
    "* Since each line already have a line feed embedded, we tell the `print` function not to send a line feed at the end. This is done by the `end=''` named argument"
   ]
  },
  {
   "cell_type": "markdown",
   "metadata": {
    "collapsed": true
   },
   "source": [
    "# Recipe: Retrieve Lines by Line Numbers\n",
    "\n",
    "There are times when we need to retrieve lines from a file using line numbers. Instead of reading the file line by line, there is a better way."
   ]
  },
  {
   "cell_type": "code",
   "execution_count": 3,
   "metadata": {
    "collapsed": false
   },
   "outputs": [
    {
     "name": "stdout",
     "output_type": "stream",
     "text": [
      "line four\n",
      "line one\n"
     ]
    }
   ],
   "source": [
    "import linecache\n",
    "\n",
    "print(linecache.getline('data20.txt', 6), end='')\n",
    "print(linecache.getline('data20.txt', 2), end='')"
   ]
  },
  {
   "cell_type": "markdown",
   "metadata": {},
   "source": [
    "Notes\n",
    "\n",
    "* The `linecache` module provides an efficient way to  retrieves lines from a file, given the line number\n",
    "* The first line is line 1\n",
    "* As with the cases of reading lines from a file, the lines contain and EOL\n",
    "* We can access the lines in any order"
   ]
  },
  {
   "cell_type": "code",
   "execution_count": null,
   "metadata": {
    "collapsed": true
   },
   "outputs": [],
   "source": []
  }
 ],
 "metadata": {
  "kernelspec": {
   "display_name": "Python [conda root]",
   "language": "python",
   "name": "conda-root-py"
  },
  "language_info": {
   "codemirror_mode": {
    "name": "ipython",
    "version": 3
   },
   "file_extension": ".py",
   "mimetype": "text/x-python",
   "name": "python",
   "nbconvert_exporter": "python",
   "pygments_lexer": "ipython3",
   "version": "3.5.2"
  }
 },
 "nbformat": 4,
 "nbformat_minor": 1
}
