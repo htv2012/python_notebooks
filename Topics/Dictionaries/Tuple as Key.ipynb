{
 "cells": [
  {
   "cell_type": "markdown",
   "metadata": {},
   "source": [
    "# Dictionary with a Tuple as Key\n",
    "\n",
    "Here is an interesting question found on [stackoverflow](https://stackoverflow.com/q/60226988/459745). \n",
    "\n",
    "Given"
   ]
  },
  {
   "cell_type": "code",
   "execution_count": 1,
   "metadata": {},
   "outputs": [],
   "source": [
    "a=('C', 'G')\n",
    "b=('G', 'C') \n",
    "d={('G', 'C'): 'T'}"
   ]
  },
  {
   "cell_type": "markdown",
   "metadata": {},
   "source": [
    "The original poster (OP) said\n",
    "> I want `d[a]` and `d[b]` to return 'T'.\n",
    "\n",
    "## Analysis\n",
    "\n",
    "The OP wants to turn the keys into sets, but sets are not allowed as dictionary keys. "
   ]
  },
  {
   "cell_type": "markdown",
   "metadata": {},
   "source": [
    "One solution is to normalize the keys by sorting them. When we look up, we also sort the keys befre looking up."
   ]
  },
  {
   "cell_type": "code",
   "execution_count": 2,
   "metadata": {},
   "outputs": [],
   "source": [
    "import collections.abc\n",
    "\n",
    "def _normalize(key):\n",
    "    \"\"\" Normalize a key (tuple) by sorting \"\"\"\n",
    "    key = tuple(sorted(key))\n",
    "    return key\n",
    "\n",
    "class TupleKeyDict(collections.abc.MutableMapping):\n",
    "    def __init__(self, *args, **kwargs):\n",
    "        temp_dict = dict(*args, **kwargs)\n",
    "        self.dict = {\n",
    "            _normalize(key): value\n",
    "            for key, value in temp_dict.items()\n",
    "        }\n",
    "        \n",
    "    def __getitem__(self, key):\n",
    "        value = self.dict[_normalize(key)]\n",
    "        return value\n",
    "    \n",
    "    def __setitem__(self, key, value):\n",
    "        self.dict[_normalize(key)] = value\n",
    "        \n",
    "    def __delitem__(self, key):\n",
    "        del self.dict[_normalize(key)]\n",
    "    \n",
    "    def __iter__(self):\n",
    "        return iter(self.dict)\n",
    "    \n",
    "    def __len__(self):\n",
    "        return len(self.dict)\n",
    "        \n",
    "    def __repr__(self):\n",
    "        return repr(self.dict)"
   ]
  },
  {
   "cell_type": "code",
   "execution_count": 3,
   "metadata": {},
   "outputs": [
    {
     "data": {
      "text/plain": [
       "{('C', 'G'): 'T'}"
      ]
     },
     "execution_count": 3,
     "metadata": {},
     "output_type": "execute_result"
    }
   ],
   "source": [
    "tkd = TupleKeyDict(d)\n",
    "tkd"
   ]
  },
  {
   "cell_type": "code",
   "execution_count": 4,
   "metadata": {},
   "outputs": [
    {
     "data": {
      "text/plain": [
       "'T'"
      ]
     },
     "execution_count": 4,
     "metadata": {},
     "output_type": "execute_result"
    }
   ],
   "source": [
    "tkd['C', 'G']"
   ]
  },
  {
   "cell_type": "code",
   "execution_count": 5,
   "metadata": {},
   "outputs": [
    {
     "data": {
      "text/plain": [
       "'T'"
      ]
     },
     "execution_count": 5,
     "metadata": {},
     "output_type": "execute_result"
    }
   ],
   "source": [
    "tkd['G', 'C']"
   ]
  },
  {
   "cell_type": "code",
   "execution_count": 6,
   "metadata": {},
   "outputs": [
    {
     "data": {
      "text/plain": [
       "True"
      ]
     },
     "execution_count": 6,
     "metadata": {},
     "output_type": "execute_result"
    }
   ],
   "source": [
    "tkd.get(('X', 'Y')) is None"
   ]
  },
  {
   "cell_type": "code",
   "execution_count": 7,
   "metadata": {},
   "outputs": [],
   "source": [
    "tkd['X', 'C'] = 'cx'"
   ]
  },
  {
   "cell_type": "code",
   "execution_count": 8,
   "metadata": {},
   "outputs": [
    {
     "data": {
      "text/plain": [
       "'cx'"
      ]
     },
     "execution_count": 8,
     "metadata": {},
     "output_type": "execute_result"
    }
   ],
   "source": [
    "tkd['C', 'X']"
   ]
  },
  {
   "cell_type": "code",
   "execution_count": null,
   "metadata": {},
   "outputs": [],
   "source": []
  }
 ],
 "metadata": {
  "kernelspec": {
   "display_name": "Python 3",
   "language": "python",
   "name": "python3"
  },
  "language_info": {
   "codemirror_mode": {
    "name": "ipython",
    "version": 3
   },
   "file_extension": ".py",
   "mimetype": "text/x-python",
   "name": "python",
   "nbconvert_exporter": "python",
   "pygments_lexer": "ipython3",
   "version": "3.8.1"
  }
 },
 "nbformat": 4,
 "nbformat_minor": 4
}
