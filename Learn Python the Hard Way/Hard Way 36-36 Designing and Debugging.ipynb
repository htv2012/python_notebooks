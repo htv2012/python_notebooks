{
 "cells": [
  {
   "cell_type": "markdown",
   "metadata": {},
   "source": [
    "# Rules for If-Statements\n",
    "\n",
    "1. Every if-statement must have an else.\n",
    "1. If this else should never run because it doesn't make sense, then you must use a die function in the else that prints out an error message and dies, just like we did in the last exercise. This will find many errors.\n",
    "\n",
    "    I disagree with these. Consider the following function:\n",
    "    \n",
    "        def compare_models(model_a, model_b, ignore_attributes=None):\n",
    "            if ignore_attributes is None:\n",
    "                ignore_attributes = []\n",
    "            # The rest of the code here\n",
    "    \n",
    "1. Never nest if-statements more than two deep and always try to do them one deep.\n",
    "1. Treat if-statements like paragraphs, where each if-elif-else grouping is like a set of sentences. Put blank lines before and after.\n",
    "1. Your boolean tests should be simple. If they are complex, move their calculations to variables earlier in your function and use a good name for the variable.\n",
    "\n",
    "I agree with these. I often see if statements that are several nesting levels deep, in which case, we should package them in separate functions. As for the last point, consider the following code segnment:"
   ]
  },
  {
   "cell_type": "code",
   "execution_count": 1,
   "metadata": {
    "collapsed": true
   },
   "outputs": [],
   "source": [
    "# earlier\n",
    "filename = 'myscript.py'\n",
    "\n",
    "# later on\n",
    "if filename.endswith('.py') or filename.endswith('.txt') or filename.endswith('.csv') or filename == 'README':\n",
    "    pass"
   ]
  },
  {
   "cell_type": "markdown",
   "metadata": {},
   "source": [
    "The logic in the if statement is long and could be longer if we add more file types or filename to the list. One way to simplify this line is to factor out the code that check for file extension:"
   ]
  },
  {
   "cell_type": "code",
   "execution_count": 2,
   "metadata": {
    "collapsed": true
   },
   "outputs": [],
   "source": [
    "import os\n",
    "\n",
    "extension = os.path.splitext(filename)[-1]  # 'my.txt' ==> ['my', '.txt']\n",
    "if extension in {'.py', '.txt', '.csv'} or filename == 'README':\n",
    "    pass"
   ]
  },
  {
   "cell_type": "markdown",
   "metadata": {},
   "source": [
    "We can further simplify the logic by giving this logic a name (aka factoring out into a new function):"
   ]
  },
  {
   "cell_type": "code",
   "execution_count": 3,
   "metadata": {
    "collapsed": true
   },
   "outputs": [],
   "source": [
    "def is_project_file(filename):\n",
    "    extension = os.path.splitext(filename)[-1]  # 'my.txt' ==> ['my', '.txt']\n",
    "    return extension in {'.py', '.txt', '.csv'} or filename == 'README'\n",
    "\n",
    "# ... later on\n",
    "if is_project_file(filename):\n",
    "    pass"
   ]
  },
  {
   "cell_type": "markdown",
   "metadata": {},
   "source": [
    "# Rules for Loops\n",
    "\n",
    "- When reading code and you see a a `while True` loop, immediately look in the body to see if there is a break condition. If you don't see one, then it is most likely a bug. I said most likely because there are cases when we meant to have an infinite loop\n",
    "- Because Python `for` loop is actually a `foreach` in other languages, most of the time, you don't need to use subscription (e.g. `mylist[i]`). If you find yourself doing subscription, there usually be a better way"
   ]
  },
  {
   "cell_type": "markdown",
   "metadata": {},
   "source": [
    "# Tips for Debugging\n",
    "\n",
    "> Do not use a \"debugger.\"\n",
    "\n",
    "I disagree. The debugger is my go-to tool when print statement is not enough. Perhaps the author knows something that I don't.\n",
    "\n",
    "> The best way to debug a program is to use print to print out the values of variables at points in the program to see where they go wrong.\n",
    "\n",
    "Do not use the `print` statement/function for debugging. Instead, use the `logging` module to output debug information. Some of the issues with `print` are:\n",
    "\n",
    "* Once the app works the way you like, you have to remove those debug print lines. Chances are you might need to put some of them back in. Commenting them out is one way to deal with this issue, but then you litter your code with commented out code\n",
    "* I prefer to use `print` for normal app output and `logging` for debug output\n",
    "* Using `logging`, I can leave those logging lines in tact and globally turn off logging (by setting the log level to `logging.WARN`)"
   ]
  },
  {
   "cell_type": "markdown",
   "metadata": {
    "collapsed": true
   },
   "source": [
    "# Do not Use print for Debugging, Use logging Instead\n",
    "\n",
    "Print vs logging:\n",
    "\n",
    "- Once finished debugging, you have to delete the print statements. On the contrary, you can leave the logging statements and adjust the logging level to show less information\n",
    "- The logging module offers many levels: critical, warning, info, debug... The print statement does not offer such fine-tuned behavior\n",
    "- The logging module can also log to many media (screen, file, ...) at the same time\n",
    "- With logging, we can disclose extra informations such as module, code line number, ... for free\n",
    "\n",
    "But, print is much easier to get started, where as we have to jump through hoops to get started with logging, right? **Wrong!**. I have this code snippet handy to paste into my script when I need debugging:"
   ]
  },
  {
   "cell_type": "code",
   "execution_count": 8,
   "metadata": {
    "collapsed": true
   },
   "outputs": [],
   "source": [
    "import logging\n",
    "\n",
    "logging.basicConfig(level=logging.WARNING)\n",
    "logger = logging.getLogger(__name__)"
   ]
  },
  {
   "cell_type": "markdown",
   "metadata": {},
   "source": [
    "After that, I can use logging in my code. Note the use of the formatting specifier `%r` which is handy for displaying values in its REPL form, which is perfect for debugging:"
   ]
  },
  {
   "cell_type": "code",
   "execution_count": 9,
   "metadata": {
    "collapsed": false
   },
   "outputs": [
    {
     "name": "stderr",
     "output_type": "stream",
     "text": [
      "DEBUG:__main__:title='My Title', name=''\n"
     ]
    }
   ],
   "source": [
    "title = 'My Title'\n",
    "name = ''\n",
    "logger.debug('title=%r, name=%r', title, name)"
   ]
  },
  {
   "cell_type": "code",
   "execution_count": null,
   "metadata": {
    "collapsed": true
   },
   "outputs": [],
   "source": []
  }
 ],
 "metadata": {
  "anaconda-cloud": {},
  "kernelspec": {
   "display_name": "Python [conda root]",
   "language": "python",
   "name": "conda-root-py"
  },
  "language_info": {
   "codemirror_mode": {
    "name": "ipython",
    "version": 3
   },
   "file_extension": ".py",
   "mimetype": "text/x-python",
   "name": "python",
   "nbconvert_exporter": "python",
   "pygments_lexer": "ipython3",
   "version": "3.5.2"
  }
 },
 "nbformat": 4,
 "nbformat_minor": 1
}
