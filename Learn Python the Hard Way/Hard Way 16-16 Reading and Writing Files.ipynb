{
 "cells": [
  {
   "cell_type": "markdown",
   "metadata": {},
   "source": [
    "Use the `open` function as a context manager:"
   ]
  },
  {
   "cell_type": "code",
   "execution_count": 3,
   "metadata": {
    "collapsed": false
   },
   "outputs": [
    {
     "name": "stdout",
     "output_type": "stream",
     "text": [
      "'Line 1\\n'\n",
      "'Line 2\\n'\n",
      "'Line 3\\n'\n",
      "'Last line'\n"
     ]
    }
   ],
   "source": [
    "with open('data16.txt') as fileobj:\n",
    "    for line in fileobj:\n",
    "        print(repr(line))"
   ]
  },
  {
   "cell_type": "markdown",
   "metadata": {},
   "source": [
    "Notes: By using the `open` function as a context manager, we will enjoy several advantages:\n",
    "\n",
    "* The file will be closed automatically upon exiting of the with block\n",
    "* If an exception occured inside the with block, the file is still closed properly\n",
    "\n",
    "More Notes:\n",
    "\n",
    "* The easiest way to read the file object, line by line is to iterate over that file object\n",
    "* Note that the line returned has an ending EOL char (line feed, or carriage return + line feed, depend on the OS)"
   ]
  },
  {
   "cell_type": "markdown",
   "metadata": {},
   "source": [
    "# Recipe: Read or Skip a Line\n",
    "\n",
    "Note that if we iterate over the contents of a file using the for loop like above, we should not use `read`, `readline` or `seek` methods. The two don't mix. In order to read a line, we can use the `next` function. In the following example, we are skipping the first line and print out the rest."
   ]
  },
  {
   "cell_type": "code",
   "execution_count": 2,
   "metadata": {
    "collapsed": false
   },
   "outputs": [
    {
     "name": "stdout",
     "output_type": "stream",
     "text": [
      "'Line 2\\n'\n",
      "'Line 3\\n'\n",
      "'Last line'\n"
     ]
    }
   ],
   "source": [
    "with open('data16.txt') as fileobj:\n",
    "    discarded_line = next(fileobj)  # Or simply, next(fileobj)\n",
    "    for line in fileobj:\n",
    "        print(repr(line))"
   ]
  },
  {
   "cell_type": "markdown",
   "metadata": {},
   "source": [
    "# Avoid Reading the Whole File at Once\n",
    "\n",
    "Unless you know up front that the file is not large, avoid reading the whole file as once (e.g. `buffer = fileobj.read()`) for obvious performance reason.\n",
    "\n",
    "# Recipe: Reading in Chunks\n",
    "\n",
    "Here is a recipe for reading a file in fixed-size chunks."
   ]
  },
  {
   "cell_type": "code",
   "execution_count": 3,
   "metadata": {
    "collapsed": false
   },
   "outputs": [
    {
     "name": "stdout",
     "output_type": "stream",
     "text": [
      "'Line 1\\nL'\n",
      "'ine 2\\nLi'\n",
      "'ne 3\\nLas'\n",
      "'t line'\n"
     ]
    }
   ],
   "source": [
    "CHUNK_SIZE = 8\n",
    "with open('data16.txt') as fileobj:\n",
    "    for chunk in iter(lambda: fileobj.read(CHUNK_SIZE), ''):\n",
    "        print(repr(chunk))"
   ]
  },
  {
   "cell_type": "markdown",
   "metadata": {
    "collapsed": true
   },
   "source": [
    "The `iter` function is a a weird beast: A function with dual personalities. When called with one argument (the most common usage), that argument must be a collection object which supports the iteration protocols. A lesser-known usage of `iter` is when we call it with two parameters: a callable object which takes no parameter and a sentinel value. This sentinel value is what `fileobj.read` returns upon reaching end of file."
   ]
  },
  {
   "cell_type": "markdown",
   "metadata": {},
   "source": [
    "# Recipe: In-Place Editing\n",
    "\n",
    "Here is a recipe for reading a file, process each line and write it back out to the same file."
   ]
  },
  {
   "cell_type": "code",
   "execution_count": 12,
   "metadata": {
    "collapsed": false
   },
   "outputs": [
    {
     "name": "stdout",
     "output_type": "stream",
     "text": [
      "In-place editing\n",
      "Alias: hvu\n",
      "\n"
     ]
    }
   ],
   "source": [
    "import fileinput\n",
    "\n",
    "filename = 'inplace.txt'\n",
    "\n",
    "# Create a data file to work with\n",
    "with open(filename, 'w') as fileobj:\n",
    "    fileobj.write('In-place editing\\n')\n",
    "    fileobj.write('Alias: ALIAS\\n')\n",
    "    \n",
    "# In-place edit\n",
    "for line in fileinput.input(filename, inplace=1):\n",
    "    line = line.strip().replace('ALIAS', 'hvu')\n",
    "    print(line)\n",
    "    \n",
    "# Dump the contents\n",
    "print(open(filename).read())"
   ]
  },
  {
   "cell_type": "code",
   "execution_count": null,
   "metadata": {
    "collapsed": true
   },
   "outputs": [],
   "source": []
  }
 ],
 "metadata": {
  "anaconda-cloud": {},
  "kernelspec": {
   "display_name": "Python [conda root]",
   "language": "python",
   "name": "conda-root-py"
  },
  "language_info": {
   "codemirror_mode": {
    "name": "ipython",
    "version": 3
   },
   "file_extension": ".py",
   "mimetype": "text/x-python",
   "name": "python",
   "nbconvert_exporter": "python",
   "pygments_lexer": "ipython3",
   "version": "3.5.2"
  }
 },
 "nbformat": 4,
 "nbformat_minor": 1
}
