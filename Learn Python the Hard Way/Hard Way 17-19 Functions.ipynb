{
 "cells": [
  {
   "cell_type": "markdown",
   "metadata": {},
   "source": [
    "# Pitfall: Forget the Colon When Declaring a Function\n",
    "\n",
    "A common pitfall is forgetting to end the function declaration with colon. Note that the \"invalid syntax\" message usually does not tell new-comer anything useful:"
   ]
  },
  {
   "cell_type": "code",
   "execution_count": 1,
   "metadata": {
    "collapsed": false
   },
   "outputs": [
    {
     "ename": "SyntaxError",
     "evalue": "invalid syntax (<ipython-input-1-a62f28931079>, line 1)",
     "output_type": "error",
     "traceback": [
      "\u001b[0;36m  File \u001b[0;32m\"<ipython-input-1-a62f28931079>\"\u001b[0;36m, line \u001b[0;32m1\u001b[0m\n\u001b[0;31m    def greet(name)\u001b[0m\n\u001b[0m                   ^\u001b[0m\n\u001b[0;31mSyntaxError\u001b[0m\u001b[0;31m:\u001b[0m invalid syntax\n"
     ]
    }
   ],
   "source": [
    "def greet(name)\n",
    "    print('Hello', name)\n",
    "    \n",
    "greet('world')"
   ]
  },
  {
   "cell_type": "markdown",
   "metadata": {},
   "source": [
    "# Tip: Function that does not Return a Value\n",
    "\n",
    "If a function does not return a value, the interpreter will act as if the function returns a `None` value:"
   ]
  },
  {
   "cell_type": "code",
   "execution_count": 3,
   "metadata": {
    "collapsed": false
   },
   "outputs": [
    {
     "name": "stdout",
     "output_type": "stream",
     "text": [
      "None\n",
      "True\n"
     ]
    }
   ],
   "source": [
    "def add(a, b):\n",
    "    c = a + b\n",
    "    \n",
    "print(add(3, 5))\n",
    "print(add(3, 5) is None)"
   ]
  },
  {
   "cell_type": "markdown",
   "metadata": {},
   "source": [
    "Notes\n",
    "\n",
    "* There is no way to distinguish between a `None` returned explicitly or implicitly\n",
    "* If a function meants to return None, do it explicitely"
   ]
  },
  {
   "cell_type": "markdown",
   "metadata": {},
   "source": [
    "# Tip: Communicate \"Not Found\" Condition\n",
    "\n",
    "Many search functions return `None` to indicate not-found condition. While this approach works well in general, you should be aware of some corner cases. For example, the following function looks up a dictionary for a specific key and return its value (we pretend that the `dict.get` method does not exist:"
   ]
  },
  {
   "cell_type": "code",
   "execution_count": 2,
   "metadata": {
    "collapsed": false
   },
   "outputs": [
    {
     "name": "stdout",
     "output_type": "stream",
     "text": [
      "Password for Alex: None\n"
     ]
    }
   ],
   "source": [
    "def dict_get(dictobj, target_key):\n",
    "    for key, value in dictobj.items():\n",
    "        if target_key == key:\n",
    "            return value\n",
    "    return None\n",
    "\n",
    "passwords = dict(john='i4Got', karen='uCanNotG355')\n",
    "print('Password for Alex: {}'.format(dict_get(passwords, 'alex')))"
   ]
  },
  {
   "cell_type": "markdown",
   "metadata": {},
   "source": [
    "This function will not work if `None` is a value in the dictionary:"
   ]
  },
  {
   "cell_type": "code",
   "execution_count": 3,
   "metadata": {
    "collapsed": false
   },
   "outputs": [
    {
     "name": "stdout",
     "output_type": "stream",
     "text": [
      "{'karen': 'uCanNotG355', 'alex': None, 'john': 'i4Got'}\n",
      "Password for Alex: None\n"
     ]
    }
   ],
   "source": [
    "passwords = dict(john='i4Got', karen='uCanNotG355', alex=None)\n",
    "print(passwords)\n",
    "print('Password for Alex: {}'.format(dict_get(passwords, 'alex')))"
   ]
  },
  {
   "cell_type": "markdown",
   "metadata": {},
   "source": [
    "In the previous example, we cannot tell if the password for Alex is `None`, or Alex is not in the dictionary. One way to deal with this situation is provide a default value in case that a key is not found--this is how the `dict.get` method works:"
   ]
  },
  {
   "cell_type": "code",
   "execution_count": 9,
   "metadata": {
    "collapsed": false
   },
   "outputs": [
    {
     "name": "stdout",
     "output_type": "stream",
     "text": [
      "Without default: None\n",
      "With default: Paul is not found\n"
     ]
    }
   ],
   "source": [
    "print('Without default: {}'.format(passwords.get('paul')))\n",
    "print('With default: {}'.format(passwords.get('paul', 'Paul is not found')))"
   ]
  },
  {
   "cell_type": "markdown",
   "metadata": {},
   "source": [
    "One last problem: in the last line, what if Paul is in the dictionary and his password is actually *'Paul is not found'*? How do we deal with this? The answer is to create a unique value (a sentinel) as default. Note that we are using the `is` operator for indentity test (as opposed to value test):"
   ]
  },
  {
   "cell_type": "code",
   "execution_count": 10,
   "metadata": {
    "collapsed": false
   },
   "outputs": [
    {
     "name": "stdout",
     "output_type": "stream",
     "text": [
      "Paul is not in the system\n"
     ]
    }
   ],
   "source": [
    "NOT_FOUND = object()\n",
    "pauls_password = passwords.get('paul', NOT_FOUND)\n",
    "if pauls_password is NOT_FOUND:\n",
    "    print('Paul is not in the system')\n",
    "else:\n",
    "    print(\"Paul's password is {!r}\".format(pauls_password))    "
   ]
  },
  {
   "cell_type": "markdown",
   "metadata": {},
   "source": [
    "# Optional, Default Parameter\n",
    "\n",
    "Consider a function to convert a string to integer:"
   ]
  },
  {
   "cell_type": "code",
   "execution_count": 21,
   "metadata": {
    "collapsed": false
   },
   "outputs": [
    {
     "name": "stdout",
     "output_type": "stream",
     "text": [
      "-19\n"
     ]
    }
   ],
   "source": [
    "def str2int(str_value):\n",
    "    return int(str_value)\n",
    "\n",
    "print(str2int('-19'))"
   ]
  },
  {
   "cell_type": "markdown",
   "metadata": {},
   "source": [
    "What if we want to be able to specify a base (2, 8, 10, 16, ...)? Where the most common one is base 10. One way to achieve this goal is to use default parameter:"
   ]
  },
  {
   "cell_type": "code",
   "execution_count": 22,
   "metadata": {
    "collapsed": false
   },
   "outputs": [
    {
     "name": "stdout",
     "output_type": "stream",
     "text": [
      "11\n",
      "17\n"
     ]
    }
   ],
   "source": [
    "def str2int(str_value, base=10):\n",
    "    return int(str_value, base)\n",
    "\n",
    "print(str2int('11'))      # Base 10, the default\n",
    "print(str2int('11', 16))  # Base 16"
   ]
  },
  {
   "cell_type": "markdown",
   "metadata": {},
   "source": [
    "Notes\n",
    "\n",
    "* Introducing the optional, default parameter is a good way to retrofit a function without making changes everywhere\n",
    "* The default parameter must be of the value that we are using the most"
   ]
  },
  {
   "cell_type": "markdown",
   "metadata": {},
   "source": [
    "# Pitfall: Mutable Default Parameter\n",
    "\n",
    "Consider the following function:"
   ]
  },
  {
   "cell_type": "code",
   "execution_count": 36,
   "metadata": {
    "collapsed": false
   },
   "outputs": [
    {
     "name": "stdout",
     "output_type": "stream",
     "text": [
      "[5]\n",
      "[5, 9]\n"
     ]
    }
   ],
   "source": [
    "def list_append(item, listobj=[]):\n",
    "    listobj.append(item)\n",
    "    return listobj\n",
    "\n",
    "print(list_append(5))\n",
    "print(list_append(9))"
   ]
  },
  {
   "cell_type": "markdown",
   "metadata": {},
   "source": [
    "To avoid this problem, we should use `None` as the default value:"
   ]
  },
  {
   "cell_type": "code",
   "execution_count": 37,
   "metadata": {
    "collapsed": false
   },
   "outputs": [
    {
     "name": "stdout",
     "output_type": "stream",
     "text": [
      "[5]\n",
      "[9]\n"
     ]
    }
   ],
   "source": [
    "def list_append(item, listobj=None):\n",
    "    if listobj is None:\n",
    "        listobj = []\n",
    "        \n",
    "    listobj.append(item)\n",
    "    return listobj\n",
    "\n",
    "print(list_append(5))\n",
    "print(list_append(9))"
   ]
  },
  {
   "cell_type": "markdown",
   "metadata": {},
   "source": [
    "Note that many experience use this effect in order to \"remember\" previous values. Consider a print function which only print each value once:"
   ]
  },
  {
   "cell_type": "code",
   "execution_count": 39,
   "metadata": {
    "collapsed": false
   },
   "outputs": [
    {
     "name": "stdout",
     "output_type": "stream",
     "text": [
      "Value: 1, cache: {1}\n",
      "Value: 2, cache: {1, 2}\n",
      "Value: 3, cache: {1, 2, 3}\n"
     ]
    }
   ],
   "source": [
    "def print_once(value, previous_values=set()):\n",
    "    if value in previous_values:\n",
    "        return\n",
    "    previous_values.add(value)  # Cache it\n",
    "    print('Value: {}, cache: {}'.format(value, previous_values))\n",
    "    \n",
    "print_once(1)\n",
    "print_once(2)\n",
    "print_once(3)\n",
    "print_once(1)\n",
    "print_once(2)\n",
    "print_once(3)"
   ]
  },
  {
   "cell_type": "markdown",
   "metadata": {
    "collapsed": true
   },
   "source": [
    "# Tip: Use Named Argument for Clarity\n",
    "\n",
    "I often see code that looks like this:\n",
    "\n",
    "    sheet = workbook.goto_sheet('Sheet 1', True)\n",
    "    \n",
    "Consider the second parameter, does `True` tell us anything? Unless you are familiar with this method, you don't know what `True` means in this case. How about this:\n",
    "\n",
    "    sheet = workbook.goto_sheet('Sheet 1', return_sheet=True)\n",
    "    \n",
    "With named argument, we can tell right away the second argument's role. I recommend to use named argument to make code easier to understand.\n"
   ]
  },
  {
   "cell_type": "markdown",
   "metadata": {},
   "source": [
    "# Tip: Format Function Calls with Many Arguments\n",
    "\n",
    "Consider the following function call:\n",
    "\n",
    "    selection = SelectionPresModel.from_attributes(i_ds=annotation_ids, node_selections=[], oriented_node_selections=[], type=SelectionType.ANNOTATIONS)\n",
    "    \n",
    "In order to keep the code readable, we should break the line down to several shorter lines. There are two recommended ways to format your code. The first is to line up the arguments right after the left parenthesis:\n",
    "\n",
    "    selection = SelectionPresModel.from_attributes(i_ds=annotation_ids,\n",
    "                                                   node_selections=[],\n",
    "                                                   oriented_node_selections=[],\n",
    "                                                   type=SelectionType.ANNOTATIONS)\n",
    "\n",
    "The second is to indent all arguments:\n",
    "\n",
    "    selection = SelectionPresModel.from_attributes(\n",
    "        i_ds=annotation_ids,\n",
    "        node_selections=[],\n",
    "        oriented_node_selections=[],\n",
    "        type=SelectionType.ANNOTATIONS)\n",
    "\n",
    "The first approach has the advantage to keep things clean, while the second works better with arguments that are long. Personally, I prefer a variation of the second approach:\n",
    "\n",
    "    selection = SelectionPresModel.from_attributes(\n",
    "        i_ds=annotation_ids,\n",
    "        node_selections=[],\n",
    "        oriented_node_selections=[],\n",
    "        type=SelectionType.ANNOTATIONS,\n",
    "    )\n",
    "\n",
    "Note that the last named argument is followed by a comma, just like the lines above it. This is perfectly alright in Python and in fact encourage. The reason for this last comma is to have consistency among the arguments. Plus, adding and removing parameter is easier."
   ]
  },
  {
   "cell_type": "markdown",
   "metadata": {
    "collapsed": true
   },
   "source": [
    "# Callable in Python\n",
    "\n",
    "In other languages, a \"callable\" mostly means functions and methods. In Python, the concept of callable is broader, which includes:\n",
    "\n",
    "* Functions and methods\n",
    "* Classes (by means of `__new__` and `__init__` magic methods\n",
    "* Object instances (when a class implements the `__call__` magic method\n",
    "\n",
    "To test to see if an object is callable, we can use the builtin function `callable` which returns a boolean."
   ]
  },
  {
   "cell_type": "code",
   "execution_count": 7,
   "metadata": {
    "collapsed": false
   },
   "outputs": [
    {
     "name": "stdout",
     "output_type": "stream",
     "text": [
      "<p>\n",
      "Lorem ipsum dolor sit amet, consectetur adipiscing elit.\n",
      "</p>\n",
      "---\n",
      "greet (function) is callable: True\n",
      "name (string) is callable: False\n",
      "Animal (class) is callable: True\n",
      "tag (object) is callable: True\n"
     ]
    }
   ],
   "source": [
    "class Animal(object):\n",
    "    pass\n",
    "\n",
    "class Tag(object):\n",
    "    def __init__(self, tag_name):\n",
    "        self.tag_name = tag_name\n",
    "        \n",
    "    def __call__(self, body):\n",
    "        print('<{}>'.format(self.tag_name))\n",
    "        print(body)\n",
    "        print('</{}>'.format(self.tag_name))\n",
    "\n",
    "def greet(name):\n",
    "    print('Hello', name)\n",
    "    \n",
    "name = 'John'\n",
    "\n",
    "tag = Tag('p')\n",
    "tag('Lorem ipsum dolor sit amet, consectetur adipiscing elit.')\n",
    "print('---')\n",
    "\n",
    "print('greet (function) is callable:', callable(greet))\n",
    "print('name (string) is callable:', callable(name))\n",
    "print('Animal (class) is callable:', callable(Animal))\n",
    "print('tag (object) is callable:', callable(tag))\n"
   ]
  },
  {
   "cell_type": "markdown",
   "metadata": {
    "collapsed": true
   },
   "source": [
    "# Recipe: Create Function that Takes any Number of Parameters"
   ]
  },
  {
   "cell_type": "code",
   "execution_count": null,
   "metadata": {
    "collapsed": true
   },
   "outputs": [],
   "source": []
  }
 ],
 "metadata": {
  "anaconda-cloud": {},
  "kernelspec": {
   "display_name": "Python [conda root]",
   "language": "python",
   "name": "conda-root-py"
  },
  "language_info": {
   "codemirror_mode": {
    "name": "ipython",
    "version": 3
   },
   "file_extension": ".py",
   "mimetype": "text/x-python",
   "name": "python",
   "nbconvert_exporter": "python",
   "pygments_lexer": "ipython3",
   "version": "3.5.2"
  }
 },
 "nbformat": 4,
 "nbformat_minor": 1
}
