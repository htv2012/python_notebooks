{
 "cells": [
  {
   "cell_type": "markdown",
   "metadata": {},
   "source": [
    "# Using Module\n",
    "\n",
    "The simplest way to use module is to import the module name (which is the file name without the .py extension)"
   ]
  },
  {
   "cell_type": "code",
   "execution_count": 1,
   "metadata": {
    "collapsed": false
   },
   "outputs": [
    {
     "name": "stdout",
     "output_type": "stream",
     "text": [
      "Module setup code\n",
      "Hello,  Tableau\n"
     ]
    }
   ],
   "source": [
    "import greeting\n",
    "greeting.hello('Tableau')"
   ]
  },
  {
   "cell_type": "markdown",
   "metadata": {},
   "source": [
    "# Get Help\n",
    "\n",
    "We can get help from the interpreter using the `help()` function or from command line using the `pydoc` command. On Windows, you can find it at `C:\\Python27\\lib\\pydoc.py`. On Mac, `pydoc` is in the path."
   ]
  },
  {
   "cell_type": "code",
   "execution_count": 2,
   "metadata": {
    "collapsed": false
   },
   "outputs": [
    {
     "name": "stdout",
     "output_type": "stream",
     "text": [
      "Help on module greeting:\n",
      "\n",
      "NAME\n",
      "    greeting - A simple module to display greeting and farewell messages\n",
      "\n",
      "DESCRIPTION\n",
      "    This module offers industrial-strength, well-tested (that's the alternate\n",
      "    truth!) functions for greeting and farewelling to your love ones.\n",
      "\n",
      "FUNCTIONS\n",
      "    goodbye(name)\n",
      "        Say farewell\n",
      "        :param name: The name of the person or object\n",
      "    \n",
      "    hello(name)\n",
      "        Say hello\n",
      "        \n",
      "        :param name: The name of the person or object\n",
      "\n",
      "FILE\n",
      "    /anaconda/notebooks/hvu/Learn Python the Hard Way/Hard Way 40 Module Classes and Objects/greeting.py\n",
      "\n",
      "\n"
     ]
    }
   ],
   "source": [
    "help(greeting)"
   ]
  },
  {
   "cell_type": "code",
   "execution_count": null,
   "metadata": {
    "collapsed": true
   },
   "outputs": [],
   "source": []
  }
 ],
 "metadata": {
  "anaconda-cloud": {},
  "kernelspec": {
   "display_name": "Python [default]",
   "language": "python",
   "name": "python3"
  },
  "language_info": {
   "codemirror_mode": {
    "name": "ipython",
    "version": 3
   },
   "file_extension": ".py",
   "mimetype": "text/x-python",
   "name": "python",
   "nbconvert_exporter": "python",
   "pygments_lexer": "ipython3",
   "version": "3.5.2"
  }
 },
 "nbformat": 4,
 "nbformat_minor": 1
}
