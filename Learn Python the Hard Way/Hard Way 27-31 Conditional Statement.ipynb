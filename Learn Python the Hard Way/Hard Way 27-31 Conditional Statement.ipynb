{
 "cells": [
  {
   "cell_type": "markdown",
   "metadata": {},
   "source": [
    "# Truth Testing in Python\n",
    "\n",
    "In Python, everything is `True` except for the following:\n",
    "\n",
    "* `None` value\n",
    "* `False` value\n",
    "* Any zero values: 0 (int), 0.0 (float)\n",
    "* Empty collections: list, tuple, set, dict, ...\n",
    "* Objects with `__nonezero__()` method which returns `False`\n",
    "* Objects with `__len__` method which returns 0\n",
    "\n",
    "For more information, see the [reference](https://docs.python.org/2/library/stdtypes.html?highlight=truth%20value%20testing#truth-value-testing)"
   ]
  },
  {
   "cell_type": "markdown",
   "metadata": {},
   "source": [
    "# Boolean Tips\n",
    "\n",
    "|             Do            |             Don't             |                       Note                       |\n",
    "|---------------------------|-------------------------------|--------------------------------------------------|\n",
    "| if a == b                 | if (a == b)                   | Python do not require parentheses                |\n",
    "| myvar is None             | myvar == None                 | Faster                                           |\n",
    "| myvar not in my_collection | not (myvar in my_collection)   | Shorter, more pythonic                           |\n",
    "| if 1 <= myvar <= 10       | if 1 <= myvar and myvar <= 10 | Shorter, more beautiful                          |\n",
    "| if my_collection           | if len(my_collection) == 0     | Sometimes you prefer the second form for clarity |\n",
    "| if all(a, b, c)           | if a and b and c              | Shorter                                          |\n",
    "| if any(a, b, c)           | if a or b or c                | Shorter, clearer                                 |\n"
   ]
  },
  {
   "cell_type": "markdown",
   "metadata": {},
   "source": [
    "# Dealing with Complex Boolean Expressions\n",
    "\n",
    "When a boolean expression gets long and complicated, it helps to factor it out to a separate function. The name of the function alone should help reducing the complexity and keep the reader focused. For example, consider the following code segment:\n",
    "\n",
    "    if float(dev.version) == float(version) and dev.language == language \\\n",
    "                                            and dev.locale == locale and dev.model == model:\n",
    "                                            \n",
    "If we factor this expression out so the code becomes:\n",
    "\n",
    "    if device_match(dev, version, language, locale, model):\n",
    "    \n",
    "    ...\n",
    "    def device_match(dev, version, language, locale, model):\n",
    "        \"\"\"\n",
    "        Match a device against a set of attribute, return True if they match,\n",
    "        False otherwise.\n",
    "        \"\"\"\n",
    "        expected = (float(version), language, locale, model)\n",
    "        actual = (float(dev.version), dev.language, dev.locale, dev.model)\n",
    "        return expected == actual\n",
    "\n",
    "---\n",
    "\n",
    "Another example, consider the following code:\n",
    "\n",
    "    if expected_row_count is None and expected_column_count is None and \\\n",
    "            expected_data_table is None and excluded_strings is None and included_strings is None:\n",
    "        raise TypeError(\"At least one argument for validation should not be None\")\n",
    "\n",
    "which can be rewritten as:\n",
    "\n",
    "    parameters = [\n",
    "        expected_row_count,\n",
    "        expected_column_count,\n",
    "        expected_data_table,\n",
    "        excluded_strings,\n",
    "        included_strings]\n",
    "        \n",
    "    if all(param is None for param in parameters):\n",
    "\n",
    "... or\n",
    "\n",
    "    if parameters == [None, None, None, None, None]:\n",
    "    \n",
    "... or\n",
    "\n",
    "    if parameters == [None] * 5:\n",
    "    \n",
    "---\n",
    "\n",
    "Consider this code segnment:\n",
    "\n",
    "    #find a session that starts after the test start time or\n",
    "    # cases where desktop session starts first and test starts later\n",
    "    if (session_start_time > test_start_time) or \\\n",
    "            (session_start_time < test_start_time and session_end_time > test_start_time):\n",
    "\n",
    "The logic here is complex enough to ask for a refactor:\n",
    "\n",
    "\n",
    "    if should_record_log(test_start_time, session_start_time, session_end_time):\n",
    "    \n",
    "Not only the rewrite is cleaner, it also communicates the purpose of this if block via the name of the function."
   ]
  },
  {
   "cell_type": "markdown",
   "metadata": {},
   "source": [
    "# String Predicates\n",
    "\n",
    "String class has a number of useful predicates, for examples\n",
    "\n",
    "    mystr.startswith('Sheet')\n",
    "    mystr.endswith('ing')\n",
    "    'Sheet' in mystr\n",
    "    mystr.isalnum()  # 0-9, a-z, A-Z\n",
    "    mystr.isalpha()  # a-z, A-Z\n",
    "    mystr.isdigit()  # 0-9\n",
    "    mystr.isspace()  # \\t, \\n, \\r\n",
    "    mystr.islower()  # a-z\n",
    "    mystr.isupper()  # A-Z\n"
   ]
  },
  {
   "cell_type": "markdown",
   "metadata": {},
   "source": [
    "# Recipe to Eliminate If #1: Loop through a Collection\n",
    "\n",
    "Consider the following function which prints a list of elements from a collection. For some reason, we allow the collection to be None and is optional:"
   ]
  },
  {
   "cell_type": "code",
   "execution_count": 1,
   "metadata": {
    "collapsed": false
   },
   "outputs": [
    {
     "name": "stdout",
     "output_type": "stream",
     "text": [
      "<ul>\n",
      "  <li>John</li>\n",
      "  <li>Paul</li>\n",
      "  <li>George</li>\n",
      "  <li>Ringo</li>\n",
      "</ul>\n"
     ]
    }
   ],
   "source": [
    "def print_collection(my_collection=None):\n",
    "    if my_collection is None:\n",
    "        my_collection = []\n",
    "    print('<ul>')\n",
    "    for element in my_collection:\n",
    "        print('  <li>{}</li>'.format(element))\n",
    "    print('</ul>')\n",
    "    \n",
    "print_collection(['John', 'Paul', 'George', 'Ringo'])"
   ]
  },
  {
   "cell_type": "markdown",
   "metadata": {},
   "source": [
    "When the collection is None (or omitted):"
   ]
  },
  {
   "cell_type": "code",
   "execution_count": 2,
   "metadata": {
    "collapsed": false
   },
   "outputs": [
    {
     "name": "stdout",
     "output_type": "stream",
     "text": [
      "<ul>\n",
      "</ul>\n"
     ]
    }
   ],
   "source": [
    "print_collection()"
   ]
  },
  {
   "cell_type": "markdown",
   "metadata": {},
   "source": [
    "The function above works fine, but I don't like the `if` statement and would like to eliminate it using the `or` trick:"
   ]
  },
  {
   "cell_type": "code",
   "execution_count": 3,
   "metadata": {
    "collapsed": false
   },
   "outputs": [
    {
     "name": "stdout",
     "output_type": "stream",
     "text": [
      "<ul>\n",
      "  <li>John</li>\n",
      "  <li>Paul</li>\n",
      "  <li>George</li>\n",
      "  <li>Ringo</li>\n",
      "</ul>\n"
     ]
    }
   ],
   "source": [
    "def print_collection(my_collection=None):\n",
    "    print('<ul>')\n",
    "    for element in my_collection or []:\n",
    "        print('  <li>{}</li>'.format(element))\n",
    "    print('</ul>')\n",
    "    \n",
    "print_collection(['John', 'Paul', 'George', 'Ringo'])"
   ]
  },
  {
   "cell_type": "markdown",
   "metadata": {},
   "source": [
    "The expression `my_collection or []` works like this: If my_collection is `None` then the `or` expression will continue to evaluate the next term, the empty list and return that empty list. Looping through an empty list will bypass it. Here is the case when `my_collection` is `None`:"
   ]
  },
  {
   "cell_type": "code",
   "execution_count": 4,
   "metadata": {
    "collapsed": false
   },
   "outputs": [
    {
     "name": "stdout",
     "output_type": "stream",
     "text": [
      "<ul>\n",
      "</ul>\n"
     ]
    }
   ],
   "source": [
    "print_collection()"
   ]
  },
  {
   "cell_type": "markdown",
   "metadata": {},
   "source": [
    "# Recipe to Eliminate If #2: Toggle a Flag\n",
    "\n",
    "If we have a boolean flag and want to toggle it, the most straight-forward way is:"
   ]
  },
  {
   "cell_type": "code",
   "execution_count": 5,
   "metadata": {
    "collapsed": true
   },
   "outputs": [],
   "source": [
    "flag = True  # Initial\n",
    "# ... sometime later\n",
    "if flag:\n",
    "    flag = False\n",
    "else:\n",
    "    flag = True"
   ]
  },
  {
   "cell_type": "markdown",
   "metadata": {},
   "source": [
    "Believe it or not, I saw this many times in my career. A better, shorter way is:"
   ]
  },
  {
   "cell_type": "code",
   "execution_count": 6,
   "metadata": {
    "collapsed": true
   },
   "outputs": [],
   "source": [
    "flag = not flag"
   ]
  },
  {
   "cell_type": "markdown",
   "metadata": {},
   "source": [
    "# Recipe to Eliminate If #3: Cycle of Values\n",
    "\n",
    "If we have a value and want to cycle within [0..N], the straight-forward solution is:"
   ]
  },
  {
   "cell_type": "code",
   "execution_count": 7,
   "metadata": {
    "collapsed": true
   },
   "outputs": [],
   "source": [
    "# Initial\n",
    "N = 4\n",
    "myvar = 0\n",
    "\n",
    "# ... sometime later\n",
    "if myvar == 4:\n",
    "    myvar = 0\n",
    "else:\n",
    "    myvar += 1"
   ]
  },
  {
   "cell_type": "markdown",
   "metadata": {},
   "source": [
    "Again, we can eliminate the if block by using the modulus operator:"
   ]
  },
  {
   "cell_type": "code",
   "execution_count": 8,
   "metadata": {
    "collapsed": true
   },
   "outputs": [],
   "source": [
    "myvar = (myvar + 1) % N"
   ]
  },
  {
   "cell_type": "markdown",
   "metadata": {},
   "source": [
    "# Recipe to Eliminate If #4: Cycle of Values\n",
    "\n",
    "A more complex version of the clycing of values has to do with non-numeric (or non-consecutive numeric) values:"
   ]
  },
  {
   "cell_type": "code",
   "execution_count": 9,
   "metadata": {
    "collapsed": false
   },
   "outputs": [
    {
     "name": "stdout",
     "output_type": "stream",
     "text": [
      "red\n",
      "green\n",
      "blue\n",
      "red\n",
      "green\n",
      "blue\n"
     ]
    }
   ],
   "source": [
    "colors = ['red', 'green', 'blue']\n",
    "for i in range(6):\n",
    "    print(colors[i % len(colors)])"
   ]
  },
  {
   "cell_type": "markdown",
   "metadata": {},
   "source": [
    "While the previous code segment already eliminated the `if` statement using the modulus trick we learned earlier, it is far from being readable. A better way is to use `itertools.cycle`:"
   ]
  },
  {
   "cell_type": "code",
   "execution_count": 2,
   "metadata": {
    "collapsed": false
   },
   "outputs": [
    {
     "name": "stdout",
     "output_type": "stream",
     "text": [
      "red\n",
      "green\n",
      "blue\n",
      "red\n",
      "green\n",
      "blue\n"
     ]
    }
   ],
   "source": [
    "import itertools\n",
    "colors = ['red', 'green', 'blue']\n",
    "colors_cycle = itertools.cycle(colors)\n",
    "for _ in range(6):\n",
    "    print(next(colors_cycle))"
   ]
  },
  {
   "cell_type": "markdown",
   "metadata": {},
   "source": [
    "Note that the `cycle` function, as with some other functions in the `itertools` module, are infinite generators. That means they will keep on generating values as long as the caller keep requesting. That means we need a way to put a stop or the loop will run indefinitely. By ziping `range(6)` with the `cycle` generator, we achieve that goal."
   ]
  },
  {
   "cell_type": "code",
   "execution_count": null,
   "metadata": {
    "collapsed": true
   },
   "outputs": [],
   "source": []
  }
 ],
 "metadata": {
  "anaconda-cloud": {},
  "kernelspec": {
   "display_name": "Python [conda root]",
   "language": "python",
   "name": "conda-root-py"
  },
  "language_info": {
   "codemirror_mode": {
    "name": "ipython",
    "version": 3
   },
   "file_extension": ".py",
   "mimetype": "text/x-python",
   "name": "python",
   "nbconvert_exporter": "python",
   "pygments_lexer": "ipython3",
   "version": "3.5.2"
  }
 },
 "nbformat": 4,
 "nbformat_minor": 1
}
