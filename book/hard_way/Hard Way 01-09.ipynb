{
 "cells": [
  {
   "cell_type": "markdown",
   "metadata": {},
   "source": [
    "### Use multiline string to make formatting easier"
   ]
  },
  {
   "cell_type": "code",
   "execution_count": 1,
   "metadata": {
    "collapsed": false
   },
   "outputs": [
    {
     "name": "stdout",
     "output_type": "stream",
     "text": [
      "Let's talk about Zed A. Shaw\n",
      "He is 74 inches tall.\n",
      "He is 180 pounds heavy.\n",
      "Actually, that's not too heavy.\n",
      "He's god blue eyes and brown hair.\n",
      "His teeth are usually white depending on the coffee\n"
     ]
    }
   ],
   "source": [
    "my_name = 'Zed A. Shaw'\n",
    "my_age = 35 # not a lie\n",
    "my_height = 74 # inches\n",
    "my_weight = 180 # lbs\n",
    "my_eyes = 'blue'\n",
    "my_teeth = 'white'\n",
    "my_hair = 'brown'\n",
    "\n",
    "print(\"Let's talk about %s\" % my_name)\n",
    "print(\"He is %d inches tall.\"% my_height)\n",
    "print(\"He is %d pounds heavy.\" % my_weight)\n",
    "print(\"Actually, that's not too heavy.\")\n",
    "print(\"He's god %s eyes and %s hair.\" % (my_eyes, my_hair))\n",
    "print(\"His teeth are usually %s depending on the coffee\" % my_teeth)\n"
   ]
  },
  {
   "cell_type": "markdown",
   "metadata": {},
   "source": [
    "### %s vs %r\n",
    "\n",
    "The %s spec will display a string for visual display, while the %r spec aims for debugging:"
   ]
  },
  {
   "cell_type": "code",
   "execution_count": 2,
   "metadata": {
    "collapsed": false
   },
   "outputs": [
    {
     "name": "stdout",
     "output_type": "stream",
     "text": [
      "Visual: Sheet 1 \n",
      "Debug: 'Sheet 1 '\n"
     ]
    }
   ],
   "source": [
    "window_name = \"Sheet 1 \"\n",
    "print(\"Visual: %s\" % window_name)\n",
    "print(\"Debug: %r\" % window_name)"
   ]
  },
  {
   "cell_type": "markdown",
   "metadata": {
    "collapsed": true
   },
   "source": [
    "### Printing in Python 2 vs. Python 3\n",
    "\n",
    "In Python 2, print is a statement. In Python 3, it is a function. So why does it matter? The decision for turning print into a function is discussed in [PEP 3105][1], but I hardly agree with any of them, except for two reasons:\n",
    "\n",
    "1. If print is a function, it's easier to replace it with something else, for example: print(...) ==> logger.info(...)\n",
    "2. We can even define a new print function and override the default behavior:\n",
    "\n",
    "        def print(*args, **kwargs):\n",
    "            # override the default behavior here\n",
    "            \n"
   ]
  },
  {
   "cell_type": "markdown",
   "metadata": {
    "collapsed": true
   },
   "source": [
    "### Using print function with Python 2\n",
    "\n",
    "If you are using Python 2 and want to start the print function, put this as the first executable statement in your script:\n",
    "\n",
    "    from __future__ import print_function\n",
    "    \n",
    "For me, I like print as a statement because I don't have to type those paretheses.\n",
    "\n",
    "[1]: https://www.python.org/dev/peps/pep-3105/#rationale\n"
   ]
  },
  {
   "cell_type": "code",
   "execution_count": null,
   "metadata": {
    "collapsed": true
   },
   "outputs": [],
   "source": []
  }
 ],
 "metadata": {
  "anaconda-cloud": {},
  "kernelspec": {
   "display_name": "Python [conda root]",
   "language": "python",
   "name": "conda-root-py"
  },
  "language_info": {
   "codemirror_mode": {
    "name": "ipython",
    "version": 3
   },
   "file_extension": ".py",
   "mimetype": "text/x-python",
   "name": "python",
   "nbconvert_exporter": "python",
   "pygments_lexer": "ipython3",
   "version": "3.5.2"
  }
 },
 "nbformat": 4,
 "nbformat_minor": 0
}
