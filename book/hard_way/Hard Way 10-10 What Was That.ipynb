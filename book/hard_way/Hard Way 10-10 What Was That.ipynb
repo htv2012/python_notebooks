{
 "cells": [
  {
   "cell_type": "code",
   "execution_count": 1,
   "metadata": {
    "collapsed": false
   },
   "outputs": [
    {
     "name": "stdout",
     "output_type": "stream",
     "text": [
      "I'll do a list:\n",
      "- Cat food\n",
      "- Fishies\n",
      "- Catnip\n",
      "- Grass\n"
     ]
    }
   ],
   "source": [
    "my_list = ['Cat food', 'Fishies', 'Catnip', 'Grass']\n",
    "print(\"I'll do a list:\")\n",
    "print('\\n'.join('- {}'.format(element) for element in my_list))"
   ]
  },
  {
   "cell_type": "code",
   "execution_count": 2,
   "metadata": {
    "collapsed": false
   },
   "outputs": [
    {
     "name": "stdout",
     "output_type": "stream",
     "text": [
      "I'll do a list:\n",
      "- Cat food\n",
      "- Fishies\n",
      "- Catnip\n",
      "- Grass\n"
     ]
    }
   ],
   "source": [
    "my_list = ['Cat food', 'Fishies', 'Catnip', 'Grass']\n",
    "print(\"I'll do a list:\")\n",
    "for element in my_list:\n",
    "    print('-', element)"
   ]
  },
  {
   "cell_type": "markdown",
   "metadata": {
    "collapsed": true
   },
   "source": [
    "# Random Notes"
   ]
  }
 ],
 "metadata": {
  "kernelspec": {
   "display_name": "Python [conda root]",
   "language": "python",
   "name": "conda-root-py"
  },
  "language_info": {
   "codemirror_mode": {
    "name": "ipython",
    "version": 3
   },
   "file_extension": ".py",
   "mimetype": "text/x-python",
   "name": "python",
   "nbconvert_exporter": "python",
   "pygments_lexer": "ipython3",
   "version": "3.5.2"
  }
 },
 "nbformat": 4,
 "nbformat_minor": 1
}
