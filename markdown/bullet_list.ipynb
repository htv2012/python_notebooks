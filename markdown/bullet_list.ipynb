{
 "cells": [
  {
   "cell_type": "markdown",
   "metadata": {},
   "source": [
    "# Format markdown bullet list"
   ]
  },
  {
   "cell_type": "code",
   "execution_count": 19,
   "metadata": {},
   "outputs": [],
   "source": [
    "import re\n",
    "import textwrap"
   ]
  },
  {
   "cell_type": "code",
   "execution_count": 15,
   "metadata": {},
   "outputs": [],
   "source": [
    "text = \"\"\"- Lorem ipsum dolor sit amet, consectetur adipiscing elit. Aliquam suscipit est quam\n",
    "- a luctus ex porta id. Phasellus varius dui felis. Aliquam at consectetur tellus. Nunc elementum\n",
    "- turpis mi, eget \n",
    "faucibus libero \n",
    "- Integer consequat, justo at condimentum dictum,\n",
    "leo erat sollicitudin nunc, at porttitor magna justo ut leo. \n",
    "\"\"\""
   ]
  },
  {
   "cell_type": "code",
   "execution_count": 16,
   "metadata": {},
   "outputs": [
    {
     "name": "stdout",
     "output_type": "stream",
     "text": [
      "- Lorem ipsum dolor sit amet, consectetur adipiscing elit. Aliquam suscipit est quam\n",
      "- a luctus ex porta id. Phasellus varius dui felis. Aliquam at consectetur tellus. Nunc elementum\n",
      "- turpis mi, eget \n",
      "faucibus libero \n",
      "- Integer consequat, justo at condimentum dictum,\n",
      "leo erat sollicitudin nunc, at porttitor magna justo ut leo. \n",
      "\n"
     ]
    }
   ],
   "source": [
    "print(text)"
   ]
  },
  {
   "cell_type": "code",
   "execution_count": 28,
   "metadata": {},
   "outputs": [],
   "source": [
    "def bullet_split(text):\n",
    "    return re.split(\"\\n\\s*-\\s+\", text.lstrip(\"- \"))"
   ]
  },
  {
   "cell_type": "code",
   "execution_count": 29,
   "metadata": {},
   "outputs": [
    {
     "name": "stdout",
     "output_type": "stream",
     "text": [
      "Lorem ipsum dolor sit amet, consectetur adipiscing elit. Aliquam suscipit est quam\n",
      "--------------------------------------------------------------------------------\n",
      "a luctus ex porta id. Phasellus varius dui felis. Aliquam at consectetur tellus. Nunc elementum\n",
      "--------------------------------------------------------------------------------\n",
      "turpis mi, eget \n",
      "faucibus libero \n",
      "--------------------------------------------------------------------------------\n",
      "Integer consequat, justo at condimentum dictum,\n",
      "leo erat sollicitudin nunc, at porttitor magna justo ut leo. \n",
      "\n",
      "--------------------------------------------------------------------------------\n"
     ]
    }
   ],
   "source": [
    "for block in  bullet_split(text):\n",
    "    print(block)\n",
    "    print('-' * 80)"
   ]
  },
  {
   "cell_type": "code",
   "execution_count": 30,
   "metadata": {},
   "outputs": [
    {
     "name": "stdout",
     "output_type": "stream",
     "text": [
      "\n",
      "- Lorem ipsum dolor sit amet, consectetur adipiscing elit. Aliquam\n",
      "  suscipit est quam\n",
      "- a luctus ex porta id. Phasellus varius dui felis. Aliquam at\n",
      "  consectetur tellus. Nunc elementum\n",
      "buffer faucibus libero\n",
      "buffer leo erat sollicitudin nunc, at porttitor magna justo ut leo.\n"
     ]
    }
   ],
   "source": [
    "wrapper = textwrap.TextWrapper(width=72, subsequent_indent=\"  \")\n",
    "buffer = \"\"\n",
    "for line in lines:\n",
    "    if line.strip().startswith(\"-\"):\n",
    "        print(wrapper.fill(buffer))\n",
    "        buffer = line\n",
    "    else:\n",
    "        buffer = f\"buffer\\n{line}\"\n",
    "print(wrapper.fill(buffer))"
   ]
  },
  {
   "cell_type": "code",
   "execution_count": 31,
   "metadata": {},
   "outputs": [
    {
     "data": {
      "text/plain": [
       "'- Lorem ipsum dolor sit amet, consectetur adipiscing elit. Aliquam suscipit est quam\\n- a luctus ex porta id. Phasellus varius dui felis. Aliquam at consectetur tellus. Nunc elementum\\n- turpis mi, eget \\nfaucibus libero \\n- Integer consequat, justo at condimentum dictum,\\nleo erat sollicitudin nunc, at porttitor magna justo ut leo. \\n'"
      ]
     },
     "execution_count": 31,
     "metadata": {},
     "output_type": "execute_result"
    }
   ],
   "source": [
    "text"
   ]
  },
  {
   "cell_type": "code",
   "execution_count": 35,
   "metadata": {},
   "outputs": [],
   "source": [
    "new_text = re.sub(\"\\n- \", \"\\n\\n- \", text)"
   ]
  },
  {
   "cell_type": "code",
   "execution_count": 36,
   "metadata": {},
   "outputs": [
    {
     "name": "stdout",
     "output_type": "stream",
     "text": [
      "- Lorem ipsum dolor sit amet, consectetur adipiscing elit. Aliquam\n",
      "  suscipit est quam - a luctus ex porta id. Phasellus varius dui felis.\n",
      "  Aliquam at consectetur tellus. Nunc elementum - turpis mi, eget\n",
      "  faucibus libero  - Integer consequat, justo at condimentum dictum, leo\n",
      "  erat sollicitudin nunc, at porttitor magna justo ut leo.\n"
     ]
    }
   ],
   "source": [
    "wrapper = textwrap.TextWrapper(width=72, subsequent_indent=\"  \")\n",
    "print(wrapper.fill(text))"
   ]
  },
  {
   "cell_type": "code",
   "execution_count": 38,
   "metadata": {},
   "outputs": [
    {
     "data": {
      "text/plain": [
       "['- Lorem ipsum dolor sit amet, consectetur adipiscing elit. Aliquam suscipit est quam',\n",
       " '- a luctus ex porta id. Phasellus varius dui felis. Aliquam at consectetur tellus. Nunc elementum',\n",
       " '- turpis mi, eget \\nfaucibus libero ',\n",
       " '- Integer consequat, justo at condimentum dictum,\\nleo erat sollicitudin nunc, at porttitor magna justo ut leo. \\n']"
      ]
     },
     "execution_count": 38,
     "metadata": {},
     "output_type": "execute_result"
    }
   ],
   "source": [
    "new_text.split(\"\\n\\n\")"
   ]
  },
  {
   "cell_type": "code",
   "execution_count": 39,
   "metadata": {},
   "outputs": [
    {
     "data": {
      "text/plain": [
       "'- Lorem ipsum dolor sit amet, consectetur adipiscing elit. Aliquam suscipit est quam\\n- a luctus ex porta id. Phasellus varius dui felis. Aliquam at consectetur tellus. Nunc elementum\\n- turpis mi, eget \\nfaucibus libero \\n- Integer consequat, justo at condimentum dictum,\\nleo erat sollicitudin nunc, at porttitor magna justo ut leo. \\n'"
      ]
     },
     "execution_count": 39,
     "metadata": {},
     "output_type": "execute_result"
    }
   ],
   "source": [
    "text"
   ]
  },
  {
   "cell_type": "code",
   "execution_count": 40,
   "metadata": {},
   "outputs": [
    {
     "name": "stdout",
     "output_type": "stream",
     "text": [
      "- Lorem ipsum dolor sit amet, consectetur adipiscing elit. Aliquam suscipit est quam\n",
      "- a luctus ex porta id. Phasellus varius dui felis. Aliquam at consectetur tellus. Nunc elementum\n",
      "- turpis mi, eget \n",
      "faucibus libero \n",
      "- Integer consequat, justo at condimentum dictum,\n",
      "leo erat sollicitudin nunc, at porttitor magna justo ut leo. \n",
      "\n"
     ]
    }
   ],
   "source": [
    "print(text)"
   ]
  },
  {
   "cell_type": "code",
   "execution_count": null,
   "metadata": {},
   "outputs": [],
   "source": [
    "buffer = \"\""
   ]
  }
 ],
 "metadata": {
  "kernelspec": {
   "display_name": "Python 3",
   "language": "python",
   "name": "python3"
  },
  "language_info": {
   "codemirror_mode": {
    "name": "ipython",
    "version": 3
   },
   "file_extension": ".py",
   "mimetype": "text/x-python",
   "name": "python",
   "nbconvert_exporter": "python",
   "pygments_lexer": "ipython3",
   "version": "3.7.3"
  }
 },
 "nbformat": 4,
 "nbformat_minor": 4
}
