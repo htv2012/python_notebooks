{
 "cells": [
  {
   "cell_type": "code",
   "execution_count": 19,
   "id": "81987eba-21ee-4929-8fa4-ef9fc17bc786",
   "metadata": {},
   "outputs": [],
   "source": [
    "from contextlib import suppress\n",
    "\n",
    "def method1(di):\n",
    "    with suppress(KeyError):\n",
    "        return di[\"key1\"]\n",
    "    return None\n",
    "\n",
    "def method2(di):\n",
    "    with suppress(KeyError):\n",
    "        return di[\"key2\"]\n",
    "    return None\n",
    "\n",
    "def get_date(html):\n",
    "    bag_of_methods = [method1, method2]\n",
    "    for method in bag_of_methods:\n",
    "        result = method(html)\n",
    "        if result:\n",
    "            return result\n",
    "    return False"
   ]
  },
  {
   "cell_type": "code",
   "execution_count": 20,
   "id": "e44af2f5-1d00-4361-afbd-f98bdda1ce28",
   "metadata": {},
   "outputs": [
    {
     "data": {
      "text/plain": [
       "'foo'"
      ]
     },
     "execution_count": 20,
     "metadata": {},
     "output_type": "execute_result"
    }
   ],
   "source": [
    "get_date({\"key1\": \"foo\"})"
   ]
  },
  {
   "cell_type": "code",
   "execution_count": 21,
   "id": "858d40c6-7216-4b1c-9389-a2f8ef1b31eb",
   "metadata": {},
   "outputs": [
    {
     "data": {
      "text/plain": [
       "'bar'"
      ]
     },
     "execution_count": 21,
     "metadata": {},
     "output_type": "execute_result"
    }
   ],
   "source": [
    "get_date({\"key2\": \"bar\"})"
   ]
  },
  {
   "cell_type": "code",
   "execution_count": 22,
   "id": "3647c173-c9e0-41c8-beaa-dc413b86b047",
   "metadata": {},
   "outputs": [
    {
     "data": {
      "text/plain": [
       "False"
      ]
     },
     "execution_count": 22,
     "metadata": {},
     "output_type": "execute_result"
    }
   ],
   "source": [
    "get_date({\"key3\": \"moo\"})"
   ]
  },
  {
   "cell_type": "code",
   "execution_count": 26,
   "id": "89be886c-10e2-4b94-919f-91c514ce9c1f",
   "metadata": {},
   "outputs": [],
   "source": [
    "from contextlib import suppress\n",
    "\n",
    "\n",
    "def method1(di):\n",
    "    with suppress(KeyError):\n",
    "        return di[\"key1\"]\n",
    "    return None\n",
    "\n",
    "\n",
    "def method2(di):\n",
    "    with suppress(KeyError):\n",
    "        return di[\"key2\"]\n",
    "    return None\n",
    "\n",
    "\n",
    "class CallChain:\n",
    "    def __init__(self, *methods):\n",
    "        self.methods = methods\n",
    "        \n",
    "    def __call__(self, *args, **kwargs):\n",
    "        for method in self.methods:\n",
    "            result = method(*args, **kwargs)\n",
    "            if result is not None:\n",
    "                return result\n",
    "        return False"
   ]
  },
  {
   "cell_type": "code",
   "execution_count": 27,
   "id": "d1818021-d68c-4e1a-ab4e-7bf1aac11e73",
   "metadata": {},
   "outputs": [],
   "source": [
    "get_date = CallChain(method1, method2)"
   ]
  },
  {
   "cell_type": "code",
   "execution_count": 28,
   "id": "42e5d777-7aca-4429-ae6a-98f5b6e6a0d9",
   "metadata": {},
   "outputs": [
    {
     "data": {
      "text/plain": [
       "'foo'"
      ]
     },
     "execution_count": 28,
     "metadata": {},
     "output_type": "execute_result"
    }
   ],
   "source": [
    "get_date({\"key1\": \"foo\"})"
   ]
  },
  {
   "cell_type": "code",
   "execution_count": 29,
   "id": "c297b4e1-5e8a-41a1-9bda-4d1db421c9b9",
   "metadata": {},
   "outputs": [
    {
     "data": {
      "text/plain": [
       "'bar'"
      ]
     },
     "execution_count": 29,
     "metadata": {},
     "output_type": "execute_result"
    }
   ],
   "source": [
    "get_date({\"key2\": \"bar\"})"
   ]
  },
  {
   "cell_type": "code",
   "execution_count": 30,
   "id": "dd60c686-1677-4280-8637-d6979be9eba4",
   "metadata": {},
   "outputs": [
    {
     "data": {
      "text/plain": [
       "False"
      ]
     },
     "execution_count": 30,
     "metadata": {},
     "output_type": "execute_result"
    }
   ],
   "source": [
    "get_date({\"key3\": \"moo\"})"
   ]
  },
  {
   "cell_type": "code",
   "execution_count": 35,
   "id": "69df4dff-5f54-4b29-999b-33a66430a43e",
   "metadata": {},
   "outputs": [],
   "source": [
    "from contextlib import suppress\n",
    "\n",
    "\n",
    "def method1(di):\n",
    "    with suppress(KeyError):\n",
    "        return di[\"key1\"]\n",
    "    return None\n",
    "\n",
    "\n",
    "def method2(di):\n",
    "    with suppress(KeyError):\n",
    "        return di[\"key2\"]\n",
    "    return None\n",
    "\n",
    "\n",
    "def call_chain(*methods):\n",
    "    def call_it(*args, **kwargs):\n",
    "        for method in methods:\n",
    "            result = method(*args, **kwargs)\n",
    "            if result is not None:\n",
    "                return result\n",
    "        return False\n",
    "    return call_it"
   ]
  },
  {
   "cell_type": "code",
   "execution_count": 36,
   "id": "2c2ae195-ef31-40d4-abb6-4ef8025e455f",
   "metadata": {},
   "outputs": [],
   "source": [
    "get_date = call_chain(method1, method2)"
   ]
  },
  {
   "cell_type": "code",
   "execution_count": 37,
   "id": "9870da6c-3f15-4e99-86d0-6f227b85e53c",
   "metadata": {},
   "outputs": [
    {
     "data": {
      "text/plain": [
       "'foo'"
      ]
     },
     "execution_count": 37,
     "metadata": {},
     "output_type": "execute_result"
    }
   ],
   "source": [
    "get_date({\"key1\": \"foo\"})"
   ]
  },
  {
   "cell_type": "code",
   "execution_count": 38,
   "id": "765802b4-3289-4627-be4e-cc208350678a",
   "metadata": {},
   "outputs": [
    {
     "data": {
      "text/plain": [
       "'bar'"
      ]
     },
     "execution_count": 38,
     "metadata": {},
     "output_type": "execute_result"
    }
   ],
   "source": [
    "get_date({\"key2\": \"bar\"})"
   ]
  },
  {
   "cell_type": "code",
   "execution_count": 39,
   "id": "b307de1c-dde1-4f2e-a727-6c10a5949a05",
   "metadata": {},
   "outputs": [
    {
     "data": {
      "text/plain": [
       "False"
      ]
     },
     "execution_count": 39,
     "metadata": {},
     "output_type": "execute_result"
    }
   ],
   "source": [
    "get_date({\"key3\": \"moo\"})"
   ]
  },
  {
   "cell_type": "code",
   "execution_count": null,
   "id": "9c56368a-2311-416d-af9c-966da7898f90",
   "metadata": {},
   "outputs": [],
   "source": []
  }
 ],
 "metadata": {
  "kernelspec": {
   "display_name": "Python 3 (ipykernel)",
   "language": "python",
   "name": "python3"
  },
  "language_info": {
   "codemirror_mode": {
    "name": "ipython",
    "version": 3
   },
   "file_extension": ".py",
   "mimetype": "text/x-python",
   "name": "python",
   "nbconvert_exporter": "python",
   "pygments_lexer": "ipython3",
   "version": "3.10.5"
  }
 },
 "nbformat": 4,
 "nbformat_minor": 5
}
