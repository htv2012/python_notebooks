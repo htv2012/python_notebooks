{
 "cells": [
  {
   "cell_type": "code",
   "execution_count": 1,
   "metadata": {},
   "outputs": [],
   "source": [
    "from bs4 import BeautifulSoup\n",
    "import requests"
   ]
  },
  {
   "cell_type": "code",
   "execution_count": 11,
   "metadata": {},
   "outputs": [],
   "source": [
    "def search(terms):\n",
    "    root = \"https://lyric.tkaraoke.com\"\n",
    "    search_terms = terms.strip().replace(\" \", \"+\")\n",
    "    url = f\"{root}/s.tim?q={search_terms}\"\n",
    "    \n",
    "    response = requests.get(url)\n",
    "    html = BeautifulSoup(response.text, \"html.parser\")\n",
    "    \n",
    "    found_list = html.find_all(\"span\", class_=\"high-light-song-name\")\n",
    "    if found_list is None:\n",
    "        return\n",
    "    \n",
    "    for found in found_list:\n",
    "        author_para = found.parent.parent.parent.find(\"p\", class_=\"p-author\")\n",
    "        author = author_para.find(\"a\")\n",
    "        if author is None:\n",
    "            author = \"\"\n",
    "        else:\n",
    "            author = author.text\n",
    "\n",
    "        details_url = f\"{root}{found.parent['href']}\"\n",
    "        title = found.text\n",
    "        yield details_url, title, author"
   ]
  },
  {
   "cell_type": "code",
   "execution_count": 12,
   "metadata": {},
   "outputs": [
    {
     "data": {
      "text/plain": [
       "<generator object search at 0x10d57a190>"
      ]
     },
     "execution_count": 12,
     "metadata": {},
     "output_type": "execute_result"
    }
   ],
   "source": [
    "search(\"cho toi duoc mot lan\")"
   ]
  },
  {
   "cell_type": "code",
   "execution_count": 13,
   "metadata": {},
   "outputs": [
    {
     "name": "stdout",
     "output_type": "stream",
     "text": [
      "('https://lyric.tkaraoke.com/55869/lien_khuc_mua_thu_trong_mua__nho_mua_hoa_tim.html', 'Mùa Thu Trong Mưa', 'Trường Sa')\n",
      "('https://lyric.tkaraoke.com/36904/lk_mua_thu_trong_mua__bup_be_khong_tinh_yeu.html', 'Mùa Thu Trong Mua', 'Vũ Xuân Hùng')\n",
      "('https://lyric.tkaraoke.com/14246/mua_thu_trong_mua.html', 'Mùa Thu Trong Mưa', 'Trường Sa')\n"
     ]
    }
   ],
   "source": [
    "for x in search(\"mua thu trong mua\"):\n",
    "    print(x)"
   ]
  },
  {
   "cell_type": "code",
   "execution_count": null,
   "metadata": {},
   "outputs": [],
   "source": []
  }
 ],
 "metadata": {
  "kernelspec": {
   "display_name": "Python 3",
   "language": "python",
   "name": "python3"
  },
  "language_info": {
   "codemirror_mode": {
    "name": "ipython",
    "version": 3
   },
   "file_extension": ".py",
   "mimetype": "text/x-python",
   "name": "python",
   "nbconvert_exporter": "python",
   "pygments_lexer": "ipython3",
   "version": "3.9.0"
  }
 },
 "nbformat": 4,
 "nbformat_minor": 4
}
