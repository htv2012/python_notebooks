{
 "cells": [
  {
   "cell_type": "markdown",
   "metadata": {},
   "source": [
    "I recently encountered a couple of small projects written in Python which use the singleton design pattern to keep track of some data. This post will discuss what singleton design pattern is, why do we need them, and how to implement them.\n",
    "\n",
    "\n",
    "## What is Singleton Design Pattern?\n",
    "\n",
    "A singleton design pattern is a design in which a class can only have one instance. There are many uses of this design pattern. For example, we can use a singleton class to keep track of an application's settings, or to implement a logging object which is shared among the modules.\n"
   ]
  },
  {
   "cell_type": "markdown",
   "metadata": {},
   "source": [
    "## Implement by overriding the `__new__` Method\n",
    "\n",
    "By overriding the `__new__` method, we can implement the singleton pattern. Consider the example below:"
   ]
  },
  {
   "cell_type": "code",
   "execution_count": 1,
   "metadata": {},
   "outputs": [],
   "source": [
    "class Singleton:\n",
    "    _instance = None\n",
    "    \n",
    "    @classmethod\n",
    "    def __new__(cls, *args, **kwargs):\n",
    "        if cls._instance is None:\n",
    "            cls._instance = super().__new__(*args, **kwargs)\n",
    "        return cls._instance"
   ]
  },
  {
   "cell_type": "markdown",
   "metadata": {},
   "source": [
    "The code above ensure that there is only one instance of the class `Singleton` ever created. Let's see an example:"
   ]
  },
  {
   "cell_type": "code",
   "execution_count": 2,
   "metadata": {},
   "outputs": [
    {
     "name": "stdout",
     "output_type": "stream",
     "text": [
      "Two objects are the same\n"
     ]
    }
   ],
   "source": [
    "object1 = Singleton()\n",
    "object2 = Singleton()\n",
    "\n",
    "if object1 is object2:\n",
    "    print('Two objects are the same')"
   ]
  },
  {
   "cell_type": "markdown",
   "metadata": {},
   "source": [
    "This method is easy to implement and does not require the caller to call any special function, they can just instantiate objects as normal. The drawback is we need to do this for every singleton classes."
   ]
  },
  {
   "cell_type": "markdown",
   "metadata": {},
   "source": [
    "## Implement using Decorator\n",
    "\n",
    "Another way to create singleton class is to use a decorator."
   ]
  },
  {
   "cell_type": "code",
   "execution_count": 3,
   "metadata": {},
   "outputs": [],
   "source": [
    "def singleton(cls):\n",
    "    instances = {}\n",
    "    \n",
    "    def create_instance(*args, **kwargs):\n",
    "        if cls not in instances:\n",
    "            instances[cls] = cls(*args, **kwargs)\n",
    "        return instances[cls]\n",
    "    \n",
    "    return create_instance"
   ]
  },
  {
   "cell_type": "markdown",
   "metadata": {},
   "source": [
    "With this decorator, we can turn a class into a singleton:"
   ]
  },
  {
   "cell_type": "code",
   "execution_count": 4,
   "metadata": {},
   "outputs": [
    {
     "name": "stdout",
     "output_type": "stream",
     "text": [
      "They are the same\n"
     ]
    }
   ],
   "source": [
    "@singleton\n",
    "class Settings:\n",
    "    pass\n",
    "\n",
    "settings1 = Settings()\n",
    "settings2 = Settings()\n",
    "\n",
    "if settings1 is settings2:\n",
    "    print('They are the same')"
   ]
  },
  {
   "cell_type": "markdown",
   "metadata": {},
   "source": [
    "The advantage of this method is we can apply the same decorator to many classes."
   ]
  },
  {
   "cell_type": "markdown",
   "metadata": {},
   "source": [
    "## Implement Using Module\n",
    "\n",
    "In my opinion, the most pythonic way to create a singleton is to use a module. For example, we keep track of an application's settings by creating a module calls settings.py and store information there:"
   ]
  },
  {
   "cell_type": "code",
   "execution_count": 5,
   "metadata": {},
   "outputs": [],
   "source": [
    "# settings.py\n",
    "\n",
    "user = 'user1001'\n",
    "port = 9001\n",
    "production = False"
   ]
  },
  {
   "cell_type": "markdown",
   "metadata": {},
   "source": [
    "Since there is only one instance of the module loaded into memory, it is the ultimate singleton. This implementation so far is the simplest which drop all ceremonies and get right to the point."
   ]
  },
  {
   "cell_type": "markdown",
   "metadata": {},
   "source": [
    "## Conclusion\n",
    "\n",
    "In this post, I discussed ways to implement singleton. However, the question is, \"do I really need singleton?\" I have been a software engineer for nearly 30 years and only see a couple of cases where we really need singleton. So, before rushing in and implementing the singleton for your application; take a step back and ask yourself if you really need it and what the alternatives are."
   ]
  }
 ],
 "metadata": {
  "kernelspec": {
   "display_name": "Python 3",
   "language": "python",
   "name": "python3"
  },
  "language_info": {
   "codemirror_mode": {
    "name": "ipython",
    "version": 3
   },
   "file_extension": ".py",
   "mimetype": "text/x-python",
   "name": "python",
   "nbconvert_exporter": "python",
   "pygments_lexer": "ipython3",
   "version": "3.7.3"
  }
 },
 "nbformat": 4,
 "nbformat_minor": 4
}
