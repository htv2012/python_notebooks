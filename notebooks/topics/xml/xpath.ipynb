{
 "cells": [
  {
   "cell_type": "markdown",
   "metadata": {},
   "source": [
    "# Xml Search\n",
    "\n",
    "Problem: Given the following XML:\n",
    "\n",
    "```\n",
    "<root>\n",
    "\t<ContentProtection schemeIdUri=\"5\">\n",
    "\t\t<pssh>yes</pssh>\n",
    "\t\t<pssh>right on</pssh>\n",
    "\t</ContentProtection>\n",
    "\t<ContentProtection schemeIdUri=\"6\">\n",
    "\t\t<pssh>no</pssh>\n",
    "\t</ContentProtection>\n",
    "</root>\n",
    "```\n",
    "\n",
    "I want to find those pssh nodes under ContentProtection which has schemeIdUri of 5"
   ]
  },
  {
   "cell_type": "code",
   "execution_count": 1,
   "metadata": {},
   "outputs": [],
   "source": [
    "import xml.etree.ElementTree as ET"
   ]
  },
  {
   "cell_type": "code",
   "execution_count": 12,
   "metadata": {},
   "outputs": [],
   "source": [
    "tree = ET.fromstring(\"\"\"<root>\n",
    "\t<ContentProtection schemeIdUri=\"5\">\n",
    "\t\t<pssh>yes</pssh>\n",
    "\t\t<pssh>right on</pssh>\n",
    "\t</ContentProtection>\n",
    "\t<ContentProtection schemeIdUri=\"6\">\n",
    "\t\t<pssh>no</pssh>\n",
    "\t</ContentProtection>\n",
    "</root>\n",
    "\"\"\")"
   ]
  },
  {
   "cell_type": "code",
   "execution_count": 13,
   "metadata": {},
   "outputs": [
    {
     "data": {
      "text/plain": [
       "['yes', 'right on']"
      ]
     },
     "execution_count": 13,
     "metadata": {},
     "output_type": "execute_result"
    }
   ],
   "source": [
    "[e.text for e in tree.findall(\".//ContentProtection[@schemeIdUri='5']/pssh\")]"
   ]
  },
  {
   "cell_type": "code",
   "execution_count": null,
   "metadata": {},
   "outputs": [],
   "source": []
  }
 ],
 "metadata": {
  "kernelspec": {
   "display_name": "Python 3",
   "language": "python",
   "name": "python3"
  },
  "language_info": {
   "codemirror_mode": {
    "name": "ipython",
    "version": 3
   },
   "file_extension": ".py",
   "mimetype": "text/x-python",
   "name": "python",
   "nbconvert_exporter": "python",
   "pygments_lexer": "ipython3",
   "version": "3.7.3"
  }
 },
 "nbformat": 4,
 "nbformat_minor": 4
}
