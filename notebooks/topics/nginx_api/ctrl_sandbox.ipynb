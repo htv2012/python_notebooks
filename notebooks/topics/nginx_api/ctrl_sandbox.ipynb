{
 "cells": [
  {
   "cell_type": "markdown",
   "metadata": {},
   "source": [
    "# Playground for NGINX Controller API"
   ]
  },
  {
   "cell_type": "code",
   "execution_count": 43,
   "metadata": {},
   "outputs": [],
   "source": [
    "import json\n",
    "from pprint import pprint\n",
    "import urllib3\n",
    "\n",
    "import requests"
   ]
  },
  {
   "cell_type": "code",
   "execution_count": 44,
   "metadata": {},
   "outputs": [],
   "source": [
    "urllib3.disable_warnings()"
   ]
  },
  {
   "cell_type": "code",
   "execution_count": 45,
   "metadata": {},
   "outputs": [],
   "source": [
    "se = requests.Session()"
   ]
  },
  {
   "cell_type": "code",
   "execution_count": 46,
   "metadata": {},
   "outputs": [],
   "source": [
    "se.verify = False"
   ]
  },
  {
   "cell_type": "code",
   "execution_count": 47,
   "metadata": {},
   "outputs": [
    {
     "data": {
      "text/plain": [
       "<Response [204]>"
      ]
     },
     "execution_count": 47,
     "metadata": {},
     "output_type": "execute_result"
    }
   ],
   "source": [
    "r = se.post(\n",
    "    \"https://52.38.180.93/api/v1/platform/login\",\n",
    "    json = {\n",
    "        \"credentials\": {\n",
    "            \"username\": \"admin@nginx.test\",\n",
    "            \"password\": \"Testenv12#\",\n",
    "            \"type\": \"BASIC\"\n",
    "        }\n",
    "    }\n",
    ")\n",
    "r"
   ]
  },
  {
   "cell_type": "code",
   "execution_count": 27,
   "metadata": {},
   "outputs": [
    {
     "name": "stderr",
     "output_type": "stream",
     "text": [
      "/home/pi/.virtualenv/python_notebooks/lib/python3.7/site-packages/urllib3/connectionpool.py:986: InsecureRequestWarning: Unverified HTTPS request is being made to host '52.38.180.93'. Adding certificate verification is strongly advised. See: https://urllib3.readthedocs.io/en/latest/advanced-usage.html#ssl-warnings\n",
      "  InsecureRequestWarning,\n"
     ]
    },
    {
     "data": {
      "text/plain": [
       "<Response [200]>"
      ]
     },
     "execution_count": 27,
     "metadata": {},
     "output_type": "execute_result"
    }
   ],
   "source": [
    "r = se.get(\"https://52.38.180.93/api/v1/services/environments\")\n",
    "r"
   ]
  },
  {
   "cell_type": "code",
   "execution_count": 28,
   "metadata": {},
   "outputs": [
    {
     "data": {
      "text/plain": [
       "{'items': []}"
      ]
     },
     "execution_count": 28,
     "metadata": {},
     "output_type": "execute_result"
    }
   ],
   "source": [
    "r.json()"
   ]
  },
  {
   "cell_type": "code",
   "execution_count": 29,
   "metadata": {},
   "outputs": [
    {
     "name": "stderr",
     "output_type": "stream",
     "text": [
      "/home/pi/.virtualenv/python_notebooks/lib/python3.7/site-packages/urllib3/connectionpool.py:986: InsecureRequestWarning: Unverified HTTPS request is being made to host '52.38.180.93'. Adding certificate verification is strongly advised. See: https://urllib3.readthedocs.io/en/latest/advanced-usage.html#ssl-warnings\n",
      "  InsecureRequestWarning,\n"
     ]
    }
   ],
   "source": [
    "# Create a new environment\n",
    "r = se.post(\n",
    "    \"https://52.38.180.93/api/v1/services/environments\",\n",
    "    json={\n",
    "        \"metadata\": {\n",
    "            \"name\": \"myenv1\",\n",
    "            \"displayName\": \"My Environment 1\",\n",
    "            \"description\": \"A sandboxed environment.\"\n",
    "        }\n",
    "    }\n",
    ")\n"
   ]
  },
  {
   "cell_type": "code",
   "execution_count": 30,
   "metadata": {},
   "outputs": [
    {
     "data": {
      "text/plain": [
       "<Response [201]>"
      ]
     },
     "execution_count": 30,
     "metadata": {},
     "output_type": "execute_result"
    }
   ],
   "source": [
    "r"
   ]
  },
  {
   "cell_type": "code",
   "execution_count": 31,
   "metadata": {},
   "outputs": [
    {
     "data": {
      "text/plain": [
       "{'currentStatus': {'appRefs': [],\n",
       "  'certRefs': [],\n",
       "  'gatewayRefs': [],\n",
       "  'state': {'childrenConfigState': {'configured': 0,\n",
       "    'configuring': 0,\n",
       "    'deleting': 0,\n",
       "    'error': 0,\n",
       "    'isConfigured': False,\n",
       "    'isConfiguring': False,\n",
       "    'isDeleting': False,\n",
       "    'isError': False,\n",
       "    'total': 0},\n",
       "   'selfConfigState': {'configured': 1,\n",
       "    'configuring': 0,\n",
       "    'deleting': 0,\n",
       "    'error': 0,\n",
       "    'isConfigured': True,\n",
       "    'isConfiguring': False,\n",
       "    'isDeleting': False,\n",
       "    'isError': False,\n",
       "    'total': 1}}},\n",
       " 'desiredState': {},\n",
       " 'metadata': {'createTime': '2022-03-15T19:54:38Z',\n",
       "  'description': 'A sandboxed environment.',\n",
       "  'displayName': 'My Environment 1',\n",
       "  'kind': 'environments',\n",
       "  'links': {'rel': '/api/v1/services/environments/myenv1'},\n",
       "  'name': 'myenv1',\n",
       "  'uid': 'cd775d75-8685-49ad-b6ab-de48b26fb601',\n",
       "  'updateTime': '2022-03-15T19:54:38Z'}}"
      ]
     },
     "execution_count": 31,
     "metadata": {},
     "output_type": "execute_result"
    }
   ],
   "source": [
    "r.json()"
   ]
  },
  {
   "cell_type": "code",
   "execution_count": 33,
   "metadata": {},
   "outputs": [
    {
     "name": "stderr",
     "output_type": "stream",
     "text": [
      "/home/pi/.virtualenv/python_notebooks/lib/python3.7/site-packages/urllib3/connectionpool.py:986: InsecureRequestWarning: Unverified HTTPS request is being made to host '52.38.180.93'. Adding certificate verification is strongly advised. See: https://urllib3.readthedocs.io/en/latest/advanced-usage.html#ssl-warnings\n",
      "  InsecureRequestWarning,\n"
     ]
    }
   ],
   "source": [
    "# There should be 1 environment now\n",
    "r = se.get(\"https://52.38.180.93/api/v1/services/environments\")"
   ]
  },
  {
   "cell_type": "code",
   "execution_count": 36,
   "metadata": {},
   "outputs": [
    {
     "data": {
      "text/plain": [
       "{'items': [{'currentStatus': {'appRefs': [],\n",
       "    'certRefs': [],\n",
       "    'gatewayRefs': [],\n",
       "    'state': {'childrenConfigState': {'configured': 0,\n",
       "      'configuring': 0,\n",
       "      'deleting': 0,\n",
       "      'error': 0,\n",
       "      'isConfigured': False,\n",
       "      'isConfiguring': False,\n",
       "      'isDeleting': False,\n",
       "      'isError': False,\n",
       "      'total': 0},\n",
       "     'selfConfigState': {'configured': 1,\n",
       "      'configuring': 0,\n",
       "      'deleting': 0,\n",
       "      'error': 0,\n",
       "      'isConfigured': True,\n",
       "      'isConfiguring': False,\n",
       "      'isDeleting': False,\n",
       "      'isError': False,\n",
       "      'total': 1}}},\n",
       "   'desiredState': {},\n",
       "   'metadata': {'createTime': '2022-03-15T19:54:38Z',\n",
       "    'description': 'A sandboxed environment.',\n",
       "    'displayName': 'My Environment 1',\n",
       "    'kind': 'environments',\n",
       "    'links': {'rel': '/api/v1/services/environments/myenv1'},\n",
       "    'name': 'myenv1',\n",
       "    'uid': 'cd775d75-8685-49ad-b6ab-de48b26fb601',\n",
       "    'updateTime': '2022-03-15T19:54:38Z'}}]}"
      ]
     },
     "execution_count": 36,
     "metadata": {},
     "output_type": "execute_result"
    }
   ],
   "source": [
    "r.json()"
   ]
  },
  {
   "cell_type": "code",
   "execution_count": 37,
   "metadata": {},
   "outputs": [
    {
     "name": "stderr",
     "output_type": "stream",
     "text": [
      "/home/pi/.virtualenv/python_notebooks/lib/python3.7/site-packages/urllib3/connectionpool.py:986: InsecureRequestWarning: Unverified HTTPS request is being made to host '52.38.180.93'. Adding certificate verification is strongly advised. See: https://urllib3.readthedocs.io/en/latest/advanced-usage.html#ssl-warnings\n",
      "  InsecureRequestWarning,\n"
     ]
    }
   ],
   "source": [
    "# Get info about a specific environment\n",
    "r = se.get(\"https://52.38.180.93/api/v1/services/environments/myenv1\")"
   ]
  },
  {
   "cell_type": "code",
   "execution_count": 38,
   "metadata": {},
   "outputs": [
    {
     "data": {
      "text/plain": [
       "{'currentStatus': {'appRefs': [],\n",
       "  'certRefs': [],\n",
       "  'gatewayRefs': [],\n",
       "  'state': {'childrenConfigState': {'configured': 0,\n",
       "    'configuring': 0,\n",
       "    'deleting': 0,\n",
       "    'error': 0,\n",
       "    'isConfigured': False,\n",
       "    'isConfiguring': False,\n",
       "    'isDeleting': False,\n",
       "    'isError': False,\n",
       "    'total': 0},\n",
       "   'selfConfigState': {'configured': 1,\n",
       "    'configuring': 0,\n",
       "    'deleting': 0,\n",
       "    'error': 0,\n",
       "    'isConfigured': True,\n",
       "    'isConfiguring': False,\n",
       "    'isDeleting': False,\n",
       "    'isError': False,\n",
       "    'total': 1}}},\n",
       " 'desiredState': {},\n",
       " 'metadata': {'createTime': '2022-03-15T19:54:38Z',\n",
       "  'description': 'A sandboxed environment.',\n",
       "  'displayName': 'My Environment 1',\n",
       "  'kind': 'environments',\n",
       "  'links': {'rel': '/api/v1/services/environments/myenv1'},\n",
       "  'name': 'myenv1',\n",
       "  'uid': 'cd775d75-8685-49ad-b6ab-de48b26fb601',\n",
       "  'updateTime': '2022-03-15T19:54:38Z'}}"
      ]
     },
     "execution_count": 38,
     "metadata": {},
     "output_type": "execute_result"
    }
   ],
   "source": [
    "r.json()"
   ]
  },
  {
   "cell_type": "code",
   "execution_count": null,
   "metadata": {},
   "outputs": [],
   "source": []
  }
 ],
 "metadata": {
  "kernelspec": {
   "display_name": "Python 3",
   "language": "python",
   "name": "python3"
  },
  "language_info": {
   "codemirror_mode": {
    "name": "ipython",
    "version": 3
   },
   "file_extension": ".py",
   "mimetype": "text/x-python",
   "name": "python",
   "nbconvert_exporter": "python",
   "pygments_lexer": "ipython3",
   "version": "3.7.3"
  }
 },
 "nbformat": 4,
 "nbformat_minor": 4
}
