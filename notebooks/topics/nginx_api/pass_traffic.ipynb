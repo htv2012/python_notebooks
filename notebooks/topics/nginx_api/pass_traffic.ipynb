{
 "cells": [
  {
   "cell_type": "code",
   "execution_count": 4,
   "metadata": {},
   "outputs": [],
   "source": [
    "def pass_traffic(n, endpoints=None):\n",
    "    endpoints = endpoints or [None]\n",
    "    for i in range(n):\n",
    "        for endpoint in endpoints:\n",
    "            print(f\"i={i}, endpoint={endpoint}\")"
   ]
  },
  {
   "cell_type": "code",
   "execution_count": 5,
   "metadata": {},
   "outputs": [
    {
     "name": "stdout",
     "output_type": "stream",
     "text": [
      "i=0, endpoint=None\n",
      "i=1, endpoint=None\n",
      "i=2, endpoint=None\n"
     ]
    }
   ],
   "source": [
    "pass_traffic(3)"
   ]
  },
  {
   "cell_type": "code",
   "execution_count": 6,
   "metadata": {},
   "outputs": [
    {
     "name": "stdout",
     "output_type": "stream",
     "text": [
      "i=0, endpoint=a\n",
      "i=0, endpoint=b\n",
      "i=0, endpoint=c\n",
      "i=1, endpoint=a\n",
      "i=1, endpoint=b\n",
      "i=1, endpoint=c\n"
     ]
    }
   ],
   "source": [
    "pass_traffic(2, list(\"abc\"))"
   ]
  },
  {
   "cell_type": "code",
   "execution_count": 7,
   "metadata": {},
   "outputs": [],
   "source": [
    "import itertools"
   ]
  },
  {
   "cell_type": "code",
   "execution_count": 8,
   "metadata": {},
   "outputs": [],
   "source": [
    "def pass_traffic2(n, endpoints=None):\n",
    "    endpoints = endpoints or [None]\n",
    "    for i, endpoint in itertools.product(range(n), endpoints):\n",
    "        print(f\"i={i}, endpoint={endpoint}\")"
   ]
  },
  {
   "cell_type": "code",
   "execution_count": 9,
   "metadata": {},
   "outputs": [
    {
     "name": "stdout",
     "output_type": "stream",
     "text": [
      "i=0, endpoint=None\n",
      "i=1, endpoint=None\n",
      "i=2, endpoint=None\n"
     ]
    }
   ],
   "source": [
    "pass_traffic(3)"
   ]
  },
  {
   "cell_type": "code",
   "execution_count": 10,
   "metadata": {},
   "outputs": [
    {
     "name": "stdout",
     "output_type": "stream",
     "text": [
      "i=0, endpoint=a\n",
      "i=0, endpoint=b\n",
      "i=0, endpoint=c\n",
      "i=1, endpoint=a\n",
      "i=1, endpoint=b\n",
      "i=1, endpoint=c\n"
     ]
    }
   ],
   "source": [
    "pass_traffic(2, \"abc\")"
   ]
  },
  {
   "cell_type": "markdown",
   "metadata": {},
   "source": [
    "# Sandbox"
   ]
  },
  {
   "cell_type": "code",
   "execution_count": null,
   "metadata": {},
   "outputs": [],
   "source": []
  }
 ],
 "metadata": {
  "kernelspec": {
   "display_name": "Python 3",
   "language": "python",
   "name": "python3"
  },
  "language_info": {
   "codemirror_mode": {
    "name": "ipython",
    "version": 3
   },
   "file_extension": ".py",
   "mimetype": "text/x-python",
   "name": "python",
   "nbconvert_exporter": "python",
   "pygments_lexer": "ipython3",
   "version": "3.7.3"
  }
 },
 "nbformat": 4,
 "nbformat_minor": 4
}
