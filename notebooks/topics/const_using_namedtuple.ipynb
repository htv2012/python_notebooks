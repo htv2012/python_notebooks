{
 "cells": [
  {
   "cell_type": "code",
   "execution_count": 1,
   "metadata": {},
   "outputs": [],
   "source": [
    "# Use namedtuple to implement constants\n",
    "from collections import namedtuple"
   ]
  },
  {
   "cell_type": "code",
   "execution_count": 2,
   "metadata": {},
   "outputs": [],
   "source": [
    "def const(**kwargs):\n",
    "    Const = namedtuple('Const', kwargs)\n",
    "    namespace = Const(**kwargs)\n",
    "    return namespace"
   ]
  },
  {
   "cell_type": "code",
   "execution_count": 3,
   "metadata": {},
   "outputs": [],
   "source": [
    "colors = const(red=1, green=2, blue=3)"
   ]
  },
  {
   "cell_type": "code",
   "execution_count": 4,
   "metadata": {},
   "outputs": [
    {
     "data": {
      "text/plain": [
       "1"
      ]
     },
     "execution_count": 4,
     "metadata": {},
     "output_type": "execute_result"
    }
   ],
   "source": [
    "colors.red"
   ]
  },
  {
   "cell_type": "code",
   "execution_count": 5,
   "metadata": {},
   "outputs": [
    {
     "data": {
      "text/plain": [
       "Const(red=1, green=2, blue=3)"
      ]
     },
     "execution_count": 5,
     "metadata": {},
     "output_type": "execute_result"
    }
   ],
   "source": [
    "colors"
   ]
  },
  {
   "cell_type": "code",
   "execution_count": 6,
   "metadata": {},
   "outputs": [
    {
     "name": "stdout",
     "output_type": "stream",
     "text": [
      "can't set attribute\n",
      "red is 1\n"
     ]
    }
   ],
   "source": [
    "# Attempt to redefine a constant\n",
    "try:\n",
    "    colors.red = 1000\n",
    "except AttributeError as error:\n",
    "    print(error)\n",
    "finally:\n",
    "    print(f\"red is {colors.red}\")"
   ]
  },
  {
   "cell_type": "markdown",
   "metadata": {},
   "source": [
    "## Caveat\n",
    "\n",
    "When the value is a mutable object such as list, dict, or set, then we can still change it:"
   ]
  },
  {
   "cell_type": "code",
   "execution_count": 7,
   "metadata": {},
   "outputs": [],
   "source": [
    "buckets = const(li=[], di={})"
   ]
  },
  {
   "cell_type": "code",
   "execution_count": 8,
   "metadata": {},
   "outputs": [
    {
     "data": {
      "text/plain": [
       "Const(li=[], di={})"
      ]
     },
     "execution_count": 8,
     "metadata": {},
     "output_type": "execute_result"
    }
   ],
   "source": [
    "buckets"
   ]
  },
  {
   "cell_type": "code",
   "execution_count": 9,
   "metadata": {},
   "outputs": [],
   "source": [
    "buckets.li.append(1)"
   ]
  },
  {
   "cell_type": "code",
   "execution_count": 10,
   "metadata": {},
   "outputs": [
    {
     "data": {
      "text/plain": [
       "Const(li=[1], di={})"
      ]
     },
     "execution_count": 10,
     "metadata": {},
     "output_type": "execute_result"
    }
   ],
   "source": [
    "buckets"
   ]
  },
  {
   "cell_type": "markdown",
   "metadata": {},
   "source": [
    "We can prevent this situation by disallowing mutable types as values."
   ]
  },
  {
   "cell_type": "markdown",
   "metadata": {},
   "source": [
    "## Prevent Mutable Types"
   ]
  },
  {
   "cell_type": "code",
   "execution_count": 11,
   "metadata": {},
   "outputs": [],
   "source": [
    "def mutable(obj):\n",
    "    try:\n",
    "        hash(obj)\n",
    "        return False\n",
    "    except TypeError:\n",
    "        return True\n",
    "\n",
    "    \n",
    "def ensure_immutable_values(kwargs):\n",
    "    \"\"\" Check values for those that are not hashable \"\"\"\n",
    "    mutables = [\n",
    "        key for key, value in kwargs.items()\n",
    "        if mutable(value)\n",
    "    ]\n",
    "    \n",
    "    if mutables:\n",
    "        offenders = \", \".join(mutables)\n",
    "        raise ValueError(f\"Mutables values are not allowed for these keys: {offenders}\")\n",
    "\n",
    "\n",
    "def const(**kwargs):\n",
    "    ensure_immutable_values(kwargs)\n",
    "    Const = namedtuple('Const', kwargs)\n",
    "    namespace = Const(**kwargs)\n",
    "    return namespace"
   ]
  },
  {
   "cell_type": "code",
   "execution_count": 12,
   "metadata": {},
   "outputs": [
    {
     "name": "stdout",
     "output_type": "stream",
     "text": [
      "Mutables values are not allowed for these keys: custom, secured, avoid\n"
     ]
    }
   ],
   "source": [
    "try:\n",
    "    Ports = const(\n",
    "        ssh=22, \n",
    "        http=80, \n",
    "        custom=[8000, 8888], \n",
    "        secured=dict(foo=9999, bar=7777), \n",
    "        avoid=set([15, 49])\n",
    "    )\n",
    "except ValueError as error:\n",
    "    print(error)"
   ]
  }
 ],
 "metadata": {
  "kernelspec": {
   "display_name": "Python 3",
   "language": "python",
   "name": "python3"
  },
  "language_info": {
   "codemirror_mode": {
    "name": "ipython",
    "version": 3
   },
   "file_extension": ".py",
   "mimetype": "text/x-python",
   "name": "python",
   "nbconvert_exporter": "python",
   "pygments_lexer": "ipython3",
   "version": "3.7.3"
  }
 },
 "nbformat": 4,
 "nbformat_minor": 4
}
