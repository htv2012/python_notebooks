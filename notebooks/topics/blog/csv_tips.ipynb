{
 "cells": [
  {
   "cell_type": "code",
   "execution_count": 10,
   "metadata": {},
   "outputs": [
    {
     "name": "stdout",
     "output_type": "stream",
     "text": [
      "[501.0, 'peter', 57.8]\n",
      "[502.0, 'paul', 101.7]\n",
      "[503.0, 'mary', 78.1]\n"
     ]
    }
   ],
   "source": [
    "import csv\n",
    "\n",
    "with open(\"data.csv\") as stream:\n",
    "    reader = csv.reader(stream, quoting=csv.QUOTE_NONNUMERIC)\n",
    "    for row in reader:\n",
    "        print(row)"
   ]
  },
  {
   "cell_type": "code",
   "execution_count": 3,
   "metadata": {},
   "outputs": [
    {
     "name": "stdout",
     "output_type": "stream",
     "text": [
      "['uid', 'alias', 'shell']\n",
      "['501', 'peter', 'bash']\n",
      "['502', 'paul', 'bash']\n",
      "['503', 'mary', 'tcsh']\n"
     ]
    }
   ],
   "source": [
    "with open(\"users.csv\") as stream:\n",
    "    reader = csv.reader(line for line in stream if line.strip())\n",
    "    for row in reader:\n",
    "        print(row)"
   ]
  },
  {
   "cell_type": "code",
   "execution_count": 7,
   "metadata": {},
   "outputs": [
    {
     "name": "stdout",
     "output_type": "stream",
     "text": [
      "OrderedDict([('uid', '501'), ('alias', 'peter'), ('shell', 'bash')])\n",
      "OrderedDict([('uid', '502'), ('alias', 'paul'), ('shell', 'bash')])\n",
      "OrderedDict([('uid', '503'), ('alias', 'mary'), ('shell', 'tcsh')])\n"
     ]
    }
   ],
   "source": [
    "with open(\"users.csv\") as stream:\n",
    "    reader = csv.DictReader(stream)\n",
    "    for row in reader:\n",
    "        print(row)"
   ]
  },
  {
   "cell_type": "code",
   "execution_count": null,
   "metadata": {},
   "outputs": [],
   "source": []
  }
 ],
 "metadata": {
  "kernelspec": {
   "display_name": "Python 3",
   "language": "python",
   "name": "python3"
  },
  "language_info": {
   "codemirror_mode": {
    "name": "ipython",
    "version": 3
   },
   "file_extension": ".py",
   "mimetype": "text/x-python",
   "name": "python",
   "nbconvert_exporter": "python",
   "pygments_lexer": "ipython3",
   "version": "3.7.3"
  }
 },
 "nbformat": 4,
 "nbformat_minor": 4
}
