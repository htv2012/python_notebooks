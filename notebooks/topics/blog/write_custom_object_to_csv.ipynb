{
 "cells": [
  {
   "cell_type": "markdown",
   "metadata": {},
   "source": [
    "# The Problem\n",
    "\n",
    "Given a class such as"
   ]
  },
  {
   "cell_type": "code",
   "execution_count": 30,
   "metadata": {},
   "outputs": [],
   "source": [
    "class Student:\n",
    "    def __init__(self, student_id, first_name, last_name):\n",
    "        self.student_id = student_id\n",
    "        self.first_name = first_name\n",
    "        self.last_name = last_name\n",
    "    \n",
    "    def __repr__(self):\n",
    "        return f\"Student({self.student_id!r}, {self.first_name!r}, {self.last_name!r})\"\n",
    "\n",
    "    # Other methods..."
   ]
  },
  {
   "cell_type": "markdown",
   "metadata": {},
   "source": [
    "Given a list of these objects:"
   ]
  },
  {
   "cell_type": "code",
   "execution_count": 31,
   "metadata": {},
   "outputs": [],
   "source": [
    "my_students = [\n",
    "    Student(1048, \"John\", \"Adams\"),\n",
    "    Student(2517, \"Karen\", \"Goodman\"),\n",
    "    Student(3131, \"Anna\", \"Karenina\"),\n",
    "]"
   ]
  },
  {
   "cell_type": "markdown",
   "metadata": {},
   "source": [
    "Our goal is to write them into a CSV file with 3 columns: ID, first, last name. What is a Pythonic way to do that?\n",
    "\n",
    "# The Solution\n",
    "\n",
    "At first, we might want to create a function which converts a `Student` object into a `tuple` and use that:"
   ]
  },
  {
   "cell_type": "code",
   "execution_count": 33,
   "metadata": {},
   "outputs": [],
   "source": [
    "def student_to_tuple(student):\n",
    "    return (student.student_id, student.first_name, student.last_name)\n",
    "\n",
    "with open(\"students.csv\", \"w\") as stream:\n",
    "    writer = csv.writer(stream)\n",
    "    for student in my_students:\n",
    "        row = student_to_tuple(student)\n",
    "        writer.writerow(row)"
   ]
  },
  {
   "cell_type": "markdown",
   "metadata": {},
   "source": [
    "This method works, but if we can modify the `Student` class, we can do better. By creating an `Student.__iter__` method, we can work directly with `csv.writer`:"
   ]
  },
  {
   "cell_type": "code",
   "execution_count": 47,
   "metadata": {},
   "outputs": [],
   "source": [
    "class Student:\n",
    "    def __init__(self, student_id, first_name, last_name):\n",
    "        self.student_id = student_id\n",
    "        self.first_name = first_name\n",
    "        self.last_name = last_name\n",
    "        \n",
    "    def __repr__(self):\n",
    "        return f\"Student({self.student_id!r}, {self.first_name!r}, {self.last_name!r})\"\n",
    "    \n",
    "    def __iter__(self):\n",
    "        return iter([self.student_id, self.first_name, self.last_name])"
   ]
  },
  {
   "cell_type": "code",
   "execution_count": 48,
   "metadata": {},
   "outputs": [],
   "source": [
    "my_students = [\n",
    "    Student(1048, \"John\", \"Adams\"),\n",
    "    Student(2517, \"Karen\", \"Goodman\"),\n",
    "    Student(3131, \"Anna\", \"Karenina\"),\n",
    "]\n",
    "\n",
    "with open(\"students.csv\", \"w\") as stream:\n",
    "    writer = csv.writer(stream)\n",
    "    writer.writerows(my_students)"
   ]
  },
  {
   "cell_type": "markdown",
   "metadata": {},
   "source": [
    "A couple of notes\n",
    "\n",
    "* the `__iter__` performs almost the same task as `student_to_tuple`, but it returns an iterable instead of a tuple. \n",
    "* The `csv.write` will iterate through this `Student` object to get the cells in a row, thus trigger the `__iter__` method\n",
    "* We can now use the `.writerows` method to write all the objects in one step."
   ]
  },
  {
   "cell_type": "markdown",
   "metadata": {},
   "source": [
    "# Reading Them Back\n",
    "\n",
    "Now that we successfully wrote the list of students to a file, how do we read them back?"
   ]
  },
  {
   "cell_type": "code",
   "execution_count": 49,
   "metadata": {},
   "outputs": [
    {
     "name": "stdout",
     "output_type": "stream",
     "text": [
      "Student('1048', 'John', 'Adams')\n",
      "Student('2517', 'Karen', 'Goodman')\n",
      "Student('3131', 'Anna', 'Karenina')\n"
     ]
    }
   ],
   "source": [
    "with open(\"students.csv\") as stream:\n",
    "    reader = csv.reader(stream)\n",
    "    for row in reader:\n",
    "        student = Student(*row)\n",
    "        print(student)    "
   ]
  },
  {
   "cell_type": "markdown",
   "metadata": {},
   "source": [
    "# Conclusion\n",
    "\n",
    "By adding a simple `Student.__iter__` method, we allow a `csv.writer` object to work directly with `Student` objects."
   ]
  }
 ],
 "metadata": {
  "kernelspec": {
   "display_name": "Python 3",
   "language": "python",
   "name": "python3"
  },
  "language_info": {
   "codemirror_mode": {
    "name": "ipython",
    "version": 3
   },
   "file_extension": ".py",
   "mimetype": "text/x-python",
   "name": "python",
   "nbconvert_exporter": "python",
   "pygments_lexer": "ipython3",
   "version": "3.7.3"
  }
 },
 "nbformat": 4,
 "nbformat_minor": 4
}
