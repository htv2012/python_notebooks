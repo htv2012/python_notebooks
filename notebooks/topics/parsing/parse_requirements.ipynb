{
 "cells": [
  {
   "cell_type": "markdown",
   "metadata": {},
   "source": [
    "# Parse requirements.txt"
   ]
  },
  {
   "cell_type": "code",
   "execution_count": 1,
   "metadata": {},
   "outputs": [],
   "source": [
    "sample = \"\"\"# requirements.txt\n",
    "black\n",
    "pytest\n",
    "\n",
    "# PyPI Setup\n",
    "\n",
    "--index-url https://artifactory.f5net.com/artifactory/api/pypi/f5-pypi-internal/simple/\n",
    "--extra-index-url https://pypi.python.org/simple/\n",
    "--trusted-host artifactory.f5net.com\n",
    "\n",
    "\n",
    "# F5 Packages\n",
    "apex-streams\n",
    "\n",
    "console-automation\n",
    "confd-client\n",
    "resource-commander>=0.1.9\n",
    "syzygy-equipment>=0.21.9\n",
    "syzygy-tool>=5.0.0,<6.0.0\n",
    "\n",
    "\n",
    "# 3rd Party Packages\n",
    "colorama==0.4.3\n",
    "coverage\n",
    "dependency-injector>=4.2.0\n",
    "docker>=4.2.0,<5.0.0\n",
    "pyOpenSSL==19.1.0\n",
    "pytest\n",
    "tornado>=5.0.2\n",
    "\n",
    "\n",
    "\"\"\""
   ]
  },
  {
   "cell_type": "code",
   "execution_count": 2,
   "metadata": {},
   "outputs": [
    {
     "name": "stdout",
     "output_type": "stream",
     "text": [
      "# requirements.txt\n",
      "black\n",
      "pytest\n",
      "\n",
      "# PyPI Setup\n",
      "\n",
      "--index-url https://artifactory.f5net.com/artifactory/api/pypi/f5-pypi-internal/simple/\n",
      "--extra-index-url https://pypi.python.org/simple/\n",
      "--trusted-host artifactory.f5net.com\n",
      "\n",
      "\n",
      "# F5 Packages\n",
      "apex-streams\n",
      "\n",
      "console-automation\n",
      "confd-client\n",
      "resource-commander>=0.1.9\n",
      "syzygy-equipment>=0.21.9\n",
      "syzygy-tool>=5.0.0,<6.0.0\n",
      "\n",
      "\n",
      "# 3rd Party Packages\n",
      "colorama==0.4.3\n",
      "coverage\n",
      "dependency-injector>=4.2.0\n",
      "docker>=4.2.0,<5.0.0\n",
      "pyOpenSSL==19.1.0\n",
      "pytest\n",
      "tornado>=5.0.2\n",
      "\n",
      "\n",
      "\n"
     ]
    }
   ],
   "source": [
    "print(sample)"
   ]
  },
  {
   "cell_type": "code",
   "execution_count": 5,
   "metadata": {},
   "outputs": [],
   "source": [
    "lines = sample.splitlines()"
   ]
  },
  {
   "cell_type": "code",
   "execution_count": 6,
   "metadata": {},
   "outputs": [
    {
     "data": {
      "text/plain": [
       "['# requirements.txt',\n",
       " 'black',\n",
       " 'pytest',\n",
       " '',\n",
       " '# PyPI Setup',\n",
       " '',\n",
       " '--index-url https://artifactory.f5net.com/artifactory/api/pypi/f5-pypi-internal/simple/',\n",
       " '--extra-index-url https://pypi.python.org/simple/',\n",
       " '--trusted-host artifactory.f5net.com',\n",
       " '',\n",
       " '',\n",
       " '# F5 Packages',\n",
       " 'apex-streams',\n",
       " '',\n",
       " 'console-automation',\n",
       " 'confd-client',\n",
       " 'resource-commander>=0.1.9',\n",
       " 'syzygy-equipment>=0.21.9',\n",
       " 'syzygy-tool>=5.0.0,<6.0.0',\n",
       " '',\n",
       " '',\n",
       " '# 3rd Party Packages',\n",
       " 'colorama==0.4.3',\n",
       " 'coverage',\n",
       " 'dependency-injector>=4.2.0',\n",
       " 'docker>=4.2.0,<5.0.0',\n",
       " 'pyOpenSSL==19.1.0',\n",
       " 'pytest',\n",
       " 'tornado>=5.0.2',\n",
       " '',\n",
       " '']"
      ]
     },
     "execution_count": 6,
     "metadata": {},
     "output_type": "execute_result"
    }
   ],
   "source": [
    "lines"
   ]
  },
  {
   "cell_type": "code",
   "execution_count": 7,
   "metadata": {},
   "outputs": [],
   "source": [
    "def contains_package(text):\n",
    "    text = text.strip()\n",
    "    return text and not text.startswith((\"#\", \"-\"))"
   ]
  },
  {
   "cell_type": "code",
   "execution_count": 9,
   "metadata": {},
   "outputs": [
    {
     "data": {
      "text/plain": [
       "False"
      ]
     },
     "execution_count": 9,
     "metadata": {},
     "output_type": "execute_result"
    }
   ],
   "source": [
    "contains_package(\"# foobar\")"
   ]
  },
  {
   "cell_type": "code",
   "execution_count": 10,
   "metadata": {},
   "outputs": [
    {
     "data": {
      "text/plain": [
       "False"
      ]
     },
     "execution_count": 10,
     "metadata": {},
     "output_type": "execute_result"
    }
   ],
   "source": [
    "contains_package('--trusted-host artifactory.f5net.com')"
   ]
  },
  {
   "cell_type": "code",
   "execution_count": 11,
   "metadata": {},
   "outputs": [
    {
     "data": {
      "text/plain": [
       "True"
      ]
     },
     "execution_count": 11,
     "metadata": {},
     "output_type": "execute_result"
    }
   ],
   "source": [
    "contains_package(\"black\")"
   ]
  },
  {
   "cell_type": "code",
   "execution_count": 12,
   "metadata": {},
   "outputs": [
    {
     "data": {
      "text/plain": [
       "['black',\n",
       " 'pytest',\n",
       " 'apex-streams',\n",
       " 'console-automation',\n",
       " 'confd-client',\n",
       " 'resource-commander>=0.1.9',\n",
       " 'syzygy-equipment>=0.21.9',\n",
       " 'syzygy-tool>=5.0.0,<6.0.0',\n",
       " 'colorama==0.4.3',\n",
       " 'coverage',\n",
       " 'dependency-injector>=4.2.0',\n",
       " 'docker>=4.2.0,<5.0.0',\n",
       " 'pyOpenSSL==19.1.0',\n",
       " 'pytest',\n",
       " 'tornado>=5.0.2']"
      ]
     },
     "execution_count": 12,
     "metadata": {},
     "output_type": "execute_result"
    }
   ],
   "source": [
    "[\n",
    "    line\n",
    "    for line in sample.splitlines()\n",
    "    if contains_package(line)\n",
    "]"
   ]
  },
  {
   "cell_type": "code",
   "execution_count": 13,
   "metadata": {},
   "outputs": [],
   "source": [
    "def parse_requirements(lines):\n",
    "    lines = (line.strip() for line in lines)\n",
    "    return [\n",
    "        line\n",
    "        for line in lines\n",
    "        if line and not line.startswith((\"#\", \"-\"))\n",
    "    ]"
   ]
  },
  {
   "cell_type": "code",
   "execution_count": 14,
   "metadata": {},
   "outputs": [
    {
     "data": {
      "text/plain": [
       "['black',\n",
       " 'pytest',\n",
       " 'apex-streams',\n",
       " 'console-automation',\n",
       " 'confd-client',\n",
       " 'resource-commander>=0.1.9',\n",
       " 'syzygy-equipment>=0.21.9',\n",
       " 'syzygy-tool>=5.0.0,<6.0.0',\n",
       " 'colorama==0.4.3',\n",
       " 'coverage',\n",
       " 'dependency-injector>=4.2.0',\n",
       " 'docker>=4.2.0,<5.0.0',\n",
       " 'pyOpenSSL==19.1.0',\n",
       " 'pytest',\n",
       " 'tornado>=5.0.2']"
      ]
     },
     "execution_count": 14,
     "metadata": {},
     "output_type": "execute_result"
    }
   ],
   "source": [
    "parse_requirements(sample.splitlines())"
   ]
  },
  {
   "cell_type": "code",
   "execution_count": null,
   "metadata": {},
   "outputs": [],
   "source": []
  }
 ],
 "metadata": {
  "kernelspec": {
   "display_name": "Python 3",
   "language": "python",
   "name": "python3"
  },
  "language_info": {
   "codemirror_mode": {
    "name": "ipython",
    "version": 3
   },
   "file_extension": ".py",
   "mimetype": "text/x-python",
   "name": "python",
   "nbconvert_exporter": "python",
   "pygments_lexer": "ipython3",
   "version": "3.7.3"
  }
 },
 "nbformat": 4,
 "nbformat_minor": 4
}
