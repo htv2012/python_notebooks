{
 "cells": [
  {
   "cell_type": "markdown",
   "id": "d235d0e1-91d1-4fa9-97dd-fdb248a3a9e4",
   "metadata": {},
   "source": [
    "# Rest Pagination\n",
    "\n",
    "Many Rest calls will result in pagination. Dealing with pagination is awkward, so I introduce a function `iter_data`, which helps simplify code logic."
   ]
  },
  {
   "cell_type": "code",
   "execution_count": 7,
   "id": "0a31a4bb-4e55-431e-8d66-57586d31b01a",
   "metadata": {},
   "outputs": [],
   "source": [
    "#!/bin/python3\n",
    "\n",
    "import math\n",
    "import os\n",
    "import random\n",
    "import re\n",
    "import sys\n",
    "import requests\n",
    "import bisect\n",
    "import operator\n",
    "from pprint import pp\n",
    "\n",
    "import requests\n",
    "\n",
    "\n",
    "def iter_data(\n",
    "    url_template: str,\n",
    "    get_total,\n",
    "    get_data,\n",
    "):\n",
    "    page = 1\n",
    "    total = 1\n",
    "    while page <= total:\n",
    "        resp = requests.get(url_template.format(page=page))\n",
    "        payload = resp.json()\n",
    "        total = get_total(payload)\n",
    "        yield from get_data(payload)\n",
    "        page += 1"
   ]
  },
  {
   "cell_type": "code",
   "execution_count": 2,
   "id": "1f8b7424-c7fb-43e6-82c7-f039bc7d3525",
   "metadata": {},
   "outputs": [
    {
     "data": {
      "text/plain": [
       "[{'city': 'Seattle',\n",
       "  'name': 'Cafe Juanita',\n",
       "  'estimated_cost': 160,\n",
       "  'user_rating': {'average_rating': 4.9, 'votes': 16203},\n",
       "  'id': 41},\n",
       " {'city': 'Seattle',\n",
       "  'name': \"AB's - Absolute Barbecues\",\n",
       "  'estimated_cost': 160,\n",
       "  'user_rating': {'average_rating': 4.8, 'votes': 11871},\n",
       "  'id': 424},\n",
       " {'city': 'Seattle',\n",
       "  'name': \"Xi'an Noodles\",\n",
       "  'estimated_cost': 140,\n",
       "  'user_rating': {'average_rating': 4.8, 'votes': 10330},\n",
       "  'id': 426},\n",
       " {'city': 'Seattle',\n",
       "  'name': 'Truffles',\n",
       "  'estimated_cost': 90,\n",
       "  'user_rating': {'average_rating': 4.7, 'votes': 14611},\n",
       "  'id': 49},\n",
       " {'city': 'Seattle',\n",
       "  'name': 'Toit',\n",
       "  'estimated_cost': 150,\n",
       "  'user_rating': {'average_rating': 4.7, 'votes': 14938},\n",
       "  'id': 423}]"
      ]
     },
     "execution_count": 2,
     "metadata": {},
     "output_type": "execute_result"
    }
   ],
   "source": [
    "# Example: 4+ stars with 10000+ votes\n",
    "data = iter_data(\n",
    "    url_template=\"https://jsonmock.hackerrank.com/api/food_outlets?city=seattle&page={page}\",\n",
    "    get_total=operator.itemgetter('total_pages'),\n",
    "    get_data=operator.itemgetter('data'),\n",
    ")\n",
    "data = filter(\n",
    "    lambda datum: datum['user_rating']['average_rating'] >= 3.5  and datum['user_rating']['votes'] > 10000,\n",
    "    data,\n",
    ")\n",
    "sorted(data, key=lambda d: d['user_rating']['average_rating'], reverse=True)"
   ]
  },
  {
   "cell_type": "code",
   "execution_count": 3,
   "id": "72e24a1e-8875-4c57-97fc-6c91c45bd0f2",
   "metadata": {},
   "outputs": [
    {
     "data": {
      "text/plain": [
       "[{'city': 'Seattle',\n",
       "  'name': 'Truffles',\n",
       "  'estimated_cost': 90,\n",
       "  'user_rating': {'average_rating': 4.7, 'votes': 14611},\n",
       "  'id': 49},\n",
       " {'city': 'Seattle',\n",
       "  'name': 'TBC Sky Lounge',\n",
       "  'estimated_cost': 10,\n",
       "  'user_rating': {'average_rating': 4.7, 'votes': 6577},\n",
       "  'id': 411},\n",
       " {'city': 'Seattle',\n",
       "  'name': 'JuneBaby',\n",
       "  'estimated_cost': 80,\n",
       "  'user_rating': {'average_rating': 4.4, 'votes': 1880},\n",
       "  'id': 413}]"
      ]
     },
     "execution_count": 3,
     "metadata": {},
     "output_type": "execute_result"
    }
   ],
   "source": [
    "# Example: Cheap food\n",
    "data = iter_data(\n",
    "    url_template=\"https://jsonmock.hackerrank.com/api/food_outlets?city=seattle&page={page}\",\n",
    "    get_total=operator.itemgetter('total_pages'),\n",
    "    get_data=operator.itemgetter('data'),\n",
    ")\n",
    "data = filter(\n",
    "    lambda datum: datum['estimated_cost'] <= 100,\n",
    "    data,\n",
    ")\n",
    "list(data)"
   ]
  },
  {
   "cell_type": "code",
   "execution_count": 11,
   "id": "b30e9b48-dc35-4702-a4aa-41a1814b917c",
   "metadata": {},
   "outputs": [
    {
     "data": {
      "text/plain": [
       "[{'city': 'Seattle',\n",
       "  'name': 'Jetlag',\n",
       "  'estimated_cost': 1650,\n",
       "  'user_rating': {'average_rating': 4.1, 'votes': 704},\n",
       "  'id': 436},\n",
       " {'city': 'Seattle',\n",
       "  'name': 'Baar Union',\n",
       "  'estimated_cost': 850,\n",
       "  'user_rating': {'average_rating': 4.7, 'votes': 558},\n",
       "  'id': 428},\n",
       " {'city': 'Seattle',\n",
       "  'name': 'Biergarten',\n",
       "  'estimated_cost': 240,\n",
       "  'user_rating': {'average_rating': 4.7, 'votes': 299},\n",
       "  'id': 410},\n",
       " {'city': 'Seattle',\n",
       "  'name': 'La Carta de Oaxaca',\n",
       "  'estimated_cost': 240,\n",
       "  'user_rating': {'average_rating': 4.7, 'votes': 6829},\n",
       "  'id': 429},\n",
       " {'city': 'Seattle',\n",
       "  'name': 'XOOX Brewmill',\n",
       "  'estimated_cost': 200,\n",
       "  'user_rating': {'average_rating': 4.4, 'votes': 1483},\n",
       "  'id': 430},\n",
       " {'city': 'Seattle',\n",
       "  'name': 'The Bier Library',\n",
       "  'estimated_cost': 200,\n",
       "  'user_rating': {'average_rating': 4.3, 'votes': 476},\n",
       "  'id': 432},\n",
       " {'city': 'Seattle',\n",
       "  'name': 'Big Pitcher',\n",
       "  'estimated_cost': 180,\n",
       "  'user_rating': {'average_rating': 4.7, 'votes': 9011},\n",
       "  'id': 47},\n",
       " {'city': 'Seattle',\n",
       "  'name': 'The Boozy Griffin',\n",
       "  'estimated_cost': 180,\n",
       "  'user_rating': {'average_rating': 4.8, 'votes': 4459},\n",
       "  'id': 438},\n",
       " {'city': 'Seattle',\n",
       "  'name': 'Cafe Juanita',\n",
       "  'estimated_cost': 160,\n",
       "  'user_rating': {'average_rating': 4.9, 'votes': 16203},\n",
       "  'id': 41},\n",
       " {'city': 'Seattle',\n",
       "  'name': 'Cafe Munir',\n",
       "  'estimated_cost': 160,\n",
       "  'user_rating': {'average_rating': 4.9, 'votes': 4699},\n",
       "  'id': 42}]"
      ]
     },
     "execution_count": 11,
     "metadata": {},
     "output_type": "execute_result"
    }
   ],
   "source": [
    "# Example: Most expensive\n",
    "data = iter_data(\n",
    "    url_template=\"https://jsonmock.hackerrank.com/api/food_outlets?city=seattle&page={page}\",\n",
    "    get_total=operator.itemgetter('total_pages'),\n",
    "    get_data=operator.itemgetter('data'),\n",
    ")\n",
    "data = sorted(data, key=operator.itemgetter('estimated_cost'), reverse=True)\n",
    "data[:10]"
   ]
  },
  {
   "cell_type": "code",
   "execution_count": null,
   "id": "11fde10f-6941-4902-8fba-1c9884cea885",
   "metadata": {},
   "outputs": [],
   "source": []
  }
 ],
 "metadata": {
  "kernelspec": {
   "display_name": "Python 3 (ipykernel)",
   "language": "python",
   "name": "python3"
  },
  "language_info": {
   "codemirror_mode": {
    "name": "ipython",
    "version": 3
   },
   "file_extension": ".py",
   "mimetype": "text/x-python",
   "name": "python",
   "nbconvert_exporter": "python",
   "pygments_lexer": "ipython3",
   "version": "3.13.2"
  }
 },
 "nbformat": 4,
 "nbformat_minor": 5
}
