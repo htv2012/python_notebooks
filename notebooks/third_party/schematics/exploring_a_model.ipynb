{
 "cells": [
  {
   "cell_type": "markdown",
   "metadata": {},
   "source": [
    "# Exploring a Model\n",
    "\n",
    "In this notebook, we explore some lesser-known aspects of a model."
   ]
  },
  {
   "cell_type": "code",
   "execution_count": 1,
   "metadata": {},
   "outputs": [],
   "source": [
    "import schematics\n",
    "\n",
    "class UnixUser(schematics.Model):\n",
    "    alias = schematics.types.StringType(required=True)\n",
    "    is_admin = schematics.types.BooleanType(default=False, serialized_name=\"isAdmin\")"
   ]
  },
  {
   "cell_type": "markdown",
   "metadata": {},
   "source": [
    "## A Model Acts Like a Dictionary"
   ]
  },
  {
   "cell_type": "code",
   "execution_count": 2,
   "metadata": {},
   "outputs": [
    {
     "name": "stdout",
     "output_type": "stream",
     "text": [
      "alias='Johan'\n",
      "is_admin=False\n"
     ]
    }
   ],
   "source": [
    "user = UnixUser({\"alias\": \"Johan\"})\n",
    "for field in user:\n",
    "    print(f\"{field}={user[field]!r}\")"
   ]
  },
  {
   "cell_type": "code",
   "execution_count": 3,
   "metadata": {},
   "outputs": [
    {
     "name": "stdout",
     "output_type": "stream",
     "text": [
      "alias='Johan'\n",
      "is_admin=False\n"
     ]
    }
   ],
   "source": [
    "for field, value in user.items():\n",
    "    print(f\"{field}={value!r}\")"
   ]
  },
  {
   "cell_type": "markdown",
   "metadata": {},
   "source": [
    "Unlike a normal dictionary, keys(), values() and items() are not generator"
   ]
  },
  {
   "cell_type": "code",
   "execution_count": 4,
   "metadata": {},
   "outputs": [
    {
     "name": "stdout",
     "output_type": "stream",
     "text": [
      "['alias', 'is_admin']\n",
      "['Johan', False]\n",
      "[('alias', 'Johan'), ('is_admin', False)]\n"
     ]
    }
   ],
   "source": [
    "print(user.keys())\n",
    "print(user.values())\n",
    "print(user.items())"
   ]
  },
  {
   "cell_type": "markdown",
   "metadata": {},
   "source": [
    "## Repr\n",
    "\n",
    "By default the repr is not helpful, especially when debugging"
   ]
  },
  {
   "cell_type": "code",
   "execution_count": 5,
   "metadata": {},
   "outputs": [
    {
     "data": {
      "text/plain": [
       "<UnixUser instance>"
      ]
     },
     "execution_count": 5,
     "metadata": {},
     "output_type": "execute_result"
    }
   ],
   "source": [
    "user"
   ]
  },
  {
   "cell_type": "markdown",
   "metadata": {},
   "source": [
    "We can change the repr using two methods\n",
    "\n",
    "* Overwrite the `__repr__` method\n",
    "* Overwrite the `_repr_info` method. This is specific to `schematics.Model`"
   ]
  },
  {
   "cell_type": "code",
   "execution_count": 6,
   "metadata": {},
   "outputs": [
    {
     "data": {
      "text/plain": [
       "UnixUser({'alias': 'Johan', 'isAdmin': False})"
      ]
     },
     "execution_count": 6,
     "metadata": {},
     "output_type": "execute_result"
    }
   ],
   "source": [
    "# First method: overwrite __repr__\n",
    "class UnixUser(schematics.Model):\n",
    "    alias = schematics.types.StringType(required=True)\n",
    "    is_admin = schematics.types.BooleanType(default=False, serialized_name=\"isAdmin\")\n",
    "    \n",
    "    def __repr__(self):\n",
    "        return f\"UnixUser({self.to_primitive()})\"\n",
    "    \n",
    "UnixUser({\"alias\": \"Johan\"})"
   ]
  },
  {
   "cell_type": "code",
   "execution_count": 7,
   "metadata": {},
   "outputs": [
    {
     "data": {
      "text/plain": [
       "<UnixUser: Johan>"
      ]
     },
     "execution_count": 7,
     "metadata": {},
     "output_type": "execute_result"
    }
   ],
   "source": [
    "# Second method: overwrite _repr_info\n",
    "class UnixUser(schematics.Model):\n",
    "    alias = schematics.types.StringType(required=True)\n",
    "    is_admin = schematics.types.BooleanType(default=False, serialized_name=\"isAdmin\")\n",
    "    \n",
    "    def _repr_info(self):\n",
    "        return self.alias\n",
    "    \n",
    "UnixUser({\"alias\": \"Johan\"})"
   ]
  }
 ],
 "metadata": {
  "kernelspec": {
   "display_name": "Python 3",
   "language": "python",
   "name": "python3"
  },
  "language_info": {
   "codemirror_mode": {
    "name": "ipython",
    "version": 3
   },
   "file_extension": ".py",
   "mimetype": "text/x-python",
   "name": "python",
   "nbconvert_exporter": "python",
   "pygments_lexer": "ipython3",
   "version": "3.7.3"
  }
 },
 "nbformat": 4,
 "nbformat_minor": 4
}
