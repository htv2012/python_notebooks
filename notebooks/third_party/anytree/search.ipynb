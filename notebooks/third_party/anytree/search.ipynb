{
 "cells": [
  {
   "cell_type": "markdown",
   "id": "87eb9499-924b-4538-928f-dfc5b5ff266d",
   "metadata": {},
   "source": [
    "# Search"
   ]
  },
  {
   "cell_type": "code",
   "execution_count": 5,
   "id": "deaaf6a8-e006-4014-bfa3-90d040e74f60",
   "metadata": {},
   "outputs": [
    {
     "name": "stdout",
     "output_type": "stream",
     "text": [
      "f\n",
      "├── b\n",
      "│   ├── a\n",
      "│   └── d\n",
      "│       ├── c\n",
      "│       └── e\n",
      "└── g\n",
      "    └── i\n",
      "        └── h\n"
     ]
    }
   ],
   "source": [
    "from anytree import Node, RenderTree, ContRoundStyle, findall\n",
    "f = Node(\"f\")\n",
    "b = Node(\"b\", parent=f)\n",
    "a = Node(\"a\", parent=b)\n",
    "d = Node(\"d\", parent=b)\n",
    "c = Node(\"c\", parent=d)\n",
    "e = Node(\"e\", parent=d)\n",
    "g = Node(\"g\", parent=f)\n",
    "i = Node(\"i\", parent=g)\n",
    "h = Node(\"h\", parent=i)\n",
    "print(RenderTree(f).by_attr())"
   ]
  },
  {
   "cell_type": "code",
   "execution_count": 8,
   "id": "293757aa-15ab-4e6b-9bbe-749f8fdbc29c",
   "metadata": {},
   "outputs": [
    {
     "name": "stdout",
     "output_type": "stream",
     "text": [
      "Node('/f/b')\n",
      "Node('/f/b/a')\n",
      "Node('/f/b/d/c')\n"
     ]
    }
   ],
   "source": [
    "for node in findall(f, filter_=lambda node: node.name in {\"a\", \"b\", \"c\"}):\n",
    "    print(node)"
   ]
  },
  {
   "cell_type": "code",
   "execution_count": 9,
   "id": "f0e51854-c000-4a6f-9460-5af3611d0527",
   "metadata": {},
   "outputs": [
    {
     "data": {
      "text/plain": [
       "(Node('/f/b/d'), Node('/f/b/d/c'), Node('/f/b/d/e'))"
      ]
     },
     "execution_count": 9,
     "metadata": {},
     "output_type": "execute_result"
    }
   ],
   "source": [
    "findall(f, filter_=lambda node: d in node.path)"
   ]
  },
  {
   "cell_type": "code",
   "execution_count": null,
   "id": "904c4c69-d726-48de-a2d8-2b86969598bb",
   "metadata": {},
   "outputs": [],
   "source": []
  }
 ],
 "metadata": {
  "kernelspec": {
   "display_name": "Python 3 (ipykernel)",
   "language": "python",
   "name": "python3"
  },
  "language_info": {
   "codemirror_mode": {
    "name": "ipython",
    "version": 3
   },
   "file_extension": ".py",
   "mimetype": "text/x-python",
   "name": "python",
   "nbconvert_exporter": "python",
   "pygments_lexer": "ipython3",
   "version": "3.11.3"
  }
 },
 "nbformat": 4,
 "nbformat_minor": 5
}
