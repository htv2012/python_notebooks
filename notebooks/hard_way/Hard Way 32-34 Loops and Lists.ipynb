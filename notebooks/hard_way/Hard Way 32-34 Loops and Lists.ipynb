{
 "cells": [
  {
   "cell_type": "markdown",
   "metadata": {},
   "source": [
    "# References\n",
    "\n",
    "* Ned Batchelder: [Loop Like a Native]\n",
    "\n",
    "[Loop Like a Native]: http://nedbatchelder.com/text/iter.html"
   ]
  },
  {
   "cell_type": "markdown",
   "metadata": {},
   "source": [
    "# Recipe: Print List with Indices\n",
    "\n",
    "Here is a straight-forward approach to print a list along with indices:"
   ]
  },
  {
   "cell_type": "code",
   "execution_count": 1,
   "metadata": {
    "collapsed": false
   },
   "outputs": [
    {
     "name": "stdout",
     "output_type": "stream",
     "text": [
      "0 - Peter\n",
      "1 - Paul\n",
      "2 - Mary\n"
     ]
    }
   ],
   "source": [
    "band = ['Peter', 'Paul', 'Mary']\n",
    "for i in range(len(band)):\n",
    "    print('{} - {}'.format(i, band[i]))"
   ]
  },
  {
   "cell_type": "markdown",
   "metadata": {},
   "source": [
    "There are several problems with this approach:\n",
    "\n",
    "1. The expression in the for line is clunky at best\n",
    "1. The look up expression, `band[i]` is not the most efficient\n",
    "1. It is hard to understand\n",
    "\n",
    "A more pythonic approach is to use the `enumerate` generator:"
   ]
  },
  {
   "cell_type": "code",
   "execution_count": 2,
   "metadata": {
    "collapsed": false
   },
   "outputs": [
    {
     "name": "stdout",
     "output_type": "stream",
     "text": [
      "0 - Peter\n",
      "1 - Paul\n",
      "2 - Mary\n"
     ]
    }
   ],
   "source": [
    "band = ['Peter', 'Paul', 'Mary']\n",
    "for i, member in enumerate(band):\n",
    "    print('{} - {}'.format(i, member))"
   ]
  },
  {
   "cell_type": "markdown",
   "metadata": {},
   "source": [
    "What if we want the index to start from a non-zero value? It turns out that enumerate can optionally take a second parameter for that:"
   ]
  },
  {
   "cell_type": "code",
   "execution_count": 3,
   "metadata": {
    "collapsed": false
   },
   "outputs": [
    {
     "name": "stdout",
     "output_type": "stream",
     "text": [
      "1 - Peter\n",
      "2 - Paul\n",
      "3 - Mary\n"
     ]
    }
   ],
   "source": [
    "for i, member in enumerate(band, 1):\n",
    "    print('{} - {}'.format(i, member))"
   ]
  },
  {
   "cell_type": "markdown",
   "metadata": {},
   "source": [
    "# Looping through a Dictionary\n",
    "\n",
    "By default, looping through a dictionary will give us a list of keys:"
   ]
  },
  {
   "cell_type": "code",
   "execution_count": 4,
   "metadata": {
    "collapsed": false
   },
   "outputs": [
    {
     "name": "stdout",
     "output_type": "stream",
     "text": [
      "Karen\n",
      "Anna\n",
      "John\n"
     ]
    }
   ],
   "source": [
    "grades = {'John': 89, 'Anna': 91, 'Karen': 88}\n",
    "for name in grades:\n",
    "    print(name)"
   ]
  },
  {
   "cell_type": "markdown",
   "metadata": {},
   "source": [
    "Many newbies use the following idiom to loop through both the keys and values of a dictionary:"
   ]
  },
  {
   "cell_type": "code",
   "execution_count": 5,
   "metadata": {
    "collapsed": false
   },
   "outputs": [
    {
     "name": "stdout",
     "output_type": "stream",
     "text": [
      "Karen: 88\n",
      "Anna: 91\n",
      "John: 89\n"
     ]
    }
   ],
   "source": [
    "grades = {'John': 89, 'Anna': 91, 'Karen': 88}\n",
    "for name in grades:\n",
    "    print('{}: {}'.format(name, grades[name]))"
   ]
  },
  {
   "cell_type": "markdown",
   "metadata": {},
   "source": [
    "This approach works, but it requires the look-up operations, which are not efficient: `grades[name]`. A more pythonic approach is:"
   ]
  },
  {
   "cell_type": "code",
   "execution_count": 6,
   "metadata": {
    "collapsed": false
   },
   "outputs": [
    {
     "name": "stdout",
     "output_type": "stream",
     "text": [
      "Karen: 88\n",
      "Anna: 91\n",
      "John: 89\n"
     ]
    }
   ],
   "source": [
    "grades = {'John': 89, 'Anna': 91, 'Karen': 88}\n",
    "for name, grade in grades.items():\n",
    "    print('{}: {}'.format(name, grade))"
   ]
  },
  {
   "cell_type": "markdown",
   "metadata": {},
   "source": [
    "# Looping through a Set, String\n"
   ]
  },
  {
   "cell_type": "code",
   "execution_count": 7,
   "metadata": {
    "collapsed": false
   },
   "outputs": [
    {
     "name": "stdout",
     "output_type": "stream",
     "text": [
      "blue\n",
      "green\n",
      "red\n",
      "---\n",
      "J\n",
      "o\n",
      "h\n",
      "n\n"
     ]
    }
   ],
   "source": [
    "colors = {'red', 'green', 'blue'}\n",
    "for color in colors:\n",
    "    print(color)\n",
    "\n",
    "print('---')\n",
    "name = 'John'\n",
    "for letter in name:\n",
    "    print(letter)"
   ]
  },
  {
   "cell_type": "markdown",
   "metadata": {
    "collapsed": true
   },
   "source": [
    "# Recipe: Loops through Two or More Lists\n",
    "\n",
    "Here is the obvious, but non pythonic way:"
   ]
  },
  {
   "cell_type": "code",
   "execution_count": 8,
   "metadata": {
    "collapsed": false
   },
   "outputs": [
    {
     "name": "stdout",
     "output_type": "stream",
     "text": [
      "501 assigned to john\n",
      "502 assigned to karen\n",
      "503 assigned to anna\n"
     ]
    }
   ],
   "source": [
    "user_ids = [501, 502, 503]\n",
    "aliases = ['john', 'karen', 'anna']\n",
    "for i in range(len(user_ids)):\n",
    "    print('{} assigned to {}'.format(user_ids[i], aliases[i]))"
   ]
  },
  {
   "cell_type": "markdown",
   "metadata": {},
   "source": [
    "Again, the problem with this approach is the need to look up the list and clumsy code. A better, more pythonic way is to use the zip function:"
   ]
  },
  {
   "cell_type": "code",
   "execution_count": 9,
   "metadata": {
    "collapsed": false
   },
   "outputs": [
    {
     "name": "stdout",
     "output_type": "stream",
     "text": [
      "501 assigned to john\n",
      "502 assigned to karen\n",
      "503 assigned to anna\n"
     ]
    }
   ],
   "source": [
    "user_ids = [501, 502, 503]\n",
    "aliases = ['john', 'karen', 'anna']\n",
    "for user_id, alias in zip(user_ids, aliases):\n",
    "    print('{} assigned to {}'.format(user_id, alias))"
   ]
  },
  {
   "cell_type": "markdown",
   "metadata": {},
   "source": [
    "# The else Clause in Loop\n",
    "\n",
    "Unlike other languages, the `for` and `while` loops in Python come with an `else` clause, which gets executed when the loop finished without any `break`. In this regard, the `else` clause should be called `nobreak`. One application of this feature is to find elements in a loop, if found we break out, if not, the `else` clause gets executed:"
   ]
  },
  {
   "cell_type": "code",
   "execution_count": 32,
   "metadata": {
    "collapsed": false
   },
   "outputs": [
    {
     "name": "stdout",
     "output_type": "stream",
     "text": [
      "8 not found\n"
     ]
    }
   ],
   "source": [
    "target = 8\n",
    "my_list = [1, 3, 5, 7]\n",
    "\n",
    "for index, item in enumerate(my_list):\n",
    "    if item == target:\n",
    "        print('{} found at index [{}]'.format(target, index))\n",
    "        break\n",
    "else:\n",
    "    print('{} not found'.format(target))"
   ]
  },
  {
   "cell_type": "markdown",
   "metadata": {},
   "source": [
    "# Recipe: Find First Element in a Two-Dimensional Structure\n",
    "\n",
    "Given a two dimentional structure such as one below:"
   ]
  },
  {
   "cell_type": "code",
   "execution_count": 10,
   "metadata": {
    "collapsed": true
   },
   "outputs": [],
   "source": [
    "spreadsheet = [\n",
    "    [1, 2, 3, 4],     # Row 0\n",
    "    [5, 6, 7, 8],     # Row 1\n",
    "    [9, 10, 11, 12],  # Row 2\n",
    "]\n",
    "\n",
    "def print_matrix(matrix):\n",
    "    print('Matrix:')\n",
    "    for row in matrix:\n",
    "        print(' '.join(str(cell) for cell in row))\n",
    "    print('---')"
   ]
  },
  {
   "cell_type": "markdown",
   "metadata": {},
   "source": [
    "How do we search for a value, and return the row and column where that value occurs? Given the two-dimensional nature of the problem, the most straight-forward approach is to use two nested loops:"
   ]
  },
  {
   "cell_type": "code",
   "execution_count": 11,
   "metadata": {
    "collapsed": false
   },
   "outputs": [
    {
     "name": "stdout",
     "output_type": "stream",
     "text": [
      "Search row 0\n",
      "Search row 1\n",
      "Found 6 at row 1, column 1\n",
      "Search row 2\n"
     ]
    }
   ],
   "source": [
    "target = 6\n",
    "\n",
    "for row_number, row in enumerate(spreadsheet):\n",
    "    print('Search row', row_number)\n",
    "    for column_number, cell in enumerate(row):\n",
    "        if cell == target:\n",
    "            print('Found {} at row {}, column {}'.format(cell, row_number, column_number))\n",
    "            break\n"
   ]
  },
  {
   "cell_type": "markdown",
   "metadata": {},
   "source": [
    "The problem with the above is the break statement only break out of the inner loop, but not the outter one. In order to break out of both loops, we will need to put in some ugly hack which make the code unreadable. A better solution is to serialize all the cells in the 2D structure:"
   ]
  },
  {
   "cell_type": "code",
   "execution_count": 12,
   "metadata": {
    "collapsed": false
   },
   "outputs": [
    {
     "name": "stdout",
     "output_type": "stream",
     "text": [
      "Search row 0\n",
      "Search row 1\n",
      "Found 7 at row 1, column 2\n"
     ]
    }
   ],
   "source": [
    "def get_cells(matrix):\n",
    "    for row_number, row in enumerate(matrix):\n",
    "        print('Search row', row_number)\n",
    "        for column_number, cell in enumerate(row):\n",
    "            yield cell, row_number, column_number\n",
    "\n",
    "# Main\n",
    "target = 7\n",
    "for cell, row_number, column_number in get_cells(spreadsheet):\n",
    "    if cell == target:\n",
    "        print('Found {} at row {}, column {}'.format(cell, row_number, column_number))\n",
    "        break\n",
    "else:\n",
    "    print('Failed to find', target)"
   ]
  },
  {
   "cell_type": "markdown",
   "metadata": {},
   "source": [
    "Notes\n",
    "\n",
    "* `get_cells` still need to have the nested loops, but it no longer contain any discriminating logic\n",
    "* This solution admittedly used 3 loops, but the third one is not nested\n",
    "* Not many people know that loops in Python (`while` and `for`) has an optional `else` clause. This clause is executed when the loop completed without any break statement. Raymond Hettinger said it should have been called `nobreak`\n",
    "\n",
    "Now that we have implemented `get_cells`, we can make it more powerful by including a predicate for selecting cells, if not supplied, the default predicate will select all cells by return True for all cells:"
   ]
  },
  {
   "cell_type": "code",
   "execution_count": 13,
   "metadata": {
    "collapsed": false
   },
   "outputs": [
    {
     "name": "stdout",
     "output_type": "stream",
     "text": [
      "Found 7 at row 1, column 2\n"
     ]
    }
   ],
   "source": [
    "def get_cells(matrix, predicate=lambda x: True):\n",
    "    for row_number, row in enumerate(matrix):\n",
    "        for column_number, cell in enumerate(row):\n",
    "            if predicate(cell):\n",
    "                yield cell, row_number, column_number\n",
    "                \n",
    "target = 7\n",
    "for cell, row_number, column_number in get_cells(spreadsheet):\n",
    "    if cell == target:\n",
    "        print('Found {} at row {}, column {}'.format(cell, row_number, column_number))\n",
    "        break\n"
   ]
  },
  {
   "cell_type": "markdown",
   "metadata": {},
   "source": [
    "Here is an example use of that predicate. The following code will print out all the cells that are divisible by 3:"
   ]
  },
  {
   "cell_type": "code",
   "execution_count": 14,
   "metadata": {
    "collapsed": false
   },
   "outputs": [
    {
     "name": "stdout",
     "output_type": "stream",
     "text": [
      "Matrix:\n",
      "1 2 3 4\n",
      "5 6 7 8\n",
      "9 10 11 12\n",
      "---\n",
      "Found 3 at row 0, column 2\n",
      "Found 6 at row 1, column 1\n",
      "Found 9 at row 2, column 0\n",
      "Found 12 at row 2, column 3\n"
     ]
    }
   ],
   "source": [
    "print_matrix(spreadsheet)\n",
    "for cell_info in get_cells(spreadsheet, predicate=lambda x: x % 3 == 0):\n",
    "    print('Found {} at row {}, column {}'.format(*cell_info))"
   ]
  },
  {
   "cell_type": "markdown",
   "metadata": {},
   "source": [
    "# Accessing List Elements\n",
    "\n",
    "Besides the usual indices such as 0, 1, 2... Python also allow negative indices:"
   ]
  },
  {
   "cell_type": "code",
   "execution_count": 15,
   "metadata": {
    "collapsed": false
   },
   "outputs": [
    {
     "name": "stdout",
     "output_type": "stream",
     "text": [
      "My list: ['zero', 'one', 'two', 'three', 'four', 'five', 'six', 'seven', 'eight', 'nine', 'ten']\n",
      "First: zero\n",
      "Last: ten\n",
      "Next to last: nine\n"
     ]
    }
   ],
   "source": [
    "mylist = 'zero one two three four five six seven eight nine ten'.split()\n",
    "print('My list:', mylist)\n",
    "print('First:', mylist[0])\n",
    "print('Last:', mylist[-1])\n",
    "print('Next to last:', mylist[-2])"
   ]
  },
  {
   "cell_type": "markdown",
   "metadata": {},
   "source": [
    "### Python also Allow Accessing Slices"
   ]
  },
  {
   "cell_type": "code",
   "execution_count": 16,
   "metadata": {
    "collapsed": false
   },
   "outputs": [
    {
     "name": "stdout",
     "output_type": "stream",
     "text": [
      "First four: ['zero', 'one', 'two', 'three']\n",
      "Fifth element to last: ['four', 'five', 'six', 'seven', 'eight', 'nine', 'ten']\n",
      "Fifth element up to, but not including, last: ['four', 'five', 'six', 'seven', 'eight', 'nine']\n"
     ]
    }
   ],
   "source": [
    "print('First four:', mylist[:4])\n",
    "print('Fifth element to last:', mylist[4:])\n",
    "print('Fifth element up to, but not including, last:', mylist[4:-1])"
   ]
  },
  {
   "cell_type": "markdown",
   "metadata": {},
   "source": [
    "Note:\n",
    "\n",
    "* `mylist[:4]` is the same as `mylist[0:4]`\n",
    "* `mylist[4:]` is the same as `mylist[4:None]`\n",
    "* `mylist[:4] + mylist[4:] == mylist`"
   ]
  },
  {
   "cell_type": "markdown",
   "metadata": {},
   "source": [
    "### Slices can Be named"
   ]
  },
  {
   "cell_type": "code",
   "execution_count": 17,
   "metadata": {
    "collapsed": false
   },
   "outputs": [
    {
     "name": "stdout",
     "output_type": "stream",
     "text": [
      "Person:     ('John', 'Wayne')\n",
      "Coordinate: (1, 5)\n",
      "Phones:     ('555-1234', '555-2233')\n"
     ]
    }
   ],
   "source": [
    "record = (1, 5, 'John', 'Wayne', '555-1234', '555-2233')\n",
    "\n",
    "COORDINATE = slice(0, 2)\n",
    "NAME = slice(2, 4)\n",
    "PHONES = slice(4, None)\n",
    "\n",
    "print('Person:    ', record[NAME])\n",
    "print('Coordinate:', record[COORDINATE])\n",
    "print('Phones:    ', record[PHONES])"
   ]
  },
  {
   "cell_type": "markdown",
   "metadata": {},
   "source": [
    "# Mutable vs. Immutable Collections\n",
    "\n",
    "Lists, dictionaries and sets are mutable which means we can update, delete, insert elements or slices (list only). Tuple and frozenset are not mutable."
   ]
  },
  {
   "cell_type": "code",
   "execution_count": 18,
   "metadata": {
    "collapsed": false
   },
   "outputs": [
    {
     "name": "stdout",
     "output_type": "stream",
     "text": [
      "Original: [0, 1, 2, 3, 4, 5, 6, 7, 8, 9]\n",
      "Replaced element at index 2: [0, 1, 'deux', 3, 4, 5, 6, 7, 8, 9]\n"
     ]
    }
   ],
   "source": [
    "mylist = list(range(10))\n",
    "print('Original:', mylist)\n",
    "\n",
    "mylist[2] = 'deux'\n",
    "print('Replaced element at index 2:', mylist)"
   ]
  },
  {
   "cell_type": "code",
   "execution_count": 19,
   "metadata": {
    "collapsed": false
   },
   "outputs": [
    {
     "name": "stdout",
     "output_type": "stream",
     "text": [
      "Original: [0, 1, 2, 3, 4, 5, 6, 7, 8, 9]\n",
      "Deleted last 2 element: [0, 1, 2, 3, 4, 5, 6, 7]\n"
     ]
    }
   ],
   "source": [
    "mylist = list(range(10))\n",
    "print('Original:', mylist)\n",
    "\n",
    "del mylist[-2:]\n",
    "print('Deleted last 2 element:', mylist)"
   ]
  },
  {
   "cell_type": "code",
   "execution_count": 20,
   "metadata": {
    "collapsed": false
   },
   "outputs": [
    {
     "name": "stdout",
     "output_type": "stream",
     "text": [
      "Original: [0, 1, 2, 3, 4, 5, 6, 7, 8, 9]\n",
      "Deleted elements at 3..5: [0, 1, 2, 6, 7, 8, 9]\n"
     ]
    }
   ],
   "source": [
    "mylist = list(range(10))\n",
    "print('Original:', mylist)\n",
    "\n",
    "del mylist[3:6]\n",
    "print('Deleted elements at 3..5:', mylist)"
   ]
  },
  {
   "cell_type": "code",
   "execution_count": 21,
   "metadata": {
    "collapsed": false
   },
   "outputs": [
    {
     "name": "stdout",
     "output_type": "stream",
     "text": [
      "Original: [0, 1, 2, 3, 4, 5, 6, 7, 8, 9]\n",
      "Replace elements 1..5: [0, 'une', 'deux', 'trois', 6, 7, 8, 9]\n"
     ]
    }
   ],
   "source": [
    "mylist = list(range(10))\n",
    "print('Original:', mylist)\n",
    "\n",
    "mylist[1:6] = ['une', 'deux', 'trois']\n",
    "print('Replace elements 1..5:', mylist)"
   ]
  },
  {
   "cell_type": "markdown",
   "metadata": {},
   "source": [
    "# Recipe: Reverse a List\n",
    "\n",
    "### First Approach: Using the Slice Notation\n",
    "\n",
    "A slice notation can take yet a third, optional number to control the stepping whereas 1 means all elements, 2 means every other element, and -1 means stepping backward. This is the fastest method, but also a little terse."
   ]
  },
  {
   "cell_type": "code",
   "execution_count": 22,
   "metadata": {
    "collapsed": false
   },
   "outputs": [
    {
     "name": "stdout",
     "output_type": "stream",
     "text": [
      "Original: [0, 1, 2, 3, 4, 5, 6, 7, 8, 9]\n",
      "Reversed: [9, 8, 7, 6, 5, 4, 3, 2, 1, 0]\n"
     ]
    }
   ],
   "source": [
    "mylist = list(range(10))\n",
    "print('Original:', mylist)\n",
    "\n",
    "mylist = mylist[::-1]\n",
    "print('Reversed:', mylist)"
   ]
  },
  {
   "cell_type": "markdown",
   "metadata": {},
   "source": [
    "### Second Approach: Using the `reverse` Method\n",
    "\n",
    "The list object comes with a `reverse` method which will alter the list, just like the previous way. This method is the recommended approach for being easy to understand at the cost of a little (probably small) performance hit compare to the first approach."
   ]
  },
  {
   "cell_type": "code",
   "execution_count": 23,
   "metadata": {
    "collapsed": false
   },
   "outputs": [
    {
     "name": "stdout",
     "output_type": "stream",
     "text": [
      "Original: [0, 1, 2, 3, 4, 5, 6, 7, 8, 9]\n",
      "Reversed: [9, 8, 7, 6, 5, 4, 3, 2, 1, 0]\n"
     ]
    }
   ],
   "source": [
    "mylist = list(range(10))\n",
    "print('Original:', mylist)\n",
    "\n",
    "mylist.reverse()\n",
    "print('Reversed:', mylist)"
   ]
  },
  {
   "cell_type": "markdown",
   "metadata": {},
   "source": [
    "### Third Approach: Keep the Original and Create a Reversed Copy\n",
    "\n",
    "Another way to reverse a list is to pass it into the reversed function. Note that this function does not alter the list, but rather return a reversed list:"
   ]
  },
  {
   "cell_type": "code",
   "execution_count": 24,
   "metadata": {
    "collapsed": false
   },
   "outputs": [
    {
     "name": "stdout",
     "output_type": "stream",
     "text": [
      "Original: [0, 1, 2, 3, 4, 5, 6, 7, 8, 9]\n",
      "After reversing\n",
      "Original: [0, 1, 2, 3, 4, 5, 6, 7, 8, 9]\n",
      "New list: [9, 8, 7, 6, 5, 4, 3, 2, 1, 0]\n"
     ]
    }
   ],
   "source": [
    "mylist = list(range(10))\n",
    "print('Original:', mylist)\n",
    "\n",
    "newlist = list(reversed(mylist))\n",
    "print('After reversing')\n",
    "print('Original:', mylist)\n",
    "print('New list:', newlist)"
   ]
  },
  {
   "cell_type": "code",
   "execution_count": null,
   "metadata": {
    "collapsed": true
   },
   "outputs": [],
   "source": []
  }
 ],
 "metadata": {
  "anaconda-cloud": {},
  "kernelspec": {
   "display_name": "Python [conda root]",
   "language": "python",
   "name": "conda-root-py"
  },
  "language_info": {
   "codemirror_mode": {
    "name": "ipython",
    "version": 3
   },
   "file_extension": ".py",
   "mimetype": "text/x-python",
   "name": "python",
   "nbconvert_exporter": "python",
   "pygments_lexer": "ipython3",
   "version": "3.5.2"
  }
 },
 "nbformat": 4,
 "nbformat_minor": 1
}
