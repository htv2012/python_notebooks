{
 "cells": [
  {
   "cell_type": "markdown",
   "id": "f76f830b-24b8-4300-ba72-2c120ddbaf59",
   "metadata": {},
   "source": [
    "# Parse a Dictionary-Like Text\n",
    "\n",
    "In the wild, I often see people parses dictionary-like text that looks like one of these lines:\n",
    "\n",
    "```\n",
    "uid: 501, alias: anna, is_admin: true\n",
    "userId = 501 | name = \"Anna Karenina\"\n",
    "```\n",
    "\n",
    "There are many ways to parse these files, but I would like to offer a different (and not obvious) approach which uses the `csv` library."
   ]
  },
  {
   "cell_type": "code",
   "execution_count": 20,
   "id": "72703ab3-cca2-4e39-a2da-82d7d444169c",
   "metadata": {},
   "outputs": [],
   "source": [
    "import csv\n",
    "import json\n",
    "\n",
    "\n",
    "def decode_value(value):\n",
    "    try:\n",
    "        return json.loads(value)\n",
    "    except json.decoder.JSONDecodeError:\n",
    "        return value\n",
    "\n",
    "\n",
    "def text2dict(text: str, item_separator: str = \",\", field_separator: str = \":\") -> dict:\n",
    "    \"\"\"Parse a key-value text and return a dictionary\n",
    "\n",
    "    :param text: text which contain key/value pairs\n",
    "    :param item_separator: char which separates the items\n",
    "    :param field_separate: char which separates the key and the value\n",
    "    :return: A dictionary\n",
    "    \"\"\"\n",
    "    reader = csv.reader([text], delimiter=item_separator, skipinitialspace=True)\n",
    "    keys_values = next(reader)\n",
    "    result = {\n",
    "        key.strip(): decode_value(value)\n",
    "        for key, value in csv.reader(keys_values, delimiter=field_separator, skipinitialspace=True)\n",
    "    }\n",
    "    return result"
   ]
  },
  {
   "cell_type": "markdown",
   "id": "ee80cb84-301d-4627-acf7-6d4ee2b75e23",
   "metadata": {},
   "source": [
    "## Try It Out"
   ]
  },
  {
   "cell_type": "code",
   "execution_count": 21,
   "id": "ecced178-3c97-481c-a073-82f169c888f9",
   "metadata": {},
   "outputs": [
    {
     "data": {
      "text/plain": [
       "{'uid': 501, 'alias': 'anna', 'is_admin': True}"
      ]
     },
     "execution_count": 21,
     "metadata": {},
     "output_type": "execute_result"
    }
   ],
   "source": [
    "text2dict(\"uid: 501, alias: anna, is_admin: true\")"
   ]
  },
  {
   "cell_type": "code",
   "execution_count": 22,
   "id": "90e66d11-cfeb-4e5f-93ec-f72ff4bf2513",
   "metadata": {},
   "outputs": [
    {
     "data": {
      "text/plain": [
       "{'userId': 501, 'name': 'Anna Karenina'}"
      ]
     },
     "execution_count": 22,
     "metadata": {},
     "output_type": "execute_result"
    }
   ],
   "source": [
    "text2dict('userId = 501 | name = \"Anna Karenina\"', item_separator=\"|\", field_separator=\"=\")"
   ]
  },
  {
   "cell_type": "code",
   "execution_count": null,
   "id": "f67b68ad-a590-4440-9043-5ce9015622d1",
   "metadata": {},
   "outputs": [],
   "source": []
  }
 ],
 "metadata": {
  "kernelspec": {
   "display_name": "Python 3 (ipykernel)",
   "language": "python",
   "name": "python3"
  },
  "language_info": {
   "codemirror_mode": {
    "name": "ipython",
    "version": 3
   },
   "file_extension": ".py",
   "mimetype": "text/x-python",
   "name": "python",
   "nbconvert_exporter": "python",
   "pygments_lexer": "ipython3",
   "version": "3.13.7"
  }
 },
 "nbformat": 4,
 "nbformat_minor": 5
}
