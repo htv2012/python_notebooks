{
 "cells": [
  {
   "cell_type": "markdown",
   "metadata": {},
   "source": [
    "# Base-1 Tuple\n",
    "\n",
    "Lists and Tuple in Python are 0-index, how about a 1-index tuple?"
   ]
  },
  {
   "cell_type": "code",
   "execution_count": 1,
   "metadata": {},
   "outputs": [],
   "source": [
    "import collections.abc"
   ]
  },
  {
   "cell_type": "code",
   "execution_count": 2,
   "metadata": {},
   "outputs": [],
   "source": [
    "class Base1Tuple(collections.abc.Sequence):\n",
    "    \"\"\"\n",
    "    A tuple where index starts at 1 instead of the usual 0. For example:\n",
    "    \n",
    "        names = Base1Tuple([\"Alex\", \"Beatrice\", \"Carmen\"])\n",
    "        assert names[1] == \"Alex\"\n",
    "        assert names[2] == \"Beatrice\"\n",
    "        assert names[3] == \"Carmen\"\n",
    "        assert names[-1] == \"Carmen\"\n",
    "        # names[0] or names[4] will raise an IndexError\n",
    "    \"\"\"\n",
    "    def __init__(self, iterable=None):\n",
    "        self._tuple = tuple(iterable or [])\n",
    "        \n",
    "    def __getitem__(self, index):\n",
    "        if index == 0 or index > len(self):\n",
    "            raise IndexError(f\"Index out of range, expect 1-{len(self)}, not {index}\")\n",
    "        elif index > 0:\n",
    "            index = index - 1\n",
    "            \n",
    "        return self._tuple[index]\n",
    "    \n",
    "    def __iter__(self):\n",
    "        return iter(self._tuple)\n",
    "    \n",
    "    def __len__(self):\n",
    "        return len(self._tuple)"
   ]
  },
  {
   "cell_type": "code",
   "execution_count": 3,
   "metadata": {},
   "outputs": [],
   "source": [
    "band = Base1Tuple([\"Peter\", \"Paul\", \"Mary\"])"
   ]
  },
  {
   "cell_type": "code",
   "execution_count": 4,
   "metadata": {},
   "outputs": [
    {
     "data": {
      "text/plain": [
       "'Peter'"
      ]
     },
     "execution_count": 4,
     "metadata": {},
     "output_type": "execute_result"
    }
   ],
   "source": [
    "band[1]"
   ]
  },
  {
   "cell_type": "code",
   "execution_count": 5,
   "metadata": {},
   "outputs": [
    {
     "data": {
      "text/plain": [
       "'Paul'"
      ]
     },
     "execution_count": 5,
     "metadata": {},
     "output_type": "execute_result"
    }
   ],
   "source": [
    "band[2]"
   ]
  },
  {
   "cell_type": "code",
   "execution_count": 6,
   "metadata": {},
   "outputs": [
    {
     "data": {
      "text/plain": [
       "'Mary'"
      ]
     },
     "execution_count": 6,
     "metadata": {},
     "output_type": "execute_result"
    }
   ],
   "source": [
    "band[3]"
   ]
  },
  {
   "cell_type": "code",
   "execution_count": 7,
   "metadata": {},
   "outputs": [
    {
     "data": {
      "text/plain": [
       "'Mary'"
      ]
     },
     "execution_count": 7,
     "metadata": {},
     "output_type": "execute_result"
    }
   ],
   "source": [
    "band[-1]"
   ]
  },
  {
   "cell_type": "code",
   "execution_count": 8,
   "metadata": {},
   "outputs": [
    {
     "name": "stdout",
     "output_type": "stream",
     "text": [
      "Index out of range, expect 1-3, not 0\n"
     ]
    }
   ],
   "source": [
    "try:\n",
    "    band[0]\n",
    "except IndexError as error:\n",
    "    print(error)"
   ]
  },
  {
   "cell_type": "code",
   "execution_count": 9,
   "metadata": {},
   "outputs": [
    {
     "data": {
      "text/plain": [
       "('Peter', 'Paul', 'Mary')"
      ]
     },
     "execution_count": 9,
     "metadata": {},
     "output_type": "execute_result"
    }
   ],
   "source": [
    "# Can convert, thanks to __iter__\n",
    "tuple(band)"
   ]
  },
  {
   "cell_type": "code",
   "execution_count": 10,
   "metadata": {},
   "outputs": [
    {
     "data": {
      "text/plain": [
       "['Peter', 'Paul', 'Mary']"
      ]
     },
     "execution_count": 10,
     "metadata": {},
     "output_type": "execute_result"
    }
   ],
   "source": [
    "list(band)"
   ]
  },
  {
   "cell_type": "code",
   "execution_count": 11,
   "metadata": {},
   "outputs": [
    {
     "name": "stdout",
     "output_type": "stream",
     "text": [
      "Peter\n",
      "Paul\n",
      "Mary\n"
     ]
    }
   ],
   "source": [
    "# Can iterate\n",
    "for member in band:\n",
    "    print(member)"
   ]
  },
  {
   "cell_type": "code",
   "execution_count": 13,
   "metadata": {},
   "outputs": [
    {
     "name": "stdout",
     "output_type": "stream",
     "text": [
      "1. Peter\n",
      "2. Paul\n",
      "3. Mary\n"
     ]
    }
   ],
   "source": [
    "for index, member in enumerate(band, 1):\n",
    "    print(f\"{index}. {member}\")"
   ]
  },
  {
   "cell_type": "code",
   "execution_count": null,
   "metadata": {},
   "outputs": [],
   "source": []
  }
 ],
 "metadata": {
  "kernelspec": {
   "display_name": "Python 3",
   "language": "python",
   "name": "python3"
  },
  "language_info": {
   "codemirror_mode": {
    "name": "ipython",
    "version": 3
   },
   "file_extension": ".py",
   "mimetype": "text/x-python",
   "name": "python",
   "nbconvert_exporter": "python",
   "pygments_lexer": "ipython3",
   "version": "3.7.3"
  }
 },
 "nbformat": 4,
 "nbformat_minor": 4
}
