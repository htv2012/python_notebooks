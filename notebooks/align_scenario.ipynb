{
 "cells": [
  {
   "cell_type": "code",
   "execution_count": 11,
   "id": "f53431ce-365d-4090-a61b-0b39c1b303d7",
   "metadata": {},
   "outputs": [],
   "source": [
    "def align(text: str) -> str:\n",
    "    lines = [\n",
    "        line.strip().split(None, 1)\n",
    "        for line in text.strip().splitlines()\n",
    "    ]\n",
    "    longest = max(len(keyword) for keyword, _ in lines)\n",
    "    lines = [\n",
    "        f\"{keyword:>{longest}} {rest}\"\n",
    "        for keyword, rest in lines\n",
    "    ]\n",
    "    return \"\\n\".join(lines)"
   ]
  },
  {
   "cell_type": "code",
   "execution_count": 17,
   "id": "e3c4a97a-af1c-475c-94e6-a2b84264de99",
   "metadata": {},
   "outputs": [
    {
     "name": "stdout",
     "output_type": "stream",
     "text": [
      "Scenario: some scenario\n",
      "Given some condition\n",
      "When some action is taken\n",
      "Then some result is expected.\n",
      "--------------------------------------------------------------------------------\n",
      "Scenario: some scenario\n",
      "    Given some condition\n",
      "     When some action is taken\n",
      "     Then some result is expected.\n"
     ]
    }
   ],
   "source": [
    "sc = \"\"\"\n",
    "Scenario: some scenario\n",
    "Given some condition\n",
    "When some action is taken\n",
    "Then some result is expected.\n",
    "\"\"\".strip()\n",
    "\n",
    "print(sc)\n",
    "print(\"-\" * 80)\n",
    "print(align(sc))"
   ]
  },
  {
   "cell_type": "code",
   "execution_count": 28,
   "id": "8a0ce2e5-9bb0-4654-8c57-82df7631ae0d",
   "metadata": {},
   "outputs": [],
   "source": [
    "def align2(text: str) -> str:\n",
    "    return \"\\n\".join(\n",
    "        f\"{'    ' if index > 0 else ''}{line}\"\n",
    "        for index, line in enumerate(text.strip().splitlines())\n",
    "    )"
   ]
  },
  {
   "cell_type": "code",
   "execution_count": 29,
   "id": "d9308a72-b500-428a-a5a0-5b94631c83a0",
   "metadata": {},
   "outputs": [
    {
     "name": "stdout",
     "output_type": "stream",
     "text": [
      "Scenario: some scenario\n",
      "    Given some condition\n",
      "    When some action is taken\n",
      "    Then some result is expected.\n"
     ]
    }
   ],
   "source": [
    "print(align2(\"\"\"\n",
    "Scenario: some scenario\n",
    "Given some condition\n",
    "When some action is taken\n",
    "Then some result is expected.\n",
    "\"\"\"))"
   ]
  },
  {
   "cell_type": "code",
   "execution_count": null,
   "id": "dcfe08cf-d565-4400-8c73-fddd26d4019f",
   "metadata": {},
   "outputs": [],
   "source": []
  }
 ],
 "metadata": {
  "kernelspec": {
   "display_name": "Python 3 (ipykernel)",
   "language": "python",
   "name": "python3"
  },
  "language_info": {
   "codemirror_mode": {
    "name": "ipython",
    "version": 3
   },
   "file_extension": ".py",
   "mimetype": "text/x-python",
   "name": "python",
   "nbconvert_exporter": "python",
   "pygments_lexer": "ipython3",
   "version": "3.12.4"
  }
 },
 "nbformat": 4,
 "nbformat_minor": 5
}
