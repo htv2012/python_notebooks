{
 "cells": [
  {
   "cell_type": "markdown",
   "metadata": {},
   "source": [
    "# Parse Log Line"
   ]
  },
  {
   "cell_type": "code",
   "execution_count": 2,
   "metadata": {},
   "outputs": [
    {
     "name": "stdout",
     "output_type": "stream",
     "text": [
      "127.0.0.1 - admin [14/Apr/2021:05:27:59 +0000] \"GET /restconf/data/openconfig-system:system/f5-system-redundancy:redundancy/state/current-active HTTP/1.1\" 200 60 \"-\" \"pyth\n",
      "on-requests/2.18.4\"\n",
      "127.0.0.1 - admin [14/Apr/2021:05:28:02 +0000] \"GET /restconf/data/openconfig-system:system/f5-system-redundancy:redundancy/state/current-active HTTP/1.1\" 200 60 \"-\" \"pyth\n",
      "on-requests/2.18.4\"\n",
      "127.0.0.1 - admin [14/Apr/2021:05:28:05 +0000] \"GET /restconf/data/openconfig-system:system/f5-system-redundancy:redundancy/state/current-active HTTP/1.1\" 200 60 \"-\" \"pyth\n",
      "on-requests/2.18.4\"\n",
      "127.0.0.1 - admin [14/Apr/2021:05:28:08 +0000] \"GET /restconf/data/openconfig-system:system/f5-system-redundancy:redundancy/state/current-active HTTP/1.1\" 200 60 \"-\" \"pyth\n",
      "on-requests/2.18.4\"\n",
      "127.0.0.1 - admin [14/Apr/2021:05:28:11 +0000] \"GET /restconf/data/openconfig-system:system/f5-system-redundancy:redundancy/state/current-active HTTP/1.1\" 200 60 \"-\" \"pyth\n",
      "on-requests/2.18.4\"\n",
      "127.0.0.1 - admin [14/Apr/2021:05:28:14 +0000] \"GET /restconf/data/openconfig-system:system/f5-system-redundancy:redundancy/state/current-active HTTP/1.1\" 200 60 \"-\" \"pyth\n",
      "on-requests/2.18.4\"\n",
      "127.0.0.1 - admin [14/Apr/2021:05:28:14 +0000] \"GET /restconf/data/openconfig-system:system/f5-system-redundancy:redundancy/state/current-active HTTP/1.1\" 200 60 \"-\" \"pyth\n",
      "on-requests/2.18.4\"\n",
      "127.0.0.1 - admin [14/Apr/2021:05:28:17 +0000] \"GET /restconf/data/openconfig-system:system/f5-system-redundancy:redundancy/state/current-active HTTP/1.1\" 200 60 \"-\" \"pyth\n",
      "on-requests/2.18.4\"\n",
      "127.0.0.1 - admin [14/Apr/2021:07:16:52 +0000] \"GET /restconf/data/openconfig-system:system/f5-system-redundancy:redundancy/state/current-active HTTP/1.1\" 200 60 \"-\" \"pyth\n",
      "on-requests/2.18.4\"\n",
      "127.0.0.1 - admin [14/Apr/2021:07:20:31 +0000] \"GET /restconf/data/openconfig-system:system/f5-system-redundancy:redundancy/state/current-active HTTP/1.1\" 200 60 \"-\" \"pyth\n",
      "on-requests/2.18.4\"\n",
      "\n"
     ]
    }
   ],
   "source": [
    "lines = \"\"\"127.0.0.1 - admin [14/Apr/2021:05:27:59 +0000] \"GET /restconf/data/openconfig-system:system/f5-system-redundancy:redundancy/state/current-active HTTP/1.1\" 200 60 \"-\" \"pyth\n",
    "on-requests/2.18.4\"\n",
    "127.0.0.1 - admin [14/Apr/2021:05:28:02 +0000] \"GET /restconf/data/openconfig-system:system/f5-system-redundancy:redundancy/state/current-active HTTP/1.1\" 200 60 \"-\" \"pyth\n",
    "on-requests/2.18.4\"\n",
    "127.0.0.1 - admin [14/Apr/2021:05:28:05 +0000] \"GET /restconf/data/openconfig-system:system/f5-system-redundancy:redundancy/state/current-active HTTP/1.1\" 200 60 \"-\" \"pyth\n",
    "on-requests/2.18.4\"\n",
    "127.0.0.1 - admin [14/Apr/2021:05:28:08 +0000] \"GET /restconf/data/openconfig-system:system/f5-system-redundancy:redundancy/state/current-active HTTP/1.1\" 200 60 \"-\" \"pyth\n",
    "on-requests/2.18.4\"\n",
    "127.0.0.1 - admin [14/Apr/2021:05:28:11 +0000] \"GET /restconf/data/openconfig-system:system/f5-system-redundancy:redundancy/state/current-active HTTP/1.1\" 200 60 \"-\" \"pyth\n",
    "on-requests/2.18.4\"\n",
    "127.0.0.1 - admin [14/Apr/2021:05:28:14 +0000] \"GET /restconf/data/openconfig-system:system/f5-system-redundancy:redundancy/state/current-active HTTP/1.1\" 200 60 \"-\" \"pyth\n",
    "on-requests/2.18.4\"\n",
    "127.0.0.1 - admin [14/Apr/2021:05:28:14 +0000] \"GET /restconf/data/openconfig-system:system/f5-system-redundancy:redundancy/state/current-active HTTP/1.1\" 200 60 \"-\" \"pyth\n",
    "on-requests/2.18.4\"\n",
    "127.0.0.1 - admin [14/Apr/2021:05:28:17 +0000] \"GET /restconf/data/openconfig-system:system/f5-system-redundancy:redundancy/state/current-active HTTP/1.1\" 200 60 \"-\" \"pyth\n",
    "on-requests/2.18.4\"\n",
    "127.0.0.1 - admin [14/Apr/2021:07:16:52 +0000] \"GET /restconf/data/openconfig-system:system/f5-system-redundancy:redundancy/state/current-active HTTP/1.1\" 200 60 \"-\" \"pyth\n",
    "on-requests/2.18.4\"\n",
    "127.0.0.1 - admin [14/Apr/2021:07:20:31 +0000] \"GET /restconf/data/openconfig-system:system/f5-system-redundancy:redundancy/state/current-active HTTP/1.1\" 200 60 \"-\" \"pyth\n",
    "on-requests/2.18.4\"\n",
    "\"\"\"\n",
    "print(lines)"
   ]
  },
  {
   "cell_type": "code",
   "execution_count": 3,
   "metadata": {},
   "outputs": [
    {
     "data": {
      "text/plain": [
       "['127.0.0.1 - admin [14/Apr/2021:05:27:59 +0000] \"GET /restconf/data/openconfig-system:system/f5-system-redundancy:redundancy/state/current-active HTTP/1.1\" 200 60 \"-\" \"pyth',\n",
       " 'on-requests/2.18.4\"',\n",
       " '127.0.0.1 - admin [14/Apr/2021:05:28:02 +0000] \"GET /restconf/data/openconfig-system:system/f5-system-redundancy:redundancy/state/current-active HTTP/1.1\" 200 60 \"-\" \"pyth',\n",
       " 'on-requests/2.18.4\"',\n",
       " '127.0.0.1 - admin [14/Apr/2021:05:28:05 +0000] \"GET /restconf/data/openconfig-system:system/f5-system-redundancy:redundancy/state/current-active HTTP/1.1\" 200 60 \"-\" \"pyth',\n",
       " 'on-requests/2.18.4\"',\n",
       " '127.0.0.1 - admin [14/Apr/2021:05:28:08 +0000] \"GET /restconf/data/openconfig-system:system/f5-system-redundancy:redundancy/state/current-active HTTP/1.1\" 200 60 \"-\" \"pyth',\n",
       " 'on-requests/2.18.4\"',\n",
       " '127.0.0.1 - admin [14/Apr/2021:05:28:11 +0000] \"GET /restconf/data/openconfig-system:system/f5-system-redundancy:redundancy/state/current-active HTTP/1.1\" 200 60 \"-\" \"pyth',\n",
       " 'on-requests/2.18.4\"',\n",
       " '127.0.0.1 - admin [14/Apr/2021:05:28:14 +0000] \"GET /restconf/data/openconfig-system:system/f5-system-redundancy:redundancy/state/current-active HTTP/1.1\" 200 60 \"-\" \"pyth',\n",
       " 'on-requests/2.18.4\"',\n",
       " '127.0.0.1 - admin [14/Apr/2021:05:28:14 +0000] \"GET /restconf/data/openconfig-system:system/f5-system-redundancy:redundancy/state/current-active HTTP/1.1\" 200 60 \"-\" \"pyth',\n",
       " 'on-requests/2.18.4\"',\n",
       " '127.0.0.1 - admin [14/Apr/2021:05:28:17 +0000] \"GET /restconf/data/openconfig-system:system/f5-system-redundancy:redundancy/state/current-active HTTP/1.1\" 200 60 \"-\" \"pyth',\n",
       " 'on-requests/2.18.4\"',\n",
       " '127.0.0.1 - admin [14/Apr/2021:07:16:52 +0000] \"GET /restconf/data/openconfig-system:system/f5-system-redundancy:redundancy/state/current-active HTTP/1.1\" 200 60 \"-\" \"pyth',\n",
       " 'on-requests/2.18.4\"',\n",
       " '127.0.0.1 - admin [14/Apr/2021:07:20:31 +0000] \"GET /restconf/data/openconfig-system:system/f5-system-redundancy:redundancy/state/current-active HTTP/1.1\" 200 60 \"-\" \"pyth',\n",
       " 'on-requests/2.18.4\"']"
      ]
     },
     "execution_count": 3,
     "metadata": {},
     "output_type": "execute_result"
    }
   ],
   "source": [
    "lines = lines.splitlines()\n",
    "lines"
   ]
  },
  {
   "cell_type": "code",
   "execution_count": 4,
   "metadata": {},
   "outputs": [],
   "source": [
    "import shlex"
   ]
  },
  {
   "cell_type": "code",
   "execution_count": 5,
   "metadata": {},
   "outputs": [],
   "source": [
    "line = lines[0]"
   ]
  },
  {
   "cell_type": "code",
   "execution_count": 6,
   "metadata": {},
   "outputs": [
    {
     "data": {
      "text/plain": [
       "'127.0.0.1 - admin [14/Apr/2021:05:27:59 +0000] \"GET /restconf/data/openconfig-system:system/f5-system-redundancy:redundancy/state/current-active HTTP/1.1\" 200 60 \"-\" \"pyth'"
      ]
     },
     "execution_count": 6,
     "metadata": {},
     "output_type": "execute_result"
    }
   ],
   "source": [
    "line"
   ]
  },
  {
   "cell_type": "code",
   "execution_count": null,
   "metadata": {},
   "outputs": [],
   "source": []
  }
 ],
 "metadata": {
  "kernelspec": {
   "display_name": "Python 3",
   "language": "python",
   "name": "python3"
  },
  "language_info": {
   "codemirror_mode": {
    "name": "ipython",
    "version": 3
   },
   "file_extension": ".py",
   "mimetype": "text/x-python",
   "name": "python",
   "nbconvert_exporter": "python",
   "pygments_lexer": "ipython3",
   "version": "3.7.3"
  }
 },
 "nbformat": 4,
 "nbformat_minor": 4
}
