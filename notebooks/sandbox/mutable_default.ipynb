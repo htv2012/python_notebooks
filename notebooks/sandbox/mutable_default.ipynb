{
 "cells": [
  {
   "cell_type": "markdown",
   "metadata": {},
   "source": [
    "# Sandbox: Using list as default parameter in `__init__`"
   ]
  },
  {
   "cell_type": "markdown",
   "metadata": {},
   "source": [
    "# The Problem\n",
    "\n",
    "Currently, our `Directive` class is defined as:"
   ]
  },
  {
   "cell_type": "code",
   "execution_count": 20,
   "metadata": {},
   "outputs": [],
   "source": [
    "class Directive:\n",
    "    def __init__(self, name, args=[]):\n",
    "        self.name = name\n",
    "        self.args = args\n",
    "        self.block = []\n",
    "\n",
    "    def __repr__(self):\n",
    "        return f\"{self.__class__.__name__}(name={self.name!r}, args={self.args!r})\""
   ]
  },
  {
   "cell_type": "markdown",
   "metadata": {},
   "source": [
    "This causes a problem since `args` takes in a mutable value as the default parameter. Here is the demonstration. To start, let defind two directives:"
   ]
  },
  {
   "cell_type": "code",
   "execution_count": 21,
   "metadata": {},
   "outputs": [
    {
     "name": "stdout",
     "output_type": "stream",
     "text": [
      "Directive(name='D1', args=[])\n",
      "Directive(name='D2', args=[])\n"
     ]
    }
   ],
   "source": [
    "d1 = Directive(\"D1\")\n",
    "d2 = Directive(\"D2\")\n",
    "print(d1)\n",
    "print(d2)"
   ]
  },
  {
   "cell_type": "markdown",
   "metadata": {},
   "source": [
    "At this point, let's alter `d2.args` and see what happens:"
   ]
  },
  {
   "cell_type": "code",
   "execution_count": 22,
   "metadata": {},
   "outputs": [
    {
     "name": "stdout",
     "output_type": "stream",
     "text": [
      "Directive(name='D1', args=['blah'])\n",
      "Directive(name='D2', args=['blah'])\n"
     ]
    }
   ],
   "source": [
    "d2.args.append(\"blah\")\n",
    "print(d1)\n",
    "print(d2)"
   ]
  },
  {
   "cell_type": "markdown",
   "metadata": {},
   "source": [
    "As you can see, both `d1` and `d2` shares the same `args`. Worse yet, let's define another directive, `d3`:"
   ]
  },
  {
   "cell_type": "code",
   "execution_count": 23,
   "metadata": {},
   "outputs": [
    {
     "name": "stdout",
     "output_type": "stream",
     "text": [
      "Directive(name='Zoo', args=['blah'])\n"
     ]
    }
   ],
   "source": [
    "d3 = Directive(\"Zoo\")\n",
    "print(d3)"
   ]
  },
  {
   "cell_type": "markdown",
   "metadata": {},
   "source": [
    "# How to Fix It?\n",
    "\n",
    "In order to fix this problem, we should not assign args to a mutable object such as a list, a dictionary, or a set."
   ]
  },
  {
   "cell_type": "code",
   "execution_count": 31,
   "metadata": {},
   "outputs": [],
   "source": [
    "class DirectiveV2:\n",
    "    def __init__(self, name, args=None):\n",
    "        self.name = name\n",
    "        self.args = args or []\n",
    "        self.block = []\n",
    "\n",
    "    def __repr__(self):\n",
    "        return f\"{self.__class__.__name__}(name={self.name!r}, args={self.args!r})\""
   ]
  },
  {
   "cell_type": "markdown",
   "metadata": {},
   "source": [
    "Let us now replay the above sequence:"
   ]
  },
  {
   "cell_type": "code",
   "execution_count": 26,
   "metadata": {},
   "outputs": [
    {
     "name": "stdout",
     "output_type": "stream",
     "text": [
      "DirectiveV2(name='D1', args=[])\n",
      "DirectiveV2(name='D2', args=[])\n"
     ]
    }
   ],
   "source": [
    "d1 = DirectiveV2(\"D1\")\n",
    "d2 = DirectiveV2(\"D2\")\n",
    "print(d1)\n",
    "print(d2)"
   ]
  },
  {
   "cell_type": "markdown",
   "metadata": {},
   "source": [
    "Now, alter `d2.args`:"
   ]
  },
  {
   "cell_type": "code",
   "execution_count": 27,
   "metadata": {},
   "outputs": [
    {
     "name": "stdout",
     "output_type": "stream",
     "text": [
      "DirectiveV2(name='D1', args=[])\n",
      "DirectiveV2(name='D2', args=['blah'])\n"
     ]
    }
   ],
   "source": [
    "d2.args.append(\"blah\")\n",
    "print(d1)\n",
    "print(d2)"
   ]
  },
  {
   "cell_type": "markdown",
   "metadata": {},
   "source": [
    "Looks like the problem is fixed. Let see if we can safely create a new directive:"
   ]
  },
  {
   "cell_type": "code",
   "execution_count": 28,
   "metadata": {},
   "outputs": [
    {
     "name": "stdout",
     "output_type": "stream",
     "text": [
      "DirectiveV2(name='Zoo', args=[])\n"
     ]
    }
   ],
   "source": [
    "d3 = DirectiveV2(\"Zoo\")\n",
    "print(d3)"
   ]
  },
  {
   "cell_type": "markdown",
   "metadata": {},
   "source": [
    "So, we fixed the bug. Time to celebrate, but before we go, let's take a look at this interaction:"
   ]
  },
  {
   "cell_type": "code",
   "execution_count": 29,
   "metadata": {},
   "outputs": [
    {
     "name": "stdout",
     "output_type": "stream",
     "text": [
      "DirectiveV2(name='D4', args=[1, 2, 3])\n"
     ]
    }
   ],
   "source": [
    "my_args = [1, 2, 3]\n",
    "d4 = DirectiveV2(\"D4\", my_args)\n",
    "print(d4)"
   ]
  },
  {
   "cell_type": "code",
   "execution_count": 30,
   "metadata": {},
   "outputs": [
    {
     "name": "stdout",
     "output_type": "stream",
     "text": [
      "DirectiveV2(name='D4', args=[1, 2, 3, 4])\n"
     ]
    }
   ],
   "source": [
    "# Now, alter my_args\n",
    "my_args.append(4)\n",
    "print(d4)"
   ]
  },
  {
   "cell_type": "markdown",
   "metadata": {},
   "source": [
    "It seems that we need to make a copy of the list passed into the `__init__` method:"
   ]
  },
  {
   "cell_type": "code",
   "execution_count": 34,
   "metadata": {},
   "outputs": [],
   "source": [
    "import copy\n",
    "\n",
    "class DirectiveV3:\n",
    "    def __init__(self, name, args=None):\n",
    "        self.name = name\n",
    "        self.args = copy.deepcopy(args or [])\n",
    "        self.block = []\n",
    "\n",
    "    def __repr__(self):\n",
    "        return f\"{self.__class__.__name__}(name={self.name!r}, args={self.args!r})\""
   ]
  },
  {
   "cell_type": "code",
   "execution_count": 35,
   "metadata": {},
   "outputs": [
    {
     "name": "stdout",
     "output_type": "stream",
     "text": [
      "DirectiveV3(name='D1', args=[])\n",
      "DirectiveV3(name='D2', args=[])\n"
     ]
    }
   ],
   "source": [
    "# Test the sequence again\n",
    "d1 = DirectiveV3(\"D1\")\n",
    "d2 = DirectiveV3(\"D2\")\n",
    "print(d1)\n",
    "print(d2)"
   ]
  },
  {
   "cell_type": "code",
   "execution_count": 36,
   "metadata": {},
   "outputs": [
    {
     "name": "stdout",
     "output_type": "stream",
     "text": [
      "DirectiveV3(name='D1', args=[])\n",
      "DirectiveV3(name='D2', args=['blah'])\n"
     ]
    }
   ],
   "source": [
    "# Alter d2\n",
    "d2.args.append(\"blah\")\n",
    "print(d1)\n",
    "print(d2)"
   ]
  },
  {
   "cell_type": "code",
   "execution_count": 37,
   "metadata": {},
   "outputs": [
    {
     "name": "stdout",
     "output_type": "stream",
     "text": [
      "DirectiveV3(name='D4', args=[1, 2, 3])\n"
     ]
    }
   ],
   "source": [
    "# What about the my_args problem\n",
    "my_args = [1, 2, 3]\n",
    "d4 = DirectiveV3(\"D4\", my_args)\n",
    "print(d4)"
   ]
  },
  {
   "cell_type": "code",
   "execution_count": 38,
   "metadata": {},
   "outputs": [
    {
     "name": "stdout",
     "output_type": "stream",
     "text": [
      "DirectiveV3(name='D4', args=[1, 2, 3])\n"
     ]
    }
   ],
   "source": [
    "my_args.append(4)\n",
    "print(d4)"
   ]
  },
  {
   "cell_type": "code",
   "execution_count": null,
   "metadata": {},
   "outputs": [],
   "source": []
  }
 ],
 "metadata": {
  "kernelspec": {
   "display_name": "Python 3",
   "language": "python",
   "name": "python3"
  },
  "language_info": {
   "codemirror_mode": {
    "name": "ipython",
    "version": 3
   },
   "file_extension": ".py",
   "mimetype": "text/x-python",
   "name": "python",
   "nbconvert_exporter": "python",
   "pygments_lexer": "ipython3",
   "version": "3.7.3"
  }
 },
 "nbformat": 4,
 "nbformat_minor": 4
}
