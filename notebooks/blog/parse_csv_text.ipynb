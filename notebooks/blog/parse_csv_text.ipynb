{
 "cells": [
  {
   "cell_type": "markdown",
   "metadata": {},
   "source": [
    "# The Problem\n",
    "\n",
    "Most of us know how to parse a CSV file, but what about other sources such as a text block. For example, given the following block of text:"
   ]
  },
  {
   "cell_type": "code",
   "execution_count": 1,
   "metadata": {},
   "outputs": [],
   "source": [
    "text = \"\"\"\n",
    "uid,alias,shell\n",
    "501,karen,bash\n",
    "502,john,tcsh\n",
    "\"\"\""
   ]
  },
  {
   "cell_type": "markdown",
   "metadata": {},
   "source": [
    "How do we parse this text. Should we write it to a file first, then read?"
   ]
  },
  {
   "cell_type": "markdown",
   "metadata": {},
   "source": [
    "# The Solution\n",
    "\n",
    "According to the documentation for the [csv] library, a CSV reader can handle a file, or anything that supports the iterator protocol, which includes list, or in-memory file objects. Let us explore the first solution, which splits the text into lines.\n",
    "\n",
    "\n",
    "[csv]: https://docs.python.org/3.7/library/csv.html"
   ]
  },
  {
   "cell_type": "code",
   "execution_count": 2,
   "metadata": {},
   "outputs": [
    {
     "name": "stdout",
     "output_type": "stream",
     "text": [
      "['uid', 'alias', 'shell']\n",
      "['501', 'karen', 'bash']\n",
      "['502', 'john', 'tcsh']\n"
     ]
    }
   ],
   "source": [
    "import csv\n",
    "\n",
    "text = \"\"\"\n",
    "uid,alias,shell\n",
    "501,karen,bash\n",
    "502,john,tcsh\n",
    "\"\"\"\n",
    "reader = csv.reader(text.strip().splitlines())\n",
    "for row in reader:\n",
    "    print(row)"
   ]
  },
  {
   "cell_type": "markdown",
   "metadata": {},
   "source": [
    "That was easy. Note that we called `.strip()` to remove whitespaces surrounding the text block before splitting it into individual lines. Next, we feed the lines to `csv.reader` and let it does its work.\n",
    "\n",
    "Alternatively, we can use `io.StringIO` to turn the text into an in-memory file:"
   ]
  },
  {
   "cell_type": "code",
   "execution_count": 3,
   "metadata": {},
   "outputs": [
    {
     "name": "stdout",
     "output_type": "stream",
     "text": [
      "['uid', 'alias', 'shell']\n",
      "['501', 'karen', 'bash']\n",
      "['502', 'john', 'tcsh']\n"
     ]
    }
   ],
   "source": [
    "import csv\n",
    "import io\n",
    "\n",
    "text = \"\"\"\n",
    "uid,alias,shell\n",
    "501,karen,bash\n",
    "502,john,tcsh\n",
    "\"\"\"\n",
    "in_memory_file = io.StringIO(text.strip())\n",
    "reader = csv.reader(in_memory_file)\n",
    "for row in reader:\n",
    "    print(row)"
   ]
  },
  {
   "cell_type": "markdown",
   "metadata": {},
   "source": [
    "Of course, these techniques also work with other kind of reader: `csv.DictReader`:"
   ]
  },
  {
   "cell_type": "code",
   "execution_count": 4,
   "metadata": {},
   "outputs": [
    {
     "name": "stdout",
     "output_type": "stream",
     "text": [
      "OrderedDict([('uid', '501'), ('alias', 'karen'), ('shell', 'bash')])\n",
      "OrderedDict([('uid', '502'), ('alias', 'john'), ('shell', 'tcsh')])\n"
     ]
    }
   ],
   "source": [
    "import csv\n",
    "import io\n",
    "\n",
    "text = \"\"\"\n",
    "uid,alias,shell\n",
    "501,karen,bash\n",
    "502,john,tcsh\n",
    "\"\"\"\n",
    "in_memory_file = io.StringIO(text.strip())\n",
    "reader = csv.DictReader(in_memory_file)\n",
    "for row in reader:\n",
    "    print(row)"
   ]
  },
  {
   "cell_type": "markdown",
   "metadata": {},
   "source": [
    "# Conclusion\n",
    "\n",
    "Parsing a block of CSV text is not that hard, you do not need to write it to an external file and that is the beauty of the `csv` library: it can work with a number of input sources, not just file."
   ]
  }
 ],
 "metadata": {
  "kernelspec": {
   "display_name": "Python 3",
   "language": "python",
   "name": "python3"
  },
  "language_info": {
   "codemirror_mode": {
    "name": "ipython",
    "version": 3
   },
   "file_extension": ".py",
   "mimetype": "text/x-python",
   "name": "python",
   "nbconvert_exporter": "python",
   "pygments_lexer": "ipython3",
   "version": "3.7.3"
  }
 },
 "nbformat": 4,
 "nbformat_minor": 4
}
