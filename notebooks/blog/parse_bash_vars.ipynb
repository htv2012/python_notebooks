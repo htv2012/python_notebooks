{
 "cells": [
  {
   "cell_type": "markdown",
   "metadata": {},
   "source": [
    "# The Problem\n",
    "\n",
    "I sometimes need to parse a shell script to pick out variables declarations. Consider the following bash script, myscript.sh:\n",
    "\n",
    "```\n",
    "echo hello\n",
    "server=\"server1.example.com\"\n",
    "port=8899\n",
    "echo done\n",
    "```\n",
    "\n",
    "# The Solution\n",
    "\n",
    "The first step is read the contents of the script:"
   ]
  },
  {
   "cell_type": "code",
   "execution_count": 1,
   "metadata": {},
   "outputs": [
    {
     "name": "stdout",
     "output_type": "stream",
     "text": [
      "echo hello\n",
      "server=\"server1.example.com\"\n",
      "port=8899\n",
      "echo done\n"
     ]
    }
   ],
   "source": [
    "with open(\"myscript.sh\") as stream:\n",
    "    contents = stream.read().strip()\n",
    "print(contents)"
   ]
  },
  {
   "cell_type": "markdown",
   "metadata": {},
   "source": [
    "Next, we would pick out those lines which contains the variable declaration using regular expression:"
   ]
  },
  {
   "cell_type": "code",
   "execution_count": 2,
   "metadata": {},
   "outputs": [
    {
     "name": "stdout",
     "output_type": "stream",
     "text": [
      "['server=\"server1.example.com\"', 'port=8899']\n"
     ]
    }
   ],
   "source": [
    "import re\n",
    "\n",
    "var_declarations = re.findall(r\"^[a-zA-Z0-9_]+=.*$\", contents, flags=re.MULTILINE)\n",
    "print(var_declarations)"
   ]
  },
  {
   "cell_type": "markdown",
   "metadata": {},
   "source": [
    "Finally, we use the `csv` library to parse these declarations and return a dictionary:"
   ]
  },
  {
   "cell_type": "code",
   "execution_count": 3,
   "metadata": {},
   "outputs": [
    {
     "name": "stdout",
     "output_type": "stream",
     "text": [
      "{'server': 'server1.example.com', 'port': '8899'}\n"
     ]
    }
   ],
   "source": [
    "import csv\n",
    "reader = csv.reader(var_declarations, delimiter=\"=\")\n",
    "vars = dict(reader)\n",
    "print(vars)"
   ]
  },
  {
   "cell_type": "markdown",
   "metadata": {},
   "source": [
    "Putting it all together:"
   ]
  },
  {
   "cell_type": "code",
   "execution_count": 4,
   "metadata": {},
   "outputs": [],
   "source": [
    "import re\n",
    "import csv\n",
    "\n",
    "def parse_bash_vars(path: str) -> dict:\n",
    "    \"\"\"\n",
    "    Parses a bash script and returns a dictionary representing the\n",
    "    variables declared in that script.\n",
    "    \n",
    "    :param path: The path to the bash script\n",
    "    :return: Variables as a dictionary\n",
    "    \"\"\"\n",
    "    with open(path) as stream:\n",
    "        contents = stream.read().strip()\n",
    "\n",
    "    var_declarations = re.findall(r\"^[a-zA-Z0-9_]+=.*$\", contents, flags=re.MULTILINE)\n",
    "    reader = csv.reader(var_declarations, delimiter=\"=\")\n",
    "    bash_vars = dict(reader)\n",
    "    return bash_vars"
   ]
  },
  {
   "cell_type": "markdown",
   "metadata": {},
   "source": [
    "Test it out:"
   ]
  },
  {
   "cell_type": "code",
   "execution_count": 5,
   "metadata": {},
   "outputs": [
    {
     "data": {
      "text/plain": [
       "{'server': 'server1.example.com', 'port': '8899'}"
      ]
     },
     "execution_count": 5,
     "metadata": {},
     "output_type": "execute_result"
    }
   ],
   "source": [
    "parse_bash_vars(\"myscript.sh\")"
   ]
  },
  {
   "cell_type": "markdown",
   "metadata": {},
   "source": [
    "# Conclusion\n",
    "\n",
    "When mentioning the `csv` library, most thinks of it as a way to parse comma-separated-values files, but it has other uses such as parsing the bash variables or parsing /etc/os-release file."
   ]
  }
 ],
 "metadata": {
  "kernelspec": {
   "display_name": "Python 3",
   "language": "python",
   "name": "python3"
  },
  "language_info": {
   "codemirror_mode": {
    "name": "ipython",
    "version": 3
   },
   "file_extension": ".py",
   "mimetype": "text/x-python",
   "name": "python",
   "nbconvert_exporter": "python",
   "pygments_lexer": "ipython3",
   "version": "3.7.3"
  }
 },
 "nbformat": 4,
 "nbformat_minor": 4
}
