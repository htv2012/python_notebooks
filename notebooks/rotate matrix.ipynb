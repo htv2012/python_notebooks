{
 "cells": [
  {
   "cell_type": "code",
   "execution_count": 1,
   "id": "5fe24af7-f383-49a4-8d76-42886b2e0280",
   "metadata": {},
   "outputs": [
    {
     "data": {
      "text/plain": [
       "[[1, 2, 3], [4, 5, 6], [7, 8, 9]]"
      ]
     },
     "execution_count": 1,
     "metadata": {},
     "output_type": "execute_result"
    }
   ],
   "source": [
    "matrix = [[1,2,3],[4,5,6],[7,8,9]]\n",
    "matrix"
   ]
  },
  {
   "cell_type": "code",
   "execution_count": null,
   "id": "a91e18f9-921a-464c-ad59-29df05c33541",
   "metadata": {},
   "outputs": [],
   "source": [
    "def dest(n: int, row: int, col: int):\n",
    "    \"\"\"\n",
    "    n = 3\n",
    "    \n",
    "    # Row 0 -> col 2\n",
    "    (0, 0) -> (0, 2)\n",
    "    (0, 1) -> (1, 2)\n",
    "    (0, 2) -> (2, 2)\n",
    "\n",
    "    # Row 1 -> col 1\n",
    "    (1, 0) -> (0, 1)\n",
    "    (1, 1) -> (1, 1)\n",
    "    (1, 2) -> (2, 1)\n",
    "\n",
    "    # Row 2 -> col 0\n",
    "    (2, 0) -> (0, 0)\n",
    "    (2, 1) -> (1, 0)\n",
    "    (2, 2) -> (2, 0)\n",
    "    \"\"\""
   ]
  },
  {
   "cell_type": "code",
   "execution_count": 34,
   "id": "5b3c8e66-7e88-46a7-bead-c13797a1aeaf",
   "metadata": {},
   "outputs": [
    {
     "name": "stdout",
     "output_type": "stream",
     "text": [
      " 5  1  9 11\n",
      " 2  4  8 10\n",
      "13  3  6  7\n",
      "15 14 12 16\n",
      "--------------------------------------------------------------------------------\n",
      "15 13  2  5\n",
      "14  3  4  1\n",
      "12  6  8  9\n",
      "16  7 10 11\n"
     ]
    }
   ],
   "source": [
    "matrix = [[5,1,9,11],[2,4,8,10],[13,3,6,7],[15,14,12,16]]\n",
    "\n",
    "def pm(m):\n",
    "    for row in m:\n",
    "        print(\" \".join(f\"{n:>2}\" for n in row))\n",
    "\n",
    "def gen_diag(n):\n",
    "    def diag(n: int, row: int, col: int):\n",
    "        out = []\n",
    "        while row >= 0 and col < n:\n",
    "            out.append((row, col))\n",
    "            row -= 1\n",
    "            col += 1\n",
    "        return out  \n",
    "    \n",
    "    for i in range(1, n):\n",
    "        yield diag(n, i, 0)\n",
    "    for i in range(1, n - 1):\n",
    "        yield diag(n, n - 1, i)\n",
    "\n",
    "\n",
    "\n",
    "def rotate(matrix):\n",
    "    dimension = len(matrix)\n",
    "\n",
    "    # Rotate diagnonally\n",
    "    for diag_coords in gen_diag(dimension):\n",
    "        left, right = 0, len(diag_coords) - 1\n",
    "        while left < right:\n",
    "            row1, col1 = diag_coords[left]\n",
    "            row2, col2 = diag_coords[right]\n",
    "            matrix[row1][col1], matrix[row2][col2] = matrix[row2][col2], matrix[row1][col1]\n",
    "            left += 1\n",
    "            right -= 1\n",
    "\n",
    "    # Rotate vertically\n",
    "    for row in matrix:\n",
    "        left, right = 0, dimension - 1\n",
    "        while left < right:\n",
    "            row[left], row[right] = row[right], row[left]\n",
    "            left += 1\n",
    "            right -= 1\n",
    "\n",
    "pm(matrix)\n",
    "print(\"-\" * 80)\n",
    "rotate(matrix)\n",
    "pm(matrix)"
   ]
  },
  {
   "cell_type": "code",
   "execution_count": 24,
   "id": "28fbfb83-acde-41cf-9a15-8b450b771333",
   "metadata": {},
   "outputs": [
    {
     "name": "stdout",
     "output_type": "stream",
     "text": [
      "n=4\n",
      "(1, 0)\n",
      "[(1, 0), (0, 1)]\n",
      "(2, 0)\n",
      "[(2, 0), (1, 1), (0, 2)]\n",
      "(3, 0)\n",
      "[(3, 0), (2, 1), (1, 2), (0, 3)]\n",
      "(3, 1)\n",
      "[(3, 1), (2, 2), (1, 3)]\n",
      "(3, 2)\n",
      "[(3, 2), (2, 3)]\n"
     ]
    }
   ],
   "source": []
  },
  {
   "cell_type": "code",
   "execution_count": null,
   "id": "ccd16f58-b8c2-4c94-9539-750f4647b3c5",
   "metadata": {},
   "outputs": [],
   "source": []
  }
 ],
 "metadata": {
  "kernelspec": {
   "display_name": "Python 3 (ipykernel)",
   "language": "python",
   "name": "python3"
  },
  "language_info": {
   "codemirror_mode": {
    "name": "ipython",
    "version": 3
   },
   "file_extension": ".py",
   "mimetype": "text/x-python",
   "name": "python",
   "nbconvert_exporter": "python",
   "pygments_lexer": "ipython3",
   "version": "3.12.4"
  }
 },
 "nbformat": 4,
 "nbformat_minor": 5
}
