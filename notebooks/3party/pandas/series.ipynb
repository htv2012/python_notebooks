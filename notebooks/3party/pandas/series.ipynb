{
 "cells": [
  {
   "cell_type": "markdown",
   "id": "349c9c5d-1a07-415a-bd9f-f0384aa95883",
   "metadata": {},
   "source": [
    "# Pandas Series"
   ]
  },
  {
   "cell_type": "code",
   "execution_count": 1,
   "id": "12d44938-4b23-4344-a89c-cc7ccea3089d",
   "metadata": {},
   "outputs": [],
   "source": [
    "import pandas as pd"
   ]
  },
  {
   "cell_type": "code",
   "execution_count": 2,
   "id": "9a235680-2c4e-4ed7-b66d-b5aeb76df7d9",
   "metadata": {},
   "outputs": [
    {
     "data": {
      "text/plain": [
       "0    1\n",
       "1    7\n",
       "2    2\n",
       "dtype: int64"
      ]
     },
     "execution_count": 2,
     "metadata": {},
     "output_type": "execute_result"
    }
   ],
   "source": [
    "s = pd.Series([1,7, 2])\n",
    "s"
   ]
  },
  {
   "cell_type": "code",
   "execution_count": 3,
   "id": "08dd14a2-7c50-437e-8683-70544d427c56",
   "metadata": {},
   "outputs": [
    {
     "data": {
      "text/plain": [
       "np.int64(1)"
      ]
     },
     "execution_count": 3,
     "metadata": {},
     "output_type": "execute_result"
    }
   ],
   "source": [
    "s[0]"
   ]
  },
  {
   "cell_type": "code",
   "execution_count": 4,
   "id": "9620d0f5-bd81-46d8-9ab6-e421cc306b79",
   "metadata": {},
   "outputs": [
    {
     "data": {
      "text/plain": [
       "Math       87\n",
       "History    73\n",
       "English    89\n",
       "dtype: int64"
      ]
     },
     "execution_count": 4,
     "metadata": {},
     "output_type": "execute_result"
    }
   ],
   "source": [
    "grade = pd.Series({\"Math\": 87, \"History\": 73, \"English\": 89})\n",
    "grade"
   ]
  },
  {
   "cell_type": "code",
   "execution_count": 5,
   "id": "bdd94056-9893-47f8-9682-bdb8b5e40234",
   "metadata": {},
   "outputs": [
    {
     "data": {
      "text/plain": [
       "[('Math', 87), ('History', 73), ('English', 89)]"
      ]
     },
     "execution_count": 5,
     "metadata": {},
     "output_type": "execute_result"
    }
   ],
   "source": [
    "list(grade.items())"
   ]
  },
  {
   "cell_type": "code",
   "execution_count": 6,
   "id": "0f83093d-6532-435a-8f2a-7a7b6f35f1c2",
   "metadata": {},
   "outputs": [
    {
     "data": {
      "text/plain": [
       "Index(['Math', 'History', 'English'], dtype='object')"
      ]
     },
     "execution_count": 6,
     "metadata": {},
     "output_type": "execute_result"
    }
   ],
   "source": [
    "grade.index"
   ]
  },
  {
   "cell_type": "code",
   "execution_count": 7,
   "id": "f0539b22-5174-42f5-9a57-d46ef9a972c0",
   "metadata": {},
   "outputs": [
    {
     "data": {
      "text/plain": [
       "{'Math': np.int64(87), 'History': np.int64(73), 'English': np.int64(89)}"
      ]
     },
     "execution_count": 7,
     "metadata": {},
     "output_type": "execute_result"
    }
   ],
   "source": [
    "dict(grade)"
   ]
  },
  {
   "cell_type": "markdown",
   "id": "ba17fd4b-9dbd-4cba-8fb0-9ef2c5f6c91d",
   "metadata": {},
   "source": [
    "## Subset of Series"
   ]
  },
  {
   "cell_type": "code",
   "execution_count": 12,
   "id": "e973ffad-eea2-42b7-9137-5312cc04cdb5",
   "metadata": {},
   "outputs": [
    {
     "data": {
      "text/plain": [
       "0    banana\n",
       "1     apple\n",
       "dtype: object"
      ]
     },
     "execution_count": 12,
     "metadata": {},
     "output_type": "execute_result"
    }
   ],
   "source": [
    "fruits = pd.Series([\"banana\", \"apple\"])\n",
    "fruits"
   ]
  },
  {
   "cell_type": "code",
   "execution_count": 13,
   "id": "0eb051c5-cf60-4fe0-8691-42f84f942d5a",
   "metadata": {},
   "outputs": [
    {
     "data": {
      "text/plain": [
       "'banana'"
      ]
     },
     "execution_count": 13,
     "metadata": {},
     "output_type": "execute_result"
    }
   ],
   "source": [
    "# Use iloc to locate by integer index\n",
    "fruits.iloc[0]"
   ]
  },
  {
   "cell_type": "code",
   "execution_count": 16,
   "id": "f810fb1c-dfea-48b0-b13b-aa506cbb822e",
   "metadata": {},
   "outputs": [
    {
     "data": {
      "text/plain": [
       "0    banana\n",
       "1     apple\n",
       "dtype: object"
      ]
     },
     "execution_count": 16,
     "metadata": {},
     "output_type": "execute_result"
    }
   ],
   "source": [
    "# Subset more than one item\n",
    "fruits.iloc[[0, 1]]"
   ]
  },
  {
   "cell_type": "code",
   "execution_count": 17,
   "id": "b82b7cb5-298f-47b0-99c9-9f30ce1bf829",
   "metadata": {},
   "outputs": [
    {
     "data": {
      "text/plain": [
       "0    banana\n",
       "1     apple\n",
       "dtype: object"
      ]
     },
     "execution_count": 17,
     "metadata": {},
     "output_type": "execute_result"
    }
   ],
   "source": [
    "# Subset using a range\n",
    "fruits.iloc[0:2]"
   ]
  },
  {
   "cell_type": "markdown",
   "id": "21ea4367-0475-4a48-9aa9-018cdc5754c3",
   "metadata": {},
   "source": [
    "## Subset with index values"
   ]
  },
  {
   "cell_type": "code",
   "execution_count": 18,
   "id": "afd01b32-e0af-4af1-b05f-35ecad80a865",
   "metadata": {},
   "outputs": [
    {
     "data": {
      "text/plain": [
       "Monday       132\n",
       "Tuesday       94\n",
       "Wednesday    112\n",
       "Thursday      84\n",
       "Friday       254\n",
       "Saturday     322\n",
       "Sunday       472\n",
       "dtype: int64"
      ]
     },
     "execution_count": 18,
     "metadata": {},
     "output_type": "execute_result"
    }
   ],
   "source": [
    "attendance = pd.Series(\n",
    "    [132, 94, 112, 84, 254, 322, 472],\n",
    "    index=[\n",
    "        \"Monday\",\n",
    "        \"Tuesday\",\n",
    "        \"Wednesday\",\n",
    "        \"Thursday\",\n",
    "        \"Friday\",\n",
    "        \"Saturday\",\n",
    "        \"Sunday\",\n",
    "    ],\n",
    ")\n",
    "attendance"
   ]
  },
  {
   "cell_type": "code",
   "execution_count": 24,
   "id": "7075c9e9-93d4-4d60-9ae2-57fbaec6c3f8",
   "metadata": {},
   "outputs": [
    {
     "name": "stdout",
     "output_type": "stream",
     "text": [
      "attendance['Monday']=np.int64(132)\n",
      "attendance.loc['Monday']=np.int64(132)\n"
     ]
    }
   ],
   "source": [
    "# Subset using loc\n",
    "print(f\"{attendance['Monday']=}\")\n",
    "print(f\"{attendance.loc['Monday']=}\")"
   ]
  },
  {
   "cell_type": "code",
   "execution_count": 25,
   "id": "07e58d4a-9639-4725-9038-3bd23954bbfe",
   "metadata": {},
   "outputs": [
    {
     "data": {
      "text/plain": [
       "Monday       132\n",
       "Tuesday       94\n",
       "Wednesday    112\n",
       "Thursday      84\n",
       "Friday       254\n",
       "dtype: int64"
      ]
     },
     "execution_count": 25,
     "metadata": {},
     "output_type": "execute_result"
    }
   ],
   "source": [
    "# Unlike iloc, loc range is inclusive\n",
    "attendance.loc[\"Monday\":\"Friday\"]"
   ]
  },
  {
   "cell_type": "markdown",
   "id": "e3730de0-5a7e-488d-ab3d-b6b44dbe0b5f",
   "metadata": {},
   "source": [
    "## Subset using logical test"
   ]
  },
  {
   "cell_type": "code",
   "execution_count": 28,
   "id": "309d93f4-cda9-48f4-afd6-65aa8864f39b",
   "metadata": {},
   "outputs": [
    {
     "data": {
      "text/plain": [
       "Monday        True\n",
       "Tuesday      False\n",
       "Wednesday     True\n",
       "Thursday     False\n",
       "Friday        True\n",
       "Saturday      True\n",
       "Sunday        True\n",
       "dtype: bool"
      ]
     },
     "execution_count": 28,
     "metadata": {},
     "output_type": "execute_result"
    }
   ],
   "source": [
    "# Create a condition\n",
    "was_busy = attendance > 100\n",
    "was_busy"
   ]
  },
  {
   "cell_type": "code",
   "execution_count": 29,
   "id": "4405cbd7-7f5a-426a-a92c-0456f612de72",
   "metadata": {},
   "outputs": [
    {
     "data": {
      "text/plain": [
       "Monday       132\n",
       "Wednesday    112\n",
       "Friday       254\n",
       "Saturday     322\n",
       "Sunday       472\n",
       "dtype: int64"
      ]
     },
     "execution_count": 29,
     "metadata": {},
     "output_type": "execute_result"
    }
   ],
   "source": [
    "# Use that condition\n",
    "attendance[was_busy]"
   ]
  },
  {
   "cell_type": "code",
   "execution_count": 30,
   "id": "c5a62ade-8481-4364-be3c-97b0a212dae6",
   "metadata": {},
   "outputs": [
    {
     "data": {
      "text/plain": [
       "Tuesday     94\n",
       "Thursday    84\n",
       "dtype: int64"
      ]
     },
     "execution_count": 30,
     "metadata": {},
     "output_type": "execute_result"
    }
   ],
   "source": [
    "# Or, we can use that condition in-line\n",
    "attendance[attendance < 100]"
   ]
  },
  {
   "cell_type": "code",
   "execution_count": 31,
   "id": "3fb9a6c0-b7df-470f-a65a-baf7dc215fea",
   "metadata": {},
   "outputs": [
    {
     "ename": "ValueError",
     "evalue": "The truth value of a Series is ambiguous. Use a.empty, a.bool(), a.item(), a.any() or a.all().",
     "output_type": "error",
     "traceback": [
      "\u001b[0;31m---------------------------------------------------------------------------\u001b[0m",
      "\u001b[0;31mValueError\u001b[0m                                Traceback (most recent call last)",
      "\u001b[0;32m/tmp/ipykernel_185331/123688742.py\u001b[0m in \u001b[0;36m?\u001b[0;34m()\u001b[0m\n\u001b[0;32m----> 1\u001b[0;31m \u001b[0mattendance\u001b[0m\u001b[0;34m[\u001b[0m\u001b[0;32mnot\u001b[0m \u001b[0mwas_busy\u001b[0m\u001b[0;34m]\u001b[0m\u001b[0;34m\u001b[0m\u001b[0;34m\u001b[0m\u001b[0m\n\u001b[0m",
      "\u001b[0;32m~/Projects/python_notebooks/.venv/lib/python3.13/site-packages/pandas/core/generic.py\u001b[0m in \u001b[0;36m?\u001b[0;34m(self)\u001b[0m\n\u001b[1;32m   1575\u001b[0m     \u001b[0;34m@\u001b[0m\u001b[0mfinal\u001b[0m\u001b[0;34m\u001b[0m\u001b[0;34m\u001b[0m\u001b[0m\n\u001b[1;32m   1576\u001b[0m     \u001b[0;32mdef\u001b[0m \u001b[0m__nonzero__\u001b[0m\u001b[0;34m(\u001b[0m\u001b[0mself\u001b[0m\u001b[0;34m)\u001b[0m \u001b[0;34m->\u001b[0m \u001b[0mNoReturn\u001b[0m\u001b[0;34m:\u001b[0m\u001b[0;34m\u001b[0m\u001b[0;34m\u001b[0m\u001b[0m\n\u001b[0;32m-> 1577\u001b[0;31m         raise ValueError(\n\u001b[0m\u001b[1;32m   1578\u001b[0m             \u001b[0;34mf\"\u001b[0m\u001b[0;34mThe truth value of a \u001b[0m\u001b[0;34m{\u001b[0m\u001b[0mtype\u001b[0m\u001b[0;34m(\u001b[0m\u001b[0mself\u001b[0m\u001b[0;34m)\u001b[0m\u001b[0;34m.\u001b[0m\u001b[0m__name__\u001b[0m\u001b[0;34m}\u001b[0m\u001b[0;34m is ambiguous. \u001b[0m\u001b[0;34m\"\u001b[0m\u001b[0;34m\u001b[0m\u001b[0;34m\u001b[0m\u001b[0m\n\u001b[1;32m   1579\u001b[0m             \u001b[0;34m\"Use a.empty, a.bool(), a.item(), a.any() or a.all().\"\u001b[0m\u001b[0;34m\u001b[0m\u001b[0;34m\u001b[0m\u001b[0m\n\u001b[1;32m   1580\u001b[0m         \u001b[0;34m)\u001b[0m\u001b[0;34m\u001b[0m\u001b[0;34m\u001b[0m\u001b[0m\n",
      "\u001b[0;31mValueError\u001b[0m: The truth value of a Series is ambiguous. Use a.empty, a.bool(), a.item(), a.any() or a.all()."
     ]
    }
   ],
   "source": []
  },
  {
   "cell_type": "code",
   "execution_count": null,
   "id": "fe89a406-c7ef-4ce1-8e76-b244b0908ca5",
   "metadata": {},
   "outputs": [],
   "source": []
  }
 ],
 "metadata": {
  "kernelspec": {
   "display_name": "Python 3 (ipykernel)",
   "language": "python",
   "name": "python3"
  },
  "language_info": {
   "codemirror_mode": {
    "name": "ipython",
    "version": 3
   },
   "file_extension": ".py",
   "mimetype": "text/x-python",
   "name": "python",
   "nbconvert_exporter": "python",
   "pygments_lexer": "ipython3",
   "version": "3.13.2"
  }
 },
 "nbformat": 4,
 "nbformat_minor": 5
}
