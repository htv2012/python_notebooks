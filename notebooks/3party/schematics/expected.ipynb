{
 "cells": [
  {
   "cell_type": "markdown",
   "metadata": {},
   "source": [
    "# Validate a Model Against an Expected Value"
   ]
  },
  {
   "cell_type": "code",
   "execution_count": 1,
   "metadata": {},
   "outputs": [],
   "source": [
    "import types\n",
    "import schematics\n",
    "\n",
    "\n",
    "class BaseModel(schematics.Model):\n",
    "    def _repr_info(self):\n",
    "        try:\n",
    "            return self.name\n",
    "        except AttributeError:\n",
    "            return None\n",
    "    \n",
    "    @property\n",
    "    def expected(self):\n",
    "        try:\n",
    "            self._expected\n",
    "        except AttributeError:\n",
    "            self._expected = {}\n",
    "        return self._expected\n",
    "    \n",
    "    @expected.setter\n",
    "    def expected(self, value):\n",
    "        self._expected = value\n",
    "            \n",
    "    def expect(self, expected=None, **kwargs):\n",
    "        if expected is not None:\n",
    "            self.expected = expected\n",
    "        self.expected.update(kwargs)\n",
    "        return self\n",
    "    \n",
    "    def check_field(self, field_name, value):\n",
    "        try:\n",
    "            expected = self.expected[field_name]\n",
    "        except KeyError:\n",
    "            return\n",
    "        if value != expected:\n",
    "            raise schematics.exceptions.ValidationError(f\"Expected={expected}, actual={value}\")\n",
    "            \n",
    "    def validate(self, expected=None, **kwargs):\n",
    "        if expected is not None:\n",
    "            self.expected = expected\n",
    "        super().validate(**kwargs)\n",
    "\n",
    "\n",
    "class Environment(BaseModel):\n",
    "    name = schematics.types.StringType(required=True)\n",
    "    description = schematics.types.StringType()\n",
    "\n",
    "    def validate_name(self, _, value):\n",
    "        self.check_field(\"name\", value)\n",
    "            \n",
    "    def validate_description(self, _, value):\n",
    "        self.check_field(\"description\", value)"
   ]
  },
  {
   "cell_type": "code",
   "execution_count": 2,
   "metadata": {},
   "outputs": [
    {
     "name": "stdout",
     "output_type": "stream",
     "text": [
      "Error: {\"name\": [\"Expected=foo, actual=stagging\"], \"description\": [\"Expected=bar, actual=Stagging environment\"]}\n"
     ]
    }
   ],
   "source": [
    "e = Environment({\"name\": \"stagging\", \"description\": \"Stagging environment\"})\n",
    "try:\n",
    "    e.expect(name=\"foo\", description=\"bar\")\n",
    "    e.validate()\n",
    "except schematics.exceptions.DataError as error:\n",
    "    print(f\"Error: {error}\")\n",
    "else:\n",
    "    print(\"OK\")"
   ]
  },
  {
   "cell_type": "code",
   "execution_count": 3,
   "metadata": {},
   "outputs": [
    {
     "name": "stdout",
     "output_type": "stream",
     "text": [
      "Error: {\"name\": [\"Expected=foo, actual=stagging\"], \"description\": [\"Expected=bar, actual=Stagging environment\"]}\n"
     ]
    }
   ],
   "source": [
    "# We can combine expect and validate together into 1 line if they are short enough\n",
    "e = Environment({\"name\": \"stagging\", \"description\": \"Stagging environment\"})\n",
    "try:\n",
    "    e.expect(name=\"foo\", description=\"bar\").validate()\n",
    "except schematics.exceptions.DataError as error:\n",
    "    print(f\"Error: {error}\")\n",
    "else:\n",
    "    print(\"OK\")"
   ]
  },
  {
   "cell_type": "code",
   "execution_count": 4,
   "metadata": {},
   "outputs": [
    {
     "name": "stdout",
     "output_type": "stream",
     "text": [
      "Error: {\"name\": [\"Expected=test, actual=stagging\"], \"description\": [\"Expected=A test environment, actual=Stagging environment\"]}\n"
     ]
    }
   ],
   "source": [
    "# We can pass in a partial dictionary to validate\n",
    "# We can combine expect and validate together into 1 line if they are short enough\n",
    "e = Environment({\"name\": \"stagging\", \"description\": \"Stagging environment\"})\n",
    "try:\n",
    "    e.expect({\"name\": \"test\", \"description\": \"A test environment\"}).validate()\n",
    "except schematics.exceptions.DataError as error:\n",
    "    print(f\"Error: {error}\")\n",
    "else:\n",
    "    print(\"OK\")"
   ]
  },
  {
   "cell_type": "code",
   "execution_count": 5,
   "metadata": {},
   "outputs": [
    {
     "name": "stdout",
     "output_type": "stream",
     "text": [
      "Error: {\"name\": [\"Expected=test, actual=stagging\"], \"description\": [\"Expected=A test environment, actual=Stagging environment\"]}\n"
     ]
    }
   ],
   "source": [
    "# Use validate with expected values\n",
    "e = Environment({\"name\": \"stagging\", \"description\": \"Stagging environment\"})\n",
    "try:\n",
    "    e.validate(expected={\"name\": \"test\", \"description\": \"A test environment\"})\n",
    "except schematics.exceptions.DataError as error:\n",
    "    print(f\"Error: {error}\")\n",
    "else:\n",
    "    print(\"OK\")"
   ]
  }
 ],
 "metadata": {
  "kernelspec": {
   "display_name": "Python 3",
   "language": "python",
   "name": "python3"
  },
  "language_info": {
   "codemirror_mode": {
    "name": "ipython",
    "version": 3
   },
   "file_extension": ".py",
   "mimetype": "text/x-python",
   "name": "python",
   "nbconvert_exporter": "python",
   "pygments_lexer": "ipython3",
   "version": "3.7.3"
  }
 },
 "nbformat": 4,
 "nbformat_minor": 4
}
