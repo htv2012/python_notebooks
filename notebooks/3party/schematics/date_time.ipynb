{
 "cells": [
  {
   "cell_type": "markdown",
   "metadata": {},
   "source": [
    "# Schematics DateTimeType"
   ]
  },
  {
   "cell_type": "code",
   "execution_count": 35,
   "metadata": {},
   "outputs": [],
   "source": [
    "import schematics\n",
    "\n",
    "def verify_it(model_instance):\n",
    "    try:\n",
    "        model_instance.validate()\n",
    "    except schematics.exceptions.DataError as error:\n",
    "        print(f\"Error: {error}\")\n",
    "\n",
    "\n",
    "class EnvironmentResponseMetadata(schematics.models.Model):\n",
    "    \"\"\"\n",
    "    Model a metadata for an environment response.\n",
    "\n",
    "    Sample:\n",
    "    {\n",
    "        \"createTime\": \"2022-05-30T18:45:02Z\",\n",
    "        \"description\": \"A sandboxed environment\",\n",
    "        \"displayName\": \"Boxed Env\",\n",
    "        \"kind\": \"environments\",\n",
    "        \"links\": {\n",
    "            \"rel\": \"/api/v1/services/environments/env5\"\n",
    "        },\n",
    "        \"name\": \"env5\",\n",
    "        \"uid\": \"89c89c6f-fdc1-4ed5-b773-5ece6a3fa291\",\n",
    "        \"updateTime\": \"2022-05-30T18:45:02Z\"\n",
    "    }\n",
    "    \"\"\"\n",
    "    create_time = schematics.types.DateTimeType(serialized_name=\"createTime\")\n",
    "    description = schematics.types.StringType(serialize_when_none=False)\n",
    "    display_name = schematics.types.StringType(serialized_name=\"displayName\", serialize_when_none=False)\n",
    "    kind = schematics.types.StringType()\n",
    "    links = schematics.types.DictType(schematics.types.StringType)\n",
    "    name = schematics.types.StringType(required=True)\n",
    "    uid = schematics.types.UUIDType()\n",
    "    update_time = schematics.types.DateTimeType(serialized_name=\"updateTime\")\n",
    "    \n",
    "    def validate_kind(self, _, value):\n",
    "        \"\"\"Validate the `kind` field.\"\"\"\n",
    "        if value != \"environments\":\n",
    "            raise schematics.exceptions.ValidationError(f\"Expected 'environments', got {value!r}\")\n",
    "            \n",
    "    def validate_links(self, raw_json, value):\n",
    "        \"\"\"Validate the `links` field.\"\"\"\n",
    "        expected = {\"rel\": f\"/api/adc/v1/environments/{raw_json['name']}\"}\n",
    "        if value != expected:\n",
    "            raise schematics.exceptions.ValidationError(f\"Expected: {expected}, actual: {value}\")\n",
    "            \n",
    "    def validate_description(self, raw_json, value):\n",
    "        print(f\"validate_description. raw_json={raw_json}, value={value}\")\n",
    "            \n",
    "    # TODO: What about if we want to validate, say displayName against a known value?\n",
    "\n",
    "    def _repr_info(self):\n",
    "        return self.name"
   ]
  },
  {
   "cell_type": "code",
   "execution_count": 36,
   "metadata": {},
   "outputs": [],
   "source": [
    "m = EnvironmentResponseMetadata({\n",
    "    \"createTime\": \"2022-05-30T18:45:02Z\",\n",
    "    \"description\": \"A sandboxed environment\",\n",
    "    \"displayName\": \"Boxed Env\",\n",
    "    \"kind\": \"environments\",\n",
    "    \"links\": {\n",
    "        \"rel\": \"/api/v1/services/environments/env5\"\n",
    "    },\n",
    "    \"name\": \"env5\",\n",
    "    \"uid\": \"89c89c6f-fdc1-4ed5-b773-5ece6a3fa291\",\n",
    "    \"updateTime\": \"2022-05-30T18:45:02Z\"\n",
    "})"
   ]
  },
  {
   "cell_type": "code",
   "execution_count": 37,
   "metadata": {},
   "outputs": [
    {
     "data": {
      "text/plain": [
       "<EnvironmentResponseMetadata: env5>"
      ]
     },
     "execution_count": 37,
     "metadata": {},
     "output_type": "execute_result"
    }
   ],
   "source": [
    "# Test REPR\n",
    "m"
   ]
  },
  {
   "cell_type": "code",
   "execution_count": 38,
   "metadata": {},
   "outputs": [
    {
     "data": {
      "text/plain": [
       "datetime.datetime(2022, 5, 30, 18, 45, 2, tzinfo=utc_timezone())"
      ]
     },
     "execution_count": 38,
     "metadata": {},
     "output_type": "execute_result"
    }
   ],
   "source": [
    "# Time parsed OK?\n",
    "m.create_time"
   ]
  },
  {
   "cell_type": "code",
   "execution_count": 39,
   "metadata": {},
   "outputs": [
    {
     "data": {
      "text/plain": [
       "datetime.datetime(2022, 5, 30, 18, 45, 2, tzinfo=utc_timezone())"
      ]
     },
     "execution_count": 39,
     "metadata": {},
     "output_type": "execute_result"
    }
   ],
   "source": [
    "m.update_time"
   ]
  },
  {
   "cell_type": "code",
   "execution_count": 40,
   "metadata": {},
   "outputs": [
    {
     "name": "stdout",
     "output_type": "stream",
     "text": [
      "validate_description. raw_json={'create_time': datetime.datetime(2022, 5, 30, 18, 45, 2, tzinfo=utc_timezone()), 'description': 'A sandboxed environment', 'display_name': 'Boxed Env', 'kind': 'environments', 'links': {'rel': '/api/v1/services/environments/env5'}, 'name': 'env5', 'uid': UUID('89c89c6f-fdc1-4ed5-b773-5ece6a3fa291'), 'update_time': datetime.datetime(2022, 5, 30, 18, 45, 2, tzinfo=utc_timezone())}, value=A sandboxed environment\n",
      "Error: {\"links\": [\"Expected: {'rel': '/api/adc/v1/environments/env5'}, actual: {'rel': '/api/v1/services/environments/env5'}\"]}\n"
     ]
    }
   ],
   "source": [
    "try:\n",
    "    m.validate()\n",
    "except schematics.exceptions.DataError as error:\n",
    "    print(f\"Error: {error}\")"
   ]
  },
  {
   "cell_type": "markdown",
   "metadata": {},
   "source": [
    "## Validate against a known data\n"
   ]
  },
  {
   "cell_type": "code",
   "execution_count": 45,
   "metadata": {},
   "outputs": [
    {
     "name": "stdout",
     "output_type": "stream",
     "text": [
      "validate_description. raw_json={'create_time': datetime.datetime(2022, 5, 30, 18, 45, 2, tzinfo=utc_timezone()), 'description': 'A sandboxed environment', 'display_name': 'Boxed Env', 'kind': 'environments', 'links': {'rel': '/api/v1/services/environments/env5'}, 'name': 'env5', 'uid': UUID('89c89c6f-fdc1-4ed5-b773-5ece6a3fa291'), 'update_time': datetime.datetime(2022, 5, 30, 18, 45, 2, tzinfo=utc_timezone())}, value=A sandboxed environment\n",
      "Error: {\"links\": [\"Expected: {'rel': '/api/adc/v1/environments/env5'}, actual: {'rel': '/api/v1/services/environments/env5'}\"]}\n"
     ]
    }
   ],
   "source": [
    "known = {\n",
    "    \"description\": \"A sandbox\",\n",
    "    \"displayName\": \"Box\",    \n",
    "}\n",
    "\n",
    "m = EnvironmentResponseMetadata({\n",
    "    \"createTime\": \"2022-05-30T18:45:02Z\",\n",
    "    \"description\": \"A sandboxed environment\",\n",
    "    \"displayName\": \"Boxed Env\",\n",
    "    \"kind\": \"environments\",\n",
    "    \"links\": {\n",
    "        \"rel\": \"/api/v1/services/environments/env5\"\n",
    "    },\n",
    "    \"name\": \"env5\",\n",
    "    \"uid\": \"89c89c6f-fdc1-4ed5-b773-5ece6a3fa291\",\n",
    "    \"updateTime\": \"2022-05-30T18:45:02Z\"\n",
    "})\n",
    "\n",
    "try:\n",
    "    m.validate()\n",
    "except schematics.exceptions.DataError as error:\n",
    "    print(f\"Error: {error}\")"
   ]
  },
  {
   "cell_type": "code",
   "execution_count": 23,
   "metadata": {},
   "outputs": [
    {
     "data": {
      "text/plain": [
       "{'create_time': datetime.datetime(2022, 5, 30, 18, 45, 2, tzinfo=utc_timezone()),\n",
       " 'description': 'A sandboxed environment',\n",
       " 'display_name': 'Boxed Env',\n",
       " 'kind': 'environments',\n",
       " 'links': {'rel': '/api/v1/services/environments/env5'},\n",
       " 'name': 'env5',\n",
       " 'uid': UUID('89c89c6f-fdc1-4ed5-b773-5ece6a3fa291'),\n",
       " 'update_time': datetime.datetime(2022, 5, 30, 18, 45, 2, tzinfo=utc_timezone())}"
      ]
     },
     "execution_count": 23,
     "metadata": {},
     "output_type": "execute_result"
    }
   ],
   "source": [
    "m._convert({\n",
    "    \"createTime\": \"2022-05-30T18:45:02Z\",\n",
    "    \"description\": \"A sandboxed environment\",\n",
    "    \"displayName\": \"Boxed Env\",\n",
    "    \"kind\": \"environments\",\n",
    "    \"links\": {\n",
    "        \"rel\": \"/api/v1/services/environments/env5\"\n",
    "    },\n",
    "    \"name\": \"env5\",\n",
    "    \"uid\": \"89c89c6f-fdc1-4ed5-b773-5ece6a3fa291\",\n",
    "    \"updateTime\": \"2022-05-30T18:45:02Z\"\n",
    "}, app_data=known)"
   ]
  },
  {
   "cell_type": "code",
   "execution_count": 22,
   "metadata": {},
   "outputs": [
    {
     "data": {
      "text/plain": [
       "({'create_time': datetime.datetime(2022, 5, 30, 18, 45, 2, tzinfo=utc_timezone()), 'description': 'A sandboxed environment', 'display_name': 'Boxed Env', 'kind': 'environments', 'name': 'env5', 'uid': UUID('89c89c6f-fdc1-4ed5-b773-5ece6a3fa291'), 'update_time': datetime.datetime(2022, 5, 30, 18, 45, 2, tzinfo=utc_timezone())},\n",
       " schematics.models.ModelDict)"
      ]
     },
     "execution_count": 22,
     "metadata": {},
     "output_type": "execute_result"
    }
   ],
   "source": [
    "m._data, type(m._data)"
   ]
  },
  {
   "cell_type": "code",
   "execution_count": 21,
   "metadata": {},
   "outputs": [
    {
     "data": {
      "text/plain": [
       "{}"
      ]
     },
     "execution_count": 21,
     "metadata": {},
     "output_type": "execute_result"
    }
   ],
   "source": [
    "m._data.converted"
   ]
  },
  {
   "cell_type": "code",
   "execution_count": null,
   "metadata": {},
   "outputs": [],
   "source": []
  },
  {
   "cell_type": "markdown",
   "metadata": {},
   "source": [
    "## Examples of Validation Violations"
   ]
  },
  {
   "cell_type": "code",
   "execution_count": 7,
   "metadata": {},
   "outputs": [
    {
     "name": "stdout",
     "output_type": "stream",
     "text": [
      "Error: {\"links\": [\"Expected: {'rel': '/api/adc/v1/environments/env5'}, actual: {'rel': '/api/v1/services/environments/env5'}\"]}\n"
     ]
    }
   ],
   "source": [
    "# OK\n",
    "verify_it(EnvironmentResponseMetadata({\n",
    "    \"createTime\": \"2022-05-30T18:45:02Z\",\n",
    "    \"description\": \"A sandboxed environment\",\n",
    "    \"displayName\": \"Boxed Env\",\n",
    "    \"kind\": \"environments\",\n",
    "    \"links\": {\n",
    "        \"rel\": \"/api/v1/services/environments/env5\"\n",
    "    },\n",
    "    \"name\": \"env5\",\n",
    "    \"uid\": \"89c89c6f-fdc1-4ed5-b773-5ece6a3fa291\",\n",
    "    \"updateTime\": \"2022-05-30T18:45:02Z\"\n",
    "}))"
   ]
  },
  {
   "cell_type": "code",
   "execution_count": 8,
   "metadata": {},
   "outputs": [
    {
     "name": "stdout",
     "output_type": "stream",
     "text": [
      "Error: {\"kind\": [\"Expected 'environments', got 'users'\"], \"links\": [\"Expected: {'rel': '/api/adc/v1/environments/env5'}, actual: {'rel': '/api/v1/services/environments/env5'}\"]}\n"
     ]
    }
   ],
   "source": [
    "# Wrong kind\n",
    "verify_it(EnvironmentResponseMetadata({\n",
    "    \"createTime\": \"2022-05-30T18:45:02Z\",\n",
    "    \"description\": \"A sandboxed environment\",\n",
    "    \"displayName\": \"Boxed Env\",\n",
    "    \"kind\": \"users\",\n",
    "    \"links\": {\n",
    "        \"rel\": \"/api/v1/services/environments/env5\"\n",
    "    },\n",
    "    \"name\": \"env5\",\n",
    "    \"uid\": \"89c89c6f-fdc1-4ed5-b773-5ece6a3fa291\",\n",
    "    \"updateTime\": \"2022-05-30T18:45:02Z\"\n",
    "}))"
   ]
  },
  {
   "cell_type": "code",
   "execution_count": 9,
   "metadata": {},
   "outputs": [
    {
     "name": "stdout",
     "output_type": "stream",
     "text": [
      "Error: {\"links\": [\"Expected: {'rel': '/api/adc/v1/environments/env5'}, actual: {'rel': '/api/v1/services/environments/env5'}\"]}\n"
     ]
    }
   ],
   "source": [
    "# Incorrect links/rel\n",
    "verify_it(EnvironmentResponseMetadata({\n",
    "    \"createTime\": \"2022-05-30T18:45:02Z\",\n",
    "    \"description\": \"A sandboxed environment\",\n",
    "    \"displayName\": \"Boxed Env\",\n",
    "    \"kind\": \"environments\",\n",
    "    \"links\": {\n",
    "        \"rel\": \"/api/v1/services/environments/env5\"\n",
    "    },\n",
    "    \"name\": \"env5\",\n",
    "    \"uid\": \"89c89c6f-fdc1-4ed5-b773-5ece6a3fa291\",\n",
    "    \"updateTime\": \"2022-05-30T18:45:02Z\"\n",
    "}))"
   ]
  },
  {
   "cell_type": "code",
   "execution_count": 14,
   "metadata": {},
   "outputs": [
    {
     "name": "stdout",
     "output_type": "stream",
     "text": [
      "Error: {\"kind\": [\"Expected 'environments', got 'users'\"], \"links\": [\"Expected: {'rel': '/api/adc/v1/environments/env5'}, actual: {'rel': '/api/v1/services/environments/env5'}\"]}\n"
     ]
    }
   ],
   "source": [
    "# Several faults\n",
    "verify_it(EnvironmentResponseMetadata({\n",
    "    \"createTime\": \"2022-05-30T18:45:02Z\",\n",
    "    \"description\": \"A sandboxed environment\",\n",
    "    \"displayName\": \"Boxed Env\",\n",
    "    \"kind\": \"users\",\n",
    "    \"links\": {\n",
    "        \"rel\": \"/api/v1/services/environments/env5\"\n",
    "    },\n",
    "    \"name\": \"env5\",\n",
    "    \"uid\": \"89c89c6f-fdc1-4ed5-b773-5ece6a3fa291\",\n",
    "    \"updateTime\": \"2022-05-30T18:45:02Z\"\n",
    "}, strict=False))"
   ]
  },
  {
   "cell_type": "markdown",
   "metadata": {},
   "source": [
    "## Round Trip"
   ]
  },
  {
   "cell_type": "code",
   "execution_count": 12,
   "metadata": {},
   "outputs": [],
   "source": [
    "raw = {\n",
    "    \"createTime\": \"2022-05-30T18:45:02Z\",\n",
    "    \"description\": \"A sandboxed environment\",\n",
    "    \"displayName\": \"Boxed Env\",\n",
    "    \"kind\": \"environments\",\n",
    "    \"links\": {\n",
    "        \"rel\": \"/api/v1/services/environments/env5\"\n",
    "    },\n",
    "    \"name\": \"env5\",\n",
    "    \"uid\": \"89c89c6f-fdc1-4ed5-b773-5ece6a3fa291\",\n",
    "    \"updateTime\": \"2022-05-30T18:45:02Z\"\n",
    "}\n",
    "m = EnvironmentResponseMetadata(raw)"
   ]
  },
  {
   "cell_type": "code",
   "execution_count": 11,
   "metadata": {},
   "outputs": [
    {
     "data": {
      "text/plain": [
       "{'createTime': '2022-05-30T18:45:02.000000+0000',\n",
       " 'description': 'A sandboxed environment',\n",
       " 'displayName': 'Boxed Env',\n",
       " 'kind': 'environments',\n",
       " 'links': {'rel': '/api/v1/services/environments/env5'},\n",
       " 'name': 'env5',\n",
       " 'uid': '89c89c6f-fdc1-4ed5-b773-5ece6a3fa291',\n",
       " 'updateTime': '2022-05-30T18:45:02.000000+0000'}"
      ]
     },
     "execution_count": 11,
     "metadata": {},
     "output_type": "execute_result"
    }
   ],
   "source": [
    "# Notice the format differences in the date/time fields\n",
    "m.to_primitive()"
   ]
  },
  {
   "cell_type": "code",
   "execution_count": null,
   "metadata": {},
   "outputs": [],
   "source": []
  }
 ],
 "metadata": {
  "kernelspec": {
   "display_name": "Python 3",
   "language": "python",
   "name": "python3"
  },
  "language_info": {
   "codemirror_mode": {
    "name": "ipython",
    "version": 3
   },
   "file_extension": ".py",
   "mimetype": "text/x-python",
   "name": "python",
   "nbconvert_exporter": "python",
   "pygments_lexer": "ipython3",
   "version": "3.7.3"
  }
 },
 "nbformat": 4,
 "nbformat_minor": 4
}
