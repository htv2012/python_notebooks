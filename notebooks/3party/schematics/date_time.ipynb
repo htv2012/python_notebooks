{
 "cells": [
  {
   "cell_type": "markdown",
   "metadata": {},
   "source": [
    "# Schematics DateTimeType"
   ]
  },
  {
   "cell_type": "code",
   "execution_count": 104,
   "metadata": {},
   "outputs": [],
   "source": [
    "import schematics\n",
    "\n",
    "class EnvironmentResponseMetadata(schematics.models.Model):\n",
    "    \"\"\"\n",
    "    Model a metadata for environment response.\n",
    "\n",
    "    Sample:\n",
    "        {\n",
    "            \"createTime\": \"2022-05-30T18:45:02Z\",\n",
    "            \"description\": \"A sandboxed environment\",\n",
    "            \"displayName\": \"Boxed Env\",\n",
    "            \"kind\": \"environments\",\n",
    "            \"links\": {\n",
    "                \"rel\": \"/api/v1/services/environments/env5\"\n",
    "            },\n",
    "            \"name\": \"env5\",\n",
    "            \"uid\": \"89c89c6f-fdc1-4ed5-b773-5ece6a3fa291\",\n",
    "            \"updateTime\": \"2022-05-30T18:45:02Z\"\n",
    "        }\n",
    "    \"\"\"\n",
    "    # TODO: Learn more about DateTimeType and apply\n",
    "    create_time = schematics.types.DateTimeType(serialized_name=\"createTime\")\n",
    "    description = schematics.types.StringType(serialize_when_none=False)\n",
    "    display_name = schematics.types.StringType(serialized_name=\"displayName\", serialize_when_none=False)\n",
    "    kind = schematics.types.StringType()\n",
    "    links = schematics.types.DictType(schematics.types.StringType)\n",
    "    name = schematics.types.StringType(required=True)\n",
    "    uid = schematics.types.UUIDType()\n",
    "    update_time = schematics.types.DateTimeType(serialized_name=\"updateTime\")\n",
    "    \n",
    "    def validate_kind(self, _, value):\n",
    "        if value != \"environments\":\n",
    "            raise schematics.exceptions.ValidationError(f\"Expected 'environments', got {value!r}\")\n",
    "            \n",
    "    def validate_links(self, raw_json, value):\n",
    "        expected = {\"rel\": f\"/api/v1/services/environments/{raw_json['name']}\"}\n",
    "        if value != expected:\n",
    "            raise schematics.exceptions.ValidationError(f\"Expected: {expected}, actual: {value}\")\n",
    "\n",
    "    def _repr_info(self):\n",
    "        return self.name"
   ]
  },
  {
   "cell_type": "code",
   "execution_count": 105,
   "metadata": {},
   "outputs": [],
   "source": [
    "m = EnvironmentResponseMetadata({\n",
    "    \"createTime\": \"2022-05-30T18:45:02Z\",\n",
    "    \"description\": \"A sandboxed environment\",\n",
    "    \"displayName\": \"Boxed Env\",\n",
    "    \"kind\": \"environments\",\n",
    "    \"links\": {\n",
    "        \"rel\": \"/api/v1/services/environments/env5\"\n",
    "    },\n",
    "    \"name\": \"env5\",\n",
    "    \"uid\": \"89c89c6f-fdc1-4ed5-b773-5ece6a3fa291\",\n",
    "    \"updateTime\": \"2022-05-30T18:45:02Z\"\n",
    "})"
   ]
  },
  {
   "cell_type": "code",
   "execution_count": 106,
   "metadata": {},
   "outputs": [
    {
     "data": {
      "text/plain": [
       "<EnvironmentResponseMetadata: env5>"
      ]
     },
     "execution_count": 106,
     "metadata": {},
     "output_type": "execute_result"
    }
   ],
   "source": [
    "# Test REPR\n",
    "m"
   ]
  },
  {
   "cell_type": "code",
   "execution_count": 107,
   "metadata": {},
   "outputs": [
    {
     "data": {
      "text/plain": [
       "datetime.datetime(2022, 5, 30, 18, 45, 2, tzinfo=utc_timezone())"
      ]
     },
     "execution_count": 107,
     "metadata": {},
     "output_type": "execute_result"
    }
   ],
   "source": [
    "# Time parsed OK?\n",
    "m.create_time"
   ]
  },
  {
   "cell_type": "code",
   "execution_count": 108,
   "metadata": {},
   "outputs": [
    {
     "data": {
      "text/plain": [
       "datetime.datetime(2022, 5, 30, 18, 45, 2, tzinfo=utc_timezone())"
      ]
     },
     "execution_count": 108,
     "metadata": {},
     "output_type": "execute_result"
    }
   ],
   "source": [
    "m.update_time"
   ]
  },
  {
   "cell_type": "code",
   "execution_count": 109,
   "metadata": {},
   "outputs": [],
   "source": [
    "try:\n",
    "    m.validate()\n",
    "except schematics.exceptions.DataError as error:\n",
    "    print(f\"Error: {error}\")"
   ]
  },
  {
   "cell_type": "code",
   "execution_count": null,
   "metadata": {},
   "outputs": [],
   "source": []
  }
 ],
 "metadata": {
  "kernelspec": {
   "display_name": "Python 3",
   "language": "python",
   "name": "python3"
  },
  "language_info": {
   "codemirror_mode": {
    "name": "ipython",
    "version": 3
   },
   "file_extension": ".py",
   "mimetype": "text/x-python",
   "name": "python",
   "nbconvert_exporter": "python",
   "pygments_lexer": "ipython3",
   "version": "3.7.3"
  }
 },
 "nbformat": 4,
 "nbformat_minor": 4
}
