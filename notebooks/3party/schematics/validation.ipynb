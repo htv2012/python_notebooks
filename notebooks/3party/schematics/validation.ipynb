{
 "cells": [
  {
   "cell_type": "markdown",
   "metadata": {},
   "source": [
    "# How do I validate a single field?\n",
    "\n",
    "## First Way: Write `validate_<Field Name>`\n",
    "\n",
    "If the field name is X, then we can write a method called `validate_X` with the following signature:\n",
    "\n",
    "    def validate_X(self, json_obj, value_of_x)\n",
    "\n",
    "In the above signature, `json_obj` is the object passed into the constructor to create the object. In case we need some other information from that structure. `value_of_x` is the value of the field being validated. Here is an example:"
   ]
  },
  {
   "cell_type": "code",
   "execution_count": 1,
   "metadata": {},
   "outputs": [],
   "source": [
    "import string\n",
    "\n",
    "import schematics\n",
    "\n",
    "\n",
    "VALID_CHARS = set(string.ascii_letters + string.digits + \"_\")\n",
    "\n",
    "\n",
    "class UserMetadata(schematics.Model):\n",
    "    name = schematics.types.StringType(required=True)\n",
    "    display_name = schematics.types.StringType(serialized_name=\"displayName\")\n",
    "    description = schematics.types.StringType()\n",
    "    \n",
    "    def validate_name(self, json_obj, name):\n",
    "        invalid_chars = \"\".join(set(name) - VALID_CHARS)\n",
    "        if invalid_chars:\n",
    "            raise schematics.exceptions.ValidationError(\n",
    "                f\"Expect only letters, digits and underscore\"\n",
    "                f\", but found {invalid_chars!r}\"\n",
    "                f\" in {name}\"\n",
    "            )\n",
    "\n",
    "\n",
    "def verify_it(cls, json_obj):\n",
    "    user_metadata = cls(json_obj)\n",
    "    try:\n",
    "        user_metadata.validate()\n",
    "    except schematics.exceptions.DataError as error:\n",
    "        print(f\"Error: {error}\")\n",
    "    else:\n",
    "        print(\"Valid\")"
   ]
  },
  {
   "cell_type": "markdown",
   "metadata": {},
   "source": [
    "### Try it out"
   ]
  },
  {
   "cell_type": "code",
   "execution_count": 2,
   "metadata": {},
   "outputs": [
    {
     "name": "stdout",
     "output_type": "stream",
     "text": [
      "Valid\n"
     ]
    }
   ],
   "source": [
    "# This should be valid\n",
    "verify_it(UserMetadata, dict(name=\"user_1\"))"
   ]
  },
  {
   "cell_type": "code",
   "execution_count": 3,
   "metadata": {},
   "outputs": [
    {
     "name": "stdout",
     "output_type": "stream",
     "text": [
      "Error: {\"name\": [\"Expect only letters, digits and underscore, but found '-#' in user-1#\"]}\n"
     ]
    }
   ],
   "source": [
    "# Invalid chars found\n",
    "verify_it(UserMetadata, dict(name=\"user-1#\"))"
   ]
  },
  {
   "cell_type": "markdown",
   "metadata": {},
   "source": [
    "### What Is the Use of `json_obj`?\n",
    "\n",
    "Sometimes, we want to validate a field against another field, this is where the `json_obj` comes in. In the following example, we create a `User` object and if the user is root, then that user must be an admin."
   ]
  },
  {
   "cell_type": "code",
   "execution_count": 4,
   "metadata": {},
   "outputs": [],
   "source": [
    "import schematics\n",
    "\n",
    "class UnixUser(schematics.Model):\n",
    "    alias = schematics.types.StringType(required=True)\n",
    "    is_admin = schematics.types.BooleanType(default=False)\n",
    "    \n",
    "    def validate_is_admin(self, json_obj, is_admin_value):\n",
    "        if json_obj[\"alias\"] == \"root\" and is_admin_value is not True:\n",
    "            raise schematics.exceptions.ValidationError(\n",
    "                \"root must be an admin.\"\n",
    "            )"
   ]
  },
  {
   "cell_type": "code",
   "execution_count": 5,
   "metadata": {},
   "outputs": [
    {
     "name": "stdout",
     "output_type": "stream",
     "text": [
      "Valid\n"
     ]
    }
   ],
   "source": [
    "# Non-root\n",
    "verify_it(UnixUser, dict(alias=\"johan\", is_admin=True))"
   ]
  },
  {
   "cell_type": "code",
   "execution_count": 6,
   "metadata": {},
   "outputs": [
    {
     "name": "stdout",
     "output_type": "stream",
     "text": [
      "Valid\n"
     ]
    }
   ],
   "source": [
    "# Root, is admin\n",
    "verify_it(UnixUser, dict(alias=\"root\", is_admin=True))"
   ]
  },
  {
   "cell_type": "code",
   "execution_count": 7,
   "metadata": {},
   "outputs": [
    {
     "name": "stdout",
     "output_type": "stream",
     "text": [
      "Error: {\"is_admin\": [\"root must be an admin.\"]}\n"
     ]
    }
   ],
   "source": [
    "# Invalid\n",
    "verify_it(UnixUser, dict(alias=\"root\"))"
   ]
  },
  {
   "cell_type": "markdown",
   "metadata": {},
   "source": [
    "# Second Way: Write a Validation Function\n",
    "\n",
    "If we found having to perform the same validation for different fields, we can write a validation function and use that:"
   ]
  },
  {
   "cell_type": "code",
   "execution_count": 8,
   "metadata": {},
   "outputs": [],
   "source": [
    "import re\n",
    "\n",
    "import schematics\n",
    "\n",
    "\n",
    "def validate_simple_us_phone(value):\n",
    "    \"\"\"\n",
    "    Validate a phone number.\n",
    "    \n",
    "    For the sake of simplicity, we only validate NNN-NNN-NNNN.\n",
    "    \"\"\"\n",
    "    valid_pattern = re.compile(r\"\\d{3}-\\d{3}-\\d{4}\")\n",
    "    if not valid_pattern.match(value):\n",
    "        raise schematics.exceptions.ValidationError(f\"Invalid phone: {value}\")\n",
    "\n",
    "\n",
    "class Contact(schematics.Model):\n",
    "    name = schematics.types.StringType(required=True)\n",
    "    mobile_phone = schematics.types.StringType(validators=[validate_simple_us_phone])\n",
    "    work_phone = schematics.types.StringType(validators=[validate_simple_us_phone])"
   ]
  },
  {
   "cell_type": "code",
   "execution_count": 9,
   "metadata": {},
   "outputs": [
    {
     "name": "stdout",
     "output_type": "stream",
     "text": [
      "Valid\n"
     ]
    }
   ],
   "source": [
    "# Valid\n",
    "verify_it(Contact, dict(name=\"Johan\", mobile_phone=\"425-772-3359\"))"
   ]
  },
  {
   "cell_type": "code",
   "execution_count": 10,
   "metadata": {},
   "outputs": [
    {
     "name": "stdout",
     "output_type": "stream",
     "text": [
      "Error: {\"mobile_phone\": [\"Invalid phone: 4257723359\"]}\n"
     ]
    }
   ],
   "source": [
    "# Bad mobile phone number\n",
    "verify_it(Contact, dict(name=\"Johan\", mobile_phone=\"4257723359\"))"
   ]
  },
  {
   "cell_type": "code",
   "execution_count": 11,
   "metadata": {},
   "outputs": [
    {
     "name": "stdout",
     "output_type": "stream",
     "text": [
      "Error: {\"mobile_phone\": [\"Invalid phone: 4257723359\"], \"work_phone\": [\"Invalid phone: 425-7742\"]}\n"
     ]
    }
   ],
   "source": [
    "# Bad phone numbers\n",
    "verify_it(Contact, dict(name=\"Johan\", mobile_phone=\"4257723359\", work_phone=\"425-7742\"))"
   ]
  },
  {
   "cell_type": "markdown",
   "metadata": {},
   "source": [
    "## Third Way: Create Custom Type\n",
    "\n",
    "If we found we repeatedly need the same validation, another approach is to write a custom type. In this case, we will write a `SimpleUSPhoneType`. Within this type, we can write a number of `validate_*` functions to validate the value."
   ]
  },
  {
   "cell_type": "code",
   "execution_count": 12,
   "metadata": {},
   "outputs": [],
   "source": [
    "import re\n",
    "\n",
    "import schematics\n",
    "\n",
    "\n",
    "class SimpleUSPhoneType(schematics.types.StringType):\n",
    "    \"\"\"\n",
    "    For simplicity, we only allow NNN-NNN-NNNN format.\n",
    "    \"\"\"\n",
    "    def validate_first_digit(self, value):\n",
    "        \"\"\"The first digit cannot be a 1.\"\"\"\n",
    "        if value[0] == \"1\":\n",
    "            raise schematics.exceptions.ValidationError(f\"First digit must not be 1: {value}\")\n",
    "            \n",
    "    def validate_format(self, value):\n",
    "        valid_pattern = re.compile(r\"\\d{3}-\\d{3}-\\d{4}\")\n",
    "        if not valid_pattern.match(value):\n",
    "            raise schematics.exceptions.ValidationError(\n",
    "                f\"Invalid format: {value}\"\n",
    "            )\n",
    "        \n",
    "\n",
    "\n",
    "class Contact2(schematics.Model):\n",
    "    name = schematics.types.StringType(required=True)\n",
    "    mobile_phone = SimpleUSPhoneType()\n",
    "    work_phone = SimpleUSPhoneType()"
   ]
  },
  {
   "cell_type": "code",
   "execution_count": 13,
   "metadata": {},
   "outputs": [
    {
     "name": "stdout",
     "output_type": "stream",
     "text": [
      "Valid\n"
     ]
    }
   ],
   "source": [
    "# Valid\n",
    "verify_it(Contact2, dict(name=\"Johan\", mobile_phone=\"345-678-9012\", work_phone=\"555-123-4567\"))"
   ]
  },
  {
   "cell_type": "code",
   "execution_count": 14,
   "metadata": {},
   "outputs": [
    {
     "name": "stdout",
     "output_type": "stream",
     "text": [
      "Error: {\"mobile_phone\": [\"Invalid format: 3456789012\"], \"work_phone\": [\"First digit must not be 1: 155-123-4567\"]}\n"
     ]
    }
   ],
   "source": [
    "# Invalid phone numbers\n",
    "verify_it(Contact2, dict(name=\"Johan\", mobile_phone=\"3456789012\", work_phone=\"155-123-4567\"))"
   ]
  },
  {
   "cell_type": "code",
   "execution_count": 15,
   "metadata": {},
   "outputs": [
    {
     "name": "stdout",
     "output_type": "stream",
     "text": [
      "Error: {\"mobile_phone\": [\"First digit must not be 1: 12345\", \"Invalid format: 12345\"]}\n"
     ]
    }
   ],
   "source": [
    "# A phone number can be invalid in more than one way\n",
    "verify_it(Contact2, dict(name=\"Johan\", mobile_phone=\"12345\"))"
   ]
  }
 ],
 "metadata": {
  "kernelspec": {
   "display_name": "Python 3",
   "language": "python",
   "name": "python3"
  },
  "language_info": {
   "codemirror_mode": {
    "name": "ipython",
    "version": 3
   },
   "file_extension": ".py",
   "mimetype": "text/x-python",
   "name": "python",
   "nbconvert_exporter": "python",
   "pygments_lexer": "ipython3",
   "version": "3.7.3"
  }
 },
 "nbformat": 4,
 "nbformat_minor": 4
}
