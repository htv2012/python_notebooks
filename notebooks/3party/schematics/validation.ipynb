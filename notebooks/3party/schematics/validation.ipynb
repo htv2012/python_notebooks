{
 "cells": [
  {
   "cell_type": "markdown",
   "metadata": {},
   "source": [
    "# How do I validate a single field?\n",
    "\n",
    "## First Way: Write `validate_<Field Name>`\n",
    "\n",
    "If the field name is X, then we can write a method called `validate_X` with the following signature:\n",
    "\n",
    "    def validate_X(self, json_obj, value_of_x)\n",
    "\n",
    "In the above signature, `json_obj` is the object passed into the constructor to create the object. In case we need some other information from that structure. `value_of_x` is the value of the field being validated. Here is an example:"
   ]
  },
  {
   "cell_type": "code",
   "execution_count": 35,
   "metadata": {},
   "outputs": [],
   "source": [
    "import string\n",
    "\n",
    "import schematics\n",
    "\n",
    "\n",
    "VALID_CHARS = set(string.ascii_letters + string.digits + \"_\")\n",
    "\n",
    "\n",
    "class UserMetadata(schematics.Model):\n",
    "    name = schematics.types.StringType(required=True)\n",
    "    display_name = schematics.types.StringType(serialized_name=\"displayName\")\n",
    "    description = schematics.types.StringType()\n",
    "    \n",
    "    def validate_name(self, json_obj, name):\n",
    "        invalid_chars = \"\".join(set(name) - VALID_CHARS)\n",
    "        if invalid_chars:\n",
    "            raise schematics.exceptions.ValidationError(\n",
    "                f\"Expect only letters, digits and underscore\"\n",
    "                f\", but found {invalid_chars!r}\"\n",
    "                f\" in {name}\"\n",
    "            )\n",
    "\n",
    "def verify_user_metadata(json_obj):\n",
    "    user_metadata = UserMetadata(json_obj)\n",
    "    try:\n",
    "        user_metadata.validate()\n",
    "    except schematics.exceptions.DataError as error:\n",
    "        print(error)\n",
    "    else:\n",
    "        print(\"Valid\")"
   ]
  },
  {
   "cell_type": "markdown",
   "metadata": {},
   "source": [
    "### Try it out"
   ]
  },
  {
   "cell_type": "code",
   "execution_count": 13,
   "metadata": {},
   "outputs": [
    {
     "name": "stdout",
     "output_type": "stream",
     "text": [
      "Valid\n"
     ]
    }
   ],
   "source": [
    "# This should be valid\n",
    "verify_user_metadata(dict(\n",
    "    name=\"user_1\",\n",
    "))"
   ]
  },
  {
   "cell_type": "code",
   "execution_count": 16,
   "metadata": {},
   "outputs": [
    {
     "name": "stdout",
     "output_type": "stream",
     "text": [
      "{\"name\": [\"Expect only letters, digits and underscore, but found '-#' in user-1#\"]}\n"
     ]
    }
   ],
   "source": [
    "# Invalid chars found\n",
    "verify_user_metadata(dict(\n",
    "    name=\"user-1#\"\n",
    "))"
   ]
  },
  {
   "cell_type": "markdown",
   "metadata": {},
   "source": [
    "### What Is the Use of `json_obj`?\n",
    "\n",
    "Sometimes, we want to validate a field against another field, this is where the `json_obj` comes in. In the following example, we create a `User` object and if the user is root, then that user must be an admin."
   ]
  },
  {
   "cell_type": "code",
   "execution_count": 44,
   "metadata": {},
   "outputs": [],
   "source": [
    "import schematics\n",
    "\n",
    "class User(schematics.Model):\n",
    "    alias = schematics.types.StringType(required=True)\n",
    "    is_admin = schematics.types.BooleanType(default=False)\n",
    "    \n",
    "    def validate_is_admin(self, json_obj, is_admin_value):\n",
    "        if json_obj[\"alias\"] == \"root\" and is_admin_value is not True:\n",
    "            raise schematics.exceptions.ValidationError(\n",
    "                \"root must be an admin.\"\n",
    "            )\n",
    "            \n",
    "            \n",
    "def verify_user(json_obj):\n",
    "    user = User(json_obj)\n",
    "    try:\n",
    "        user.validate()\n",
    "    except schematics.exceptions.DataError as error:\n",
    "        print(f\"Error: {error}\")\n",
    "    else:\n",
    "        print(\"Valid\")"
   ]
  },
  {
   "cell_type": "code",
   "execution_count": 45,
   "metadata": {},
   "outputs": [
    {
     "name": "stdout",
     "output_type": "stream",
     "text": [
      "Valid\n"
     ]
    }
   ],
   "source": [
    "# Non-root\n",
    "verify_user(dict(alias=\"johan\", is_admin=True))"
   ]
  },
  {
   "cell_type": "code",
   "execution_count": 46,
   "metadata": {},
   "outputs": [
    {
     "name": "stdout",
     "output_type": "stream",
     "text": [
      "Valid\n"
     ]
    }
   ],
   "source": [
    "# Root, is admin\n",
    "verify_user(dict(alias=\"root\", is_admin=True))"
   ]
  },
  {
   "cell_type": "code",
   "execution_count": 47,
   "metadata": {},
   "outputs": [
    {
     "name": "stdout",
     "output_type": "stream",
     "text": [
      "Error: {\"is_admin\": [\"root must be an admin.\"]}\n"
     ]
    }
   ],
   "source": [
    "# Invalid\n",
    "verify_user(dict(alias=\"root\"))"
   ]
  },
  {
   "cell_type": "markdown",
   "metadata": {},
   "source": [
    "# Second Way: Write a Validation Function\n",
    "\n",
    "If we found having to perform the same validation for different fields, we can write a validation function and use that:"
   ]
  },
  {
   "cell_type": "code",
   "execution_count": 23,
   "metadata": {},
   "outputs": [],
   "source": [
    "import re\n",
    "\n",
    "import schematics\n",
    "\n",
    "\n",
    "def validate_simple_us_phone(value):\n",
    "    \"\"\"\n",
    "    Validate a phone number.\n",
    "    \n",
    "    For the sake of simplicity, we only validate NNN-NNN-NNNN.\n",
    "    \"\"\"\n",
    "    valid_pattern = re.compile(r\"\\d{3}-\\d{3}-\\d{4}\")\n",
    "    if not valid_pattern.match(value):\n",
    "        raise schematics.exceptions.ValidationError(f\"Invalid phone: {value}\")\n",
    "\n",
    "\n",
    "class User(schematics.Model):\n",
    "    name = schematics.types.StringType(required=True)\n",
    "    mobile_phone = schematics.types.StringType(validators=[validate_simple_us_phone])\n",
    "    work_phone = schematics.types.StringType(validators=[validate_simple_us_phone])\n",
    "    \n",
    "    \n",
    "def verify_user(json_obj):\n",
    "    user = User(json_obj)\n",
    "    try:\n",
    "        user.validate()\n",
    "    except schematics.exceptions.DataError as error:\n",
    "        print(error)\n",
    "    else:\n",
    "        print(\"valid\")"
   ]
  },
  {
   "cell_type": "code",
   "execution_count": 24,
   "metadata": {},
   "outputs": [
    {
     "name": "stdout",
     "output_type": "stream",
     "text": [
      "valid\n"
     ]
    }
   ],
   "source": [
    "# Valid\n",
    "verify_user(dict(name=\"Johan\", mobile_phone=\"425-772-3359\"))"
   ]
  },
  {
   "cell_type": "code",
   "execution_count": 25,
   "metadata": {},
   "outputs": [
    {
     "name": "stdout",
     "output_type": "stream",
     "text": [
      "{\"mobile_phone\": [\"Invalid phone: 4257723359\"]}\n"
     ]
    }
   ],
   "source": [
    "# Bad mobile phone number\n",
    "verify_user(dict(name=\"Johan\", mobile_phone=\"4257723359\"))"
   ]
  },
  {
   "cell_type": "code",
   "execution_count": 26,
   "metadata": {},
   "outputs": [
    {
     "name": "stdout",
     "output_type": "stream",
     "text": [
      "{\"mobile_phone\": [\"Invalid phone: 4257723359\"], \"work_phone\": [\"Invalid phone: 425-7742\"]}\n"
     ]
    }
   ],
   "source": [
    "# Bad phone numbers\n",
    "verify_user(dict(name=\"Johan\", mobile_phone=\"4257723359\", work_phone=\"425-7742\"))"
   ]
  },
  {
   "cell_type": "markdown",
   "metadata": {},
   "source": [
    "## Third Way: Create Custom Type\n",
    "\n",
    "If we found we repeatedly need the same validation, another approach is to write a custom type. In this case, we will write a `SimpleUSPhoneType`. Within this type, we can write a number of `validate_*` functions to validate the value."
   ]
  },
  {
   "cell_type": "code",
   "execution_count": 32,
   "metadata": {},
   "outputs": [],
   "source": [
    "import re\n",
    "import string\n",
    "\n",
    "import schematics\n",
    "\n",
    "\n",
    "class SimpleUSPhoneType(schematics.types.StringType):\n",
    "    \"\"\"\n",
    "    For simplicity, we only allow NNN-NNN-NNNN format.\n",
    "    \"\"\"\n",
    "    def validate_first_digit(self, value):\n",
    "        \"\"\"The first digit cannot be a 1.\"\"\"\n",
    "        if value[0] == \"1\":\n",
    "            raise schematics.exceptions.ValidationError(\n",
    "                f\"First digit must not be 1: {value}\"\n",
    "            )\n",
    "            \n",
    "    def validate_format(self, value):\n",
    "        valid_pattern = re.compile(r\"\\d{3}-\\d{3}-\\d{4}\")\n",
    "        if not valid_pattern.match(value):\n",
    "            raise schematics.exceptions.ValidationError(\n",
    "                f\"Invalid format: {value}\"\n",
    "            )\n",
    "        \n",
    "\n",
    "\n",
    "class User(schematics.Model):\n",
    "    name = schematics.types.StringType(required=True)\n",
    "    mobile_phone = SimpleUSPhoneType()\n",
    "    work_phone = SimpleUSPhoneType()\n",
    "    \n",
    "\n",
    "\n",
    "def verify_user(json_obj):\n",
    "    user = User(json_obj)\n",
    "    try:\n",
    "        user.validate()\n",
    "    except schematics.exceptions.DataError as error:\n",
    "        print(error)\n",
    "    else:\n",
    "        print(\"valid\")"
   ]
  },
  {
   "cell_type": "code",
   "execution_count": 33,
   "metadata": {},
   "outputs": [
    {
     "name": "stdout",
     "output_type": "stream",
     "text": [
      "valid\n"
     ]
    }
   ],
   "source": [
    "# Valid\n",
    "verify_user(dict(name=\"Johan\", mobile_phone=\"345-678-9012\", work_phone=\"555-123-4567\"))"
   ]
  },
  {
   "cell_type": "code",
   "execution_count": 34,
   "metadata": {},
   "outputs": [
    {
     "name": "stdout",
     "output_type": "stream",
     "text": [
      "{\"mobile_phone\": [\"Invalid format: 3456789012\"], \"work_phone\": [\"First digit must not be 1: 155-123-4567\"]}\n"
     ]
    }
   ],
   "source": [
    "# Invalid phone numbers\n",
    "verify_user(dict(name=\"Johan\", mobile_phone=\"3456789012\", work_phone=\"155-123-4567\"))"
   ]
  },
  {
   "cell_type": "code",
   "execution_count": null,
   "metadata": {},
   "outputs": [],
   "source": []
  }
 ],
 "metadata": {
  "kernelspec": {
   "display_name": "Python 3",
   "language": "python",
   "name": "python3"
  },
  "language_info": {
   "codemirror_mode": {
    "name": "ipython",
    "version": 3
   },
   "file_extension": ".py",
   "mimetype": "text/x-python",
   "name": "python",
   "nbconvert_exporter": "python",
   "pygments_lexer": "ipython3",
   "version": "3.7.3"
  }
 },
 "nbformat": 4,
 "nbformat_minor": 4
}
