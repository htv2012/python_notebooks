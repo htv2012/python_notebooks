{
 "cells": [
  {
   "cell_type": "markdown",
   "metadata": {},
   "source": [
    "# Generate Random Models\n",
    "\n",
    "In testing, we often need to generate random models. `schematics` offer this capability via a feature called [Model Mocking]\n",
    "\n",
    "\n",
    "\n",
    "[Model Mocking]: https://schematics.readthedocs.io/en/latest/usage/models.html#model-mocking"
   ]
  },
  {
   "cell_type": "code",
   "execution_count": 1,
   "metadata": {},
   "outputs": [],
   "source": [
    "import schematics\n",
    "\n",
    "class EnvironmentMetadata(schematics.Model):\n",
    "    name = schematics.types.StringType(required=True, max_length=30)\n",
    "    display_name = schematics.types.StringType(serialized_name=\"displayName\", max_length=255, serialize_when_none=False)\n",
    "    description = schematics.types.StringType(max_length=255, serialize_when_none=False)"
   ]
  },
  {
   "cell_type": "code",
   "execution_count": 2,
   "metadata": {},
   "outputs": [],
   "source": [
    "environment_metadata = EnvironmentMetadata.get_mock_object()"
   ]
  },
  {
   "cell_type": "code",
   "execution_count": 3,
   "metadata": {},
   "outputs": [
    {
     "data": {
      "text/plain": [
       "'8Q2ACe5veCdq'"
      ]
     },
     "execution_count": 3,
     "metadata": {},
     "output_type": "execute_result"
    }
   ],
   "source": [
    "environment_metadata.name"
   ]
  },
  {
   "cell_type": "code",
   "execution_count": 4,
   "metadata": {},
   "outputs": [],
   "source": [
    "environment_metadata.display_name"
   ]
  },
  {
   "cell_type": "code",
   "execution_count": 5,
   "metadata": {},
   "outputs": [],
   "source": [
    "environment_metadata.description"
   ]
  },
  {
   "cell_type": "code",
   "execution_count": 6,
   "metadata": {},
   "outputs": [
    {
     "data": {
      "text/plain": [
       "{'name': '8Q2ACe5veCdq'}"
      ]
     },
     "execution_count": 6,
     "metadata": {},
     "output_type": "execute_result"
    }
   ],
   "source": [
    "environment_metadata.to_primitive()"
   ]
  },
  {
   "cell_type": "markdown",
   "metadata": {},
   "source": [
    "## Generate Nested Models"
   ]
  },
  {
   "cell_type": "code",
   "execution_count": 7,
   "metadata": {},
   "outputs": [],
   "source": [
    "import json\n",
    "import schematics\n",
    "\n",
    "class UnixUser(schematics.Model):\n",
    "    alias = schematics.types.StringType(required=True)\n",
    "    is_admin = schematics.types.BooleanType(default=False)\n",
    "    \n",
    "class Phone(schematics.Model):\n",
    "    number = schematics.types.StringType(regex=r\"\\d{3}-\\d{3}-\\d{4}\", required=True)\n",
    "    kind = schematics.types.StringType(required=True,choices=[\"mobile\", \"work\", \"home\", \"other\"])\n",
    "    \n",
    "class Contact(schematics.Model):\n",
    "    name = schematics.types.StringType(required=True)\n",
    "    \n",
    "    # Nested: A single object\n",
    "    unix_user = schematics.types.ModelType(UnixUser, serialized_name=\"unixUser\", required=True)\n",
    "    \n",
    "    # Nested: Many objects\n",
    "    phones = schematics.types.ListType(schematics.types.ModelType(Phone), default=[])"
   ]
  },
  {
   "cell_type": "code",
   "execution_count": 8,
   "metadata": {},
   "outputs": [
    {
     "name": "stdout",
     "output_type": "stream",
     "text": [
      "------------------------------------------------------------------------\n",
      "{\n",
      "    \"name\": \"78QwRXMw\",\n",
      "    \"unixUser\": {\n",
      "        \"alias\": \"Ci\",\n",
      "        \"is_admin\": false\n",
      "    },\n",
      "    \"phones\": [\n",
      "        {\n",
      "            \"number\": \"gSC4ShhQBLcjlyd\",\n",
      "            \"kind\": \"work\"\n",
      "        },\n",
      "        {\n",
      "            \"number\": \"m6\",\n",
      "            \"kind\": \"other\"\n",
      "        },\n",
      "        {\n",
      "            \"number\": \"FByu\",\n",
      "            \"kind\": \"mobile\"\n",
      "        },\n",
      "        {\n",
      "            \"number\": \"ieXGxZ2bynO1\",\n",
      "            \"kind\": \"mobile\"\n",
      "        },\n",
      "        {\n",
      "            \"number\": \"9X5XHx1ZT\",\n",
      "            \"kind\": \"mobile\"\n",
      "        },\n",
      "        {\n",
      "            \"number\": \"xbkg0D\",\n",
      "            \"kind\": \"mobile\"\n",
      "        },\n",
      "        {\n",
      "            \"number\": \"1cr9QsX\",\n",
      "            \"kind\": \"mobile\"\n",
      "        },\n",
      "        {\n",
      "            \"number\": \"CkK0miFH\",\n",
      "            \"kind\": \"work\"\n",
      "        },\n",
      "        {\n",
      "            \"number\": \"A\",\n",
      "            \"kind\": \"other\"\n",
      "        }\n",
      "    ]\n",
      "}\n",
      "------------------------------------------------------------------------\n",
      "{\n",
      "    \"name\": \"XdE53mKSh\",\n",
      "    \"unixUser\": {\n",
      "        \"alias\": \"EmxOmyXmrE\",\n",
      "        \"is_admin\": true\n",
      "    },\n",
      "    \"phones\": []\n",
      "}\n",
      "------------------------------------------------------------------------\n",
      "{\n",
      "    \"name\": \"dAUbhvImAeIadai\",\n",
      "    \"unixUser\": {\n",
      "        \"alias\": \"jNdNsm3OW\",\n",
      "        \"is_admin\": true\n",
      "    },\n",
      "    \"phones\": [\n",
      "        {\n",
      "            \"number\": \"MNWMwid6\",\n",
      "            \"kind\": \"work\"\n",
      "        },\n",
      "        {\n",
      "            \"number\": \"FoCVW2DygGohL0R\",\n",
      "            \"kind\": \"home\"\n",
      "        },\n",
      "        {\n",
      "            \"number\": \"qhSqTqi\",\n",
      "            \"kind\": \"work\"\n",
      "        },\n",
      "        {\n",
      "            \"number\": \"4\",\n",
      "            \"kind\": \"work\"\n",
      "        },\n",
      "        {\n",
      "            \"number\": \"1\",\n",
      "            \"kind\": \"work\"\n",
      "        },\n",
      "        {\n",
      "            \"number\": \"E5R86nw4GPVnA\",\n",
      "            \"kind\": \"work\"\n",
      "        },\n",
      "        {\n",
      "            \"number\": \"\",\n",
      "            \"kind\": \"work\"\n",
      "        },\n",
      "        {\n",
      "            \"number\": \"9n1jmGqQQ\",\n",
      "            \"kind\": \"other\"\n",
      "        },\n",
      "        {\n",
      "            \"number\": \"QZ8iXbD4bfjabvUq\",\n",
      "            \"kind\": \"work\"\n",
      "        },\n",
      "        {\n",
      "            \"number\": \"JL\",\n",
      "            \"kind\": \"mobile\"\n",
      "        },\n",
      "        {\n",
      "            \"number\": \"i7\",\n",
      "            \"kind\": \"other\"\n",
      "        },\n",
      "        {\n",
      "            \"number\": \"KN84s24VGorJIzLQ\",\n",
      "            \"kind\": \"other\"\n",
      "        },\n",
      "        {\n",
      "            \"number\": \"UKwQavg2\",\n",
      "            \"kind\": \"mobile\"\n",
      "        },\n",
      "        {\n",
      "            \"number\": \"kn\",\n",
      "            \"kind\": \"other\"\n",
      "        }\n",
      "    ]\n",
      "}\n"
     ]
    }
   ],
   "source": [
    "for _ in range(3):\n",
    "    contact = Contact.get_mock_object()\n",
    "    print(\"-\" * 72)\n",
    "    print(json.dumps(contact.to_primitive(), indent=4))"
   ]
  },
  {
   "cell_type": "markdown",
   "metadata": {},
   "source": [
    "## Overriding the Random Generator\n",
    "\n",
    "If we need to override some fields, we can create a dictionary and pass that into `get_mock_object()`:"
   ]
  },
  {
   "cell_type": "code",
   "execution_count": 9,
   "metadata": {},
   "outputs": [
    {
     "name": "stdout",
     "output_type": "stream",
     "text": [
      "{\n",
      "    \"name\": \"Johan\",\n",
      "    \"unixUser\": {\n",
      "        \"alias\": \"qhMSlOLvj1xus2Za\",\n",
      "        \"is_admin\": false\n",
      "    },\n",
      "    \"phones\": []\n",
      "}\n"
     ]
    }
   ],
   "source": [
    "contact = Contact.get_mock_object(overrides={\"name\": \"Johan\"})\n",
    "print(json.dumps(contact.to_primitive(), indent=4))"
   ]
  },
  {
   "cell_type": "markdown",
   "metadata": {},
   "source": [
    "## Caveats\n",
    "\n",
    "Note that in the example above, the random models might not be valid. For example, the phone number field does not satisfy the regular expression:"
   ]
  },
  {
   "cell_type": "code",
   "execution_count": 10,
   "metadata": {},
   "outputs": [
    {
     "name": "stdout",
     "output_type": "stream",
     "text": [
      "{'number': '07djgU0rtsMZ', 'kind': 'mobile'}\n",
      "Error: {\"number\": [\"String value did not match validation regex.\"]}\n"
     ]
    }
   ],
   "source": [
    "phone = Phone.get_mock_object()\n",
    "print(phone.to_primitive())\n",
    "try:\n",
    "    phone.validate()\n",
    "except schematics.exceptions.DataError as error:\n",
    "    print(f\"Error: {error}\")"
   ]
  },
  {
   "cell_type": "markdown",
   "metadata": {},
   "source": [
    "For this reason, if we want to generate our own valid models, we need to do it ourselves and do not rely on `get_mock_object`."
   ]
  }
 ],
 "metadata": {
  "kernelspec": {
   "display_name": "Python 3",
   "language": "python",
   "name": "python3"
  },
  "language_info": {
   "codemirror_mode": {
    "name": "ipython",
    "version": 3
   },
   "file_extension": ".py",
   "mimetype": "text/x-python",
   "name": "python",
   "nbconvert_exporter": "python",
   "pygments_lexer": "ipython3",
   "version": "3.7.3"
  }
 },
 "nbformat": 4,
 "nbformat_minor": 4
}
