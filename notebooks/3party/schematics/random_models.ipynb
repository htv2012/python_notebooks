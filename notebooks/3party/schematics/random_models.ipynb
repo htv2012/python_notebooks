{
 "cells": [
  {
   "cell_type": "markdown",
   "metadata": {},
   "source": [
    "# Generate Random Models\n",
    "\n",
    "In testing, we often need to generate random models. `schematics` offer this capability via a feature called [Model Mocking]\n",
    "\n",
    "\n",
    "\n",
    "[Model Mocking]: https://schematics.readthedocs.io/en/latest/usage/models.html#model-mocking"
   ]
  },
  {
   "cell_type": "code",
   "execution_count": 1,
   "metadata": {},
   "outputs": [],
   "source": [
    "import schematics\n",
    "\n",
    "class EnvironmentMetadata(schematics.Model):\n",
    "    name = schematics.types.StringType(required=True, max_length=30)\n",
    "    display_name = schematics.types.StringType(serialized_name=\"displayName\", max_length=255, serialize_when_none=False)\n",
    "    description = schematics.types.StringType(max_length=255, serialize_when_none=False)"
   ]
  },
  {
   "cell_type": "code",
   "execution_count": 2,
   "metadata": {},
   "outputs": [],
   "source": [
    "environment_metadata = EnvironmentMetadata.get_mock_object()"
   ]
  },
  {
   "cell_type": "code",
   "execution_count": 3,
   "metadata": {},
   "outputs": [
    {
     "data": {
      "text/plain": [
       "'7fUFQNnToFt7qvnf'"
      ]
     },
     "execution_count": 3,
     "metadata": {},
     "output_type": "execute_result"
    }
   ],
   "source": [
    "environment_metadata.name"
   ]
  },
  {
   "cell_type": "code",
   "execution_count": 4,
   "metadata": {},
   "outputs": [],
   "source": [
    "environment_metadata.display_name"
   ]
  },
  {
   "cell_type": "code",
   "execution_count": 5,
   "metadata": {},
   "outputs": [],
   "source": [
    "environment_metadata.description"
   ]
  },
  {
   "cell_type": "code",
   "execution_count": 6,
   "metadata": {},
   "outputs": [
    {
     "data": {
      "text/plain": [
       "{'name': '7fUFQNnToFt7qvnf'}"
      ]
     },
     "execution_count": 6,
     "metadata": {},
     "output_type": "execute_result"
    }
   ],
   "source": [
    "environment_metadata.to_primitive()"
   ]
  },
  {
   "cell_type": "markdown",
   "metadata": {},
   "source": [
    "## Generate Nested Models"
   ]
  },
  {
   "cell_type": "code",
   "execution_count": 7,
   "metadata": {},
   "outputs": [],
   "source": [
    "import json\n",
    "import random\n",
    "\n",
    "import schematics\n",
    "\n",
    "class UnixUser(schematics.Model):\n",
    "    alias = schematics.types.StringType(required=True)\n",
    "    is_admin = schematics.types.BooleanType(default=False)\n",
    "    \n",
    "class Phone(schematics.Model):\n",
    "    number = schematics.types.StringType(regex=r\"\\d{3}-\\d{3}-\\d{4}\", required=True)\n",
    "    kind = schematics.types.StringType(required=True,choices=[\"mobile\", \"work\", \"home\", \"other\"])\n",
    "    \n",
    "class Contact(schematics.Model):\n",
    "    name = schematics.types.StringType(required=True)\n",
    "    \n",
    "    # Nested: A single object\n",
    "    unix_user = schematics.types.ModelType(UnixUser, serialized_name=\"unixUser\", required=True)\n",
    "    \n",
    "    # Nested: Many objects\n",
    "    phones = schematics.types.ListType(schematics.types.ModelType(Phone), default=[])"
   ]
  },
  {
   "cell_type": "code",
   "execution_count": 8,
   "metadata": {},
   "outputs": [
    {
     "name": "stdout",
     "output_type": "stream",
     "text": [
      "------------------------------------------------------------------------\n",
      "{\n",
      "    \"name\": \"N2PBJEsTx83ICQ\",\n",
      "    \"unixUser\": {\n",
      "        \"alias\": \"6nkKX\",\n",
      "        \"is_admin\": false\n",
      "    },\n",
      "    \"phones\": [\n",
      "        {\n",
      "            \"number\": \"vO34FoabI\",\n",
      "            \"kind\": \"mobile\"\n",
      "        },\n",
      "        {\n",
      "            \"number\": \"6wBjol0rIx9MzqX2\",\n",
      "            \"kind\": \"other\"\n",
      "        },\n",
      "        {\n",
      "            \"number\": \"HjAjN\",\n",
      "            \"kind\": \"other\"\n",
      "        },\n",
      "        {\n",
      "            \"number\": \"NgFDg\",\n",
      "            \"kind\": \"home\"\n",
      "        },\n",
      "        {\n",
      "            \"number\": \"LDmATu\",\n",
      "            \"kind\": \"mobile\"\n",
      "        },\n",
      "        {\n",
      "            \"number\": \"tt\",\n",
      "            \"kind\": \"work\"\n",
      "        },\n",
      "        {\n",
      "            \"number\": \"88K0\",\n",
      "            \"kind\": \"home\"\n",
      "        },\n",
      "        {\n",
      "            \"number\": \"PGOETPHvfV\",\n",
      "            \"kind\": \"other\"\n",
      "        },\n",
      "        {\n",
      "            \"number\": \"EH7zGh58w6Yat7R\",\n",
      "            \"kind\": \"work\"\n",
      "        },\n",
      "        {\n",
      "            \"number\": \"Fea\",\n",
      "            \"kind\": \"home\"\n",
      "        },\n",
      "        {\n",
      "            \"number\": \"3iWdbB1aZeIuUO\",\n",
      "            \"kind\": \"mobile\"\n",
      "        },\n",
      "        {\n",
      "            \"number\": \"oVNpr2cQ\",\n",
      "            \"kind\": \"mobile\"\n",
      "        }\n",
      "    ]\n",
      "}\n",
      "------------------------------------------------------------------------\n",
      "{\n",
      "    \"name\": \"cbGeOj0\",\n",
      "    \"unixUser\": {\n",
      "        \"alias\": \"oY9CS7F1H\",\n",
      "        \"is_admin\": false\n",
      "    },\n",
      "    \"phones\": []\n",
      "}\n",
      "------------------------------------------------------------------------\n",
      "{\n",
      "    \"name\": \"SiELQRk1DAU8ImJ8\",\n",
      "    \"unixUser\": {\n",
      "        \"alias\": \"MxJ7vCyjSohZ4fw\",\n",
      "        \"is_admin\": false\n",
      "    },\n",
      "    \"phones\": [\n",
      "        {\n",
      "            \"number\": \"nD9PIgPV2mapzmdJ\",\n",
      "            \"kind\": \"other\"\n",
      "        },\n",
      "        {\n",
      "            \"number\": \"HMmVBH\",\n",
      "            \"kind\": \"mobile\"\n",
      "        },\n",
      "        {\n",
      "            \"number\": \"MB\",\n",
      "            \"kind\": \"home\"\n",
      "        },\n",
      "        {\n",
      "            \"number\": \"CRCU5uSlgIO\",\n",
      "            \"kind\": \"work\"\n",
      "        },\n",
      "        {\n",
      "            \"number\": \"kFolhH1Dyyv7rWO\",\n",
      "            \"kind\": \"other\"\n",
      "        },\n",
      "        {\n",
      "            \"number\": \"iHybnMtf\",\n",
      "            \"kind\": \"home\"\n",
      "        },\n",
      "        {\n",
      "            \"number\": \"c8Bze9rvKpcSrxV\",\n",
      "            \"kind\": \"home\"\n",
      "        },\n",
      "        {\n",
      "            \"number\": \"Vt3qYHBk\",\n",
      "            \"kind\": \"other\"\n",
      "        }\n",
      "    ]\n",
      "}\n"
     ]
    }
   ],
   "source": [
    "for _ in range(3):\n",
    "    contact = Contact.get_mock_object()\n",
    "    print(\"-\" * 72)\n",
    "    print(json.dumps(contact.to_primitive(), indent=4))"
   ]
  },
  {
   "cell_type": "markdown",
   "metadata": {},
   "source": [
    "## Overriding the Random Generator\n",
    "\n",
    "If we need to override some fields, we can create a dictionary and pass that into `get_mock_object()`:"
   ]
  },
  {
   "cell_type": "code",
   "execution_count": 9,
   "metadata": {},
   "outputs": [
    {
     "name": "stdout",
     "output_type": "stream",
     "text": [
      "{\n",
      "    \"name\": \"Johan\",\n",
      "    \"unixUser\": {\n",
      "        \"alias\": \"uRSrDai\",\n",
      "        \"is_admin\": true\n",
      "    },\n",
      "    \"phones\": [\n",
      "        {\n",
      "            \"number\": \"Nr\",\n",
      "            \"kind\": \"other\"\n",
      "        },\n",
      "        {\n",
      "            \"number\": \"FdtU6CGL4G\",\n",
      "            \"kind\": \"other\"\n",
      "        },\n",
      "        {\n",
      "            \"number\": \"\",\n",
      "            \"kind\": \"work\"\n",
      "        },\n",
      "        {\n",
      "            \"number\": \"WoqgiyUm\",\n",
      "            \"kind\": \"work\"\n",
      "        },\n",
      "        {\n",
      "            \"number\": \"47JKpi26RS\",\n",
      "            \"kind\": \"work\"\n",
      "        },\n",
      "        {\n",
      "            \"number\": \"GRIxW8\",\n",
      "            \"kind\": \"work\"\n",
      "        },\n",
      "        {\n",
      "            \"number\": \"z3DbOx5XL0c\",\n",
      "            \"kind\": \"work\"\n",
      "        }\n",
      "    ]\n",
      "}\n"
     ]
    }
   ],
   "source": [
    "contact = Contact.get_mock_object(overrides={\"name\": \"Johan\"})\n",
    "print(json.dumps(contact.to_primitive(), indent=4))"
   ]
  },
  {
   "cell_type": "markdown",
   "metadata": {},
   "source": [
    "## Caveats\n",
    "\n",
    "Note that in the example above, the random models might not be valid. For example, the phone number field does not satisfy the regular expression:"
   ]
  },
  {
   "cell_type": "code",
   "execution_count": 10,
   "metadata": {},
   "outputs": [
    {
     "name": "stdout",
     "output_type": "stream",
     "text": [
      "{'number': 'g19', 'kind': 'work'}\n",
      "Error: {\"number\": [\"String value did not match validation regex.\"]}\n"
     ]
    }
   ],
   "source": [
    "phone = Phone.get_mock_object()\n",
    "print(phone.to_primitive())\n",
    "try:\n",
    "    phone.validate()\n",
    "except schematics.exceptions.DataError as error:\n",
    "    print(f\"Error: {error}\")"
   ]
  },
  {
   "cell_type": "markdown",
   "metadata": {},
   "source": [
    "For this reason, if we want to generate our own valid models, we need to do it ourselves and do not rely on `get_mock_object`."
   ]
  },
  {
   "cell_type": "code",
   "execution_count": 11,
   "metadata": {},
   "outputs": [],
   "source": [
    "def generate_random_phone_number():\n",
    "    number = \"-\".join(\n",
    "        str(\"\".join(random.sample(\"0123456789\", n)))\n",
    "        for n in [3, 3, 4]\n",
    "    )\n",
    "    return number\n",
    "\n",
    "class Phone(schematics.Model):\n",
    "    number = schematics.types.StringType(regex=r\"\\d{3}-\\d{3}-\\d{4}\", required=True)\n",
    "    kind = schematics.types.StringType(required=True,choices=[\"mobile\", \"work\", \"home\", \"other\"])\n",
    "    \n",
    "    @classmethod\n",
    "    def get_mock_object(cls, context=None, overrides=None):\n",
    "        obj = super().get_mock_object(context=context, overrides=overrides or {})\n",
    "        try:\n",
    "            obj.validate()\n",
    "        except schematics.exceptions.DataError:\n",
    "            obj.number = generate_random_phone_number()\n",
    "        return obj"
   ]
  },
  {
   "cell_type": "code",
   "execution_count": 12,
   "metadata": {},
   "outputs": [
    {
     "name": "stdout",
     "output_type": "stream",
     "text": [
      "{'number': '197-328-0849', 'kind': 'home'}\n",
      "{'number': '390-094-2869', 'kind': 'home'}\n",
      "{'number': '971-729-0687', 'kind': 'mobile'}\n",
      "{'number': '043-487-9456', 'kind': 'home'}\n",
      "{'number': '674-381-8912', 'kind': 'work'}\n"
     ]
    }
   ],
   "source": [
    "for _ in range(5):\n",
    "    phone = Phone.get_mock_object()\n",
    "    print(phone.to_primitive())\n",
    "    phone.validate()"
   ]
  },
  {
   "cell_type": "markdown",
   "metadata": {},
   "source": [
    "In testing, sometimes we need invalid random models, which means the above method will not satisfy. In which case it helps to keep the inherited `get_mock_object()` method untouch and create a separate generator."
   ]
  },
  {
   "cell_type": "code",
   "execution_count": 13,
   "metadata": {},
   "outputs": [],
   "source": [
    "class Phone(schematics.Model):\n",
    "    number = schematics.types.StringType(regex=r\"\\d{3}-\\d{3}-\\d{4}\", required=True)\n",
    "    kind = schematics.types.StringType(required=True,choices=[\"mobile\", \"work\", \"home\", \"other\"])\n",
    "    \n",
    "    @classmethod\n",
    "    def get_valid_mock_object(cls, context=None, overrides=None):\n",
    "        obj = cls.get_mock_object(context=context, overrides=overrides or {})\n",
    "        obj.number = generate_random_phone_number()\n",
    "        return obj"
   ]
  },
  {
   "cell_type": "code",
   "execution_count": 14,
   "metadata": {},
   "outputs": [
    {
     "name": "stdout",
     "output_type": "stream",
     "text": [
      "{'number': '910-129-5478', 'kind': 'mobile'}\n",
      "{'number': '934-537-6172', 'kind': 'mobile'}\n",
      "{'number': '267-794-6825', 'kind': 'other'}\n",
      "{'number': '931-029-8029', 'kind': 'home'}\n",
      "{'number': '483-693-2859', 'kind': 'mobile'}\n"
     ]
    }
   ],
   "source": [
    "for _ in range(5):\n",
    "    phone = Phone.get_valid_mock_object()\n",
    "    print(phone.to_primitive())\n",
    "    phone.validate()"
   ]
  },
  {
   "cell_type": "markdown",
   "metadata": {},
   "source": [
    "## Summary\n",
    "\n",
    "* Generate a random model with `Class.get_mock_object()`\n",
    "* Override some field with the `get_mock_object(orverrides={some-dict})`\n",
    "* The generated model might not be valid\n",
    "* To ensure a valid model, write our own version of `get_mock_object()`"
   ]
  }
 ],
 "metadata": {
  "kernelspec": {
   "display_name": "Python 3",
   "language": "python",
   "name": "python3"
  },
  "language_info": {
   "codemirror_mode": {
    "name": "ipython",
    "version": 3
   },
   "file_extension": ".py",
   "mimetype": "text/x-python",
   "name": "python",
   "nbconvert_exporter": "python",
   "pygments_lexer": "ipython3",
   "version": "3.7.3"
  }
 },
 "nbformat": 4,
 "nbformat_minor": 4
}
