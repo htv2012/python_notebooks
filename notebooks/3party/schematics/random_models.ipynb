{
 "cells": [
  {
   "cell_type": "markdown",
   "metadata": {},
   "source": [
    "# Generate Random Models\n",
    "\n",
    "In testing, we often need to generate random models. `schematics` offer this capability via a feature called [Model Mocking]\n",
    "\n",
    "\n",
    "\n",
    "[Model Mocking]: https://schematics.readthedocs.io/en/latest/usage/models.html#model-mocking"
   ]
  },
  {
   "cell_type": "code",
   "execution_count": 1,
   "metadata": {},
   "outputs": [],
   "source": [
    "import schematics\n",
    "\n",
    "class EnvironmentMetadata(schematics.Model):\n",
    "    name = schematics.types.StringType(required=True, max_length=30)\n",
    "    display_name = schematics.types.StringType(serialized_name=\"displayName\", max_length=255, serialize_when_none=False)\n",
    "    description = schematics.types.StringType(max_length=255, serialize_when_none=False)"
   ]
  },
  {
   "cell_type": "code",
   "execution_count": 2,
   "metadata": {},
   "outputs": [],
   "source": [
    "environment_metadata = EnvironmentMetadata.get_mock_object()"
   ]
  },
  {
   "cell_type": "code",
   "execution_count": 3,
   "metadata": {},
   "outputs": [
    {
     "data": {
      "text/plain": [
       "'FFbWLmPl2lAYVC1QHL8mj59Ai87Ioh'"
      ]
     },
     "execution_count": 3,
     "metadata": {},
     "output_type": "execute_result"
    }
   ],
   "source": [
    "environment_metadata.name"
   ]
  },
  {
   "cell_type": "code",
   "execution_count": 4,
   "metadata": {},
   "outputs": [
    {
     "data": {
      "text/plain": [
       "'8Uc5vsvEXQcEZ1BPdL3LTxA7twNQEIqsrfF8cmR5hPJFZkvdMw7kQIjSvmmmgnN9RpULCeOYYOnSL0HlG2csVpFd9LLz8lNJmzoP3AaFk5DL1xn91dwDt1s75mwkVW4ysI4xp4xbGByeYDZ90pTUTX683pjJgU0F0cmscbChZBz8TgCobxuJ3wjD44aiuihvzfd6qmJu1Sw6hLO7fIatn6QMa4aEDg9banOdhD15oubhQnwp4DZkWgk'"
      ]
     },
     "execution_count": 4,
     "metadata": {},
     "output_type": "execute_result"
    }
   ],
   "source": [
    "environment_metadata.display_name"
   ]
  },
  {
   "cell_type": "code",
   "execution_count": 5,
   "metadata": {},
   "outputs": [
    {
     "data": {
      "text/plain": [
       "'YA9YQ1yRfGjgG0Rx57aggd2QjHvORapwAEOmbzgHviyUcI4epNfQ1kuL19itldURCeOy3rWvuWG4bCN1hNUd9clFr48ec2nmHfcBx5mqMZIEmFwxrrE56vBnAxzrt1yG0O1S7PB3CwYOw3Q468rqDgBcKZQpXst'"
      ]
     },
     "execution_count": 5,
     "metadata": {},
     "output_type": "execute_result"
    }
   ],
   "source": [
    "environment_metadata.description"
   ]
  },
  {
   "cell_type": "code",
   "execution_count": 6,
   "metadata": {},
   "outputs": [
    {
     "data": {
      "text/plain": [
       "{'name': 'FFbWLmPl2lAYVC1QHL8mj59Ai87Ioh',\n",
       " 'displayName': '8Uc5vsvEXQcEZ1BPdL3LTxA7twNQEIqsrfF8cmR5hPJFZkvdMw7kQIjSvmmmgnN9RpULCeOYYOnSL0HlG2csVpFd9LLz8lNJmzoP3AaFk5DL1xn91dwDt1s75mwkVW4ysI4xp4xbGByeYDZ90pTUTX683pjJgU0F0cmscbChZBz8TgCobxuJ3wjD44aiuihvzfd6qmJu1Sw6hLO7fIatn6QMa4aEDg9banOdhD15oubhQnwp4DZkWgk',\n",
       " 'description': 'YA9YQ1yRfGjgG0Rx57aggd2QjHvORapwAEOmbzgHviyUcI4epNfQ1kuL19itldURCeOy3rWvuWG4bCN1hNUd9clFr48ec2nmHfcBx5mqMZIEmFwxrrE56vBnAxzrt1yG0O1S7PB3CwYOw3Q468rqDgBcKZQpXst'}"
      ]
     },
     "execution_count": 6,
     "metadata": {},
     "output_type": "execute_result"
    }
   ],
   "source": [
    "environment_metadata.to_primitive()"
   ]
  },
  {
   "cell_type": "markdown",
   "metadata": {},
   "source": [
    "## Generate Nested Models"
   ]
  },
  {
   "cell_type": "code",
   "execution_count": 7,
   "metadata": {},
   "outputs": [],
   "source": [
    "import json\n",
    "import random\n",
    "\n",
    "import schematics\n",
    "\n",
    "class UnixUser(schematics.Model):\n",
    "    alias = schematics.types.StringType(required=True)\n",
    "    is_admin = schematics.types.BooleanType(default=False)\n",
    "    \n",
    "class Phone(schematics.Model):\n",
    "    number = schematics.types.StringType(regex=r\"\\d{3}-\\d{3}-\\d{4}\", required=True)\n",
    "    kind = schematics.types.StringType(required=True,choices=[\"mobile\", \"work\", \"home\", \"other\"])\n",
    "    \n",
    "class Contact(schematics.Model):\n",
    "    name = schematics.types.StringType(required=True)\n",
    "    \n",
    "    # Nested: A single object\n",
    "    unix_user = schematics.types.ModelType(UnixUser, serialized_name=\"unixUser\", required=True)\n",
    "    \n",
    "    # Nested: Many objects\n",
    "    phones = schematics.types.ListType(schematics.types.ModelType(Phone), default=[])"
   ]
  },
  {
   "cell_type": "code",
   "execution_count": 8,
   "metadata": {},
   "outputs": [
    {
     "name": "stdout",
     "output_type": "stream",
     "text": [
      "------------------------------------------------------------------------\n",
      "{\n",
      "    \"name\": \"6e3TqPnu8\",\n",
      "    \"unixUser\": {\n",
      "        \"alias\": \"ZJWXKS\",\n",
      "        \"is_admin\": false\n",
      "    },\n",
      "    \"phones\": []\n",
      "}\n",
      "------------------------------------------------------------------------\n",
      "{\n",
      "    \"name\": \"vpGm38dG4\",\n",
      "    \"unixUser\": {\n",
      "        \"alias\": \"0IDpPYGTnMXm\",\n",
      "        \"is_admin\": true\n",
      "    },\n",
      "    \"phones\": [\n",
      "        {\n",
      "            \"number\": \"xDVqIT\",\n",
      "            \"kind\": \"home\"\n",
      "        },\n",
      "        {\n",
      "            \"number\": \"ijlnPZ1fW\",\n",
      "            \"kind\": \"home\"\n",
      "        },\n",
      "        {\n",
      "            \"number\": \"HzoRJ4Di\",\n",
      "            \"kind\": \"work\"\n",
      "        },\n",
      "        {\n",
      "            \"number\": \"hznAq0XU9Dem6\",\n",
      "            \"kind\": \"home\"\n",
      "        },\n",
      "        {\n",
      "            \"number\": \"hSvD2SVpWee\",\n",
      "            \"kind\": \"other\"\n",
      "        }\n",
      "    ]\n",
      "}\n",
      "------------------------------------------------------------------------\n",
      "{\n",
      "    \"name\": \"2O5Vygi8bouOcrY\",\n",
      "    \"unixUser\": {\n",
      "        \"alias\": \"Owhav\",\n",
      "        \"is_admin\": true\n",
      "    },\n",
      "    \"phones\": [\n",
      "        {\n",
      "            \"number\": \"1zN\",\n",
      "            \"kind\": \"work\"\n",
      "        },\n",
      "        {\n",
      "            \"number\": \"PZajSAL5lqatyA5d\",\n",
      "            \"kind\": \"work\"\n",
      "        },\n",
      "        {\n",
      "            \"number\": \"VjvvrV9oAjv\",\n",
      "            \"kind\": \"work\"\n",
      "        },\n",
      "        {\n",
      "            \"number\": \"vv51T\",\n",
      "            \"kind\": \"home\"\n",
      "        },\n",
      "        {\n",
      "            \"number\": \"LMSP5lfHhmr\",\n",
      "            \"kind\": \"work\"\n",
      "        },\n",
      "        {\n",
      "            \"number\": \"pYIQbqzd\",\n",
      "            \"kind\": \"work\"\n",
      "        },\n",
      "        {\n",
      "            \"number\": \"sqP0omJucpDsBa\",\n",
      "            \"kind\": \"mobile\"\n",
      "        },\n",
      "        {\n",
      "            \"number\": \"6ISgg\",\n",
      "            \"kind\": \"other\"\n",
      "        },\n",
      "        {\n",
      "            \"number\": \"vWBU6sryxPgQg99v\",\n",
      "            \"kind\": \"mobile\"\n",
      "        },\n",
      "        {\n",
      "            \"number\": \"2Rt\",\n",
      "            \"kind\": \"mobile\"\n",
      "        },\n",
      "        {\n",
      "            \"number\": \"acY\",\n",
      "            \"kind\": \"other\"\n",
      "        },\n",
      "        {\n",
      "            \"number\": \"Oc\",\n",
      "            \"kind\": \"other\"\n",
      "        },\n",
      "        {\n",
      "            \"number\": \"jIvZLLIY852LUMG\",\n",
      "            \"kind\": \"mobile\"\n",
      "        },\n",
      "        {\n",
      "            \"number\": \"ilo0u\",\n",
      "            \"kind\": \"work\"\n",
      "        }\n",
      "    ]\n",
      "}\n"
     ]
    }
   ],
   "source": [
    "for _ in range(3):\n",
    "    contact = Contact.get_mock_object()\n",
    "    print(\"-\" * 72)\n",
    "    print(json.dumps(contact.to_primitive(), indent=4))"
   ]
  },
  {
   "cell_type": "markdown",
   "metadata": {},
   "source": [
    "## Overriding the Random Generator\n",
    "\n",
    "If we need to override some fields, we can create a dictionary and pass that into `get_mock_object()`:"
   ]
  },
  {
   "cell_type": "code",
   "execution_count": 9,
   "metadata": {},
   "outputs": [
    {
     "name": "stdout",
     "output_type": "stream",
     "text": [
      "{\n",
      "    \"name\": \"Johan\",\n",
      "    \"unixUser\": {\n",
      "        \"alias\": \"Cks1\",\n",
      "        \"is_admin\": false\n",
      "    },\n",
      "    \"phones\": [\n",
      "        {\n",
      "            \"number\": \"SONpTuG7oiu6\",\n",
      "            \"kind\": \"work\"\n",
      "        },\n",
      "        {\n",
      "            \"number\": \"xYjxIsT\",\n",
      "            \"kind\": \"other\"\n",
      "        },\n",
      "        {\n",
      "            \"number\": \"dNLiwTUoh353Vz\",\n",
      "            \"kind\": \"work\"\n",
      "        },\n",
      "        {\n",
      "            \"number\": \"Ji\",\n",
      "            \"kind\": \"mobile\"\n",
      "        },\n",
      "        {\n",
      "            \"number\": \"FVUQs\",\n",
      "            \"kind\": \"other\"\n",
      "        },\n",
      "        {\n",
      "            \"number\": \"OzRpY\",\n",
      "            \"kind\": \"work\"\n",
      "        },\n",
      "        {\n",
      "            \"number\": \"ACU7\",\n",
      "            \"kind\": \"mobile\"\n",
      "        },\n",
      "        {\n",
      "            \"number\": \"XQ\",\n",
      "            \"kind\": \"work\"\n",
      "        },\n",
      "        {\n",
      "            \"number\": \"VxlVorYN\",\n",
      "            \"kind\": \"home\"\n",
      "        },\n",
      "        {\n",
      "            \"number\": \"SRtGLf1g8jAYR\",\n",
      "            \"kind\": \"work\"\n",
      "        },\n",
      "        {\n",
      "            \"number\": \"fpx4mHGKbC\",\n",
      "            \"kind\": \"other\"\n",
      "        },\n",
      "        {\n",
      "            \"number\": \"YII\",\n",
      "            \"kind\": \"work\"\n",
      "        },\n",
      "        {\n",
      "            \"number\": \"HGq\",\n",
      "            \"kind\": \"work\"\n",
      "        },\n",
      "        {\n",
      "            \"number\": \"BJDr7yIJFLXKs\",\n",
      "            \"kind\": \"work\"\n",
      "        },\n",
      "        {\n",
      "            \"number\": \"xOvP3wce9g\",\n",
      "            \"kind\": \"other\"\n",
      "        }\n",
      "    ]\n",
      "}\n"
     ]
    }
   ],
   "source": [
    "contact = Contact.get_mock_object(overrides={\"name\": \"Johan\"})\n",
    "print(json.dumps(contact.to_primitive(), indent=4))"
   ]
  },
  {
   "cell_type": "markdown",
   "metadata": {},
   "source": [
    "## Caveats\n",
    "\n",
    "Note that in the example above, the random models might not be valid. For example, the phone number field does not satisfy the regular expression:"
   ]
  },
  {
   "cell_type": "code",
   "execution_count": 10,
   "metadata": {},
   "outputs": [
    {
     "name": "stdout",
     "output_type": "stream",
     "text": [
      "{'number': 'HZn6R09C2hBK', 'kind': 'other'}\n",
      "Error: {\"number\": [\"String value did not match validation regex.\"]}\n"
     ]
    }
   ],
   "source": [
    "phone = Phone.get_mock_object()\n",
    "print(phone.to_primitive())\n",
    "try:\n",
    "    phone.validate()\n",
    "except schematics.exceptions.DataError as error:\n",
    "    print(f\"Error: {error}\")"
   ]
  },
  {
   "cell_type": "markdown",
   "metadata": {},
   "source": [
    "For this reason, if we want to generate our own valid models, we need to do it ourselves and do not rely on `get_mock_object`."
   ]
  },
  {
   "cell_type": "code",
   "execution_count": 11,
   "metadata": {},
   "outputs": [],
   "source": [
    "def generate_random_phone_number():\n",
    "    number = \"-\".join(\n",
    "        str(\"\".join(random.sample(\"0123456789\", n)))\n",
    "        for n in [3, 3, 4]\n",
    "    )\n",
    "    return number\n",
    "\n",
    "class Phone(schematics.Model):\n",
    "    number = schematics.types.StringType(regex=r\"\\d{3}-\\d{3}-\\d{4}\", required=True)\n",
    "    kind = schematics.types.StringType(required=True,choices=[\"mobile\", \"work\", \"home\", \"other\"])\n",
    "    \n",
    "    @classmethod\n",
    "    def get_mock_object(cls, context=None, overrides=None):\n",
    "        obj = super().get_mock_object(context=context, overrides=overrides or {})\n",
    "        try:\n",
    "            obj.validate()\n",
    "        except schematics.exceptions.DataError:\n",
    "            obj.number = generate_random_phone_number()\n",
    "        return obj"
   ]
  },
  {
   "cell_type": "code",
   "execution_count": 12,
   "metadata": {},
   "outputs": [
    {
     "name": "stdout",
     "output_type": "stream",
     "text": [
      "{'number': '504-465-7160', 'kind': 'mobile'}\n",
      "{'number': '208-436-9175', 'kind': 'mobile'}\n",
      "{'number': '804-251-7528', 'kind': 'work'}\n",
      "{'number': '048-619-9471', 'kind': 'work'}\n",
      "{'number': '825-695-0345', 'kind': 'mobile'}\n"
     ]
    }
   ],
   "source": [
    "for _ in range(5):\n",
    "    phone = Phone.get_mock_object()\n",
    "    print(phone.to_primitive())\n",
    "    phone.validate()"
   ]
  },
  {
   "cell_type": "markdown",
   "metadata": {},
   "source": [
    "In testing, sometimes we need invalid random models, which means the above method will not satisfy. In which case it helps to keep the inherited `get_mock_object()` method untouch and create a separate generator."
   ]
  },
  {
   "cell_type": "markdown",
   "metadata": {},
   "source": [
    "Advantage of overriding the `get_mock_object()` with our own is we can use it to generate a valid nested model."
   ]
  },
  {
   "cell_type": "code",
   "execution_count": 13,
   "metadata": {},
   "outputs": [
    {
     "name": "stdout",
     "output_type": "stream",
     "text": [
      "------------------------------------------------------------------------\n",
      "{\n",
      "    \"name\": \"\",\n",
      "    \"unixUser\": {\n",
      "        \"alias\": \"kGeOu\",\n",
      "        \"is_admin\": false\n",
      "    },\n",
      "    \"phones\": [\n",
      "        {\n",
      "            \"number\": \"418-478-6921\",\n",
      "            \"kind\": \"home\"\n",
      "        },\n",
      "        {\n",
      "            \"number\": \"473-071-1754\",\n",
      "            \"kind\": \"mobile\"\n",
      "        },\n",
      "        {\n",
      "            \"number\": \"428-530-7629\",\n",
      "            \"kind\": \"work\"\n",
      "        },\n",
      "        {\n",
      "            \"number\": \"197-451-2598\",\n",
      "            \"kind\": \"other\"\n",
      "        },\n",
      "        {\n",
      "            \"number\": \"346-850-4567\",\n",
      "            \"kind\": \"work\"\n",
      "        },\n",
      "        {\n",
      "            \"number\": \"296-347-1048\",\n",
      "            \"kind\": \"other\"\n",
      "        },\n",
      "        {\n",
      "            \"number\": \"260-901-5716\",\n",
      "            \"kind\": \"home\"\n",
      "        },\n",
      "        {\n",
      "            \"number\": \"160-709-0975\",\n",
      "            \"kind\": \"work\"\n",
      "        }\n",
      "    ]\n",
      "}\n",
      "------------------------------------------------------------------------\n",
      "{\n",
      "    \"name\": \"LW\",\n",
      "    \"unixUser\": {\n",
      "        \"alias\": \"hQ\",\n",
      "        \"is_admin\": false\n",
      "    },\n",
      "    \"phones\": [\n",
      "        {\n",
      "            \"number\": \"065-497-8936\",\n",
      "            \"kind\": \"other\"\n",
      "        },\n",
      "        {\n",
      "            \"number\": \"425-074-1709\",\n",
      "            \"kind\": \"other\"\n",
      "        },\n",
      "        {\n",
      "            \"number\": \"519-435-0845\",\n",
      "            \"kind\": \"work\"\n",
      "        },\n",
      "        {\n",
      "            \"number\": \"865-514-0543\",\n",
      "            \"kind\": \"mobile\"\n",
      "        },\n",
      "        {\n",
      "            \"number\": \"807-735-3814\",\n",
      "            \"kind\": \"other\"\n",
      "        },\n",
      "        {\n",
      "            \"number\": \"739-104-5016\",\n",
      "            \"kind\": \"other\"\n",
      "        },\n",
      "        {\n",
      "            \"number\": \"210-275-8312\",\n",
      "            \"kind\": \"work\"\n",
      "        },\n",
      "        {\n",
      "            \"number\": \"307-791-9462\",\n",
      "            \"kind\": \"mobile\"\n",
      "        },\n",
      "        {\n",
      "            \"number\": \"932-372-7139\",\n",
      "            \"kind\": \"home\"\n",
      "        }\n",
      "    ]\n",
      "}\n"
     ]
    }
   ],
   "source": [
    "def generate_random_phone_number():\n",
    "    number = \"-\".join(\n",
    "        str(\"\".join(random.sample(\"0123456789\", n)))\n",
    "        for n in [3, 3, 4]\n",
    "    )\n",
    "    return number\n",
    "\n",
    "class Phone(schematics.Model):\n",
    "    number = schematics.types.StringType(regex=r\"\\d{3}-\\d{3}-\\d{4}\", required=True)\n",
    "    kind = schematics.types.StringType(required=True,choices=[\"mobile\", \"work\", \"home\", \"other\"])\n",
    "    \n",
    "    @classmethod\n",
    "    def get_mock_object(cls, context=None, overrides=None):\n",
    "        obj = super().get_mock_object(context=context, overrides=overrides or {})\n",
    "        try:\n",
    "            obj.validate()\n",
    "        except schematics.exceptions.DataError:\n",
    "            obj.number = generate_random_phone_number()\n",
    "        return obj\n",
    "\n",
    "class UnixUser(schematics.Model):\n",
    "    alias = schematics.types.StringType(required=True)\n",
    "    is_admin = schematics.types.BooleanType(default=False)\n",
    "    \n",
    "class Contact(schematics.Model):\n",
    "    name = schematics.types.StringType(required=True)\n",
    "    \n",
    "    # Nested: A single object\n",
    "    unix_user = schematics.types.ModelType(UnixUser, serialized_name=\"unixUser\", required=True)\n",
    "    \n",
    "    # Nested: Many objects\n",
    "    phones = schematics.types.ListType(schematics.types.ModelType(Phone), )\n",
    "    \n",
    "for _ in range(2):\n",
    "    contact = Contact.get_mock_object()\n",
    "    print(\"-\" * 72)\n",
    "    print(json.dumps(contact.to_primitive(), indent=4))\n",
    "    contact.validate()"
   ]
  },
  {
   "cell_type": "code",
   "execution_count": 14,
   "metadata": {},
   "outputs": [],
   "source": [
    "class Phone(schematics.Model):\n",
    "    number = schematics.types.StringType(regex=r\"\\d{3}-\\d{3}-\\d{4}\", required=True)\n",
    "    kind = schematics.types.StringType(required=True,choices=[\"mobile\", \"work\", \"home\", \"other\"])\n",
    "    \n",
    "    @classmethod\n",
    "    def get_valid_mock_object(cls, context=None, overrides=None):\n",
    "        obj = cls.get_mock_object(context=context, overrides=overrides or {})\n",
    "        obj.number = generate_random_phone_number()\n",
    "        return obj"
   ]
  },
  {
   "cell_type": "code",
   "execution_count": 15,
   "metadata": {},
   "outputs": [
    {
     "name": "stdout",
     "output_type": "stream",
     "text": [
      "{'number': '520-462-7621', 'kind': 'other'}\n",
      "{'number': '296-182-7953', 'kind': 'mobile'}\n",
      "{'number': '685-937-9057', 'kind': 'home'}\n",
      "{'number': '041-519-9812', 'kind': 'other'}\n",
      "{'number': '082-251-0297', 'kind': 'other'}\n"
     ]
    }
   ],
   "source": [
    "for _ in range(5):\n",
    "    phone = Phone.get_valid_mock_object()\n",
    "    print(phone.to_primitive())\n",
    "    phone.validate()"
   ]
  },
  {
   "cell_type": "markdown",
   "metadata": {},
   "source": [
    "## Summary\n",
    "\n",
    "* Generate a random model with `Class.get_mock_object()`\n",
    "* Override some field with the `get_mock_object(orverrides={some-dict})`\n",
    "* Overriding `get_mock_object()` works in nested models\n",
    "* The generated model might not be valid\n",
    "* To ensure a valid model, write our own version of `get_mock_object()`"
   ]
  }
 ],
 "metadata": {
  "kernelspec": {
   "display_name": "Python 3",
   "language": "python",
   "name": "python3"
  },
  "language_info": {
   "codemirror_mode": {
    "name": "ipython",
    "version": 3
   },
   "file_extension": ".py",
   "mimetype": "text/x-python",
   "name": "python",
   "nbconvert_exporter": "python",
   "pygments_lexer": "ipython3",
   "version": "3.7.3"
  }
 },
 "nbformat": 4,
 "nbformat_minor": 4
}
