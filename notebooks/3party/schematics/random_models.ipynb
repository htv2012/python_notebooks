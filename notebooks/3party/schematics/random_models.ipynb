{
 "cells": [
  {
   "cell_type": "markdown",
   "metadata": {},
   "source": [
    "# Generate Random Models\n",
    "\n",
    "In testing, we often need to generate random models. `schematics` offer this capability via a feature called [Model Mocking]\n",
    "\n",
    "\n",
    "\n",
    "[Model Mocking]: https://schematics.readthedocs.io/en/latest/usage/models.html#model-mocking"
   ]
  },
  {
   "cell_type": "code",
   "execution_count": 1,
   "metadata": {},
   "outputs": [],
   "source": [
    "import schematics\n",
    "\n",
    "class EnvironmentMetadata(schematics.Model):\n",
    "    name = schematics.types.StringType(required=True, max_length=30)\n",
    "    display_name = schematics.types.StringType(serialized_name=\"displayName\", max_length=255, serialize_when_none=False)\n",
    "    description = schematics.types.StringType(max_length=255, serialize_when_none=False)"
   ]
  },
  {
   "cell_type": "code",
   "execution_count": 2,
   "metadata": {},
   "outputs": [],
   "source": [
    "environment_metadata = EnvironmentMetadata.get_mock_object()"
   ]
  },
  {
   "cell_type": "code",
   "execution_count": 3,
   "metadata": {},
   "outputs": [
    {
     "data": {
      "text/plain": [
       "'hGy3yr4jj9k'"
      ]
     },
     "execution_count": 3,
     "metadata": {},
     "output_type": "execute_result"
    }
   ],
   "source": [
    "environment_metadata.name"
   ]
  },
  {
   "cell_type": "code",
   "execution_count": 4,
   "metadata": {},
   "outputs": [],
   "source": [
    "environment_metadata.display_name"
   ]
  },
  {
   "cell_type": "code",
   "execution_count": 5,
   "metadata": {},
   "outputs": [],
   "source": [
    "environment_metadata.description"
   ]
  },
  {
   "cell_type": "code",
   "execution_count": 6,
   "metadata": {},
   "outputs": [
    {
     "data": {
      "text/plain": [
       "{'name': 'hGy3yr4jj9k'}"
      ]
     },
     "execution_count": 6,
     "metadata": {},
     "output_type": "execute_result"
    }
   ],
   "source": [
    "environment_metadata.to_primitive()"
   ]
  },
  {
   "cell_type": "markdown",
   "metadata": {},
   "source": [
    "## Generate Nested Models"
   ]
  },
  {
   "cell_type": "code",
   "execution_count": 7,
   "metadata": {},
   "outputs": [],
   "source": [
    "import json\n",
    "import random\n",
    "\n",
    "import schematics\n",
    "\n",
    "class UnixUser(schematics.Model):\n",
    "    alias = schematics.types.StringType(required=True)\n",
    "    is_admin = schematics.types.BooleanType(default=False)\n",
    "    \n",
    "class Phone(schematics.Model):\n",
    "    number = schematics.types.StringType(regex=r\"\\d{3}-\\d{3}-\\d{4}\", required=True)\n",
    "    kind = schematics.types.StringType(required=True,choices=[\"mobile\", \"work\", \"home\", \"other\"])\n",
    "    \n",
    "class Contact(schematics.Model):\n",
    "    name = schematics.types.StringType(required=True)\n",
    "    \n",
    "    # Nested: A single object\n",
    "    unix_user = schematics.types.ModelType(UnixUser, serialized_name=\"unixUser\", required=True)\n",
    "    \n",
    "    # Nested: Many objects\n",
    "    phones = schematics.types.ListType(schematics.types.ModelType(Phone), default=[])"
   ]
  },
  {
   "cell_type": "code",
   "execution_count": 8,
   "metadata": {},
   "outputs": [
    {
     "name": "stdout",
     "output_type": "stream",
     "text": [
      "------------------------------------------------------------------------\n",
      "{\n",
      "    \"name\": \"JwAs7V1adFieSQ\",\n",
      "    \"unixUser\": {\n",
      "        \"alias\": \"WFlR2\",\n",
      "        \"is_admin\": false\n",
      "    },\n",
      "    \"phones\": [\n",
      "        {\n",
      "            \"number\": \"j83NvEHljOxrzq\",\n",
      "            \"kind\": \"mobile\"\n",
      "        },\n",
      "        {\n",
      "            \"number\": \"8X7\",\n",
      "            \"kind\": \"mobile\"\n",
      "        },\n",
      "        {\n",
      "            \"number\": \"UrJ\",\n",
      "            \"kind\": \"home\"\n",
      "        },\n",
      "        {\n",
      "            \"number\": \"pH2WGgfZsMsS\",\n",
      "            \"kind\": \"work\"\n",
      "        },\n",
      "        {\n",
      "            \"number\": \"zjkir\",\n",
      "            \"kind\": \"mobile\"\n",
      "        },\n",
      "        {\n",
      "            \"number\": \"TLgJfrq03VjIUXB\",\n",
      "            \"kind\": \"other\"\n",
      "        },\n",
      "        {\n",
      "            \"number\": \"ymXzGCkpnt\",\n",
      "            \"kind\": \"mobile\"\n",
      "        },\n",
      "        {\n",
      "            \"number\": \"8QPrBdgshE\",\n",
      "            \"kind\": \"home\"\n",
      "        },\n",
      "        {\n",
      "            \"number\": \"qT4y9\",\n",
      "            \"kind\": \"work\"\n",
      "        },\n",
      "        {\n",
      "            \"number\": \"ROWGbN\",\n",
      "            \"kind\": \"work\"\n",
      "        }\n",
      "    ]\n",
      "}\n",
      "------------------------------------------------------------------------\n",
      "{\n",
      "    \"name\": \"FNL\",\n",
      "    \"unixUser\": {\n",
      "        \"alias\": \"wdD04qj2nh\",\n",
      "        \"is_admin\": false\n",
      "    },\n",
      "    \"phones\": []\n",
      "}\n",
      "------------------------------------------------------------------------\n",
      "{\n",
      "    \"name\": \"jvBCi133O\",\n",
      "    \"unixUser\": {\n",
      "        \"alias\": \"\",\n",
      "        \"is_admin\": false\n",
      "    },\n",
      "    \"phones\": [\n",
      "        {\n",
      "            \"number\": \"ZAdy9BtCGPY\",\n",
      "            \"kind\": \"work\"\n",
      "        },\n",
      "        {\n",
      "            \"number\": \"09ORyid6dTock\",\n",
      "            \"kind\": \"home\"\n",
      "        },\n",
      "        {\n",
      "            \"number\": \"SlMBtvFFBxRAl\",\n",
      "            \"kind\": \"home\"\n",
      "        },\n",
      "        {\n",
      "            \"number\": \"\",\n",
      "            \"kind\": \"mobile\"\n",
      "        },\n",
      "        {\n",
      "            \"number\": \"ulyySRsw2USQSXU\",\n",
      "            \"kind\": \"work\"\n",
      "        },\n",
      "        {\n",
      "            \"number\": \"ohlI5t7mI\",\n",
      "            \"kind\": \"work\"\n",
      "        },\n",
      "        {\n",
      "            \"number\": \"T57omz\",\n",
      "            \"kind\": \"mobile\"\n",
      "        },\n",
      "        {\n",
      "            \"number\": \"8uRJ4\",\n",
      "            \"kind\": \"mobile\"\n",
      "        }\n",
      "    ]\n",
      "}\n"
     ]
    }
   ],
   "source": [
    "for _ in range(3):\n",
    "    contact = Contact.get_mock_object()\n",
    "    print(\"-\" * 72)\n",
    "    print(json.dumps(contact.to_primitive(), indent=4))"
   ]
  },
  {
   "cell_type": "markdown",
   "metadata": {},
   "source": [
    "## Overriding the Random Generator\n",
    "\n",
    "If we need to override some fields, we can create a dictionary and pass that into `get_mock_object()`:"
   ]
  },
  {
   "cell_type": "code",
   "execution_count": 9,
   "metadata": {},
   "outputs": [
    {
     "name": "stdout",
     "output_type": "stream",
     "text": [
      "{\n",
      "    \"name\": \"Johan\",\n",
      "    \"unixUser\": {\n",
      "        \"alias\": \"KWUQAK\",\n",
      "        \"is_admin\": false\n",
      "    },\n",
      "    \"phones\": []\n",
      "}\n"
     ]
    }
   ],
   "source": [
    "contact = Contact.get_mock_object(overrides={\"name\": \"Johan\"})\n",
    "print(json.dumps(contact.to_primitive(), indent=4))"
   ]
  },
  {
   "cell_type": "markdown",
   "metadata": {},
   "source": [
    "## Caveats\n",
    "\n",
    "Note that in the example above, the random models might not be valid. For example, the phone number field does not satisfy the regular expression:"
   ]
  },
  {
   "cell_type": "code",
   "execution_count": 10,
   "metadata": {},
   "outputs": [
    {
     "name": "stdout",
     "output_type": "stream",
     "text": [
      "{'number': 'QWh6q0f6dCbxRLc', 'kind': 'other'}\n",
      "Error: {\"number\": [\"String value did not match validation regex.\"]}\n"
     ]
    }
   ],
   "source": [
    "phone = Phone.get_mock_object()\n",
    "print(phone.to_primitive())\n",
    "try:\n",
    "    phone.validate()\n",
    "except schematics.exceptions.DataError as error:\n",
    "    print(f\"Error: {error}\")"
   ]
  },
  {
   "cell_type": "markdown",
   "metadata": {},
   "source": [
    "For this reason, if we want to generate our own valid models, we need to do it ourselves and do not rely on `get_mock_object`."
   ]
  },
  {
   "cell_type": "code",
   "execution_count": 11,
   "metadata": {},
   "outputs": [],
   "source": [
    "def generate_random_phone_number():\n",
    "    number = \"-\".join(\n",
    "        str(\"\".join(random.sample(\"0123456789\", n)))\n",
    "        for n in [3, 3, 4]\n",
    "    )\n",
    "    return number\n",
    "\n",
    "class Phone(schematics.Model):\n",
    "    number = schematics.types.StringType(regex=r\"\\d{3}-\\d{3}-\\d{4}\", required=True)\n",
    "    kind = schematics.types.StringType(required=True,choices=[\"mobile\", \"work\", \"home\", \"other\"])\n",
    "    \n",
    "    @classmethod\n",
    "    def get_mock_object(cls, context=None, overrides=None):\n",
    "        obj = super().get_mock_object(context=context, overrides=overrides or {})\n",
    "        try:\n",
    "            obj.validate()\n",
    "        except schematics.exceptions.DataError:\n",
    "            obj.number = generate_random_phone_number()\n",
    "        return obj"
   ]
  },
  {
   "cell_type": "code",
   "execution_count": 12,
   "metadata": {},
   "outputs": [
    {
     "name": "stdout",
     "output_type": "stream",
     "text": [
      "{'number': '970-428-3185', 'kind': 'home'}\n",
      "{'number': '153-486-5206', 'kind': 'work'}\n",
      "{'number': '652-834-5432', 'kind': 'other'}\n",
      "{'number': '816-301-6072', 'kind': 'home'}\n",
      "{'number': '584-847-1749', 'kind': 'mobile'}\n"
     ]
    }
   ],
   "source": [
    "for _ in range(5):\n",
    "    phone = Phone.get_mock_object()\n",
    "    print(phone.to_primitive())"
   ]
  }
 ],
 "metadata": {
  "kernelspec": {
   "display_name": "Python 3",
   "language": "python",
   "name": "python3"
  },
  "language_info": {
   "codemirror_mode": {
    "name": "ipython",
    "version": 3
   },
   "file_extension": ".py",
   "mimetype": "text/x-python",
   "name": "python",
   "nbconvert_exporter": "python",
   "pygments_lexer": "ipython3",
   "version": "3.7.3"
  }
 },
 "nbformat": 4,
 "nbformat_minor": 4
}
