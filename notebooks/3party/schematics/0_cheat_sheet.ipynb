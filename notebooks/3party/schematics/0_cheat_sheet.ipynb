{
 "cells": [
  {
   "cell_type": "markdown",
   "metadata": {},
   "source": [
    "# Schematics Cheat Sheet"
   ]
  },
  {
   "cell_type": "markdown",
   "metadata": {},
   "source": [
    "---\n",
    "## Types\n",
    "\n",
    "### BaseType\n",
    "\n",
    "`BaseType` come with the following parameters:\n",
    "\n",
    "- `choices`: A list of choices\n",
    "- `default`: default value, if not specified\n",
    "- `deserialize_from`\n",
    "- `export_level`\n",
    "- `messages`\n",
    "- `metadata`\n",
    "- `required`: Default is False\n",
    "- `serialize_when_none`: Default is True\n",
    "- `serialized_name`: If serialize name is different from field name\n",
    "- `validators`: List of `validate(value)` functions\n",
    "\n",
    "### Simple Types\n",
    "\n",
    "- `StringType(regex, max_length, min_length)`\n",
    "- `BooleanType`\n",
    "- `NumberType(min_value, max_value, strict)` -> `IntType`, `LongType`, `FloatType`, `DecimalType`\n",
    "\n",
    "### Date and Time Types\n",
    "\n",
    "- `DateType(formats)`\n",
    "- `DateTimeType(formats, serialized_format, parser, tzd, convert_tz, drop_tzinfo)`\n",
    "- `UTDateTimeType`\n",
    "- `TimeStampType`\n",
    "- `TimeDeltaType`\n",
    "- `fixed_timezone`\n",
    "\n",
    "### Networking and Internet Types\n",
    "\n",
    "- `IPAddressType(regex, max_length, min_length)`\n",
    "- `IPv4Type(regex, max_length, min_length)`\n",
    "- `IPv6Type(regex, max_length, min_length)`\n",
    "- `MACAddressType(regex, max_length, min_length)`\n",
    "- `URLType(fqdn=True, verify_exists=False)`\n",
    "- `EmailType(regex, max_length, min_length)`\n"
   ]
  },
  {
   "cell_type": "markdown",
   "metadata": {},
   "source": [
    "---\n",
    "## Validation\n",
    "\n",
    "We can validate the models using one or more of:\n",
    "\n",
    "- Regex\n",
    "- Validators (free function)\n",
    "- Method named `validate_<field-name>`\n",
    "- More info, see [validation.ipynb](validation.ipynb)\n",
    "\n",
    "### Validate Using Regex"
   ]
  },
  {
   "cell_type": "code",
   "execution_count": 1,
   "metadata": {},
   "outputs": [],
   "source": [
    "import schematics\n",
    "\n",
    "class UnixUser(schematics.Model):\n",
    "    name = schematics.types.StringType(regex=r\"[a-z][a-z0-9.-_]+\", required=True)"
   ]
  },
  {
   "cell_type": "markdown",
   "metadata": {},
   "source": [
    "### Validate Using Validators (Free Functions)"
   ]
  },
  {
   "cell_type": "code",
   "execution_count": 2,
   "metadata": {},
   "outputs": [],
   "source": [
    "def validate_phone_number(value):\n",
    "    \"\"\"Raise schematics.exceptions.ValidationError if failed.\"\"\"\n",
    "    \n",
    "class Phone(schematics.Model):\n",
    "    mobile = schematics.types.StringType(validators=[validate_phone_number])"
   ]
  },
  {
   "cell_type": "markdown",
   "metadata": {},
   "source": [
    "### Validate a Field Using `validate_<field-name>`"
   ]
  },
  {
   "cell_type": "code",
   "execution_count": 3,
   "metadata": {},
   "outputs": [],
   "source": [
    "class UnixUser(schematics.Model):\n",
    "    alias = schematics.types.StringType(required=True)\n",
    "    is_admin = schematics.types.BooleanType(default=False)\n",
    "    \n",
    "    def validate_is_admin(self, json_obj, is_admin_value):\n",
    "        \"\"\"Validate the field `is_admin`.\"\"\"\n",
    "        if json_obj[\"alias\"] == \"root\" and is_admin_value is not True:\n",
    "            raise schematics.exceptions.ValidationError(\"root must be an admin.\")"
   ]
  },
  {
   "cell_type": "markdown",
   "metadata": {},
   "source": [
    "### Validate Using Custom Type"
   ]
  },
  {
   "cell_type": "code",
   "execution_count": 4,
   "metadata": {},
   "outputs": [],
   "source": [
    "class SimpleUSPhoneType(schematics.types.StringType):\n",
    "    def validate_first_digit(self, value):\n",
    "        pass\n",
    "            \n",
    "    def validate_format(self, value):\n",
    "        pass\n",
    "    \n",
    "    # Write more validate_* if needed\n",
    "\n",
    "class Contact2(schematics.Model):\n",
    "    name = schematics.types.StringType(required=True)\n",
    "    mobile_phone = SimpleUSPhoneType()\n",
    "    work_phone = SimpleUSPhoneType()"
   ]
  },
  {
   "cell_type": "markdown",
   "metadata": {},
   "source": [
    "---\n",
    "## Nested Structures\n",
    "\n",
    "Reference: [nested.ipynb](nested.ipynb)"
   ]
  },
  {
   "cell_type": "code",
   "execution_count": 5,
   "metadata": {},
   "outputs": [],
   "source": [
    "class UnixUser(schematics.Model):\n",
    "    alias = schematics.types.StringType(required=True)\n",
    "    is_admin = schematics.types.BooleanType(default=False)\n",
    "    \n",
    "class Phone(schematics.Model):\n",
    "    number = schematics.types.StringType(regex=r\"\\d{3}-\\d{3}-\\d{4}\", required=True)\n",
    "    kind = schematics.types.StringType(choices=[\"mobile\", \"work\", \"home\", \"other\"])\n",
    "    \n",
    "class Contact(schematics.Model):\n",
    "    name = schematics.types.StringType(required=True)\n",
    "    \n",
    "    # Nested: A single object\n",
    "    unix_user = schematics.types.ModelType(UnixUser, serialized_name=\"unixUser\")\n",
    "    \n",
    "    # Nested: Many objects\n",
    "    phones = schematics.types.ListType(schematics.types.ModelType(Phone))"
   ]
  },
  {
   "cell_type": "markdown",
   "metadata": {},
   "source": [
    "---\n",
    "## Other Topics\n",
    "\n",
    "* Generate random models [link](random_models.ipynb)\n"
   ]
  },
  {
   "cell_type": "code",
   "execution_count": null,
   "metadata": {},
   "outputs": [],
   "source": []
  }
 ],
 "metadata": {
  "kernelspec": {
   "display_name": "Python 3",
   "language": "python",
   "name": "python3"
  },
  "language_info": {
   "codemirror_mode": {
    "name": "ipython",
    "version": 3
   },
   "file_extension": ".py",
   "mimetype": "text/x-python",
   "name": "python",
   "nbconvert_exporter": "python",
   "pygments_lexer": "ipython3",
   "version": "3.7.3"
  }
 },
 "nbformat": 4,
 "nbformat_minor": 4
}
