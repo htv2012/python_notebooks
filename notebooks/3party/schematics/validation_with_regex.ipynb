{
 "cells": [
  {
   "cell_type": "markdown",
   "metadata": {},
   "source": [
    "# Validation with Regular Expression\n",
    "\n",
    "Some field types come with the ability to specify a regular expression to validate. Consider the following example:"
   ]
  },
  {
   "cell_type": "code",
   "execution_count": 13,
   "metadata": {},
   "outputs": [],
   "source": [
    "import schematics\n",
    "\n",
    "\n",
    "def verify_it(model_instance):\n",
    "    try:\n",
    "        model_instance.validate()\n",
    "    except schematics.exceptions.DataError as error:\n",
    "        print(f\"Error: {error}\")\n",
    "    else:\n",
    "        print(\"Valid\")"
   ]
  },
  {
   "cell_type": "code",
   "execution_count": 14,
   "metadata": {},
   "outputs": [],
   "source": [
    "class UnixUser(schematics.Model):\n",
    "    name = schematics.types.StringType(regex=r\"[a-z][a-z0-9.-_]+\", required=True)"
   ]
  },
  {
   "cell_type": "code",
   "execution_count": 10,
   "metadata": {},
   "outputs": [
    {
     "name": "stdout",
     "output_type": "stream",
     "text": [
      "Valid\n"
     ]
    }
   ],
   "source": [
    "verify_it(UnixUser(dict(name=\"anna1\")))"
   ]
  },
  {
   "cell_type": "code",
   "execution_count": 11,
   "metadata": {},
   "outputs": [
    {
     "name": "stdout",
     "output_type": "stream",
     "text": [
      "Error: {\"name\": [\"String value did not match validation regex.\"]}\n"
     ]
    }
   ],
   "source": [
    "verify_it(UnixUser(dict(name=\"2be-or-not\")))"
   ]
  },
  {
   "cell_type": "code",
   "execution_count": 12,
   "metadata": {},
   "outputs": [
    {
     "name": "stdout",
     "output_type": "stream",
     "text": [
      "Error: {\"name\": [\"String value did not match validation regex.\"]}\n"
     ]
    }
   ],
   "source": [
    "verify_it(UnixUser(dict(name=\"MonkeyDo\")))"
   ]
  }
 ],
 "metadata": {
  "kernelspec": {
   "display_name": "Python 3",
   "language": "python",
   "name": "python3"
  },
  "language_info": {
   "codemirror_mode": {
    "name": "ipython",
    "version": 3
   },
   "file_extension": ".py",
   "mimetype": "text/x-python",
   "name": "python",
   "nbconvert_exporter": "python",
   "pygments_lexer": "ipython3",
   "version": "3.7.3"
  }
 },
 "nbformat": 4,
 "nbformat_minor": 4
}
