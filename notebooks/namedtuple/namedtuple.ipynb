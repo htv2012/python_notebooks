{
 "cells": [
  {
   "cell_type": "markdown",
   "metadata": {},
   "source": [
    "# Introduction\n",
    "\n",
    "When dealing with rows of data such as those in a database, we mostly use tuple to represent them. The problem with tuple is in the indexing: `user[1]` is not as descriptive as `user.alias`. From the `collections` libray, we can use `namedtuple` for this purpose."
   ]
  },
  {
   "cell_type": "code",
   "execution_count": 1,
   "metadata": {},
   "outputs": [
    {
     "name": "stdout",
     "output_type": "stream",
     "text": [
      "User(uid='501', alias='jwick', shell='bash')\n"
     ]
    }
   ],
   "source": [
    "from collections import namedtuple\n",
    "\n",
    "# Define a named tuple. The first parameter is the name of the type\n",
    "# and the second parameter is the list of field names\n",
    "User = namedtuple('User', 'uid,alias,shell')\n",
    "\n",
    "# Create a new user\n",
    "user1 = User('501', 'jwick', 'bash')\n",
    "print(user1)"
   ]
  },
  {
   "cell_type": "code",
   "execution_count": 2,
   "metadata": {},
   "outputs": [
    {
     "name": "stdout",
     "output_type": "stream",
     "text": [
      "UID: 501\n",
      "Alias: jwick\n",
      "Shell: bash\n"
     ]
    }
   ],
   "source": [
    "# We can treat the `user1` object as a tuple:\n",
    "print('UID:', user1[0])\n",
    "print('Alias:', user1[1])\n",
    "print('Shell:', user1[2])"
   ]
  },
  {
   "cell_type": "code",
   "execution_count": 3,
   "metadata": {},
   "outputs": [
    {
     "name": "stdout",
     "output_type": "stream",
     "text": [
      "UID: 501\n",
      "Alias: jwick\n",
      "Shell: bash\n"
     ]
    }
   ],
   "source": [
    "# Or we can treat it as an object with fields\n",
    "print('UID:', user1.uid)\n",
    "print('Alias:', user1.alias)\n",
    "print('Shell:', user1.shell)"
   ]
  },
  {
   "cell_type": "code",
   "execution_count": 4,
   "metadata": {},
   "outputs": [
    {
     "name": "stdout",
     "output_type": "stream",
     "text": [
      "UID: 501\n",
      "Alias: jwick\n",
      "Shell: bash\n"
     ]
    }
   ],
   "source": [
    "# Becase it is a tuple, we can unpack\n",
    "uid, alias, shell = user1\n",
    "print('UID:', uid)\n",
    "print('Alias:', alias)\n",
    "print('Shell:', shell)"
   ]
  },
  {
   "cell_type": "code",
   "execution_count": 5,
   "metadata": {},
   "outputs": [
    {
     "name": "stdout",
     "output_type": "stream",
     "text": [
      "Error modifying the object: can't set attribute\n"
     ]
    }
   ],
   "source": [
    "# Also, because it is a tuple, we cannot change the fields\n",
    "try:\n",
    "    user1.uid = '502'\n",
    "except AttributeError as e:\n",
    "    print('Error modifying the object:', e)\n",
    "    "
   ]
  },
  {
   "cell_type": "markdown",
   "metadata": {},
   "source": [
    "# Tips and Tricks"
   ]
  },
  {
   "cell_type": "markdown",
   "metadata": {},
   "source": [
    "## Turn a Tuple into NamedTuple\n",
    "\n",
    "Due to the convenience of referencing the elements in a tuple by name, we often find it desirable to convert a regular tuple to named tuple. There are a couple of ways to accomplish this. The first is to call the constructor:"
   ]
  },
  {
   "cell_type": "code",
   "execution_count": 6,
   "metadata": {},
   "outputs": [
    {
     "data": {
      "text/plain": [
       "User(uid='502', alias='kcarpenter', shell='tcsh')"
      ]
     },
     "execution_count": 6,
     "metadata": {},
     "output_type": "execute_result"
    }
   ],
   "source": [
    "tuple2 = ('502', 'kcarpenter', 'tcsh')\n",
    "user2 = User(*tuple2)\n",
    "user2"
   ]
  },
  {
   "cell_type": "markdown",
   "metadata": {},
   "source": [
    "The second way is to call the `_make()` method:"
   ]
  },
  {
   "cell_type": "code",
   "execution_count": 7,
   "metadata": {},
   "outputs": [
    {
     "data": {
      "text/plain": [
       "User(uid='503', alias='rcarpenter', shell='bash')"
      ]
     },
     "execution_count": 7,
     "metadata": {},
     "output_type": "execute_result"
    }
   ],
   "source": [
    "tuple3 = ('503', 'rcarpenter', 'bash')\n",
    "user3 = User._make(tuple3)\n",
    "user3"
   ]
  },
  {
   "cell_type": "markdown",
   "metadata": {},
   "source": [
    "The minor difference between them is the constructor (`User`) takes in individual elements as parameters whereas `User._make()` takes it a tuple. This is handy for CSV and database applications. For example, to convert each row of a CSV into a named tuple:"
   ]
  },
  {
   "cell_type": "code",
   "execution_count": 12,
   "metadata": {},
   "outputs": [
    {
     "name": "stdout",
     "output_type": "stream",
     "text": [
      "User(uid='501', alias='jwick', shell='bash')\n",
      "User(uid='502', alias='kcarpenter', shell='tcsh')\n",
      "User(uid='503', alias='rcarpenter', shell='bash')\n"
     ]
    }
   ],
   "source": [
    "import csv\n",
    "from collections import namedtuple\n",
    "from io import StringIO\n",
    "\n",
    "User = namedtuple('User', 'uid,alias,shell')\n",
    "\n",
    "data = \"\"\"501,jwick,bash\n",
    "502,kcarpenter,tcsh\n",
    "503,rcarpenter,bash\"\"\"\n",
    "\n",
    "reader = map(User._make, csv.reader(StringIO(data)))\n",
    "for row in reader:\n",
    "    print(row)"
   ]
  },
  {
   "cell_type": "markdown",
   "metadata": {},
   "source": [
    "## Modify Fields\n",
    "\n",
    "A named tuple is a tuple, that means we cannot modify its elements (or field). What we can do is to create a new named tuple with some modifications:"
   ]
  },
  {
   "cell_type": "code",
   "execution_count": 14,
   "metadata": {},
   "outputs": [
    {
     "data": {
      "text/plain": [
       "User(uid='502', alias='kcarpenter', shell='bash')"
      ]
     },
     "execution_count": 14,
     "metadata": {},
     "output_type": "execute_result"
    }
   ],
   "source": [
    "from collections import namedtuple\n",
    "\n",
    "User = namedtuple('User', 'uid,alias,shell')\n",
    "user1 = User('501', 'jwick', 'bash')\n",
    "user2 = user1._replace(uid='502', alias='kcarpenter')\n",
    "user2"
   ]
  }
 ],
 "metadata": {
  "kernelspec": {
   "display_name": "Python 3",
   "language": "python",
   "name": "python3"
  },
  "language_info": {
   "codemirror_mode": {
    "name": "ipython",
    "version": 3
   },
   "file_extension": ".py",
   "mimetype": "text/x-python",
   "name": "python",
   "nbconvert_exporter": "python",
   "pygments_lexer": "ipython3",
   "version": "3.7.0"
  }
 },
 "nbformat": 4,
 "nbformat_minor": 2
}
