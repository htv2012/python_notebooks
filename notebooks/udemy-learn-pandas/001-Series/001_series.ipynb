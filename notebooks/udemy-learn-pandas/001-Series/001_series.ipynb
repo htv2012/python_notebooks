{
 "cells": [
  {
   "cell_type": "markdown",
   "id": "f583e977-6bb8-4066-bb2d-ef068b4bb539",
   "metadata": {},
   "source": [
    "## Chapter 5 - Introduction"
   ]
  },
  {
   "cell_type": "code",
   "execution_count": 1,
   "id": "104f3c6d-1644-4913-b8af-dd1d2347ff00",
   "metadata": {},
   "outputs": [],
   "source": [
    "import pandas as pd"
   ]
  },
  {
   "cell_type": "code",
   "execution_count": 2,
   "id": "164561a0-76d4-478c-bd35-1bd38303d67e",
   "metadata": {},
   "outputs": [],
   "source": [
    "numbers = [1, 2, 3, 4, 5]"
   ]
  },
  {
   "cell_type": "code",
   "execution_count": 3,
   "id": "a4ae39ea-a46b-4474-ba24-50e994cb1e0f",
   "metadata": {},
   "outputs": [
    {
     "data": {
      "text/plain": [
       "0    1\n",
       "1    2\n",
       "2    3\n",
       "3    4\n",
       "4    5\n",
       "dtype: int64"
      ]
     },
     "execution_count": 3,
     "metadata": {},
     "output_type": "execute_result"
    }
   ],
   "source": [
    "pd.Series(numbers)"
   ]
  },
  {
   "cell_type": "code",
   "execution_count": 4,
   "id": "ad57a6eb-9f8c-4b56-8f86-292a5fad50b3",
   "metadata": {},
   "outputs": [
    {
     "data": {
      "text/plain": [
       "['a', 'b', 'c', 'd', 'e']"
      ]
     },
     "execution_count": 4,
     "metadata": {},
     "output_type": "execute_result"
    }
   ],
   "source": [
    "letters = list(\"abcde\")\n",
    "letters"
   ]
  },
  {
   "cell_type": "code",
   "execution_count": 5,
   "id": "cf1ba26c-f392-4fd6-840c-64f7b38f15d7",
   "metadata": {},
   "outputs": [
    {
     "data": {
      "text/plain": [
       "1    a\n",
       "2    b\n",
       "3    c\n",
       "4    d\n",
       "5    e\n",
       "dtype: object"
      ]
     },
     "execution_count": 5,
     "metadata": {},
     "output_type": "execute_result"
    }
   ],
   "source": [
    "pd.Series(data=letters, index=numbers)"
   ]
  },
  {
   "cell_type": "code",
   "execution_count": 6,
   "id": "ecf7a0df-0370-4f6b-8ec3-e4000686d307",
   "metadata": {},
   "outputs": [
    {
     "data": {
      "text/plain": [
       "a    1\n",
       "b    2\n",
       "c    3\n",
       "d    4\n",
       "e    5\n",
       "dtype: int64"
      ]
     },
     "execution_count": 6,
     "metadata": {},
     "output_type": "execute_result"
    }
   ],
   "source": [
    "pd.Series(data=numbers, index=letters)"
   ]
  },
  {
   "cell_type": "code",
   "execution_count": 7,
   "id": "6be3ad01-2eca-4261-a6d7-bdc5785770da",
   "metadata": {},
   "outputs": [
    {
     "data": {
      "text/plain": [
       "letter1    a\n",
       "letter2    b\n",
       "letter3    c\n",
       "letter4    d\n",
       "letter5    e\n",
       "dtype: object"
      ]
     },
     "execution_count": 7,
     "metadata": {},
     "output_type": "execute_result"
    }
   ],
   "source": [
    "# Another example of index\n",
    "pd.Series(data=letters, index=\"letter1 letter2 letter3 letter4 letter5\".split())"
   ]
  },
  {
   "cell_type": "code",
   "execution_count": 8,
   "id": "edaf3f9b-1c43-41ac-bb0e-0b97834d564c",
   "metadata": {},
   "outputs": [],
   "source": [
    "# Series from dict\n",
    "data = {\"name\": \"Luigi\", \"age\": 26, \"work\": \"Unemployed\"}"
   ]
  },
  {
   "cell_type": "code",
   "execution_count": 9,
   "id": "ef047e7d-1279-4c24-bb95-f3e92238d732",
   "metadata": {},
   "outputs": [
    {
     "data": {
      "text/plain": [
       "name         Luigi\n",
       "age             26\n",
       "work    Unemployed\n",
       "dtype: object"
      ]
     },
     "execution_count": 9,
     "metadata": {},
     "output_type": "execute_result"
    }
   ],
   "source": [
    "pd.Series(data=data)"
   ]
  },
  {
   "cell_type": "code",
   "execution_count": 10,
   "id": "5c1cb940-e3c8-4036-b036-758aff0e04b9",
   "metadata": {},
   "outputs": [
    {
     "data": {
      "text/plain": [
       "name    Luigi\n",
       "age        26\n",
       "job       NaN\n",
       "dtype: object"
      ]
     },
     "execution_count": 10,
     "metadata": {},
     "output_type": "execute_result"
    }
   ],
   "source": [
    "# Alternate index\n",
    "pd.Series(data=data, index=\"name age job\".split())"
   ]
  },
  {
   "cell_type": "markdown",
   "id": "f9069cfd-8baa-413a-94e2-70bb84c4ea87",
   "metadata": {},
   "source": [
    "## Chapter 6 - Attributes"
   ]
  },
  {
   "cell_type": "code",
   "execution_count": 11,
   "id": "b086d7f6-ca7c-4e83-8dd7-8f86c6129bfc",
   "metadata": {},
   "outputs": [],
   "source": [
    "import pandas as pd"
   ]
  },
  {
   "cell_type": "code",
   "execution_count": 12,
   "id": "e4b8e058-e33e-4abe-8e61-39f85f84b35a",
   "metadata": {},
   "outputs": [],
   "source": [
    "numbers = [1, 2, 3, 4, 5]\n",
    "letters = list(\"abcde\")"
   ]
  },
  {
   "cell_type": "code",
   "execution_count": 13,
   "id": "4258e759-e256-418b-8192-633afbd8d56e",
   "metadata": {},
   "outputs": [
    {
     "data": {
      "text/plain": [
       "0    1\n",
       "1    2\n",
       "2    3\n",
       "3    4\n",
       "4    5\n",
       "dtype: int64"
      ]
     },
     "execution_count": 13,
     "metadata": {},
     "output_type": "execute_result"
    }
   ],
   "source": [
    "number_series = pd.Series(numbers)\n",
    "number_series"
   ]
  },
  {
   "cell_type": "code",
   "execution_count": 14,
   "id": "6606c14b-49b9-4b0d-b7d3-f2dc91f466c9",
   "metadata": {},
   "outputs": [
    {
     "data": {
      "text/plain": [
       "0    a\n",
       "1    b\n",
       "2    c\n",
       "3    d\n",
       "4    e\n",
       "dtype: object"
      ]
     },
     "execution_count": 14,
     "metadata": {},
     "output_type": "execute_result"
    }
   ],
   "source": [
    "letter_series = pd.Series(letters)\n",
    "letter_series"
   ]
  },
  {
   "cell_type": "code",
   "execution_count": 15,
   "id": "456bce7c-0ce6-4358-be00-23b370abea62",
   "metadata": {},
   "outputs": [
    {
     "data": {
      "text/plain": [
       "dtype('int64')"
      ]
     },
     "execution_count": 15,
     "metadata": {},
     "output_type": "execute_result"
    }
   ],
   "source": [
    "number_series.dtype"
   ]
  },
  {
   "cell_type": "code",
   "execution_count": 16,
   "id": "8d33aec2-4263-4d69-b887-a6b90a5ec047",
   "metadata": {},
   "outputs": [
    {
     "data": {
      "text/plain": [
       "dtype('O')"
      ]
     },
     "execution_count": 16,
     "metadata": {},
     "output_type": "execute_result"
    }
   ],
   "source": [
    "letter_series.dtype"
   ]
  },
  {
   "cell_type": "code",
   "execution_count": 17,
   "id": "7a0517e2-b6da-4ea1-992b-511184edba8b",
   "metadata": {},
   "outputs": [
    {
     "data": {
      "text/plain": [
       "array(['a', 'b', 'c', 'd', 'e'], dtype=object)"
      ]
     },
     "execution_count": 17,
     "metadata": {},
     "output_type": "execute_result"
    }
   ],
   "source": [
    "letter_series.values"
   ]
  },
  {
   "cell_type": "code",
   "execution_count": 18,
   "id": "c31ac745-48bd-495e-8343-229a1993d5ea",
   "metadata": {},
   "outputs": [
    {
     "data": {
      "text/plain": [
       "RangeIndex(start=0, stop=5, step=1)"
      ]
     },
     "execution_count": 18,
     "metadata": {},
     "output_type": "execute_result"
    }
   ],
   "source": [
    "number_series.index"
   ]
  },
  {
   "cell_type": "code",
   "execution_count": 19,
   "id": "f0cf13dd-de7e-4b9c-8c82-d443caa73f20",
   "metadata": {},
   "outputs": [
    {
     "data": {
      "text/plain": [
       "1       a\n",
       "2       b\n",
       "3    None\n",
       "dtype: object"
      ]
     },
     "execution_count": 19,
     "metadata": {},
     "output_type": "execute_result"
    }
   ],
   "source": [
    "# Nan: Missing data\n",
    "incomplete_series = pd.Series(data=[\"a\", \"b\", None], index=[1, 2, 3])\n",
    "incomplete_series"
   ]
  },
  {
   "cell_type": "code",
   "execution_count": 20,
   "id": "14d15e50-9353-42ff-a875-30bd39da76b0",
   "metadata": {},
   "outputs": [
    {
     "data": {
      "text/plain": [
       "True"
      ]
     },
     "execution_count": 20,
     "metadata": {},
     "output_type": "execute_result"
    }
   ],
   "source": [
    "incomplete_series.hasnans"
   ]
  },
  {
   "cell_type": "code",
   "execution_count": 21,
   "id": "ece6b531-0cb2-414d-ae72-3e5a09009a5c",
   "metadata": {},
   "outputs": [
    {
     "data": {
      "text/plain": [
       "(5,)"
      ]
     },
     "execution_count": 21,
     "metadata": {},
     "output_type": "execute_result"
    }
   ],
   "source": [
    "# Shape: dimension: for a series, it will return a sinle tuple\n",
    "# For a dataframe, it will return multiple tuples\n",
    "number_series.shape"
   ]
  },
  {
   "cell_type": "code",
   "execution_count": 22,
   "id": "3b8a6c25-5345-4b19-8a21-38dfef9ad320",
   "metadata": {},
   "outputs": [
    {
     "data": {
      "text/plain": [
       "5"
      ]
     },
     "execution_count": 22,
     "metadata": {},
     "output_type": "execute_result"
    }
   ],
   "source": [
    "# Size: length of the series\n",
    "number_series.size"
   ]
  },
  {
   "cell_type": "markdown",
   "id": "b1ffb1db-d414-4d15-b80e-eb6beb7d19e8",
   "metadata": {},
   "source": [
    "## Chapter 7 - Methods"
   ]
  },
  {
   "cell_type": "code",
   "execution_count": 23,
   "id": "ee486e70-d46f-4f48-996c-f6ea63b131e1",
   "metadata": {},
   "outputs": [],
   "source": [
    "import pandas as pd"
   ]
  },
  {
   "cell_type": "code",
   "execution_count": 24,
   "id": "e9c67288-230c-4772-9e1a-217d8f13bef2",
   "metadata": {},
   "outputs": [],
   "source": [
    "values = pd.Series(data=[1.5, 2.5, 0.5, None, 4.12345, 1.0])"
   ]
  },
  {
   "cell_type": "code",
   "execution_count": 25,
   "id": "33b1943f-6fd1-43db-b98d-446533cda4f1",
   "metadata": {},
   "outputs": [
    {
     "data": {
      "text/plain": [
       "0    1.50000\n",
       "1    2.50000\n",
       "2    0.50000\n",
       "3        NaN\n",
       "4    4.12345\n",
       "5    1.00000\n",
       "dtype: float64"
      ]
     },
     "execution_count": 25,
     "metadata": {},
     "output_type": "execute_result"
    }
   ],
   "source": [
    "values"
   ]
  },
  {
   "cell_type": "code",
   "execution_count": 26,
   "id": "01562822-e9d6-4718-afba-0e27c2dea4c0",
   "metadata": {},
   "outputs": [
    {
     "data": {
      "text/plain": [
       "np.float64(4.12345)"
      ]
     },
     "execution_count": 26,
     "metadata": {},
     "output_type": "execute_result"
    }
   ],
   "source": [
    "values.max()"
   ]
  },
  {
   "cell_type": "code",
   "execution_count": 27,
   "id": "5730591a-d3f8-4523-ac6b-ed385672ab60",
   "metadata": {},
   "outputs": [
    {
     "data": {
      "text/plain": [
       "np.float64(0.5)"
      ]
     },
     "execution_count": 27,
     "metadata": {},
     "output_type": "execute_result"
    }
   ],
   "source": [
    "values.min()"
   ]
  },
  {
   "cell_type": "code",
   "execution_count": 28,
   "id": "c190f0f4-4d7e-43ea-b199-414e7744c704",
   "metadata": {},
   "outputs": [
    {
     "data": {
      "text/plain": [
       "np.float64(9.62345)"
      ]
     },
     "execution_count": 28,
     "metadata": {},
     "output_type": "execute_result"
    }
   ],
   "source": [
    "values.sum()"
   ]
  },
  {
   "cell_type": "code",
   "execution_count": 29,
   "id": "0981601c-2d7a-4d5c-94c3-587037f45e58",
   "metadata": {},
   "outputs": [
    {
     "data": {
      "text/plain": [
       "np.float64(1.92469)"
      ]
     },
     "execution_count": 29,
     "metadata": {},
     "output_type": "execute_result"
    }
   ],
   "source": [
    "values.mean()"
   ]
  },
  {
   "cell_type": "code",
   "execution_count": 30,
   "id": "fcb88d9b-48d9-41e9-9998-221019d26c8b",
   "metadata": {},
   "outputs": [
    {
     "data": {
      "text/plain": [
       "(4, 2)"
      ]
     },
     "execution_count": 30,
     "metadata": {},
     "output_type": "execute_result"
    }
   ],
   "source": [
    "values.idxmax(), values.idxmin()"
   ]
  },
  {
   "cell_type": "code",
   "execution_count": 31,
   "id": "a521c854-6180-4886-a1dd-5fecccb76338",
   "metadata": {},
   "outputs": [
    {
     "data": {
      "text/plain": [
       "0    False\n",
       "1    False\n",
       "2    False\n",
       "3     True\n",
       "4    False\n",
       "5    False\n",
       "dtype: bool"
      ]
     },
     "execution_count": 31,
     "metadata": {},
     "output_type": "execute_result"
    }
   ],
   "source": [
    "values.isnull()"
   ]
  },
  {
   "cell_type": "code",
   "execution_count": 32,
   "id": "07aaa9ea-2b84-4451-9f1e-d2389a09a2b4",
   "metadata": {},
   "outputs": [
    {
     "data": {
      "text/plain": [
       "0    2.0\n",
       "1    2.0\n",
       "2    0.0\n",
       "3    NaN\n",
       "4    4.0\n",
       "5    1.0\n",
       "dtype: float64"
      ]
     },
     "execution_count": 32,
     "metadata": {},
     "output_type": "execute_result"
    }
   ],
   "source": [
    "values.round()"
   ]
  },
  {
   "cell_type": "code",
   "execution_count": 33,
   "id": "0790017f-351a-4a86-b597-10ab823e0c88",
   "metadata": {},
   "outputs": [
    {
     "data": {
      "text/plain": [
       "0    1.50\n",
       "1    2.50\n",
       "2    0.50\n",
       "3     NaN\n",
       "4    4.12\n",
       "5    1.00\n",
       "dtype: float64"
      ]
     },
     "execution_count": 33,
     "metadata": {},
     "output_type": "execute_result"
    }
   ],
   "source": [
    "values.round(decimals=2)"
   ]
  },
  {
   "cell_type": "markdown",
   "id": "77d030d5-7ace-41cd-9d1b-c854b847d9e1",
   "metadata": {},
   "source": [
    "## Chapter 8 - Handling CSV Files\n",
    "\n",
    "Data from https://www.kaggle.com/datasets/tarundalal/100-richest-people-in-world"
   ]
  },
  {
   "cell_type": "code",
   "execution_count": 34,
   "id": "8f3b5082-1e0b-4fd4-9532-db2e6bed5bd4",
   "metadata": {},
   "outputs": [],
   "source": [
    "import pandas as pd"
   ]
  },
  {
   "cell_type": "code",
   "execution_count": 35,
   "id": "5d348601-64e4-4bef-9d42-4a649717629d",
   "metadata": {},
   "outputs": [
    {
     "data": {
      "text/plain": [
       "0                     Elon Musk\n",
       "1                    Jeff Bezos\n",
       "2      Bernard Arnault & family\n",
       "3                    Bill Gates\n",
       "4                Warren Buffett\n",
       "                 ...           \n",
       "96             Vladimir Potanin\n",
       "97         Harold Hamm & family\n",
       "98                 Sun Piaoyang\n",
       "99           Luo Liguo & family\n",
       "100                   Peter Woo\n",
       "Name: Name, Length: 101, dtype: object"
      ]
     },
     "execution_count": 35,
     "metadata": {},
     "output_type": "execute_result"
    }
   ],
   "source": [
    "# read_csv() returns a DataFrame, squeeze() returns a Series\n",
    "richest = pd.read_csv(\"TopRichestInWorld.csv\", usecols=[\"Name\"]).squeeze()\n",
    "richest"
   ]
  },
  {
   "cell_type": "code",
   "execution_count": 36,
   "id": "00b5e5f8-8c3d-4c59-af87-653a997769de",
   "metadata": {},
   "outputs": [
    {
     "data": {
      "text/plain": [
       "pandas.core.series.Series"
      ]
     },
     "execution_count": 36,
     "metadata": {},
     "output_type": "execute_result"
    }
   ],
   "source": [
    "type(richest)"
   ]
  },
  {
   "cell_type": "code",
   "execution_count": 37,
   "id": "13440715-5e15-4be2-9da8-afc62b56ea7f",
   "metadata": {},
   "outputs": [],
   "source": [
    "# Save to a CSV\n",
    "richest.to_csv(\"names.txt\", index=False)"
   ]
  },
  {
   "cell_type": "code",
   "execution_count": 38,
   "id": "446d62be-393b-4f93-a5d5-f80214aae0c4",
   "metadata": {},
   "outputs": [
    {
     "data": {
      "text/html": [
       "<div>\n",
       "<style scoped>\n",
       "    .dataframe tbody tr th:only-of-type {\n",
       "        vertical-align: middle;\n",
       "    }\n",
       "\n",
       "    .dataframe tbody tr th {\n",
       "        vertical-align: top;\n",
       "    }\n",
       "\n",
       "    .dataframe thead th {\n",
       "        text-align: right;\n",
       "    }\n",
       "</style>\n",
       "<table border=\"1\" class=\"dataframe\">\n",
       "  <thead>\n",
       "    <tr style=\"text-align: right;\">\n",
       "      <th></th>\n",
       "      <th>Name</th>\n",
       "    </tr>\n",
       "  </thead>\n",
       "  <tbody>\n",
       "    <tr>\n",
       "      <th>0</th>\n",
       "      <td>Elon Musk</td>\n",
       "    </tr>\n",
       "    <tr>\n",
       "      <th>1</th>\n",
       "      <td>Jeff Bezos</td>\n",
       "    </tr>\n",
       "    <tr>\n",
       "      <th>2</th>\n",
       "      <td>Bernard Arnault &amp; family</td>\n",
       "    </tr>\n",
       "    <tr>\n",
       "      <th>3</th>\n",
       "      <td>Bill Gates</td>\n",
       "    </tr>\n",
       "    <tr>\n",
       "      <th>4</th>\n",
       "      <td>Warren Buffett</td>\n",
       "    </tr>\n",
       "    <tr>\n",
       "      <th>...</th>\n",
       "      <td>...</td>\n",
       "    </tr>\n",
       "    <tr>\n",
       "      <th>96</th>\n",
       "      <td>Vladimir Potanin</td>\n",
       "    </tr>\n",
       "    <tr>\n",
       "      <th>97</th>\n",
       "      <td>Harold Hamm &amp; family</td>\n",
       "    </tr>\n",
       "    <tr>\n",
       "      <th>98</th>\n",
       "      <td>Sun Piaoyang</td>\n",
       "    </tr>\n",
       "    <tr>\n",
       "      <th>99</th>\n",
       "      <td>Luo Liguo &amp; family</td>\n",
       "    </tr>\n",
       "    <tr>\n",
       "      <th>100</th>\n",
       "      <td>Peter Woo</td>\n",
       "    </tr>\n",
       "  </tbody>\n",
       "</table>\n",
       "<p>101 rows × 1 columns</p>\n",
       "</div>"
      ],
      "text/plain": [
       "                         Name\n",
       "0                   Elon Musk\n",
       "1                  Jeff Bezos\n",
       "2    Bernard Arnault & family\n",
       "3                  Bill Gates\n",
       "4              Warren Buffett\n",
       "..                        ...\n",
       "96           Vladimir Potanin\n",
       "97       Harold Hamm & family\n",
       "98               Sun Piaoyang\n",
       "99         Luo Liguo & family\n",
       "100                 Peter Woo\n",
       "\n",
       "[101 rows x 1 columns]"
      ]
     },
     "execution_count": 38,
     "metadata": {},
     "output_type": "execute_result"
    }
   ],
   "source": [
    "# Load it back\n",
    "people = pd.read_csv(\"names.txt\")\n",
    "people"
   ]
  },
  {
   "cell_type": "code",
   "execution_count": 39,
   "id": "3c8ae4ce-e32f-4252-baca-1f74015324cc",
   "metadata": {},
   "outputs": [
    {
     "data": {
      "text/plain": [
       "pandas.core.frame.DataFrame"
      ]
     },
     "execution_count": 39,
     "metadata": {},
     "output_type": "execute_result"
    }
   ],
   "source": [
    "# It should be a DataFram\n",
    "type(people)"
   ]
  },
  {
   "cell_type": "code",
   "execution_count": 40,
   "id": "b16f4702-8541-4ad3-8f67-1c86a23b413b",
   "metadata": {},
   "outputs": [
    {
     "data": {
      "text/plain": [
       "0                     Elon Musk\n",
       "1                    Jeff Bezos\n",
       "2      Bernard Arnault & family\n",
       "3                    Bill Gates\n",
       "4                Warren Buffett\n",
       "                 ...           \n",
       "96             Vladimir Potanin\n",
       "97         Harold Hamm & family\n",
       "98                 Sun Piaoyang\n",
       "99           Luo Liguo & family\n",
       "100                   Peter Woo\n",
       "Name: Name, Length: 101, dtype: object"
      ]
     },
     "execution_count": 40,
     "metadata": {},
     "output_type": "execute_result"
    }
   ],
   "source": [
    "# Read csv, but use squeeze() to get series back\n",
    "people = pd.read_csv(\"names.txt\").squeeze()\n",
    "people"
   ]
  },
  {
   "cell_type": "code",
   "execution_count": 41,
   "id": "af545b2b-9d21-4182-a4b6-1ce8c760213e",
   "metadata": {},
   "outputs": [
    {
     "data": {
      "text/plain": [
       "pandas.core.series.Series"
      ]
     },
     "execution_count": 41,
     "metadata": {},
     "output_type": "execute_result"
    }
   ],
   "source": [
    "type(people)"
   ]
  },
  {
   "cell_type": "markdown",
   "id": "287992ce-d597-49af-8774-e5b78df02aff",
   "metadata": {},
   "source": [
    "## Chapter 9 - head() and tail()"
   ]
  },
  {
   "cell_type": "code",
   "execution_count": 42,
   "id": "fef887b3-b9f8-470d-82da-51aada1894d2",
   "metadata": {},
   "outputs": [],
   "source": [
    "import pandas as pd"
   ]
  },
  {
   "cell_type": "code",
   "execution_count": 43,
   "id": "484b37b0-fe95-434a-8a3a-b4da21682ce2",
   "metadata": {},
   "outputs": [
    {
     "data": {
      "text/html": [
       "<div>\n",
       "<style scoped>\n",
       "    .dataframe tbody tr th:only-of-type {\n",
       "        vertical-align: middle;\n",
       "    }\n",
       "\n",
       "    .dataframe tbody tr th {\n",
       "        vertical-align: top;\n",
       "    }\n",
       "\n",
       "    .dataframe thead th {\n",
       "        text-align: right;\n",
       "    }\n",
       "</style>\n",
       "<table border=\"1\" class=\"dataframe\">\n",
       "  <thead>\n",
       "    <tr style=\"text-align: right;\">\n",
       "      <th></th>\n",
       "      <th>Name</th>\n",
       "      <th>NetWorth</th>\n",
       "      <th>Age</th>\n",
       "      <th>Country/Territory</th>\n",
       "      <th>Source</th>\n",
       "      <th>Industry</th>\n",
       "    </tr>\n",
       "  </thead>\n",
       "  <tbody>\n",
       "    <tr>\n",
       "      <th>0</th>\n",
       "      <td>Elon Musk</td>\n",
       "      <td>$219,000,000,000</td>\n",
       "      <td>50</td>\n",
       "      <td>United States</td>\n",
       "      <td>Tesla, SpaceX</td>\n",
       "      <td>Automotive</td>\n",
       "    </tr>\n",
       "    <tr>\n",
       "      <th>1</th>\n",
       "      <td>Jeff Bezos</td>\n",
       "      <td>$171,000,000,000</td>\n",
       "      <td>58</td>\n",
       "      <td>United States</td>\n",
       "      <td>Amazon</td>\n",
       "      <td>Technology</td>\n",
       "    </tr>\n",
       "    <tr>\n",
       "      <th>2</th>\n",
       "      <td>Bernard Arnault &amp; family</td>\n",
       "      <td>$158,000,000,000</td>\n",
       "      <td>73</td>\n",
       "      <td>France</td>\n",
       "      <td>LVMH</td>\n",
       "      <td>Fashion &amp; Retail</td>\n",
       "    </tr>\n",
       "    <tr>\n",
       "      <th>3</th>\n",
       "      <td>Bill Gates</td>\n",
       "      <td>$129,000,000,000</td>\n",
       "      <td>66</td>\n",
       "      <td>United States</td>\n",
       "      <td>Microsoft</td>\n",
       "      <td>Technology</td>\n",
       "    </tr>\n",
       "    <tr>\n",
       "      <th>4</th>\n",
       "      <td>Warren Buffett</td>\n",
       "      <td>$118,000,000,000</td>\n",
       "      <td>91</td>\n",
       "      <td>United States</td>\n",
       "      <td>Berkshire Hathaway</td>\n",
       "      <td>Finance &amp; Investments</td>\n",
       "    </tr>\n",
       "    <tr>\n",
       "      <th>...</th>\n",
       "      <td>...</td>\n",
       "      <td>...</td>\n",
       "      <td>...</td>\n",
       "      <td>...</td>\n",
       "      <td>...</td>\n",
       "      <td>...</td>\n",
       "    </tr>\n",
       "    <tr>\n",
       "      <th>96</th>\n",
       "      <td>Vladimir Potanin</td>\n",
       "      <td>$17,300,000,000</td>\n",
       "      <td>61</td>\n",
       "      <td>Russia</td>\n",
       "      <td>metals</td>\n",
       "      <td>Metals &amp; Mining</td>\n",
       "    </tr>\n",
       "    <tr>\n",
       "      <th>97</th>\n",
       "      <td>Harold Hamm &amp; family</td>\n",
       "      <td>$17,200,000,000</td>\n",
       "      <td>76</td>\n",
       "      <td>United States</td>\n",
       "      <td>oil &amp; gas</td>\n",
       "      <td>Energy</td>\n",
       "    </tr>\n",
       "    <tr>\n",
       "      <th>98</th>\n",
       "      <td>Sun Piaoyang</td>\n",
       "      <td>$17,100,000,000</td>\n",
       "      <td>63</td>\n",
       "      <td>China</td>\n",
       "      <td>pharmaceuticals</td>\n",
       "      <td>Healthcare</td>\n",
       "    </tr>\n",
       "    <tr>\n",
       "      <th>99</th>\n",
       "      <td>Luo Liguo &amp; family</td>\n",
       "      <td>$17,000,000,000</td>\n",
       "      <td>66</td>\n",
       "      <td>China</td>\n",
       "      <td>chemicals</td>\n",
       "      <td>Manufacturing</td>\n",
       "    </tr>\n",
       "    <tr>\n",
       "      <th>100</th>\n",
       "      <td>Peter Woo</td>\n",
       "      <td>$17,000,000,000</td>\n",
       "      <td>75</td>\n",
       "      <td>Hong Kong</td>\n",
       "      <td>real estate</td>\n",
       "      <td>Real Estate</td>\n",
       "    </tr>\n",
       "  </tbody>\n",
       "</table>\n",
       "<p>101 rows × 6 columns</p>\n",
       "</div>"
      ],
      "text/plain": [
       "                         Name          NetWorth  Age Country/Territory  \\\n",
       "0                   Elon Musk  $219,000,000,000   50     United States   \n",
       "1                  Jeff Bezos  $171,000,000,000   58     United States   \n",
       "2    Bernard Arnault & family  $158,000,000,000   73            France   \n",
       "3                  Bill Gates  $129,000,000,000   66     United States   \n",
       "4              Warren Buffett  $118,000,000,000   91     United States   \n",
       "..                        ...               ...  ...               ...   \n",
       "96           Vladimir Potanin   $17,300,000,000   61            Russia   \n",
       "97       Harold Hamm & family   $17,200,000,000   76     United States   \n",
       "98               Sun Piaoyang   $17,100,000,000   63             China   \n",
       "99         Luo Liguo & family   $17,000,000,000   66             China   \n",
       "100                 Peter Woo   $17,000,000,000   75         Hong Kong   \n",
       "\n",
       "                 Source               Industry  \n",
       "0         Tesla, SpaceX             Automotive  \n",
       "1                Amazon             Technology  \n",
       "2                  LVMH       Fashion & Retail  \n",
       "3             Microsoft             Technology  \n",
       "4    Berkshire Hathaway  Finance & Investments  \n",
       "..                  ...                    ...  \n",
       "96               metals        Metals & Mining  \n",
       "97            oil & gas                 Energy  \n",
       "98      pharmaceuticals             Healthcare  \n",
       "99            chemicals          Manufacturing  \n",
       "100         real estate            Real Estate  \n",
       "\n",
       "[101 rows x 6 columns]"
      ]
     },
     "execution_count": 43,
     "metadata": {},
     "output_type": "execute_result"
    }
   ],
   "source": [
    "richest = pd.read_csv(\"TopRichestInWorld.csv\")\n",
    "richest"
   ]
  },
  {
   "cell_type": "code",
   "execution_count": 44,
   "id": "dffbcaa6-2d19-4253-9298-f770d23293f4",
   "metadata": {},
   "outputs": [
    {
     "data": {
      "text/html": [
       "<div>\n",
       "<style scoped>\n",
       "    .dataframe tbody tr th:only-of-type {\n",
       "        vertical-align: middle;\n",
       "    }\n",
       "\n",
       "    .dataframe tbody tr th {\n",
       "        vertical-align: top;\n",
       "    }\n",
       "\n",
       "    .dataframe thead th {\n",
       "        text-align: right;\n",
       "    }\n",
       "</style>\n",
       "<table border=\"1\" class=\"dataframe\">\n",
       "  <thead>\n",
       "    <tr style=\"text-align: right;\">\n",
       "      <th></th>\n",
       "      <th>Name</th>\n",
       "      <th>NetWorth</th>\n",
       "      <th>Age</th>\n",
       "      <th>Country/Territory</th>\n",
       "      <th>Source</th>\n",
       "      <th>Industry</th>\n",
       "    </tr>\n",
       "  </thead>\n",
       "  <tbody>\n",
       "    <tr>\n",
       "      <th>0</th>\n",
       "      <td>Elon Musk</td>\n",
       "      <td>$219,000,000,000</td>\n",
       "      <td>50</td>\n",
       "      <td>United States</td>\n",
       "      <td>Tesla, SpaceX</td>\n",
       "      <td>Automotive</td>\n",
       "    </tr>\n",
       "    <tr>\n",
       "      <th>1</th>\n",
       "      <td>Jeff Bezos</td>\n",
       "      <td>$171,000,000,000</td>\n",
       "      <td>58</td>\n",
       "      <td>United States</td>\n",
       "      <td>Amazon</td>\n",
       "      <td>Technology</td>\n",
       "    </tr>\n",
       "    <tr>\n",
       "      <th>2</th>\n",
       "      <td>Bernard Arnault &amp; family</td>\n",
       "      <td>$158,000,000,000</td>\n",
       "      <td>73</td>\n",
       "      <td>France</td>\n",
       "      <td>LVMH</td>\n",
       "      <td>Fashion &amp; Retail</td>\n",
       "    </tr>\n",
       "    <tr>\n",
       "      <th>3</th>\n",
       "      <td>Bill Gates</td>\n",
       "      <td>$129,000,000,000</td>\n",
       "      <td>66</td>\n",
       "      <td>United States</td>\n",
       "      <td>Microsoft</td>\n",
       "      <td>Technology</td>\n",
       "    </tr>\n",
       "    <tr>\n",
       "      <th>4</th>\n",
       "      <td>Warren Buffett</td>\n",
       "      <td>$118,000,000,000</td>\n",
       "      <td>91</td>\n",
       "      <td>United States</td>\n",
       "      <td>Berkshire Hathaway</td>\n",
       "      <td>Finance &amp; Investments</td>\n",
       "    </tr>\n",
       "    <tr>\n",
       "      <th>5</th>\n",
       "      <td>Larry Page</td>\n",
       "      <td>$111,000,000,000</td>\n",
       "      <td>49</td>\n",
       "      <td>United States</td>\n",
       "      <td>Google</td>\n",
       "      <td>Technology</td>\n",
       "    </tr>\n",
       "    <tr>\n",
       "      <th>6</th>\n",
       "      <td>Sergey Brin</td>\n",
       "      <td>$107,000,000,000</td>\n",
       "      <td>48</td>\n",
       "      <td>United States</td>\n",
       "      <td>Google</td>\n",
       "      <td>Technology</td>\n",
       "    </tr>\n",
       "    <tr>\n",
       "      <th>7</th>\n",
       "      <td>Larry Ellison</td>\n",
       "      <td>$106,000,000,000</td>\n",
       "      <td>77</td>\n",
       "      <td>United States</td>\n",
       "      <td>software</td>\n",
       "      <td>Technology</td>\n",
       "    </tr>\n",
       "    <tr>\n",
       "      <th>8</th>\n",
       "      <td>Steve Ballmer</td>\n",
       "      <td>$91,400,000,000</td>\n",
       "      <td>66</td>\n",
       "      <td>United States</td>\n",
       "      <td>Microsoft</td>\n",
       "      <td>Technology</td>\n",
       "    </tr>\n",
       "    <tr>\n",
       "      <th>9</th>\n",
       "      <td>Mukesh Ambani</td>\n",
       "      <td>$90,700,000,000</td>\n",
       "      <td>64</td>\n",
       "      <td>India</td>\n",
       "      <td>diversified</td>\n",
       "      <td>Diversified</td>\n",
       "    </tr>\n",
       "  </tbody>\n",
       "</table>\n",
       "</div>"
      ],
      "text/plain": [
       "                       Name          NetWorth  Age Country/Territory  \\\n",
       "0                 Elon Musk  $219,000,000,000   50     United States   \n",
       "1                Jeff Bezos  $171,000,000,000   58     United States   \n",
       "2  Bernard Arnault & family  $158,000,000,000   73            France   \n",
       "3                Bill Gates  $129,000,000,000   66     United States   \n",
       "4            Warren Buffett  $118,000,000,000   91     United States   \n",
       "5                Larry Page  $111,000,000,000   49     United States   \n",
       "6               Sergey Brin  $107,000,000,000   48     United States   \n",
       "7             Larry Ellison  $106,000,000,000   77     United States   \n",
       "8             Steve Ballmer   $91,400,000,000   66     United States   \n",
       "9             Mukesh Ambani   $90,700,000,000   64             India   \n",
       "\n",
       "               Source               Industry  \n",
       "0       Tesla, SpaceX             Automotive  \n",
       "1              Amazon             Technology  \n",
       "2                LVMH       Fashion & Retail  \n",
       "3           Microsoft             Technology  \n",
       "4  Berkshire Hathaway  Finance & Investments  \n",
       "5              Google             Technology  \n",
       "6              Google             Technology  \n",
       "7            software             Technology  \n",
       "8           Microsoft             Technology  \n",
       "9         diversified            Diversified  "
      ]
     },
     "execution_count": 44,
     "metadata": {},
     "output_type": "execute_result"
    }
   ],
   "source": [
    "# First 10\n",
    "richest.head(10)"
   ]
  },
  {
   "cell_type": "code",
   "execution_count": 45,
   "id": "327adb70-49ce-4fcc-9d2c-d8f6f5cef117",
   "metadata": {},
   "outputs": [
    {
     "data": {
      "text/html": [
       "<div>\n",
       "<style scoped>\n",
       "    .dataframe tbody tr th:only-of-type {\n",
       "        vertical-align: middle;\n",
       "    }\n",
       "\n",
       "    .dataframe tbody tr th {\n",
       "        vertical-align: top;\n",
       "    }\n",
       "\n",
       "    .dataframe thead th {\n",
       "        text-align: right;\n",
       "    }\n",
       "</style>\n",
       "<table border=\"1\" class=\"dataframe\">\n",
       "  <thead>\n",
       "    <tr style=\"text-align: right;\">\n",
       "      <th></th>\n",
       "      <th>Name</th>\n",
       "      <th>NetWorth</th>\n",
       "      <th>Age</th>\n",
       "      <th>Country/Territory</th>\n",
       "      <th>Source</th>\n",
       "      <th>Industry</th>\n",
       "    </tr>\n",
       "  </thead>\n",
       "  <tbody>\n",
       "    <tr>\n",
       "      <th>0</th>\n",
       "      <td>Elon Musk</td>\n",
       "      <td>$219,000,000,000</td>\n",
       "      <td>50</td>\n",
       "      <td>United States</td>\n",
       "      <td>Tesla, SpaceX</td>\n",
       "      <td>Automotive</td>\n",
       "    </tr>\n",
       "    <tr>\n",
       "      <th>1</th>\n",
       "      <td>Jeff Bezos</td>\n",
       "      <td>$171,000,000,000</td>\n",
       "      <td>58</td>\n",
       "      <td>United States</td>\n",
       "      <td>Amazon</td>\n",
       "      <td>Technology</td>\n",
       "    </tr>\n",
       "    <tr>\n",
       "      <th>2</th>\n",
       "      <td>Bernard Arnault &amp; family</td>\n",
       "      <td>$158,000,000,000</td>\n",
       "      <td>73</td>\n",
       "      <td>France</td>\n",
       "      <td>LVMH</td>\n",
       "      <td>Fashion &amp; Retail</td>\n",
       "    </tr>\n",
       "    <tr>\n",
       "      <th>3</th>\n",
       "      <td>Bill Gates</td>\n",
       "      <td>$129,000,000,000</td>\n",
       "      <td>66</td>\n",
       "      <td>United States</td>\n",
       "      <td>Microsoft</td>\n",
       "      <td>Technology</td>\n",
       "    </tr>\n",
       "    <tr>\n",
       "      <th>4</th>\n",
       "      <td>Warren Buffett</td>\n",
       "      <td>$118,000,000,000</td>\n",
       "      <td>91</td>\n",
       "      <td>United States</td>\n",
       "      <td>Berkshire Hathaway</td>\n",
       "      <td>Finance &amp; Investments</td>\n",
       "    </tr>\n",
       "    <tr>\n",
       "      <th>...</th>\n",
       "      <td>...</td>\n",
       "      <td>...</td>\n",
       "      <td>...</td>\n",
       "      <td>...</td>\n",
       "      <td>...</td>\n",
       "      <td>...</td>\n",
       "    </tr>\n",
       "    <tr>\n",
       "      <th>86</th>\n",
       "      <td>Vladimir Lisin</td>\n",
       "      <td>$18,400,000,000</td>\n",
       "      <td>65</td>\n",
       "      <td>Russia</td>\n",
       "      <td>steel, transport</td>\n",
       "      <td>Metals &amp; Mining</td>\n",
       "    </tr>\n",
       "    <tr>\n",
       "      <th>87</th>\n",
       "      <td>Fan Hongwei &amp; family</td>\n",
       "      <td>$18,200,000,000</td>\n",
       "      <td>55</td>\n",
       "      <td>China</td>\n",
       "      <td>petrochemicals</td>\n",
       "      <td>Energy</td>\n",
       "    </tr>\n",
       "    <tr>\n",
       "      <th>88</th>\n",
       "      <td>Lakshmi Mittal</td>\n",
       "      <td>$17,900,000,000</td>\n",
       "      <td>71</td>\n",
       "      <td>India</td>\n",
       "      <td>steel</td>\n",
       "      <td>Metals &amp; Mining</td>\n",
       "    </tr>\n",
       "    <tr>\n",
       "      <th>89</th>\n",
       "      <td>Andrew Forrest</td>\n",
       "      <td>$17,800,000,000</td>\n",
       "      <td>60</td>\n",
       "      <td>Australia</td>\n",
       "      <td>mining</td>\n",
       "      <td>Metals &amp; Mining</td>\n",
       "    </tr>\n",
       "    <tr>\n",
       "      <th>90</th>\n",
       "      <td>Jiang Rensheng &amp; family</td>\n",
       "      <td>$17,700,000,000</td>\n",
       "      <td>68</td>\n",
       "      <td>China</td>\n",
       "      <td>vaccines</td>\n",
       "      <td>Healthcare</td>\n",
       "    </tr>\n",
       "  </tbody>\n",
       "</table>\n",
       "<p>91 rows × 6 columns</p>\n",
       "</div>"
      ],
      "text/plain": [
       "                        Name          NetWorth  Age Country/Territory  \\\n",
       "0                  Elon Musk  $219,000,000,000   50     United States   \n",
       "1                 Jeff Bezos  $171,000,000,000   58     United States   \n",
       "2   Bernard Arnault & family  $158,000,000,000   73            France   \n",
       "3                 Bill Gates  $129,000,000,000   66     United States   \n",
       "4             Warren Buffett  $118,000,000,000   91     United States   \n",
       "..                       ...               ...  ...               ...   \n",
       "86            Vladimir Lisin   $18,400,000,000   65            Russia   \n",
       "87      Fan Hongwei & family   $18,200,000,000   55             China   \n",
       "88            Lakshmi Mittal   $17,900,000,000   71             India   \n",
       "89            Andrew Forrest   $17,800,000,000   60         Australia   \n",
       "90   Jiang Rensheng & family   $17,700,000,000   68             China   \n",
       "\n",
       "                Source               Industry  \n",
       "0        Tesla, SpaceX             Automotive  \n",
       "1               Amazon             Technology  \n",
       "2                 LVMH       Fashion & Retail  \n",
       "3            Microsoft             Technology  \n",
       "4   Berkshire Hathaway  Finance & Investments  \n",
       "..                 ...                    ...  \n",
       "86    steel, transport        Metals & Mining  \n",
       "87      petrochemicals                 Energy  \n",
       "88               steel        Metals & Mining  \n",
       "89              mining        Metals & Mining  \n",
       "90            vaccines             Healthcare  \n",
       "\n",
       "[91 rows x 6 columns]"
      ]
     },
     "execution_count": 45,
     "metadata": {},
     "output_type": "execute_result"
    }
   ],
   "source": [
    "# Head of all, but the last 10\n",
    "richest.head(-10)"
   ]
  },
  {
   "cell_type": "code",
   "execution_count": 46,
   "id": "cbae8eb5-fbbf-48ce-b60e-0eb68dd5de07",
   "metadata": {},
   "outputs": [
    {
     "data": {
      "text/html": [
       "<div>\n",
       "<style scoped>\n",
       "    .dataframe tbody tr th:only-of-type {\n",
       "        vertical-align: middle;\n",
       "    }\n",
       "\n",
       "    .dataframe tbody tr th {\n",
       "        vertical-align: top;\n",
       "    }\n",
       "\n",
       "    .dataframe thead th {\n",
       "        text-align: right;\n",
       "    }\n",
       "</style>\n",
       "<table border=\"1\" class=\"dataframe\">\n",
       "  <thead>\n",
       "    <tr style=\"text-align: right;\">\n",
       "      <th></th>\n",
       "      <th>Name</th>\n",
       "      <th>NetWorth</th>\n",
       "      <th>Age</th>\n",
       "      <th>Country/Territory</th>\n",
       "      <th>Source</th>\n",
       "      <th>Industry</th>\n",
       "    </tr>\n",
       "  </thead>\n",
       "  <tbody>\n",
       "    <tr>\n",
       "      <th>91</th>\n",
       "      <td>Savitri Jindal &amp; family</td>\n",
       "      <td>$17,700,000,000</td>\n",
       "      <td>72</td>\n",
       "      <td>India</td>\n",
       "      <td>steel</td>\n",
       "      <td>Metals &amp; Mining</td>\n",
       "    </tr>\n",
       "    <tr>\n",
       "      <th>92</th>\n",
       "      <td>Wang Wenyin</td>\n",
       "      <td>$17,700,000,000</td>\n",
       "      <td>54</td>\n",
       "      <td>China</td>\n",
       "      <td>mining, copper products</td>\n",
       "      <td>Metals &amp; Mining</td>\n",
       "    </tr>\n",
       "    <tr>\n",
       "      <th>93</th>\n",
       "      <td>Li Xiting</td>\n",
       "      <td>$17,600,000,000</td>\n",
       "      <td>71</td>\n",
       "      <td>Singapore</td>\n",
       "      <td>medical devices</td>\n",
       "      <td>Healthcare</td>\n",
       "    </tr>\n",
       "    <tr>\n",
       "      <th>94</th>\n",
       "      <td>Stefan Persson</td>\n",
       "      <td>$17,600,000,000</td>\n",
       "      <td>74</td>\n",
       "      <td>Sweden</td>\n",
       "      <td>H&amp;M</td>\n",
       "      <td>Fashion &amp; Retail</td>\n",
       "    </tr>\n",
       "    <tr>\n",
       "      <th>95</th>\n",
       "      <td>Steve Cohen</td>\n",
       "      <td>$17,400,000,000</td>\n",
       "      <td>65</td>\n",
       "      <td>United States</td>\n",
       "      <td>hedge funds</td>\n",
       "      <td>Finance &amp; Investments</td>\n",
       "    </tr>\n",
       "    <tr>\n",
       "      <th>96</th>\n",
       "      <td>Vladimir Potanin</td>\n",
       "      <td>$17,300,000,000</td>\n",
       "      <td>61</td>\n",
       "      <td>Russia</td>\n",
       "      <td>metals</td>\n",
       "      <td>Metals &amp; Mining</td>\n",
       "    </tr>\n",
       "    <tr>\n",
       "      <th>97</th>\n",
       "      <td>Harold Hamm &amp; family</td>\n",
       "      <td>$17,200,000,000</td>\n",
       "      <td>76</td>\n",
       "      <td>United States</td>\n",
       "      <td>oil &amp; gas</td>\n",
       "      <td>Energy</td>\n",
       "    </tr>\n",
       "    <tr>\n",
       "      <th>98</th>\n",
       "      <td>Sun Piaoyang</td>\n",
       "      <td>$17,100,000,000</td>\n",
       "      <td>63</td>\n",
       "      <td>China</td>\n",
       "      <td>pharmaceuticals</td>\n",
       "      <td>Healthcare</td>\n",
       "    </tr>\n",
       "    <tr>\n",
       "      <th>99</th>\n",
       "      <td>Luo Liguo &amp; family</td>\n",
       "      <td>$17,000,000,000</td>\n",
       "      <td>66</td>\n",
       "      <td>China</td>\n",
       "      <td>chemicals</td>\n",
       "      <td>Manufacturing</td>\n",
       "    </tr>\n",
       "    <tr>\n",
       "      <th>100</th>\n",
       "      <td>Peter Woo</td>\n",
       "      <td>$17,000,000,000</td>\n",
       "      <td>75</td>\n",
       "      <td>Hong Kong</td>\n",
       "      <td>real estate</td>\n",
       "      <td>Real Estate</td>\n",
       "    </tr>\n",
       "  </tbody>\n",
       "</table>\n",
       "</div>"
      ],
      "text/plain": [
       "                        Name         NetWorth  Age Country/Territory  \\\n",
       "91   Savitri Jindal & family  $17,700,000,000   72             India   \n",
       "92               Wang Wenyin  $17,700,000,000   54             China   \n",
       "93                 Li Xiting  $17,600,000,000   71         Singapore   \n",
       "94            Stefan Persson  $17,600,000,000   74            Sweden   \n",
       "95               Steve Cohen  $17,400,000,000   65     United States   \n",
       "96          Vladimir Potanin  $17,300,000,000   61            Russia   \n",
       "97      Harold Hamm & family  $17,200,000,000   76     United States   \n",
       "98              Sun Piaoyang  $17,100,000,000   63             China   \n",
       "99        Luo Liguo & family  $17,000,000,000   66             China   \n",
       "100                Peter Woo  $17,000,000,000   75         Hong Kong   \n",
       "\n",
       "                      Source               Industry  \n",
       "91                     steel        Metals & Mining  \n",
       "92   mining, copper products        Metals & Mining  \n",
       "93           medical devices             Healthcare  \n",
       "94                       H&M       Fashion & Retail  \n",
       "95               hedge funds  Finance & Investments  \n",
       "96                    metals        Metals & Mining  \n",
       "97                 oil & gas                 Energy  \n",
       "98           pharmaceuticals             Healthcare  \n",
       "99                 chemicals          Manufacturing  \n",
       "100              real estate            Real Estate  "
      ]
     },
     "execution_count": 46,
     "metadata": {},
     "output_type": "execute_result"
    }
   ],
   "source": [
    "# Last 10\n",
    "richest.tail(10)"
   ]
  },
  {
   "cell_type": "code",
   "execution_count": 47,
   "id": "baa3593a-fea3-447d-b870-1f91bb1c3728",
   "metadata": {},
   "outputs": [
    {
     "data": {
      "text/html": [
       "<div>\n",
       "<style scoped>\n",
       "    .dataframe tbody tr th:only-of-type {\n",
       "        vertical-align: middle;\n",
       "    }\n",
       "\n",
       "    .dataframe tbody tr th {\n",
       "        vertical-align: top;\n",
       "    }\n",
       "\n",
       "    .dataframe thead th {\n",
       "        text-align: right;\n",
       "    }\n",
       "</style>\n",
       "<table border=\"1\" class=\"dataframe\">\n",
       "  <thead>\n",
       "    <tr style=\"text-align: right;\">\n",
       "      <th></th>\n",
       "      <th>Name</th>\n",
       "      <th>NetWorth</th>\n",
       "      <th>Age</th>\n",
       "      <th>Country/Territory</th>\n",
       "      <th>Source</th>\n",
       "      <th>Industry</th>\n",
       "    </tr>\n",
       "  </thead>\n",
       "  <tbody>\n",
       "    <tr>\n",
       "      <th>10</th>\n",
       "      <td>Gautam Adani &amp; family</td>\n",
       "      <td>$90,000,000,000</td>\n",
       "      <td>59</td>\n",
       "      <td>India</td>\n",
       "      <td>infrastructure, commodities</td>\n",
       "      <td>Diversified</td>\n",
       "    </tr>\n",
       "    <tr>\n",
       "      <th>11</th>\n",
       "      <td>Michael Bloomberg</td>\n",
       "      <td>$82,000,000,000</td>\n",
       "      <td>80</td>\n",
       "      <td>United States</td>\n",
       "      <td>Bloomberg LP</td>\n",
       "      <td>Media &amp; Entertainment</td>\n",
       "    </tr>\n",
       "    <tr>\n",
       "      <th>12</th>\n",
       "      <td>Carlos Slim Helu &amp; family</td>\n",
       "      <td>$81,200,000,000</td>\n",
       "      <td>82</td>\n",
       "      <td>Mexico</td>\n",
       "      <td>telecom</td>\n",
       "      <td>Telecom</td>\n",
       "    </tr>\n",
       "    <tr>\n",
       "      <th>13</th>\n",
       "      <td>Francoise Bettencourt Meyers &amp; family</td>\n",
       "      <td>$74,800,000,000</td>\n",
       "      <td>68</td>\n",
       "      <td>France</td>\n",
       "      <td>L'Oréal</td>\n",
       "      <td>Fashion &amp; Retail</td>\n",
       "    </tr>\n",
       "    <tr>\n",
       "      <th>14</th>\n",
       "      <td>Mark Zuckerberg</td>\n",
       "      <td>$67,300,000,000</td>\n",
       "      <td>37</td>\n",
       "      <td>United States</td>\n",
       "      <td>Facebook</td>\n",
       "      <td>Technology</td>\n",
       "    </tr>\n",
       "    <tr>\n",
       "      <th>...</th>\n",
       "      <td>...</td>\n",
       "      <td>...</td>\n",
       "      <td>...</td>\n",
       "      <td>...</td>\n",
       "      <td>...</td>\n",
       "      <td>...</td>\n",
       "    </tr>\n",
       "    <tr>\n",
       "      <th>96</th>\n",
       "      <td>Vladimir Potanin</td>\n",
       "      <td>$17,300,000,000</td>\n",
       "      <td>61</td>\n",
       "      <td>Russia</td>\n",
       "      <td>metals</td>\n",
       "      <td>Metals &amp; Mining</td>\n",
       "    </tr>\n",
       "    <tr>\n",
       "      <th>97</th>\n",
       "      <td>Harold Hamm &amp; family</td>\n",
       "      <td>$17,200,000,000</td>\n",
       "      <td>76</td>\n",
       "      <td>United States</td>\n",
       "      <td>oil &amp; gas</td>\n",
       "      <td>Energy</td>\n",
       "    </tr>\n",
       "    <tr>\n",
       "      <th>98</th>\n",
       "      <td>Sun Piaoyang</td>\n",
       "      <td>$17,100,000,000</td>\n",
       "      <td>63</td>\n",
       "      <td>China</td>\n",
       "      <td>pharmaceuticals</td>\n",
       "      <td>Healthcare</td>\n",
       "    </tr>\n",
       "    <tr>\n",
       "      <th>99</th>\n",
       "      <td>Luo Liguo &amp; family</td>\n",
       "      <td>$17,000,000,000</td>\n",
       "      <td>66</td>\n",
       "      <td>China</td>\n",
       "      <td>chemicals</td>\n",
       "      <td>Manufacturing</td>\n",
       "    </tr>\n",
       "    <tr>\n",
       "      <th>100</th>\n",
       "      <td>Peter Woo</td>\n",
       "      <td>$17,000,000,000</td>\n",
       "      <td>75</td>\n",
       "      <td>Hong Kong</td>\n",
       "      <td>real estate</td>\n",
       "      <td>Real Estate</td>\n",
       "    </tr>\n",
       "  </tbody>\n",
       "</table>\n",
       "<p>91 rows × 6 columns</p>\n",
       "</div>"
      ],
      "text/plain": [
       "                                      Name         NetWorth  Age  \\\n",
       "10                   Gautam Adani & family  $90,000,000,000   59   \n",
       "11                       Michael Bloomberg  $82,000,000,000   80   \n",
       "12               Carlos Slim Helu & family  $81,200,000,000   82   \n",
       "13   Francoise Bettencourt Meyers & family  $74,800,000,000   68   \n",
       "14                         Mark Zuckerberg  $67,300,000,000   37   \n",
       "..                                     ...              ...  ...   \n",
       "96                        Vladimir Potanin  $17,300,000,000   61   \n",
       "97                    Harold Hamm & family  $17,200,000,000   76   \n",
       "98                            Sun Piaoyang  $17,100,000,000   63   \n",
       "99                      Luo Liguo & family  $17,000,000,000   66   \n",
       "100                              Peter Woo  $17,000,000,000   75   \n",
       "\n",
       "    Country/Territory                       Source               Industry  \n",
       "10              India  infrastructure, commodities            Diversified  \n",
       "11      United States                 Bloomberg LP  Media & Entertainment  \n",
       "12             Mexico                      telecom                Telecom  \n",
       "13             France                      L'Oréal       Fashion & Retail  \n",
       "14      United States                     Facebook             Technology  \n",
       "..                ...                          ...                    ...  \n",
       "96             Russia                       metals        Metals & Mining  \n",
       "97      United States                    oil & gas                 Energy  \n",
       "98              China              pharmaceuticals             Healthcare  \n",
       "99              China                    chemicals          Manufacturing  \n",
       "100         Hong Kong                  real estate            Real Estate  \n",
       "\n",
       "[91 rows x 6 columns]"
      ]
     },
     "execution_count": 47,
     "metadata": {},
     "output_type": "execute_result"
    }
   ],
   "source": [
    "# Last of all but the first 10\n",
    "richest.tail(-10)"
   ]
  },
  {
   "cell_type": "markdown",
   "id": "a01989e3-defa-40c4-a457-1ac66e73b109",
   "metadata": {},
   "source": [
    "## Chapter 10 - Sorting values in Series"
   ]
  },
  {
   "cell_type": "code",
   "execution_count": 48,
   "id": "ca0942dd-46f0-4441-ac52-19a26e0e13f1",
   "metadata": {},
   "outputs": [],
   "source": [
    "import pandas as pd"
   ]
  },
  {
   "cell_type": "code",
   "execution_count": 49,
   "id": "2acb7f87-1111-46df-9ee5-2523cb78059a",
   "metadata": {},
   "outputs": [
    {
     "data": {
      "text/plain": [
       "0                     Elon Musk\n",
       "1                    Jeff Bezos\n",
       "2      Bernard Arnault & family\n",
       "3                    Bill Gates\n",
       "4                Warren Buffett\n",
       "                 ...           \n",
       "96             Vladimir Potanin\n",
       "97         Harold Hamm & family\n",
       "98                 Sun Piaoyang\n",
       "99           Luo Liguo & family\n",
       "100                   Peter Woo\n",
       "Name: Name, Length: 101, dtype: object"
      ]
     },
     "execution_count": 49,
     "metadata": {},
     "output_type": "execute_result"
    }
   ],
   "source": [
    "richest = pd.read_csv(\"TopRichestInWorld.csv\", usecols=[\"Name\"]).squeeze()\n",
    "richest"
   ]
  },
  {
   "cell_type": "code",
   "execution_count": 50,
   "id": "810f2a47-e94c-4a2b-80b7-2ef22f59e684",
   "metadata": {},
   "outputs": [
    {
     "data": {
      "text/plain": [
       "pandas.core.series.Series"
      ]
     },
     "execution_count": 50,
     "metadata": {},
     "output_type": "execute_result"
    }
   ],
   "source": [
    "type(richest)"
   ]
  },
  {
   "cell_type": "code",
   "execution_count": 51,
   "id": "484a7f78-cc4d-471a-b6ab-9e7d409abc7a",
   "metadata": {},
   "outputs": [
    {
     "data": {
      "text/plain": [
       "74         Abigail Johnson\n",
       "42        Alain Wertheimer\n",
       "17            Alice Walton\n",
       "22          Amancio Ortega\n",
       "89          Andrew Forrest\n",
       "              ...         \n",
       "4           Warren Buffett\n",
       "54        William Lei Ding\n",
       "85    Yang Huiyan & family\n",
       "24            Zhang Yiming\n",
       "16          Zhong Shanshan\n",
       "Name: Name, Length: 101, dtype: object"
      ]
     },
     "execution_count": 51,
     "metadata": {},
     "output_type": "execute_result"
    }
   ],
   "source": [
    "# Note the index\n",
    "richest.sort_values(\n",
    "    axis=0,\n",
    "    ascending=True,\n",
    "    kind='quicksort',\n",
    "    na_position='last',\n",
    ")"
   ]
  },
  {
   "cell_type": "code",
   "execution_count": 52,
   "id": "b5ac7a50-41d2-49f1-8f21-2fd96e6aac92",
   "metadata": {},
   "outputs": [
    {
     "data": {
      "text/plain": [
       "0           Abigail Johnson\n",
       "1          Alain Wertheimer\n",
       "2              Alice Walton\n",
       "3            Amancio Ortega\n",
       "4            Andrew Forrest\n",
       "               ...         \n",
       "96           Warren Buffett\n",
       "97         William Lei Ding\n",
       "98     Yang Huiyan & family\n",
       "99             Zhang Yiming\n",
       "100          Zhong Shanshan\n",
       "Name: Name, Length: 101, dtype: object"
      ]
     },
     "execution_count": 52,
     "metadata": {},
     "output_type": "execute_result"
    }
   ],
   "source": [
    "# Fix up the index\n",
    "richest.sort_values(\n",
    "    axis=0,\n",
    "    ascending=True,\n",
    "    kind='quicksort',\n",
    "    na_position='last',\n",
    "    ignore_index=True,\n",
    ")"
   ]
  },
  {
   "cell_type": "code",
   "execution_count": 53,
   "id": "49125edb-a5d9-4cb3-a6e1-33746066ce77",
   "metadata": {},
   "outputs": [
    {
     "data": {
      "text/plain": [
       "0                     Elon Musk\n",
       "1                    Jeff Bezos\n",
       "2      Bernard Arnault & family\n",
       "3                    Bill Gates\n",
       "4                Warren Buffett\n",
       "                 ...           \n",
       "96             Vladimir Potanin\n",
       "97         Harold Hamm & family\n",
       "98                 Sun Piaoyang\n",
       "99           Luo Liguo & family\n",
       "100                   Peter Woo\n",
       "Name: Name, Length: 101, dtype: object"
      ]
     },
     "execution_count": 53,
     "metadata": {},
     "output_type": "execute_result"
    }
   ],
   "source": [
    "# Note that the data is not altered\n",
    "richest"
   ]
  },
  {
   "cell_type": "code",
   "execution_count": 54,
   "id": "becc6b94-91bb-47eb-8147-5f4bf725397c",
   "metadata": {},
   "outputs": [
    {
     "ename": "ValueError",
     "evalue": "This Series is a view of some other array, to sort in-place you must create a copy",
     "output_type": "error",
     "traceback": [
      "\u001b[31m---------------------------------------------------------------------------\u001b[39m",
      "\u001b[31mValueError\u001b[39m                                Traceback (most recent call last)",
      "\u001b[36mCell\u001b[39m\u001b[36m \u001b[39m\u001b[32mIn[54]\u001b[39m\u001b[32m, line 2\u001b[39m\n\u001b[32m      1\u001b[39m \u001b[38;5;66;03m# Alter the data\u001b[39;00m\n\u001b[32m----> \u001b[39m\u001b[32m2\u001b[39m \u001b[43mrichest\u001b[49m\u001b[43m.\u001b[49m\u001b[43msort_values\u001b[49m\u001b[43m(\u001b[49m\n\u001b[32m      3\u001b[39m \u001b[43m    \u001b[49m\u001b[43maxis\u001b[49m\u001b[43m=\u001b[49m\u001b[32;43m0\u001b[39;49m\u001b[43m,\u001b[49m\n\u001b[32m      4\u001b[39m \u001b[43m    \u001b[49m\u001b[43mascending\u001b[49m\u001b[43m=\u001b[49m\u001b[38;5;28;43;01mTrue\u001b[39;49;00m\u001b[43m,\u001b[49m\n\u001b[32m      5\u001b[39m \u001b[43m    \u001b[49m\u001b[43minplace\u001b[49m\u001b[43m=\u001b[49m\u001b[38;5;28;43;01mTrue\u001b[39;49;00m\u001b[43m,\u001b[49m\n\u001b[32m      6\u001b[39m \u001b[43m    \u001b[49m\u001b[43mkind\u001b[49m\u001b[43m=\u001b[49m\u001b[33;43m'\u001b[39;49m\u001b[33;43mquicksort\u001b[39;49m\u001b[33;43m'\u001b[39;49m\u001b[43m,\u001b[49m\n\u001b[32m      7\u001b[39m \u001b[43m    \u001b[49m\u001b[43mna_position\u001b[49m\u001b[43m=\u001b[49m\u001b[33;43m'\u001b[39;49m\u001b[33;43mlast\u001b[39;49m\u001b[33;43m'\u001b[39;49m\u001b[43m,\u001b[49m\n\u001b[32m      8\u001b[39m \u001b[43m    \u001b[49m\u001b[43mignore_index\u001b[49m\u001b[43m=\u001b[49m\u001b[38;5;28;43;01mTrue\u001b[39;49;00m\u001b[43m,\u001b[49m\n\u001b[32m      9\u001b[39m \u001b[43m)\u001b[49m\n",
      "\u001b[36mFile \u001b[39m\u001b[32m~/Projects/python_notebooks/.venv/lib/python3.13/site-packages/pandas/core/series.py:3857\u001b[39m, in \u001b[36mSeries.sort_values\u001b[39m\u001b[34m(self, axis, ascending, inplace, kind, na_position, ignore_index, key)\u001b[39m\n\u001b[32m   3855\u001b[39m \u001b[38;5;66;03m# GH 5856/5853\u001b[39;00m\n\u001b[32m   3856\u001b[39m \u001b[38;5;28;01mif\u001b[39;00m inplace \u001b[38;5;129;01mand\u001b[39;00m \u001b[38;5;28mself\u001b[39m._is_cached:\n\u001b[32m-> \u001b[39m\u001b[32m3857\u001b[39m     \u001b[38;5;28;01mraise\u001b[39;00m \u001b[38;5;167;01mValueError\u001b[39;00m(\n\u001b[32m   3858\u001b[39m         \u001b[33m\"\u001b[39m\u001b[33mThis Series is a view of some other array, to \u001b[39m\u001b[33m\"\u001b[39m\n\u001b[32m   3859\u001b[39m         \u001b[33m\"\u001b[39m\u001b[33msort in-place you must create a copy\u001b[39m\u001b[33m\"\u001b[39m\n\u001b[32m   3860\u001b[39m     )\n\u001b[32m   3862\u001b[39m \u001b[38;5;28;01mif\u001b[39;00m is_list_like(ascending):\n\u001b[32m   3863\u001b[39m     ascending = cast(Sequence[\u001b[38;5;28mbool\u001b[39m], ascending)\n",
      "\u001b[31mValueError\u001b[39m: This Series is a view of some other array, to sort in-place you must create a copy"
     ]
    }
   ],
   "source": [
    "# Alter the data\n",
    "richest.sort_values(\n",
    "    axis=0,\n",
    "    ascending=True,\n",
    "    inplace=True,\n",
    "    kind='quicksort',\n",
    "    na_position='last',\n",
    "    ignore_index=True,\n",
    ")"
   ]
  },
  {
   "cell_type": "code",
   "execution_count": 55,
   "id": "60972b09-703e-4688-ac5a-6ce78d22cfe7",
   "metadata": {},
   "outputs": [
    {
     "data": {
      "text/plain": [
       "0                     Elon Musk\n",
       "1                    Jeff Bezos\n",
       "2      Bernard Arnault & family\n",
       "3                    Bill Gates\n",
       "4                Warren Buffett\n",
       "                 ...           \n",
       "96             Vladimir Potanin\n",
       "97         Harold Hamm & family\n",
       "98                 Sun Piaoyang\n",
       "99           Luo Liguo & family\n",
       "100                   Peter Woo\n",
       "Name: Name, Length: 101, dtype: object"
      ]
     },
     "execution_count": 55,
     "metadata": {},
     "output_type": "execute_result"
    }
   ],
   "source": [
    "richest"
   ]
  },
  {
   "cell_type": "code",
   "execution_count": 56,
   "id": "ee8bbdf9-76f7-448c-85ac-a9b220402553",
   "metadata": {},
   "outputs": [
    {
     "data": {
      "text/plain": [
       "100                   Peter Woo\n",
       "99           Luo Liguo & family\n",
       "98                 Sun Piaoyang\n",
       "97         Harold Hamm & family\n",
       "96             Vladimir Potanin\n",
       "                 ...           \n",
       "4                Warren Buffett\n",
       "3                    Bill Gates\n",
       "2      Bernard Arnault & family\n",
       "1                    Jeff Bezos\n",
       "0                     Elon Musk\n",
       "Name: Name, Length: 101, dtype: object"
      ]
     },
     "execution_count": 56,
     "metadata": {},
     "output_type": "execute_result"
    }
   ],
   "source": [
    "richest.sort_index(\n",
    "    ascending=False,\n",
    ")"
   ]
  },
  {
   "cell_type": "markdown",
   "id": "64666b1e-0be1-4157-a1fb-43b68135fb2b",
   "metadata": {},
   "source": [
    "## Chapter 11 - Counting values in a Series"
   ]
  },
  {
   "cell_type": "code",
   "execution_count": 57,
   "id": "632d729b-a2aa-4c18-9789-ac7745d18a15",
   "metadata": {},
   "outputs": [],
   "source": [
    "import pandas as pd"
   ]
  },
  {
   "cell_type": "code",
   "execution_count": 58,
   "id": "66de0f04-4e62-465b-af34-87e3e7b958e0",
   "metadata": {},
   "outputs": [
    {
     "data": {
      "text/plain": [
       "0                 Automotive\n",
       "1                 Technology\n",
       "2           Fashion & Retail\n",
       "3                 Technology\n",
       "4      Finance & Investments\n",
       "               ...          \n",
       "96           Metals & Mining\n",
       "97                    Energy\n",
       "98                Healthcare\n",
       "99             Manufacturing\n",
       "100              Real Estate\n",
       "Name: Industry, Length: 101, dtype: object"
      ]
     },
     "execution_count": 58,
     "metadata": {},
     "output_type": "execute_result"
    }
   ],
   "source": [
    "richest = pd.read_csv(\"TopRichestInWorld.csv\", usecols=[\"Industry\"]).squeeze()\n",
    "richest"
   ]
  },
  {
   "cell_type": "code",
   "execution_count": 59,
   "id": "d7a4bee7-c44d-45af-9b26-7b7122c135d3",
   "metadata": {},
   "outputs": [
    {
     "data": {
      "text/plain": [
       "Industry\n",
       "Fashion & Retail         18\n",
       "Technology               15\n",
       "Finance & Investments    13\n",
       "Metals & Mining           9\n",
       "Food & Beverage           8\n",
       "Automotive                7\n",
       "Diversified               6\n",
       "Manufacturing             5\n",
       "Healthcare                5\n",
       "Media & Entertainment     4\n",
       "Real Estate               3\n",
       "Telecom                   2\n",
       "Logistics                 2\n",
       "Energy                    2\n",
       "Gambling & Casinos        1\n",
       "Service                   1\n",
       "Name: count, dtype: int64"
      ]
     },
     "execution_count": 59,
     "metadata": {},
     "output_type": "execute_result"
    }
   ],
   "source": [
    "richest.value_counts()"
   ]
  },
  {
   "cell_type": "code",
   "execution_count": 60,
   "id": "afbb089d-26a6-4614-b408-db9814341db7",
   "metadata": {},
   "outputs": [
    {
     "data": {
      "text/plain": [
       "Industry\n",
       "Fashion & Retail         0.178218\n",
       "Technology               0.148515\n",
       "Finance & Investments    0.128713\n",
       "Metals & Mining          0.089109\n",
       "Food & Beverage          0.079208\n",
       "Automotive               0.069307\n",
       "Diversified              0.059406\n",
       "Manufacturing            0.049505\n",
       "Healthcare               0.049505\n",
       "Media & Entertainment    0.039604\n",
       "Real Estate              0.029703\n",
       "Telecom                  0.019802\n",
       "Logistics                0.019802\n",
       "Energy                   0.019802\n",
       "Gambling & Casinos       0.009901\n",
       "Service                  0.009901\n",
       "Name: proportion, dtype: float64"
      ]
     },
     "execution_count": 60,
     "metadata": {},
     "output_type": "execute_result"
    }
   ],
   "source": [
    "# Count, get percentage\n",
    "richest.value_counts(normalize=True)"
   ]
  },
  {
   "cell_type": "code",
   "execution_count": 61,
   "id": "7c07d6a1-f3b3-44da-9047-40a7daa11bf7",
   "metadata": {},
   "outputs": [
    {
     "data": {
      "text/plain": [
       "Industry\n",
       "Automotive                7\n",
       "Technology               15\n",
       "Fashion & Retail         18\n",
       "Finance & Investments    13\n",
       "Diversified               6\n",
       "Media & Entertainment     4\n",
       "Telecom                   2\n",
       "Food & Beverage           8\n",
       "Logistics                 2\n",
       "Real Estate               3\n",
       "Metals & Mining           9\n",
       "Manufacturing             5\n",
       "Gambling & Casinos        1\n",
       "Healthcare                5\n",
       "Service                   1\n",
       "Energy                    2\n",
       "Name: count, dtype: int64"
      ]
     },
     "execution_count": 61,
     "metadata": {},
     "output_type": "execute_result"
    }
   ],
   "source": [
    "# By default, count sorts by frequency, but set sort = False changes that\n",
    "richest.value_counts(sort=False)"
   ]
  },
  {
   "cell_type": "code",
   "execution_count": 62,
   "id": "0b732c18-84f1-4e61-a5d7-eee8b6e9d620",
   "metadata": {},
   "outputs": [
    {
     "data": {
      "text/plain": [
       "0      50\n",
       "1      58\n",
       "2      73\n",
       "3      66\n",
       "4      91\n",
       "       ..\n",
       "96     61\n",
       "97     76\n",
       "98     63\n",
       "99     66\n",
       "100    75\n",
       "Name: Age, Length: 101, dtype: int64"
      ]
     },
     "execution_count": 62,
     "metadata": {},
     "output_type": "execute_result"
    }
   ],
   "source": [
    "richest = pd.read_csv(\"TopRichestInWorld.csv\", usecols=[\"Age\"]).squeeze()\n",
    "richest"
   ]
  },
  {
   "cell_type": "code",
   "execution_count": 63,
   "id": "f2f4cf4c-bf87-4ab2-af5b-005cdc877ff3",
   "metadata": {},
   "outputs": [
    {
     "data": {
      "text/plain": [
       "(55.6, 68.4]      33\n",
       "(68.4, 81.2]      27\n",
       "(81.2, 94.0]      19\n",
       "(42.8, 55.6]      17\n",
       "(29.935, 42.8]     5\n",
       "Name: count, dtype: int64"
      ]
     },
     "execution_count": 63,
     "metadata": {},
     "output_type": "execute_result"
    }
   ],
   "source": [
    "# The bins parameter create N bins, which group data\n",
    "richest.value_counts(bins=5)"
   ]
  },
  {
   "cell_type": "markdown",
   "id": "73543fb8-582d-41c9-b1b0-d05aef4d8eb3",
   "metadata": {},
   "source": [
    "## Chapter 12 - Accessing elements via position"
   ]
  },
  {
   "cell_type": "code",
   "execution_count": 64,
   "id": "ca1e2c58-091a-4c38-b71f-ddd06586640f",
   "metadata": {},
   "outputs": [
    {
     "data": {
      "text/plain": [
       "0                     Elon Musk\n",
       "1                    Jeff Bezos\n",
       "2      Bernard Arnault & family\n",
       "3                    Bill Gates\n",
       "4                Warren Buffett\n",
       "                 ...           \n",
       "96             Vladimir Potanin\n",
       "97         Harold Hamm & family\n",
       "98                 Sun Piaoyang\n",
       "99           Luo Liguo & family\n",
       "100                   Peter Woo\n",
       "Name: Name, Length: 101, dtype: object"
      ]
     },
     "execution_count": 64,
     "metadata": {},
     "output_type": "execute_result"
    }
   ],
   "source": [
    "import pandas as pd\n",
    "\n",
    "richest = pd.read_csv(\"TopRichestInWorld.csv\", usecols=[\"Name\"]).squeeze()\n",
    "richest"
   ]
  },
  {
   "cell_type": "code",
   "execution_count": 65,
   "id": "71225b66-2974-4163-b7a3-227aeb8a31f5",
   "metadata": {},
   "outputs": [
    {
     "data": {
      "text/plain": [
       "0                                 Elon Musk\n",
       "1                                Jeff Bezos\n",
       "2                  Bernard Arnault & family\n",
       "3                                Bill Gates\n",
       "4                            Warren Buffett\n",
       "5                                Larry Page\n",
       "6                               Sergey Brin\n",
       "7                             Larry Ellison\n",
       "8                             Steve Ballmer\n",
       "9                             Mukesh Ambani\n",
       "10                    Gautam Adani & family\n",
       "11                        Michael Bloomberg\n",
       "12                Carlos Slim Helu & family\n",
       "13    Francoise Bettencourt Meyers & family\n",
       "14                          Mark Zuckerberg\n",
       "Name: Name, dtype: object"
      ]
     },
     "execution_count": 65,
     "metadata": {},
     "output_type": "execute_result"
    }
   ],
   "source": [
    "richest.head(15)"
   ]
  },
  {
   "cell_type": "code",
   "execution_count": 66,
   "id": "1aa841ae-f402-4c30-95a3-80e537183f48",
   "metadata": {},
   "outputs": [
    {
     "data": {
      "text/plain": [
       "'Elon Musk'"
      ]
     },
     "execution_count": 66,
     "metadata": {},
     "output_type": "execute_result"
    }
   ],
   "source": [
    "# First data\n",
    "richest[0]"
   ]
  },
  {
   "cell_type": "code",
   "execution_count": 67,
   "id": "f887607f-95d0-48ea-8687-e23bf3a99335",
   "metadata": {},
   "outputs": [
    {
     "name": "stdout",
     "output_type": "stream",
     "text": [
      "Error: 1000000\n"
     ]
    }
   ],
   "source": [
    "# Out of range\n",
    "try:\n",
    "    richest[1_000_000]\n",
    "except KeyError as error:\n",
    "    print(f\"Error: {error}\")"
   ]
  },
  {
   "cell_type": "code",
   "execution_count": 68,
   "id": "eb4cd30c-3b42-4282-8c07-2dad97f26d85",
   "metadata": {},
   "outputs": [
    {
     "name": "stdout",
     "output_type": "stream",
     "text": [
      "ERROR\n",
      "-1\n"
     ]
    }
   ],
   "source": [
    "# Out of range, not: unlike Python list, -1 is out of range\n",
    "try:\n",
    "    richest[-1]\n",
    "except KeyError as error:\n",
    "    print(\"ERROR\")\n",
    "    print(error)"
   ]
  },
  {
   "cell_type": "code",
   "execution_count": 69,
   "id": "cc1db216-2cec-468e-8ccc-70c57949d984",
   "metadata": {},
   "outputs": [
    {
     "data": {
      "text/plain": [
       "100    Peter Woo\n",
       "Name: Name, dtype: object"
      ]
     },
     "execution_count": 69,
     "metadata": {},
     "output_type": "execute_result"
    }
   ],
   "source": [
    "# To access the last element, use a special slice notation\n",
    "richest[-1:]"
   ]
  },
  {
   "cell_type": "code",
   "execution_count": 70,
   "id": "26e90335-a7d1-41a0-8194-f09d77ebb35f",
   "metadata": {},
   "outputs": [
    {
     "data": {
      "text/plain": [
       "1                  Jeff Bezos\n",
       "2    Bernard Arnault & family\n",
       "3                  Bill Gates\n",
       "Name: Name, dtype: object"
      ]
     },
     "execution_count": 70,
     "metadata": {},
     "output_type": "execute_result"
    }
   ],
   "source": [
    "# Multiple indices\n",
    "richest[[1, 2, 3]]"
   ]
  },
  {
   "cell_type": "code",
   "execution_count": 71,
   "id": "5c09a937-ca46-4590-a0c7-a477610adff3",
   "metadata": {},
   "outputs": [
    {
     "data": {
      "text/plain": [
       "1                  Jeff Bezos\n",
       "2    Bernard Arnault & family\n",
       "3                  Bill Gates\n",
       "4              Warren Buffett\n",
       "Name: Name, dtype: object"
      ]
     },
     "execution_count": 71,
     "metadata": {},
     "output_type": "execute_result"
    }
   ],
   "source": [
    "# Sices\n",
    "richest[1:5]"
   ]
  },
  {
   "cell_type": "code",
   "execution_count": 72,
   "id": "49cd1db1-0eb1-4211-bf64-7ea033efbf2b",
   "metadata": {},
   "outputs": [
    {
     "data": {
      "text/plain": [
       "RangeIndex(start=0, stop=101, step=1)"
      ]
     },
     "execution_count": 72,
     "metadata": {},
     "output_type": "execute_result"
    }
   ],
   "source": [
    "richest.index"
   ]
  },
  {
   "cell_type": "code",
   "execution_count": 73,
   "id": "23490e7a-0f6f-4844-ab63-5faf5298091f",
   "metadata": {},
   "outputs": [
    {
     "data": {
      "text/plain": [
       "101"
      ]
     },
     "execution_count": 73,
     "metadata": {},
     "output_type": "execute_result"
    }
   ],
   "source": [
    "richest.size"
   ]
  },
  {
   "cell_type": "markdown",
   "id": "cc1ec3be-d3ef-49dc-8f03-e94be2f11c92",
   "metadata": {},
   "source": [
    "## Chapter 13 - Accessing elements via index"
   ]
  },
  {
   "cell_type": "code",
   "execution_count": 74,
   "id": "d28ba314-9592-438c-a642-bba64d388744",
   "metadata": {},
   "outputs": [
    {
     "data": {
      "text/plain": [
       "Name\n",
       "Elon Musk                   $219,000,000,000\n",
       "Jeff Bezos                  $171,000,000,000\n",
       "Bernard Arnault & family    $158,000,000,000\n",
       "Bill Gates                  $129,000,000,000\n",
       "Warren Buffett              $118,000,000,000\n",
       "                                  ...       \n",
       "Vladimir Potanin             $17,300,000,000\n",
       "Harold Hamm & family         $17,200,000,000\n",
       "Sun Piaoyang                 $17,100,000,000\n",
       "Luo Liguo & family           $17,000,000,000\n",
       "Peter Woo                    $17,000,000,000\n",
       "Name: NetWorth, Length: 101, dtype: object"
      ]
     },
     "execution_count": 74,
     "metadata": {},
     "output_type": "execute_result"
    }
   ],
   "source": [
    "import pandas as pd\n",
    "\n",
    "richest = pd.read_csv(\n",
    "    \"TopRichestInWorld.csv\",\n",
    "    usecols=[\"Name\", \"NetWorth\"],\n",
    "    index_col=\"Name\",\n",
    ").squeeze()\n",
    "richest"
   ]
  },
  {
   "cell_type": "code",
   "execution_count": 75,
   "id": "8911228e-f163-451f-a288-f4bcd8b8ab0d",
   "metadata": {},
   "outputs": [
    {
     "data": {
      "text/plain": [
       "'$219,000,000,000'"
      ]
     },
     "execution_count": 75,
     "metadata": {},
     "output_type": "execute_result"
    }
   ],
   "source": [
    "# Still be able to access using index\n",
    "richest.iloc[0]"
   ]
  },
  {
   "cell_type": "code",
   "execution_count": 76,
   "id": "8a6ebd2d-de39-4850-92a6-cee76bc73bac",
   "metadata": {},
   "outputs": [
    {
     "data": {
      "text/plain": [
       "'$129,000,000,000'"
      ]
     },
     "execution_count": 76,
     "metadata": {},
     "output_type": "execute_result"
    }
   ],
   "source": [
    "# Access networth by index, which is the name\n",
    "richest[\"Bill Gates\"]"
   ]
  },
  {
   "cell_type": "code",
   "execution_count": 77,
   "id": "b336cf0e-b455-419b-8c0e-cc26b344b379",
   "metadata": {},
   "outputs": [
    {
     "data": {
      "text/plain": [
       "Name\n",
       "Bill Gates        $129,000,000,000\n",
       "Jeff Bezos        $171,000,000,000\n",
       "Warren Buffett    $118,000,000,000\n",
       "Name: NetWorth, dtype: object"
      ]
     },
     "execution_count": 77,
     "metadata": {},
     "output_type": "execute_result"
    }
   ],
   "source": [
    "richest[[\"Bill Gates\", \"Jeff Bezos\", \"Warren Buffett\"]]"
   ]
  },
  {
   "cell_type": "code",
   "execution_count": 78,
   "id": "a84df9e3-7ae3-4d37-b393-31f4c4be7200",
   "metadata": {},
   "outputs": [
    {
     "data": {
      "text/plain": [
       "Name\n",
       "Elon Musk                   $219,000,000,000\n",
       "Jeff Bezos                  $171,000,000,000\n",
       "Bernard Arnault & family    $158,000,000,000\n",
       "Bill Gates                  $129,000,000,000\n",
       "Warren Buffett              $118,000,000,000\n",
       "Larry Page                  $111,000,000,000\n",
       "Sergey Brin                 $107,000,000,000\n",
       "Larry Ellison               $106,000,000,000\n",
       "Steve Ballmer                $91,400,000,000\n",
       "Name: NetWorth, dtype: object"
      ]
     },
     "execution_count": 78,
     "metadata": {},
     "output_type": "execute_result"
    }
   ],
   "source": [
    "# Slices\n",
    "richest[:\"Steve Ballmer\"]"
   ]
  },
  {
   "cell_type": "code",
   "execution_count": 79,
   "id": "f13feb20-be2c-4bb2-9c8e-00e38b4012aa",
   "metadata": {},
   "outputs": [
    {
     "data": {
      "text/plain": [
       "Name\n",
       "Bill Gates        $129,000,000,000\n",
       "Warren Buffett    $118,000,000,000\n",
       "Larry Page        $111,000,000,000\n",
       "Sergey Brin       $107,000,000,000\n",
       "Larry Ellison     $106,000,000,000\n",
       "Steve Ballmer      $91,400,000,000\n",
       "Name: NetWorth, dtype: object"
      ]
     },
     "execution_count": 79,
     "metadata": {},
     "output_type": "execute_result"
    }
   ],
   "source": [
    "# Slices are inclusive\n",
    "richest[\"Bill Gates\":\"Steve Ballmer\"]"
   ]
  },
  {
   "cell_type": "code",
   "execution_count": 80,
   "id": "d04effd3-8324-4619-9b2e-7a7a6b0a8309",
   "metadata": {},
   "outputs": [
    {
     "data": {
      "text/plain": [
       "Index(['Elon Musk', 'Jeff Bezos', 'Bernard Arnault & family', 'Bill Gates',\n",
       "       'Warren Buffett', 'Larry Page', 'Sergey Brin', 'Larry Ellison',\n",
       "       'Steve Ballmer', 'Mukesh Ambani',\n",
       "       ...\n",
       "       'Savitri Jindal & family', 'Wang Wenyin', 'Li Xiting', 'Stefan Persson',\n",
       "       'Steve Cohen', 'Vladimir Potanin', 'Harold Hamm & family',\n",
       "       'Sun Piaoyang', 'Luo Liguo & family', 'Peter Woo'],\n",
       "      dtype='object', name='Name', length=101)"
      ]
     },
     "execution_count": 80,
     "metadata": {},
     "output_type": "execute_result"
    }
   ],
   "source": [
    "richest.index"
   ]
  },
  {
   "cell_type": "markdown",
   "id": "de679a59-e298-41fc-ae4f-e0d161f91e92",
   "metadata": {},
   "source": [
    "## Chapter 14 - Homework"
   ]
  },
  {
   "cell_type": "markdown",
   "id": "e000fd14-8093-4b62-b10c-3775205eddf8",
   "metadata": {},
   "source": [
    "### Import pandas with its alias"
   ]
  },
  {
   "cell_type": "code",
   "execution_count": 81,
   "id": "013c6a33-ad95-42f6-9a31-67804360ea7e",
   "metadata": {},
   "outputs": [],
   "source": [
    "import pandas as pd"
   ]
  },
  {
   "cell_type": "markdown",
   "id": "a765e332-65e6-4ba3-b7e4-33afe9886d5a",
   "metadata": {},
   "source": [
    "### Load the TopRich... file and make name the index and Age the column"
   ]
  },
  {
   "cell_type": "code",
   "execution_count": 82,
   "id": "0205e3c8-b8fb-42f8-a299-0fcc687a8744",
   "metadata": {},
   "outputs": [
    {
     "data": {
      "text/plain": [
       "Name\n",
       "Elon Musk                   50\n",
       "Jeff Bezos                  58\n",
       "Bernard Arnault & family    73\n",
       "Bill Gates                  66\n",
       "Warren Buffett              91\n",
       "                            ..\n",
       "Vladimir Potanin            61\n",
       "Harold Hamm & family        76\n",
       "Sun Piaoyang                63\n",
       "Luo Liguo & family          66\n",
       "Peter Woo                   75\n",
       "Name: Age, Length: 101, dtype: int64"
      ]
     },
     "execution_count": 82,
     "metadata": {},
     "output_type": "execute_result"
    }
   ],
   "source": [
    "s = pd.read_csv(\"TopRichestInWorld.csv\", usecols=[\"Name\", \"Age\"], index_col=\"Name\").squeeze()\n",
    "s"
   ]
  },
  {
   "cell_type": "markdown",
   "id": "1a8b8ec4-4050-4c95-8a4f-3b4b660beb37",
   "metadata": {},
   "source": [
    "### Which person is the oldest, how old is he/she?"
   ]
  },
  {
   "cell_type": "code",
   "execution_count": 83,
   "id": "36ae1c23-fe1c-44c0-8869-721e562cba3b",
   "metadata": {},
   "outputs": [
    {
     "name": "stdout",
     "output_type": "stream",
     "text": [
      "The oldest is Lee Shau Kee at 94\n"
     ]
    }
   ],
   "source": [
    "print(f\"The oldest is {s.idxmax()} at {s.max()}\")"
   ]
  },
  {
   "cell_type": "markdown",
   "id": "f927877d-4731-4e8a-8489-b9b13e18decd",
   "metadata": {},
   "source": [
    "### Sort from oldest to youngest to verify"
   ]
  },
  {
   "cell_type": "code",
   "execution_count": null,
   "id": "82331114-c1b2-4df8-bf99-439c1b12dc0c",
   "metadata": {},
   "outputs": [],
   "source": []
  },
  {
   "cell_type": "code",
   "execution_count": 84,
   "id": "7e1d7b23-f9e6-4822-a5a0-1e88852346f3",
   "metadata": {},
   "outputs": [
    {
     "data": {
      "text/plain": [
       "Name\n",
       "Lee Shau Kee                     94\n",
       "Li Ka-shing                      93\n",
       "Warren Buffett                   91\n",
       "Rupert Murdoch & family          91\n",
       "Leonard Lauder                   89\n",
       "Leonardo Del Vecchio & family    86\n",
       "Charles Koch                     86\n",
       "John Mars                        86\n",
       "Reinhold Wuerth & family         86\n",
       "Amancio Ortega                   86\n",
       "Name: Age, dtype: int64"
      ]
     },
     "execution_count": 84,
     "metadata": {},
     "output_type": "execute_result"
    }
   ],
   "source": [
    "s.sort_values(ascending=False).head(10)"
   ]
  },
  {
   "cell_type": "markdown",
   "id": "183ae30f-b7bd-48c5-868b-926d787ff297",
   "metadata": {},
   "source": [
    "### Which person is the youngest?"
   ]
  },
  {
   "cell_type": "code",
   "execution_count": 85,
   "id": "6b523ccb-d815-43d9-af15-fa866b6fffc0",
   "metadata": {},
   "outputs": [
    {
     "name": "stdout",
     "output_type": "stream",
     "text": [
      "The youngest is Sam Bankman-Fried at 30\n"
     ]
    }
   ],
   "source": [
    "print(f\"The youngest is {s.idxmin()} at {s.min()}\")"
   ]
  },
  {
   "cell_type": "markdown",
   "id": "bbf9b4b4-bb45-4f57-87ec-490baa05c2fb",
   "metadata": {},
   "source": [
    "### Sort to verify"
   ]
  },
  {
   "cell_type": "code",
   "execution_count": 86,
   "id": "0b683edf-3657-4101-9331-1f0589cc2836",
   "metadata": {},
   "outputs": [
    {
     "data": {
      "text/plain": [
       "Name\n",
       "Sam Bankman-Fried          30\n",
       "Mark Zuckerberg            37\n",
       "Zhang Yiming               38\n",
       "Guillaume Pousaz           40\n",
       "Yang Huiyan & family       40\n",
       "                           ..\n",
       "Leonard Lauder             89\n",
       "Rupert Murdoch & family    91\n",
       "Warren Buffett             91\n",
       "Li Ka-shing                93\n",
       "Lee Shau Kee               94\n",
       "Name: Age, Length: 101, dtype: int64"
      ]
     },
     "execution_count": 86,
     "metadata": {},
     "output_type": "execute_result"
    }
   ],
   "source": [
    "s.sort_values()"
   ]
  },
  {
   "cell_type": "markdown",
   "id": "8bbd3683-8d1b-4222-9b02-b7c6ee589719",
   "metadata": {},
   "source": [
    "### Average age"
   ]
  },
  {
   "cell_type": "code",
   "execution_count": 87,
   "id": "cf509662-01b2-4057-a6e2-fb11448f6b8f",
   "metadata": {},
   "outputs": [
    {
     "name": "stdout",
     "output_type": "stream",
     "text": [
      "Average age: 67.12\n"
     ]
    }
   ],
   "source": [
    "print(f\"Average age: {s.mean().round(decimals=2)}\")"
   ]
  },
  {
   "cell_type": "markdown",
   "id": "16bb1daa-0ea0-4e0a-9bc2-48e52cc8352e",
   "metadata": {},
   "source": [
    "### Save as CSV"
   ]
  },
  {
   "cell_type": "code",
   "execution_count": 88,
   "id": "a242cce2-430e-4102-aa2c-feb5d12bf865",
   "metadata": {},
   "outputs": [],
   "source": [
    "s.to_csv(\"NamesAndAges.csv\")"
   ]
  },
  {
   "cell_type": "markdown",
   "id": "a8a662d5-0a2a-4c85-83b1-c20b399083f6",
   "metadata": {},
   "source": [
    "### Read It Back"
   ]
  },
  {
   "cell_type": "code",
   "execution_count": 93,
   "id": "2e64859f-a93f-4a35-bad3-02c388faf068",
   "metadata": {},
   "outputs": [],
   "source": [
    "s2 = pd.read_csv(\"NamesAndAges.csv\", index_col=[\"Name\"]).squeeze()"
   ]
  },
  {
   "cell_type": "code",
   "execution_count": 94,
   "id": "984a4db3-58b6-47d6-8b34-21b0e1f4604a",
   "metadata": {},
   "outputs": [
    {
     "data": {
      "text/plain": [
       "pandas.core.series.Series"
      ]
     },
     "execution_count": 94,
     "metadata": {},
     "output_type": "execute_result"
    }
   ],
   "source": [
    "type(s2)"
   ]
  },
  {
   "cell_type": "code",
   "execution_count": 95,
   "id": "c7ee0e46-aa13-473a-be3a-fcd3937c864c",
   "metadata": {},
   "outputs": [
    {
     "data": {
      "text/plain": [
       "Name\n",
       "Elon Musk                   50\n",
       "Jeff Bezos                  58\n",
       "Bernard Arnault & family    73\n",
       "Bill Gates                  66\n",
       "Warren Buffett              91\n",
       "                            ..\n",
       "Vladimir Potanin            61\n",
       "Harold Hamm & family        76\n",
       "Sun Piaoyang                63\n",
       "Luo Liguo & family          66\n",
       "Peter Woo                   75\n",
       "Name: Age, Length: 101, dtype: int64"
      ]
     },
     "execution_count": 95,
     "metadata": {},
     "output_type": "execute_result"
    }
   ],
   "source": [
    "s2"
   ]
  },
  {
   "cell_type": "code",
   "execution_count": null,
   "id": "30afb903-7926-4c8c-b747-eeb9092366fb",
   "metadata": {},
   "outputs": [],
   "source": []
  }
 ],
 "metadata": {
  "kernelspec": {
   "display_name": "Python 3 (ipykernel)",
   "language": "python",
   "name": "python3"
  },
  "language_info": {
   "codemirror_mode": {
    "name": "ipython",
    "version": 3
   },
   "file_extension": ".py",
   "mimetype": "text/x-python",
   "name": "python",
   "nbconvert_exporter": "python",
   "pygments_lexer": "ipython3",
   "version": "3.13.5"
  }
 },
 "nbformat": 4,
 "nbformat_minor": 5
}
