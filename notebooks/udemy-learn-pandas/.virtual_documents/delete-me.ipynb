import sys


sys.version


print("Hello")



