


import pandas as pd


numbers = [1, 2, 3, 4, 5]


pd.Series(numbers)


letters = list("abcde")
letters


pd.Series(data=letters, index=numbers)


pd.Series(data=numbers, index=letters)


# Another example of index
pd.Series(data=letters, index="letter1 letter2 letter3 letter4 letter5".split())


# Series from dict
data = {"name": "Luigi", "age": 26, "work": "Unemployed"}


pd.Series(data=data)


# Alternate index
pd.Series(data=data, index="name age job".split())





import pandas as pd


numbers = [1, 2, 3, 4, 5]
letters = list("abcde")


number_series = pd.Series(numbers)
number_series


letter_series = pd.Series(letters)
letter_series


number_series.dtype


letter_series.dtype


letter_series.values


number_series.index


# Nan: Missing data
incomplete_series = pd.Series(data=["a", "b", None], index=[1, 2, 3])
incomplete_series


incomplete_series.hasnans


# Shape: dimension: for a series, it will return a sinle tuple
# For a dataframe, it will return multiple tuples
number_series.shape


# Size: length of the series
number_series.size





import pandas as pd


values = pd.Series(data=[1.5, 2.5, 0.5, None, 4.12345, 1.0])


values


values.max()


values.min()


values.sum()


values.mean()


values.idxmax(), values.idxmin()


values.isnull()


values.round()


values.round(decimals=2)






