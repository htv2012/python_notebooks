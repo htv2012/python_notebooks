{
 "cells": [
  {
   "cell_type": "markdown",
   "metadata": {},
   "source": [
    "# Use namedtuple as Row"
   ]
  },
  {
   "cell_type": "code",
   "execution_count": 1,
   "metadata": {},
   "outputs": [],
   "source": [
    "from collections import namedtuple\n",
    "import sqlite3\n",
    "\n",
    "User = namedtuple('User', ['uid', 'alias', 'shell'])"
   ]
  },
  {
   "cell_type": "code",
   "execution_count": 2,
   "metadata": {},
   "outputs": [],
   "source": [
    "conn = sqlite3.connect(':memory:')\n",
    "conn.execute('CREATE TABLE user (uid INT, alias TEXT, shell TEXT)')\n",
    "conn.commit()"
   ]
  },
  {
   "cell_type": "code",
   "execution_count": 3,
   "metadata": {},
   "outputs": [],
   "source": [
    "# Insert a few rows\n",
    "rows = [\n",
    "    (501, 'john', 'bash'),\n",
    "    (502, 'karen', 'tcsh'),\n",
    "]\n",
    "conn.executemany('INSERT INTO user VALUES (?, ?, ?)', rows)\n",
    "conn.commit()"
   ]
  },
  {
   "cell_type": "code",
   "execution_count": 4,
   "metadata": {},
   "outputs": [
    {
     "name": "stdout",
     "output_type": "stream",
     "text": [
      "(501, 'john', 'bash')\n",
      "(502, 'karen', 'tcsh')\n"
     ]
    }
   ],
   "source": [
    "# Without row factory, each row is returned as a tuple\n",
    "for row in conn.execute('SELECT * FROM user'):\n",
    "    print(row)"
   ]
  },
  {
   "cell_type": "code",
   "execution_count": 5,
   "metadata": {},
   "outputs": [
    {
     "name": "stdout",
     "output_type": "stream",
     "text": [
      "User(uid=501, alias='john', shell='bash')\n",
      "User(uid=502, alias='karen', shell='tcsh')\n"
     ]
    }
   ],
   "source": [
    "# With a row factory, a custom type is returned for each row\n",
    "conn.row_factory = lambda cursor, row: User._make(row)\n",
    "for row in conn.execute('SELECT * FROM user'):\n",
    "    print(row)"
   ]
  },
  {
   "cell_type": "code",
   "execution_count": 7,
   "metadata": {},
   "outputs": [
    {
     "name": "stdout",
     "output_type": "stream",
     "text": [
      "uid=501, alias=john, shell=bash\n",
      "uid=502, alias=karen, shell=tcsh\n"
     ]
    }
   ],
   "source": [
    "# Use the built-in sqlite3.Row, we can index by int or by name\n",
    "conn.row_factory = sqlite3.Row\n",
    "for row in conn.execute('SELECT * FROM user'):\n",
    "    print(f\"uid={row['uid']}, alias={row[1]}, shell={row[2]}\")"
   ]
  },
  {
   "cell_type": "code",
   "execution_count": 18,
   "metadata": {},
   "outputs": [
    {
     "name": "stdout",
     "output_type": "stream",
     "text": [
      "Row(uid=501, alias='john', shell='bash')\n",
      "Row(uid=502, alias='karen', shell='tcsh')\n"
     ]
    }
   ],
   "source": [
    "# Dynamically create namedtuple, might now be as efficient\n",
    "# as the sqlite3.Row\n",
    "\n",
    "def make_namedtuple(cursor, row):\n",
    "    labels = [tup[0] for tup in cursor.description]\n",
    "    new_row = dict(zip(labels, row))\n",
    "    blue_print = namedtuple(\"Row\", labels)\n",
    "    new_row = blue_print(*row)\n",
    "    return new_row\n",
    "\n",
    "conn.row_factory = make_namedtuple\n",
    "for row in conn.execute('SELECT * FROM user'):\n",
    "    print(row)"
   ]
  },
  {
   "cell_type": "code",
   "execution_count": null,
   "metadata": {},
   "outputs": [],
   "source": []
  }
 ],
 "metadata": {
  "kernelspec": {
   "display_name": "Python 3",
   "language": "python",
   "name": "python3"
  },
  "language_info": {
   "codemirror_mode": {
    "name": "ipython",
    "version": 3
   },
   "file_extension": ".py",
   "mimetype": "text/x-python",
   "name": "python",
   "nbconvert_exporter": "python",
   "pygments_lexer": "ipython3",
   "version": "3.7.3"
  }
 },
 "nbformat": 4,
 "nbformat_minor": 4
}
