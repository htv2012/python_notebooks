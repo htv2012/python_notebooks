{
 "cells": [
  {
   "cell_type": "markdown",
   "id": "4569d496-8a1f-4b28-ab56-5ce310a6d5ba",
   "metadata": {},
   "source": [
    "# Create dataclasses objects from dictionaries"
   ]
  },
  {
   "cell_type": "code",
   "execution_count": 14,
   "id": "20289049-3b88-4b95-a2d8-cb564bd7cc6f",
   "metadata": {},
   "outputs": [],
   "source": [
    "import dataclasses\n",
    "from typing import Optional\n",
    "\n",
    "\n",
    "def add_from_dict(cls):\n",
    "    def from_dict(klass, di):\n",
    "        if dataclasses.is_dataclass(di):\n",
    "            di = dataclasses.asdict(di)\n",
    "\n",
    "        kwargs = {\n",
    "            for \n",
    "\n",
    "    setattr(cls, \"from_dict\", classmethod(from_dict))\n",
    "    return cls\n",
    "\n",
    "    \n",
    "@dataclasses.dataclass(frozen=True)\n",
    "class SshConfig:\n",
    "    hostname: str\n",
    "    port: int = 22\n",
    "    username: Optional[str] = None\n",
    "    password: Optional[str] = None\n",
    "\n",
    "\n",
    "@add_from_dict\n",
    "@dataclasses.dataclass(frozen=True)\n",
    "class Server:\n",
    "    hostname: str\n",
    "    port: int = 22\n",
    "    username: Optional[str] = None\n",
    "    password: Optional[str] = None\n",
    "    active: bool = True"
   ]
  },
  {
   "cell_type": "code",
   "execution_count": 15,
   "id": "066337c9-4671-4571-8fdf-e5cba57685de",
   "metadata": {},
   "outputs": [
    {
     "data": {
      "text/plain": [
       "SshConfig(hostname='server1.dev', port=22, username='user1', password=None)"
      ]
     },
     "execution_count": 15,
     "metadata": {},
     "output_type": "execute_result"
    }
   ],
   "source": [
    "cfg = SshConfig(hostname=\"server1.dev\", username=\"user1\")\n",
    "cfg"
   ]
  },
  {
   "cell_type": "code",
   "execution_count": 16,
   "id": "118e3bca-0261-4a9f-a48f-6b595b4ca77c",
   "metadata": {},
   "outputs": [
    {
     "data": {
      "text/plain": [
       "Server(hostname='server2.dev', port=22, username='user2', password='i4Got', active=True)"
      ]
     },
     "execution_count": 16,
     "metadata": {},
     "output_type": "execute_result"
    }
   ],
   "source": [
    "svr = Server(hostname=\"server2.dev\", username=\"user2\", password=\"i4Got\")\n",
    "svr"
   ]
  },
  {
   "cell_type": "code",
   "execution_count": 17,
   "id": "94b0df59-7c0a-4e90-858e-29593fffc806",
   "metadata": {},
   "outputs": [],
   "source": [
    "Server.from_dict(1)"
   ]
  },
  {
   "cell_type": "code",
   "execution_count": 18,
   "id": "b1a813b4-ae58-4045-a29f-84a3fafa08cd",
   "metadata": {},
   "outputs": [
    {
     "data": {
      "text/plain": [
       "(Field(name='hostname',type=<class 'str'>,default=<dataclasses._MISSING_TYPE object at 0x7ca8ca975400>,default_factory=<dataclasses._MISSING_TYPE object at 0x7ca8ca975400>,init=True,repr=True,hash=None,compare=True,metadata=mappingproxy({}),kw_only=False,_field_type=_FIELD),\n",
       " Field(name='port',type=<class 'int'>,default=22,default_factory=<dataclasses._MISSING_TYPE object at 0x7ca8ca975400>,init=True,repr=True,hash=None,compare=True,metadata=mappingproxy({}),kw_only=False,_field_type=_FIELD),\n",
       " Field(name='username',type=typing.Optional[str],default=None,default_factory=<dataclasses._MISSING_TYPE object at 0x7ca8ca975400>,init=True,repr=True,hash=None,compare=True,metadata=mappingproxy({}),kw_only=False,_field_type=_FIELD),\n",
       " Field(name='password',type=typing.Optional[str],default=None,default_factory=<dataclasses._MISSING_TYPE object at 0x7ca8ca975400>,init=True,repr=True,hash=None,compare=True,metadata=mappingproxy({}),kw_only=False,_field_type=_FIELD),\n",
       " Field(name='active',type=<class 'bool'>,default=True,default_factory=<dataclasses._MISSING_TYPE object at 0x7ca8ca975400>,init=True,repr=True,hash=None,compare=True,metadata=mappingproxy({}),kw_only=False,_field_type=_FIELD))"
      ]
     },
     "execution_count": 18,
     "metadata": {},
     "output_type": "execute_result"
    }
   ],
   "source": [
    "fields = dataclasses.fields(Server)\n",
    "fields"
   ]
  },
  {
   "cell_type": "code",
   "execution_count": 30,
   "id": "31c2fab0-7942-4420-9d10-883763715dbc",
   "metadata": {},
   "outputs": [
    {
     "data": {
      "text/plain": [
       "22"
      ]
     },
     "execution_count": 30,
     "metadata": {},
     "output_type": "execute_result"
    }
   ],
   "source": [
    "fields[1].default"
   ]
  },
  {
   "cell_type": "code",
   "execution_count": 33,
   "id": "13097c45-4269-4835-8995-bfdaca946d27",
   "metadata": {},
   "outputs": [
    {
     "data": {
      "text/plain": [
       "True"
      ]
     },
     "execution_count": 33,
     "metadata": {},
     "output_type": "execute_result"
    }
   ],
   "source": [
    "fields[0].default is dataclasses.MISSING"
   ]
  },
  {
   "cell_type": "code",
   "execution_count": 32,
   "id": "21928aec-602c-4afd-9069-614fcfda0cd9",
   "metadata": {},
   "outputs": [
    {
     "data": {
      "text/plain": [
       "<dataclasses._MISSING_TYPE at 0x7ca8ca975400>"
      ]
     },
     "execution_count": 32,
     "metadata": {},
     "output_type": "execute_result"
    }
   ],
   "source": [
    "dataclasses.MISSING"
   ]
  },
  {
   "cell_type": "code",
   "execution_count": 34,
   "id": "832775e8-7d51-402b-b1fe-6625ac70cc20",
   "metadata": {},
   "outputs": [
    {
     "data": {
      "text/plain": [
       "{'hostname': 'server1.dev', 'port': 22, 'username': 'user1', 'password': None}"
      ]
     },
     "execution_count": 34,
     "metadata": {},
     "output_type": "execute_result"
    }
   ],
   "source": [
    "dataclasses.asdict(cfg)"
   ]
  },
  {
   "cell_type": "code",
   "execution_count": 35,
   "id": "423d2317-0611-4ae8-87dc-5ce86d9e489d",
   "metadata": {},
   "outputs": [
    {
     "data": {
      "text/plain": [
       "{'port': 22, 'username': None, 'password': None, 'active': True}"
      ]
     },
     "execution_count": 35,
     "metadata": {},
     "output_type": "execute_result"
    }
   ],
   "source": [
    "{\n",
    "    field.name: default_value\n",
    "    for field in dataclasses.fields(Server)\n",
    "    if (default_value := field.default) is not dataclasses.MISSING\n",
    "}"
   ]
  },
  {
   "cell_type": "code",
   "execution_count": null,
   "id": "cc5a16b4-e598-4797-be6d-f3b7b1bdc6fb",
   "metadata": {},
   "outputs": [],
   "source": []
  }
 ],
 "metadata": {
  "kernelspec": {
   "display_name": "Python 3 (ipykernel)",
   "language": "python",
   "name": "python3"
  },
  "language_info": {
   "codemirror_mode": {
    "name": "ipython",
    "version": 3
   },
   "file_extension": ".py",
   "mimetype": "text/x-python",
   "name": "python",
   "nbconvert_exporter": "python",
   "pygments_lexer": "ipython3",
   "version": "3.13.2"
  }
 },
 "nbformat": 4,
 "nbformat_minor": 5
}
