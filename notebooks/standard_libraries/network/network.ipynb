{
 "cells": [
  {
   "cell_type": "markdown",
   "metadata": {},
   "source": [
    "# Network Stuff\n",
    "\n",
    "A bunch of network-related stuff; they could go into utilities/network.py"
   ]
  },
  {
   "cell_type": "markdown",
   "metadata": {},
   "source": [
    "### Validate an IP Address"
   ]
  },
  {
   "cell_type": "code",
   "execution_count": 1,
   "metadata": {},
   "outputs": [],
   "source": [
    "import ipaddress\n",
    "\n",
    "def is_valid_ip(ip_address: str) -> bool:\n",
    "    \"\"\"\n",
    "    Given an IP address, determines if it is a valid one\n",
    "    \n",
    "    :param ip_address: the IP address to validate\n",
    "    :return: True if valid, False if not\n",
    "    \"\"\"\n",
    "    try:\n",
    "        ipaddress.ip_address(ip_address)\n",
    "        return True\n",
    "    except ValueError:\n",
    "        return False"
   ]
  },
  {
   "cell_type": "code",
   "execution_count": 2,
   "metadata": {},
   "outputs": [
    {
     "data": {
      "text/plain": [
       "True"
      ]
     },
     "execution_count": 2,
     "metadata": {},
     "output_type": "execute_result"
    }
   ],
   "source": [
    "# Try it out\n",
    "is_valid_ip('8.8.8.8')"
   ]
  },
  {
   "cell_type": "code",
   "execution_count": 3,
   "metadata": {},
   "outputs": [
    {
     "data": {
      "text/plain": [
       "False"
      ]
     },
     "execution_count": 3,
     "metadata": {},
     "output_type": "execute_result"
    }
   ],
   "source": [
    "is_valid_ip('10.0.1.300')"
   ]
  },
  {
   "cell_type": "markdown",
   "metadata": {},
   "source": [
    "### Is An IP Address IPv4 or IPv6?"
   ]
  },
  {
   "cell_type": "code",
   "execution_count": 4,
   "metadata": {},
   "outputs": [
    {
     "data": {
      "text/plain": [
       "IPv4Address('8.8.8.8')"
      ]
     },
     "execution_count": 4,
     "metadata": {},
     "output_type": "execute_result"
    }
   ],
   "source": [
    "# Try it out\n",
    "ip = ipaddress.ip_address('8.8.8.8')\n",
    "ip"
   ]
  },
  {
   "cell_type": "code",
   "execution_count": 5,
   "metadata": {},
   "outputs": [
    {
     "data": {
      "text/plain": [
       "4"
      ]
     },
     "execution_count": 5,
     "metadata": {},
     "output_type": "execute_result"
    }
   ],
   "source": [
    "ip.version"
   ]
  },
  {
   "cell_type": "code",
   "execution_count": 6,
   "metadata": {},
   "outputs": [
    {
     "data": {
      "text/plain": [
       "6"
      ]
     },
     "execution_count": 6,
     "metadata": {},
     "output_type": "execute_result"
    }
   ],
   "source": [
    "# IPv6 Example\n",
    "ip = ipaddress.ip_address('2001:0db8:0000:0000:0000:8a2e:0370:7334')\n",
    "ip.version"
   ]
  },
  {
   "cell_type": "code",
   "execution_count": 7,
   "metadata": {},
   "outputs": [],
   "source": [
    "def ip_version(ip_address: str) -> int:\n",
    "    \"\"\"\n",
    "    Determines the version (IPv4 or IPv6) of an IP address\n",
    "    \n",
    "    :param ip_address: The address in question\n",
    "    :return: 4 or 6\n",
    "    :raise ValueError: If the address is invalid\n",
    "    \"\"\"\n",
    "    ip = ipaddress.ip_address(ip_address)\n",
    "    return ip.version"
   ]
  },
  {
   "cell_type": "code",
   "execution_count": 8,
   "metadata": {},
   "outputs": [
    {
     "data": {
      "text/plain": [
       "4"
      ]
     },
     "execution_count": 8,
     "metadata": {},
     "output_type": "execute_result"
    }
   ],
   "source": [
    "# Try it out\n",
    "ip_version('10.0.0.1')"
   ]
  },
  {
   "cell_type": "code",
   "execution_count": 9,
   "metadata": {},
   "outputs": [
    {
     "data": {
      "text/plain": [
       "6"
      ]
     },
     "execution_count": 9,
     "metadata": {},
     "output_type": "execute_result"
    }
   ],
   "source": [
    "ip_version('2001:0db8:0000:0000:0000:8a2e:0370:7334')"
   ]
  },
  {
   "cell_type": "code",
   "execution_count": 10,
   "metadata": {},
   "outputs": [
    {
     "name": "stdout",
     "output_type": "stream",
     "text": [
      "'yabadabadoo' does not appear to be an IPv4 or IPv6 address\n"
     ]
    }
   ],
   "source": [
    "# Invalid IP\n",
    "try:\n",
    "    print(ip_version('yabadabadoo'))\n",
    "except Exception as error:\n",
    "    print(error)"
   ]
  },
  {
   "cell_type": "markdown",
   "metadata": {},
   "source": [
    "### Validate a MAC Address"
   ]
  },
  {
   "cell_type": "code",
   "execution_count": 11,
   "metadata": {},
   "outputs": [],
   "source": [
    "import re\n",
    "\n",
    "def is_valid_mac_address(mac: str) -> bool:\n",
    "    \"\"\"\n",
    "    Validates a MAC address. Examples of valid MAC addresses:\n",
    "    - 00:29:35:47:A9:F0\n",
    "    - 00-29-35-47-A9-F0\n",
    "    - 00293547A9F0\n",
    "    \n",
    "    :param mac: The mac address\n",
    "    :return: True if valid, False if not\n",
    "    \"\"\"\n",
    "    patterns = [\n",
    "        r'([0-9A-Fa-f]{2}:){5}[0-9A-Fa-f]{2}',   # colon-separated bytes\n",
    "        r'([0-9A-Fa-f]{2}\\-){5}[0-9A-Fa-f]{2}',  # dash-separated bytes\n",
    "        r'[0-9A-Fa-f]{6}',                       # no separator\n",
    "    ]\n",
    "    for pattern in patterns:\n",
    "        if re.match(pattern, mac):\n",
    "            return True\n",
    "    return False"
   ]
  },
  {
   "cell_type": "code",
   "execution_count": 12,
   "metadata": {},
   "outputs": [
    {
     "data": {
      "text/plain": [
       "True"
      ]
     },
     "execution_count": 12,
     "metadata": {},
     "output_type": "execute_result"
    }
   ],
   "source": [
    "is_valid_mac_address(\"00:29:35:47:A9:F0\")"
   ]
  },
  {
   "cell_type": "markdown",
   "metadata": {},
   "source": [
    "# Ping an IP address"
   ]
  },
  {
   "cell_type": "code",
   "execution_count": 4,
   "metadata": {},
   "outputs": [],
   "source": [
    "import subprocess\n",
    "\n",
    "def ping(ip_address, count=1):\n",
    "    \"\"\"\n",
    "    Pings an IP address and return True/False\n",
    "    \"\"\"\n",
    "    process = subprocess.Popen([\"ping\", \"-c\", str(count), ip_address])\n",
    "    exit_code = process.wait()\n",
    "    return exit_code == 0"
   ]
  },
  {
   "cell_type": "code",
   "execution_count": 5,
   "metadata": {},
   "outputs": [
    {
     "data": {
      "text/plain": [
       "False"
      ]
     },
     "execution_count": 5,
     "metadata": {},
     "output_type": "execute_result"
    }
   ],
   "source": [
    "ping('10.0.0.1')"
   ]
  },
  {
   "cell_type": "code",
   "execution_count": 7,
   "metadata": {},
   "outputs": [
    {
     "data": {
      "text/plain": [
       "True"
      ]
     },
     "execution_count": 7,
     "metadata": {},
     "output_type": "execute_result"
    }
   ],
   "source": [
    "ping('192.168.1.11', 20)"
   ]
  },
  {
   "cell_type": "code",
   "execution_count": null,
   "metadata": {},
   "outputs": [],
   "source": []
  }
 ],
 "metadata": {
  "kernelspec": {
   "display_name": "Python 3",
   "language": "python",
   "name": "python3"
  },
  "language_info": {
   "codemirror_mode": {
    "name": "ipython",
    "version": 3
   },
   "file_extension": ".py",
   "mimetype": "text/x-python",
   "name": "python",
   "nbconvert_exporter": "python",
   "pygments_lexer": "ipython3",
   "version": "3.7.3"
  }
 },
 "nbformat": 4,
 "nbformat_minor": 4
}
