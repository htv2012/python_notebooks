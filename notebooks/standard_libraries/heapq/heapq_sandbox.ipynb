{
 "cells": [
  {
   "cell_type": "markdown",
   "id": "35b4c0cd-7cdf-453d-8210-e4a5ee77dec5",
   "metadata": {},
   "source": [
    "# Heapq Sandbox"
   ]
  },
  {
   "cell_type": "code",
   "execution_count": 1,
   "id": "00f6b139-60cf-4b65-91ee-9e25ca94a8a9",
   "metadata": {},
   "outputs": [],
   "source": [
    "import heapq\n",
    "from heapq import *"
   ]
  },
  {
   "cell_type": "code",
   "execution_count": 2,
   "id": "d48f4184-112b-43b2-9548-22dbe71562e5",
   "metadata": {},
   "outputs": [
    {
     "name": "stdout",
     "output_type": "stream",
     "text": [
      "\n",
      "# Create a heap\n",
      "que=[10, 30, 20, 40]\n"
     ]
    }
   ],
   "source": [
    "print(\"\\n# Create a heap\")\n",
    "que = [20, 30, 10, 40]\n",
    "heapify(que)\n",
    "print(f\"{que=}\")"
   ]
  },
  {
   "cell_type": "code",
   "execution_count": 3,
   "id": "43961e9e-32de-4bb8-a523-fd252aec4716",
   "metadata": {},
   "outputs": [
    {
     "name": "stdout",
     "output_type": "stream",
     "text": [
      "\n",
      "# Pop\n",
      "heappop([10, 30, 20, 40]) -> 10\n",
      "que=[20, 30, 40]\n"
     ]
    }
   ],
   "source": [
    "print(\"\\n# Pop\")\n",
    "print(f\"heappop({que}) -> \", end=\"\")\n",
    "element = heappop(que)\n",
    "print(f\"{element}\")\n",
    "print(f\"{que=}\")"
   ]
  },
  {
   "cell_type": "code",
   "execution_count": 4,
   "id": "7b31e5cb-b68e-4e2a-a2e5-d22b3a542c0f",
   "metadata": {},
   "outputs": [
    {
     "name": "stdout",
     "output_type": "stream",
     "text": [
      "\n",
      "# Push\n",
      "heappush([20, 30, 40], 100)\n",
      "que=[20, 30, 40, 100]\n"
     ]
    }
   ],
   "source": [
    "print(\"\\n# Push\")\n",
    "print(f\"heappush({que}, 100)\")\n",
    "heappush(que, 100)\n",
    "print(f\"{que=}\")"
   ]
  },
  {
   "cell_type": "code",
   "execution_count": 5,
   "id": "9c366c52-d2eb-445f-ab47-3823583675ff",
   "metadata": {},
   "outputs": [
    {
     "name": "stdout",
     "output_type": "stream",
     "text": [
      "\n",
      "# Try heappushpop 50\n",
      "element=20\n",
      "que=[30, 50, 40, 100]\n"
     ]
    }
   ],
   "source": [
    "print(\"\\n# Try heappushpop 50\")\n",
    "element = heappushpop(que, 50)\n",
    "print(f\"{element=}\")\n",
    "print(f\"{que=}\")"
   ]
  },
  {
   "cell_type": "code",
   "execution_count": 6,
   "id": "4692676d-d3d9-4cf5-8745-2e41898c44bd",
   "metadata": {},
   "outputs": [
    {
     "name": "stdout",
     "output_type": "stream",
     "text": [
      "\n",
      "# Try heappushpop 20\n",
      "heappushpop([30, 50, 40, 100], 20) -> 20\n",
      "que=[30, 50, 40, 100]\n"
     ]
    }
   ],
   "source": [
    "print(\"\\n# Try heappushpop 20\")\n",
    "element = heappushpop(que, 20)\n",
    "print(f\"heappushpop({que}, 20) -> {element}\")\n",
    "print(f\"{que=}\")"
   ]
  },
  {
   "cell_type": "code",
   "execution_count": 7,
   "id": "b2f74cd2-81d2-490b-aaa6-ff9b16660d4d",
   "metadata": {},
   "outputs": [
    {
     "name": "stdout",
     "output_type": "stream",
     "text": [
      "\n",
      "# Try heapreplace\n",
      "heapreplace([30, 50, 40, 100], 20) -> 30\n",
      "que=[20, 50, 40, 100]\n"
     ]
    }
   ],
   "source": [
    "print(\"\\n# Try heapreplace\")\n",
    "print(f\"heapreplace({que}, 20) -> \", end=\"\")\n",
    "element = heapreplace(que, 20)\n",
    "print(element)\n",
    "print(f\"{que=}\")"
   ]
  },
  {
   "cell_type": "code",
   "execution_count": 8,
   "id": "4fe46ce9-6d2e-4a8e-8c86-b7cbeaf494aa",
   "metadata": {},
   "outputs": [],
   "source": [
    "# So, the different between heappushpop and heapreplace is heappushpop\n",
    "# pushes first, then pop. On the contrary, heapreplace pops first, then push; \n",
    "# it should be called heappoppush"
   ]
  },
  {
   "cell_type": "code",
   "execution_count": 11,
   "id": "d53e064e-5548-4b40-9d64-dc913832a043",
   "metadata": {},
   "outputs": [
    {
     "name": "stdout",
     "output_type": "stream",
     "text": [
      "\n",
      "# Try merge\n",
      "que2=[60, 90, 70]\n",
      "que3=[10, 50, 40]\n",
      "merged -> [10, 50, 40, 60, 90, 70]\n"
     ]
    }
   ],
   "source": [
    "print(\"\\n# Try merge\")\n",
    "que2 = [90, 60, 70]\n",
    "heapify(que2)\n",
    "que3 = [10, 50, 40]\n",
    "heapify(que3)\n",
    "print(f\"{que2=}\")\n",
    "print(f\"{que3=}\")\n",
    "print(f\"merged -> {list(merge(que2, que3))}\")"
   ]
  },
  {
   "cell_type": "code",
   "execution_count": 15,
   "id": "e1382bfc-468f-4aee-9a7a-166bd38bbf77",
   "metadata": {},
   "outputs": [
    {
     "name": "stdout",
     "output_type": "stream",
     "text": [
      "\n",
      "# Try nsmallest and nlargest\n",
      "que=[1, 2, 4, 3, 6, 5, 8, 10, 7, 9]\n",
      "nsmallest(5, [1, 2, 4, 3, 6, 5, 8, 10, 7, 9]) -> [1, 2, 3, 4, 5]\n",
      "nlargest(5, [1, 2, 4, 3, 6, 5, 8, 10, 7, 9])  -> [10, 9, 8, 7, 6]\n"
     ]
    }
   ],
   "source": [
    "print(\"\\n# Try nsmallest and nlargest\")\n",
    "que = list(range(10, 0, -1))\n",
    "heapify(que)\n",
    "print(f\"{que=}\")\n",
    "\n",
    "print(f\"nsmallest(5, {que}) -> {nsmallest(5, que)}\")\n",
    "print(f\"nlargest(5, {que})  -> {nlargest(5, que)}\")"
   ]
  },
  {
   "cell_type": "markdown",
   "id": "2febf166-126a-477a-9e69-0b6c046e1be3",
   "metadata": {},
   "source": [
    "# Using heapq with custom objects"
   ]
  },
  {
   "cell_type": "code",
   "execution_count": 45,
   "id": "9ffa487a-d40d-401e-9bf3-a54d9a7422d4",
   "metadata": {},
   "outputs": [],
   "source": [
    "from heapq import *\n",
    "\n",
    "\n",
    "class User:\n",
    "    def __init__(self, uid, alias):\n",
    "        self.uid = uid\n",
    "        self.alias = alias\n",
    "        \n",
    "    def __repr__(self):\n",
    "        return f\"{self.__class__.__name__}(uid={self.uid}, alias={self.alias!r})\"\n",
    "    \n",
    "    def __eq__(self, other):\n",
    "        return self.uid == other.uid\n",
    "    \n",
    "    def __lt__(self, other):\n",
    "        return self.uid < other.uid"
   ]
  },
  {
   "cell_type": "code",
   "execution_count": 46,
   "id": "f5d6914f-aa0e-4b33-b5a4-f3af28f923b0",
   "metadata": {},
   "outputs": [
    {
     "data": {
      "text/plain": [
       "[User(uid=501, alias='karen'),\n",
       " User(uid=502, alias='anna'),\n",
       " User(uid=530, alias='derek'),\n",
       " User(uid=511, alias='jake'),\n",
       " User(uid=504, alias='lena')]"
      ]
     },
     "execution_count": 46,
     "metadata": {},
     "output_type": "execute_result"
    }
   ],
   "source": [
    "users = [\n",
    "    User(501, \"karen\"),\n",
    "    User(511, \"jake\"),\n",
    "    User(530, \"derek\"),\n",
    "    User(502, \"anna\"),\n",
    "    User(504, \"lena\"),\n",
    "]\n",
    "heapify(users)\n",
    "users"
   ]
  },
  {
   "cell_type": "code",
   "execution_count": 47,
   "id": "18b92f58-4d28-45f4-9925-8edc87cdc5fb",
   "metadata": {},
   "outputs": [
    {
     "name": "stdout",
     "output_type": "stream",
     "text": [
      "User(uid=501, alias='karen')\n",
      "User(uid=502, alias='anna')\n",
      "User(uid=504, alias='lena')\n",
      "User(uid=511, alias='jake')\n",
      "User(uid=530, alias='derek')\n"
     ]
    }
   ],
   "source": [
    "while users:\n",
    "    user = heappop(users)\n",
    "    print(user)"
   ]
  },
  {
   "cell_type": "code",
   "execution_count": null,
   "id": "6f0945b1-9826-4980-af61-91694311b801",
   "metadata": {},
   "outputs": [],
   "source": []
  }
 ],
 "metadata": {
  "kernelspec": {
   "display_name": "Python 3 (ipykernel)",
   "language": "python",
   "name": "python3"
  },
  "language_info": {
   "codemirror_mode": {
    "name": "ipython",
    "version": 3
   },
   "file_extension": ".py",
   "mimetype": "text/x-python",
   "name": "python",
   "nbconvert_exporter": "python",
   "pygments_lexer": "ipython3",
   "version": "3.10.5"
  }
 },
 "nbformat": 4,
 "nbformat_minor": 5
}
