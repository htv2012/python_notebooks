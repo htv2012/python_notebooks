{
 "cells": [
  {
   "cell_type": "code",
   "execution_count": 2,
   "metadata": {},
   "outputs": [],
   "source": [
    "import graphlib\n",
    "\n",
    "def get_tasks():\n",
    "    tasks = graphlib.TopologicalSorter()\n",
    "    tasks.add('step 2', 'step 1')  # Step 2 depends on step 1\n",
    "    tasks.add('step 3', 'step 1')\n",
    "    tasks.add('step 4')\n",
    "    tasks.add('step 5', 'step 4')\n",
    "    return tasks"
   ]
  },
  {
   "cell_type": "code",
   "execution_count": 4,
   "metadata": {},
   "outputs": [
    {
     "name": "stdout",
     "output_type": "stream",
     "text": [
      "step 1\n",
      "step 4\n",
      "step 2\n",
      "step 3\n",
      "step 5\n"
     ]
    }
   ],
   "source": [
    "# Work on tasks sequentially\n",
    "tasks = get_tasks()\n",
    "for task in tasks.static_order():\n",
    "    print(task)"
   ]
  },
  {
   "cell_type": "code",
   "execution_count": 7,
   "metadata": {},
   "outputs": [
    {
     "name": "stdout",
     "output_type": "stream",
     "text": [
      "Work on: step 1, step 4\n",
      "Work on: step 2, step 3, step 5\n"
     ]
    }
   ],
   "source": [
    "# Work on tasks concurrently\n",
    "tasks2 = get_tasks()\n",
    "tasks2.prepare()\n",
    "while tasks2.is_active():\n",
    "    batch = tasks2.get_ready()\n",
    "    print('Work on:', ', '.join(batch))\n",
    "    tasks2.done(*batch)"
   ]
  },
  {
   "cell_type": "code",
   "execution_count": null,
   "metadata": {},
   "outputs": [],
   "source": []
  }
 ],
 "metadata": {
  "kernelspec": {
   "display_name": "sandbox",
   "language": "python",
   "name": "python3"
  },
  "language_info": {
   "codemirror_mode": {
    "name": "ipython",
    "version": 3
   },
   "file_extension": ".py",
   "mimetype": "text/x-python",
   "name": "python",
   "nbconvert_exporter": "python",
   "pygments_lexer": "ipython3",
   "version": "3.11.3"
  }
 },
 "nbformat": 4,
 "nbformat_minor": 2
}
