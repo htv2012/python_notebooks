{
 "cells": [
  {
   "cell_type": "markdown",
   "metadata": {},
   "source": [
    "# The Problem\n",
    "\n",
    "We have a string representing a block of CSV text and want to parse it\n",
    "\n",
    "# First Solution\n",
    "\n",
    "Not many people know that the `csv` module can work with any iterable, not just file object."
   ]
  },
  {
   "cell_type": "code",
   "execution_count": 6,
   "metadata": {},
   "outputs": [
    {
     "name": "stdout",
     "output_type": "stream",
     "text": [
      "['Gender', 'Age', 'Weight', 'Height']\n",
      "['Male', '55', '82', '180']\n",
      "['Female', '34', '55', '167']\n",
      "['Female', '44', '67', '182']\n",
      "['Male', '81', '73', '175']\n",
      "['Male', '44', '34', '87', '185']\n"
     ]
    }
   ],
   "source": [
    "import csv\n",
    "\n",
    "my_string = \"\"\"Gender,Age,Weight,Height\n",
    "Male, 55, 82, 180\n",
    "Female, 34,55,167\n",
    "Female,44,67,182\n",
    "Male,81,73,175\n",
    "Male,44,34,87,185\n",
    "\"\"\"\n",
    "\n",
    "reader = csv.reader(my_string.splitlines(), skipinitialspace=True)\n",
    "for line in reader:\n",
    "    print(line)"
   ]
  },
  {
   "cell_type": "markdown",
   "metadata": {},
   "source": [
    "# Second Solution\n",
    "\n",
    "We can also use the `StringIO` class"
   ]
  },
  {
   "cell_type": "code",
   "execution_count": 1,
   "metadata": {},
   "outputs": [
    {
     "name": "stdout",
     "output_type": "stream",
     "text": [
      "['Gender', 'Age', 'Weight', 'Height']\n",
      "['Male', '55', '82', '180']\n",
      "['Female', '34', '55', '167']\n",
      "['Female', '44', '67', '182']\n",
      "['Male', '81', '73', '175']\n",
      "['Male', '44', '34', '87', '185']\n"
     ]
    }
   ],
   "source": [
    "import csv\n",
    "from io import StringIO\n",
    "\n",
    "my_string = \"\"\"Gender,Age,Weight,Height\n",
    "Male, 55, 82, 180\n",
    "Female, 34,55,167\n",
    "Female,44,67,182\n",
    "Male,81,73,175\n",
    "Male,44,34,87,185\n",
    "\"\"\"\n",
    "\n",
    "reader = csv.reader(StringIO(my_string), skipinitialspace=True)\n",
    "for line in reader:\n",
    "    print(line)"
   ]
  }
 ],
 "metadata": {
  "kernelspec": {
   "display_name": "Python 3",
   "language": "python",
   "name": "python3"
  },
  "language_info": {
   "codemirror_mode": {
    "name": "ipython",
    "version": 3
   },
   "file_extension": ".py",
   "mimetype": "text/x-python",
   "name": "python",
   "nbconvert_exporter": "python",
   "pygments_lexer": "ipython3",
   "version": "3.7.0"
  }
 },
 "nbformat": 4,
 "nbformat_minor": 2
}
