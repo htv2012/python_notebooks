{
 "cells": [
  {
   "cell_type": "markdown",
   "id": "fc93b71b-6498-4796-833a-c1c6c94bd20c",
   "metadata": {},
   "source": [
    "# Create a Dataclass Object using Templates"
   ]
  },
  {
   "cell_type": "code",
   "execution_count": 50,
   "id": "d13e0057-af5a-4e30-a187-5b9de618eda3",
   "metadata": {},
   "outputs": [],
   "source": [
    "import dataclasses\n",
    "import collections\n",
    "\n",
    "\n",
    "@dataclasses.dataclass\n",
    "class User:\n",
    "    uid: int\n",
    "    alias: str\n",
    "\n",
    "\n",
    "@dataclasses.dataclass\n",
    "class LinuxUser(User):\n",
    "    shell: str\n",
    "    is_admin: bool = False\n",
    "\n",
    "\n",
    "@dataclasses.dataclass\n",
    "class DatabaseUser(User):\n",
    "    permission: str\n",
    "\n",
    "\n",
    "def create(cls, *config, **kwargs):\n",
    "    def asdict(obj):\n",
    "        if dataclasses.is_dataclass(obj):\n",
    "            return dataclasses.asdict(obj)\n",
    "        return obj\n",
    "\n",
    "    config = collections.ChainMap(kwargs, *[asdict(cfg) for cfg in config])\n",
    "    parameters = {\n",
    "        field.name: config[field.name]\n",
    "        for field in dataclasses.fields(cls)\n",
    "    }\n",
    "    return cls(**parameters)"
   ]
  },
  {
   "cell_type": "code",
   "execution_count": 51,
   "id": "282207b0-59b9-4068-89a9-026591d3475b",
   "metadata": {},
   "outputs": [
    {
     "name": "stdout",
     "output_type": "stream",
     "text": [
      "User(uid=501, alias='anna')\n",
      "LinuxUser(uid=502, alias='brad', shell='zsh', is_admin=False)\n",
      "LinuxUser(uid=503, alias='karen', shell='zsh', is_admin=False)\n"
     ]
    }
   ],
   "source": [
    "user1 = User(501, 'anna')\n",
    "user2 = LinuxUser(502, 'brad', 'zsh')\n",
    "user3 = create(LinuxUser, user2, uid=503, alias=\"karen\")\n",
    "\n",
    "print(user1)\n",
    "print(user2)\n",
    "print(user3)"
   ]
  },
  {
   "cell_type": "code",
   "execution_count": 49,
   "id": "c630a211-8079-4aad-a12c-1886e1f35cf0",
   "metadata": {},
   "outputs": [
    {
     "name": "stdout",
     "output_type": "stream",
     "text": [
      "DatabaseUser(uid=504, alias='query_user', permission='read-only')\n"
     ]
    }
   ],
   "source": [
    "db_user_template = {\"permission\": \"read-only\"}\n",
    "user4 = create(DatabaseUser, db_user_template, uid=504, alias=\"query_user\")\n",
    "print(user4)"
   ]
  },
  {
   "cell_type": "code",
   "execution_count": 54,
   "id": "51590276-997e-4a21-a0cc-0a3214c62e17",
   "metadata": {},
   "outputs": [
    {
     "name": "stdout",
     "output_type": "stream",
     "text": [
      "LinuxUser(uid=505, alias='diana', shell='rsh', is_admin=False)\n"
     ]
    }
   ],
   "source": [
    "linux_user_template = {\"is_admin\": False, \"shell\": \"rsh\"}\n",
    "user5 = create(LinuxUser, linux_user_template, uid=505, alias=\"diana\")\n",
    "print(user5)"
   ]
  },
  {
   "cell_type": "code",
   "execution_count": null,
   "id": "37a5d814-231b-4105-b534-44ca5a708655",
   "metadata": {},
   "outputs": [],
   "source": []
  }
 ],
 "metadata": {
  "kernelspec": {
   "display_name": "Python 3 (ipykernel)",
   "language": "python",
   "name": "python3"
  },
  "language_info": {
   "codemirror_mode": {
    "name": "ipython",
    "version": 3
   },
   "file_extension": ".py",
   "mimetype": "text/x-python",
   "name": "python",
   "nbconvert_exporter": "python",
   "pygments_lexer": "ipython3",
   "version": "3.13.3"
  }
 },
 "nbformat": 4,
 "nbformat_minor": 5
}
