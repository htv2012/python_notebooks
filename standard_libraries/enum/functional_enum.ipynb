{
 "cells": [
  {
   "cell_type": "markdown",
   "id": "ff02ba94-9782-47bf-9527-7a381c284183",
   "metadata": {},
   "source": [
    "# Functional Enum\n",
    "\n",
    "An alternative way to create enum is to treat `enum.Enum()` as a function call."
   ]
  },
  {
   "cell_type": "code",
   "execution_count": 1,
   "id": "a89ca88d-bbba-4430-8cc0-4435387a4076",
   "metadata": {},
   "outputs": [],
   "source": [
    "import enum"
   ]
  },
  {
   "cell_type": "code",
   "execution_count": 2,
   "id": "45d30641-758c-440a-840a-71fd57b7822c",
   "metadata": {},
   "outputs": [
    {
     "data": {
      "text/plain": [
       "<enum 'Berries'>"
      ]
     },
     "execution_count": 2,
     "metadata": {},
     "output_type": "execute_result"
    }
   ],
   "source": [
    "Berries = enum.Enum(\"Berries\", \"BLACKBERRY BLUEBERRY STRAWBERRY\")\n",
    "Berries"
   ]
  },
  {
   "cell_type": "code",
   "execution_count": 3,
   "id": "1e72692b-19fc-48bf-9d5d-43b64678795e",
   "metadata": {},
   "outputs": [
    {
     "data": {
      "text/plain": [
       "[<Berries.BLACKBERRY: 1>, <Berries.BLUEBERRY: 2>, <Berries.STRAWBERRY: 3>]"
      ]
     },
     "execution_count": 3,
     "metadata": {},
     "output_type": "execute_result"
    }
   ],
   "source": [
    "list(Berries)"
   ]
  },
  {
   "cell_type": "markdown",
   "id": "d709e624-4c0d-4e67-83fa-daf5b2ea7fc2",
   "metadata": {},
   "source": [
    "By default, the values are integers"
   ]
  },
  {
   "cell_type": "markdown",
   "id": "074c23c9-ab94-4057-92f6-f99f6db7e505",
   "metadata": {},
   "source": [
    "Beside string, we can use any iterable (list, tuple, dict) as names"
   ]
  },
  {
   "cell_type": "code",
   "execution_count": 4,
   "id": "fe40e242-0765-43cd-ae6f-32be55cead5e",
   "metadata": {},
   "outputs": [
    {
     "data": {
      "text/plain": [
       "[<Fruit.APPLE: 1>, <Fruit.MANGO: 2>]"
      ]
     },
     "execution_count": 4,
     "metadata": {},
     "output_type": "execute_result"
    }
   ],
   "source": [
    "Fruit = enum.Enum(\"Fruit\", [\"APPLE\", \"MANGO\"])\n",
    "list(Fruit)"
   ]
  },
  {
   "cell_type": "markdown",
   "id": "8dba708a-111f-45af-95a1-c8dbadac64d3",
   "metadata": {},
   "source": [
    "In case of dictionaries, the keys/values will provide the names and values for the enum"
   ]
  },
  {
   "cell_type": "code",
   "execution_count": 5,
   "id": "9181e0d6-97a5-4907-90d7-09ba19033c42",
   "metadata": {},
   "outputs": [
    {
     "data": {
      "text/plain": [
       "[<Color.BLACK: '#000000'>, <Color.RED: '#ff0000'>]"
      ]
     },
     "execution_count": 5,
     "metadata": {},
     "output_type": "execute_result"
    }
   ],
   "source": [
    "Color = enum.Enum(\"Color\", {\"BLACK\": \"#000000\", \"RED\": \"#ff0000\"})\n",
    "list(Color)"
   ]
  },
  {
   "cell_type": "code",
   "execution_count": null,
   "id": "c1a2a093-8441-49c3-940f-0575b1f71d7b",
   "metadata": {},
   "outputs": [],
   "source": []
  }
 ],
 "metadata": {
  "kernelspec": {
   "display_name": "Python 3 (ipykernel)",
   "language": "python",
   "name": "python3"
  },
  "language_info": {
   "codemirror_mode": {
    "name": "ipython",
    "version": 3
   },
   "file_extension": ".py",
   "mimetype": "text/x-python",
   "name": "python",
   "nbconvert_exporter": "python",
   "pygments_lexer": "ipython3",
   "version": "3.13.2"
  }
 },
 "nbformat": 4,
 "nbformat_minor": 5
}
