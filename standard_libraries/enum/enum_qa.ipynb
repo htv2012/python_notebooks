{
 "cells": [
  {
   "cell_type": "markdown",
   "metadata": {},
   "source": [
    "# Enum Q&A\n",
    "\n",
    "Python enums are simple on the surface, but packs some power underneath which makes it easier to use."
   ]
  },
  {
   "cell_type": "markdown",
   "metadata": {},
   "source": [
    "## How do I create an enum?\n",
    "\n",
    "There are two ways to create an enum, the first is to sub-class `enum.Enum`:"
   ]
  },
  {
   "cell_type": "code",
   "execution_count": 1,
   "metadata": {},
   "outputs": [
    {
     "name": "stdout",
     "output_type": "stream",
     "text": [
      "BrowserType.CHROME\n"
     ]
    }
   ],
   "source": [
    "import enum\n",
    "\n",
    "class BrowserType(enum.Enum):\n",
    "    CHROME = \"chrome\"\n",
    "    SAFARI = \"safari\"\n",
    "    \n",
    "print(BrowserType.CHROME)"
   ]
  },
  {
   "cell_type": "markdown",
   "metadata": {},
   "source": [
    "Note some terminology: \n",
    "\n",
    "- `BrowserType.CHROME` is a member\n",
    "- `CHROME` is called a name\n",
    "- `\"chrome\"` is a value.\n",
    "\n",
    "The second is to use `enum.Enum` as a function:"
   ]
  },
  {
   "cell_type": "code",
   "execution_count": 2,
   "metadata": {},
   "outputs": [
    {
     "name": "stdout",
     "output_type": "stream",
     "text": [
      "StreamingProtocol.HLS\n",
      "StreamingProtocol.DASH\n"
     ]
    }
   ],
   "source": [
    "import enum\n",
    "\n",
    "StreamingProtocol = enum.Enum(\"StreamingProtocol\", \"HLS DASH\")\n",
    "print(StreamingProtocol.HLS)\n",
    "print(StreamingProtocol.DASH)"
   ]
  },
  {
   "cell_type": "markdown",
   "metadata": {},
   "source": [
    "## How do I convert from a string value to an enum?\n",
    "\n",
    "Given the `BrowserType` enum, how do I convert from the string `\"chrome\"` to `BrowserType.CHROME`? The answer is easy:"
   ]
  },
  {
   "cell_type": "code",
   "execution_count": 3,
   "metadata": {},
   "outputs": [
    {
     "data": {
      "text/plain": [
       "<BrowserType.CHROME: 'chrome'>"
      ]
     },
     "execution_count": 3,
     "metadata": {},
     "output_type": "execute_result"
    }
   ],
   "source": [
    "BrowserType(\"chrome\")"
   ]
  },
  {
   "cell_type": "markdown",
   "metadata": {},
   "source": [
    "## Given an enum, how do I get its value?\n",
    "That is, given `BrowserType.SAFARI`, I want to get `\"safari\"`"
   ]
  },
  {
   "cell_type": "code",
   "execution_count": 4,
   "metadata": {},
   "outputs": [
    {
     "data": {
      "text/plain": [
       "'safari'"
      ]
     },
     "execution_count": 4,
     "metadata": {},
     "output_type": "execute_result"
    }
   ],
   "source": [
    "BrowserType.SAFARI.value"
   ]
  },
  {
   "cell_type": "markdown",
   "metadata": {},
   "source": [
    "## How do I convert from a string name to an enum?\n",
    "\n",
    "Given a string `\"CHROME\"`, how do I convert it to `BrowserType.CHROME`?"
   ]
  },
  {
   "cell_type": "code",
   "execution_count": 5,
   "metadata": {},
   "outputs": [
    {
     "data": {
      "text/plain": [
       "<BrowserType.CHROME: 'chrome'>"
      ]
     },
     "execution_count": 5,
     "metadata": {},
     "output_type": "execute_result"
    }
   ],
   "source": [
    "BrowserType[\"CHROME\"]"
   ]
  },
  {
   "cell_type": "markdown",
   "metadata": {},
   "source": [
    "## How do I get a list of names?\n",
    "\n",
    "An enum has an attribute `__members__` which is a mapping `{name: enum}`:"
   ]
  },
  {
   "cell_type": "code",
   "execution_count": 6,
   "metadata": {},
   "outputs": [
    {
     "data": {
      "text/plain": [
       "mappingproxy({'CHROME': <BrowserType.CHROME: 'chrome'>,\n",
       "              'SAFARI': <BrowserType.SAFARI: 'safari'>})"
      ]
     },
     "execution_count": 6,
     "metadata": {},
     "output_type": "execute_result"
    }
   ],
   "source": [
    "BrowserType.__members__"
   ]
  },
  {
   "cell_type": "markdown",
   "metadata": {},
   "source": [
    "To get a a list of names, convert that into a list:"
   ]
  },
  {
   "cell_type": "code",
   "execution_count": 7,
   "metadata": {},
   "outputs": [
    {
     "data": {
      "text/plain": [
       "['CHROME', 'SAFARI']"
      ]
     },
     "execution_count": 7,
     "metadata": {},
     "output_type": "execute_result"
    }
   ],
   "source": [
    "list(BrowserType.__members__)"
   ]
  },
  {
   "cell_type": "markdown",
   "metadata": {},
   "source": [
    "## How do I get a list of values?"
   ]
  },
  {
   "cell_type": "code",
   "execution_count": 8,
   "metadata": {},
   "outputs": [
    {
     "data": {
      "text/plain": [
       "['chrome', 'safari']"
      ]
     },
     "execution_count": 8,
     "metadata": {},
     "output_type": "execute_result"
    }
   ],
   "source": [
    "[e.value for e in BrowserType]"
   ]
  },
  {
   "cell_type": "markdown",
   "metadata": {},
   "source": [
    "## How do I iterate over all instances of an enum?"
   ]
  },
  {
   "cell_type": "code",
   "execution_count": 10,
   "metadata": {},
   "outputs": [
    {
     "name": "stdout",
     "output_type": "stream",
     "text": [
      "BrowserType.CHROME\n",
      "BrowserType.SAFARI\n"
     ]
    }
   ],
   "source": [
    "for browser in BrowserType:\n",
    "    print(browser)"
   ]
  },
  {
   "cell_type": "markdown",
   "metadata": {},
   "source": [
    "## Aliases\n",
    "\n",
    "Alias happens when we have many members which share the same value. Consider the following:"
   ]
  },
  {
   "cell_type": "code",
   "execution_count": 11,
   "metadata": {},
   "outputs": [],
   "source": [
    "class WeekDay(enum.StrEnum):\n",
    "    MON = \"Monday\"\n",
    "    TUE = \"Tuesday\"\n",
    "    WED = \"Wednesday\"\n",
    "    THU = \"Thursday\"\n",
    "    FRI = \"Friday\"\n",
    "    SAT = \"Saturday\"\n",
    "    SUN = \"Sunday\"\n",
    "    MONDAY = \"Monday\"\n",
    "    TUESDAY = \"Tuesday\"\n",
    "    WEDNESDAY = \"Wednesday\"\n",
    "    THURSDAY = \"Thursday\"\n",
    "    FRIDAY = \"Friday\"\n",
    "    SATURDAY = \"Saturday\"\n",
    "    SUNDAY = \"Sunday\""
   ]
  },
  {
   "cell_type": "markdown",
   "metadata": {},
   "source": [
    "In this case, `WeekDay.MONDAY` is an alias for `WeekDay.MON`. Note that when we iterate through an enum, aliases are not listed:"
   ]
  },
  {
   "cell_type": "code",
   "execution_count": 12,
   "metadata": {},
   "outputs": [
    {
     "data": {
      "text/plain": [
       "[<WeekDay.MON: 'Monday'>,\n",
       " <WeekDay.TUE: 'Tuesday'>,\n",
       " <WeekDay.WED: 'Wednesday'>,\n",
       " <WeekDay.THU: 'Thursday'>,\n",
       " <WeekDay.FRI: 'Friday'>,\n",
       " <WeekDay.SAT: 'Saturday'>,\n",
       " <WeekDay.SUN: 'Sunday'>]"
      ]
     },
     "execution_count": 12,
     "metadata": {},
     "output_type": "execute_result"
    }
   ],
   "source": [
    "list(WeekDay)"
   ]
  },
  {
   "cell_type": "markdown",
   "metadata": {},
   "source": [
    "If we want to iterate through both members and aliases:"
   ]
  },
  {
   "cell_type": "code",
   "execution_count": 14,
   "metadata": {},
   "outputs": [
    {
     "data": {
      "text/plain": [
       "mappingproxy({'MON': <WeekDay.MON: 'Monday'>,\n",
       "              'TUE': <WeekDay.TUE: 'Tuesday'>,\n",
       "              'WED': <WeekDay.WED: 'Wednesday'>,\n",
       "              'THU': <WeekDay.THU: 'Thursday'>,\n",
       "              'FRI': <WeekDay.FRI: 'Friday'>,\n",
       "              'SAT': <WeekDay.SAT: 'Saturday'>,\n",
       "              'SUN': <WeekDay.SUN: 'Sunday'>,\n",
       "              'MONDAY': <WeekDay.MON: 'Monday'>,\n",
       "              'TUESDAY': <WeekDay.TUE: 'Tuesday'>,\n",
       "              'WEDNESDAY': <WeekDay.WED: 'Wednesday'>,\n",
       "              'THURSDAY': <WeekDay.THU: 'Thursday'>,\n",
       "              'FRIDAY': <WeekDay.FRI: 'Friday'>,\n",
       "              'SATURDAY': <WeekDay.SAT: 'Saturday'>,\n",
       "              'SUNDAY': <WeekDay.SUN: 'Sunday'>})"
      ]
     },
     "execution_count": 14,
     "metadata": {},
     "output_type": "execute_result"
    }
   ],
   "source": [
    "WeekDay.__members__"
   ]
  },
  {
   "cell_type": "markdown",
   "metadata": {},
   "source": [
    "When we call an enum, it returns the member, not alias:"
   ]
  },
  {
   "cell_type": "code",
   "execution_count": 15,
   "metadata": {},
   "outputs": [
    {
     "data": {
      "text/plain": [
       "<WeekDay.MON: 'Monday'>"
      ]
     },
     "execution_count": 15,
     "metadata": {},
     "output_type": "execute_result"
    }
   ],
   "source": [
    "WeekDay('Monday')"
   ]
  },
  {
   "cell_type": "markdown",
   "metadata": {},
   "source": [
    "## Given a case-insensitive value, how can we return a member?"
   ]
  },
  {
   "cell_type": "code",
   "execution_count": 17,
   "metadata": {},
   "outputs": [
    {
     "name": "stdout",
     "output_type": "stream",
     "text": [
      "'monday' is not a valid WeekDay\n"
     ]
    }
   ],
   "source": [
    "# This will fail\n",
    "try:\n",
    "    WeekDay('monday')\n",
    "except ValueError as error:\n",
    "    print(error)"
   ]
  },
  {
   "cell_type": "markdown",
   "metadata": {},
   "source": [
    "The solution is to create a method named `_missing_()`, which gets called when value look-up failed:"
   ]
  },
  {
   "cell_type": "code",
   "execution_count": 18,
   "metadata": {},
   "outputs": [],
   "source": [
    "class WeekDay(enum.StrEnum):\n",
    "    MON = \"Monday\"\n",
    "    TUE = \"Tuesday\"\n",
    "    WED = \"Wednesday\"\n",
    "    THU = \"Thursday\"\n",
    "    FRI = \"Friday\"\n",
    "    SAT = \"Saturday\"\n",
    "    SUN = \"Sunday\"\n",
    "    MONDAY = \"Monday\"\n",
    "    TUESDAY = \"Tuesday\"\n",
    "    WEDNESDAY = \"Wednesday\"\n",
    "    THURSDAY = \"Thursday\"\n",
    "    FRIDAY = \"Friday\"\n",
    "    SATURDAY = \"Saturday\"\n",
    "    SUNDAY = \"Sunday\"\n",
    "\n",
    "    @classmethod\n",
    "    def _missing_(cls, value: str):\n",
    "        return cls(value.title())"
   ]
  },
  {
   "cell_type": "code",
   "execution_count": 19,
   "metadata": {},
   "outputs": [
    {
     "data": {
      "text/plain": [
       "<WeekDay.MON: 'Monday'>"
      ]
     },
     "execution_count": 19,
     "metadata": {},
     "output_type": "execute_result"
    }
   ],
   "source": [
    "# This still works\n",
    "WeekDay(\"Monday\")"
   ]
  },
  {
   "cell_type": "code",
   "execution_count": 20,
   "metadata": {},
   "outputs": [
    {
     "data": {
      "text/plain": [
       "<WeekDay.MON: 'Monday'>"
      ]
     },
     "execution_count": 20,
     "metadata": {},
     "output_type": "execute_result"
    }
   ],
   "source": [
    "# This now works, too.\n",
    "WeekDay('monday')"
   ]
  },
  {
   "cell_type": "markdown",
   "metadata": {},
   "source": [
    "## Given case insensitive name, how can we return a member?\n",
    "\n",
    "In this case, we should implement a case-insensitive meta class for the enum:"
   ]
  },
  {
   "cell_type": "code",
   "execution_count": 81,
   "metadata": {},
   "outputs": [
    {
     "name": "stdout",
     "output_type": "stream",
     "text": [
      "name='red' => <Color.Red: 1>\n",
      "name='cornflowerblue' => <Color.CornFlowerBlue: 4>\n",
      "name='BLUE' => <Color.Blue: 3>\n",
      "name='bleu' => <Color.Blue: 3>\n",
      "name='GReeN' => <Color.Green: 2>\n"
     ]
    }
   ],
   "source": [
    "import contextlib\n",
    "\n",
    "class CaseInsensitiveKey(enum.EnumMeta):\n",
    "    def __getitem__(self, name: str):\n",
    "        try:\n",
    "            return super().__getitem__(name)\n",
    "        except KeyError:\n",
    "            target = name.casefold()\n",
    "            for name, member in self.__members__.items():\n",
    "                if name.casefold() == target:\n",
    "                    return member\n",
    "            raise\n",
    "\n",
    "class Color(enum.IntEnum, metaclass=CaseInsensitiveKey):\n",
    "    Red = 1\n",
    "    Green = 2\n",
    "    Blue = 3\n",
    "    CornFlowerBlue = 4\n",
    "    Bleu = 3  # Alias for Blue\n",
    "\n",
    "# Test it out\n",
    "for name in ['red', 'cornflowerblue', 'BLUE', 'bleu', 'GReeN']:\n",
    "    print(f\"{name=} => {Color[name]!r}\")"
   ]
  },
  {
   "cell_type": "markdown",
   "metadata": {},
   "source": [
    "This meta class `CaseInsensitiveKey` can be reused for other classes as well:"
   ]
  },
  {
   "cell_type": "code",
   "execution_count": 82,
   "metadata": {},
   "outputs": [
    {
     "name": "stdout",
     "output_type": "stream",
     "text": [
      "name='unknown' => <PrinterType.UNKNOWN: 0>\n",
      "name='MonoChrome' => <PrinterType.MONOCHROME: 1>\n",
      "name='COLOR' => <PrinterType.COLOR: 2>\n"
     ]
    }
   ],
   "source": [
    "class PrinterType(enum.Enum, metaclass=CaseInsensitiveKey):\n",
    "    UNKNOWN = 0\n",
    "    MONOCHROME = 1\n",
    "    COLOR = 2\n",
    "\n",
    "# Test\n",
    "for name in ['unknown', 'MonoChrome', 'COLOR']:\n",
    "    print(f\"{name=} => {PrinterType[name]!r}\")"
   ]
  },
  {
   "cell_type": "code",
   "execution_count": null,
   "metadata": {},
   "outputs": [],
   "source": []
  }
 ],
 "metadata": {
  "kernelspec": {
   "display_name": "Python 3 (ipykernel)",
   "language": "python",
   "name": "python3"
  },
  "language_info": {
   "codemirror_mode": {
    "name": "ipython",
    "version": 3
   },
   "file_extension": ".py",
   "mimetype": "text/x-python",
   "name": "python",
   "nbconvert_exporter": "python",
   "pygments_lexer": "ipython3",
   "version": "3.13.2"
  }
 },
 "nbformat": 4,
 "nbformat_minor": 4
}
