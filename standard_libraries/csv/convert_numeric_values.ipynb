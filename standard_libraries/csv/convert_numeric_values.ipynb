{
 "cells": [
  {
   "cell_type": "markdown",
   "id": "9bb2402e-47ac-45e3-bb18-da5abc177b35",
   "metadata": {},
   "source": [
    "# Convert Numeric Values\n",
    "\n",
    "If we have a CSV file with all string values quoted and numeric values unquoted, then we can instruct the `csv` library to convert those values to strings and numeric values, respectively.\n",
    "\n",
    "Consider the following CSV file:"
   ]
  },
  {
   "cell_type": "code",
   "execution_count": 3,
   "id": "c7193d7a-b5e8-4770-b1bf-537173df19bd",
   "metadata": {},
   "outputs": [
    {
     "name": "stdout",
     "output_type": "stream",
     "text": [
      "\"uid\",\"alias\",\"shell\",\"rate\"\n",
      "501,\"karen\",\"zsh\",105.3\n",
      "502,\"john\",\"bash\",97.5\n",
      "\n"
     ]
    }
   ],
   "source": [
    "import csv\n",
    "import json\n",
    "import pathlib\n",
    "\n",
    "data_path = pathlib.Path(\"convert_numeric_values.csv\")\n",
    "print(data_path.read_text())"
   ]
  },
  {
   "cell_type": "markdown",
   "id": "49b3c87e-5f10-4df0-8880-8e2f06c1d0be",
   "metadata": {},
   "source": [
    "We can tell CSV to convert unquoted values to numeric:"
   ]
  },
  {
   "cell_type": "code",
   "execution_count": 4,
   "id": "b7d4c770-70de-4652-9841-8b1d421b2d06",
   "metadata": {},
   "outputs": [
    {
     "name": "stdout",
     "output_type": "stream",
     "text": [
      "['uid', 'alias', 'shell', 'rate']\n",
      "[501.0, 'karen', 'zsh', 105.3]\n",
      "[502.0, 'john', 'bash', 97.5]\n"
     ]
    }
   ],
   "source": [
    "with open(data_path) as stream:\n",
    "    reader = csv.reader(stream, quoting=csv.QUOTE_NONNUMERIC)\n",
    "    for row in reader:\n",
    "        print(row)"
   ]
  },
  {
   "cell_type": "markdown",
   "id": "6175e7b7-d12f-44b2-a013-713025aaa89b",
   "metadata": {},
   "source": [
    "Note that `csv` blindly convert numeric values into float. If we want to convert the UID column to int, we will have to do it ourselves. This is a limitation of the `csv` library."
   ]
  },
  {
   "cell_type": "markdown",
   "id": "02d5cb49-dc13-4a1d-b222-8b796dd79f77",
   "metadata": {},
   "source": [
    "## Convert Using JSON\n",
    "\n",
    "We can combine the `csv` and `json` library for a more precise conversion:"
   ]
  },
  {
   "cell_type": "code",
   "execution_count": 10,
   "id": "0db07b49-aaec-4efc-8b10-46fee4d7adb9",
   "metadata": {},
   "outputs": [
    {
     "name": "stdout",
     "output_type": "stream",
     "text": [
      "['uid', 'alias', 'shell', 'rate']\n",
      "[501, 'karen', 'zsh', 105.3]\n",
      "[502, 'john', 'bash', 97.5]\n"
     ]
    }
   ],
   "source": [
    "with open(data_path) as stream:\n",
    "    for row in csv.reader(stream, quoting=csv.QUOTE_NONE):\n",
    "        row = [json.loads(cell) for cell in row]\n",
    "        print(row)"
   ]
  },
  {
   "cell_type": "markdown",
   "id": "2c09287c-a7a1-4152-934d-59ff03bebf5e",
   "metadata": {},
   "source": [
    "The advantage of this method is the `json` library can understand more than just string and numeric, it can also understand boolean, for example. Consider the following data:"
   ]
  },
  {
   "cell_type": "code",
   "execution_count": 11,
   "id": "5327f90a-7374-4a1b-84a9-d6e179be2bd3",
   "metadata": {},
   "outputs": [],
   "source": [
    "raw = \"\"\"\n",
    "\"uid\",\"alias\",\"is_admin\"\n",
    "501,\"karen\",true\n",
    "502,\"john\",false\n",
    "\"\"\".strip().splitlines()"
   ]
  },
  {
   "cell_type": "markdown",
   "id": "8df9a9a9-9729-4a87-b77a-43aa085e8959",
   "metadata": {},
   "source": [
    "Conversion using `json` will result in the following data:"
   ]
  },
  {
   "cell_type": "code",
   "execution_count": 15,
   "id": "5f0b7491-0b0c-4181-b2dd-4cfef97c5098",
   "metadata": {},
   "outputs": [
    {
     "name": "stdout",
     "output_type": "stream",
     "text": [
      "['uid', 'alias', 'is_admin']\n",
      "[501, 'karen', True]\n",
      "[502, 'john', False]\n"
     ]
    }
   ],
   "source": [
    "for row in csv.reader(raw, quoting=csv.QUOTE_NONE):\n",
    "    row = [json.loads(cell) for cell in row]\n",
    "    print(row)"
   ]
  },
  {
   "cell_type": "code",
   "execution_count": null,
   "id": "42e5fc20-b2a8-4bed-bbe7-5320ea437d6d",
   "metadata": {},
   "outputs": [],
   "source": []
  }
 ],
 "metadata": {
  "kernelspec": {
   "display_name": "Python 3 (ipykernel)",
   "language": "python",
   "name": "python3"
  },
  "language_info": {
   "codemirror_mode": {
    "name": "ipython",
    "version": 3
   },
   "file_extension": ".py",
   "mimetype": "text/x-python",
   "name": "python",
   "nbconvert_exporter": "python",
   "pygments_lexer": "ipython3",
   "version": "3.10.12"
  }
 },
 "nbformat": 4,
 "nbformat_minor": 5
}
