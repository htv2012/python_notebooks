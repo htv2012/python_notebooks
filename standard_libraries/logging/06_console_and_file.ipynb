{
 "cells": [
  {
   "cell_type": "markdown",
   "metadata": {},
   "source": [
    "# Problem\n",
    "\n",
    "I want to be able to log to the console and a file at the same time\n",
    "\n",
    "# Solution 1: without Configuration File\n",
    "\n",
    "This solution is an expansion of example 4 (get logger from scratch) in which we add an additional handler to handle file output."
   ]
  },
  {
   "cell_type": "code",
   "execution_count": 1,
   "metadata": {
    "collapsed": false
   },
   "outputs": [
    {
     "name": "stderr",
     "output_type": "stream",
     "text": [
      "INFO: This is info\n",
      "DEBUG: This is debug\n"
     ]
    }
   ],
   "source": [
    "import logging\n",
    "\n",
    "# Create a logger and configure it\n",
    "logger = logging.getLogger(__name__)\n",
    "logger.setLevel(logging.DEBUG)\n",
    "\n",
    "# Create and configure the console handler\n",
    "handler = logging.StreamHandler()\n",
    "handler.setFormatter(logging.Formatter('%(levelname)s: %(message)s'))\n",
    "logger.addHandler(handler)\n",
    "\n",
    "# Create and configure the file handler\n",
    "file_handler = logging.FileHandler('06 Solution1.log')\n",
    "file_handler.setFormatter(logging.Formatter('%(levelname)s: %(message)s'))\n",
    "logger.addHandler(file_handler)\n",
    "\n",
    "# Try it out\n",
    "logger.info('This is info')\n",
    "logger.debug('This is debug')"
   ]
  },
  {
   "cell_type": "markdown",
   "metadata": {},
   "source": [
    "Notes\n",
    "\n",
    "* By default, a log file is created with mode `'a'`, meaning for appending. We can override this behavior by specifying a mode parameter:\n",
    "        file_handler = logging.FileHandler('06 Solution1.log', mode='w')\n",
    "* There are other kind of handlers we can add to our logger such as `RotatingFileHandler`, see [documentation] for detail\n",
    "* In this example, we configure the two handlers with the same formatter. In practice, we can have different formatters for different handlers. For example, the file handler might contain more fields, more details.\n",
    "\n",
    "[documentation]: https://docs.python.org/2/library/logging.handlers.html"
   ]
  },
  {
   "cell_type": "markdown",
   "metadata": {},
   "source": [
    "# Solution 2: Use Configuration File\n",
    "\n",
    "This solution is similar to example 5, using INI configuration file. The difference is in the logging.ini itself. Please review that file and see how it is done."
   ]
  },
  {
   "cell_type": "code",
   "execution_count": 2,
   "metadata": {
    "collapsed": false
   },
   "outputs": [
    {
     "name": "stdout",
     "output_type": "stream",
     "text": [
      "2016-12-06 06:10:46,742 - consoleAndFileLogger - DEBUG - This is debug\n"
     ]
    }
   ],
   "source": [
    "import logging\n",
    "import logging.config\n",
    "\n",
    "logging.config.fileConfig('logging.ini')\n",
    "logger = logging.getLogger('consoleAndFileLogger')\n",
    "\n",
    "logger.debug('This is debug')"
   ]
  },
  {
   "cell_type": "code",
   "execution_count": null,
   "metadata": {
    "collapsed": true
   },
   "outputs": [],
   "source": []
  }
 ],
 "metadata": {
  "anaconda-cloud": {},
  "kernelspec": {
   "display_name": "Python [conda root]",
   "language": "python",
   "name": "conda-root-py"
  },
  "language_info": {
   "codemirror_mode": {
    "name": "ipython",
    "version": 3
   },
   "file_extension": ".py",
   "mimetype": "text/x-python",
   "name": "python",
   "nbconvert_exporter": "python",
   "pygments_lexer": "ipython3",
   "version": "3.5.2"
  }
 },
 "nbformat": 4,
 "nbformat_minor": 1
}
