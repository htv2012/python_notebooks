{
 "cells": [
  {
   "cell_type": "markdown",
   "metadata": {},
   "source": [
    "# Problem\n",
    "\n",
    "I want to get a logger, but not using basicConfig\n",
    "\n",
    "# Solution\n",
    "\n",
    "`basicConfig` provides a simple way to configure the \"root\" logger, whose attributes are passed down to other loggers. By not using `basicConfig`, you don't touch the root logger; instead, you configure everything by yourself."
   ]
  },
  {
   "cell_type": "code",
   "execution_count": 1,
   "metadata": {
    "collapsed": false
   },
   "outputs": [
    {
     "name": "stderr",
     "output_type": "stream",
     "text": [
      "INFO: This is info\n",
      "DEBUG: This is debug\n"
     ]
    }
   ],
   "source": [
    "import logging\n",
    "\n",
    "# Create a logger and configure it\n",
    "logger = logging.getLogger(__name__)\n",
    "logger.setLevel(logging.DEBUG)\n",
    "\n",
    "# Configure one or more handlers, each with a formatter\n",
    "handler = logging.StreamHandler()\n",
    "handler.setFormatter(logging.Formatter('%(levelname)s: %(message)s'))\n",
    "logger.addHandler(handler)\n",
    "\n",
    "# Try it out\n",
    "logger.info('This is info')\n",
    "logger.debug('This is debug')"
   ]
  },
  {
   "cell_type": "markdown",
   "metadata": {},
   "source": [
    "# Discussion\n",
    "\n",
    "This solution bypassed `basicConfig` and it has a couple advantages for doing so. First, this solution does not touch the \"root\" logger, which might not be configured the way you like. Second, we can add as many handlers as we like because we have total control over our logger. The disadvantage is we are trading simple code for slightly more complex code.\n",
    "\n",
    "Note that we can add more than one handlers, each with its own level, format and filter (we will talk about filter in a separate article). For example, the console handler might display warnings and errors entries, while the file handler might displays everything, including debugging information."
   ]
  },
  {
   "cell_type": "code",
   "execution_count": null,
   "metadata": {
    "collapsed": true
   },
   "outputs": [],
   "source": []
  }
 ],
 "metadata": {
  "anaconda-cloud": {},
  "kernelspec": {
   "display_name": "Python [conda root]",
   "language": "python",
   "name": "conda-root-py"
  },
  "language_info": {
   "codemirror_mode": {
    "name": "ipython",
    "version": 3
   },
   "file_extension": ".py",
   "mimetype": "text/x-python",
   "name": "python",
   "nbconvert_exporter": "python",
   "pygments_lexer": "ipython3",
   "version": "3.5.2"
  }
 },
 "nbformat": 4,
 "nbformat_minor": 1
}
