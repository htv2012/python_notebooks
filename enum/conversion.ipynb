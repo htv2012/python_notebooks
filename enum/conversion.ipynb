{
 "cells": [
  {
   "cell_type": "markdown",
   "metadata": {},
   "source": [
    "# Convert between String Value and Enum"
   ]
  },
  {
   "cell_type": "code",
   "execution_count": 1,
   "metadata": {},
   "outputs": [],
   "source": [
    "import enum"
   ]
  },
  {
   "cell_type": "code",
   "execution_count": 40,
   "metadata": {},
   "outputs": [],
   "source": [
    "class Color(enum.Enum):\n",
    "    red = \"#ff0000\"\n",
    "    green = \"#00ff00\"\n",
    "    blue = \"#0000ff\"\n",
    "    \n",
    "    @classmethod\n",
    "    def from_value(cls, value):\n",
    "        for member in cls:\n",
    "            if member.value == value:\n",
    "                return member\n",
    "        raise ValueError(f\"{cls.__name__} does not have value {value!r}\")\n",
    "        \n",
    "    @classmethod\n",
    "    def from_name(cls, name):\n",
    "        for member in cls:\n",
    "            if member.name == name:\n",
    "                return member\n",
    "        raise ValueError(f\"{cls.__name__} does not have name {name!r}\")"
   ]
  },
  {
   "cell_type": "code",
   "execution_count": 41,
   "metadata": {},
   "outputs": [
    {
     "data": {
      "text/plain": [
       "<Color.blue: '#0000ff'>"
      ]
     },
     "execution_count": 41,
     "metadata": {},
     "output_type": "execute_result"
    }
   ],
   "source": [
    "# From string to enum\n",
    "Color.from_value(\"#0000ff\")"
   ]
  },
  {
   "cell_type": "code",
   "execution_count": 42,
   "metadata": {},
   "outputs": [
    {
     "name": "stdout",
     "output_type": "stream",
     "text": [
      "Color does not have value 'foo'\n"
     ]
    }
   ],
   "source": [
    "# Invalid string value\n",
    "try:\n",
    "    print(Color.from_value(\"foo\"))\n",
    "except ValueError as error:\n",
    "    print(error)"
   ]
  },
  {
   "cell_type": "code",
   "execution_count": 43,
   "metadata": {},
   "outputs": [
    {
     "data": {
      "text/plain": [
       "'#ff0000'"
      ]
     },
     "execution_count": 43,
     "metadata": {},
     "output_type": "execute_result"
    }
   ],
   "source": [
    "# From enum to string\n",
    "Color.red.value"
   ]
  },
  {
   "cell_type": "code",
   "execution_count": 44,
   "metadata": {},
   "outputs": [
    {
     "data": {
      "text/plain": [
       "<Color.green: '#00ff00'>"
      ]
     },
     "execution_count": 44,
     "metadata": {},
     "output_type": "execute_result"
    }
   ],
   "source": [
    "# From name to enum\n",
    "Color.from_name(\"green\")"
   ]
  },
  {
   "cell_type": "code",
   "execution_count": 45,
   "metadata": {},
   "outputs": [
    {
     "name": "stdout",
     "output_type": "stream",
     "text": [
      "Color does not have name 'bar'\n"
     ]
    }
   ],
   "source": [
    "# Invalid name\n",
    "try:\n",
    "    print(Color.from_name(\"bar\"))\n",
    "except ValueError as error:\n",
    "    print(error)"
   ]
  },
  {
   "cell_type": "code",
   "execution_count": null,
   "metadata": {},
   "outputs": [],
   "source": []
  }
 ],
 "metadata": {
  "kernelspec": {
   "display_name": "Python 3",
   "language": "python",
   "name": "python3"
  },
  "language_info": {
   "codemirror_mode": {
    "name": "ipython",
    "version": 3
   },
   "file_extension": ".py",
   "mimetype": "text/x-python",
   "name": "python",
   "nbconvert_exporter": "python",
   "pygments_lexer": "ipython3",
   "version": "3.7.3"
  }
 },
 "nbformat": 4,
 "nbformat_minor": 4
}
