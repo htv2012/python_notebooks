{
 "cells": [
  {
   "cell_type": "markdown",
   "metadata": {},
   "source": [
    "# Enum Q&A\n",
    "\n",
    "Python enums are simple on the surface, but packs some power underneath which makes it easier to use."
   ]
  },
  {
   "cell_type": "markdown",
   "metadata": {},
   "source": [
    "## How do I create an enum?\n",
    "\n",
    "There are two ways to create an enum, the first is to sub-class `enum.Enum`:"
   ]
  },
  {
   "cell_type": "code",
   "execution_count": 1,
   "metadata": {},
   "outputs": [
    {
     "name": "stdout",
     "output_type": "stream",
     "text": [
      "BrowserType.CHROME\n"
     ]
    }
   ],
   "source": [
    "import enum\n",
    "\n",
    "class BrowserType(enum.Enum):\n",
    "    CHROME = \"chrome\"\n",
    "    SAFARI = \"safari\"\n",
    "    \n",
    "print(BrowserType.CHROME)"
   ]
  },
  {
   "cell_type": "markdown",
   "metadata": {},
   "source": [
    "Note some terminology: `CHROME` is called a name, and `\"chrome\"` is a value.\n",
    "\n",
    "The second is to use `enum.Enum` as a function:"
   ]
  },
  {
   "cell_type": "code",
   "execution_count": 2,
   "metadata": {},
   "outputs": [
    {
     "name": "stdout",
     "output_type": "stream",
     "text": [
      "StreamingProtocol.HLS\n",
      "StreamingProtocol.DASH\n"
     ]
    }
   ],
   "source": [
    "import enum\n",
    "\n",
    "StreamingProtocol = enum.Enum(\"StreamingProtocol\", \"HLS DASH\")\n",
    "print(StreamingProtocol.HLS)\n",
    "print(StreamingProtocol.DASH)"
   ]
  },
  {
   "cell_type": "markdown",
   "metadata": {},
   "source": [
    "## How do I convert from a string value to an enum?\n",
    "\n",
    "Given the `BrowserType` enum, how do I convert from the string `\"chrome\"` to `BrowserType.CHROME`? The answer is easy:"
   ]
  },
  {
   "cell_type": "code",
   "execution_count": 3,
   "metadata": {},
   "outputs": [
    {
     "data": {
      "text/plain": [
       "<BrowserType.CHROME: 'chrome'>"
      ]
     },
     "execution_count": 3,
     "metadata": {},
     "output_type": "execute_result"
    }
   ],
   "source": [
    "BrowserType(\"chrome\")"
   ]
  },
  {
   "cell_type": "markdown",
   "metadata": {},
   "source": [
    "## Given an enum, how do I get its value?\n",
    "That is, given `BrowserType.SAFARI`, I want to get `\"safari\"`"
   ]
  },
  {
   "cell_type": "code",
   "execution_count": 4,
   "metadata": {},
   "outputs": [
    {
     "data": {
      "text/plain": [
       "'safari'"
      ]
     },
     "execution_count": 4,
     "metadata": {},
     "output_type": "execute_result"
    }
   ],
   "source": [
    "BrowserType.SAFARI.value"
   ]
  },
  {
   "cell_type": "markdown",
   "metadata": {},
   "source": [
    "## How do I convert from a string name to an enum?\n",
    "\n",
    "Given a string `\"CHROME\"`, how do I convert it to `BrowserType.CHROME`?"
   ]
  },
  {
   "cell_type": "code",
   "execution_count": 5,
   "metadata": {},
   "outputs": [
    {
     "data": {
      "text/plain": [
       "<BrowserType.CHROME: 'chrome'>"
      ]
     },
     "execution_count": 5,
     "metadata": {},
     "output_type": "execute_result"
    }
   ],
   "source": [
    "BrowserType[\"CHROME\"]"
   ]
  },
  {
   "cell_type": "markdown",
   "metadata": {},
   "source": [
    "## How do I get a list of names?\n",
    "\n",
    "An enum has an attribute `__members__` which is a mapping `{name: enum}`:"
   ]
  },
  {
   "cell_type": "code",
   "execution_count": 6,
   "metadata": {},
   "outputs": [
    {
     "data": {
      "text/plain": [
       "mappingproxy({'CHROME': <BrowserType.CHROME: 'chrome'>,\n",
       "              'SAFARI': <BrowserType.SAFARI: 'safari'>})"
      ]
     },
     "execution_count": 6,
     "metadata": {},
     "output_type": "execute_result"
    }
   ],
   "source": [
    "BrowserType.__members__"
   ]
  },
  {
   "cell_type": "markdown",
   "metadata": {},
   "source": [
    "To get a a list of names, convert that into a list:"
   ]
  },
  {
   "cell_type": "code",
   "execution_count": 7,
   "metadata": {},
   "outputs": [
    {
     "data": {
      "text/plain": [
       "['CHROME', 'SAFARI']"
      ]
     },
     "execution_count": 7,
     "metadata": {},
     "output_type": "execute_result"
    }
   ],
   "source": [
    "list(BrowserType.__members__)"
   ]
  },
  {
   "cell_type": "markdown",
   "metadata": {},
   "source": [
    "## How do I get a list of values?"
   ]
  },
  {
   "cell_type": "code",
   "execution_count": 8,
   "metadata": {},
   "outputs": [
    {
     "data": {
      "text/plain": [
       "['chrome', 'safari']"
      ]
     },
     "execution_count": 8,
     "metadata": {},
     "output_type": "execute_result"
    }
   ],
   "source": [
    "[e.value for e in BrowserType]"
   ]
  },
  {
   "cell_type": "markdown",
   "metadata": {},
   "source": [
    "## How do I iterate over all instances of an enum?"
   ]
  },
  {
   "cell_type": "code",
   "execution_count": 11,
   "metadata": {},
   "outputs": [
    {
     "name": "stdout",
     "output_type": "stream",
     "text": [
      "BrowserType.CHROME\n",
      "BrowserType.SAFARI\n"
     ]
    }
   ],
   "source": [
    "for browser in BrowserType:\n",
    "    print(browser)"
   ]
  },
  {
   "cell_type": "markdown",
   "metadata": {},
   "source": [
    "## How do I ensure uniqueness of the values?\n",
    "\n",
    "We can decorate a declaration with `enum.unique`:"
   ]
  },
  {
   "cell_type": "code",
   "execution_count": 15,
   "metadata": {},
   "outputs": [],
   "source": [
    "import enum\n",
    "\n",
    "@enum.unique\n",
    "class StatusColor(enum.Enum):\n",
    "    PASSED = \"green\"\n",
    "    FAILED = \"red\"    "
   ]
  },
  {
   "cell_type": "code",
   "execution_count": null,
   "metadata": {},
   "outputs": [],
   "source": []
  }
 ],
 "metadata": {
  "kernelspec": {
   "display_name": "Python 3",
   "language": "python",
   "name": "python3"
  },
  "language_info": {
   "codemirror_mode": {
    "name": "ipython",
    "version": 3
   },
   "file_extension": ".py",
   "mimetype": "text/x-python",
   "name": "python",
   "nbconvert_exporter": "python",
   "pygments_lexer": "ipython3",
   "version": "3.7.3"
  }
 },
 "nbformat": 4,
 "nbformat_minor": 4
}
